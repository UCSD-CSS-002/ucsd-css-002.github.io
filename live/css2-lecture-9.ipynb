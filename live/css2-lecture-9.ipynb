{
 "cells": [
  {
   "cell_type": "markdown",
   "id": "norman-bacon",
   "metadata": {},
   "source": [
    "# This week\n",
    "\n",
    "- **no lab assignments**.  Labtime spent on going over past assignments and problem sets as you need (i.e., one question from a while back was: can we go over previous assignments to find efficient ways to do things, that will be our agenda).\n",
    "\n",
    "- one problem set, which is also the final, due Saturday at midnight (to be released later today)"
   ]
  },
  {
   "cell_type": "markdown",
   "id": "median-winter",
   "metadata": {},
   "source": [
    "# Unsupervised learning\n",
    "\n",
    "General formulation: we have complicated data, and we would like the computer to come up with a *simpler* representation of the data while retaining all the important information.\n",
    "\n",
    "The most common varieties are dimensionality reduction and clustering.\n",
    "\n",
    "Tradeoff: simpler representation vs more information retained."
   ]
  },
  {
   "cell_type": "markdown",
   "id": "detected-narrative",
   "metadata": {},
   "source": [
    "# Dimensionality reduction\n",
    "\n",
    "Goal: find a low dimensional numeric representation of some originally high-dimensional, numeric data.\n",
    "\n",
    "We will talk about PCA in particular, although there are many different models for dimensionality reduction."
   ]
  },
  {
   "cell_type": "code",
   "execution_count": 1,
   "id": "recorded-programming",
   "metadata": {},
   "outputs": [],
   "source": [
    "import pandas as pd\n",
    "import numpy as np\n",
    "import matplotlib.pyplot as plt"
   ]
  },
  {
   "cell_type": "markdown",
   "id": "dramatic-humor",
   "metadata": {},
   "source": [
    "## Principal Component Analysis\n",
    "\n",
    "Goal: find orthogonal directions in original feature space, in order of how much variance they can capture."
   ]
  },
  {
   "cell_type": "code",
   "execution_count": 2,
   "id": "attended-contemporary",
   "metadata": {},
   "outputs": [],
   "source": [
    "from sklearn.decomposition import PCA"
   ]
  },
  {
   "cell_type": "code",
   "execution_count": 175,
   "id": "special-antenna",
   "metadata": {},
   "outputs": [],
   "source": [
    "bf = pd.read_csv('bodyfat.csv')\n",
    "bf = bf[['height', 'weight']]"
   ]
  },
  {
   "cell_type": "code",
   "execution_count": 176,
   "id": "defined-combine",
   "metadata": {},
   "outputs": [
    {
     "data": {
      "text/html": [
       "<div>\n",
       "<style scoped>\n",
       "    .dataframe tbody tr th:only-of-type {\n",
       "        vertical-align: middle;\n",
       "    }\n",
       "\n",
       "    .dataframe tbody tr th {\n",
       "        vertical-align: top;\n",
       "    }\n",
       "\n",
       "    .dataframe thead th {\n",
       "        text-align: right;\n",
       "    }\n",
       "</style>\n",
       "<table border=\"1\" class=\"dataframe\">\n",
       "  <thead>\n",
       "    <tr style=\"text-align: right;\">\n",
       "      <th></th>\n",
       "      <th>height</th>\n",
       "      <th>weight</th>\n",
       "    </tr>\n",
       "  </thead>\n",
       "  <tbody>\n",
       "    <tr>\n",
       "      <th>0</th>\n",
       "      <td>67.75</td>\n",
       "      <td>154.25</td>\n",
       "    </tr>\n",
       "    <tr>\n",
       "      <th>1</th>\n",
       "      <td>72.25</td>\n",
       "      <td>173.25</td>\n",
       "    </tr>\n",
       "    <tr>\n",
       "      <th>2</th>\n",
       "      <td>66.25</td>\n",
       "      <td>154.00</td>\n",
       "    </tr>\n",
       "    <tr>\n",
       "      <th>3</th>\n",
       "      <td>72.25</td>\n",
       "      <td>184.75</td>\n",
       "    </tr>\n",
       "    <tr>\n",
       "      <th>4</th>\n",
       "      <td>71.25</td>\n",
       "      <td>184.25</td>\n",
       "    </tr>\n",
       "    <tr>\n",
       "      <th>...</th>\n",
       "      <td>...</td>\n",
       "      <td>...</td>\n",
       "    </tr>\n",
       "    <tr>\n",
       "      <th>247</th>\n",
       "      <td>67.00</td>\n",
       "      <td>134.25</td>\n",
       "    </tr>\n",
       "    <tr>\n",
       "      <th>248</th>\n",
       "      <td>69.75</td>\n",
       "      <td>201.00</td>\n",
       "    </tr>\n",
       "    <tr>\n",
       "      <th>249</th>\n",
       "      <td>66.00</td>\n",
       "      <td>186.75</td>\n",
       "    </tr>\n",
       "    <tr>\n",
       "      <th>250</th>\n",
       "      <td>70.50</td>\n",
       "      <td>190.75</td>\n",
       "    </tr>\n",
       "    <tr>\n",
       "      <th>251</th>\n",
       "      <td>70.00</td>\n",
       "      <td>207.50</td>\n",
       "    </tr>\n",
       "  </tbody>\n",
       "</table>\n",
       "<p>251 rows × 2 columns</p>\n",
       "</div>"
      ],
      "text/plain": [
       "     height  weight\n",
       "0     67.75  154.25\n",
       "1     72.25  173.25\n",
       "2     66.25  154.00\n",
       "3     72.25  184.75\n",
       "4     71.25  184.25\n",
       "..      ...     ...\n",
       "247   67.00  134.25\n",
       "248   69.75  201.00\n",
       "249   66.00  186.75\n",
       "250   70.50  190.75\n",
       "251   70.00  207.50\n",
       "\n",
       "[251 rows x 2 columns]"
      ]
     },
     "execution_count": 176,
     "metadata": {},
     "output_type": "execute_result"
    }
   ],
   "source": [
    "bf = bf[bf['height']>30]\n",
    "bf"
   ]
  },
  {
   "cell_type": "code",
   "execution_count": 177,
   "id": "architectural-barbados",
   "metadata": {},
   "outputs": [
    {
     "data": {
      "text/plain": [
       "Text(0, 0.5, 'weight')"
      ]
     },
     "execution_count": 177,
     "metadata": {},
     "output_type": "execute_result"
    },
    {
     "data": {
      "image/png": "[encoded data removed]",
      "text/plain": [
       "<Figure size 432x288 with 1 Axes>"
      ]
     },
     "metadata": {
      "needs_background": "light"
     },
     "output_type": "display_data"
    }
   ],
   "source": [
    "plt.scatter(bf['height'], bf['weight'])\n",
    "plt.xlabel('height')\n",
    "plt.ylabel('weight')\n"
   ]
  },
  {
   "cell_type": "code",
   "execution_count": 179,
   "id": "fleet-affiliation",
   "metadata": {},
   "outputs": [
    {
     "data": {
      "text/plain": [
       "PCA()"
      ]
     },
     "execution_count": 179,
     "metadata": {},
     "output_type": "execute_result"
    }
   ],
   "source": [
    "pca = PCA()\n",
    "pca.fit(bf)"
   ]
  },
  {
   "cell_type": "code",
   "execution_count": 181,
   "id": "permanent-sodium",
   "metadata": {},
   "outputs": [
    {
     "data": {
      "text/plain": [
       "['components_',\n",
       " 'copy',\n",
       " 'explained_variance_',\n",
       " 'explained_variance_ratio_',\n",
       " 'fit',\n",
       " 'fit_transform',\n",
       " 'get_covariance',\n",
       " 'get_params',\n",
       " 'get_precision',\n",
       " 'inverse_transform',\n",
       " 'iterated_power',\n",
       " 'mean_',\n",
       " 'n_components',\n",
       " 'n_components_',\n",
       " 'n_features_',\n",
       " 'n_features_in_',\n",
       " 'n_samples_',\n",
       " 'noise_variance_',\n",
       " 'random_state',\n",
       " 'score',\n",
       " 'score_samples',\n",
       " 'set_params',\n",
       " 'singular_values_',\n",
       " 'svd_solver',\n",
       " 'tol',\n",
       " 'transform',\n",
       " 'whiten']"
      ]
     },
     "execution_count": 181,
     "metadata": {},
     "output_type": "execute_result"
    }
   ],
   "source": [
    "[f for f in dir(pca) if f[0].isalpha()]"
   ]
  },
  {
   "cell_type": "code",
   "execution_count": 183,
   "id": "distinct-professional",
   "metadata": {},
   "outputs": [
    {
     "data": {
      "text/plain": [
       "2"
      ]
     },
     "execution_count": 183,
     "metadata": {},
     "output_type": "execute_result"
    }
   ],
   "source": [
    "pca.n_components_"
   ]
  },
  {
   "cell_type": "code",
   "execution_count": 187,
   "id": "color-grade",
   "metadata": {},
   "outputs": [
    {
     "data": {
      "text/plain": [
       "array([[ 0.04368801,  0.99904522],\n",
       "       [-0.99904522,  0.04368801]])"
      ]
     },
     "execution_count": 187,
     "metadata": {},
     "output_type": "execute_result"
    }
   ],
   "source": [
    "pca.components_"
   ]
  },
  {
   "cell_type": "code",
   "execution_count": 188,
   "id": "embedded-planning",
   "metadata": {},
   "outputs": [
    {
     "data": {
      "text/plain": [
       "array([866.09017544,   5.19139572])"
      ]
     },
     "execution_count": 188,
     "metadata": {},
     "output_type": "execute_result"
    }
   ],
   "source": [
    "pca.explained_variance_"
   ]
  },
  {
   "cell_type": "code",
   "execution_count": 189,
   "id": "removable-protest",
   "metadata": {},
   "outputs": [
    {
     "data": {
      "text/plain": [
       "array([0.99404166, 0.00595834])"
      ]
     },
     "execution_count": 189,
     "metadata": {},
     "output_type": "execute_result"
    }
   ],
   "source": [
    "pca.explained_variance_ratio_"
   ]
  },
  {
   "cell_type": "code",
   "execution_count": 190,
   "id": "coordinated-saturday",
   "metadata": {},
   "outputs": [
    {
     "data": {
      "text/plain": [
       "height      6.834544\n",
       "weight    864.447027\n",
       "dtype: float64"
      ]
     },
     "execution_count": 190,
     "metadata": {},
     "output_type": "execute_result"
    }
   ],
   "source": [
    "bf.var()"
   ]
  },
  {
   "cell_type": "markdown",
   "id": "interracial-branch",
   "metadata": {},
   "source": [
    "### Scaling\n",
    "\n",
    "How do we compare variance across features?  Why do we assume lbs^2 are the same units as inches^2?  that doesnt make sense.\n",
    "\n",
    "$z_i = (x_i - \\bar x)/s_x$"
   ]
  },
  {
   "cell_type": "code",
   "execution_count": 197,
   "id": "warming-expert",
   "metadata": {},
   "outputs": [
    {
     "data": {
      "text/plain": [
       "height      7.031076e+01\n",
       "weight      1.788205e+02\n",
       "height_z    2.164493e-15\n",
       "weight_z   -8.169649e-16\n",
       "dtype: float64"
      ]
     },
     "execution_count": 197,
     "metadata": {},
     "output_type": "execute_result"
    }
   ],
   "source": [
    "bf.mean()"
   ]
  },
  {
   "cell_type": "code",
   "execution_count": 191,
   "id": "global-refrigerator",
   "metadata": {},
   "outputs": [],
   "source": [
    "m = bf.mean()\n",
    "s = bf.std()"
   ]
  },
  {
   "cell_type": "code",
   "execution_count": 194,
   "id": "acknowledged-flooring",
   "metadata": {},
   "outputs": [],
   "source": [
    "for c in ['height', 'weight']:\n",
    "    newc = c + '_z'\n",
    "    bf[newc] = (bf[c]-m[c])/s[c]\n",
    "    "
   ]
  },
  {
   "cell_type": "code",
   "execution_count": 195,
   "id": "oriental-company",
   "metadata": {},
   "outputs": [
    {
     "data": {
      "text/html": [
       "<div>\n",
       "<style scoped>\n",
       "    .dataframe tbody tr th:only-of-type {\n",
       "        vertical-align: middle;\n",
       "    }\n",
       "\n",
       "    .dataframe tbody tr th {\n",
       "        vertical-align: top;\n",
       "    }\n",
       "\n",
       "    .dataframe thead th {\n",
       "        text-align: right;\n",
       "    }\n",
       "</style>\n",
       "<table border=\"1\" class=\"dataframe\">\n",
       "  <thead>\n",
       "    <tr style=\"text-align: right;\">\n",
       "      <th></th>\n",
       "      <th>height</th>\n",
       "      <th>weight</th>\n",
       "      <th>height_z</th>\n",
       "      <th>weight_z</th>\n",
       "    </tr>\n",
       "  </thead>\n",
       "  <tbody>\n",
       "    <tr>\n",
       "      <th>0</th>\n",
       "      <td>67.75</td>\n",
       "      <td>154.25</td>\n",
       "      <td>-0.979521</td>\n",
       "      <td>-0.835690</td>\n",
       "    </tr>\n",
       "    <tr>\n",
       "      <th>1</th>\n",
       "      <td>72.25</td>\n",
       "      <td>173.25</td>\n",
       "      <td>0.741784</td>\n",
       "      <td>-0.189464</td>\n",
       "    </tr>\n",
       "    <tr>\n",
       "      <th>2</th>\n",
       "      <td>66.25</td>\n",
       "      <td>154.00</td>\n",
       "      <td>-1.553289</td>\n",
       "      <td>-0.844193</td>\n",
       "    </tr>\n",
       "    <tr>\n",
       "      <th>3</th>\n",
       "      <td>72.25</td>\n",
       "      <td>184.75</td>\n",
       "      <td>0.741784</td>\n",
       "      <td>0.201673</td>\n",
       "    </tr>\n",
       "    <tr>\n",
       "      <th>4</th>\n",
       "      <td>71.25</td>\n",
       "      <td>184.25</td>\n",
       "      <td>0.359272</td>\n",
       "      <td>0.184667</td>\n",
       "    </tr>\n",
       "    <tr>\n",
       "      <th>...</th>\n",
       "      <td>...</td>\n",
       "      <td>...</td>\n",
       "      <td>...</td>\n",
       "      <td>...</td>\n",
       "    </tr>\n",
       "    <tr>\n",
       "      <th>247</th>\n",
       "      <td>67.00</td>\n",
       "      <td>134.25</td>\n",
       "      <td>-1.266405</td>\n",
       "      <td>-1.515928</td>\n",
       "    </tr>\n",
       "    <tr>\n",
       "      <th>248</th>\n",
       "      <td>69.75</td>\n",
       "      <td>201.00</td>\n",
       "      <td>-0.214496</td>\n",
       "      <td>0.754366</td>\n",
       "    </tr>\n",
       "    <tr>\n",
       "      <th>249</th>\n",
       "      <td>66.00</td>\n",
       "      <td>186.75</td>\n",
       "      <td>-1.648917</td>\n",
       "      <td>0.269697</td>\n",
       "    </tr>\n",
       "    <tr>\n",
       "      <th>250</th>\n",
       "      <td>70.50</td>\n",
       "      <td>190.75</td>\n",
       "      <td>0.072388</td>\n",
       "      <td>0.405744</td>\n",
       "    </tr>\n",
       "    <tr>\n",
       "      <th>251</th>\n",
       "      <td>70.00</td>\n",
       "      <td>207.50</td>\n",
       "      <td>-0.118868</td>\n",
       "      <td>0.975443</td>\n",
       "    </tr>\n",
       "  </tbody>\n",
       "</table>\n",
       "<p>251 rows × 4 columns</p>\n",
       "</div>"
      ],
      "text/plain": [
       "     height  weight  height_z  weight_z\n",
       "0     67.75  154.25 -0.979521 -0.835690\n",
       "1     72.25  173.25  0.741784 -0.189464\n",
       "2     66.25  154.00 -1.553289 -0.844193\n",
       "3     72.25  184.75  0.741784  0.201673\n",
       "4     71.25  184.25  0.359272  0.184667\n",
       "..      ...     ...       ...       ...\n",
       "247   67.00  134.25 -1.266405 -1.515928\n",
       "248   69.75  201.00 -0.214496  0.754366\n",
       "249   66.00  186.75 -1.648917  0.269697\n",
       "250   70.50  190.75  0.072388  0.405744\n",
       "251   70.00  207.50 -0.118868  0.975443\n",
       "\n",
       "[251 rows x 4 columns]"
      ]
     },
     "execution_count": 195,
     "metadata": {},
     "output_type": "execute_result"
    }
   ],
   "source": [
    "bf"
   ]
  },
  {
   "cell_type": "code",
   "execution_count": 199,
   "id": "instant-meter",
   "metadata": {},
   "outputs": [
    {
     "data": {
      "text/plain": [
       "Text(0, 0.5, 'weight (z-score)')"
      ]
     },
     "execution_count": 199,
     "metadata": {},
     "output_type": "execute_result"
    },
    {
     "data": {
      "image/png": "[encoded data removed]",
      "text/plain": [
       "<Figure size 432x288 with 1 Axes>"
      ]
     },
     "metadata": {
      "needs_background": "light"
     },
     "output_type": "display_data"
    }
   ],
   "source": [
    "plt.scatter(bf['height_z'], bf['weight_z'])\n",
    "\n",
    "plt.xlabel('height (z-score)')\n",
    "plt.ylabel('weight (z-score)')"
   ]
  },
  {
   "cell_type": "code",
   "execution_count": 200,
   "id": "bottom-hepatitis",
   "metadata": {},
   "outputs": [
    {
     "data": {
      "text/plain": [
       "height        6.834544\n",
       "weight      864.447027\n",
       "height_z      1.000000\n",
       "weight_z      1.000000\n",
       "dtype: float64"
      ]
     },
     "execution_count": 200,
     "metadata": {},
     "output_type": "execute_result"
    }
   ],
   "source": [
    "bf.var()"
   ]
  },
  {
   "cell_type": "code",
   "execution_count": 201,
   "id": "senior-cooking",
   "metadata": {},
   "outputs": [
    {
     "data": {
      "text/plain": [
       "PCA()"
      ]
     },
     "execution_count": 201,
     "metadata": {},
     "output_type": "execute_result"
    }
   ],
   "source": [
    "features = ['height_z', 'weight_z']\n",
    "pca = PCA()\n",
    "pca.fit(bf[features])"
   ]
  },
  {
   "cell_type": "code",
   "execution_count": 203,
   "id": "independent-organ",
   "metadata": {},
   "outputs": [
    {
     "data": {
      "text/plain": [
       "array([[ 0.70710678,  0.70710678],\n",
       "       [-0.70710678,  0.70710678]])"
      ]
     },
     "execution_count": 203,
     "metadata": {},
     "output_type": "execute_result"
    }
   ],
   "source": [
    "pca.components_"
   ]
  },
  {
   "cell_type": "code",
   "execution_count": 205,
   "id": "senior-prisoner",
   "metadata": {},
   "outputs": [
    {
     "data": {
      "text/plain": [
       "array([0.74442498, 0.25557502])"
      ]
     },
     "execution_count": 205,
     "metadata": {},
     "output_type": "execute_result"
    }
   ],
   "source": [
    "pca.explained_variance_ratio_"
   ]
  },
  {
   "cell_type": "code",
   "execution_count": 207,
   "id": "tender-contractor",
   "metadata": {},
   "outputs": [
    {
     "data": {
      "text/plain": [
       "(-2.676918315518091,\n",
       " 3.1085779421300144,\n",
       " -2.4676655012072577,\n",
       " 6.6854451524913845)"
      ]
     },
     "execution_count": 207,
     "metadata": {},
     "output_type": "execute_result"
    },
    {
     "data": {
      "image/png": "[encoded data removed]",
      "text/plain": [
       "<Figure size 432x288 with 1 Axes>"
      ]
     },
     "metadata": {
      "needs_background": "light"
     },
     "output_type": "display_data"
    }
   ],
   "source": [
    "def draw_vector(v0, v1, ax=None):\n",
    "    ax = ax or plt.gca()\n",
    "    arrowprops=dict(arrowstyle='->',\n",
    "                    linewidth=2,\n",
    "                    shrinkA=0, shrinkB=0)\n",
    "    ax.annotate('', v1, v0, arrowprops=arrowprops)\n",
    "\n",
    "# plot data\n",
    "plt.scatter(bf['height_z'], bf['weight_z'])\n",
    "\n",
    "for length, vector in zip(pca.explained_variance_, pca.components_):\n",
    "    v = vector * 3 * np.sqrt(length)\n",
    "    draw_vector(pca.mean_, pca.mean_ + v)\n",
    "\n",
    "plt.xlabel('height (z-score)')\n",
    "plt.ylabel('weight (z-score)')\n",
    "\n",
    "plt.axis('equal')"
   ]
  },
  {
   "cell_type": "code",
   "execution_count": 213,
   "id": "champion-stewart",
   "metadata": {},
   "outputs": [
    {
     "data": {
      "text/plain": [
       "array([[-1.28354764,  0.10170375],\n",
       "       [ 0.39054933, -0.65849169],\n",
       "       [-1.69527556,  0.50140664]])"
      ]
     },
     "execution_count": 213,
     "metadata": {},
     "output_type": "execute_result"
    }
   ],
   "source": [
    "pca.transform(bf[features].iloc[0:3,:])"
   ]
  },
  {
   "cell_type": "code",
   "execution_count": 240,
   "id": "roman-raleigh",
   "metadata": {},
   "outputs": [
    {
     "data": {
      "text/html": [
       "<div>\n",
       "<style scoped>\n",
       "    .dataframe tbody tr th:only-of-type {\n",
       "        vertical-align: middle;\n",
       "    }\n",
       "\n",
       "    .dataframe tbody tr th {\n",
       "        vertical-align: top;\n",
       "    }\n",
       "\n",
       "    .dataframe thead th {\n",
       "        text-align: right;\n",
       "    }\n",
       "</style>\n",
       "<table border=\"1\" class=\"dataframe\">\n",
       "  <thead>\n",
       "    <tr style=\"text-align: right;\">\n",
       "      <th></th>\n",
       "      <th>height</th>\n",
       "      <th>weight</th>\n",
       "      <th>height_z</th>\n",
       "      <th>weight_z</th>\n",
       "    </tr>\n",
       "  </thead>\n",
       "  <tbody>\n",
       "    <tr>\n",
       "      <th>0</th>\n",
       "      <td>67.75</td>\n",
       "      <td>154.25</td>\n",
       "      <td>-0.979521</td>\n",
       "      <td>-0.835690</td>\n",
       "    </tr>\n",
       "    <tr>\n",
       "      <th>1</th>\n",
       "      <td>72.25</td>\n",
       "      <td>173.25</td>\n",
       "      <td>0.741784</td>\n",
       "      <td>-0.189464</td>\n",
       "    </tr>\n",
       "    <tr>\n",
       "      <th>2</th>\n",
       "      <td>66.25</td>\n",
       "      <td>154.00</td>\n",
       "      <td>-1.553289</td>\n",
       "      <td>-0.844193</td>\n",
       "    </tr>\n",
       "  </tbody>\n",
       "</table>\n",
       "</div>"
      ],
      "text/plain": [
       "   height  weight  height_z  weight_z\n",
       "0   67.75  154.25 -0.979521 -0.835690\n",
       "1   72.25  173.25  0.741784 -0.189464\n",
       "2   66.25  154.00 -1.553289 -0.844193"
      ]
     },
     "execution_count": 240,
     "metadata": {},
     "output_type": "execute_result"
    }
   ],
   "source": [
    "bf.iloc[0:3,:]"
   ]
  },
  {
   "cell_type": "code",
   "execution_count": 241,
   "id": "vietnamese-judgment",
   "metadata": {},
   "outputs": [
    {
     "data": {
      "text/plain": [
       "Text(0, 0.5, 'position on second PC')"
      ]
     },
     "execution_count": 241,
     "metadata": {},
     "output_type": "execute_result"
    },
    {
     "data": {
      "image/png": "[encoded data removed]",
      "text/plain": [
       "<Figure size 432x288 with 1 Axes>"
      ]
     },
     "metadata": {
      "needs_background": "light"
     },
     "output_type": "display_data"
    }
   ],
   "source": [
    "pca_locations = pca.transform(bf[features])\n",
    "plt.scatter(pca_locations[:,0], pca_locations[:,1])\n",
    "plt.xlabel('position on first PC')\n",
    "plt.ylabel('position on second PC')"
   ]
  },
  {
   "cell_type": "markdown",
   "id": "pregnant-theory",
   "metadata": {},
   "source": [
    "### null simulation for p values"
   ]
  },
  {
   "cell_type": "code",
   "execution_count": 236,
   "id": "weighted-attribute",
   "metadata": {},
   "outputs": [],
   "source": [
    "null_variance_explained = []\n",
    "for sim in range(100):\n",
    "    height = np.random.random(100)\n",
    "    weight = np.random.random(100)\n",
    "    fake_bf = pd.DataFrame({'h':height, 'w':weight})\n",
    "    fake_pca = PCA()\n",
    "    fake_pca.fit(fake_bf)\n",
    "    null_variance_explained.append(fake_pca.explained_variance_ratio_[0])"
   ]
  },
  {
   "cell_type": "code",
   "execution_count": 238,
   "id": "gothic-clothing",
   "metadata": {},
   "outputs": [
    {
     "data": {
      "text/plain": [
       "(array([ 7., 22., 12., 20., 15., 13.,  4.,  3.,  1.,  3.]),\n",
       " array([0.50465342, 0.51662567, 0.52859792, 0.54057017, 0.55254242,\n",
       "        0.56451467, 0.57648692, 0.58845917, 0.60043142, 0.61240367,\n",
       "        0.62437592]),\n",
       " <BarContainer object of 10 artists>)"
      ]
     },
     "execution_count": 238,
     "metadata": {},
     "output_type": "execute_result"
    },
    {
     "data": {
      "image/png": "[encoded data removed]",
      "text/plain": [
       "<Figure size 432x288 with 1 Axes>"
      ]
     },
     "metadata": {
      "needs_background": "light"
     },
     "output_type": "display_data"
    }
   ],
   "source": [
    "plt.hist(null_variance_explained)\n"
   ]
  },
  {
   "cell_type": "code",
   "execution_count": 230,
   "id": "behind-parade",
   "metadata": {},
   "outputs": [
    {
     "data": {
      "text/plain": [
       "array([0.5727699, 0.4272301])"
      ]
     },
     "execution_count": 230,
     "metadata": {},
     "output_type": "execute_result"
    }
   ],
   "source": [
    "fake_pca.explained_variance_ratio_"
   ]
  },
  {
   "cell_type": "markdown",
   "id": "parallel-satin",
   "metadata": {},
   "source": [
    "### Pokemon"
   ]
  },
  {
   "cell_type": "code",
   "execution_count": 243,
   "id": "pleased-asthma",
   "metadata": {},
   "outputs": [
    {
     "data": {
      "text/html": [
       "<div>\n",
       "<style scoped>\n",
       "    .dataframe tbody tr th:only-of-type {\n",
       "        vertical-align: middle;\n",
       "    }\n",
       "\n",
       "    .dataframe tbody tr th {\n",
       "        vertical-align: top;\n",
       "    }\n",
       "\n",
       "    .dataframe thead th {\n",
       "        text-align: right;\n",
       "    }\n",
       "</style>\n",
       "<table border=\"1\" class=\"dataframe\">\n",
       "  <thead>\n",
       "    <tr style=\"text-align: right;\">\n",
       "      <th></th>\n",
       "      <th>#</th>\n",
       "      <th>Name</th>\n",
       "      <th>Type 1</th>\n",
       "      <th>Type 2</th>\n",
       "      <th>Total</th>\n",
       "      <th>HP</th>\n",
       "      <th>Attack</th>\n",
       "      <th>Defense</th>\n",
       "      <th>Sp. Atk</th>\n",
       "      <th>Sp. Def</th>\n",
       "      <th>Speed</th>\n",
       "      <th>Generation</th>\n",
       "      <th>Legendary</th>\n",
       "    </tr>\n",
       "  </thead>\n",
       "  <tbody>\n",
       "    <tr>\n",
       "      <th>0</th>\n",
       "      <td>1</td>\n",
       "      <td>Bulbasaur</td>\n",
       "      <td>Grass</td>\n",
       "      <td>Poison</td>\n",
       "      <td>318</td>\n",
       "      <td>45</td>\n",
       "      <td>49</td>\n",
       "      <td>49</td>\n",
       "      <td>65</td>\n",
       "      <td>65</td>\n",
       "      <td>45</td>\n",
       "      <td>1</td>\n",
       "      <td>False</td>\n",
       "    </tr>\n",
       "    <tr>\n",
       "      <th>1</th>\n",
       "      <td>2</td>\n",
       "      <td>Ivysaur</td>\n",
       "      <td>Grass</td>\n",
       "      <td>Poison</td>\n",
       "      <td>405</td>\n",
       "      <td>60</td>\n",
       "      <td>62</td>\n",
       "      <td>63</td>\n",
       "      <td>80</td>\n",
       "      <td>80</td>\n",
       "      <td>60</td>\n",
       "      <td>1</td>\n",
       "      <td>False</td>\n",
       "    </tr>\n",
       "    <tr>\n",
       "      <th>2</th>\n",
       "      <td>3</td>\n",
       "      <td>Venusaur</td>\n",
       "      <td>Grass</td>\n",
       "      <td>Poison</td>\n",
       "      <td>525</td>\n",
       "      <td>80</td>\n",
       "      <td>82</td>\n",
       "      <td>83</td>\n",
       "      <td>100</td>\n",
       "      <td>100</td>\n",
       "      <td>80</td>\n",
       "      <td>1</td>\n",
       "      <td>False</td>\n",
       "    </tr>\n",
       "    <tr>\n",
       "      <th>3</th>\n",
       "      <td>3</td>\n",
       "      <td>VenusaurMega Venusaur</td>\n",
       "      <td>Grass</td>\n",
       "      <td>Poison</td>\n",
       "      <td>625</td>\n",
       "      <td>80</td>\n",
       "      <td>100</td>\n",
       "      <td>123</td>\n",
       "      <td>122</td>\n",
       "      <td>120</td>\n",
       "      <td>80</td>\n",
       "      <td>1</td>\n",
       "      <td>False</td>\n",
       "    </tr>\n",
       "    <tr>\n",
       "      <th>4</th>\n",
       "      <td>4</td>\n",
       "      <td>Charmander</td>\n",
       "      <td>Fire</td>\n",
       "      <td>NaN</td>\n",
       "      <td>309</td>\n",
       "      <td>39</td>\n",
       "      <td>52</td>\n",
       "      <td>43</td>\n",
       "      <td>60</td>\n",
       "      <td>50</td>\n",
       "      <td>65</td>\n",
       "      <td>1</td>\n",
       "      <td>False</td>\n",
       "    </tr>\n",
       "    <tr>\n",
       "      <th>...</th>\n",
       "      <td>...</td>\n",
       "      <td>...</td>\n",
       "      <td>...</td>\n",
       "      <td>...</td>\n",
       "      <td>...</td>\n",
       "      <td>...</td>\n",
       "      <td>...</td>\n",
       "      <td>...</td>\n",
       "      <td>...</td>\n",
       "      <td>...</td>\n",
       "      <td>...</td>\n",
       "      <td>...</td>\n",
       "      <td>...</td>\n",
       "    </tr>\n",
       "    <tr>\n",
       "      <th>795</th>\n",
       "      <td>719</td>\n",
       "      <td>Diancie</td>\n",
       "      <td>Rock</td>\n",
       "      <td>Fairy</td>\n",
       "      <td>600</td>\n",
       "      <td>50</td>\n",
       "      <td>100</td>\n",
       "      <td>150</td>\n",
       "      <td>100</td>\n",
       "      <td>150</td>\n",
       "      <td>50</td>\n",
       "      <td>6</td>\n",
       "      <td>True</td>\n",
       "    </tr>\n",
       "    <tr>\n",
       "      <th>796</th>\n",
       "      <td>719</td>\n",
       "      <td>DiancieMega Diancie</td>\n",
       "      <td>Rock</td>\n",
       "      <td>Fairy</td>\n",
       "      <td>700</td>\n",
       "      <td>50</td>\n",
       "      <td>160</td>\n",
       "      <td>110</td>\n",
       "      <td>160</td>\n",
       "      <td>110</td>\n",
       "      <td>110</td>\n",
       "      <td>6</td>\n",
       "      <td>True</td>\n",
       "    </tr>\n",
       "    <tr>\n",
       "      <th>797</th>\n",
       "      <td>720</td>\n",
       "      <td>HoopaHoopa Confined</td>\n",
       "      <td>Psychic</td>\n",
       "      <td>Ghost</td>\n",
       "      <td>600</td>\n",
       "      <td>80</td>\n",
       "      <td>110</td>\n",
       "      <td>60</td>\n",
       "      <td>150</td>\n",
       "      <td>130</td>\n",
       "      <td>70</td>\n",
       "      <td>6</td>\n",
       "      <td>True</td>\n",
       "    </tr>\n",
       "    <tr>\n",
       "      <th>798</th>\n",
       "      <td>720</td>\n",
       "      <td>HoopaHoopa Unbound</td>\n",
       "      <td>Psychic</td>\n",
       "      <td>Dark</td>\n",
       "      <td>680</td>\n",
       "      <td>80</td>\n",
       "      <td>160</td>\n",
       "      <td>60</td>\n",
       "      <td>170</td>\n",
       "      <td>130</td>\n",
       "      <td>80</td>\n",
       "      <td>6</td>\n",
       "      <td>True</td>\n",
       "    </tr>\n",
       "    <tr>\n",
       "      <th>799</th>\n",
       "      <td>721</td>\n",
       "      <td>Volcanion</td>\n",
       "      <td>Fire</td>\n",
       "      <td>Water</td>\n",
       "      <td>600</td>\n",
       "      <td>80</td>\n",
       "      <td>110</td>\n",
       "      <td>120</td>\n",
       "      <td>130</td>\n",
       "      <td>90</td>\n",
       "      <td>70</td>\n",
       "      <td>6</td>\n",
       "      <td>True</td>\n",
       "    </tr>\n",
       "  </tbody>\n",
       "</table>\n",
       "<p>800 rows × 13 columns</p>\n",
       "</div>"
      ],
      "text/plain": [
       "       #                   Name   Type 1  Type 2  Total  HP  Attack  Defense  \\\n",
       "0      1              Bulbasaur    Grass  Poison    318  45      49       49   \n",
       "1      2                Ivysaur    Grass  Poison    405  60      62       63   \n",
       "2      3               Venusaur    Grass  Poison    525  80      82       83   \n",
       "3      3  VenusaurMega Venusaur    Grass  Poison    625  80     100      123   \n",
       "4      4             Charmander     Fire     NaN    309  39      52       43   \n",
       "..   ...                    ...      ...     ...    ...  ..     ...      ...   \n",
       "795  719                Diancie     Rock   Fairy    600  50     100      150   \n",
       "796  719    DiancieMega Diancie     Rock   Fairy    700  50     160      110   \n",
       "797  720    HoopaHoopa Confined  Psychic   Ghost    600  80     110       60   \n",
       "798  720     HoopaHoopa Unbound  Psychic    Dark    680  80     160       60   \n",
       "799  721              Volcanion     Fire   Water    600  80     110      120   \n",
       "\n",
       "     Sp. Atk  Sp. Def  Speed  Generation  Legendary  \n",
       "0         65       65     45           1      False  \n",
       "1         80       80     60           1      False  \n",
       "2        100      100     80           1      False  \n",
       "3        122      120     80           1      False  \n",
       "4         60       50     65           1      False  \n",
       "..       ...      ...    ...         ...        ...  \n",
       "795      100      150     50           6       True  \n",
       "796      160      110    110           6       True  \n",
       "797      150      130     70           6       True  \n",
       "798      170      130     80           6       True  \n",
       "799      130       90     70           6       True  \n",
       "\n",
       "[800 rows x 13 columns]"
      ]
     },
     "execution_count": 243,
     "metadata": {},
     "output_type": "execute_result"
    }
   ],
   "source": [
    "poke = pd.read_csv('Pokemon.csv')\n",
    "poke"
   ]
  },
  {
   "cell_type": "code",
   "execution_count": 244,
   "id": "metric-defensive",
   "metadata": {},
   "outputs": [
    {
     "data": {
      "text/plain": [
       "HP          652.019323\n",
       "Attack     1053.480599\n",
       "Defense     972.410707\n",
       "Sp. Atk    1070.748536\n",
       "Sp. Def     774.448554\n",
       "Speed       844.511133\n",
       "dtype: float64"
      ]
     },
     "execution_count": 244,
     "metadata": {},
     "output_type": "execute_result"
    }
   ],
   "source": [
    "feature_list = ['HP', 'Attack', 'Defense', 'Sp. Atk', 'Sp. Def', 'Speed']\n",
    "poke[feature_list].var()"
   ]
  },
  {
   "cell_type": "code",
   "execution_count": 245,
   "id": "eastern-logging",
   "metadata": {},
   "outputs": [
    {
     "data": {
      "text/plain": [
       "PCA()"
      ]
     },
     "execution_count": 245,
     "metadata": {},
     "output_type": "execute_result"
    }
   ],
   "source": [
    "pca = PCA()\n",
    "\n",
    "pca.fit(poke[feature_list])"
   ]
  },
  {
   "cell_type": "code",
   "execution_count": 249,
   "id": "polished-check",
   "metadata": {},
   "outputs": [
    {
     "data": {
      "text/plain": [
       "Text(0, 0.5, 'proportion of variance explained')"
      ]
     },
     "execution_count": 249,
     "metadata": {},
     "output_type": "execute_result"
    },
    {
     "data": {
      "image/png": "[encoded data removed]",
      "text/plain": [
       "<Figure size 432x288 with 1 Axes>"
      ]
     },
     "metadata": {
      "needs_background": "light"
     },
     "output_type": "display_data"
    }
   ],
   "source": [
    "plt.plot(pca.explained_variance_ratio_)\n",
    "plt.xlabel('pc')\n",
    "plt.ylabel('proportion of variance explained')"
   ]
  },
  {
   "cell_type": "code",
   "execution_count": 264,
   "id": "supposed-cleaner",
   "metadata": {},
   "outputs": [
    {
     "data": {
      "text/plain": [
       "Text(0.5, 1.0, 'PC1')"
      ]
     },
     "execution_count": 264,
     "metadata": {},
     "output_type": "execute_result"
    },
    {
     "data": {
      "image/png": "[encoded data removed]",
      "text/plain": [
       "<Figure size 432x288 with 1 Axes>"
      ]
     },
     "metadata": {
      "needs_background": "light"
     },
     "output_type": "display_data"
    }
   ],
   "source": [
    "plt.barh(feature_list, pca.components_[0])\n",
    "plt.xlabel('weight from component')\n",
    "plt.title('PC1')"
   ]
  },
  {
   "cell_type": "code",
   "execution_count": 266,
   "id": "floppy-technology",
   "metadata": {},
   "outputs": [
    {
     "data": {
      "text/plain": [
       "Text(0.5, 1.0, 'PC2')"
      ]
     },
     "execution_count": 266,
     "metadata": {},
     "output_type": "execute_result"
    },
    {
     "data": {
      "image/png": "[encoded data removed]",
      "text/plain": [
       "<Figure size 432x288 with 1 Axes>"
      ]
     },
     "metadata": {
      "needs_background": "light"
     },
     "output_type": "display_data"
    }
   ],
   "source": [
    "plt.barh(feature_list, pca.components_[1])\n",
    "plt.xlabel('weight from component')\n",
    "plt.title('PC2')"
   ]
  },
  {
   "cell_type": "code",
   "execution_count": 260,
   "id": "reliable-houston",
   "metadata": {},
   "outputs": [],
   "source": [
    "pca_location = pca.transform(poke[feature_list])\n",
    "\n",
    "pca_locations = pd.DataFrame(pca_location, columns = ['PC'+str(i+1) for i in range(6)])\n"
   ]
  },
  {
   "cell_type": "code",
   "execution_count": 261,
   "id": "coral-certificate",
   "metadata": {},
   "outputs": [],
   "source": [
    "pca_locations['Name'] = poke['Name']"
   ]
  },
  {
   "cell_type": "code",
   "execution_count": 268,
   "id": "worse-venue",
   "metadata": {},
   "outputs": [
    {
     "data": {
      "text/html": [
       "<div>\n",
       "<style scoped>\n",
       "    .dataframe tbody tr th:only-of-type {\n",
       "        vertical-align: middle;\n",
       "    }\n",
       "\n",
       "    .dataframe tbody tr th {\n",
       "        vertical-align: top;\n",
       "    }\n",
       "\n",
       "    .dataframe thead th {\n",
       "        text-align: right;\n",
       "    }\n",
       "</style>\n",
       "<table border=\"1\" class=\"dataframe\">\n",
       "  <thead>\n",
       "    <tr style=\"text-align: right;\">\n",
       "      <th></th>\n",
       "      <th>PC1</th>\n",
       "      <th>PC2</th>\n",
       "      <th>PC3</th>\n",
       "      <th>PC4</th>\n",
       "      <th>PC5</th>\n",
       "      <th>PC6</th>\n",
       "      <th>Name</th>\n",
       "    </tr>\n",
       "  </thead>\n",
       "  <tbody>\n",
       "    <tr>\n",
       "      <th>429</th>\n",
       "      <td>84.322438</td>\n",
       "      <td>-127.701649</td>\n",
       "      <td>-73.472445</td>\n",
       "      <td>-17.498508</td>\n",
       "      <td>-71.996191</td>\n",
       "      <td>4.981627</td>\n",
       "      <td>DeoxysAttack Forme</td>\n",
       "    </tr>\n",
       "    <tr>\n",
       "      <th>428</th>\n",
       "      <td>77.516397</td>\n",
       "      <td>-92.425348</td>\n",
       "      <td>-45.634349</td>\n",
       "      <td>-33.580787</td>\n",
       "      <td>-36.509562</td>\n",
       "      <td>0.936835</td>\n",
       "      <td>DeoxysNormal Forme</td>\n",
       "    </tr>\n",
       "    <tr>\n",
       "      <th>71</th>\n",
       "      <td>65.911935</td>\n",
       "      <td>-91.198082</td>\n",
       "      <td>61.691477</td>\n",
       "      <td>-37.151011</td>\n",
       "      <td>-14.781845</td>\n",
       "      <td>-26.634114</td>\n",
       "      <td>AlakazamMega Alakazam</td>\n",
       "    </tr>\n",
       "    <tr>\n",
       "      <th>678</th>\n",
       "      <td>20.161299</td>\n",
       "      <td>-80.449871</td>\n",
       "      <td>-2.495455</td>\n",
       "      <td>-11.233201</td>\n",
       "      <td>24.072202</td>\n",
       "      <td>-22.758139</td>\n",
       "      <td>Accelgor</td>\n",
       "    </tr>\n",
       "    <tr>\n",
       "      <th>164</th>\n",
       "      <td>148.702738</td>\n",
       "      <td>-75.089564</td>\n",
       "      <td>8.119111</td>\n",
       "      <td>10.104036</td>\n",
       "      <td>-22.393409</td>\n",
       "      <td>11.276635</td>\n",
       "      <td>MewtwoMega Mewtwo Y</td>\n",
       "    </tr>\n",
       "    <tr>\n",
       "      <th>...</th>\n",
       "      <td>...</td>\n",
       "      <td>...</td>\n",
       "      <td>...</td>\n",
       "      <td>...</td>\n",
       "      <td>...</td>\n",
       "      <td>...</td>\n",
       "      <td>...</td>\n",
       "    </tr>\n",
       "    <tr>\n",
       "      <th>414</th>\n",
       "      <td>55.085391</td>\n",
       "      <td>113.929872</td>\n",
       "      <td>-1.688324</td>\n",
       "      <td>-32.075284</td>\n",
       "      <td>12.602549</td>\n",
       "      <td>-30.189587</td>\n",
       "      <td>Regirock</td>\n",
       "    </tr>\n",
       "    <tr>\n",
       "      <th>223</th>\n",
       "      <td>28.384681</td>\n",
       "      <td>116.089376</td>\n",
       "      <td>-4.559049</td>\n",
       "      <td>-25.346544</td>\n",
       "      <td>-12.980966</td>\n",
       "      <td>-51.969747</td>\n",
       "      <td>Steelix</td>\n",
       "    </tr>\n",
       "    <tr>\n",
       "      <th>333</th>\n",
       "      <td>80.414429</td>\n",
       "      <td>130.115034</td>\n",
       "      <td>-36.038489</td>\n",
       "      <td>-48.132988</td>\n",
       "      <td>-13.705179</td>\n",
       "      <td>-38.350476</td>\n",
       "      <td>AggronMega Aggron</td>\n",
       "    </tr>\n",
       "    <tr>\n",
       "      <th>224</th>\n",
       "      <td>71.350484</td>\n",
       "      <td>145.224471</td>\n",
       "      <td>-16.307548</td>\n",
       "      <td>-36.483506</td>\n",
       "      <td>-10.247225</td>\n",
       "      <td>-31.099827</td>\n",
       "      <td>SteelixMega Steelix</td>\n",
       "    </tr>\n",
       "    <tr>\n",
       "      <th>230</th>\n",
       "      <td>20.277732</td>\n",
       "      <td>189.226979</td>\n",
       "      <td>130.228901</td>\n",
       "      <td>-82.414638</td>\n",
       "      <td>57.414273</td>\n",
       "      <td>35.380812</td>\n",
       "      <td>Shuckle</td>\n",
       "    </tr>\n",
       "  </tbody>\n",
       "</table>\n",
       "<p>800 rows × 7 columns</p>\n",
       "</div>"
      ],
      "text/plain": [
       "            PC1         PC2         PC3        PC4        PC5        PC6  \\\n",
       "429   84.322438 -127.701649  -73.472445 -17.498508 -71.996191   4.981627   \n",
       "428   77.516397  -92.425348  -45.634349 -33.580787 -36.509562   0.936835   \n",
       "71    65.911935  -91.198082   61.691477 -37.151011 -14.781845 -26.634114   \n",
       "678   20.161299  -80.449871   -2.495455 -11.233201  24.072202 -22.758139   \n",
       "164  148.702738  -75.089564    8.119111  10.104036 -22.393409  11.276635   \n",
       "..          ...         ...         ...        ...        ...        ...   \n",
       "414   55.085391  113.929872   -1.688324 -32.075284  12.602549 -30.189587   \n",
       "223   28.384681  116.089376   -4.559049 -25.346544 -12.980966 -51.969747   \n",
       "333   80.414429  130.115034  -36.038489 -48.132988 -13.705179 -38.350476   \n",
       "224   71.350484  145.224471  -16.307548 -36.483506 -10.247225 -31.099827   \n",
       "230   20.277732  189.226979  130.228901 -82.414638  57.414273  35.380812   \n",
       "\n",
       "                      Name  \n",
       "429     DeoxysAttack Forme  \n",
       "428     DeoxysNormal Forme  \n",
       "71   AlakazamMega Alakazam  \n",
       "678               Accelgor  \n",
       "164    MewtwoMega Mewtwo Y  \n",
       "..                     ...  \n",
       "414               Regirock  \n",
       "223                Steelix  \n",
       "333      AggronMega Aggron  \n",
       "224    SteelixMega Steelix  \n",
       "230                Shuckle  \n",
       "\n",
       "[800 rows x 7 columns]"
      ]
     },
     "execution_count": 268,
     "metadata": {},
     "output_type": "execute_result"
    }
   ],
   "source": [
    "pca_locations.sort_values('PC2')"
   ]
  },
  {
   "cell_type": "code",
   "execution_count": 269,
   "id": "silver-broad",
   "metadata": {},
   "outputs": [
    {
     "data": {
      "text/plain": [
       "<matplotlib.collections.PathCollection at 0x7f3c73ff9520>"
      ]
     },
     "execution_count": 269,
     "metadata": {},
     "output_type": "execute_result"
    },
    {
     "data": {
      "image/png": "[encoded data removed]",
      "text/plain": [
       "<Figure size 432x288 with 1 Axes>"
      ]
     },
     "metadata": {
      "needs_background": "light"
     },
     "output_type": "display_data"
    }
   ],
   "source": [
    "plt.scatter(pca_locations['PC1'], pca_locations['PC2'])\n"
   ]
  },
  {
   "cell_type": "markdown",
   "id": "occupied-analysis",
   "metadata": {},
   "source": [
    "### measuring information retained"
   ]
  },
  {
   "cell_type": "code",
   "execution_count": 273,
   "id": "stretch-pressing",
   "metadata": {},
   "outputs": [
    {
     "data": {
      "text/html": [
       "<div>\n",
       "<style scoped>\n",
       "    .dataframe tbody tr th:only-of-type {\n",
       "        vertical-align: middle;\n",
       "    }\n",
       "\n",
       "    .dataframe tbody tr th {\n",
       "        vertical-align: top;\n",
       "    }\n",
       "\n",
       "    .dataframe thead th {\n",
       "        text-align: right;\n",
       "    }\n",
       "</style>\n",
       "<table border=\"1\" class=\"dataframe\">\n",
       "  <thead>\n",
       "    <tr style=\"text-align: right;\">\n",
       "      <th></th>\n",
       "      <th>HP</th>\n",
       "      <th>Attack</th>\n",
       "      <th>Defense</th>\n",
       "      <th>Sp. Atk</th>\n",
       "      <th>Sp. Def</th>\n",
       "      <th>Speed</th>\n",
       "    </tr>\n",
       "  </thead>\n",
       "  <tbody>\n",
       "    <tr>\n",
       "      <th>0</th>\n",
       "      <td>45</td>\n",
       "      <td>49</td>\n",
       "      <td>49</td>\n",
       "      <td>65</td>\n",
       "      <td>65</td>\n",
       "      <td>45</td>\n",
       "    </tr>\n",
       "    <tr>\n",
       "      <th>1</th>\n",
       "      <td>60</td>\n",
       "      <td>62</td>\n",
       "      <td>63</td>\n",
       "      <td>80</td>\n",
       "      <td>80</td>\n",
       "      <td>60</td>\n",
       "    </tr>\n",
       "    <tr>\n",
       "      <th>2</th>\n",
       "      <td>80</td>\n",
       "      <td>82</td>\n",
       "      <td>83</td>\n",
       "      <td>100</td>\n",
       "      <td>100</td>\n",
       "      <td>80</td>\n",
       "    </tr>\n",
       "    <tr>\n",
       "      <th>3</th>\n",
       "      <td>80</td>\n",
       "      <td>100</td>\n",
       "      <td>123</td>\n",
       "      <td>122</td>\n",
       "      <td>120</td>\n",
       "      <td>80</td>\n",
       "    </tr>\n",
       "    <tr>\n",
       "      <th>4</th>\n",
       "      <td>39</td>\n",
       "      <td>52</td>\n",
       "      <td>43</td>\n",
       "      <td>60</td>\n",
       "      <td>50</td>\n",
       "      <td>65</td>\n",
       "    </tr>\n",
       "    <tr>\n",
       "      <th>...</th>\n",
       "      <td>...</td>\n",
       "      <td>...</td>\n",
       "      <td>...</td>\n",
       "      <td>...</td>\n",
       "      <td>...</td>\n",
       "      <td>...</td>\n",
       "    </tr>\n",
       "    <tr>\n",
       "      <th>795</th>\n",
       "      <td>50</td>\n",
       "      <td>100</td>\n",
       "      <td>150</td>\n",
       "      <td>100</td>\n",
       "      <td>150</td>\n",
       "      <td>50</td>\n",
       "    </tr>\n",
       "    <tr>\n",
       "      <th>796</th>\n",
       "      <td>50</td>\n",
       "      <td>160</td>\n",
       "      <td>110</td>\n",
       "      <td>160</td>\n",
       "      <td>110</td>\n",
       "      <td>110</td>\n",
       "    </tr>\n",
       "    <tr>\n",
       "      <th>797</th>\n",
       "      <td>80</td>\n",
       "      <td>110</td>\n",
       "      <td>60</td>\n",
       "      <td>150</td>\n",
       "      <td>130</td>\n",
       "      <td>70</td>\n",
       "    </tr>\n",
       "    <tr>\n",
       "      <th>798</th>\n",
       "      <td>80</td>\n",
       "      <td>160</td>\n",
       "      <td>60</td>\n",
       "      <td>170</td>\n",
       "      <td>130</td>\n",
       "      <td>80</td>\n",
       "    </tr>\n",
       "    <tr>\n",
       "      <th>799</th>\n",
       "      <td>80</td>\n",
       "      <td>110</td>\n",
       "      <td>120</td>\n",
       "      <td>130</td>\n",
       "      <td>90</td>\n",
       "      <td>70</td>\n",
       "    </tr>\n",
       "  </tbody>\n",
       "</table>\n",
       "<p>800 rows × 6 columns</p>\n",
       "</div>"
      ],
      "text/plain": [
       "     HP  Attack  Defense  Sp. Atk  Sp. Def  Speed\n",
       "0    45      49       49       65       65     45\n",
       "1    60      62       63       80       80     60\n",
       "2    80      82       83      100      100     80\n",
       "3    80     100      123      122      120     80\n",
       "4    39      52       43       60       50     65\n",
       "..   ..     ...      ...      ...      ...    ...\n",
       "795  50     100      150      100      150     50\n",
       "796  50     160      110      160      110    110\n",
       "797  80     110       60      150      130     70\n",
       "798  80     160       60      170      130     80\n",
       "799  80     110      120      130       90     70\n",
       "\n",
       "[800 rows x 6 columns]"
      ]
     },
     "execution_count": 273,
     "metadata": {},
     "output_type": "execute_result"
    }
   ],
   "source": [
    "poke[feature_list]"
   ]
  },
  {
   "cell_type": "code",
   "execution_count": 276,
   "id": "sonic-philadelphia",
   "metadata": {},
   "outputs": [
    {
     "data": {
      "text/html": [
       "<div>\n",
       "<style scoped>\n",
       "    .dataframe tbody tr th:only-of-type {\n",
       "        vertical-align: middle;\n",
       "    }\n",
       "\n",
       "    .dataframe tbody tr th {\n",
       "        vertical-align: top;\n",
       "    }\n",
       "\n",
       "    .dataframe thead th {\n",
       "        text-align: right;\n",
       "    }\n",
       "</style>\n",
       "<table border=\"1\" class=\"dataframe\">\n",
       "  <thead>\n",
       "    <tr style=\"text-align: right;\">\n",
       "      <th></th>\n",
       "      <th>HP</th>\n",
       "      <th>Attack</th>\n",
       "      <th>Defense</th>\n",
       "      <th>Sp. Atk</th>\n",
       "      <th>Sp. Def</th>\n",
       "      <th>Speed</th>\n",
       "    </tr>\n",
       "  </thead>\n",
       "  <tbody>\n",
       "    <tr>\n",
       "      <th>0</th>\n",
       "      <td>7.105427e-15</td>\n",
       "      <td>2.131628e-14</td>\n",
       "      <td>1.421085e-14</td>\n",
       "      <td>0.000000e+00</td>\n",
       "      <td>1.421085e-14</td>\n",
       "      <td>-1.421085e-14</td>\n",
       "    </tr>\n",
       "    <tr>\n",
       "      <th>1</th>\n",
       "      <td>0.000000e+00</td>\n",
       "      <td>1.421085e-14</td>\n",
       "      <td>7.105427e-15</td>\n",
       "      <td>0.000000e+00</td>\n",
       "      <td>0.000000e+00</td>\n",
       "      <td>-7.105427e-15</td>\n",
       "    </tr>\n",
       "    <tr>\n",
       "      <th>2</th>\n",
       "      <td>0.000000e+00</td>\n",
       "      <td>0.000000e+00</td>\n",
       "      <td>0.000000e+00</td>\n",
       "      <td>-1.421085e-14</td>\n",
       "      <td>-2.842171e-14</td>\n",
       "      <td>0.000000e+00</td>\n",
       "    </tr>\n",
       "    <tr>\n",
       "      <th>3</th>\n",
       "      <td>0.000000e+00</td>\n",
       "      <td>-2.842171e-14</td>\n",
       "      <td>0.000000e+00</td>\n",
       "      <td>0.000000e+00</td>\n",
       "      <td>-5.684342e-14</td>\n",
       "      <td>1.421085e-14</td>\n",
       "    </tr>\n",
       "    <tr>\n",
       "      <th>4</th>\n",
       "      <td>7.105427e-15</td>\n",
       "      <td>2.842171e-14</td>\n",
       "      <td>2.131628e-14</td>\n",
       "      <td>0.000000e+00</td>\n",
       "      <td>1.421085e-14</td>\n",
       "      <td>-1.421085e-14</td>\n",
       "    </tr>\n",
       "    <tr>\n",
       "      <th>...</th>\n",
       "      <td>...</td>\n",
       "      <td>...</td>\n",
       "      <td>...</td>\n",
       "      <td>...</td>\n",
       "      <td>...</td>\n",
       "      <td>...</td>\n",
       "    </tr>\n",
       "    <tr>\n",
       "      <th>795</th>\n",
       "      <td>0.000000e+00</td>\n",
       "      <td>-2.842171e-14</td>\n",
       "      <td>-5.684342e-14</td>\n",
       "      <td>0.000000e+00</td>\n",
       "      <td>-5.684342e-14</td>\n",
       "      <td>1.421085e-14</td>\n",
       "    </tr>\n",
       "    <tr>\n",
       "      <th>796</th>\n",
       "      <td>-7.105427e-15</td>\n",
       "      <td>-2.842171e-14</td>\n",
       "      <td>0.000000e+00</td>\n",
       "      <td>0.000000e+00</td>\n",
       "      <td>-5.684342e-14</td>\n",
       "      <td>0.000000e+00</td>\n",
       "    </tr>\n",
       "    <tr>\n",
       "      <th>797</th>\n",
       "      <td>0.000000e+00</td>\n",
       "      <td>0.000000e+00</td>\n",
       "      <td>0.000000e+00</td>\n",
       "      <td>-2.842171e-14</td>\n",
       "      <td>-5.684342e-14</td>\n",
       "      <td>-1.421085e-14</td>\n",
       "    </tr>\n",
       "    <tr>\n",
       "      <th>798</th>\n",
       "      <td>0.000000e+00</td>\n",
       "      <td>0.000000e+00</td>\n",
       "      <td>0.000000e+00</td>\n",
       "      <td>0.000000e+00</td>\n",
       "      <td>-5.684342e-14</td>\n",
       "      <td>-1.421085e-14</td>\n",
       "    </tr>\n",
       "    <tr>\n",
       "      <th>799</th>\n",
       "      <td>-1.421085e-14</td>\n",
       "      <td>-1.421085e-14</td>\n",
       "      <td>0.000000e+00</td>\n",
       "      <td>2.842171e-14</td>\n",
       "      <td>-4.263256e-14</td>\n",
       "      <td>0.000000e+00</td>\n",
       "    </tr>\n",
       "  </tbody>\n",
       "</table>\n",
       "<p>800 rows × 6 columns</p>\n",
       "</div>"
      ],
      "text/plain": [
       "               HP        Attack       Defense       Sp. Atk       Sp. Def  \\\n",
       "0    7.105427e-15  2.131628e-14  1.421085e-14  0.000000e+00  1.421085e-14   \n",
       "1    0.000000e+00  1.421085e-14  7.105427e-15  0.000000e+00  0.000000e+00   \n",
       "2    0.000000e+00  0.000000e+00  0.000000e+00 -1.421085e-14 -2.842171e-14   \n",
       "3    0.000000e+00 -2.842171e-14  0.000000e+00  0.000000e+00 -5.684342e-14   \n",
       "4    7.105427e-15  2.842171e-14  2.131628e-14  0.000000e+00  1.421085e-14   \n",
       "..            ...           ...           ...           ...           ...   \n",
       "795  0.000000e+00 -2.842171e-14 -5.684342e-14  0.000000e+00 -5.684342e-14   \n",
       "796 -7.105427e-15 -2.842171e-14  0.000000e+00  0.000000e+00 -5.684342e-14   \n",
       "797  0.000000e+00  0.000000e+00  0.000000e+00 -2.842171e-14 -5.684342e-14   \n",
       "798  0.000000e+00  0.000000e+00  0.000000e+00  0.000000e+00 -5.684342e-14   \n",
       "799 -1.421085e-14 -1.421085e-14  0.000000e+00  2.842171e-14 -4.263256e-14   \n",
       "\n",
       "            Speed  \n",
       "0   -1.421085e-14  \n",
       "1   -7.105427e-15  \n",
       "2    0.000000e+00  \n",
       "3    1.421085e-14  \n",
       "4   -1.421085e-14  \n",
       "..            ...  \n",
       "795  1.421085e-14  \n",
       "796  0.000000e+00  \n",
       "797 -1.421085e-14  \n",
       "798 -1.421085e-14  \n",
       "799  0.000000e+00  \n",
       "\n",
       "[800 rows x 6 columns]"
      ]
     },
     "execution_count": 276,
     "metadata": {},
     "output_type": "execute_result"
    }
   ],
   "source": [
    "poke[feature_list] - pca.inverse_transform(pca_locations.iloc[:,0:6])"
   ]
  },
  {
   "cell_type": "code",
   "execution_count": 277,
   "id": "norwegian-advisory",
   "metadata": {},
   "outputs": [
    {
     "data": {
      "text/plain": [
       "HP         8.317749e-29\n",
       "Attack     5.270853e-28\n",
       "Defense    3.742987e-28\n",
       "Sp. Atk    2.951602e-28\n",
       "Sp. Def    6.414386e-28\n",
       "Speed      1.534177e-28\n",
       "dtype: float64"
      ]
     },
     "execution_count": 277,
     "metadata": {},
     "output_type": "execute_result"
    }
   ],
   "source": [
    "((poke[feature_list] - \n",
    "  pca.inverse_transform(pca_locations.iloc[:,0:6]))**2).mean()"
   ]
  },
  {
   "cell_type": "code",
   "execution_count": 289,
   "id": "welcome-divorce",
   "metadata": {},
   "outputs": [],
   "source": [
    "pca = PCA(n_components = 3)\n",
    "pca.fit(poke[feature_list])\n",
    "pca_locs = pca.transform(poke[feature_list])"
   ]
  },
  {
   "cell_type": "code",
   "execution_count": 291,
   "id": "honest-andorra",
   "metadata": {},
   "outputs": [
    {
     "data": {
      "text/plain": [
       "HP         423.274736\n",
       "Attack      57.386789\n",
       "Defense    126.031222\n",
       "Sp. Atk    173.698343\n",
       "Sp. Def    145.773296\n",
       "Speed      230.052976\n",
       "dtype: float64"
      ]
     },
     "execution_count": 291,
     "metadata": {},
     "output_type": "execute_result"
    }
   ],
   "source": [
    "((poke[feature_list] - pca.inverse_transform(pca_locs))**2).mean()"
   ]
  },
  {
   "cell_type": "code",
   "execution_count": 288,
   "id": "virtual-robertson",
   "metadata": {},
   "outputs": [
    {
     "data": {
      "text/plain": [
       "HP         0.655808\n",
       "Attack     0.428875\n",
       "Defense    0.630562\n",
       "Sp. Atk    0.400865\n",
       "Sp. Def    0.502480\n",
       "Speed      0.685356\n",
       "dtype: float64"
      ]
     },
     "execution_count": 288,
     "metadata": {},
     "output_type": "execute_result"
    }
   ],
   "source": []
  },
  {
   "cell_type": "code",
   "execution_count": 58,
   "id": "valued-industry",
   "metadata": {},
   "outputs": [
    {
     "data": {
      "text/plain": [
       "HP         427.599416\n",
       "Attack     451.811568\n",
       "Defense    613.165277\n",
       "Sp. Atk    429.225167\n",
       "Sp. Def    389.145139\n",
       "Speed      578.790959\n",
       "dtype: float64"
      ]
     },
     "execution_count": 58,
     "metadata": {},
     "output_type": "execute_result"
    }
   ],
   "source": [
    "((poke[feature_list] - pca.inverse_transform(pca_locs))**2).mean()"
   ]
  },
  {
   "cell_type": "code",
   "execution_count": 61,
   "id": "varying-sword",
   "metadata": {},
   "outputs": [
    {
     "data": {
      "text/plain": [
       "HP         0.078488\n",
       "Attack     0.061948\n",
       "Defense    0.095450\n",
       "Sp. Atk    0.067359\n",
       "Sp. Def    0.065475\n",
       "Speed      0.105134\n",
       "dtype: float64"
      ]
     },
     "execution_count": 61,
     "metadata": {},
     "output_type": "execute_result"
    }
   ],
   "source": [
    "((poke[feature_list] - pca.inverse_transform(pca_locs))**2).mean() / (poke[feature_list]**2).mean()"
   ]
  },
  {
   "cell_type": "code",
   "execution_count": 292,
   "id": "robust-daily",
   "metadata": {},
   "outputs": [
    {
     "data": {
      "text/html": [
       "<div>\n",
       "<style scoped>\n",
       "    .dataframe tbody tr th:only-of-type {\n",
       "        vertical-align: middle;\n",
       "    }\n",
       "\n",
       "    .dataframe tbody tr th {\n",
       "        vertical-align: top;\n",
       "    }\n",
       "\n",
       "    .dataframe thead th {\n",
       "        text-align: right;\n",
       "    }\n",
       "</style>\n",
       "<table border=\"1\" class=\"dataframe\">\n",
       "  <thead>\n",
       "    <tr style=\"text-align: right;\">\n",
       "      <th></th>\n",
       "      <th>HP</th>\n",
       "      <th>Attack</th>\n",
       "      <th>Defense</th>\n",
       "      <th>Sp. Atk</th>\n",
       "      <th>Sp. Def</th>\n",
       "      <th>Speed</th>\n",
       "    </tr>\n",
       "  </thead>\n",
       "  <tbody>\n",
       "    <tr>\n",
       "      <th>0</th>\n",
       "      <td>-9.119912</td>\n",
       "      <td>6.839086</td>\n",
       "      <td>-4.428473</td>\n",
       "      <td>6.176022</td>\n",
       "      <td>1.885215</td>\n",
       "      <td>-8.644146</td>\n",
       "    </tr>\n",
       "    <tr>\n",
       "      <th>1</th>\n",
       "      <td>-4.429075</td>\n",
       "      <td>4.168882</td>\n",
       "      <td>-3.426460</td>\n",
       "      <td>2.608975</td>\n",
       "      <td>2.230727</td>\n",
       "      <td>-4.968264</td>\n",
       "    </tr>\n",
       "    <tr>\n",
       "      <th>2</th>\n",
       "      <td>1.117968</td>\n",
       "      <td>0.908379</td>\n",
       "      <td>-2.158378</td>\n",
       "      <td>-1.912643</td>\n",
       "      <td>2.799651</td>\n",
       "      <td>-0.284398</td>\n",
       "    </tr>\n",
       "    <tr>\n",
       "      <th>3</th>\n",
       "      <td>-12.434772</td>\n",
       "      <td>1.461909</td>\n",
       "      <td>4.235344</td>\n",
       "      <td>4.397741</td>\n",
       "      <td>-2.658498</td>\n",
       "      <td>0.665711</td>\n",
       "    </tr>\n",
       "    <tr>\n",
       "      <th>4</th>\n",
       "      <td>-13.951068</td>\n",
       "      <td>2.366337</td>\n",
       "      <td>3.324037</td>\n",
       "      <td>2.962938</td>\n",
       "      <td>-0.363078</td>\n",
       "      <td>1.222592</td>\n",
       "    </tr>\n",
       "    <tr>\n",
       "      <th>...</th>\n",
       "      <td>...</td>\n",
       "      <td>...</td>\n",
       "      <td>...</td>\n",
       "      <td>...</td>\n",
       "      <td>...</td>\n",
       "      <td>...</td>\n",
       "    </tr>\n",
       "    <tr>\n",
       "      <th>795</th>\n",
       "      <td>-41.210426</td>\n",
       "      <td>12.598765</td>\n",
       "      <td>-0.040888</td>\n",
       "      <td>-0.759527</td>\n",
       "      <td>13.950618</td>\n",
       "      <td>3.321606</td>\n",
       "    </tr>\n",
       "    <tr>\n",
       "      <th>796</th>\n",
       "      <td>-55.277801</td>\n",
       "      <td>16.811595</td>\n",
       "      <td>4.585066</td>\n",
       "      <td>21.067401</td>\n",
       "      <td>-1.531537</td>\n",
       "      <td>-10.763349</td>\n",
       "    </tr>\n",
       "    <tr>\n",
       "      <th>797</th>\n",
       "      <td>-8.785590</td>\n",
       "      <td>22.665176</td>\n",
       "      <td>-25.347983</td>\n",
       "      <td>13.800526</td>\n",
       "      <td>12.849101</td>\n",
       "      <td>-33.526239</td>\n",
       "    </tr>\n",
       "    <tr>\n",
       "      <th>798</th>\n",
       "      <td>-21.625431</td>\n",
       "      <td>32.514717</td>\n",
       "      <td>-31.918839</td>\n",
       "      <td>22.376432</td>\n",
       "      <td>15.861992</td>\n",
       "      <td>-45.884822</td>\n",
       "    </tr>\n",
       "    <tr>\n",
       "      <th>799</th>\n",
       "      <td>-11.221810</td>\n",
       "      <td>1.351358</td>\n",
       "      <td>7.458631</td>\n",
       "      <td>21.974536</td>\n",
       "      <td>-18.786020</td>\n",
       "      <td>-11.933689</td>\n",
       "    </tr>\n",
       "  </tbody>\n",
       "</table>\n",
       "<p>800 rows × 6 columns</p>\n",
       "</div>"
      ],
      "text/plain": [
       "            HP     Attack    Defense    Sp. Atk    Sp. Def      Speed\n",
       "0    -9.119912   6.839086  -4.428473   6.176022   1.885215  -8.644146\n",
       "1    -4.429075   4.168882  -3.426460   2.608975   2.230727  -4.968264\n",
       "2     1.117968   0.908379  -2.158378  -1.912643   2.799651  -0.284398\n",
       "3   -12.434772   1.461909   4.235344   4.397741  -2.658498   0.665711\n",
       "4   -13.951068   2.366337   3.324037   2.962938  -0.363078   1.222592\n",
       "..         ...        ...        ...        ...        ...        ...\n",
       "795 -41.210426  12.598765  -0.040888  -0.759527  13.950618   3.321606\n",
       "796 -55.277801  16.811595   4.585066  21.067401  -1.531537 -10.763349\n",
       "797  -8.785590  22.665176 -25.347983  13.800526  12.849101 -33.526239\n",
       "798 -21.625431  32.514717 -31.918839  22.376432  15.861992 -45.884822\n",
       "799 -11.221810   1.351358   7.458631  21.974536 -18.786020 -11.933689\n",
       "\n",
       "[800 rows x 6 columns]"
      ]
     },
     "execution_count": 292,
     "metadata": {},
     "output_type": "execute_result"
    }
   ],
   "source": [
    "poke[feature_list] - pca.inverse_transform(pca_locs)"
   ]
  },
  {
   "cell_type": "code",
   "execution_count": null,
   "id": "adjusted-uruguay",
   "metadata": {},
   "outputs": [],
   "source": []
  },
  {
   "cell_type": "markdown",
   "id": "final-emperor",
   "metadata": {},
   "source": [
    "PCA: principal component analysis\n",
    "\n",
    "we are learning new \"directions\" in the original feature space, and we can project our data points onto those directions.\n",
    "\n"
   ]
  },
  {
   "cell_type": "markdown",
   "id": "attached-survey",
   "metadata": {},
   "source": [
    "## OSRI"
   ]
  },
  {
   "cell_type": "code",
   "execution_count": 5,
   "id": "accessible-photograph",
   "metadata": {},
   "outputs": [],
   "source": [
    "osri = pd.read_csv('osri-data.csv', sep = '\\t')"
   ]
  },
  {
   "cell_type": "code",
   "execution_count": 296,
   "id": "damaged-hawaiian",
   "metadata": {},
   "outputs": [
    {
     "data": {
      "text/plain": [
       "Index(['Q1', 'Q2', 'Q3', 'Q4', 'Q5', 'Q6', 'Q7', 'Q8', 'Q9', 'Q10', 'Q11',\n",
       "       'Q12', 'Q13', 'Q14', 'Q15', 'Q16', 'Q17', 'Q18', 'Q19', 'Q20', 'Q21',\n",
       "       'Q22', 'Q23', 'Q24', 'Q25', 'Q26', 'Q27', 'Q28', 'Q29', 'Q30', 'Q31',\n",
       "       'Q32', 'Q33', 'Q34', 'Q35', 'Q36', 'Q37', 'Q38', 'Q39', 'Q40', 'Q41',\n",
       "       'Q42', 'Q43', 'Q44', 'introelapse', 'testelapse', 'IP', 'engnat', 'age',\n",
       "       'education', 'gender', 'orientation', 'race', 'religion', 'hand',\n",
       "       'fromgoogle'],\n",
       "      dtype='object')"
      ]
     },
     "execution_count": 296,
     "metadata": {},
     "output_type": "execute_result"
    }
   ],
   "source": [
    "osri.columns"
   ]
  },
  {
   "cell_type": "code",
   "execution_count": 3,
   "id": "renewable-turtle",
   "metadata": {},
   "outputs": [
    {
     "data": {
      "text/plain": [
       "['Q1',\n",
       " 'Q2',\n",
       " 'Q3',\n",
       " 'Q4',\n",
       " 'Q5',\n",
       " 'Q6',\n",
       " 'Q7',\n",
       " 'Q8',\n",
       " 'Q9',\n",
       " 'Q10',\n",
       " 'Q11',\n",
       " 'Q12',\n",
       " 'Q13',\n",
       " 'Q14',\n",
       " 'Q15',\n",
       " 'Q16',\n",
       " 'Q17',\n",
       " 'Q18',\n",
       " 'Q19',\n",
       " 'Q20',\n",
       " 'Q21',\n",
       " 'Q22',\n",
       " 'Q23',\n",
       " 'Q24',\n",
       " 'Q25',\n",
       " 'Q26',\n",
       " 'Q27',\n",
       " 'Q28',\n",
       " 'Q29',\n",
       " 'Q30',\n",
       " 'Q31',\n",
       " 'Q32',\n",
       " 'Q33',\n",
       " 'Q34',\n",
       " 'Q35',\n",
       " 'Q36',\n",
       " 'Q37',\n",
       " 'Q38',\n",
       " 'Q39',\n",
       " 'Q40',\n",
       " 'Q41',\n",
       " 'Q42',\n",
       " 'Q43',\n",
       " 'Q44']"
      ]
     },
     "execution_count": 3,
     "metadata": {},
     "output_type": "execute_result"
    }
   ],
   "source": [
    "features = ['Q'+str(n) for n in range(1, 45)]\n",
    "features"
   ]
  },
  {
   "cell_type": "code",
   "execution_count": 300,
   "id": "searching-heater",
   "metadata": {},
   "outputs": [
    {
     "data": {
      "text/plain": [
       "PCA()"
      ]
     },
     "execution_count": 300,
     "metadata": {},
     "output_type": "execute_result"
    }
   ],
   "source": [
    "pca = PCA()\n",
    "pca.fit(osri[features])"
   ]
  },
  {
   "cell_type": "code",
   "execution_count": 303,
   "id": "double-sheffield",
   "metadata": {},
   "outputs": [
    {
     "data": {
      "text/plain": [
       "[<matplotlib.lines.Line2D at 0x7f3c77de9880>]"
      ]
     },
     "execution_count": 303,
     "metadata": {},
     "output_type": "execute_result"
    },
    {
     "data": {
      "image/png": "[encoded data removed]",
      "text/plain": [
       "<Figure size 432x288 with 1 Axes>"
      ]
     },
     "metadata": {
      "needs_background": "light"
     },
     "output_type": "display_data"
    }
   ],
   "source": [
    "plt.plot(pca.explained_variance_ratio_)"
   ]
  },
  {
   "cell_type": "code",
   "execution_count": 307,
   "id": "circular-panel",
   "metadata": {},
   "outputs": [
    {
     "data": {
      "text/plain": [
       "<BarContainer object of 44 artists>"
      ]
     },
     "execution_count": 307,
     "metadata": {},
     "output_type": "execute_result"
    },
    {
     "data": {
      "image/png": "[encoded data removed]",
      "text/plain": [
       "<Figure size 360x864 with 1 Axes>"
      ]
     },
     "metadata": {
      "needs_background": "light"
     },
     "output_type": "display_data"
    }
   ],
   "source": [
    "plt.figure(figsize = (5, 12))\n",
    "plt.barh(features, pca.components_[0])\n"
   ]
  },
  {
   "cell_type": "code",
   "execution_count": 310,
   "id": "czech-pepper",
   "metadata": {},
   "outputs": [
    {
     "data": {
      "text/plain": [
       "array([1, 3, 2, 0])"
      ]
     },
     "execution_count": 310,
     "metadata": {},
     "output_type": "execute_result"
    }
   ],
   "source": [
    "osri['gender'].unique()"
   ]
  },
  {
   "cell_type": "code",
   "execution_count": 313,
   "id": "written-cause",
   "metadata": {},
   "outputs": [],
   "source": [
    "pc1 = pca.transform(osri[features])[:,0]"
   ]
  },
  {
   "cell_type": "code",
   "execution_count": 321,
   "id": "certain-nutrition",
   "metadata": {},
   "outputs": [
    {
     "data": {
      "text/plain": [
       "Text(0.5, 0, 'PC1')"
      ]
     },
     "execution_count": 321,
     "metadata": {},
     "output_type": "execute_result"
    },
    {
     "data": {
      "image/png": "[encoded data removed]",
      "text/plain": [
       "<Figure size 432x288 with 1 Axes>"
      ]
     },
     "metadata": {
      "needs_background": "light"
     },
     "output_type": "display_data"
    }
   ],
   "source": [
    "colors = {0:'red', 1:'blue', 2:'yellow', 3:'green'}\n",
    "for gender in osri['gender'].unique():\n",
    "    plt.hist(pc1[osri['gender']==gender], color=colors[gender], \n",
    "             alpha=0.5, bins=100)\n",
    "plt.xlabel('PC1')\n"
   ]
  },
  {
   "cell_type": "code",
   "execution_count": 6,
   "id": "light-ocean",
   "metadata": {},
   "outputs": [],
   "source": [
    "correlations = np.zeros((len(features), len(features)))\n",
    "for f1 in features:\n",
    "    for f2 in features:\n",
    "        correlations[features.index(f1), \n",
    "                     features.index(f2)] = np.corrcoef(osri[f1], osri[f2])[0,1]"
   ]
  },
  {
   "cell_type": "code",
   "execution_count": 13,
   "id": "binding-communications",
   "metadata": {},
   "outputs": [
    {
     "data": {
      "text/html": [
       "<div>\n",
       "<style scoped>\n",
       "    .dataframe tbody tr th:only-of-type {\n",
       "        vertical-align: middle;\n",
       "    }\n",
       "\n",
       "    .dataframe tbody tr th {\n",
       "        vertical-align: top;\n",
       "    }\n",
       "\n",
       "    .dataframe thead th {\n",
       "        text-align: right;\n",
       "    }\n",
       "</style>\n",
       "<table border=\"1\" class=\"dataframe\">\n",
       "  <thead>\n",
       "    <tr style=\"text-align: right;\">\n",
       "      <th></th>\n",
       "      <th>Q1</th>\n",
       "      <th>Q2</th>\n",
       "      <th>Q3</th>\n",
       "      <th>Q4</th>\n",
       "      <th>Q5</th>\n",
       "      <th>Q6</th>\n",
       "      <th>Q7</th>\n",
       "      <th>Q8</th>\n",
       "      <th>Q9</th>\n",
       "      <th>Q10</th>\n",
       "      <th>...</th>\n",
       "      <th>Q35</th>\n",
       "      <th>Q36</th>\n",
       "      <th>Q37</th>\n",
       "      <th>Q38</th>\n",
       "      <th>Q39</th>\n",
       "      <th>Q40</th>\n",
       "      <th>Q41</th>\n",
       "      <th>Q42</th>\n",
       "      <th>Q43</th>\n",
       "      <th>Q44</th>\n",
       "    </tr>\n",
       "  </thead>\n",
       "  <tbody>\n",
       "    <tr>\n",
       "      <th>Q1</th>\n",
       "      <td>1.000000</td>\n",
       "      <td>-0.161645</td>\n",
       "      <td>0.278410</td>\n",
       "      <td>-0.076150</td>\n",
       "      <td>0.186066</td>\n",
       "      <td>-0.093306</td>\n",
       "      <td>0.180873</td>\n",
       "      <td>-0.125498</td>\n",
       "      <td>0.242283</td>\n",
       "      <td>-0.089363</td>\n",
       "      <td>...</td>\n",
       "      <td>0.271204</td>\n",
       "      <td>-0.108039</td>\n",
       "      <td>0.157162</td>\n",
       "      <td>-0.084725</td>\n",
       "      <td>0.275752</td>\n",
       "      <td>-0.077076</td>\n",
       "      <td>0.163436</td>\n",
       "      <td>-0.082546</td>\n",
       "      <td>0.194208</td>\n",
       "      <td>-0.121676</td>\n",
       "    </tr>\n",
       "    <tr>\n",
       "      <th>Q2</th>\n",
       "      <td>-0.161645</td>\n",
       "      <td>1.000000</td>\n",
       "      <td>-0.074567</td>\n",
       "      <td>0.309118</td>\n",
       "      <td>-0.086993</td>\n",
       "      <td>0.185068</td>\n",
       "      <td>-0.168595</td>\n",
       "      <td>0.189091</td>\n",
       "      <td>-0.203329</td>\n",
       "      <td>0.216794</td>\n",
       "      <td>...</td>\n",
       "      <td>-0.133209</td>\n",
       "      <td>0.252911</td>\n",
       "      <td>-0.117865</td>\n",
       "      <td>0.261182</td>\n",
       "      <td>-0.116353</td>\n",
       "      <td>0.273236</td>\n",
       "      <td>-0.161826</td>\n",
       "      <td>0.271750</td>\n",
       "      <td>-0.083109</td>\n",
       "      <td>0.334426</td>\n",
       "    </tr>\n",
       "    <tr>\n",
       "      <th>Q3</th>\n",
       "      <td>0.278410</td>\n",
       "      <td>-0.074567</td>\n",
       "      <td>1.000000</td>\n",
       "      <td>0.026732</td>\n",
       "      <td>0.272146</td>\n",
       "      <td>-0.060483</td>\n",
       "      <td>0.235260</td>\n",
       "      <td>-0.125134</td>\n",
       "      <td>0.422585</td>\n",
       "      <td>-0.074090</td>\n",
       "      <td>...</td>\n",
       "      <td>0.362601</td>\n",
       "      <td>-0.073815</td>\n",
       "      <td>0.222452</td>\n",
       "      <td>-0.059105</td>\n",
       "      <td>0.491553</td>\n",
       "      <td>-0.072111</td>\n",
       "      <td>0.213359</td>\n",
       "      <td>-0.042263</td>\n",
       "      <td>0.287779</td>\n",
       "      <td>-0.052671</td>\n",
       "    </tr>\n",
       "    <tr>\n",
       "      <th>Q4</th>\n",
       "      <td>-0.076150</td>\n",
       "      <td>0.309118</td>\n",
       "      <td>0.026732</td>\n",
       "      <td>1.000000</td>\n",
       "      <td>0.042574</td>\n",
       "      <td>0.118803</td>\n",
       "      <td>-0.079375</td>\n",
       "      <td>0.205877</td>\n",
       "      <td>-0.132972</td>\n",
       "      <td>0.097375</td>\n",
       "      <td>...</td>\n",
       "      <td>0.025584</td>\n",
       "      <td>0.269113</td>\n",
       "      <td>-0.107292</td>\n",
       "      <td>0.384944</td>\n",
       "      <td>-0.033703</td>\n",
       "      <td>0.233955</td>\n",
       "      <td>-0.066130</td>\n",
       "      <td>0.317548</td>\n",
       "      <td>-0.054646</td>\n",
       "      <td>0.344356</td>\n",
       "    </tr>\n",
       "    <tr>\n",
       "      <th>Q5</th>\n",
       "      <td>0.186066</td>\n",
       "      <td>-0.086993</td>\n",
       "      <td>0.272146</td>\n",
       "      <td>0.042574</td>\n",
       "      <td>1.000000</td>\n",
       "      <td>0.030301</td>\n",
       "      <td>0.219949</td>\n",
       "      <td>-0.074628</td>\n",
       "      <td>0.216981</td>\n",
       "      <td>-0.052054</td>\n",
       "      <td>...</td>\n",
       "      <td>0.235292</td>\n",
       "      <td>-0.069635</td>\n",
       "      <td>0.149130</td>\n",
       "      <td>-0.002279</td>\n",
       "      <td>0.240851</td>\n",
       "      <td>-0.035301</td>\n",
       "      <td>0.183145</td>\n",
       "      <td>-0.044412</td>\n",
       "      <td>0.244249</td>\n",
       "      <td>-0.057310</td>\n",
       "    </tr>\n",
       "    <tr>\n",
       "      <th>Q6</th>\n",
       "      <td>-0.093306</td>\n",
       "      <td>0.185068</td>\n",
       "      <td>-0.060483</td>\n",
       "      <td>0.118803</td>\n",
       "      <td>0.030301</td>\n",
       "      <td>1.000000</td>\n",
       "      <td>-0.022880</td>\n",
       "      <td>0.090294</td>\n",
       "      <td>-0.102632</td>\n",
       "      <td>0.222758</td>\n",
       "      <td>...</td>\n",
       "      <td>-0.044206</td>\n",
       "      <td>0.055801</td>\n",
       "      <td>0.051511</td>\n",
       "      <td>0.066254</td>\n",
       "      <td>-0.072465</td>\n",
       "      <td>0.008488</td>\n",
       "      <td>-0.045722</td>\n",
       "      <td>0.131064</td>\n",
       "      <td>-0.025453</td>\n",
       "      <td>0.158738</td>\n",
       "    </tr>\n",
       "    <tr>\n",
       "      <th>Q7</th>\n",
       "      <td>0.180873</td>\n",
       "      <td>-0.168595</td>\n",
       "      <td>0.235260</td>\n",
       "      <td>-0.079375</td>\n",
       "      <td>0.219949</td>\n",
       "      <td>-0.022880</td>\n",
       "      <td>1.000000</td>\n",
       "      <td>-0.066451</td>\n",
       "      <td>0.300946</td>\n",
       "      <td>-0.045857</td>\n",
       "      <td>...</td>\n",
       "      <td>0.220871</td>\n",
       "      <td>-0.108772</td>\n",
       "      <td>0.185581</td>\n",
       "      <td>-0.097936</td>\n",
       "      <td>0.226894</td>\n",
       "      <td>-0.110578</td>\n",
       "      <td>0.137530</td>\n",
       "      <td>-0.088334</td>\n",
       "      <td>0.181716</td>\n",
       "      <td>-0.099949</td>\n",
       "    </tr>\n",
       "    <tr>\n",
       "      <th>Q8</th>\n",
       "      <td>-0.125498</td>\n",
       "      <td>0.189091</td>\n",
       "      <td>-0.125134</td>\n",
       "      <td>0.205877</td>\n",
       "      <td>-0.074628</td>\n",
       "      <td>0.090294</td>\n",
       "      <td>-0.066451</td>\n",
       "      <td>1.000000</td>\n",
       "      <td>-0.125939</td>\n",
       "      <td>0.106798</td>\n",
       "      <td>...</td>\n",
       "      <td>-0.126466</td>\n",
       "      <td>0.256291</td>\n",
       "      <td>-0.126134</td>\n",
       "      <td>0.263907</td>\n",
       "      <td>-0.140116</td>\n",
       "      <td>0.188246</td>\n",
       "      <td>-0.091728</td>\n",
       "      <td>0.183405</td>\n",
       "      <td>-0.128120</td>\n",
       "      <td>0.197477</td>\n",
       "    </tr>\n",
       "    <tr>\n",
       "      <th>Q9</th>\n",
       "      <td>0.242283</td>\n",
       "      <td>-0.203329</td>\n",
       "      <td>0.422585</td>\n",
       "      <td>-0.132972</td>\n",
       "      <td>0.216981</td>\n",
       "      <td>-0.102632</td>\n",
       "      <td>0.300946</td>\n",
       "      <td>-0.125939</td>\n",
       "      <td>1.000000</td>\n",
       "      <td>-0.060787</td>\n",
       "      <td>...</td>\n",
       "      <td>0.276336</td>\n",
       "      <td>-0.114042</td>\n",
       "      <td>0.227452</td>\n",
       "      <td>-0.151685</td>\n",
       "      <td>0.369958</td>\n",
       "      <td>-0.139811</td>\n",
       "      <td>0.175420</td>\n",
       "      <td>-0.132505</td>\n",
       "      <td>0.281845</td>\n",
       "      <td>-0.141642</td>\n",
       "    </tr>\n",
       "    <tr>\n",
       "      <th>Q10</th>\n",
       "      <td>-0.089363</td>\n",
       "      <td>0.216794</td>\n",
       "      <td>-0.074090</td>\n",
       "      <td>0.097375</td>\n",
       "      <td>-0.052054</td>\n",
       "      <td>0.222758</td>\n",
       "      <td>-0.045857</td>\n",
       "      <td>0.106798</td>\n",
       "      <td>-0.060787</td>\n",
       "      <td>1.000000</td>\n",
       "      <td>...</td>\n",
       "      <td>-0.066509</td>\n",
       "      <td>0.093148</td>\n",
       "      <td>0.042765</td>\n",
       "      <td>0.087594</td>\n",
       "      <td>-0.076806</td>\n",
       "      <td>0.043850</td>\n",
       "      <td>-0.102289</td>\n",
       "      <td>0.165808</td>\n",
       "      <td>-0.040694</td>\n",
       "      <td>0.165560</td>\n",
       "    </tr>\n",
       "    <tr>\n",
       "      <th>Q11</th>\n",
       "      <td>0.103939</td>\n",
       "      <td>-0.058459</td>\n",
       "      <td>0.147889</td>\n",
       "      <td>-0.133556</td>\n",
       "      <td>0.065582</td>\n",
       "      <td>0.043203</td>\n",
       "      <td>0.066872</td>\n",
       "      <td>-0.144459</td>\n",
       "      <td>0.161799</td>\n",
       "      <td>0.055621</td>\n",
       "      <td>...</td>\n",
       "      <td>0.101221</td>\n",
       "      <td>-0.128786</td>\n",
       "      <td>0.171592</td>\n",
       "      <td>-0.132048</td>\n",
       "      <td>0.171067</td>\n",
       "      <td>-0.105697</td>\n",
       "      <td>0.073988</td>\n",
       "      <td>-0.081216</td>\n",
       "      <td>0.127574</td>\n",
       "      <td>-0.059251</td>\n",
       "    </tr>\n",
       "    <tr>\n",
       "      <th>Q12</th>\n",
       "      <td>-0.138156</td>\n",
       "      <td>0.261035</td>\n",
       "      <td>-0.140855</td>\n",
       "      <td>0.212230</td>\n",
       "      <td>-0.115997</td>\n",
       "      <td>0.051963</td>\n",
       "      <td>-0.147062</td>\n",
       "      <td>0.236564</td>\n",
       "      <td>-0.165634</td>\n",
       "      <td>0.102121</td>\n",
       "      <td>...</td>\n",
       "      <td>-0.154508</td>\n",
       "      <td>0.257845</td>\n",
       "      <td>-0.209477</td>\n",
       "      <td>0.263916</td>\n",
       "      <td>-0.159964</td>\n",
       "      <td>0.275602</td>\n",
       "      <td>-0.146674</td>\n",
       "      <td>0.251693</td>\n",
       "      <td>-0.163474</td>\n",
       "      <td>0.232389</td>\n",
       "    </tr>\n",
       "    <tr>\n",
       "      <th>Q13</th>\n",
       "      <td>0.204992</td>\n",
       "      <td>-0.261547</td>\n",
       "      <td>0.071477</td>\n",
       "      <td>-0.226960</td>\n",
       "      <td>0.071675</td>\n",
       "      <td>-0.074189</td>\n",
       "      <td>0.091167</td>\n",
       "      <td>-0.096960</td>\n",
       "      <td>0.147060</td>\n",
       "      <td>-0.108737</td>\n",
       "      <td>...</td>\n",
       "      <td>0.204506</td>\n",
       "      <td>-0.185551</td>\n",
       "      <td>0.101334</td>\n",
       "      <td>-0.197974</td>\n",
       "      <td>0.121848</td>\n",
       "      <td>-0.159672</td>\n",
       "      <td>0.161926</td>\n",
       "      <td>-0.163821</td>\n",
       "      <td>0.100110</td>\n",
       "      <td>-0.242416</td>\n",
       "    </tr>\n",
       "    <tr>\n",
       "      <th>Q14</th>\n",
       "      <td>-0.095871</td>\n",
       "      <td>0.300230</td>\n",
       "      <td>-0.064978</td>\n",
       "      <td>0.234704</td>\n",
       "      <td>-0.015648</td>\n",
       "      <td>0.110775</td>\n",
       "      <td>-0.098292</td>\n",
       "      <td>0.183324</td>\n",
       "      <td>-0.147923</td>\n",
       "      <td>0.109255</td>\n",
       "      <td>...</td>\n",
       "      <td>-0.083826</td>\n",
       "      <td>0.237851</td>\n",
       "      <td>-0.105416</td>\n",
       "      <td>0.275868</td>\n",
       "      <td>-0.087544</td>\n",
       "      <td>0.605570</td>\n",
       "      <td>-0.020665</td>\n",
       "      <td>0.227317</td>\n",
       "      <td>-0.064956</td>\n",
       "      <td>0.259352</td>\n",
       "    </tr>\n",
       "    <tr>\n",
       "      <th>Q15</th>\n",
       "      <td>0.222185</td>\n",
       "      <td>-0.007698</td>\n",
       "      <td>0.344002</td>\n",
       "      <td>-0.017122</td>\n",
       "      <td>0.303940</td>\n",
       "      <td>0.002828</td>\n",
       "      <td>0.240757</td>\n",
       "      <td>-0.118760</td>\n",
       "      <td>0.313260</td>\n",
       "      <td>-0.002443</td>\n",
       "      <td>...</td>\n",
       "      <td>0.252518</td>\n",
       "      <td>-0.086618</td>\n",
       "      <td>0.170044</td>\n",
       "      <td>-0.075293</td>\n",
       "      <td>0.349267</td>\n",
       "      <td>-0.021636</td>\n",
       "      <td>0.184085</td>\n",
       "      <td>-0.052395</td>\n",
       "      <td>0.379533</td>\n",
       "      <td>-0.034751</td>\n",
       "    </tr>\n",
       "    <tr>\n",
       "      <th>Q16</th>\n",
       "      <td>-0.100451</td>\n",
       "      <td>0.301678</td>\n",
       "      <td>-0.088880</td>\n",
       "      <td>0.271175</td>\n",
       "      <td>-0.019926</td>\n",
       "      <td>0.066354</td>\n",
       "      <td>-0.093722</td>\n",
       "      <td>0.219715</td>\n",
       "      <td>-0.175363</td>\n",
       "      <td>0.100203</td>\n",
       "      <td>...</td>\n",
       "      <td>-0.104600</td>\n",
       "      <td>0.286153</td>\n",
       "      <td>-0.184987</td>\n",
       "      <td>0.311030</td>\n",
       "      <td>-0.087652</td>\n",
       "      <td>0.337478</td>\n",
       "      <td>-0.087688</td>\n",
       "      <td>0.235915</td>\n",
       "      <td>-0.073708</td>\n",
       "      <td>0.258890</td>\n",
       "    </tr>\n",
       "    <tr>\n",
       "      <th>Q17</th>\n",
       "      <td>0.194356</td>\n",
       "      <td>-0.113822</td>\n",
       "      <td>0.324043</td>\n",
       "      <td>-0.076171</td>\n",
       "      <td>0.258688</td>\n",
       "      <td>-0.087481</td>\n",
       "      <td>0.279731</td>\n",
       "      <td>-0.105763</td>\n",
       "      <td>0.428297</td>\n",
       "      <td>-0.078428</td>\n",
       "      <td>...</td>\n",
       "      <td>0.250182</td>\n",
       "      <td>-0.078111</td>\n",
       "      <td>0.124763</td>\n",
       "      <td>-0.083898</td>\n",
       "      <td>0.293477</td>\n",
       "      <td>-0.065114</td>\n",
       "      <td>0.167303</td>\n",
       "      <td>-0.085517</td>\n",
       "      <td>0.258371</td>\n",
       "      <td>-0.125507</td>\n",
       "    </tr>\n",
       "    <tr>\n",
       "      <th>Q18</th>\n",
       "      <td>-0.067247</td>\n",
       "      <td>0.197949</td>\n",
       "      <td>-0.008225</td>\n",
       "      <td>0.137290</td>\n",
       "      <td>-0.002288</td>\n",
       "      <td>0.216637</td>\n",
       "      <td>-0.035682</td>\n",
       "      <td>0.075767</td>\n",
       "      <td>-0.070945</td>\n",
       "      <td>0.178498</td>\n",
       "      <td>...</td>\n",
       "      <td>-0.010806</td>\n",
       "      <td>0.105202</td>\n",
       "      <td>0.009079</td>\n",
       "      <td>0.110823</td>\n",
       "      <td>0.000349</td>\n",
       "      <td>0.074215</td>\n",
       "      <td>0.021728</td>\n",
       "      <td>0.130031</td>\n",
       "      <td>0.015346</td>\n",
       "      <td>0.156574</td>\n",
       "    </tr>\n",
       "    <tr>\n",
       "      <th>Q19</th>\n",
       "      <td>0.166038</td>\n",
       "      <td>-0.172418</td>\n",
       "      <td>0.207120</td>\n",
       "      <td>-0.158205</td>\n",
       "      <td>0.082760</td>\n",
       "      <td>-0.063874</td>\n",
       "      <td>0.133872</td>\n",
       "      <td>-0.174278</td>\n",
       "      <td>0.265683</td>\n",
       "      <td>-0.047331</td>\n",
       "      <td>...</td>\n",
       "      <td>0.166608</td>\n",
       "      <td>-0.185092</td>\n",
       "      <td>0.130415</td>\n",
       "      <td>-0.231382</td>\n",
       "      <td>0.218557</td>\n",
       "      <td>-0.189664</td>\n",
       "      <td>0.141564</td>\n",
       "      <td>-0.139686</td>\n",
       "      <td>0.239519</td>\n",
       "      <td>-0.192946</td>\n",
       "    </tr>\n",
       "    <tr>\n",
       "      <th>Q20</th>\n",
       "      <td>-0.207836</td>\n",
       "      <td>0.385317</td>\n",
       "      <td>-0.177742</td>\n",
       "      <td>0.269640</td>\n",
       "      <td>-0.102117</td>\n",
       "      <td>0.253615</td>\n",
       "      <td>-0.159576</td>\n",
       "      <td>0.234571</td>\n",
       "      <td>-0.223791</td>\n",
       "      <td>0.239276</td>\n",
       "      <td>...</td>\n",
       "      <td>-0.179021</td>\n",
       "      <td>0.261118</td>\n",
       "      <td>-0.120374</td>\n",
       "      <td>0.302353</td>\n",
       "      <td>-0.196764</td>\n",
       "      <td>0.252211</td>\n",
       "      <td>-0.177144</td>\n",
       "      <td>0.272875</td>\n",
       "      <td>-0.149070</td>\n",
       "      <td>0.316513</td>\n",
       "    </tr>\n",
       "    <tr>\n",
       "      <th>Q21</th>\n",
       "      <td>0.120325</td>\n",
       "      <td>-0.108408</td>\n",
       "      <td>0.152900</td>\n",
       "      <td>-0.137111</td>\n",
       "      <td>0.107673</td>\n",
       "      <td>-0.005552</td>\n",
       "      <td>0.104167</td>\n",
       "      <td>-0.706307</td>\n",
       "      <td>0.132358</td>\n",
       "      <td>-0.031981</td>\n",
       "      <td>...</td>\n",
       "      <td>0.149412</td>\n",
       "      <td>-0.210028</td>\n",
       "      <td>0.158931</td>\n",
       "      <td>-0.207903</td>\n",
       "      <td>0.165667</td>\n",
       "      <td>-0.153236</td>\n",
       "      <td>0.109294</td>\n",
       "      <td>-0.129750</td>\n",
       "      <td>0.153347</td>\n",
       "      <td>-0.128537</td>\n",
       "    </tr>\n",
       "    <tr>\n",
       "      <th>Q22</th>\n",
       "      <td>-0.102542</td>\n",
       "      <td>0.216077</td>\n",
       "      <td>-0.108415</td>\n",
       "      <td>0.295199</td>\n",
       "      <td>-0.026896</td>\n",
       "      <td>0.135080</td>\n",
       "      <td>-0.080488</td>\n",
       "      <td>0.244270</td>\n",
       "      <td>-0.154589</td>\n",
       "      <td>0.099725</td>\n",
       "      <td>...</td>\n",
       "      <td>-0.072952</td>\n",
       "      <td>0.271202</td>\n",
       "      <td>-0.110924</td>\n",
       "      <td>0.345495</td>\n",
       "      <td>-0.123209</td>\n",
       "      <td>0.220075</td>\n",
       "      <td>-0.069794</td>\n",
       "      <td>0.211012</td>\n",
       "      <td>-0.106921</td>\n",
       "      <td>0.280192</td>\n",
       "    </tr>\n",
       "    <tr>\n",
       "      <th>Q23</th>\n",
       "      <td>0.091319</td>\n",
       "      <td>0.000574</td>\n",
       "      <td>0.197671</td>\n",
       "      <td>-0.022313</td>\n",
       "      <td>0.133670</td>\n",
       "      <td>0.063101</td>\n",
       "      <td>0.153182</td>\n",
       "      <td>-0.024044</td>\n",
       "      <td>0.170857</td>\n",
       "      <td>0.056742</td>\n",
       "      <td>...</td>\n",
       "      <td>0.131075</td>\n",
       "      <td>-0.018151</td>\n",
       "      <td>0.186197</td>\n",
       "      <td>-0.066697</td>\n",
       "      <td>0.223209</td>\n",
       "      <td>-0.065152</td>\n",
       "      <td>0.134588</td>\n",
       "      <td>-0.035146</td>\n",
       "      <td>0.187220</td>\n",
       "      <td>-0.003520</td>\n",
       "    </tr>\n",
       "    <tr>\n",
       "      <th>Q24</th>\n",
       "      <td>-0.165197</td>\n",
       "      <td>0.259756</td>\n",
       "      <td>-0.090738</td>\n",
       "      <td>0.184170</td>\n",
       "      <td>-0.044818</td>\n",
       "      <td>0.146011</td>\n",
       "      <td>-0.086266</td>\n",
       "      <td>0.162787</td>\n",
       "      <td>-0.193447</td>\n",
       "      <td>0.150215</td>\n",
       "      <td>...</td>\n",
       "      <td>-0.106913</td>\n",
       "      <td>0.166009</td>\n",
       "      <td>-0.068996</td>\n",
       "      <td>0.182877</td>\n",
       "      <td>-0.119759</td>\n",
       "      <td>0.144449</td>\n",
       "      <td>-0.095073</td>\n",
       "      <td>0.155988</td>\n",
       "      <td>-0.089038</td>\n",
       "      <td>0.200531</td>\n",
       "    </tr>\n",
       "    <tr>\n",
       "      <th>Q25</th>\n",
       "      <td>0.230237</td>\n",
       "      <td>-0.254661</td>\n",
       "      <td>0.255996</td>\n",
       "      <td>-0.109007</td>\n",
       "      <td>0.210481</td>\n",
       "      <td>-0.162096</td>\n",
       "      <td>0.173790</td>\n",
       "      <td>-0.093837</td>\n",
       "      <td>0.264229</td>\n",
       "      <td>-0.173468</td>\n",
       "      <td>...</td>\n",
       "      <td>0.219397</td>\n",
       "      <td>-0.080688</td>\n",
       "      <td>0.103709</td>\n",
       "      <td>-0.097957</td>\n",
       "      <td>0.243623</td>\n",
       "      <td>-0.051220</td>\n",
       "      <td>0.272397</td>\n",
       "      <td>-0.142451</td>\n",
       "      <td>0.190611</td>\n",
       "      <td>-0.166384</td>\n",
       "    </tr>\n",
       "    <tr>\n",
       "      <th>Q26</th>\n",
       "      <td>-0.099113</td>\n",
       "      <td>0.268453</td>\n",
       "      <td>-0.079730</td>\n",
       "      <td>0.255683</td>\n",
       "      <td>-0.011540</td>\n",
       "      <td>0.133637</td>\n",
       "      <td>-0.088122</td>\n",
       "      <td>0.192567</td>\n",
       "      <td>-0.141072</td>\n",
       "      <td>0.128751</td>\n",
       "      <td>...</td>\n",
       "      <td>-0.071732</td>\n",
       "      <td>0.262551</td>\n",
       "      <td>-0.075533</td>\n",
       "      <td>0.327768</td>\n",
       "      <td>-0.102361</td>\n",
       "      <td>0.353507</td>\n",
       "      <td>-0.021892</td>\n",
       "      <td>0.245382</td>\n",
       "      <td>-0.070193</td>\n",
       "      <td>0.310902</td>\n",
       "    </tr>\n",
       "    <tr>\n",
       "      <th>Q27</th>\n",
       "      <td>0.190648</td>\n",
       "      <td>-0.078678</td>\n",
       "      <td>0.282147</td>\n",
       "      <td>-0.053224</td>\n",
       "      <td>0.239373</td>\n",
       "      <td>-0.019504</td>\n",
       "      <td>0.178891</td>\n",
       "      <td>-0.127502</td>\n",
       "      <td>0.275294</td>\n",
       "      <td>-0.036220</td>\n",
       "      <td>...</td>\n",
       "      <td>0.234938</td>\n",
       "      <td>-0.079636</td>\n",
       "      <td>0.135458</td>\n",
       "      <td>-0.108432</td>\n",
       "      <td>0.331868</td>\n",
       "      <td>-0.082857</td>\n",
       "      <td>0.197904</td>\n",
       "      <td>-0.064714</td>\n",
       "      <td>0.923622</td>\n",
       "      <td>-0.067097</td>\n",
       "    </tr>\n",
       "    <tr>\n",
       "      <th>Q28</th>\n",
       "      <td>-0.101627</td>\n",
       "      <td>0.296684</td>\n",
       "      <td>-0.062183</td>\n",
       "      <td>0.261942</td>\n",
       "      <td>-0.046635</td>\n",
       "      <td>0.194401</td>\n",
       "      <td>-0.084878</td>\n",
       "      <td>0.164593</td>\n",
       "      <td>-0.159288</td>\n",
       "      <td>0.244437</td>\n",
       "      <td>...</td>\n",
       "      <td>-0.068137</td>\n",
       "      <td>0.226782</td>\n",
       "      <td>-0.038787</td>\n",
       "      <td>0.272283</td>\n",
       "      <td>-0.072788</td>\n",
       "      <td>0.211401</td>\n",
       "      <td>-0.055181</td>\n",
       "      <td>0.305540</td>\n",
       "      <td>-0.048187</td>\n",
       "      <td>0.307866</td>\n",
       "    </tr>\n",
       "    <tr>\n",
       "      <th>Q29</th>\n",
       "      <td>0.229106</td>\n",
       "      <td>-0.108350</td>\n",
       "      <td>0.355460</td>\n",
       "      <td>-0.004523</td>\n",
       "      <td>0.194055</td>\n",
       "      <td>-0.073771</td>\n",
       "      <td>0.159733</td>\n",
       "      <td>-0.118146</td>\n",
       "      <td>0.250823</td>\n",
       "      <td>-0.073811</td>\n",
       "      <td>...</td>\n",
       "      <td>0.344589</td>\n",
       "      <td>-0.061706</td>\n",
       "      <td>0.132470</td>\n",
       "      <td>-0.067145</td>\n",
       "      <td>0.456162</td>\n",
       "      <td>-0.076943</td>\n",
       "      <td>0.208193</td>\n",
       "      <td>-0.049257</td>\n",
       "      <td>0.256210</td>\n",
       "      <td>-0.076669</td>\n",
       "    </tr>\n",
       "    <tr>\n",
       "      <th>Q30</th>\n",
       "      <td>-0.126539</td>\n",
       "      <td>0.333604</td>\n",
       "      <td>-0.089868</td>\n",
       "      <td>0.250981</td>\n",
       "      <td>-0.058076</td>\n",
       "      <td>0.145178</td>\n",
       "      <td>-0.117565</td>\n",
       "      <td>0.240560</td>\n",
       "      <td>-0.141281</td>\n",
       "      <td>0.194541</td>\n",
       "      <td>...</td>\n",
       "      <td>-0.137954</td>\n",
       "      <td>0.250785</td>\n",
       "      <td>-0.095761</td>\n",
       "      <td>0.278233</td>\n",
       "      <td>-0.126399</td>\n",
       "      <td>0.271444</td>\n",
       "      <td>-0.130290</td>\n",
       "      <td>0.243673</td>\n",
       "      <td>-0.065534</td>\n",
       "      <td>0.289348</td>\n",
       "    </tr>\n",
       "    <tr>\n",
       "      <th>Q31</th>\n",
       "      <td>0.171359</td>\n",
       "      <td>-0.207202</td>\n",
       "      <td>0.197323</td>\n",
       "      <td>-0.127484</td>\n",
       "      <td>0.158361</td>\n",
       "      <td>-0.064104</td>\n",
       "      <td>0.170159</td>\n",
       "      <td>-0.180237</td>\n",
       "      <td>0.169272</td>\n",
       "      <td>-0.095923</td>\n",
       "      <td>...</td>\n",
       "      <td>0.234838</td>\n",
       "      <td>-0.252895</td>\n",
       "      <td>0.171955</td>\n",
       "      <td>-0.164636</td>\n",
       "      <td>0.215902</td>\n",
       "      <td>-0.192885</td>\n",
       "      <td>0.173101</td>\n",
       "      <td>-0.157289</td>\n",
       "      <td>0.183450</td>\n",
       "      <td>-0.199179</td>\n",
       "    </tr>\n",
       "    <tr>\n",
       "      <th>Q32</th>\n",
       "      <td>-0.082959</td>\n",
       "      <td>0.266668</td>\n",
       "      <td>-0.095044</td>\n",
       "      <td>0.173469</td>\n",
       "      <td>-0.035038</td>\n",
       "      <td>0.103889</td>\n",
       "      <td>-0.091461</td>\n",
       "      <td>0.085933</td>\n",
       "      <td>-0.241622</td>\n",
       "      <td>0.041028</td>\n",
       "      <td>...</td>\n",
       "      <td>-0.053948</td>\n",
       "      <td>0.125008</td>\n",
       "      <td>-0.145281</td>\n",
       "      <td>0.169800</td>\n",
       "      <td>-0.068042</td>\n",
       "      <td>0.176856</td>\n",
       "      <td>-0.053019</td>\n",
       "      <td>0.144408</td>\n",
       "      <td>-0.035626</td>\n",
       "      <td>0.168109</td>\n",
       "    </tr>\n",
       "    <tr>\n",
       "      <th>Q33</th>\n",
       "      <td>0.117379</td>\n",
       "      <td>-0.214706</td>\n",
       "      <td>0.139072</td>\n",
       "      <td>-0.126963</td>\n",
       "      <td>0.129555</td>\n",
       "      <td>-0.026829</td>\n",
       "      <td>0.141892</td>\n",
       "      <td>-0.176672</td>\n",
       "      <td>0.133732</td>\n",
       "      <td>-0.051611</td>\n",
       "      <td>...</td>\n",
       "      <td>0.184179</td>\n",
       "      <td>-0.254029</td>\n",
       "      <td>0.120044</td>\n",
       "      <td>-0.179116</td>\n",
       "      <td>0.159217</td>\n",
       "      <td>-0.236250</td>\n",
       "      <td>0.122169</td>\n",
       "      <td>-0.176304</td>\n",
       "      <td>0.154136</td>\n",
       "      <td>-0.248530</td>\n",
       "    </tr>\n",
       "    <tr>\n",
       "      <th>Q34</th>\n",
       "      <td>-0.108418</td>\n",
       "      <td>0.275248</td>\n",
       "      <td>-0.093740</td>\n",
       "      <td>0.279440</td>\n",
       "      <td>-0.050329</td>\n",
       "      <td>0.083682</td>\n",
       "      <td>-0.107860</td>\n",
       "      <td>0.192075</td>\n",
       "      <td>-0.181330</td>\n",
       "      <td>0.070750</td>\n",
       "      <td>...</td>\n",
       "      <td>-0.066400</td>\n",
       "      <td>0.263138</td>\n",
       "      <td>-0.143306</td>\n",
       "      <td>0.326661</td>\n",
       "      <td>-0.117398</td>\n",
       "      <td>0.252460</td>\n",
       "      <td>-0.101644</td>\n",
       "      <td>0.209952</td>\n",
       "      <td>-0.081002</td>\n",
       "      <td>0.274353</td>\n",
       "    </tr>\n",
       "    <tr>\n",
       "      <th>Q35</th>\n",
       "      <td>0.271204</td>\n",
       "      <td>-0.133209</td>\n",
       "      <td>0.362601</td>\n",
       "      <td>0.025584</td>\n",
       "      <td>0.235292</td>\n",
       "      <td>-0.044206</td>\n",
       "      <td>0.220871</td>\n",
       "      <td>-0.126466</td>\n",
       "      <td>0.276336</td>\n",
       "      <td>-0.066509</td>\n",
       "      <td>...</td>\n",
       "      <td>1.000000</td>\n",
       "      <td>-0.063904</td>\n",
       "      <td>0.243537</td>\n",
       "      <td>-0.038882</td>\n",
       "      <td>0.415536</td>\n",
       "      <td>-0.097130</td>\n",
       "      <td>0.225826</td>\n",
       "      <td>-0.023456</td>\n",
       "      <td>0.239297</td>\n",
       "      <td>-0.048863</td>\n",
       "    </tr>\n",
       "    <tr>\n",
       "      <th>Q36</th>\n",
       "      <td>-0.108039</td>\n",
       "      <td>0.252911</td>\n",
       "      <td>-0.073815</td>\n",
       "      <td>0.269113</td>\n",
       "      <td>-0.069635</td>\n",
       "      <td>0.055801</td>\n",
       "      <td>-0.108772</td>\n",
       "      <td>0.256291</td>\n",
       "      <td>-0.114042</td>\n",
       "      <td>0.093148</td>\n",
       "      <td>...</td>\n",
       "      <td>-0.063904</td>\n",
       "      <td>1.000000</td>\n",
       "      <td>-0.113153</td>\n",
       "      <td>0.349542</td>\n",
       "      <td>-0.071627</td>\n",
       "      <td>0.273907</td>\n",
       "      <td>-0.081113</td>\n",
       "      <td>0.224524</td>\n",
       "      <td>-0.080595</td>\n",
       "      <td>0.323660</td>\n",
       "    </tr>\n",
       "    <tr>\n",
       "      <th>Q37</th>\n",
       "      <td>0.157162</td>\n",
       "      <td>-0.117865</td>\n",
       "      <td>0.222452</td>\n",
       "      <td>-0.107292</td>\n",
       "      <td>0.149130</td>\n",
       "      <td>0.051511</td>\n",
       "      <td>0.185581</td>\n",
       "      <td>-0.126134</td>\n",
       "      <td>0.227452</td>\n",
       "      <td>0.042765</td>\n",
       "      <td>...</td>\n",
       "      <td>0.243537</td>\n",
       "      <td>-0.113153</td>\n",
       "      <td>1.000000</td>\n",
       "      <td>-0.084172</td>\n",
       "      <td>0.213989</td>\n",
       "      <td>-0.165883</td>\n",
       "      <td>0.129995</td>\n",
       "      <td>-0.071918</td>\n",
       "      <td>0.136767</td>\n",
       "      <td>-0.020273</td>\n",
       "    </tr>\n",
       "    <tr>\n",
       "      <th>Q38</th>\n",
       "      <td>-0.084725</td>\n",
       "      <td>0.261182</td>\n",
       "      <td>-0.059105</td>\n",
       "      <td>0.384944</td>\n",
       "      <td>-0.002279</td>\n",
       "      <td>0.066254</td>\n",
       "      <td>-0.097936</td>\n",
       "      <td>0.263907</td>\n",
       "      <td>-0.151685</td>\n",
       "      <td>0.087594</td>\n",
       "      <td>...</td>\n",
       "      <td>-0.038882</td>\n",
       "      <td>0.349542</td>\n",
       "      <td>-0.084172</td>\n",
       "      <td>1.000000</td>\n",
       "      <td>-0.063328</td>\n",
       "      <td>0.303309</td>\n",
       "      <td>-0.081878</td>\n",
       "      <td>0.289060</td>\n",
       "      <td>-0.110174</td>\n",
       "      <td>0.341155</td>\n",
       "    </tr>\n",
       "    <tr>\n",
       "      <th>Q39</th>\n",
       "      <td>0.275752</td>\n",
       "      <td>-0.116353</td>\n",
       "      <td>0.491553</td>\n",
       "      <td>-0.033703</td>\n",
       "      <td>0.240851</td>\n",
       "      <td>-0.072465</td>\n",
       "      <td>0.226894</td>\n",
       "      <td>-0.140116</td>\n",
       "      <td>0.369958</td>\n",
       "      <td>-0.076806</td>\n",
       "      <td>...</td>\n",
       "      <td>0.415536</td>\n",
       "      <td>-0.071627</td>\n",
       "      <td>0.213989</td>\n",
       "      <td>-0.063328</td>\n",
       "      <td>1.000000</td>\n",
       "      <td>-0.073529</td>\n",
       "      <td>0.248354</td>\n",
       "      <td>-0.046113</td>\n",
       "      <td>0.345477</td>\n",
       "      <td>-0.064315</td>\n",
       "    </tr>\n",
       "    <tr>\n",
       "      <th>Q40</th>\n",
       "      <td>-0.077076</td>\n",
       "      <td>0.273236</td>\n",
       "      <td>-0.072111</td>\n",
       "      <td>0.233955</td>\n",
       "      <td>-0.035301</td>\n",
       "      <td>0.008488</td>\n",
       "      <td>-0.110578</td>\n",
       "      <td>0.188246</td>\n",
       "      <td>-0.139811</td>\n",
       "      <td>0.043850</td>\n",
       "      <td>...</td>\n",
       "      <td>-0.097130</td>\n",
       "      <td>0.273907</td>\n",
       "      <td>-0.165883</td>\n",
       "      <td>0.303309</td>\n",
       "      <td>-0.073529</td>\n",
       "      <td>1.000000</td>\n",
       "      <td>-0.013090</td>\n",
       "      <td>0.215002</td>\n",
       "      <td>-0.084132</td>\n",
       "      <td>0.244812</td>\n",
       "    </tr>\n",
       "    <tr>\n",
       "      <th>Q41</th>\n",
       "      <td>0.163436</td>\n",
       "      <td>-0.161826</td>\n",
       "      <td>0.213359</td>\n",
       "      <td>-0.066130</td>\n",
       "      <td>0.183145</td>\n",
       "      <td>-0.045722</td>\n",
       "      <td>0.137530</td>\n",
       "      <td>-0.091728</td>\n",
       "      <td>0.175420</td>\n",
       "      <td>-0.102289</td>\n",
       "      <td>...</td>\n",
       "      <td>0.225826</td>\n",
       "      <td>-0.081113</td>\n",
       "      <td>0.129995</td>\n",
       "      <td>-0.081878</td>\n",
       "      <td>0.248354</td>\n",
       "      <td>-0.013090</td>\n",
       "      <td>1.000000</td>\n",
       "      <td>-0.082671</td>\n",
       "      <td>0.205232</td>\n",
       "      <td>-0.096137</td>\n",
       "    </tr>\n",
       "    <tr>\n",
       "      <th>Q42</th>\n",
       "      <td>-0.082546</td>\n",
       "      <td>0.271750</td>\n",
       "      <td>-0.042263</td>\n",
       "      <td>0.317548</td>\n",
       "      <td>-0.044412</td>\n",
       "      <td>0.131064</td>\n",
       "      <td>-0.088334</td>\n",
       "      <td>0.183405</td>\n",
       "      <td>-0.132505</td>\n",
       "      <td>0.165808</td>\n",
       "      <td>...</td>\n",
       "      <td>-0.023456</td>\n",
       "      <td>0.224524</td>\n",
       "      <td>-0.071918</td>\n",
       "      <td>0.289060</td>\n",
       "      <td>-0.046113</td>\n",
       "      <td>0.215002</td>\n",
       "      <td>-0.082671</td>\n",
       "      <td>1.000000</td>\n",
       "      <td>-0.056098</td>\n",
       "      <td>0.311370</td>\n",
       "    </tr>\n",
       "    <tr>\n",
       "      <th>Q43</th>\n",
       "      <td>0.194208</td>\n",
       "      <td>-0.083109</td>\n",
       "      <td>0.287779</td>\n",
       "      <td>-0.054646</td>\n",
       "      <td>0.244249</td>\n",
       "      <td>-0.025453</td>\n",
       "      <td>0.181716</td>\n",
       "      <td>-0.128120</td>\n",
       "      <td>0.281845</td>\n",
       "      <td>-0.040694</td>\n",
       "      <td>...</td>\n",
       "      <td>0.239297</td>\n",
       "      <td>-0.080595</td>\n",
       "      <td>0.136767</td>\n",
       "      <td>-0.110174</td>\n",
       "      <td>0.345477</td>\n",
       "      <td>-0.084132</td>\n",
       "      <td>0.205232</td>\n",
       "      <td>-0.056098</td>\n",
       "      <td>1.000000</td>\n",
       "      <td>-0.066769</td>\n",
       "    </tr>\n",
       "    <tr>\n",
       "      <th>Q44</th>\n",
       "      <td>-0.121676</td>\n",
       "      <td>0.334426</td>\n",
       "      <td>-0.052671</td>\n",
       "      <td>0.344356</td>\n",
       "      <td>-0.057310</td>\n",
       "      <td>0.158738</td>\n",
       "      <td>-0.099949</td>\n",
       "      <td>0.197477</td>\n",
       "      <td>-0.141642</td>\n",
       "      <td>0.165560</td>\n",
       "      <td>...</td>\n",
       "      <td>-0.048863</td>\n",
       "      <td>0.323660</td>\n",
       "      <td>-0.020273</td>\n",
       "      <td>0.341155</td>\n",
       "      <td>-0.064315</td>\n",
       "      <td>0.244812</td>\n",
       "      <td>-0.096137</td>\n",
       "      <td>0.311370</td>\n",
       "      <td>-0.066769</td>\n",
       "      <td>1.000000</td>\n",
       "    </tr>\n",
       "  </tbody>\n",
       "</table>\n",
       "<p>44 rows × 44 columns</p>\n",
       "</div>"
      ],
      "text/plain": [
       "           Q1        Q2        Q3        Q4        Q5        Q6        Q7  \\\n",
       "Q1   1.000000 -0.161645  0.278410 -0.076150  0.186066 -0.093306  0.180873   \n",
       "Q2  -0.161645  1.000000 -0.074567  0.309118 -0.086993  0.185068 -0.168595   \n",
       "Q3   0.278410 -0.074567  1.000000  0.026732  0.272146 -0.060483  0.235260   \n",
       "Q4  -0.076150  0.309118  0.026732  1.000000  0.042574  0.118803 -0.079375   \n",
       "Q5   0.186066 -0.086993  0.272146  0.042574  1.000000  0.030301  0.219949   \n",
       "Q6  -0.093306  0.185068 -0.060483  0.118803  0.030301  1.000000 -0.022880   \n",
       "Q7   0.180873 -0.168595  0.235260 -0.079375  0.219949 -0.022880  1.000000   \n",
       "Q8  -0.125498  0.189091 -0.125134  0.205877 -0.074628  0.090294 -0.066451   \n",
       "Q9   0.242283 -0.203329  0.422585 -0.132972  0.216981 -0.102632  0.300946   \n",
       "Q10 -0.089363  0.216794 -0.074090  0.097375 -0.052054  0.222758 -0.045857   \n",
       "Q11  0.103939 -0.058459  0.147889 -0.133556  0.065582  0.043203  0.066872   \n",
       "Q12 -0.138156  0.261035 -0.140855  0.212230 -0.115997  0.051963 -0.147062   \n",
       "Q13  0.204992 -0.261547  0.071477 -0.226960  0.071675 -0.074189  0.091167   \n",
       "Q14 -0.095871  0.300230 -0.064978  0.234704 -0.015648  0.110775 -0.098292   \n",
       "Q15  0.222185 -0.007698  0.344002 -0.017122  0.303940  0.002828  0.240757   \n",
       "Q16 -0.100451  0.301678 -0.088880  0.271175 -0.019926  0.066354 -0.093722   \n",
       "Q17  0.194356 -0.113822  0.324043 -0.076171  0.258688 -0.087481  0.279731   \n",
       "Q18 -0.067247  0.197949 -0.008225  0.137290 -0.002288  0.216637 -0.035682   \n",
       "Q19  0.166038 -0.172418  0.207120 -0.158205  0.082760 -0.063874  0.133872   \n",
       "Q20 -0.207836  0.385317 -0.177742  0.269640 -0.102117  0.253615 -0.159576   \n",
       "Q21  0.120325 -0.108408  0.152900 -0.137111  0.107673 -0.005552  0.104167   \n",
       "Q22 -0.102542  0.216077 -0.108415  0.295199 -0.026896  0.135080 -0.080488   \n",
       "Q23  0.091319  0.000574  0.197671 -0.022313  0.133670  0.063101  0.153182   \n",
       "Q24 -0.165197  0.259756 -0.090738  0.184170 -0.044818  0.146011 -0.086266   \n",
       "Q25  0.230237 -0.254661  0.255996 -0.109007  0.210481 -0.162096  0.173790   \n",
       "Q26 -0.099113  0.268453 -0.079730  0.255683 -0.011540  0.133637 -0.088122   \n",
       "Q27  0.190648 -0.078678  0.282147 -0.053224  0.239373 -0.019504  0.178891   \n",
       "Q28 -0.101627  0.296684 -0.062183  0.261942 -0.046635  0.194401 -0.084878   \n",
       "Q29  0.229106 -0.108350  0.355460 -0.004523  0.194055 -0.073771  0.159733   \n",
       "Q30 -0.126539  0.333604 -0.089868  0.250981 -0.058076  0.145178 -0.117565   \n",
       "Q31  0.171359 -0.207202  0.197323 -0.127484  0.158361 -0.064104  0.170159   \n",
       "Q32 -0.082959  0.266668 -0.095044  0.173469 -0.035038  0.103889 -0.091461   \n",
       "Q33  0.117379 -0.214706  0.139072 -0.126963  0.129555 -0.026829  0.141892   \n",
       "Q34 -0.108418  0.275248 -0.093740  0.279440 -0.050329  0.083682 -0.107860   \n",
       "Q35  0.271204 -0.133209  0.362601  0.025584  0.235292 -0.044206  0.220871   \n",
       "Q36 -0.108039  0.252911 -0.073815  0.269113 -0.069635  0.055801 -0.108772   \n",
       "Q37  0.157162 -0.117865  0.222452 -0.107292  0.149130  0.051511  0.185581   \n",
       "Q38 -0.084725  0.261182 -0.059105  0.384944 -0.002279  0.066254 -0.097936   \n",
       "Q39  0.275752 -0.116353  0.491553 -0.033703  0.240851 -0.072465  0.226894   \n",
       "Q40 -0.077076  0.273236 -0.072111  0.233955 -0.035301  0.008488 -0.110578   \n",
       "Q41  0.163436 -0.161826  0.213359 -0.066130  0.183145 -0.045722  0.137530   \n",
       "Q42 -0.082546  0.271750 -0.042263  0.317548 -0.044412  0.131064 -0.088334   \n",
       "Q43  0.194208 -0.083109  0.287779 -0.054646  0.244249 -0.025453  0.181716   \n",
       "Q44 -0.121676  0.334426 -0.052671  0.344356 -0.057310  0.158738 -0.099949   \n",
       "\n",
       "           Q8        Q9       Q10  ...       Q35       Q36       Q37  \\\n",
       "Q1  -0.125498  0.242283 -0.089363  ...  0.271204 -0.108039  0.157162   \n",
       "Q2   0.189091 -0.203329  0.216794  ... -0.133209  0.252911 -0.117865   \n",
       "Q3  -0.125134  0.422585 -0.074090  ...  0.362601 -0.073815  0.222452   \n",
       "Q4   0.205877 -0.132972  0.097375  ...  0.025584  0.269113 -0.107292   \n",
       "Q5  -0.074628  0.216981 -0.052054  ...  0.235292 -0.069635  0.149130   \n",
       "Q6   0.090294 -0.102632  0.222758  ... -0.044206  0.055801  0.051511   \n",
       "Q7  -0.066451  0.300946 -0.045857  ...  0.220871 -0.108772  0.185581   \n",
       "Q8   1.000000 -0.125939  0.106798  ... -0.126466  0.256291 -0.126134   \n",
       "Q9  -0.125939  1.000000 -0.060787  ...  0.276336 -0.114042  0.227452   \n",
       "Q10  0.106798 -0.060787  1.000000  ... -0.066509  0.093148  0.042765   \n",
       "Q11 -0.144459  0.161799  0.055621  ...  0.101221 -0.128786  0.171592   \n",
       "Q12  0.236564 -0.165634  0.102121  ... -0.154508  0.257845 -0.209477   \n",
       "Q13 -0.096960  0.147060 -0.108737  ...  0.204506 -0.185551  0.101334   \n",
       "Q14  0.183324 -0.147923  0.109255  ... -0.083826  0.237851 -0.105416   \n",
       "Q15 -0.118760  0.313260 -0.002443  ...  0.252518 -0.086618  0.170044   \n",
       "Q16  0.219715 -0.175363  0.100203  ... -0.104600  0.286153 -0.184987   \n",
       "Q17 -0.105763  0.428297 -0.078428  ...  0.250182 -0.078111  0.124763   \n",
       "Q18  0.075767 -0.070945  0.178498  ... -0.010806  0.105202  0.009079   \n",
       "Q19 -0.174278  0.265683 -0.047331  ...  0.166608 -0.185092  0.130415   \n",
       "Q20  0.234571 -0.223791  0.239276  ... -0.179021  0.261118 -0.120374   \n",
       "Q21 -0.706307  0.132358 -0.031981  ...  0.149412 -0.210028  0.158931   \n",
       "Q22  0.244270 -0.154589  0.099725  ... -0.072952  0.271202 -0.110924   \n",
       "Q23 -0.024044  0.170857  0.056742  ...  0.131075 -0.018151  0.186197   \n",
       "Q24  0.162787 -0.193447  0.150215  ... -0.106913  0.166009 -0.068996   \n",
       "Q25 -0.093837  0.264229 -0.173468  ...  0.219397 -0.080688  0.103709   \n",
       "Q26  0.192567 -0.141072  0.128751  ... -0.071732  0.262551 -0.075533   \n",
       "Q27 -0.127502  0.275294 -0.036220  ...  0.234938 -0.079636  0.135458   \n",
       "Q28  0.164593 -0.159288  0.244437  ... -0.068137  0.226782 -0.038787   \n",
       "Q29 -0.118146  0.250823 -0.073811  ...  0.344589 -0.061706  0.132470   \n",
       "Q30  0.240560 -0.141281  0.194541  ... -0.137954  0.250785 -0.095761   \n",
       "Q31 -0.180237  0.169272 -0.095923  ...  0.234838 -0.252895  0.171955   \n",
       "Q32  0.085933 -0.241622  0.041028  ... -0.053948  0.125008 -0.145281   \n",
       "Q33 -0.176672  0.133732 -0.051611  ...  0.184179 -0.254029  0.120044   \n",
       "Q34  0.192075 -0.181330  0.070750  ... -0.066400  0.263138 -0.143306   \n",
       "Q35 -0.126466  0.276336 -0.066509  ...  1.000000 -0.063904  0.243537   \n",
       "Q36  0.256291 -0.114042  0.093148  ... -0.063904  1.000000 -0.113153   \n",
       "Q37 -0.126134  0.227452  0.042765  ...  0.243537 -0.113153  1.000000   \n",
       "Q38  0.263907 -0.151685  0.087594  ... -0.038882  0.349542 -0.084172   \n",
       "Q39 -0.140116  0.369958 -0.076806  ...  0.415536 -0.071627  0.213989   \n",
       "Q40  0.188246 -0.139811  0.043850  ... -0.097130  0.273907 -0.165883   \n",
       "Q41 -0.091728  0.175420 -0.102289  ...  0.225826 -0.081113  0.129995   \n",
       "Q42  0.183405 -0.132505  0.165808  ... -0.023456  0.224524 -0.071918   \n",
       "Q43 -0.128120  0.281845 -0.040694  ...  0.239297 -0.080595  0.136767   \n",
       "Q44  0.197477 -0.141642  0.165560  ... -0.048863  0.323660 -0.020273   \n",
       "\n",
       "          Q38       Q39       Q40       Q41       Q42       Q43       Q44  \n",
       "Q1  -0.084725  0.275752 -0.077076  0.163436 -0.082546  0.194208 -0.121676  \n",
       "Q2   0.261182 -0.116353  0.273236 -0.161826  0.271750 -0.083109  0.334426  \n",
       "Q3  -0.059105  0.491553 -0.072111  0.213359 -0.042263  0.287779 -0.052671  \n",
       "Q4   0.384944 -0.033703  0.233955 -0.066130  0.317548 -0.054646  0.344356  \n",
       "Q5  -0.002279  0.240851 -0.035301  0.183145 -0.044412  0.244249 -0.057310  \n",
       "Q6   0.066254 -0.072465  0.008488 -0.045722  0.131064 -0.025453  0.158738  \n",
       "Q7  -0.097936  0.226894 -0.110578  0.137530 -0.088334  0.181716 -0.099949  \n",
       "Q8   0.263907 -0.140116  0.188246 -0.091728  0.183405 -0.128120  0.197477  \n",
       "Q9  -0.151685  0.369958 -0.139811  0.175420 -0.132505  0.281845 -0.141642  \n",
       "Q10  0.087594 -0.076806  0.043850 -0.102289  0.165808 -0.040694  0.165560  \n",
       "Q11 -0.132048  0.171067 -0.105697  0.073988 -0.081216  0.127574 -0.059251  \n",
       "Q12  0.263916 -0.159964  0.275602 -0.146674  0.251693 -0.163474  0.232389  \n",
       "Q13 -0.197974  0.121848 -0.159672  0.161926 -0.163821  0.100110 -0.242416  \n",
       "Q14  0.275868 -0.087544  0.605570 -0.020665  0.227317 -0.064956  0.259352  \n",
       "Q15 -0.075293  0.349267 -0.021636  0.184085 -0.052395  0.379533 -0.034751  \n",
       "Q16  0.311030 -0.087652  0.337478 -0.087688  0.235915 -0.073708  0.258890  \n",
       "Q17 -0.083898  0.293477 -0.065114  0.167303 -0.085517  0.258371 -0.125507  \n",
       "Q18  0.110823  0.000349  0.074215  0.021728  0.130031  0.015346  0.156574  \n",
       "Q19 -0.231382  0.218557 -0.189664  0.141564 -0.139686  0.239519 -0.192946  \n",
       "Q20  0.302353 -0.196764  0.252211 -0.177144  0.272875 -0.149070  0.316513  \n",
       "Q21 -0.207903  0.165667 -0.153236  0.109294 -0.129750  0.153347 -0.128537  \n",
       "Q22  0.345495 -0.123209  0.220075 -0.069794  0.211012 -0.106921  0.280192  \n",
       "Q23 -0.066697  0.223209 -0.065152  0.134588 -0.035146  0.187220 -0.003520  \n",
       "Q24  0.182877 -0.119759  0.144449 -0.095073  0.155988 -0.089038  0.200531  \n",
       "Q25 -0.097957  0.243623 -0.051220  0.272397 -0.142451  0.190611 -0.166384  \n",
       "Q26  0.327768 -0.102361  0.353507 -0.021892  0.245382 -0.070193  0.310902  \n",
       "Q27 -0.108432  0.331868 -0.082857  0.197904 -0.064714  0.923622 -0.067097  \n",
       "Q28  0.272283 -0.072788  0.211401 -0.055181  0.305540 -0.048187  0.307866  \n",
       "Q29 -0.067145  0.456162 -0.076943  0.208193 -0.049257  0.256210 -0.076669  \n",
       "Q30  0.278233 -0.126399  0.271444 -0.130290  0.243673 -0.065534  0.289348  \n",
       "Q31 -0.164636  0.215902 -0.192885  0.173101 -0.157289  0.183450 -0.199179  \n",
       "Q32  0.169800 -0.068042  0.176856 -0.053019  0.144408 -0.035626  0.168109  \n",
       "Q33 -0.179116  0.159217 -0.236250  0.122169 -0.176304  0.154136 -0.248530  \n",
       "Q34  0.326661 -0.117398  0.252460 -0.101644  0.209952 -0.081002  0.274353  \n",
       "Q35 -0.038882  0.415536 -0.097130  0.225826 -0.023456  0.239297 -0.048863  \n",
       "Q36  0.349542 -0.071627  0.273907 -0.081113  0.224524 -0.080595  0.323660  \n",
       "Q37 -0.084172  0.213989 -0.165883  0.129995 -0.071918  0.136767 -0.020273  \n",
       "Q38  1.000000 -0.063328  0.303309 -0.081878  0.289060 -0.110174  0.341155  \n",
       "Q39 -0.063328  1.000000 -0.073529  0.248354 -0.046113  0.345477 -0.064315  \n",
       "Q40  0.303309 -0.073529  1.000000 -0.013090  0.215002 -0.084132  0.244812  \n",
       "Q41 -0.081878  0.248354 -0.013090  1.000000 -0.082671  0.205232 -0.096137  \n",
       "Q42  0.289060 -0.046113  0.215002 -0.082671  1.000000 -0.056098  0.311370  \n",
       "Q43 -0.110174  0.345477 -0.084132  0.205232 -0.056098  1.000000 -0.066769  \n",
       "Q44  0.341155 -0.064315  0.244812 -0.096137  0.311370 -0.066769  1.000000  \n",
       "\n",
       "[44 rows x 44 columns]"
      ]
     },
     "execution_count": 13,
     "metadata": {},
     "output_type": "execute_result"
    }
   ],
   "source": [
    "pd.DataFrame(correlations, columns = features, index=features)"
   ]
  },
  {
   "cell_type": "code",
   "execution_count": 11,
   "id": "common-priest",
   "metadata": {},
   "outputs": [
    {
     "data": {
      "text/plain": [
       "<matplotlib.image.AxesImage at 0x7f242d143bb0>"
      ]
     },
     "execution_count": 11,
     "metadata": {},
     "output_type": "execute_result"
    },
    {
     "data": {
      "image/png": "[encoded data removed]",
      "text/plain": [
       "<Figure size 432x288 with 1 Axes>"
      ]
     },
     "metadata": {
      "needs_background": "light"
     },
     "output_type": "display_data"
    }
   ],
   "source": [
    "plt.imshow(correlations, )"
   ]
  },
  {
   "cell_type": "code",
   "execution_count": 12,
   "id": "corrected-warren",
   "metadata": {},
   "outputs": [],
   "source": [
    "?plt.imshow"
   ]
  },
  {
   "cell_type": "code",
   "execution_count": 158,
   "id": "bearing-assurance",
   "metadata": {},
   "outputs": [
    {
     "data": {
      "text/plain": [
       "PCA()"
      ]
     },
     "execution_count": 158,
     "metadata": {},
     "output_type": "execute_result"
    }
   ],
   "source": [
    "pca = PCA()\n",
    "pca.fit(osri[features])"
   ]
  },
  {
   "cell_type": "code",
   "execution_count": 162,
   "id": "responsible-cliff",
   "metadata": {},
   "outputs": [
    {
     "data": {
      "text/plain": [
       "array([0.1815407 , 0.09046504, 0.03928597, 0.03320489, 0.03143698,\n",
       "       0.02874585, 0.02764838, 0.02704499, 0.02429637, 0.0232631 ,\n",
       "       0.02090774, 0.02010679, 0.02002159, 0.01913737, 0.01867677,\n",
       "       0.0185117 , 0.01806433, 0.01749456, 0.01720762, 0.01686228,\n",
       "       0.01656427, 0.01601664, 0.01582959, 0.01540427, 0.01530998,\n",
       "       0.01490823, 0.01458603, 0.01445322, 0.01422906, 0.01415311,\n",
       "       0.0139551 , 0.013788  , 0.0133191 , 0.01300916, 0.01290648,\n",
       "       0.01264858, 0.01228066, 0.01223933, 0.01192496, 0.0114402 ,\n",
       "       0.01129634, 0.00859971, 0.00544406, 0.00177091])"
      ]
     },
     "execution_count": 162,
     "metadata": {},
     "output_type": "execute_result"
    }
   ],
   "source": [
    "pca.explained_variance_ratio_"
   ]
  },
  {
   "cell_type": "code",
   "execution_count": 171,
   "id": "progressive-middle",
   "metadata": {
    "pycharm": {
     "name": "#%%\n"
    }
   },
   "outputs": [
    {
     "data": {
      "text/plain": [
       "<BarContainer object of 44 artists>"
      ]
     },
     "execution_count": 171,
     "metadata": {},
     "output_type": "execute_result"
    },
    {
     "data": {
      "image/png": "[encoded data removed]",
      "text/plain": [
       "<Figure size 400x960 with 1 Axes>"
      ]
     },
     "metadata": {
      "needs_background": "light"
     },
     "output_type": "display_data"
    }
   ],
   "source": [
    "plt.figure(figsize=(5, 12), dpi=80)\n",
    "plt.barh(features, pca.components_[0])\n"
   ]
  }
 ],
 "metadata": {
  "kernelspec": {
   "display_name": "Python 3",
   "language": "python",
   "name": "python3"
  },
  "language_info": {
   "codemirror_mode": {
    "name": "ipython",
    "version": 3
   },
   "file_extension": ".py",
   "mimetype": "text/x-python",
   "name": "python",
   "nbconvert_exporter": "python",
   "pygments_lexer": "ipython3",
   "version": "3.8.6"
  }
 },
 "nbformat": 4,
 "nbformat_minor": 5
}