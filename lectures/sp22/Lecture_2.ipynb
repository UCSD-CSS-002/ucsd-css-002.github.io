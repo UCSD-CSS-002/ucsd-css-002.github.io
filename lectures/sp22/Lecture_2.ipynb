{
 "cells": [
  {
   "cell_type": "markdown",
   "id": "fe15816e",
   "metadata": {},
   "source": [
    "# Lecture 2 (3/30/22)\n",
    "\n",
    "*Getting back in the swing of things...*\n",
    "- Datahub and jupyter notebooks\n",
    "- Python review: operations + data types\n",
    "\n",
    "![patrick](img/patrick.jpeg)"
   ]
  },
  {
   "cell_type": "code",
   "execution_count": null,
   "id": "de3d00cd",
   "metadata": {},
   "outputs": [],
   "source": []
  },
  {
   "cell_type": "markdown",
   "id": "edc79124",
   "metadata": {},
   "source": [
    "# First up: jupyter notebooks"
   ]
  },
  {
   "cell_type": "markdown",
   "id": "a60ce3cd",
   "metadata": {},
   "source": [
    "This is a \"markdown\" cell!\n",
    "\n",
    "You can format markdown cells in lots of ways:"
   ]
  },
  {
   "cell_type": "markdown",
   "id": "1544a8be",
   "metadata": {},
   "source": [
    "# BIIIIGGG HEADERS\n",
    "\n",
    "## Medium Headers\n",
    "\n",
    "### smol headers\n",
    "\n",
    "#### extra smol headers??\n",
    "\n",
    "##### extra smol italic headers???\n"
   ]
  },
  {
   "cell_type": "markdown",
   "id": "ac3ff1d0",
   "metadata": {},
   "source": [
    "You can also format regular text:\n",
    "\n",
    "*FORTUNE* favors the **BOLD**."
   ]
  },
  {
   "cell_type": "markdown",
   "id": "b504d524",
   "metadata": {},
   "source": [
    "Markdown is powerful, but it will never be:\n",
    "- bullet\n",
    "- proof\n",
    "\n",
    "Indeed, some would say markdown's:\n",
    "1. days\n",
    "2. are\n",
    "3. numbered"
   ]
  },
  {
   "cell_type": "markdown",
   "id": "cb4fed05",
   "metadata": {},
   "source": [
    "A few other tricks:\n",
    "    \n",
    "You can add hyperlinks to the [World Wide Web](https://en.wikipedia.org/wiki/Alan_Turing)"
   ]
  },
  {
   "cell_type": "markdown",
   "id": "9c93dc5a",
   "metadata": {},
   "source": [
    "You can also embed images:\n",
    "    \n",
    "![ExampleImage](img/escher.jpeg)"
   ]
  },
  {
   "cell_type": "markdown",
   "id": "a3b9184c",
   "metadata": {},
   "source": [
    "In fact, markdown essentially compiles to HTML, so if you have experience coding in HTML, you can do all kinds of nifty things.\n",
    "\n",
    "\n",
    "<span>Hello, world.</span>\n",
    "<div align=\"center\">Watch out!</div>\n",
    "<div align=\"right\">Over here!</div>"
   ]
  },
  {
   "cell_type": "markdown",
   "id": "23f9f741",
   "metadata": {},
   "source": [
    "## What's the point of markdown cells anyway?\n",
    "\n",
    "Good question! Jupyter notebooks are made to simplify the process of sharing and collaborating with code. \n",
    "\n",
    "Often, it's helpful to annotate what your code is doing, describe results in more detail, or just organize your code into different sections. \n",
    "\n",
    "Markdown cells give you the tools to do that.\n"
   ]
  },
  {
   "cell_type": "markdown",
   "id": "777584d7",
   "metadata": {},
   "source": [
    "*...But what about the code?* 🤖 🤖 🤖 🤖 🤖"
   ]
  },
  {
   "cell_type": "code",
   "execution_count": null,
   "id": "a519d6e4",
   "metadata": {},
   "outputs": [],
   "source": [
    "# You can also run python code in jupyter notebooks!\n",
    "# That's actually their main job!"
   ]
  },
  {
   "cell_type": "code",
   "execution_count": null,
   "id": "bc400fc5",
   "metadata": {},
   "outputs": [],
   "source": [
    "print(\"hello, world\")"
   ]
  },
  {
   "cell_type": "markdown",
   "id": "12b2625a",
   "metadata": {},
   "source": [
    "*So what kind of code will we run?*"
   ]
  },
  {
   "cell_type": "markdown",
   "id": "509c8317",
   "metadata": {},
   "source": [
    "# Time for... python review!"
   ]
  },
  {
   "cell_type": "markdown",
   "id": "b890a938",
   "metadata": {},
   "source": [
    "**The goal of this section is to refresh your memory for the basics of python coding.**\n",
    "\n",
    "This should be a review for most of you! \n",
    "\n",
    "However, the more practice you get with the python basics, the easier everything else this quarter will be.\n",
    "\n",
    "If you have questions about any of this, it's important to clear them up now :)"
   ]
  },
  {
   "cell_type": "markdown",
   "id": "40726cc7",
   "metadata": {},
   "source": [
    "## Operations"
   ]
  },
  {
   "cell_type": "code",
   "execution_count": null,
   "id": "a9c36dd4",
   "metadata": {},
   "outputs": [],
   "source": [
    "# Arithmetic\n",
    "\n",
    "\n"
   ]
  },
  {
   "cell_type": "code",
   "execution_count": null,
   "id": "c4912cef",
   "metadata": {},
   "outputs": [],
   "source": [
    "# Booleans ('and', 'or', 'not')\n",
    "\n",
    "\n"
   ]
  },
  {
   "cell_type": "code",
   "execution_count": null,
   "id": "2277e090",
   "metadata": {},
   "outputs": [],
   "source": [
    "# Comparison (>, <, ==, !=)\n",
    "\n",
    "\n"
   ]
  },
  {
   "cell_type": "code",
   "execution_count": null,
   "id": "cc0a371f",
   "metadata": {},
   "outputs": [],
   "source": [
    "# Assignment\n",
    "\n",
    "\n",
    "\n",
    "# bonus: assignment shorthand (+=)\n",
    "\n"
   ]
  },
  {
   "cell_type": "code",
   "execution_count": null,
   "id": "03557b1f",
   "metadata": {},
   "outputs": [],
   "source": [
    "# Special operation: 'in'\n",
    "\n",
    "\n"
   ]
  },
  {
   "cell_type": "markdown",
   "id": "3b783b0c",
   "metadata": {},
   "source": [
    "## Data types"
   ]
  },
  {
   "cell_type": "markdown",
   "id": "93b0a856",
   "metadata": {},
   "source": [
    "### Integers and floats"
   ]
  },
  {
   "cell_type": "code",
   "execution_count": null,
   "id": "b0120895",
   "metadata": {},
   "outputs": [],
   "source": [
    "# Integers and floats\n",
    "\n",
    "\n",
    "\n",
    "# Operations: math!\n",
    "\n",
    "\n"
   ]
  },
  {
   "cell_type": "markdown",
   "id": "f1c854d0",
   "metadata": {},
   "source": [
    "### Strings"
   ]
  },
  {
   "cell_type": "code",
   "execution_count": null,
   "id": "258a83e1",
   "metadata": {},
   "outputs": [],
   "source": [
    "# Strings\n",
    "foo = ''\n",
    "bar = \"\"\n",
    "\n",
    "\n",
    "\n",
    "# Operations\n",
    "find()\n",
    "replace()\n",
    "split()\n",
    "\n",
    "\n",
    "\n",
    "# bonus: string indexing\n",
    "\n",
    "\n"
   ]
  },
  {
   "cell_type": "markdown",
   "id": "07f1b240",
   "metadata": {},
   "source": [
    "### Identifying data types and operations\n",
    "*A rose by any other name...*"
   ]
  },
  {
   "cell_type": "code",
   "execution_count": null,
   "id": "c6b7a741",
   "metadata": {},
   "outputs": [],
   "source": [
    "foo = \"bar\"\n",
    "\n",
    "print(type(foo)) # What kind of thing is this?\n",
    "print(dir(foo)) # What operations can we do with this?\n",
    "\n",
    "# Casting\n",
    "\n",
    "\n"
   ]
  },
  {
   "cell_type": "markdown",
   "id": "6b44b777",
   "metadata": {},
   "source": [
    "## Data structures"
   ]
  },
  {
   "cell_type": "markdown",
   "id": "aea4caa4",
   "metadata": {},
   "source": [
    "### Lists"
   ]
  },
  {
   "cell_type": "markdown",
   "id": "f6dda8c9",
   "metadata": {},
   "source": [
    "*What is a list?*"
   ]
  },
  {
   "cell_type": "code",
   "execution_count": null,
   "id": "04328329",
   "metadata": {},
   "outputs": [],
   "source": [
    "# Declaring lists\n",
    "\n",
    "foo = ['bar']\n",
    "\n",
    "\n",
    "\n",
    "# Adding and removing items\n",
    "append()\n",
    "extend()\n",
    "insert()\n",
    "remove()\n",
    "\n",
    "\n",
    "\n",
    "# Accessing items: indexing, 'in'\n",
    "\n",
    "\n",
    "\n",
    "# bonus: len\n",
    "\n",
    "\n",
    "\n",
    "# Operations: sort, reverse\n",
    "\n",
    "\n"
   ]
  },
  {
   "cell_type": "markdown",
   "id": "c5bd3547",
   "metadata": {},
   "source": [
    "### Dictionaries"
   ]
  },
  {
   "cell_type": "markdown",
   "id": "c7b24aea",
   "metadata": {},
   "source": [
    "*What is a dictionary?*"
   ]
  },
  {
   "cell_type": "code",
   "execution_count": null,
   "id": "15d78091",
   "metadata": {},
   "outputs": [],
   "source": [
    "# Declaring dictionaries\n",
    "foo = {}\n",
    "foo = dict()\n",
    "\n",
    "\n",
    "# Adding and removing items\n",
    "\n",
    "\n",
    "\n",
    "# Accessing items\n",
    "\n",
    "\n",
    "\n",
    "# bonus: 'keys', 'values', 'items'\n",
    "\n",
    "\n"
   ]
  }
 ],
 "metadata": {
  "interpreter": {
   "hash": "40d3a090f54c6569ab1632332b64b2c03c39dcf918b08424e98f38b5ae0af88f"
  },
  "kernelspec": {
   "display_name": "Python 3 (clean)",
   "language": "python",
   "name": "python3"
  },
  "language_info": {
   "codemirror_mode": {
    "name": "ipython",
    "version": 3
   },
   "file_extension": ".py",
   "mimetype": "text/x-python",
   "name": "python",
   "nbconvert_exporter": "python",
   "pygments_lexer": "ipython3",
   "version": "3.8.3"
  }
 },
 "nbformat": 4,
 "nbformat_minor": 5
}
