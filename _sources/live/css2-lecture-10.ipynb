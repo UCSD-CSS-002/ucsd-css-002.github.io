{
 "cells": [
  {
   "cell_type": "markdown",
   "id": "australian-damages",
   "metadata": {},
   "source": [
    "# Lecture 10: Clustering\n",
    "\n",
    "Unsupervised learning with the goal of finding *groups* in the data.\n",
    "\n",
    "Malcolm Gladwell pasta sauce example.\n",
    "\n",
    "Neuroscience: cell types\n",
    "\n",
    "Political science: voting blocks, etc.\n",
    "\n",
    "Psychology: survey responses.\n"
   ]
  },
  {
   "cell_type": "code",
   "execution_count": 83,
   "id": "recorded-programming",
   "metadata": {},
   "outputs": [],
   "source": [
    "import pandas as pd\n",
    "import numpy as np\n",
    "import matplotlib.pyplot as plt"
   ]
  },
  {
   "cell_type": "code",
   "execution_count": 84,
   "id": "surface-service",
   "metadata": {},
   "outputs": [],
   "source": [
    "def fakeClusterData(rng_seed = None, k = 2, g=2, n=50, s_between=4, s_within=1):\n",
    "    \"\"\"\n",
    "    Make fake clustered data.  arguments:\n",
    "    \n",
    "    Arguments (default)\n",
    "    - rng_seed: random seed for consistent results (None)\n",
    "    - k: number of features (2)\n",
    "    - g: number of groups (2)\n",
    "    - n: number of points per group (50)\n",
    "    - s_between: standard deviation of group means (4)\n",
    "    - s_within: standard deviation of points in group (1)\n",
    "    \n",
    "    Returns:\n",
    "    data frame with columns called F0 ... F(k-1)\n",
    "    \"\"\"\n",
    "    gs = [chr(i) for i in range(ord('a'), ord('a')+g)]\n",
    "    fs = ['F'+str(i) for i in range(k)]\n",
    "    mus = {}\n",
    "    cvs = {}\n",
    "    df = pd.DataFrame(columns = fs, dtype=float)\n",
    "    rng = np.random.default_rng(rng_seed)\n",
    "    for g in gs:\n",
    "        mus[g] = rng.normal(0,s_between,k)\n",
    "        cvs[g] = np.eye(k)*s_within**2\n",
    "        df = df.append(pd.DataFrame(rng.multivariate_normal(mus[g], \n",
    "                                                                  cvs[g], \n",
    "                                                                  n), \n",
    "                 columns = fs))\n",
    "    return df"
   ]
  },
  {
   "cell_type": "code",
   "execution_count": 87,
   "id": "federal-projection",
   "metadata": {},
   "outputs": [
    {
     "data": {
      "text/html": [
       "<div>\n",
       "<style scoped>\n",
       "    .dataframe tbody tr th:only-of-type {\n",
       "        vertical-align: middle;\n",
       "    }\n",
       "\n",
       "    .dataframe tbody tr th {\n",
       "        vertical-align: top;\n",
       "    }\n",
       "\n",
       "    .dataframe thead th {\n",
       "        text-align: right;\n",
       "    }\n",
       "</style>\n",
       "<table border=\"1\" class=\"dataframe\">\n",
       "  <thead>\n",
       "    <tr style=\"text-align: right;\">\n",
       "      <th></th>\n",
       "      <th>F0</th>\n",
       "      <th>F1</th>\n",
       "    </tr>\n",
       "  </thead>\n",
       "  <tbody>\n",
       "    <tr>\n",
       "      <th>0</th>\n",
       "      <td>0.343150</td>\n",
       "      <td>-4.532461</td>\n",
       "    </tr>\n",
       "    <tr>\n",
       "      <th>1</th>\n",
       "      <td>2.555921</td>\n",
       "      <td>-0.946828</td>\n",
       "    </tr>\n",
       "    <tr>\n",
       "      <th>2</th>\n",
       "      <td>0.430791</td>\n",
       "      <td>-1.317187</td>\n",
       "    </tr>\n",
       "    <tr>\n",
       "      <th>3</th>\n",
       "      <td>1.037424</td>\n",
       "      <td>-2.644817</td>\n",
       "    </tr>\n",
       "    <tr>\n",
       "      <th>4</th>\n",
       "      <td>1.733781</td>\n",
       "      <td>-2.401550</td>\n",
       "    </tr>\n",
       "    <tr>\n",
       "      <th>...</th>\n",
       "      <td>...</td>\n",
       "      <td>...</td>\n",
       "    </tr>\n",
       "    <tr>\n",
       "      <th>45</th>\n",
       "      <td>2.170466</td>\n",
       "      <td>5.592222</td>\n",
       "    </tr>\n",
       "    <tr>\n",
       "      <th>46</th>\n",
       "      <td>1.809502</td>\n",
       "      <td>2.512930</td>\n",
       "    </tr>\n",
       "    <tr>\n",
       "      <th>47</th>\n",
       "      <td>3.050438</td>\n",
       "      <td>1.755060</td>\n",
       "    </tr>\n",
       "    <tr>\n",
       "      <th>48</th>\n",
       "      <td>2.107838</td>\n",
       "      <td>3.051653</td>\n",
       "    </tr>\n",
       "    <tr>\n",
       "      <th>49</th>\n",
       "      <td>2.535231</td>\n",
       "      <td>2.784133</td>\n",
       "    </tr>\n",
       "  </tbody>\n",
       "</table>\n",
       "<p>100 rows × 2 columns</p>\n",
       "</div>"
      ],
      "text/plain": [
       "          F0        F1\n",
       "0   0.343150 -4.532461\n",
       "1   2.555921 -0.946828\n",
       "2   0.430791 -1.317187\n",
       "3   1.037424 -2.644817\n",
       "4   1.733781 -2.401550\n",
       "..       ...       ...\n",
       "45  2.170466  5.592222\n",
       "46  1.809502  2.512930\n",
       "47  3.050438  1.755060\n",
       "48  2.107838  3.051653\n",
       "49  2.535231  2.784133\n",
       "\n",
       "[100 rows x 2 columns]"
      ]
     },
     "execution_count": 87,
     "metadata": {},
     "output_type": "execute_result"
    }
   ],
   "source": [
    "df = fakeClusterData(rng_seed = 2)\n",
    "df"
   ]
  },
  {
   "cell_type": "code",
   "execution_count": 88,
   "id": "historical-dynamics",
   "metadata": {},
   "outputs": [
    {
     "data": {
      "image/png": "[encoded data removed]",
      "text/plain": [
       "<Figure size 432x432 with 1 Axes>"
      ]
     },
     "metadata": {
      "needs_background": "light"
     },
     "output_type": "display_data"
    }
   ],
   "source": [
    "_ = plt.figure(figsize = (6,6))\n",
    "_ = plt.scatter(df['F0'], df['F1'], color='k')\n",
    "_ = plt.xlabel('feature 0')\n",
    "_ = plt.ylabel('feature 1')\n",
    "_ = plt.axis('equal')"
   ]
  },
  {
   "cell_type": "markdown",
   "id": "substantial-campaign",
   "metadata": {},
   "source": [
    "# Kmeans algorithm"
   ]
  },
  {
   "cell_type": "code",
   "execution_count": 89,
   "id": "standing-jimmy",
   "metadata": {},
   "outputs": [],
   "source": [
    "def plotClusters(df, clusters, means, make_figure = True):\n",
    "    colors = {-1:'k', 0:'red', 1:'blue', 2:'green', 3:'magenta', 4:'gold', 5:'teal'}\n",
    "    if clusters is None:\n",
    "        clusters = -1*np.ones(len(df), dtype=int)\n",
    "    if make_figure:\n",
    "        _ = plt.figure(figsize = (6,6))\n",
    "    _ = plt.scatter(df['F0'], df['F1'], marker = '.',\n",
    "                    color=np.array([colors[x] for x in clusters]))\n",
    "    for i,m in enumerate(means):\n",
    "        _ = plt.scatter(m[0], m[1], marker='o', color=colors[i], s=50)\n",
    "    _ = plt.xlabel('feature 0')\n",
    "    _ = plt.ylabel('feature 1')\n",
    "    _ = plt.axis('equal')"
   ]
  },
  {
   "cell_type": "code",
   "execution_count": 90,
   "id": "placed-large",
   "metadata": {},
   "outputs": [],
   "source": [
    "K = 2\n",
    "# pick means\n",
    "means = [[-4,0], [4,0]]"
   ]
  },
  {
   "cell_type": "code",
   "execution_count": 91,
   "id": "asian-female",
   "metadata": {},
   "outputs": [
    {
     "data": {
      "image/png": "[encoded data removed]",
      "text/plain": [
       "<Figure size 432x432 with 1 Axes>"
      ]
     },
     "metadata": {
      "needs_background": "light"
     },
     "output_type": "display_data"
    }
   ],
   "source": [
    "plotClusters(df, None, means)"
   ]
  },
  {
   "cell_type": "code",
   "execution_count": 92,
   "id": "resident-nightlife",
   "metadata": {},
   "outputs": [],
   "source": [
    "# calculate distances\n",
    "distances = np.empty((len(df),K), dtype=float)\n",
    "for c in range(K):\n",
    "    distances[:,c] = np.sum((df-means[c])**2, 1)"
   ]
  },
  {
   "cell_type": "code",
   "execution_count": 94,
   "id": "excessive-dublin",
   "metadata": {},
   "outputs": [],
   "source": [
    "# assign cluster based on smallest distance for each point\n",
    "cluster = np.argmin(distances,axis=1)"
   ]
  },
  {
   "cell_type": "code",
   "execution_count": 96,
   "id": "developed-adventure",
   "metadata": {},
   "outputs": [
    {
     "data": {
      "image/png": "[encoded data removed]",
      "text/plain": [
       "<Figure size 432x432 with 1 Axes>"
      ]
     },
     "metadata": {
      "needs_background": "light"
     },
     "output_type": "display_data"
    }
   ],
   "source": [
    "plotClusters(df, cluster, means)"
   ]
  },
  {
   "cell_type": "code",
   "execution_count": 97,
   "id": "sweet-medicaid",
   "metadata": {},
   "outputs": [],
   "source": [
    "# update means:\n",
    "for i in range(K):\n",
    "    means[i] = np.array(df[cluster==i].mean())"
   ]
  },
  {
   "cell_type": "code",
   "execution_count": 98,
   "id": "postal-potential",
   "metadata": {},
   "outputs": [
    {
     "data": {
      "image/png": "[encoded data removed]",
      "text/plain": [
       "<Figure size 432x432 with 1 Axes>"
      ]
     },
     "metadata": {
      "needs_background": "light"
     },
     "output_type": "display_data"
    }
   ],
   "source": [
    "plotClusters(df, cluster, means)"
   ]
  },
  {
   "cell_type": "code",
   "execution_count": 102,
   "id": "parliamentary-receipt",
   "metadata": {},
   "outputs": [
    {
     "data": {
      "image/png": "[encoded data removed]",
      "text/plain": [
       "<Figure size 432x432 with 1 Axes>"
      ]
     },
     "metadata": {
      "needs_background": "light"
     },
     "output_type": "display_data"
    }
   ],
   "source": [
    "# calculate distances\n",
    "distances = np.empty((len(df),K), dtype=float)\n",
    "for c in range(K):\n",
    "    distances[:,c] = np.sum((df-means[c])**2, 1)\n",
    "# assign cluster based on smallest distance for each point\n",
    "cluster = np.argmin(distances,axis=1)\n",
    "# update means:\n",
    "for i in range(K):\n",
    "    means[i] = np.array(df[cluster==i].mean())\n",
    "plotClusters(df, cluster, means)"
   ]
  },
  {
   "cell_type": "code",
   "execution_count": 103,
   "id": "intense-doctrine",
   "metadata": {},
   "outputs": [
    {
     "data": {
      "image/png": "[encoded data removed]",
      "text/plain": [
       "<Figure size 432x432 with 1 Axes>"
      ]
     },
     "metadata": {
      "needs_background": "light"
     },
     "output_type": "display_data"
    }
   ],
   "source": [
    "K = 3\n",
    "# randomly pick assignments\n",
    "cluster = np.random.randint(0, K, len(df))\n",
    "\n",
    "means = [None]*K\n",
    "# update means:\n",
    "for i in range(K):\n",
    "    means[i] = np.array(df[cluster==i].mean())\n",
    "plotClusters(df, cluster, means)"
   ]
  },
  {
   "cell_type": "code",
   "execution_count": 107,
   "id": "adult-fight",
   "metadata": {},
   "outputs": [
    {
     "data": {
      "image/png": "[encoded data removed]",
      "text/plain": [
       "<Figure size 432x432 with 1 Axes>"
      ]
     },
     "metadata": {
      "needs_background": "light"
     },
     "output_type": "display_data"
    }
   ],
   "source": [
    "# calculate distances\n",
    "distances = np.empty((len(df),K), dtype=float)\n",
    "for c in range(K):\n",
    "    distances[:,c] = np.sum((np.array(df)-means[c])**2, 1)\n",
    "\n",
    "# assign cluster based on smallest distance for each point\n",
    "cluster = np.nanargmin(distances,axis=1)\n",
    "\n",
    "# update means:\n",
    "for i in range(K):\n",
    "    means[i] = np.array(df[cluster==i].mean())\n",
    "\n",
    "plotClusters(df, cluster, means)"
   ]
  },
  {
   "cell_type": "code",
   "execution_count": 108,
   "id": "rough-daisy",
   "metadata": {},
   "outputs": [
    {
     "data": {
      "text/plain": [
       "[array([ 0.84264493, -2.22425106]),\n",
       " array([1.67390472, 3.56059402]),\n",
       " array([nan, nan])]"
      ]
     },
     "execution_count": 108,
     "metadata": {},
     "output_type": "execute_result"
    }
   ],
   "source": [
    "means"
   ]
  },
  {
   "cell_type": "markdown",
   "id": "detected-engineer",
   "metadata": {},
   "source": [
    "### Less obvious clustering"
   ]
  },
  {
   "cell_type": "code",
   "execution_count": 121,
   "id": "unusual-queens",
   "metadata": {},
   "outputs": [
    {
     "data": {
      "image/png": "[encoded data removed]",
      "text/plain": [
       "<Figure size 432x432 with 1 Axes>"
      ]
     },
     "metadata": {
      "needs_background": "light"
     },
     "output_type": "display_data"
    }
   ],
   "source": [
    "df = fakeClusterData(s_between = 2)\n",
    "plotClusters(df, None, [])"
   ]
  },
  {
   "cell_type": "code",
   "execution_count": 132,
   "id": "yellow-address",
   "metadata": {},
   "outputs": [
    {
     "data": {
      "image/png": "[encoded data removed]",
      "text/plain": [
       "<Figure size 432x432 with 1 Axes>"
      ]
     },
     "metadata": {
      "needs_background": "light"
     },
     "output_type": "display_data"
    }
   ],
   "source": [
    "K = 3\n",
    "# randomly pick assignments\n",
    "cluster = np.random.randint(0, K, len(df))\n",
    "means = [None]*K\n",
    "\n",
    "# update means:\n",
    "for i in range(K):\n",
    "    means[i] = np.array(df[cluster==i].mean())\n",
    "plotClusters(df, cluster, means)"
   ]
  },
  {
   "cell_type": "code",
   "execution_count": 140,
   "id": "continental-things",
   "metadata": {},
   "outputs": [
    {
     "data": {
      "image/png": "[encoded data removed]",
      "text/plain": [
       "<Figure size 432x432 with 1 Axes>"
      ]
     },
     "metadata": {
      "needs_background": "light"
     },
     "output_type": "display_data"
    }
   ],
   "source": [
    "# calculate distances\n",
    "distances = np.empty((len(df),K), dtype=float)\n",
    "for c in range(K):\n",
    "    distances[:,c] = np.sum((np.array(df)-means[c])**2, 1)\n",
    "\n",
    "# assign cluster based on smallest distance for each point\n",
    "cluster = np.nanargmin(distances,axis=1)\n",
    "\n",
    "# update means:\n",
    "for i in range(K):\n",
    "    means[i] = np.array(df[cluster==i].mean())\n",
    "\n",
    "plotClusters(df, cluster, means)"
   ]
  },
  {
   "cell_type": "markdown",
   "id": "sound-retail",
   "metadata": {},
   "source": [
    "### full algorithm"
   ]
  },
  {
   "cell_type": "code",
   "execution_count": 141,
   "id": "bronze-guyana",
   "metadata": {},
   "outputs": [],
   "source": [
    "def kmeans(K, X, rnd_seed = None):\n",
    "    # initialize prior cluster to all zeros\n",
    "    oldcluster = np.zeros(len(df), dtype=int)\n",
    "    # set RNG\n",
    "    rng = np.random.default_rng(rnd_seed)\n",
    "    # randomly pick cluster assignment\n",
    "    cluster = rng.integers(0, K, len(X))\n",
    "    # initialize list of means\n",
    "    means = [None]*K\n",
    "    # initialize distances\n",
    "    distances = np.empty((len(X),K), dtype=float)\n",
    "    # if any assignments have changed, iterate again\n",
    "    while any(oldcluster != cluster):\n",
    "        # find means given cluster assignment\n",
    "        for i in range(K):\n",
    "            means[i] = np.array(X[cluster==i].mean())\n",
    "        # find distances\n",
    "        for c in range(K):\n",
    "            distances[:,c] = np.sum((np.array(X)-means[c])**2, 1)\n",
    "        # assign clusters (setting old appropriately first)\n",
    "        oldcluster = cluster\n",
    "        cluster = np.nanargmin(distances,axis=1)\n",
    "        \n",
    "    return (cluster, means)"
   ]
  },
  {
   "cell_type": "code",
   "execution_count": 158,
   "id": "written-profit",
   "metadata": {},
   "outputs": [
    {
     "data": {
      "image/png": "[encoded data removed]",
      "text/plain": [
       "<Figure size 432x432 with 1 Axes>"
      ]
     },
     "metadata": {
      "needs_background": "light"
     },
     "output_type": "display_data"
    }
   ],
   "source": [
    "cluster, means = kmeans(3, df, rnd_seed = None)\n",
    "plotClusters(df, cluster, means)"
   ]
  },
  {
   "cell_type": "markdown",
   "id": "brave-chest",
   "metadata": {},
   "source": [
    "### kmeans is random\n",
    "\n",
    "we should probably check consistency"
   ]
  },
  {
   "cell_type": "code",
   "execution_count": 160,
   "id": "august-number",
   "metadata": {},
   "outputs": [
    {
     "data": {
      "image/png": "[encoded data removed]",
      "text/plain": [
       "<Figure size 648x288 with 2 Axes>"
      ]
     },
     "metadata": {
      "needs_background": "light"
     },
     "output_type": "display_data"
    }
   ],
   "source": [
    "cluster1, means1 = kmeans(3, df)\n",
    "cluster2, means2 = kmeans(3, df)\n",
    "\n",
    "fig, axs = plt.subplots(1,2,figsize=(9,4))\n",
    "plt.sca(axs[0])\n",
    "plotClusters(df, cluster1, means1, make_figure = False)\n",
    "plt.sca(axs[1])\n",
    "plotClusters(df, cluster2, means2, make_figure = False)"
   ]
  },
  {
   "cell_type": "markdown",
   "id": "surrounded-institute",
   "metadata": {},
   "source": [
    "### Consistency via rand score\n",
    "\n",
    "how similar are the clusterings?   Note that the labels themselves are arbitrary."
   ]
  },
  {
   "cell_type": "code",
   "execution_count": 168,
   "id": "blond-brand",
   "metadata": {},
   "outputs": [
    {
     "data": {
      "text/plain": [
       "array([[1, 1, 0, 0, 0],\n",
       "       [1, 1, 0, 0, 0],\n",
       "       [0, 0, 1, 1, 0],\n",
       "       [0, 0, 1, 1, 0],\n",
       "       [0, 0, 0, 0, 1]])"
      ]
     },
     "execution_count": 168,
     "metadata": {},
     "output_type": "execute_result"
    }
   ],
   "source": [
    "c1 = np.array([1, 1, 0, 0, 2])\n",
    "(c1[None,:] == c1[:,None]).astype(int)"
   ]
  },
  {
   "cell_type": "code",
   "execution_count": 169,
   "id": "medieval-denmark",
   "metadata": {},
   "outputs": [],
   "source": [
    "ut_id = np.triu_indices(len(cluster1), 1)\n",
    "cc1 = (cluster1[None,:] == cluster1[:,None])[ut_id]\n",
    "cc2 = (cluster2[None,:] == cluster2[:,None])[ut_id]"
   ]
  },
  {
   "cell_type": "code",
   "execution_count": 170,
   "id": "prospective-society",
   "metadata": {},
   "outputs": [
    {
     "name": "stdout",
     "output_type": "stream",
     "text": [
      "1167 2779 496 508\n"
     ]
    }
   ],
   "source": [
    "a = np.sum(cc1 & cc2)\n",
    "b = np.sum(~cc1 & ~cc2)\n",
    "c = np.sum(cc1 & ~cc2)\n",
    "d = np.sum(~cc1 & cc2)\n",
    "\n",
    "# sanity check\n",
    "n = len(cluster1)\n",
    "assert (a+b+c+d) == n*(n-1)//2\n",
    "\n",
    "print(a,b,c,d)"
   ]
  },
  {
   "cell_type": "code",
   "execution_count": 171,
   "id": "physical-shift",
   "metadata": {},
   "outputs": [
    {
     "data": {
      "text/plain": [
       "0.7971717171717172"
      ]
     },
     "execution_count": 171,
     "metadata": {},
     "output_type": "execute_result"
    }
   ],
   "source": [
    "(a+b)/(a+b+c+d)"
   ]
  },
  {
   "cell_type": "code",
   "execution_count": 172,
   "id": "younger-blond",
   "metadata": {},
   "outputs": [
    {
     "data": {
      "text/plain": [
       "0.7971717171717172"
      ]
     },
     "execution_count": 172,
     "metadata": {},
     "output_type": "execute_result"
    }
   ],
   "source": [
    "from sklearn.metrics import rand_score\n",
    "rand_score(cluster1, cluster2)"
   ]
  },
  {
   "cell_type": "markdown",
   "id": "attached-survey",
   "metadata": {},
   "source": [
    "## OSRI"
   ]
  },
  {
   "cell_type": "code",
   "execution_count": 173,
   "id": "accessible-photograph",
   "metadata": {},
   "outputs": [],
   "source": [
    "osri = pd.read_csv('osri-data.csv', sep = '\\t')"
   ]
  },
  {
   "cell_type": "code",
   "execution_count": 176,
   "id": "verified-championship",
   "metadata": {},
   "outputs": [
    {
     "data": {
      "text/html": [
       "<div>\n",
       "<style scoped>\n",
       "    .dataframe tbody tr th:only-of-type {\n",
       "        vertical-align: middle;\n",
       "    }\n",
       "\n",
       "    .dataframe tbody tr th {\n",
       "        vertical-align: top;\n",
       "    }\n",
       "\n",
       "    .dataframe thead th {\n",
       "        text-align: right;\n",
       "    }\n",
       "</style>\n",
       "<table border=\"1\" class=\"dataframe\">\n",
       "  <thead>\n",
       "    <tr style=\"text-align: right;\">\n",
       "      <th></th>\n",
       "      <th>Q1</th>\n",
       "      <th>Q2</th>\n",
       "      <th>Q3</th>\n",
       "      <th>Q4</th>\n",
       "      <th>Q5</th>\n",
       "      <th>Q6</th>\n",
       "      <th>Q7</th>\n",
       "      <th>Q8</th>\n",
       "      <th>Q9</th>\n",
       "      <th>Q10</th>\n",
       "      <th>...</th>\n",
       "      <th>IP</th>\n",
       "      <th>engnat</th>\n",
       "      <th>age</th>\n",
       "      <th>education</th>\n",
       "      <th>gender</th>\n",
       "      <th>orientation</th>\n",
       "      <th>race</th>\n",
       "      <th>religion</th>\n",
       "      <th>hand</th>\n",
       "      <th>fromgoogle</th>\n",
       "    </tr>\n",
       "  </thead>\n",
       "  <tbody>\n",
       "    <tr>\n",
       "      <th>0</th>\n",
       "      <td>1</td>\n",
       "      <td>1</td>\n",
       "      <td>2</td>\n",
       "      <td>3</td>\n",
       "      <td>5</td>\n",
       "      <td>5</td>\n",
       "      <td>5</td>\n",
       "      <td>4</td>\n",
       "      <td>2</td>\n",
       "      <td>4</td>\n",
       "      <td>...</td>\n",
       "      <td>ID</td>\n",
       "      <td>2</td>\n",
       "      <td>21</td>\n",
       "      <td>2</td>\n",
       "      <td>1</td>\n",
       "      <td>1</td>\n",
       "      <td>2</td>\n",
       "      <td>3</td>\n",
       "      <td>1</td>\n",
       "      <td>2</td>\n",
       "    </tr>\n",
       "    <tr>\n",
       "      <th>1</th>\n",
       "      <td>1</td>\n",
       "      <td>1</td>\n",
       "      <td>4</td>\n",
       "      <td>2</td>\n",
       "      <td>5</td>\n",
       "      <td>5</td>\n",
       "      <td>4</td>\n",
       "      <td>1</td>\n",
       "      <td>1</td>\n",
       "      <td>3</td>\n",
       "      <td>...</td>\n",
       "      <td>GB</td>\n",
       "      <td>1</td>\n",
       "      <td>25</td>\n",
       "      <td>4</td>\n",
       "      <td>1</td>\n",
       "      <td>1</td>\n",
       "      <td>6</td>\n",
       "      <td>1</td>\n",
       "      <td>1</td>\n",
       "      <td>2</td>\n",
       "    </tr>\n",
       "    <tr>\n",
       "      <th>2</th>\n",
       "      <td>1</td>\n",
       "      <td>4</td>\n",
       "      <td>1</td>\n",
       "      <td>4</td>\n",
       "      <td>1</td>\n",
       "      <td>1</td>\n",
       "      <td>1</td>\n",
       "      <td>3</td>\n",
       "      <td>1</td>\n",
       "      <td>4</td>\n",
       "      <td>...</td>\n",
       "      <td>US</td>\n",
       "      <td>1</td>\n",
       "      <td>22</td>\n",
       "      <td>2</td>\n",
       "      <td>1</td>\n",
       "      <td>3</td>\n",
       "      <td>3</td>\n",
       "      <td>1</td>\n",
       "      <td>1</td>\n",
       "      <td>2</td>\n",
       "    </tr>\n",
       "    <tr>\n",
       "      <th>3</th>\n",
       "      <td>3</td>\n",
       "      <td>5</td>\n",
       "      <td>5</td>\n",
       "      <td>5</td>\n",
       "      <td>5</td>\n",
       "      <td>5</td>\n",
       "      <td>5</td>\n",
       "      <td>4</td>\n",
       "      <td>4</td>\n",
       "      <td>5</td>\n",
       "      <td>...</td>\n",
       "      <td>US</td>\n",
       "      <td>1</td>\n",
       "      <td>16</td>\n",
       "      <td>2</td>\n",
       "      <td>3</td>\n",
       "      <td>2</td>\n",
       "      <td>1</td>\n",
       "      <td>7</td>\n",
       "      <td>1</td>\n",
       "      <td>2</td>\n",
       "    </tr>\n",
       "    <tr>\n",
       "      <th>4</th>\n",
       "      <td>2</td>\n",
       "      <td>1</td>\n",
       "      <td>4</td>\n",
       "      <td>2</td>\n",
       "      <td>4</td>\n",
       "      <td>3</td>\n",
       "      <td>5</td>\n",
       "      <td>3</td>\n",
       "      <td>5</td>\n",
       "      <td>2</td>\n",
       "      <td>...</td>\n",
       "      <td>US</td>\n",
       "      <td>1</td>\n",
       "      <td>30</td>\n",
       "      <td>3</td>\n",
       "      <td>1</td>\n",
       "      <td>2</td>\n",
       "      <td>6</td>\n",
       "      <td>1</td>\n",
       "      <td>1</td>\n",
       "      <td>2</td>\n",
       "    </tr>\n",
       "    <tr>\n",
       "      <th>...</th>\n",
       "      <td>...</td>\n",
       "      <td>...</td>\n",
       "      <td>...</td>\n",
       "      <td>...</td>\n",
       "      <td>...</td>\n",
       "      <td>...</td>\n",
       "      <td>...</td>\n",
       "      <td>...</td>\n",
       "      <td>...</td>\n",
       "      <td>...</td>\n",
       "      <td>...</td>\n",
       "      <td>...</td>\n",
       "      <td>...</td>\n",
       "      <td>...</td>\n",
       "      <td>...</td>\n",
       "      <td>...</td>\n",
       "      <td>...</td>\n",
       "      <td>...</td>\n",
       "      <td>...</td>\n",
       "      <td>...</td>\n",
       "      <td>...</td>\n",
       "    </tr>\n",
       "    <tr>\n",
       "      <th>209613</th>\n",
       "      <td>2</td>\n",
       "      <td>5</td>\n",
       "      <td>5</td>\n",
       "      <td>4</td>\n",
       "      <td>1</td>\n",
       "      <td>4</td>\n",
       "      <td>2</td>\n",
       "      <td>4</td>\n",
       "      <td>2</td>\n",
       "      <td>4</td>\n",
       "      <td>...</td>\n",
       "      <td>NZ</td>\n",
       "      <td>1</td>\n",
       "      <td>17</td>\n",
       "      <td>2</td>\n",
       "      <td>3</td>\n",
       "      <td>2</td>\n",
       "      <td>1</td>\n",
       "      <td>1</td>\n",
       "      <td>1</td>\n",
       "      <td>1</td>\n",
       "    </tr>\n",
       "    <tr>\n",
       "      <th>209614</th>\n",
       "      <td>1</td>\n",
       "      <td>5</td>\n",
       "      <td>3</td>\n",
       "      <td>5</td>\n",
       "      <td>5</td>\n",
       "      <td>4</td>\n",
       "      <td>3</td>\n",
       "      <td>3</td>\n",
       "      <td>4</td>\n",
       "      <td>5</td>\n",
       "      <td>...</td>\n",
       "      <td>US</td>\n",
       "      <td>1</td>\n",
       "      <td>21</td>\n",
       "      <td>3</td>\n",
       "      <td>3</td>\n",
       "      <td>3</td>\n",
       "      <td>6</td>\n",
       "      <td>1</td>\n",
       "      <td>1</td>\n",
       "      <td>2</td>\n",
       "    </tr>\n",
       "    <tr>\n",
       "      <th>209615</th>\n",
       "      <td>1</td>\n",
       "      <td>5</td>\n",
       "      <td>1</td>\n",
       "      <td>4</td>\n",
       "      <td>2</td>\n",
       "      <td>2</td>\n",
       "      <td>3</td>\n",
       "      <td>2</td>\n",
       "      <td>1</td>\n",
       "      <td>5</td>\n",
       "      <td>...</td>\n",
       "      <td>GB</td>\n",
       "      <td>1</td>\n",
       "      <td>19</td>\n",
       "      <td>2</td>\n",
       "      <td>3</td>\n",
       "      <td>4</td>\n",
       "      <td>6</td>\n",
       "      <td>7</td>\n",
       "      <td>1</td>\n",
       "      <td>2</td>\n",
       "    </tr>\n",
       "    <tr>\n",
       "      <th>209616</th>\n",
       "      <td>2</td>\n",
       "      <td>5</td>\n",
       "      <td>3</td>\n",
       "      <td>4</td>\n",
       "      <td>5</td>\n",
       "      <td>5</td>\n",
       "      <td>5</td>\n",
       "      <td>2</td>\n",
       "      <td>3</td>\n",
       "      <td>5</td>\n",
       "      <td>...</td>\n",
       "      <td>US</td>\n",
       "      <td>1</td>\n",
       "      <td>14</td>\n",
       "      <td>1</td>\n",
       "      <td>2</td>\n",
       "      <td>2</td>\n",
       "      <td>1</td>\n",
       "      <td>2</td>\n",
       "      <td>1</td>\n",
       "      <td>1</td>\n",
       "    </tr>\n",
       "    <tr>\n",
       "      <th>209617</th>\n",
       "      <td>1</td>\n",
       "      <td>5</td>\n",
       "      <td>5</td>\n",
       "      <td>2</td>\n",
       "      <td>3</td>\n",
       "      <td>4</td>\n",
       "      <td>4</td>\n",
       "      <td>1</td>\n",
       "      <td>5</td>\n",
       "      <td>5</td>\n",
       "      <td>...</td>\n",
       "      <td>US</td>\n",
       "      <td>1</td>\n",
       "      <td>20</td>\n",
       "      <td>2</td>\n",
       "      <td>1</td>\n",
       "      <td>5</td>\n",
       "      <td>6</td>\n",
       "      <td>1</td>\n",
       "      <td>1</td>\n",
       "      <td>2</td>\n",
       "    </tr>\n",
       "  </tbody>\n",
       "</table>\n",
       "<p>209618 rows × 56 columns</p>\n",
       "</div>"
      ],
      "text/plain": [
       "        Q1  Q2  Q3  Q4  Q5  Q6  Q7  Q8  Q9  Q10  ...  IP  engnat  age  \\\n",
       "0        1   1   2   3   5   5   5   4   2    4  ...  ID       2   21   \n",
       "1        1   1   4   2   5   5   4   1   1    3  ...  GB       1   25   \n",
       "2        1   4   1   4   1   1   1   3   1    4  ...  US       1   22   \n",
       "3        3   5   5   5   5   5   5   4   4    5  ...  US       1   16   \n",
       "4        2   1   4   2   4   3   5   3   5    2  ...  US       1   30   \n",
       "...     ..  ..  ..  ..  ..  ..  ..  ..  ..  ...  ...  ..     ...  ...   \n",
       "209613   2   5   5   4   1   4   2   4   2    4  ...  NZ       1   17   \n",
       "209614   1   5   3   5   5   4   3   3   4    5  ...  US       1   21   \n",
       "209615   1   5   1   4   2   2   3   2   1    5  ...  GB       1   19   \n",
       "209616   2   5   3   4   5   5   5   2   3    5  ...  US       1   14   \n",
       "209617   1   5   5   2   3   4   4   1   5    5  ...  US       1   20   \n",
       "\n",
       "        education  gender  orientation  race  religion  hand  fromgoogle  \n",
       "0               2       1            1     2         3     1           2  \n",
       "1               4       1            1     6         1     1           2  \n",
       "2               2       1            3     3         1     1           2  \n",
       "3               2       3            2     1         7     1           2  \n",
       "4               3       1            2     6         1     1           2  \n",
       "...           ...     ...          ...   ...       ...   ...         ...  \n",
       "209613          2       3            2     1         1     1           1  \n",
       "209614          3       3            3     6         1     1           2  \n",
       "209615          2       3            4     6         7     1           2  \n",
       "209616          1       2            2     1         2     1           1  \n",
       "209617          2       1            5     6         1     1           2  \n",
       "\n",
       "[209618 rows x 56 columns]"
      ]
     },
     "execution_count": 176,
     "metadata": {},
     "output_type": "execute_result"
    }
   ],
   "source": [
    "osri"
   ]
  },
  {
   "cell_type": "code",
   "execution_count": 177,
   "id": "damaged-hawaiian",
   "metadata": {
    "scrolled": true
   },
   "outputs": [],
   "source": [
    "# osri.columns\n",
    "features = ['Q'+str(n) for n in range(1, 45)]"
   ]
  },
  {
   "cell_type": "markdown",
   "id": "fleet-escape",
   "metadata": {},
   "source": [
    "## Fitting kmeans clustering"
   ]
  },
  {
   "cell_type": "code",
   "execution_count": 178,
   "id": "searching-heater",
   "metadata": {},
   "outputs": [
    {
     "data": {
      "text/plain": [
       "KMeans(n_clusters=2)"
      ]
     },
     "execution_count": 178,
     "metadata": {},
     "output_type": "execute_result"
    }
   ],
   "source": [
    "from sklearn.cluster import KMeans\n",
    "km = KMeans(n_clusters=2)\n",
    "km.fit(osri[features])"
   ]
  },
  {
   "cell_type": "code",
   "execution_count": 179,
   "id": "according-rebel",
   "metadata": {},
   "outputs": [
    {
     "data": {
      "text/plain": [
       "array([[2.51372323, 2.92836683, 3.68522258, 2.48485631, 3.33614294,\n",
       "        3.41413881, 3.88764322, 2.61544421, 3.58028503, 3.3038951 ,\n",
       "        3.20294891, 1.94428531, 3.30189942, 2.62832222, 3.67904771,\n",
       "        2.09630917, 3.23606546, 3.12646741, 3.54354104, 2.74997652,\n",
       "        3.40679001, 2.87793482, 4.27508687, 2.81873356, 2.51557804,\n",
       "        2.21453559, 3.27168248, 2.08279724, 3.18496431, 2.1412824 ,\n",
       "        3.71744694, 2.22760143, 3.36607814, 2.18942524, 3.72764838,\n",
       "        2.0196868 , 4.26845417, 2.02364294, 3.44699709, 2.16922192,\n",
       "        3.89046065, 2.00167872, 3.26034232, 2.11835556],\n",
       "       [1.62533552, 4.45682048, 2.52269476, 3.65335841, 2.65637205,\n",
       "        3.94247553, 3.03333494, 3.61564363, 2.21858174, 3.85020171,\n",
       "        2.58422939, 3.26563479, 2.22743784, 3.85986949, 2.93967083,\n",
       "        3.42719835, 2.16612019, 3.66264847, 2.42325249, 4.24441873,\n",
       "        2.59195236, 3.9417844 , 3.91514377, 3.75127377, 1.63688381,\n",
       "        3.43327386, 2.34711574, 3.25788772, 2.19176431, 3.44517576,\n",
       "        2.69141071, 3.2362859 , 2.4515245 , 3.44839835, 2.73201054,\n",
       "        3.10789656, 3.46223701, 3.25963161, 2.18059373, 3.36375106,\n",
       "        3.11138435, 3.14838388, 2.29165662, 3.41144703]])"
      ]
     },
     "execution_count": 179,
     "metadata": {},
     "output_type": "execute_result"
    }
   ],
   "source": [
    "km.cluster_centers_"
   ]
  },
  {
   "cell_type": "code",
   "execution_count": 180,
   "id": "double-sheffield",
   "metadata": {},
   "outputs": [
    {
     "data": {
      "text/plain": [
       "array([1, 0, 1, ..., 1, 1, 0], dtype=int32)"
      ]
     },
     "execution_count": 180,
     "metadata": {},
     "output_type": "execute_result"
    }
   ],
   "source": [
    "km.labels_"
   ]
  },
  {
   "cell_type": "markdown",
   "id": "stainless-therapist",
   "metadata": {},
   "source": [
    "## Evaluating clustering\n",
    "\n",
    "### ability to match some known labels"
   ]
  },
  {
   "cell_type": "code",
   "execution_count": 182,
   "id": "composed-villa",
   "metadata": {},
   "outputs": [],
   "source": [
    "osri['cluster'] = km.labels_\n",
    "# gender\t1=Male, 2=Female, 3=Other\n",
    "osri['gender_str'] = osri['gender'].map({0:'unknown',1:'male', 2:'female',3:'other'})"
   ]
  },
  {
   "cell_type": "code",
   "execution_count": 183,
   "id": "systematic-draft",
   "metadata": {},
   "outputs": [
    {
     "data": {
      "text/html": [
       "<div>\n",
       "<style scoped>\n",
       "    .dataframe tbody tr th:only-of-type {\n",
       "        vertical-align: middle;\n",
       "    }\n",
       "\n",
       "    .dataframe tbody tr th {\n",
       "        vertical-align: top;\n",
       "    }\n",
       "\n",
       "    .dataframe thead tr th {\n",
       "        text-align: left;\n",
       "    }\n",
       "\n",
       "    .dataframe thead tr:last-of-type th {\n",
       "        text-align: right;\n",
       "    }\n",
       "</style>\n",
       "<table border=\"1\" class=\"dataframe\">\n",
       "  <thead>\n",
       "    <tr>\n",
       "      <th></th>\n",
       "      <th colspan=\"4\" halign=\"left\">n</th>\n",
       "    </tr>\n",
       "    <tr>\n",
       "      <th>gender_str</th>\n",
       "      <th>female</th>\n",
       "      <th>male</th>\n",
       "      <th>other</th>\n",
       "      <th>unknown</th>\n",
       "    </tr>\n",
       "    <tr>\n",
       "      <th>cluster</th>\n",
       "      <th></th>\n",
       "      <th></th>\n",
       "      <th></th>\n",
       "      <th></th>\n",
       "    </tr>\n",
       "  </thead>\n",
       "  <tbody>\n",
       "    <tr>\n",
       "      <th>0</th>\n",
       "      <td>15171</td>\n",
       "      <td>64731</td>\n",
       "      <td>4356</td>\n",
       "      <td>958</td>\n",
       "    </tr>\n",
       "    <tr>\n",
       "      <th>1</th>\n",
       "      <td>82620</td>\n",
       "      <td>26937</td>\n",
       "      <td>13003</td>\n",
       "      <td>1842</td>\n",
       "    </tr>\n",
       "  </tbody>\n",
       "</table>\n",
       "</div>"
      ],
      "text/plain": [
       "                n                      \n",
       "gender_str female   male  other unknown\n",
       "cluster                                \n",
       "0           15171  64731   4356     958\n",
       "1           82620  26937  13003    1842"
      ]
     },
     "execution_count": 183,
     "metadata": {},
     "output_type": "execute_result"
    }
   ],
   "source": [
    "osri.groupby(['gender_str','cluster']).agg(n = ('cluster',len)).unstack('gender_str')"
   ]
  },
  {
   "cell_type": "code",
   "execution_count": 184,
   "id": "emotional-italic",
   "metadata": {},
   "outputs": [
    {
     "data": {
      "image/png": "[encoded data removed]",
      "text/plain": [
       "<Figure size 432x288 with 1 Axes>"
      ]
     },
     "metadata": {
      "needs_background": "light"
     },
     "output_type": "display_data"
    }
   ],
   "source": [
    "clust_gender = osri.groupby('gender_str').agg(p_c1 = ('cluster', 'mean')).reset_index()\n",
    "_ = plt.bar(clust_gender['gender_str'], clust_gender['p_c1'])\n",
    "_ = plt.ylabel('proportion assigned to cluster = 1')\n"
   ]
  },
  {
   "cell_type": "markdown",
   "id": "excess-cherry",
   "metadata": {},
   "source": [
    "#### Rand index\n",
    "\n",
    "Given some known, true grouping structure compare whether things were clustered together the same way:  \n",
    "for each *pair* of data points, ask if the two data points are in the same cluster or not, in the true clusters, and in the learned clusters."
   ]
  },
  {
   "cell_type": "code",
   "execution_count": 187,
   "id": "czech-pepper",
   "metadata": {},
   "outputs": [
    {
     "data": {
      "text/plain": [
       "0.6202888161983383"
      ]
     },
     "execution_count": 187,
     "metadata": {},
     "output_type": "execute_result"
    }
   ],
   "source": [
    "from sklearn.metrics import rand_score\n",
    "rand_score(osri['gender'], osri['cluster'])"
   ]
  },
  {
   "cell_type": "markdown",
   "id": "raising-violence",
   "metadata": {},
   "source": [
    "### Based on cluster separation\n",
    "\n",
    "e.g., how similar are items in the same cluster, compared to how similar are items in different clusters.\n",
    "\n",
    "- can use within/across cluster dispersion (Calinki-Harabasz)   \n",
    "- can use within/across cluster pairwise distances (Silhouette)  \n",
    "- or some mix, like distances of points in cluster to cluster center, compared to distances between cluster centers."
   ]
  },
  {
   "cell_type": "markdown",
   "id": "sustained-insight",
   "metadata": {},
   "source": [
    "### Silhouette\n",
    "\n",
    "distance between points in same cluster, compared to distance to points in closest other cluster.\n",
    "\n",
    "-1 to +1.  0 is not separated, +1 is amazingly perfect"
   ]
  },
  {
   "cell_type": "code",
   "execution_count": 189,
   "id": "needed-payday",
   "metadata": {},
   "outputs": [
    {
     "data": {
      "text/plain": [
       "0.11908950621639142"
      ]
     },
     "execution_count": 189,
     "metadata": {},
     "output_type": "execute_result"
    }
   ],
   "source": [
    "from sklearn.metrics import silhouette_score\n",
    "# silhouette_score(osri[features], osri['cluster'])\n",
    "# O(n^2) !  \n",
    "subset = osri.sample(1000)\n",
    "silhouette_score(subset[features], subset['cluster'])"
   ]
  },
  {
   "cell_type": "markdown",
   "id": "arranged-worship",
   "metadata": {},
   "source": [
    "### Davies-Bouldi\n",
    "\n",
    "zero is best, higher is worse.  scale depends on data."
   ]
  },
  {
   "cell_type": "code",
   "execution_count": 190,
   "id": "descending-favorite",
   "metadata": {},
   "outputs": [
    {
     "data": {
      "text/plain": [
       "2.6158955064640796"
      ]
     },
     "execution_count": 190,
     "metadata": {},
     "output_type": "execute_result"
    }
   ],
   "source": [
    "from sklearn.metrics import davies_bouldin_score\n",
    "davies_bouldin_score(osri[features], osri['cluster'])\n"
   ]
  },
  {
   "cell_type": "markdown",
   "id": "accessible-sphere",
   "metadata": {},
   "source": [
    "### Variance ratio: Calinski-Harabasz\n",
    "\n",
    "ratio of between cluster variance (variance of cluster means) to within cluster variance (variance of distances from cluster).  \n",
    "\n",
    "Higher is better, but numbers depend on data scale."
   ]
  },
  {
   "cell_type": "code",
   "execution_count": 192,
   "id": "finnish-butterfly",
   "metadata": {},
   "outputs": [
    {
     "data": {
      "text/plain": [
       "28959.757535289504"
      ]
     },
     "execution_count": 192,
     "metadata": {},
     "output_type": "execute_result"
    }
   ],
   "source": [
    "from sklearn.metrics import calinski_harabasz_score\n",
    "calinski_harabasz_score(osri[features], osri['cluster'])"
   ]
  },
  {
   "cell_type": "code",
   "execution_count": null,
   "id": "atlantic-sponsorship",
   "metadata": {},
   "outputs": [],
   "source": [
    "calinski_harabasz_score(osri[features], np.random.randint(0,2,len(osri)))"
   ]
  },
  {
   "cell_type": "markdown",
   "id": "beginning-producer",
   "metadata": {},
   "source": [
    "## How to pick number of clusters?\n",
    "\n",
    "best variance ratio a la Calinski Harabasz"
   ]
  },
  {
   "cell_type": "code",
   "execution_count": 194,
   "id": "australian-passion",
   "metadata": {},
   "outputs": [],
   "source": [
    "subset = osri.sample(1000)"
   ]
  },
  {
   "cell_type": "code",
   "execution_count": 196,
   "id": "fluid-american",
   "metadata": {},
   "outputs": [],
   "source": [
    "Ks = list(range(2, 10))\n",
    "rand_gender = []\n",
    "rand_consistency = []\n",
    "silhouette = []\n",
    "variance_ratio = []\n",
    "\n",
    "for K in Ks:\n",
    "    km = KMeans(n_clusters=K).fit(subset[features])\n",
    "    # rand index to some ground truth label\n",
    "    rand_gender.append(rand_score(km.labels_, subset['gender']))\n",
    "    # rand index to another kmeans output\n",
    "    \n",
    "    rand_consistency.append(rand_score(km.labels_, \n",
    "                                 (KMeans(n_clusters=K)\n",
    "                                  .fit(subset[features])\n",
    "                                  .labels_)))\n",
    "    # silhoutte coefficient\n",
    "    silhouette.append(silhouette_score(subset[features], km.labels_))\n",
    "    # variance ratio\n",
    "    variance_ratio.append(calinski_harabasz_score(subset[features], km.labels_))"
   ]
  },
  {
   "cell_type": "code",
   "execution_count": 218,
   "id": "fitted-canberra",
   "metadata": {},
   "outputs": [
    {
     "data": {
      "image/png": "[encoded data removed]",
      "text/plain": [
       "<Figure size 432x288 with 1 Axes>"
      ]
     },
     "metadata": {
      "needs_background": "light"
     },
     "output_type": "display_data"
    }
   ],
   "source": [
    "_ = plt.plot(Ks, variance_ratio)\n",
    "_ = plt.xlabel('number of clusters')\n",
    "_ = plt.ylabel('Variance ratio')"
   ]
  },
  {
   "cell_type": "code",
   "execution_count": 213,
   "id": "logical-meter",
   "metadata": {},
   "outputs": [
    {
     "data": {
      "text/plain": [
       "0.9804944944944944"
      ]
     },
     "execution_count": 213,
     "metadata": {},
     "output_type": "execute_result"
    }
   ],
   "source": [
    "K = 100\n",
    "rand_score(np.random.randint(0,K,1000), \n",
    "           np.random.randint(0,K,1000))"
   ]
  },
  {
   "cell_type": "markdown",
   "id": "british-truck",
   "metadata": {},
   "source": [
    "# Clustering\n",
    "\n",
    "**goal**: find discrete groups, or clusters, of data points\n",
    "\n",
    "![clustering](sklearn_clustering.png)\n"
   ]
  },
  {
   "cell_type": "code",
   "execution_count": 221,
   "id": "fluid-uzbekistan",
   "metadata": {},
   "outputs": [
    {
     "data": {
      "text/plain": [
       "[array([-2.83812255,  1.44048037]),\n",
       " array([0.11794463, 1.35983792]),\n",
       " array([-1.30450599, -0.23785666])]"
      ]
     },
     "execution_count": 221,
     "metadata": {},
     "output_type": "execute_result"
    }
   ],
   "source": [
    "means"
   ]
  },
  {
   "cell_type": "code",
   "execution_count": 233,
   "id": "automatic-bishop",
   "metadata": {},
   "outputs": [
    {
     "data": {
      "image/png": "[encoded data removed]",
      "text/plain": [
       "<Figure size 432x432 with 1 Axes>"
      ]
     },
     "metadata": {
      "needs_background": "light"
     },
     "output_type": "display_data"
    }
   ],
   "source": [
    "X1 = np.random.multivariate_normal([0,0], [[1, -0.9], [-0.9, 1]], 1000)\n",
    "X2 = np.random.multivariate_normal([1,1], [[1, -0.9], [-0.9, 1]], 1000)\n",
    "\n",
    "_ = plt.figure(figsize = (6,6))\n",
    "_ = plt.scatter(X1[:,0], X1[:,1], color = 'r')\n",
    "_ = plt.scatter(X2[:,0], X2[:,1], color = 'b')\n",
    "_ = plt.axis('equal')"
   ]
  },
  {
   "cell_type": "code",
   "execution_count": null,
   "id": "relative-moment",
   "metadata": {},
   "outputs": [],
   "source": []
  }
 ],
 "metadata": {
  "kernelspec": {
   "display_name": "Python 3",
   "language": "python",
   "name": "python3"
  },
  "language_info": {
   "codemirror_mode": {
    "name": "ipython",
    "version": 3
   },
   "file_extension": ".py",
   "mimetype": "text/x-python",
   "name": "python",
   "nbconvert_exporter": "python",
   "pygments_lexer": "ipython3",
   "version": "3.8.6"
  }
 },
 "nbformat": 4,
 "nbformat_minor": 5
}
