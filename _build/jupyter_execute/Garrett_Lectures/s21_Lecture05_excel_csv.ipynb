{
 "cells": [
  {
   "cell_type": "markdown",
   "metadata": {
    "id": "te6XLel3Htbm"
   },
   "source": [
    "# Obtaining data - csv/excel\n",
    "\n",
    "Announcements:\n",
    "1. Problem set 1 grades posted soon!\n",
    "2. Problem set 3 released after class\n",
    "3. Stuff due at end of the week: Problem set 3, Quiz 3, and Discussion board post 1\n",
    "4. Adnan speaking on Wednesday at 6:00pm\n",
    "5. Brendon's video on IDEs posted \n",
    "\n",
    "Today's topics\n",
    "1.   Loading csv, excel data\n",
    "2.   Saving csv, excel data\n",
    "3.   Websites with data\n",
    "4.   Brief intro web scraping\n",
    "\n",
    "So far, we've talked about how to manipulate data, using numpy and pandas, and how to visualize that data, using matplotlib and seaborn\n",
    "\n",
    "But I'm using pretty convenient datasets. If you work in a psychology lab, your data may be stored as excel, csv, or text files.\n",
    "\n",
    "Let's talk about a little bit about loading and saving these kinds of datasets.\n",
    "\n",
    "First, let's import some of our normal libraries"
   ]
  },
  {
   "cell_type": "code",
   "execution_count": 1,
   "metadata": {
    "id": "Xgvs9LsSG9gD"
   },
   "outputs": [],
   "source": [
    "import numpy as np\n",
    "import pandas as pd\n",
    "import seaborn as sns\n",
    "import matplotlib.pyplot as plt"
   ]
  },
  {
   "cell_type": "markdown",
   "metadata": {
    "id": "tR9ZTek2J5Un"
   },
   "source": [
    "Now, let's import some data I collected during my postdoc fellowship.\n",
    "\n",
    "This is eye tracking data of someone driving in a driving simulator."
   ]
  },
  {
   "cell_type": "code",
   "execution_count": 2,
   "metadata": {
    "colab": {
     "base_uri": "https://localhost:8080/",
     "height": 204
    },
    "id": "nNzdchBfIkQ6",
    "outputId": "89b95947-d9d4-41f3-ba97-c0b0835be11d"
   },
   "outputs": [
    {
     "data": {
      "text/html": [
       "<div>\n",
       "<style scoped>\n",
       "    .dataframe tbody tr th:only-of-type {\n",
       "        vertical-align: middle;\n",
       "    }\n",
       "\n",
       "    .dataframe tbody tr th {\n",
       "        vertical-align: top;\n",
       "    }\n",
       "\n",
       "    .dataframe thead th {\n",
       "        text-align: right;\n",
       "    }\n",
       "</style>\n",
       "<table border=\"1\" class=\"dataframe\">\n",
       "  <thead>\n",
       "    <tr style=\"text-align: right;\">\n",
       "      <th></th>\n",
       "      <th>Var1 Var2 Var3</th>\n",
       "    </tr>\n",
       "  </thead>\n",
       "  <tbody>\n",
       "    <tr>\n",
       "      <th>0</th>\n",
       "      <td>1.44207587271361 0.0232338115794249 151.138258...</td>\n",
       "    </tr>\n",
       "    <tr>\n",
       "      <th>1</th>\n",
       "      <td>1.39027874910719 0.0218304931830517 151.154917...</td>\n",
       "    </tr>\n",
       "    <tr>\n",
       "      <th>2</th>\n",
       "      <td>1.48176710656607 0.0237724495233521 151.171574...</td>\n",
       "    </tr>\n",
       "    <tr>\n",
       "      <th>3</th>\n",
       "      <td>1.25546497074573 0.0206526507526711 151.188233...</td>\n",
       "    </tr>\n",
       "    <tr>\n",
       "      <th>4</th>\n",
       "      <td>1.5483807587008 0.0231691147836626 151.2048945...</td>\n",
       "    </tr>\n",
       "  </tbody>\n",
       "</table>\n",
       "</div>"
      ],
      "text/plain": [
       "                                      Var1 Var2 Var3\n",
       "0  1.44207587271361 0.0232338115794249 151.138258...\n",
       "1  1.39027874910719 0.0218304931830517 151.154917...\n",
       "2  1.48176710656607 0.0237724495233521 151.171574...\n",
       "3  1.25546497074573 0.0206526507526711 151.188233...\n",
       "4  1.5483807587008 0.0231691147836626 151.2048945..."
      ]
     },
     "execution_count": 2,
     "metadata": {},
     "output_type": "execute_result"
    }
   ],
   "source": [
    "eye_track = pd.read_csv('eyetracking_data.txt')\n",
    "eye_track.head()"
   ]
  },
  {
   "cell_type": "markdown",
   "metadata": {
    "id": "Wgu7TbKwMNuL"
   },
   "source": [
    "Huh. That looks strange\n",
    "\n",
    "We probably need to specify how the numbers are separated. This is called the delimiter"
   ]
  },
  {
   "cell_type": "code",
   "execution_count": 3,
   "metadata": {
    "colab": {
     "base_uri": "https://localhost:8080/",
     "height": 204
    },
    "id": "VNNGKAeUMQvl",
    "outputId": "1c47b585-0bd9-42b7-da69-543fc003112f"
   },
   "outputs": [
    {
     "data": {
      "text/html": [
       "<div>\n",
       "<style scoped>\n",
       "    .dataframe tbody tr th:only-of-type {\n",
       "        vertical-align: middle;\n",
       "    }\n",
       "\n",
       "    .dataframe tbody tr th {\n",
       "        vertical-align: top;\n",
       "    }\n",
       "\n",
       "    .dataframe thead th {\n",
       "        text-align: right;\n",
       "    }\n",
       "</style>\n",
       "<table border=\"1\" class=\"dataframe\">\n",
       "  <thead>\n",
       "    <tr style=\"text-align: right;\">\n",
       "      <th></th>\n",
       "      <th>Var1</th>\n",
       "      <th>Var2</th>\n",
       "      <th>Var3</th>\n",
       "    </tr>\n",
       "  </thead>\n",
       "  <tbody>\n",
       "    <tr>\n",
       "      <th>0</th>\n",
       "      <td>1.442076</td>\n",
       "      <td>0.023234</td>\n",
       "      <td>151.138258</td>\n",
       "    </tr>\n",
       "    <tr>\n",
       "      <th>1</th>\n",
       "      <td>1.390279</td>\n",
       "      <td>0.021830</td>\n",
       "      <td>151.154917</td>\n",
       "    </tr>\n",
       "    <tr>\n",
       "      <th>2</th>\n",
       "      <td>1.481767</td>\n",
       "      <td>0.023772</td>\n",
       "      <td>151.171575</td>\n",
       "    </tr>\n",
       "    <tr>\n",
       "      <th>3</th>\n",
       "      <td>1.255465</td>\n",
       "      <td>0.020653</td>\n",
       "      <td>151.188234</td>\n",
       "    </tr>\n",
       "    <tr>\n",
       "      <th>4</th>\n",
       "      <td>1.548381</td>\n",
       "      <td>0.023169</td>\n",
       "      <td>151.204895</td>\n",
       "    </tr>\n",
       "  </tbody>\n",
       "</table>\n",
       "</div>"
      ],
      "text/plain": [
       "       Var1      Var2        Var3\n",
       "0  1.442076  0.023234  151.138258\n",
       "1  1.390279  0.021830  151.154917\n",
       "2  1.481767  0.023772  151.171575\n",
       "3  1.255465  0.020653  151.188234\n",
       "4  1.548381  0.023169  151.204895"
      ]
     },
     "execution_count": 3,
     "metadata": {},
     "output_type": "execute_result"
    }
   ],
   "source": [
    "eye_track = pd.read_csv('eyetracking_data.txt',delimiter=' ')\n",
    "eye_track.head()"
   ]
  },
  {
   "cell_type": "markdown",
   "metadata": {
    "id": "PO6Nzu5-MZsu"
   },
   "source": [
    "In this particular dataset, spaces were used. However, commas are commonly used. So are tabs"
   ]
  },
  {
   "cell_type": "markdown",
   "metadata": {
    "id": "TKgib3pVMhOO"
   },
   "source": [
    "So... let's get back to the data\n",
    "\n",
    "Jeez. The columns aren't even labelled. Ugh\n",
    "\n",
    "We can rename them with rename"
   ]
  },
  {
   "cell_type": "code",
   "execution_count": 4,
   "metadata": {
    "colab": {
     "base_uri": "https://localhost:8080/",
     "height": 204
    },
    "id": "z6IBHASewp1M",
    "outputId": "535c2b08-a0dc-4df8-e9b3-40548ab45e81"
   },
   "outputs": [
    {
     "data": {
      "text/html": [
       "<div>\n",
       "<style scoped>\n",
       "    .dataframe tbody tr th:only-of-type {\n",
       "        vertical-align: middle;\n",
       "    }\n",
       "\n",
       "    .dataframe tbody tr th {\n",
       "        vertical-align: top;\n",
       "    }\n",
       "\n",
       "    .dataframe thead th {\n",
       "        text-align: right;\n",
       "    }\n",
       "</style>\n",
       "<table border=\"1\" class=\"dataframe\">\n",
       "  <thead>\n",
       "    <tr style=\"text-align: right;\">\n",
       "      <th></th>\n",
       "      <th>Var1</th>\n",
       "      <th>Var2</th>\n",
       "      <th>Var3</th>\n",
       "    </tr>\n",
       "  </thead>\n",
       "  <tbody>\n",
       "    <tr>\n",
       "      <th>0</th>\n",
       "      <td>1.442076</td>\n",
       "      <td>0.023234</td>\n",
       "      <td>151.138258</td>\n",
       "    </tr>\n",
       "    <tr>\n",
       "      <th>1</th>\n",
       "      <td>1.390279</td>\n",
       "      <td>0.021830</td>\n",
       "      <td>151.154917</td>\n",
       "    </tr>\n",
       "    <tr>\n",
       "      <th>2</th>\n",
       "      <td>1.481767</td>\n",
       "      <td>0.023772</td>\n",
       "      <td>151.171575</td>\n",
       "    </tr>\n",
       "    <tr>\n",
       "      <th>3</th>\n",
       "      <td>1.255465</td>\n",
       "      <td>0.020653</td>\n",
       "      <td>151.188234</td>\n",
       "    </tr>\n",
       "    <tr>\n",
       "      <th>4</th>\n",
       "      <td>1.548381</td>\n",
       "      <td>0.023169</td>\n",
       "      <td>151.204895</td>\n",
       "    </tr>\n",
       "  </tbody>\n",
       "</table>\n",
       "</div>"
      ],
      "text/plain": [
       "       Var1      Var2        Var3\n",
       "0  1.442076  0.023234  151.138258\n",
       "1  1.390279  0.021830  151.154917\n",
       "2  1.481767  0.023772  151.171575\n",
       "3  1.255465  0.020653  151.188234\n",
       "4  1.548381  0.023169  151.204895"
      ]
     },
     "execution_count": 4,
     "metadata": {},
     "output_type": "execute_result"
    }
   ],
   "source": [
    "eye_track.rename(columns = {'Var1':'x','Var2':'y','Var3':'t'}) \n",
    "eye_track.head()"
   ]
  },
  {
   "cell_type": "markdown",
   "metadata": {
    "id": "sxYT7joowohF"
   },
   "source": [
    "Or by setting the columns of the dataframe equal to a list. Note that a list with more entries than possible will crash"
   ]
  },
  {
   "cell_type": "code",
   "execution_count": 5,
   "metadata": {
    "colab": {
     "base_uri": "https://localhost:8080/",
     "height": 204
    },
    "id": "74uErKL6MgTj",
    "outputId": "5e5dcc43-19b6-48d0-febc-ba3535cd5beb"
   },
   "outputs": [
    {
     "data": {
      "text/html": [
       "<div>\n",
       "<style scoped>\n",
       "    .dataframe tbody tr th:only-of-type {\n",
       "        vertical-align: middle;\n",
       "    }\n",
       "\n",
       "    .dataframe tbody tr th {\n",
       "        vertical-align: top;\n",
       "    }\n",
       "\n",
       "    .dataframe thead th {\n",
       "        text-align: right;\n",
       "    }\n",
       "</style>\n",
       "<table border=\"1\" class=\"dataframe\">\n",
       "  <thead>\n",
       "    <tr style=\"text-align: right;\">\n",
       "      <th></th>\n",
       "      <th>X</th>\n",
       "      <th>Y</th>\n",
       "      <th>Time</th>\n",
       "    </tr>\n",
       "  </thead>\n",
       "  <tbody>\n",
       "    <tr>\n",
       "      <th>0</th>\n",
       "      <td>1.442076</td>\n",
       "      <td>0.023234</td>\n",
       "      <td>151.138258</td>\n",
       "    </tr>\n",
       "    <tr>\n",
       "      <th>1</th>\n",
       "      <td>1.390279</td>\n",
       "      <td>0.021830</td>\n",
       "      <td>151.154917</td>\n",
       "    </tr>\n",
       "    <tr>\n",
       "      <th>2</th>\n",
       "      <td>1.481767</td>\n",
       "      <td>0.023772</td>\n",
       "      <td>151.171575</td>\n",
       "    </tr>\n",
       "    <tr>\n",
       "      <th>3</th>\n",
       "      <td>1.255465</td>\n",
       "      <td>0.020653</td>\n",
       "      <td>151.188234</td>\n",
       "    </tr>\n",
       "    <tr>\n",
       "      <th>4</th>\n",
       "      <td>1.548381</td>\n",
       "      <td>0.023169</td>\n",
       "      <td>151.204895</td>\n",
       "    </tr>\n",
       "  </tbody>\n",
       "</table>\n",
       "</div>"
      ],
      "text/plain": [
       "          X         Y        Time\n",
       "0  1.442076  0.023234  151.138258\n",
       "1  1.390279  0.021830  151.154917\n",
       "2  1.481767  0.023772  151.171575\n",
       "3  1.255465  0.020653  151.188234\n",
       "4  1.548381  0.023169  151.204895"
      ]
     },
     "execution_count": 5,
     "metadata": {},
     "output_type": "execute_result"
    }
   ],
   "source": [
    "eye_track.columns = ['X','Y','Time']\n",
    "eye_track.head()"
   ]
  },
  {
   "cell_type": "markdown",
   "metadata": {
    "id": "uuPyqdMZODKm"
   },
   "source": [
    "Let's take a quick peek at the data. Looks pretty messy. \n",
    "\n",
    "This is one limitation of these quick plotting methods. Sometimes, they don't look good at all!"
   ]
  },
  {
   "cell_type": "code",
   "execution_count": 6,
   "metadata": {
    "colab": {
     "base_uri": "https://localhost:8080/",
     "height": 567
    },
    "id": "wFCiGbixNOoL",
    "outputId": "16b761aa-b926-40dd-f313-5c5d3004c757"
   },
   "outputs": [
    {
     "data": {
      "text/plain": [
       "<seaborn.axisgrid.PairGrid at 0x7fb7679eda30>"
      ]
     },
     "execution_count": 6,
     "metadata": {},
     "output_type": "execute_result"
    },
    {
     "data": {
      "image/png": "[encoded data removed]",
      "text/plain": [
       "<Figure size 540x540 with 12 Axes>"
      ]
     },
     "metadata": {
      "filenames": {
       "image/png": "/Users/erikbrockbank/web/teaching/ucsd-css-002.github.io/_build/jupyter_execute/Garrett_Lectures/s21_Lecture05_excel_csv_12_1.png"
      },
      "needs_background": "light"
     },
     "output_type": "display_data"
    }
   ],
   "source": [
    "sns.pairplot(eye_track)"
   ]
  },
  {
   "cell_type": "markdown",
   "metadata": {
    "id": "A-zmMVZdOSr2"
   },
   "source": [
    "Since I'm familiar with the data, I can tell you the best way to look at this data is to plot time on the x-axis and X and Y eccentricity on the y-axes"
   ]
  },
  {
   "cell_type": "code",
   "execution_count": 7,
   "metadata": {
    "colab": {
     "base_uri": "https://localhost:8080/",
     "height": 296
    },
    "id": "vnS4gAcMN7Wt",
    "outputId": "892d85e9-2599-47fb-e36f-d59b956a6e14"
   },
   "outputs": [
    {
     "data": {
      "text/plain": [
       "<matplotlib.legend.Legend at 0x7fb76856f460>"
      ]
     },
     "execution_count": 7,
     "metadata": {},
     "output_type": "execute_result"
    },
    {
     "data": {
      "image/png": "[encoded data removed]",
      "text/plain": [
       "<Figure size 432x288 with 1 Axes>"
      ]
     },
     "metadata": {
      "filenames": {
       "image/png": "/Users/erikbrockbank/web/teaching/ucsd-css-002.github.io/_build/jupyter_execute/Garrett_Lectures/s21_Lecture05_excel_csv_14_1.png"
      },
      "needs_background": "light"
     },
     "output_type": "display_data"
    }
   ],
   "source": [
    "sns.lineplot(x='Time',y='X',data=eye_track,label='x ecc')\n",
    "sns.lineplot(x='Time',y='Y',data=eye_track,label='y ecc')\n",
    "plt.ylabel('Eccentricity ($^\\circ$)')\n",
    "plt.legend()"
   ]
  },
  {
   "cell_type": "markdown",
   "metadata": {
    "id": "G-sN1sH1OmBj"
   },
   "source": [
    "Huh. Looks like the X data is in degrees and Y data is in radians"
   ]
  },
  {
   "cell_type": "code",
   "execution_count": 8,
   "metadata": {
    "colab": {
     "base_uri": "https://localhost:8080/",
     "height": 204
    },
    "id": "zBjkSAyYOsl9",
    "outputId": "67b66eaf-6a64-4f8e-8db7-0296adbbc8dc"
   },
   "outputs": [
    {
     "data": {
      "text/html": [
       "<div>\n",
       "<style scoped>\n",
       "    .dataframe tbody tr th:only-of-type {\n",
       "        vertical-align: middle;\n",
       "    }\n",
       "\n",
       "    .dataframe tbody tr th {\n",
       "        vertical-align: top;\n",
       "    }\n",
       "\n",
       "    .dataframe thead th {\n",
       "        text-align: right;\n",
       "    }\n",
       "</style>\n",
       "<table border=\"1\" class=\"dataframe\">\n",
       "  <thead>\n",
       "    <tr style=\"text-align: right;\">\n",
       "      <th></th>\n",
       "      <th>X</th>\n",
       "      <th>Y</th>\n",
       "      <th>Time</th>\n",
       "    </tr>\n",
       "  </thead>\n",
       "  <tbody>\n",
       "    <tr>\n",
       "      <th>0</th>\n",
       "      <td>1.442076</td>\n",
       "      <td>1.331199</td>\n",
       "      <td>151.138258</td>\n",
       "    </tr>\n",
       "    <tr>\n",
       "      <th>1</th>\n",
       "      <td>1.390279</td>\n",
       "      <td>1.250795</td>\n",
       "      <td>151.154917</td>\n",
       "    </tr>\n",
       "    <tr>\n",
       "      <th>2</th>\n",
       "      <td>1.481767</td>\n",
       "      <td>1.362061</td>\n",
       "      <td>151.171575</td>\n",
       "    </tr>\n",
       "    <tr>\n",
       "      <th>3</th>\n",
       "      <td>1.255465</td>\n",
       "      <td>1.183310</td>\n",
       "      <td>151.188234</td>\n",
       "    </tr>\n",
       "    <tr>\n",
       "      <th>4</th>\n",
       "      <td>1.548381</td>\n",
       "      <td>1.327492</td>\n",
       "      <td>151.204895</td>\n",
       "    </tr>\n",
       "  </tbody>\n",
       "</table>\n",
       "</div>"
      ],
      "text/plain": [
       "          X         Y        Time\n",
       "0  1.442076  1.331199  151.138258\n",
       "1  1.390279  1.250795  151.154917\n",
       "2  1.481767  1.362061  151.171575\n",
       "3  1.255465  1.183310  151.188234\n",
       "4  1.548381  1.327492  151.204895"
      ]
     },
     "execution_count": 8,
     "metadata": {},
     "output_type": "execute_result"
    }
   ],
   "source": [
    "eye_track['Y'] = np.degrees(eye_track['Y'])\n",
    "eye_track.head()"
   ]
  },
  {
   "cell_type": "code",
   "execution_count": 9,
   "metadata": {
    "colab": {
     "base_uri": "https://localhost:8080/",
     "height": 296
    },
    "id": "VAISdgaaO5nY",
    "outputId": "75e9473b-448e-421d-ae9d-e53918a10c3e"
   },
   "outputs": [
    {
     "data": {
      "text/plain": [
       "<matplotlib.legend.Legend at 0x7fb768660670>"
      ]
     },
     "execution_count": 9,
     "metadata": {},
     "output_type": "execute_result"
    },
    {
     "data": {
      "image/png": "[encoded data removed]",
      "text/plain": [
       "<Figure size 432x288 with 1 Axes>"
      ]
     },
     "metadata": {
      "filenames": {
       "image/png": "/Users/erikbrockbank/web/teaching/ucsd-css-002.github.io/_build/jupyter_execute/Garrett_Lectures/s21_Lecture05_excel_csv_17_1.png"
      },
      "needs_background": "light"
     },
     "output_type": "display_data"
    }
   ],
   "source": [
    "sns.lineplot(x='Time',y='X',data=eye_track,label='x ecc')\n",
    "sns.lineplot(x='Time',y='Y',data=eye_track,label='y ecc')\n",
    "plt.ylabel('Eccentricity ($^\\circ$)')\n",
    "plt.legend()"
   ]
  },
  {
   "cell_type": "markdown",
   "metadata": {
    "id": "y6d3YNkYO7HI"
   },
   "source": [
    "Good. Much better. I think we have improved this dataset! Let's save it now"
   ]
  },
  {
   "cell_type": "code",
   "execution_count": 10,
   "metadata": {
    "id": "CpvcvzOYPKbG"
   },
   "outputs": [],
   "source": [
    "eye_track.to_csv('new_eyetracking_data.csv')"
   ]
  },
  {
   "cell_type": "markdown",
   "metadata": {
    "id": "eOVHIHllWFsu"
   },
   "source": [
    "We can change the delimiter with sep"
   ]
  },
  {
   "cell_type": "code",
   "execution_count": 11,
   "metadata": {
    "id": "IP_-aQ-yVdAM"
   },
   "outputs": [],
   "source": [
    "eye_track.to_csv('new_eyetracking_data2.csv',sep=',')"
   ]
  },
  {
   "cell_type": "markdown",
   "metadata": {
    "id": "ZFvRm0431bo-"
   },
   "source": [
    "Saving and loading excel file data is very similar to how CSV data is handled\n",
    "\n",
    "Lets save the data as an excel file to see how it work\n"
   ]
  },
  {
   "cell_type": "code",
   "execution_count": 12,
   "metadata": {
    "id": "QpxQG9eN1Cz7"
   },
   "outputs": [],
   "source": [
    "eye_track.to_excel('new_eyetracking_data.xlsx')"
   ]
  },
  {
   "cell_type": "markdown",
   "metadata": {
    "id": "B-ycB9kg1nob"
   },
   "source": [
    "Now, let's load that excel file"
   ]
  },
  {
   "cell_type": "code",
   "execution_count": 13,
   "metadata": {
    "id": "yVbye88n1nSk"
   },
   "outputs": [],
   "source": [
    "excel_eye_track = pd.read_excel('new_eyetracking_data.xlsx')"
   ]
  },
  {
   "cell_type": "code",
   "execution_count": 14,
   "metadata": {
    "colab": {
     "base_uri": "https://localhost:8080/",
     "height": 204
    },
    "id": "fIyucqTx13D5",
    "outputId": "12b91852-ef27-4a6b-942a-a8ff7d21a3fd"
   },
   "outputs": [
    {
     "data": {
      "text/html": [
       "<div>\n",
       "<style scoped>\n",
       "    .dataframe tbody tr th:only-of-type {\n",
       "        vertical-align: middle;\n",
       "    }\n",
       "\n",
       "    .dataframe tbody tr th {\n",
       "        vertical-align: top;\n",
       "    }\n",
       "\n",
       "    .dataframe thead th {\n",
       "        text-align: right;\n",
       "    }\n",
       "</style>\n",
       "<table border=\"1\" class=\"dataframe\">\n",
       "  <thead>\n",
       "    <tr style=\"text-align: right;\">\n",
       "      <th></th>\n",
       "      <th>Unnamed: 0</th>\n",
       "      <th>X</th>\n",
       "      <th>Y</th>\n",
       "      <th>Time</th>\n",
       "    </tr>\n",
       "  </thead>\n",
       "  <tbody>\n",
       "    <tr>\n",
       "      <th>0</th>\n",
       "      <td>0</td>\n",
       "      <td>1.442076</td>\n",
       "      <td>1.331199</td>\n",
       "      <td>151.138258</td>\n",
       "    </tr>\n",
       "    <tr>\n",
       "      <th>1</th>\n",
       "      <td>1</td>\n",
       "      <td>1.390279</td>\n",
       "      <td>1.250795</td>\n",
       "      <td>151.154917</td>\n",
       "    </tr>\n",
       "    <tr>\n",
       "      <th>2</th>\n",
       "      <td>2</td>\n",
       "      <td>1.481767</td>\n",
       "      <td>1.362061</td>\n",
       "      <td>151.171575</td>\n",
       "    </tr>\n",
       "    <tr>\n",
       "      <th>3</th>\n",
       "      <td>3</td>\n",
       "      <td>1.255465</td>\n",
       "      <td>1.183310</td>\n",
       "      <td>151.188234</td>\n",
       "    </tr>\n",
       "    <tr>\n",
       "      <th>4</th>\n",
       "      <td>4</td>\n",
       "      <td>1.548381</td>\n",
       "      <td>1.327492</td>\n",
       "      <td>151.204895</td>\n",
       "    </tr>\n",
       "  </tbody>\n",
       "</table>\n",
       "</div>"
      ],
      "text/plain": [
       "   Unnamed: 0         X         Y        Time\n",
       "0           0  1.442076  1.331199  151.138258\n",
       "1           1  1.390279  1.250795  151.154917\n",
       "2           2  1.481767  1.362061  151.171575\n",
       "3           3  1.255465  1.183310  151.188234\n",
       "4           4  1.548381  1.327492  151.204895"
      ]
     },
     "execution_count": 14,
     "metadata": {},
     "output_type": "execute_result"
    }
   ],
   "source": [
    "excel_eye_track.head()"
   ]
  },
  {
   "cell_type": "markdown",
   "metadata": {
    "id": "MBpXAj0h2ijf"
   },
   "source": [
    "Weird. Now there is an extra column at the beginning.\n",
    "\n",
    "Any idea what this column may be from?\n",
    "\n",
    "The indices of the dataframe have been saved in the excel file, which then get loaded when we load that excel file\n",
    "\n",
    "We can include an argument if we know there is an index column. We could do this with the csv file as well"
   ]
  },
  {
   "cell_type": "code",
   "execution_count": 15,
   "metadata": {
    "colab": {
     "base_uri": "https://localhost:8080/",
     "height": 204
    },
    "id": "IYSpyF2P24nb",
    "outputId": "95500ac2-bf73-4e97-ac52-57e25961a06b"
   },
   "outputs": [
    {
     "data": {
      "text/html": [
       "<div>\n",
       "<style scoped>\n",
       "    .dataframe tbody tr th:only-of-type {\n",
       "        vertical-align: middle;\n",
       "    }\n",
       "\n",
       "    .dataframe tbody tr th {\n",
       "        vertical-align: top;\n",
       "    }\n",
       "\n",
       "    .dataframe thead th {\n",
       "        text-align: right;\n",
       "    }\n",
       "</style>\n",
       "<table border=\"1\" class=\"dataframe\">\n",
       "  <thead>\n",
       "    <tr style=\"text-align: right;\">\n",
       "      <th></th>\n",
       "      <th>X</th>\n",
       "      <th>Y</th>\n",
       "      <th>Time</th>\n",
       "    </tr>\n",
       "  </thead>\n",
       "  <tbody>\n",
       "    <tr>\n",
       "      <th>0</th>\n",
       "      <td>1.442076</td>\n",
       "      <td>1.331199</td>\n",
       "      <td>151.138258</td>\n",
       "    </tr>\n",
       "    <tr>\n",
       "      <th>1</th>\n",
       "      <td>1.390279</td>\n",
       "      <td>1.250795</td>\n",
       "      <td>151.154917</td>\n",
       "    </tr>\n",
       "    <tr>\n",
       "      <th>2</th>\n",
       "      <td>1.481767</td>\n",
       "      <td>1.362061</td>\n",
       "      <td>151.171575</td>\n",
       "    </tr>\n",
       "    <tr>\n",
       "      <th>3</th>\n",
       "      <td>1.255465</td>\n",
       "      <td>1.183310</td>\n",
       "      <td>151.188234</td>\n",
       "    </tr>\n",
       "    <tr>\n",
       "      <th>4</th>\n",
       "      <td>1.548381</td>\n",
       "      <td>1.327492</td>\n",
       "      <td>151.204895</td>\n",
       "    </tr>\n",
       "  </tbody>\n",
       "</table>\n",
       "</div>"
      ],
      "text/plain": [
       "          X         Y        Time\n",
       "0  1.442076  1.331199  151.138258\n",
       "1  1.390279  1.250795  151.154917\n",
       "2  1.481767  1.362061  151.171575\n",
       "3  1.255465  1.183310  151.188234\n",
       "4  1.548381  1.327492  151.204895"
      ]
     },
     "execution_count": 15,
     "metadata": {},
     "output_type": "execute_result"
    }
   ],
   "source": [
    "excel_eye_track2 = pd.read_excel('new_eyetracking_data.xlsx',index_col=0)\n",
    "excel_eye_track2.head()"
   ]
  },
  {
   "cell_type": "markdown",
   "metadata": {
    "id": "FQ4lEhPA3LBX"
   },
   "source": [
    "Alternatively, you could load the whole data set, and then just drop that column"
   ]
  },
  {
   "cell_type": "code",
   "execution_count": 16,
   "metadata": {
    "colab": {
     "base_uri": "https://localhost:8080/"
    },
    "id": "cU75HIi23OW2",
    "outputId": "290f664b-b222-4692-af7c-725cfde1c53f"
   },
   "outputs": [
    {
     "data": {
      "text/plain": [
       "Index(['Unnamed: 0', 'X', 'Y', 'Time'], dtype='object')"
      ]
     },
     "execution_count": 16,
     "metadata": {},
     "output_type": "execute_result"
    }
   ],
   "source": [
    "excel_eye_track3 = pd.read_excel('new_eyetracking_data.xlsx')\n",
    "excel_eye_track3.columns"
   ]
  },
  {
   "cell_type": "code",
   "execution_count": 17,
   "metadata": {
    "colab": {
     "base_uri": "https://localhost:8080/",
     "height": 204
    },
    "id": "FJAwRyEvxaRn",
    "outputId": "0fd6c9f4-e907-4fc0-e97a-8b3a8b6b6d01"
   },
   "outputs": [
    {
     "data": {
      "text/html": [
       "<div>\n",
       "<style scoped>\n",
       "    .dataframe tbody tr th:only-of-type {\n",
       "        vertical-align: middle;\n",
       "    }\n",
       "\n",
       "    .dataframe tbody tr th {\n",
       "        vertical-align: top;\n",
       "    }\n",
       "\n",
       "    .dataframe thead th {\n",
       "        text-align: right;\n",
       "    }\n",
       "</style>\n",
       "<table border=\"1\" class=\"dataframe\">\n",
       "  <thead>\n",
       "    <tr style=\"text-align: right;\">\n",
       "      <th></th>\n",
       "      <th>X</th>\n",
       "      <th>Y</th>\n",
       "      <th>Time</th>\n",
       "    </tr>\n",
       "  </thead>\n",
       "  <tbody>\n",
       "    <tr>\n",
       "      <th>0</th>\n",
       "      <td>1.442076</td>\n",
       "      <td>1.331199</td>\n",
       "      <td>151.138258</td>\n",
       "    </tr>\n",
       "    <tr>\n",
       "      <th>1</th>\n",
       "      <td>1.390279</td>\n",
       "      <td>1.250795</td>\n",
       "      <td>151.154917</td>\n",
       "    </tr>\n",
       "    <tr>\n",
       "      <th>2</th>\n",
       "      <td>1.481767</td>\n",
       "      <td>1.362061</td>\n",
       "      <td>151.171575</td>\n",
       "    </tr>\n",
       "    <tr>\n",
       "      <th>3</th>\n",
       "      <td>1.255465</td>\n",
       "      <td>1.183310</td>\n",
       "      <td>151.188234</td>\n",
       "    </tr>\n",
       "    <tr>\n",
       "      <th>4</th>\n",
       "      <td>1.548381</td>\n",
       "      <td>1.327492</td>\n",
       "      <td>151.204895</td>\n",
       "    </tr>\n",
       "  </tbody>\n",
       "</table>\n",
       "</div>"
      ],
      "text/plain": [
       "          X         Y        Time\n",
       "0  1.442076  1.331199  151.138258\n",
       "1  1.390279  1.250795  151.154917\n",
       "2  1.481767  1.362061  151.171575\n",
       "3  1.255465  1.183310  151.188234\n",
       "4  1.548381  1.327492  151.204895"
      ]
     },
     "execution_count": 17,
     "metadata": {},
     "output_type": "execute_result"
    }
   ],
   "source": [
    "excel_eye_track3.drop(columns='Unnamed: 0',inplace=True)\n",
    "excel_eye_track3.head()"
   ]
  },
  {
   "cell_type": "markdown",
   "metadata": {
    "id": "bwlUBU6YxvyJ"
   },
   "source": [
    "Let's just load one last dataset."
   ]
  },
  {
   "cell_type": "code",
   "execution_count": 18,
   "metadata": {
    "colab": {
     "base_uri": "https://localhost:8080/",
     "height": 204
    },
    "id": "wihC_PMfyuEs",
    "outputId": "6a1b342e-30da-4ef1-fda2-6cb4985df78a"
   },
   "outputs": [
    {
     "data": {
      "text/html": [
       "<div>\n",
       "<style scoped>\n",
       "    .dataframe tbody tr th:only-of-type {\n",
       "        vertical-align: middle;\n",
       "    }\n",
       "\n",
       "    .dataframe tbody tr th {\n",
       "        vertical-align: top;\n",
       "    }\n",
       "\n",
       "    .dataframe thead th {\n",
       "        text-align: right;\n",
       "    }\n",
       "</style>\n",
       "<table border=\"1\" class=\"dataframe\">\n",
       "  <thead>\n",
       "    <tr style=\"text-align: right;\">\n",
       "      <th></th>\n",
       "      <th>0957bn</th>\n",
       "      <th>1.086111167</th>\n",
       "      <th>1.618181818</th>\n",
       "      <th>1.308333342</th>\n",
       "      <th>1.058333308</th>\n",
       "    </tr>\n",
       "  </thead>\n",
       "  <tbody>\n",
       "    <tr>\n",
       "      <th>0</th>\n",
       "      <td>2176as</td>\n",
       "      <td>1.708333</td>\n",
       "      <td>1.645454</td>\n",
       "      <td>2.912121</td>\n",
       "      <td>0.930556</td>\n",
       "    </tr>\n",
       "    <tr>\n",
       "      <th>1</th>\n",
       "      <td>2221ee</td>\n",
       "      <td>1.788889</td>\n",
       "      <td>2.566667</td>\n",
       "      <td>1.439394</td>\n",
       "      <td>2.041667</td>\n",
       "    </tr>\n",
       "    <tr>\n",
       "      <th>2</th>\n",
       "      <td>2437mg</td>\n",
       "      <td>2.494445</td>\n",
       "      <td>1.839394</td>\n",
       "      <td>2.830303</td>\n",
       "      <td>1.566667</td>\n",
       "    </tr>\n",
       "    <tr>\n",
       "      <th>3</th>\n",
       "      <td>3242ay</td>\n",
       "      <td>1.061111</td>\n",
       "      <td>1.581818</td>\n",
       "      <td>1.258333</td>\n",
       "      <td>1.780555</td>\n",
       "    </tr>\n",
       "    <tr>\n",
       "      <th>4</th>\n",
       "      <td>3243we</td>\n",
       "      <td>0.830556</td>\n",
       "      <td>1.030303</td>\n",
       "      <td>0.961111</td>\n",
       "      <td>0.805556</td>\n",
       "    </tr>\n",
       "  </tbody>\n",
       "</table>\n",
       "</div>"
      ],
      "text/plain": [
       "   0957bn  1.086111167  1.618181818  1.308333342  1.058333308\n",
       "0  2176as     1.708333     1.645454     2.912121     0.930556\n",
       "1  2221ee     1.788889     2.566667     1.439394     2.041667\n",
       "2  2437mg     2.494445     1.839394     2.830303     1.566667\n",
       "3  3242ay     1.061111     1.581818     1.258333     1.780555\n",
       "4  3243we     0.830556     1.030303     0.961111     0.805556"
      ]
     },
     "execution_count": 18,
     "metadata": {},
     "output_type": "execute_result"
    }
   ],
   "source": [
    "drive_sim = pd.read_csv('drivesim_data.csv')\n",
    "drive_sim.head()"
   ]
  },
  {
   "cell_type": "markdown",
   "metadata": {
    "id": "g0v3650py1nP"
   },
   "source": [
    "Data looks to be loaded okay, but the column labels appear to be messed up. \n",
    "\n",
    "In this case, it looks like there were no headers in the csv file. So, let's make sure that when we load them into colab, we have name the columns\n",
    "\n",
    "If you tried to just rename the columns, you will lose that first row of data! So, lets' add columns as input arguments into the pd.read_csv function"
   ]
  },
  {
   "cell_type": "code",
   "execution_count": 19,
   "metadata": {
    "colab": {
     "base_uri": "https://localhost:8080/",
     "height": 204
    },
    "id": "chey5hI-y1GL",
    "outputId": "bb566f88-84fc-476b-d10d-f51b0369673b"
   },
   "outputs": [
    {
     "data": {
      "text/html": [
       "<div>\n",
       "<style scoped>\n",
       "    .dataframe tbody tr th:only-of-type {\n",
       "        vertical-align: middle;\n",
       "    }\n",
       "\n",
       "    .dataframe tbody tr th {\n",
       "        vertical-align: top;\n",
       "    }\n",
       "\n",
       "    .dataframe thead th {\n",
       "        text-align: right;\n",
       "    }\n",
       "</style>\n",
       "<table border=\"1\" class=\"dataframe\">\n",
       "  <thead>\n",
       "    <tr style=\"text-align: right;\">\n",
       "      <th></th>\n",
       "      <th>Subject</th>\n",
       "      <th>D1</th>\n",
       "      <th>D2</th>\n",
       "      <th>D3</th>\n",
       "      <th>D4</th>\n",
       "    </tr>\n",
       "  </thead>\n",
       "  <tbody>\n",
       "    <tr>\n",
       "      <th>0</th>\n",
       "      <td>0957bn</td>\n",
       "      <td>1.086111</td>\n",
       "      <td>1.618182</td>\n",
       "      <td>1.308333</td>\n",
       "      <td>1.058333</td>\n",
       "    </tr>\n",
       "    <tr>\n",
       "      <th>1</th>\n",
       "      <td>2176as</td>\n",
       "      <td>1.708333</td>\n",
       "      <td>1.645454</td>\n",
       "      <td>2.912121</td>\n",
       "      <td>0.930556</td>\n",
       "    </tr>\n",
       "    <tr>\n",
       "      <th>2</th>\n",
       "      <td>2221ee</td>\n",
       "      <td>1.788889</td>\n",
       "      <td>2.566667</td>\n",
       "      <td>1.439394</td>\n",
       "      <td>2.041667</td>\n",
       "    </tr>\n",
       "    <tr>\n",
       "      <th>3</th>\n",
       "      <td>2437mg</td>\n",
       "      <td>2.494445</td>\n",
       "      <td>1.839394</td>\n",
       "      <td>2.830303</td>\n",
       "      <td>1.566667</td>\n",
       "    </tr>\n",
       "    <tr>\n",
       "      <th>4</th>\n",
       "      <td>3242ay</td>\n",
       "      <td>1.061111</td>\n",
       "      <td>1.581818</td>\n",
       "      <td>1.258333</td>\n",
       "      <td>1.780555</td>\n",
       "    </tr>\n",
       "  </tbody>\n",
       "</table>\n",
       "</div>"
      ],
      "text/plain": [
       "  Subject        D1        D2        D3        D4\n",
       "0  0957bn  1.086111  1.618182  1.308333  1.058333\n",
       "1  2176as  1.708333  1.645454  2.912121  0.930556\n",
       "2  2221ee  1.788889  2.566667  1.439394  2.041667\n",
       "3  2437mg  2.494445  1.839394  2.830303  1.566667\n",
       "4  3242ay  1.061111  1.581818  1.258333  1.780555"
      ]
     },
     "execution_count": 19,
     "metadata": {},
     "output_type": "execute_result"
    }
   ],
   "source": [
    "drive_sim = pd.read_csv('drivesim_data.csv',names=['Subject','D1','D2','D3','D4'])\n",
    "drive_sim.head()"
   ]
  },
  {
   "cell_type": "markdown",
   "metadata": {
    "id": "FJCJWAlam3ib"
   },
   "source": [
    "Maybe we want the rows to be the subject, since that is actually what the rows represent"
   ]
  },
  {
   "cell_type": "code",
   "execution_count": 20,
   "metadata": {
    "colab": {
     "base_uri": "https://localhost:8080/",
     "height": 235
    },
    "id": "lKe2Bub8m8St",
    "outputId": "0825b368-19fc-4f6d-a02a-57cc18432721"
   },
   "outputs": [
    {
     "data": {
      "text/html": [
       "<div>\n",
       "<style scoped>\n",
       "    .dataframe tbody tr th:only-of-type {\n",
       "        vertical-align: middle;\n",
       "    }\n",
       "\n",
       "    .dataframe tbody tr th {\n",
       "        vertical-align: top;\n",
       "    }\n",
       "\n",
       "    .dataframe thead th {\n",
       "        text-align: right;\n",
       "    }\n",
       "</style>\n",
       "<table border=\"1\" class=\"dataframe\">\n",
       "  <thead>\n",
       "    <tr style=\"text-align: right;\">\n",
       "      <th></th>\n",
       "      <th>Subject</th>\n",
       "      <th>D1</th>\n",
       "      <th>D2</th>\n",
       "      <th>D3</th>\n",
       "      <th>D4</th>\n",
       "    </tr>\n",
       "    <tr>\n",
       "      <th>Subject</th>\n",
       "      <th></th>\n",
       "      <th></th>\n",
       "      <th></th>\n",
       "      <th></th>\n",
       "      <th></th>\n",
       "    </tr>\n",
       "  </thead>\n",
       "  <tbody>\n",
       "    <tr>\n",
       "      <th>0957bn</th>\n",
       "      <td>0957bn</td>\n",
       "      <td>1.086111</td>\n",
       "      <td>1.618182</td>\n",
       "      <td>1.308333</td>\n",
       "      <td>1.058333</td>\n",
       "    </tr>\n",
       "    <tr>\n",
       "      <th>2176as</th>\n",
       "      <td>2176as</td>\n",
       "      <td>1.708333</td>\n",
       "      <td>1.645454</td>\n",
       "      <td>2.912121</td>\n",
       "      <td>0.930556</td>\n",
       "    </tr>\n",
       "    <tr>\n",
       "      <th>2221ee</th>\n",
       "      <td>2221ee</td>\n",
       "      <td>1.788889</td>\n",
       "      <td>2.566667</td>\n",
       "      <td>1.439394</td>\n",
       "      <td>2.041667</td>\n",
       "    </tr>\n",
       "    <tr>\n",
       "      <th>2437mg</th>\n",
       "      <td>2437mg</td>\n",
       "      <td>2.494445</td>\n",
       "      <td>1.839394</td>\n",
       "      <td>2.830303</td>\n",
       "      <td>1.566667</td>\n",
       "    </tr>\n",
       "    <tr>\n",
       "      <th>3242ay</th>\n",
       "      <td>3242ay</td>\n",
       "      <td>1.061111</td>\n",
       "      <td>1.581818</td>\n",
       "      <td>1.258333</td>\n",
       "      <td>1.780555</td>\n",
       "    </tr>\n",
       "  </tbody>\n",
       "</table>\n",
       "</div>"
      ],
      "text/plain": [
       "        Subject        D1        D2        D3        D4\n",
       "Subject                                                \n",
       "0957bn   0957bn  1.086111  1.618182  1.308333  1.058333\n",
       "2176as   2176as  1.708333  1.645454  2.912121  0.930556\n",
       "2221ee   2221ee  1.788889  2.566667  1.439394  2.041667\n",
       "2437mg   2437mg  2.494445  1.839394  2.830303  1.566667\n",
       "3242ay   3242ay  1.061111  1.581818  1.258333  1.780555"
      ]
     },
     "execution_count": 20,
     "metadata": {},
     "output_type": "execute_result"
    }
   ],
   "source": [
    "drive_sim.index = drive_sim['Subject']\n",
    "drive_sim.head()"
   ]
  },
  {
   "cell_type": "markdown",
   "metadata": {
    "id": "dK1cRBDcnBR5"
   },
   "source": [
    "Now, let's just drop that first column"
   ]
  },
  {
   "cell_type": "code",
   "execution_count": 21,
   "metadata": {
    "colab": {
     "base_uri": "https://localhost:8080/",
     "height": 235
    },
    "id": "yBxTvuOgnAk5",
    "outputId": "493664a4-65fc-4fb8-a2dc-9df77d525f20"
   },
   "outputs": [
    {
     "data": {
      "text/html": [
       "<div>\n",
       "<style scoped>\n",
       "    .dataframe tbody tr th:only-of-type {\n",
       "        vertical-align: middle;\n",
       "    }\n",
       "\n",
       "    .dataframe tbody tr th {\n",
       "        vertical-align: top;\n",
       "    }\n",
       "\n",
       "    .dataframe thead th {\n",
       "        text-align: right;\n",
       "    }\n",
       "</style>\n",
       "<table border=\"1\" class=\"dataframe\">\n",
       "  <thead>\n",
       "    <tr style=\"text-align: right;\">\n",
       "      <th></th>\n",
       "      <th>D1</th>\n",
       "      <th>D2</th>\n",
       "      <th>D3</th>\n",
       "      <th>D4</th>\n",
       "    </tr>\n",
       "    <tr>\n",
       "      <th>Subject</th>\n",
       "      <th></th>\n",
       "      <th></th>\n",
       "      <th></th>\n",
       "      <th></th>\n",
       "    </tr>\n",
       "  </thead>\n",
       "  <tbody>\n",
       "    <tr>\n",
       "      <th>0957bn</th>\n",
       "      <td>1.086111</td>\n",
       "      <td>1.618182</td>\n",
       "      <td>1.308333</td>\n",
       "      <td>1.058333</td>\n",
       "    </tr>\n",
       "    <tr>\n",
       "      <th>2176as</th>\n",
       "      <td>1.708333</td>\n",
       "      <td>1.645454</td>\n",
       "      <td>2.912121</td>\n",
       "      <td>0.930556</td>\n",
       "    </tr>\n",
       "    <tr>\n",
       "      <th>2221ee</th>\n",
       "      <td>1.788889</td>\n",
       "      <td>2.566667</td>\n",
       "      <td>1.439394</td>\n",
       "      <td>2.041667</td>\n",
       "    </tr>\n",
       "    <tr>\n",
       "      <th>2437mg</th>\n",
       "      <td>2.494445</td>\n",
       "      <td>1.839394</td>\n",
       "      <td>2.830303</td>\n",
       "      <td>1.566667</td>\n",
       "    </tr>\n",
       "    <tr>\n",
       "      <th>3242ay</th>\n",
       "      <td>1.061111</td>\n",
       "      <td>1.581818</td>\n",
       "      <td>1.258333</td>\n",
       "      <td>1.780555</td>\n",
       "    </tr>\n",
       "  </tbody>\n",
       "</table>\n",
       "</div>"
      ],
      "text/plain": [
       "               D1        D2        D3        D4\n",
       "Subject                                        \n",
       "0957bn   1.086111  1.618182  1.308333  1.058333\n",
       "2176as   1.708333  1.645454  2.912121  0.930556\n",
       "2221ee   1.788889  2.566667  1.439394  2.041667\n",
       "2437mg   2.494445  1.839394  2.830303  1.566667\n",
       "3242ay   1.061111  1.581818  1.258333  1.780555"
      ]
     },
     "execution_count": 21,
     "metadata": {},
     "output_type": "execute_result"
    }
   ],
   "source": [
    "drive_sim.drop(columns='Subject',inplace=True)\n",
    "drive_sim.head()"
   ]
  },
  {
   "cell_type": "markdown",
   "metadata": {
    "id": "gBpCdlmg36qr"
   },
   "source": [
    "Now with these few lines of code, you should be able to interact with data from your lab. \n",
    "\n",
    "Note that there is a csv library. https://docs.python.org/3/library/csv.html Perhaps there are limitations to pandas that don't exist in the csv library. I'm not sure of any at the moment, but its something to be aware of.\n",
    "\n",
    "Regarding csv/excel file data, you can also download excel/csv data from websites that store data. For example, https://www.kaggle.com/ is a great place to find data. "
   ]
  },
  {
   "cell_type": "markdown",
   "metadata": {
    "id": "Z-yuN1ldEgBq"
   },
   "source": [
    "So, we've created fake data, downloaded datasets using seaborn, and we have learned how to import and export CSVs and Excel files. \n",
    "\n",
    "The last method of obtaining data that we will talk about is web scraping. Web scraping means extracting data from a website and saving it onto your ocmputer"
   ]
  },
  {
   "cell_type": "markdown",
   "metadata": {
    "id": "TkL41UaT2OcA"
   },
   "source": [
    "The simplest form of webscraping is to utilize pandas read_html method\n",
    "\n",
    "read_html takes in an html and then searches for tables in that html\n",
    "\n",
    "Let's first see an example, then we will spend the next couple of lectures exploring exactly how this works"
   ]
  },
  {
   "cell_type": "code",
   "execution_count": 22,
   "metadata": {
    "id": "P4G-5Wb33DNL"
   },
   "outputs": [],
   "source": [
    "webdata = pd.read_html('https://en.wikipedia.org/wiki/List_of_cities_by_elevation')"
   ]
  },
  {
   "cell_type": "code",
   "execution_count": 23,
   "metadata": {
    "colab": {
     "base_uri": "https://localhost:8080/"
    },
    "id": "fvYKBr6RGAzy",
    "outputId": "355f47d0-c5fd-4a2c-f7cf-268f928be1f4"
   },
   "outputs": [
    {
     "name": "stdout",
     "output_type": "stream",
     "text": [
      "<class 'list'> 2\n"
     ]
    }
   ],
   "source": [
    "print(type(webdata),len(webdata))\n"
   ]
  },
  {
   "cell_type": "markdown",
   "metadata": {
    "id": "tS4oLbeX2R4h"
   },
   "source": [
    "Data is a list that has a length of 2"
   ]
  },
  {
   "cell_type": "markdown",
   "metadata": {
    "id": "xQ2GmootGWBM"
   },
   "source": [
    "The first two items in the list are not the table we wanted\n"
   ]
  },
  {
   "cell_type": "code",
   "execution_count": 24,
   "metadata": {
    "colab": {
     "base_uri": "https://localhost:8080/",
     "height": 80
    },
    "id": "DO7HUkaLGRby",
    "outputId": "b724b702-a427-4d4d-ae96-7b811492740d"
   },
   "outputs": [
    {
     "data": {
      "text/html": [
       "<div>\n",
       "<style scoped>\n",
       "    .dataframe tbody tr th:only-of-type {\n",
       "        vertical-align: middle;\n",
       "    }\n",
       "\n",
       "    .dataframe tbody tr th {\n",
       "        vertical-align: top;\n",
       "    }\n",
       "\n",
       "    .dataframe thead th {\n",
       "        text-align: right;\n",
       "    }\n",
       "</style>\n",
       "<table border=\"1\" class=\"dataframe\">\n",
       "  <thead>\n",
       "    <tr style=\"text-align: right;\">\n",
       "      <th></th>\n",
       "      <th>0</th>\n",
       "      <th>1</th>\n",
       "    </tr>\n",
       "  </thead>\n",
       "  <tbody>\n",
       "    <tr>\n",
       "      <th>0</th>\n",
       "      <td>NaN</td>\n",
       "      <td>This article needs additional citations for ve...</td>\n",
       "    </tr>\n",
       "  </tbody>\n",
       "</table>\n",
       "</div>"
      ],
      "text/plain": [
       "    0                                                  1\n",
       "0 NaN  This article needs additional citations for ve..."
      ]
     },
     "execution_count": 24,
     "metadata": {},
     "output_type": "execute_result"
    }
   ],
   "source": [
    "webdata[0]"
   ]
  },
  {
   "cell_type": "markdown",
   "metadata": {
    "id": "E2RdhWhSGaF4"
   },
   "source": [
    "However, the third item in the list is the table"
   ]
  },
  {
   "cell_type": "code",
   "execution_count": 25,
   "metadata": {
    "colab": {
     "base_uri": "https://localhost:8080/",
     "height": 453
    },
    "id": "yRB1cjDEGnNa",
    "outputId": "49a20728-672f-49fa-aefb-af0fc81d570f"
   },
   "outputs": [
    {
     "data": {
      "text/html": [
       "<div>\n",
       "<style scoped>\n",
       "    .dataframe tbody tr th:only-of-type {\n",
       "        vertical-align: middle;\n",
       "    }\n",
       "\n",
       "    .dataframe tbody tr th {\n",
       "        vertical-align: top;\n",
       "    }\n",
       "\n",
       "    .dataframe thead th {\n",
       "        text-align: right;\n",
       "    }\n",
       "</style>\n",
       "<table border=\"1\" class=\"dataframe\">\n",
       "  <thead>\n",
       "    <tr style=\"text-align: right;\">\n",
       "      <th></th>\n",
       "      <th>Country/Territory</th>\n",
       "      <th>City Name/s</th>\n",
       "      <th>Continental Region</th>\n",
       "      <th>Latitude</th>\n",
       "      <th>Longitude</th>\n",
       "      <th>Population</th>\n",
       "      <th>Elevation (m)</th>\n",
       "    </tr>\n",
       "  </thead>\n",
       "  <tbody>\n",
       "    <tr>\n",
       "      <th>0</th>\n",
       "      <td>Nepal</td>\n",
       "      <td>Pokhara</td>\n",
       "      <td>Asia</td>\n",
       "      <td>N28.2096</td>\n",
       "      <td>E83.9856</td>\n",
       "      <td>523000.0</td>\n",
       "      <td>822</td>\n",
       "    </tr>\n",
       "    <tr>\n",
       "      <th>1</th>\n",
       "      <td>South Africa</td>\n",
       "      <td>Bloemfontein</td>\n",
       "      <td>Africa</td>\n",
       "      <td>S29.116667</td>\n",
       "      <td>E026.216667</td>\n",
       "      <td>747431.0</td>\n",
       "      <td>1395</td>\n",
       "    </tr>\n",
       "    <tr>\n",
       "      <th>2</th>\n",
       "      <td>China</td>\n",
       "      <td>Shanghai</td>\n",
       "      <td>Asia</td>\n",
       "      <td>N31.2304</td>\n",
       "      <td>E121.4737</td>\n",
       "      <td>26320000.0</td>\n",
       "      <td>122</td>\n",
       "    </tr>\n",
       "    <tr>\n",
       "      <th>3</th>\n",
       "      <td>Nepal</td>\n",
       "      <td>Butwal</td>\n",
       "      <td>Asia</td>\n",
       "      <td>N27.6866</td>\n",
       "      <td>E83.4323</td>\n",
       "      <td>120982.0</td>\n",
       "      <td>150</td>\n",
       "    </tr>\n",
       "    <tr>\n",
       "      <th>4</th>\n",
       "      <td>Italy</td>\n",
       "      <td>Milan</td>\n",
       "      <td>Europe</td>\n",
       "      <td>N45.4625</td>\n",
       "      <td>E9.186389</td>\n",
       "      <td>1378689.0</td>\n",
       "      <td>122</td>\n",
       "    </tr>\n",
       "    <tr>\n",
       "      <th>...</th>\n",
       "      <td>...</td>\n",
       "      <td>...</td>\n",
       "      <td>...</td>\n",
       "      <td>...</td>\n",
       "      <td>...</td>\n",
       "      <td>...</td>\n",
       "      <td>...</td>\n",
       "    </tr>\n",
       "    <tr>\n",
       "      <th>194</th>\n",
       "      <td>Australia</td>\n",
       "      <td>Brisbane</td>\n",
       "      <td>Oceania</td>\n",
       "      <td>S27.4710</td>\n",
       "      <td>E153.0242</td>\n",
       "      <td>NaN</td>\n",
       "      <td>28</td>\n",
       "    </tr>\n",
       "    <tr>\n",
       "      <th>195</th>\n",
       "      <td>Australia</td>\n",
       "      <td>Adelaide</td>\n",
       "      <td>Oceania</td>\n",
       "      <td>S34.9286</td>\n",
       "      <td>E138.5986</td>\n",
       "      <td>NaN</td>\n",
       "      <td>61</td>\n",
       "    </tr>\n",
       "    <tr>\n",
       "      <th>196</th>\n",
       "      <td>New Zealand</td>\n",
       "      <td>Wellington</td>\n",
       "      <td>Oceania</td>\n",
       "      <td>S41.2865</td>\n",
       "      <td>E174.7762</td>\n",
       "      <td>NaN</td>\n",
       "      <td>20</td>\n",
       "    </tr>\n",
       "    <tr>\n",
       "      <th>197</th>\n",
       "      <td>Papua New Guinea</td>\n",
       "      <td>Port Moresby</td>\n",
       "      <td>Oceania</td>\n",
       "      <td>S09.4656</td>\n",
       "      <td>E147.1969</td>\n",
       "      <td>NaN</td>\n",
       "      <td>39</td>\n",
       "    </tr>\n",
       "    <tr>\n",
       "      <th>198</th>\n",
       "      <td>Vietnam</td>\n",
       "      <td>Ho Chi Minh City</td>\n",
       "      <td>Asia</td>\n",
       "      <td>N10.8231</td>\n",
       "      <td>E106.6297</td>\n",
       "      <td>8637000.0</td>\n",
       "      <td>19</td>\n",
       "    </tr>\n",
       "  </tbody>\n",
       "</table>\n",
       "<p>199 rows × 7 columns</p>\n",
       "</div>"
      ],
      "text/plain": [
       "    Country/Territory       City Name/s Continental Region    Latitude  \\\n",
       "0               Nepal           Pokhara               Asia    N28.2096   \n",
       "1        South Africa      Bloemfontein             Africa  S29.116667   \n",
       "2               China          Shanghai               Asia    N31.2304   \n",
       "3               Nepal            Butwal               Asia    N27.6866   \n",
       "4               Italy             Milan             Europe    N45.4625   \n",
       "..                ...               ...                ...         ...   \n",
       "194         Australia          Brisbane            Oceania    S27.4710   \n",
       "195         Australia          Adelaide            Oceania    S34.9286   \n",
       "196       New Zealand        Wellington            Oceania    S41.2865   \n",
       "197  Papua New Guinea      Port Moresby            Oceania    S09.4656   \n",
       "198           Vietnam  Ho Chi Minh City               Asia    N10.8231   \n",
       "\n",
       "       Longitude  Population Elevation (m)  \n",
       "0       E83.9856    523000.0           822  \n",
       "1    E026.216667    747431.0          1395  \n",
       "2      E121.4737  26320000.0           122  \n",
       "3       E83.4323    120982.0           150  \n",
       "4      E9.186389   1378689.0           122  \n",
       "..           ...         ...           ...  \n",
       "194    E153.0242         NaN            28  \n",
       "195    E138.5986         NaN            61  \n",
       "196    E174.7762         NaN            20  \n",
       "197    E147.1969         NaN            39  \n",
       "198    E106.6297   8637000.0            19  \n",
       "\n",
       "[199 rows x 7 columns]"
      ]
     },
     "execution_count": 25,
     "metadata": {},
     "output_type": "execute_result"
    }
   ],
   "source": [
    "webdata[1]"
   ]
  },
  {
   "cell_type": "markdown",
   "metadata": {
    "id": "2aMcP-u2Zii1"
   },
   "source": [
    "Why is this happening? Well, we need to look at the html code to understand that.\n",
    "\n",
    "read_html is looking for specific formating in the html code. Specifically, <_table> content and only for <_tr> and <_th> rows and <_td> elements within each <_tr> or <_th> element in the table\n",
    "\n",
    "When we look at the html, we see that there are three tables in the html, which is why it spit out three\n",
    "\n",
    "\n",
    "\n"
   ]
  },
  {
   "cell_type": "markdown",
   "metadata": {
    "id": "Gn4ul6Wzwdcg"
   },
   "source": [
    "Now, let's look back at our webdata "
   ]
  },
  {
   "cell_type": "code",
   "execution_count": 26,
   "metadata": {
    "colab": {
     "base_uri": "https://localhost:8080/"
    },
    "id": "5A26_rJEZ_3v",
    "outputId": "ce794660-652a-4ee6-d46a-caf93176f6ca"
   },
   "outputs": [
    {
     "name": "stdout",
     "output_type": "stream",
     "text": [
      "<class 'list'>\n"
     ]
    }
   ],
   "source": [
    "print(type(webdata))"
   ]
  },
  {
   "cell_type": "markdown",
   "metadata": {
    "id": "symvuZYraBOx"
   },
   "source": [
    "So, in order to access that information, we need the type to be a tag, not a ...."
   ]
  },
  {
   "cell_type": "code",
   "execution_count": 27,
   "metadata": {
    "colab": {
     "base_uri": "https://localhost:8080/"
    },
    "id": "pCo7n1bAwhuh",
    "outputId": "dee09066-262c-4e47-b9a6-7a9dffee2f4f"
   },
   "outputs": [
    {
     "name": "stdout",
     "output_type": "stream",
     "text": [
      "<class 'pandas.core.frame.DataFrame'>\n"
     ]
    }
   ],
   "source": [
    "print(type(webdata[1]))"
   ]
  },
  {
   "cell_type": "markdown",
   "metadata": {
    "id": "UTLM73pDGqQk"
   },
   "source": [
    "\n",
    "So, while this is probably the easist method to web scrap, it has its limitations. "
   ]
  },
  {
   "cell_type": "markdown",
   "metadata": {
    "id": "t3O-KicJ94dE"
   },
   "source": [
    "What do you think would happen if we checked out this website? I want to pull off some recipes from Babish"
   ]
  },
  {
   "cell_type": "code",
   "execution_count": 28,
   "metadata": {
    "colab": {
     "base_uri": "https://localhost:8080/",
     "height": 324
    },
    "id": "q0WiH3HeIOey",
    "outputId": "d78dbc11-b8d9-4655-85c0-8b633d7675f5"
   },
   "outputs": [
    {
     "ename": "ValueError",
     "evalue": "No tables found",
     "output_type": "error",
     "traceback": [
      "\u001b[0;31m---------------------------------------------------------------------------\u001b[0m",
      "\u001b[0;31mValueError\u001b[0m                                Traceback (most recent call last)",
      "\u001b[0;32m<ipython-input-28-e18741a544e5>\u001b[0m in \u001b[0;36m<module>\u001b[0;34m\u001b[0m\n\u001b[1;32m      1\u001b[0m \u001b[0murl2\u001b[0m \u001b[0;34m=\u001b[0m \u001b[0;34m'https://www.bingingwithbabish.com/recipes'\u001b[0m\u001b[0;34m\u001b[0m\u001b[0;34m\u001b[0m\u001b[0m\n\u001b[0;32m----> 2\u001b[0;31m \u001b[0mdata\u001b[0m \u001b[0;34m=\u001b[0m \u001b[0mpd\u001b[0m\u001b[0;34m.\u001b[0m\u001b[0mread_html\u001b[0m\u001b[0;34m(\u001b[0m\u001b[0murl2\u001b[0m\u001b[0;34m)\u001b[0m\u001b[0;34m\u001b[0m\u001b[0;34m\u001b[0m\u001b[0m\n\u001b[0m",
      "\u001b[0;32m/opt/anaconda3/lib/python3.8/site-packages/pandas/util/_decorators.py\u001b[0m in \u001b[0;36mwrapper\u001b[0;34m(*args, **kwargs)\u001b[0m\n\u001b[1;32m    294\u001b[0m                 )\n\u001b[1;32m    295\u001b[0m                 \u001b[0mwarnings\u001b[0m\u001b[0;34m.\u001b[0m\u001b[0mwarn\u001b[0m\u001b[0;34m(\u001b[0m\u001b[0mmsg\u001b[0m\u001b[0;34m,\u001b[0m \u001b[0mFutureWarning\u001b[0m\u001b[0;34m,\u001b[0m \u001b[0mstacklevel\u001b[0m\u001b[0;34m=\u001b[0m\u001b[0mstacklevel\u001b[0m\u001b[0;34m)\u001b[0m\u001b[0;34m\u001b[0m\u001b[0;34m\u001b[0m\u001b[0m\n\u001b[0;32m--> 296\u001b[0;31m             \u001b[0;32mreturn\u001b[0m \u001b[0mfunc\u001b[0m\u001b[0;34m(\u001b[0m\u001b[0;34m*\u001b[0m\u001b[0margs\u001b[0m\u001b[0;34m,\u001b[0m \u001b[0;34m**\u001b[0m\u001b[0mkwargs\u001b[0m\u001b[0;34m)\u001b[0m\u001b[0;34m\u001b[0m\u001b[0;34m\u001b[0m\u001b[0m\n\u001b[0m\u001b[1;32m    297\u001b[0m \u001b[0;34m\u001b[0m\u001b[0m\n\u001b[1;32m    298\u001b[0m         \u001b[0;32mreturn\u001b[0m \u001b[0mwrapper\u001b[0m\u001b[0;34m\u001b[0m\u001b[0;34m\u001b[0m\u001b[0m\n",
      "\u001b[0;32m/opt/anaconda3/lib/python3.8/site-packages/pandas/io/html.py\u001b[0m in \u001b[0;36mread_html\u001b[0;34m(io, match, flavor, header, index_col, skiprows, attrs, parse_dates, thousands, encoding, decimal, converters, na_values, keep_default_na, displayed_only)\u001b[0m\n\u001b[1;32m   1084\u001b[0m         )\n\u001b[1;32m   1085\u001b[0m     \u001b[0mvalidate_header_arg\u001b[0m\u001b[0;34m(\u001b[0m\u001b[0mheader\u001b[0m\u001b[0;34m)\u001b[0m\u001b[0;34m\u001b[0m\u001b[0;34m\u001b[0m\u001b[0m\n\u001b[0;32m-> 1086\u001b[0;31m     return _parse(\n\u001b[0m\u001b[1;32m   1087\u001b[0m         \u001b[0mflavor\u001b[0m\u001b[0;34m=\u001b[0m\u001b[0mflavor\u001b[0m\u001b[0;34m,\u001b[0m\u001b[0;34m\u001b[0m\u001b[0;34m\u001b[0m\u001b[0m\n\u001b[1;32m   1088\u001b[0m         \u001b[0mio\u001b[0m\u001b[0;34m=\u001b[0m\u001b[0mio\u001b[0m\u001b[0;34m,\u001b[0m\u001b[0;34m\u001b[0m\u001b[0;34m\u001b[0m\u001b[0m\n",
      "\u001b[0;32m/opt/anaconda3/lib/python3.8/site-packages/pandas/io/html.py\u001b[0m in \u001b[0;36m_parse\u001b[0;34m(flavor, io, match, attrs, encoding, displayed_only, **kwargs)\u001b[0m\n\u001b[1;32m    915\u001b[0m             \u001b[0;32mbreak\u001b[0m\u001b[0;34m\u001b[0m\u001b[0;34m\u001b[0m\u001b[0m\n\u001b[1;32m    916\u001b[0m     \u001b[0;32melse\u001b[0m\u001b[0;34m:\u001b[0m\u001b[0;34m\u001b[0m\u001b[0;34m\u001b[0m\u001b[0m\n\u001b[0;32m--> 917\u001b[0;31m         \u001b[0;32mraise\u001b[0m \u001b[0mretained\u001b[0m\u001b[0;34m\u001b[0m\u001b[0;34m\u001b[0m\u001b[0m\n\u001b[0m\u001b[1;32m    918\u001b[0m \u001b[0;34m\u001b[0m\u001b[0m\n\u001b[1;32m    919\u001b[0m     \u001b[0mret\u001b[0m \u001b[0;34m=\u001b[0m \u001b[0;34m[\u001b[0m\u001b[0;34m]\u001b[0m\u001b[0;34m\u001b[0m\u001b[0;34m\u001b[0m\u001b[0m\n",
      "\u001b[0;32m/opt/anaconda3/lib/python3.8/site-packages/pandas/io/html.py\u001b[0m in \u001b[0;36m_parse\u001b[0;34m(flavor, io, match, attrs, encoding, displayed_only, **kwargs)\u001b[0m\n\u001b[1;32m    896\u001b[0m \u001b[0;34m\u001b[0m\u001b[0m\n\u001b[1;32m    897\u001b[0m         \u001b[0;32mtry\u001b[0m\u001b[0;34m:\u001b[0m\u001b[0;34m\u001b[0m\u001b[0;34m\u001b[0m\u001b[0m\n\u001b[0;32m--> 898\u001b[0;31m             \u001b[0mtables\u001b[0m \u001b[0;34m=\u001b[0m \u001b[0mp\u001b[0m\u001b[0;34m.\u001b[0m\u001b[0mparse_tables\u001b[0m\u001b[0;34m(\u001b[0m\u001b[0;34m)\u001b[0m\u001b[0;34m\u001b[0m\u001b[0;34m\u001b[0m\u001b[0m\n\u001b[0m\u001b[1;32m    899\u001b[0m         \u001b[0;32mexcept\u001b[0m \u001b[0mValueError\u001b[0m \u001b[0;32mas\u001b[0m \u001b[0mcaught\u001b[0m\u001b[0;34m:\u001b[0m\u001b[0;34m\u001b[0m\u001b[0;34m\u001b[0m\u001b[0m\n\u001b[1;32m    900\u001b[0m             \u001b[0;31m# if `io` is an io-like object, check if it's seekable\u001b[0m\u001b[0;34m\u001b[0m\u001b[0;34m\u001b[0m\u001b[0;34m\u001b[0m\u001b[0m\n",
      "\u001b[0;32m/opt/anaconda3/lib/python3.8/site-packages/pandas/io/html.py\u001b[0m in \u001b[0;36mparse_tables\u001b[0;34m(self)\u001b[0m\n\u001b[1;32m    215\u001b[0m         \u001b[0mlist\u001b[0m \u001b[0mof\u001b[0m \u001b[0mparsed\u001b[0m \u001b[0;34m(\u001b[0m\u001b[0mheader\u001b[0m\u001b[0;34m,\u001b[0m \u001b[0mbody\u001b[0m\u001b[0;34m,\u001b[0m \u001b[0mfooter\u001b[0m\u001b[0;34m)\u001b[0m \u001b[0mtuples\u001b[0m \u001b[0;32mfrom\u001b[0m \u001b[0mtables\u001b[0m\u001b[0;34m.\u001b[0m\u001b[0;34m\u001b[0m\u001b[0;34m\u001b[0m\u001b[0m\n\u001b[1;32m    216\u001b[0m         \"\"\"\n\u001b[0;32m--> 217\u001b[0;31m         \u001b[0mtables\u001b[0m \u001b[0;34m=\u001b[0m \u001b[0mself\u001b[0m\u001b[0;34m.\u001b[0m\u001b[0m_parse_tables\u001b[0m\u001b[0;34m(\u001b[0m\u001b[0mself\u001b[0m\u001b[0;34m.\u001b[0m\u001b[0m_build_doc\u001b[0m\u001b[0;34m(\u001b[0m\u001b[0;34m)\u001b[0m\u001b[0;34m,\u001b[0m \u001b[0mself\u001b[0m\u001b[0;34m.\u001b[0m\u001b[0mmatch\u001b[0m\u001b[0;34m,\u001b[0m \u001b[0mself\u001b[0m\u001b[0;34m.\u001b[0m\u001b[0mattrs\u001b[0m\u001b[0;34m)\u001b[0m\u001b[0;34m\u001b[0m\u001b[0;34m\u001b[0m\u001b[0m\n\u001b[0m\u001b[1;32m    218\u001b[0m         \u001b[0;32mreturn\u001b[0m \u001b[0;34m(\u001b[0m\u001b[0mself\u001b[0m\u001b[0;34m.\u001b[0m\u001b[0m_parse_thead_tbody_tfoot\u001b[0m\u001b[0;34m(\u001b[0m\u001b[0mtable\u001b[0m\u001b[0;34m)\u001b[0m \u001b[0;32mfor\u001b[0m \u001b[0mtable\u001b[0m \u001b[0;32min\u001b[0m \u001b[0mtables\u001b[0m\u001b[0;34m)\u001b[0m\u001b[0;34m\u001b[0m\u001b[0;34m\u001b[0m\u001b[0m\n\u001b[1;32m    219\u001b[0m \u001b[0;34m\u001b[0m\u001b[0m\n",
      "\u001b[0;32m/opt/anaconda3/lib/python3.8/site-packages/pandas/io/html.py\u001b[0m in \u001b[0;36m_parse_tables\u001b[0;34m(self, doc, match, attrs)\u001b[0m\n\u001b[1;32m    545\u001b[0m \u001b[0;34m\u001b[0m\u001b[0m\n\u001b[1;32m    546\u001b[0m         \u001b[0;32mif\u001b[0m \u001b[0;32mnot\u001b[0m \u001b[0mtables\u001b[0m\u001b[0;34m:\u001b[0m\u001b[0;34m\u001b[0m\u001b[0;34m\u001b[0m\u001b[0m\n\u001b[0;32m--> 547\u001b[0;31m             \u001b[0;32mraise\u001b[0m \u001b[0mValueError\u001b[0m\u001b[0;34m(\u001b[0m\u001b[0;34m\"No tables found\"\u001b[0m\u001b[0;34m)\u001b[0m\u001b[0;34m\u001b[0m\u001b[0;34m\u001b[0m\u001b[0m\n\u001b[0m\u001b[1;32m    548\u001b[0m \u001b[0;34m\u001b[0m\u001b[0m\n\u001b[1;32m    549\u001b[0m         \u001b[0mresult\u001b[0m \u001b[0;34m=\u001b[0m \u001b[0;34m[\u001b[0m\u001b[0;34m]\u001b[0m\u001b[0;34m\u001b[0m\u001b[0;34m\u001b[0m\u001b[0m\n",
      "\u001b[0;31mValueError\u001b[0m: No tables found"
     ]
    }
   ],
   "source": [
    "url2 = 'https://www.bingingwithbabish.com/recipes'\n",
    "data = pd.read_html(url2)"
   ]
  },
  {
   "cell_type": "markdown",
   "metadata": {
    "id": "vcjLwjYpJiHh"
   },
   "source": [
    "Oh weird. It doesn't work.\n",
    "\n",
    "Let's check error message. Very interesting. Let's check the the website. Oh. There are not tables in this html code.\n",
    "\n",
    "So, how do we scrap then? We can use beautiful soup. "
   ]
  },
  {
   "cell_type": "markdown",
   "metadata": {
    "id": "WmaIgejuk2Pz"
   },
   "source": [
    "https://scrapinghub.com/guides/web-scraping-best-practices/"
   ]
  }
 ],
 "metadata": {
  "colab": {
   "collapsed_sections": [],
   "name": "s21_Lecture05_excel_csv.ipynb",
   "provenance": []
  },
  "kernelspec": {
   "display_name": "Python 3",
   "name": "python3"
  },
  "language_info": {
   "codemirror_mode": {
    "name": "ipython",
    "version": 3
   },
   "file_extension": ".py",
   "mimetype": "text/x-python",
   "name": "python",
   "nbconvert_exporter": "python",
   "pygments_lexer": "ipython3",
   "version": "3.8.3"
  }
 },
 "nbformat": 4,
 "nbformat_minor": 0
}