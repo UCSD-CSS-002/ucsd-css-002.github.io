{
 "cells": [
  {
   "cell_type": "markdown",
   "metadata": {
    "id": "YDZ1v_yBclFs"
   },
   "source": [
    "\n",
    "Announcements:\n",
    "1. Problem set 4 due Tuesday at midnight instead\n",
    "2. Problem set 5 and quiz 5 due at the end of the week\n",
    "3. Remember to attend sections!\n",
    "4. If you are doing the github extra credit, please send me an email with your github account. \n",
    "\n",
    "#### Today, we will be dealing with transforming categorical and ordinal data into numerical data\n",
    "1. Dummy coding\n",
    "2. Binning continuous data into categories\n",
    "3. Outliers\n"
   ]
  },
  {
   "cell_type": "code",
   "execution_count": 1,
   "metadata": {
    "id": "uVzoXWc7cPPD"
   },
   "outputs": [],
   "source": [
    "import numpy as np\n",
    "import pandas as pd\n",
    "import matplotlib.pyplot as plt\n",
    "import seaborn as sns"
   ]
  },
  {
   "cell_type": "markdown",
   "metadata": {
    "id": "4haEVNbwX0pS"
   },
   "source": [
    "#### Load the dataset we saved from last class"
   ]
  },
  {
   "cell_type": "code",
   "execution_count": 2,
   "metadata": {
    "id": "hOodFw4actIM"
   },
   "outputs": [],
   "source": [
    "filename = 'Data_no_nans.csv'\n",
    "inital_data = pd.read_csv(filename,delimiter=',')"
   ]
  },
  {
   "cell_type": "markdown",
   "metadata": {
    "id": "bzbqM2hcX2r1"
   },
   "source": [
    "#### Check the data quick"
   ]
  },
  {
   "cell_type": "code",
   "execution_count": 3,
   "metadata": {
    "colab": {
     "base_uri": "https://localhost:8080/",
     "height": 241
    },
    "id": "AWa4L_HKc6A9",
    "outputId": "6675b884-ce1b-4236-e4b4-5d7d64cfa9ef"
   },
   "outputs": [
    {
     "data": {
      "text/html": [
       "<div>\n",
       "<style scoped>\n",
       "    .dataframe tbody tr th:only-of-type {\n",
       "        vertical-align: middle;\n",
       "    }\n",
       "\n",
       "    .dataframe tbody tr th {\n",
       "        vertical-align: top;\n",
       "    }\n",
       "\n",
       "    .dataframe thead th {\n",
       "        text-align: right;\n",
       "    }\n",
       "</style>\n",
       "<table border=\"1\" class=\"dataframe\">\n",
       "  <thead>\n",
       "    <tr style=\"text-align: right;\">\n",
       "      <th></th>\n",
       "      <th>Unnamed: 0</th>\n",
       "      <th>mpg</th>\n",
       "      <th>cylinders</th>\n",
       "      <th>displacement</th>\n",
       "      <th>horsepower</th>\n",
       "      <th>weight</th>\n",
       "      <th>acceleration</th>\n",
       "      <th>model_year</th>\n",
       "      <th>origin</th>\n",
       "      <th>name</th>\n",
       "      <th>Type</th>\n",
       "    </tr>\n",
       "  </thead>\n",
       "  <tbody>\n",
       "    <tr>\n",
       "      <th>0</th>\n",
       "      <td>0</td>\n",
       "      <td>18.0</td>\n",
       "      <td>8.0</td>\n",
       "      <td>307.0</td>\n",
       "      <td>130.0</td>\n",
       "      <td>3504.0</td>\n",
       "      <td>12.0</td>\n",
       "      <td>70.0</td>\n",
       "      <td>usa</td>\n",
       "      <td>chevrolet</td>\n",
       "      <td>Sedan</td>\n",
       "    </tr>\n",
       "    <tr>\n",
       "      <th>1</th>\n",
       "      <td>1</td>\n",
       "      <td>14.0</td>\n",
       "      <td>8.0</td>\n",
       "      <td>454.0</td>\n",
       "      <td>220.0</td>\n",
       "      <td>4354.0</td>\n",
       "      <td>9.0</td>\n",
       "      <td>70.0</td>\n",
       "      <td>usa</td>\n",
       "      <td>chevrolet</td>\n",
       "      <td>Sedan</td>\n",
       "    </tr>\n",
       "    <tr>\n",
       "      <th>2</th>\n",
       "      <td>2</td>\n",
       "      <td>15.0</td>\n",
       "      <td>8.0</td>\n",
       "      <td>400.0</td>\n",
       "      <td>150.0</td>\n",
       "      <td>3761.0</td>\n",
       "      <td>9.5</td>\n",
       "      <td>70.0</td>\n",
       "      <td>usa</td>\n",
       "      <td>chevrolet</td>\n",
       "      <td>Sedan</td>\n",
       "    </tr>\n",
       "    <tr>\n",
       "      <th>3</th>\n",
       "      <td>3</td>\n",
       "      <td>24.0</td>\n",
       "      <td>4.0</td>\n",
       "      <td>113.0</td>\n",
       "      <td>95.0</td>\n",
       "      <td>2372.0</td>\n",
       "      <td>15.0</td>\n",
       "      <td>70.0</td>\n",
       "      <td>japan</td>\n",
       "      <td>toyota</td>\n",
       "      <td>Coupe</td>\n",
       "    </tr>\n",
       "    <tr>\n",
       "      <th>4</th>\n",
       "      <td>4</td>\n",
       "      <td>26.0</td>\n",
       "      <td>4.0</td>\n",
       "      <td>12.0</td>\n",
       "      <td>46.0</td>\n",
       "      <td>1835.0</td>\n",
       "      <td>20.5</td>\n",
       "      <td>70.0</td>\n",
       "      <td>europe</td>\n",
       "      <td>volkswagen</td>\n",
       "      <td>Coupe</td>\n",
       "    </tr>\n",
       "  </tbody>\n",
       "</table>\n",
       "</div>"
      ],
      "text/plain": [
       "   Unnamed: 0   mpg  cylinders  displacement  horsepower  weight  \\\n",
       "0           0  18.0        8.0         307.0       130.0  3504.0   \n",
       "1           1  14.0        8.0         454.0       220.0  4354.0   \n",
       "2           2  15.0        8.0         400.0       150.0  3761.0   \n",
       "3           3  24.0        4.0         113.0        95.0  2372.0   \n",
       "4           4  26.0        4.0          12.0        46.0  1835.0   \n",
       "\n",
       "   acceleration  model_year  origin        name   Type  \n",
       "0          12.0        70.0     usa   chevrolet  Sedan  \n",
       "1           9.0        70.0     usa   chevrolet  Sedan  \n",
       "2           9.5        70.0     usa   chevrolet  Sedan  \n",
       "3          15.0        70.0   japan      toyota  Coupe  \n",
       "4          20.5        70.0  europe  volkswagen  Coupe  "
      ]
     },
     "execution_count": 3,
     "metadata": {},
     "output_type": "execute_result"
    }
   ],
   "source": [
    "inital_data.head()"
   ]
  },
  {
   "cell_type": "markdown",
   "metadata": {
    "id": "xVExD1GsX4Yj"
   },
   "source": [
    "#### Whoops. We need to take care of that. How do we do that again?"
   ]
  },
  {
   "cell_type": "code",
   "execution_count": 4,
   "metadata": {
    "id": "ZfDzruURtnK0"
   },
   "outputs": [],
   "source": [
    "data = pd.read_csv(filename,delimiter=',',index_col=0)"
   ]
  },
  {
   "cell_type": "code",
   "execution_count": 5,
   "metadata": {
    "colab": {
     "base_uri": "https://localhost:8080/",
     "height": 224
    },
    "id": "Jdf4Jzr2tr8s",
    "outputId": "80376ee7-6786-4968-af81-ed483bd9fe57"
   },
   "outputs": [
    {
     "data": {
      "text/html": [
       "<div>\n",
       "<style scoped>\n",
       "    .dataframe tbody tr th:only-of-type {\n",
       "        vertical-align: middle;\n",
       "    }\n",
       "\n",
       "    .dataframe tbody tr th {\n",
       "        vertical-align: top;\n",
       "    }\n",
       "\n",
       "    .dataframe thead th {\n",
       "        text-align: right;\n",
       "    }\n",
       "</style>\n",
       "<table border=\"1\" class=\"dataframe\">\n",
       "  <thead>\n",
       "    <tr style=\"text-align: right;\">\n",
       "      <th></th>\n",
       "      <th>mpg</th>\n",
       "      <th>cylinders</th>\n",
       "      <th>displacement</th>\n",
       "      <th>horsepower</th>\n",
       "      <th>weight</th>\n",
       "      <th>acceleration</th>\n",
       "      <th>model_year</th>\n",
       "      <th>origin</th>\n",
       "      <th>name</th>\n",
       "      <th>Type</th>\n",
       "    </tr>\n",
       "  </thead>\n",
       "  <tbody>\n",
       "    <tr>\n",
       "      <th>0</th>\n",
       "      <td>18.0</td>\n",
       "      <td>8.0</td>\n",
       "      <td>307.0</td>\n",
       "      <td>130.0</td>\n",
       "      <td>3504.0</td>\n",
       "      <td>12.0</td>\n",
       "      <td>70.0</td>\n",
       "      <td>usa</td>\n",
       "      <td>chevrolet</td>\n",
       "      <td>Sedan</td>\n",
       "    </tr>\n",
       "    <tr>\n",
       "      <th>1</th>\n",
       "      <td>14.0</td>\n",
       "      <td>8.0</td>\n",
       "      <td>454.0</td>\n",
       "      <td>220.0</td>\n",
       "      <td>4354.0</td>\n",
       "      <td>9.0</td>\n",
       "      <td>70.0</td>\n",
       "      <td>usa</td>\n",
       "      <td>chevrolet</td>\n",
       "      <td>Sedan</td>\n",
       "    </tr>\n",
       "    <tr>\n",
       "      <th>2</th>\n",
       "      <td>15.0</td>\n",
       "      <td>8.0</td>\n",
       "      <td>400.0</td>\n",
       "      <td>150.0</td>\n",
       "      <td>3761.0</td>\n",
       "      <td>9.5</td>\n",
       "      <td>70.0</td>\n",
       "      <td>usa</td>\n",
       "      <td>chevrolet</td>\n",
       "      <td>Sedan</td>\n",
       "    </tr>\n",
       "    <tr>\n",
       "      <th>3</th>\n",
       "      <td>24.0</td>\n",
       "      <td>4.0</td>\n",
       "      <td>113.0</td>\n",
       "      <td>95.0</td>\n",
       "      <td>2372.0</td>\n",
       "      <td>15.0</td>\n",
       "      <td>70.0</td>\n",
       "      <td>japan</td>\n",
       "      <td>toyota</td>\n",
       "      <td>Coupe</td>\n",
       "    </tr>\n",
       "    <tr>\n",
       "      <th>4</th>\n",
       "      <td>26.0</td>\n",
       "      <td>4.0</td>\n",
       "      <td>12.0</td>\n",
       "      <td>46.0</td>\n",
       "      <td>1835.0</td>\n",
       "      <td>20.5</td>\n",
       "      <td>70.0</td>\n",
       "      <td>europe</td>\n",
       "      <td>volkswagen</td>\n",
       "      <td>Coupe</td>\n",
       "    </tr>\n",
       "  </tbody>\n",
       "</table>\n",
       "</div>"
      ],
      "text/plain": [
       "    mpg  cylinders  displacement  horsepower  weight  acceleration  \\\n",
       "0  18.0        8.0         307.0       130.0  3504.0          12.0   \n",
       "1  14.0        8.0         454.0       220.0  4354.0           9.0   \n",
       "2  15.0        8.0         400.0       150.0  3761.0           9.5   \n",
       "3  24.0        4.0         113.0        95.0  2372.0          15.0   \n",
       "4  26.0        4.0          12.0        46.0  1835.0          20.5   \n",
       "\n",
       "   model_year  origin        name   Type  \n",
       "0        70.0     usa   chevrolet  Sedan  \n",
       "1        70.0     usa   chevrolet  Sedan  \n",
       "2        70.0     usa   chevrolet  Sedan  \n",
       "3        70.0   japan      toyota  Coupe  \n",
       "4        70.0  europe  volkswagen  Coupe  "
      ]
     },
     "execution_count": 5,
     "metadata": {},
     "output_type": "execute_result"
    }
   ],
   "source": [
    "data.head()"
   ]
  },
  {
   "cell_type": "markdown",
   "metadata": {
    "id": "PUFYW5lVLB1n"
   },
   "source": [
    "#### This is the dataset with no nans, right?\n",
    "\n",
    "#### Let's just double check that quickly. "
   ]
  },
  {
   "cell_type": "code",
   "execution_count": 6,
   "metadata": {
    "colab": {
     "base_uri": "https://localhost:8080/"
    },
    "id": "31RGEoyILF8R",
    "outputId": "e8f11e01-2c2e-4d0a-921f-fb14396be5a8"
   },
   "outputs": [
    {
     "name": "stdout",
     "output_type": "stream",
     "text": [
      "<class 'pandas.core.frame.DataFrame'>\n",
      "Int64Index: 371 entries, 0 to 370\n",
      "Data columns (total 10 columns):\n",
      " #   Column        Non-Null Count  Dtype  \n",
      "---  ------        --------------  -----  \n",
      " 0   mpg           371 non-null    float64\n",
      " 1   cylinders     371 non-null    float64\n",
      " 2   displacement  371 non-null    float64\n",
      " 3   horsepower    371 non-null    float64\n",
      " 4   weight        371 non-null    float64\n",
      " 5   acceleration  371 non-null    float64\n",
      " 6   model_year    371 non-null    float64\n",
      " 7   origin        371 non-null    object \n",
      " 8   name          371 non-null    object \n",
      " 9   Type          371 non-null    object \n",
      "dtypes: float64(7), object(3)\n",
      "memory usage: 31.9+ KB\n"
     ]
    }
   ],
   "source": [
    "data.info() # or describe"
   ]
  },
  {
   "cell_type": "markdown",
   "metadata": {
    "id": "A5dy4X9hvhsH"
   },
   "source": [
    "#### Now, let's look at our string variables and convert them into boolean values\n",
    "\n"
   ]
  },
  {
   "cell_type": "code",
   "execution_count": 7,
   "metadata": {
    "colab": {
     "base_uri": "https://localhost:8080/",
     "height": 224
    },
    "id": "66yprEsevqXf",
    "outputId": "3b0c23aa-b332-4025-9525-341a641c1167"
   },
   "outputs": [
    {
     "data": {
      "text/html": [
       "<div>\n",
       "<style scoped>\n",
       "    .dataframe tbody tr th:only-of-type {\n",
       "        vertical-align: middle;\n",
       "    }\n",
       "\n",
       "    .dataframe tbody tr th {\n",
       "        vertical-align: top;\n",
       "    }\n",
       "\n",
       "    .dataframe thead th {\n",
       "        text-align: right;\n",
       "    }\n",
       "</style>\n",
       "<table border=\"1\" class=\"dataframe\">\n",
       "  <thead>\n",
       "    <tr style=\"text-align: right;\">\n",
       "      <th></th>\n",
       "      <th>mpg</th>\n",
       "      <th>cylinders</th>\n",
       "      <th>displacement</th>\n",
       "      <th>horsepower</th>\n",
       "      <th>weight</th>\n",
       "      <th>acceleration</th>\n",
       "      <th>model_year</th>\n",
       "      <th>origin</th>\n",
       "      <th>name</th>\n",
       "      <th>Type</th>\n",
       "    </tr>\n",
       "  </thead>\n",
       "  <tbody>\n",
       "    <tr>\n",
       "      <th>0</th>\n",
       "      <td>18.0</td>\n",
       "      <td>8.0</td>\n",
       "      <td>307.0</td>\n",
       "      <td>130.0</td>\n",
       "      <td>3504.0</td>\n",
       "      <td>12.0</td>\n",
       "      <td>70.0</td>\n",
       "      <td>usa</td>\n",
       "      <td>chevrolet</td>\n",
       "      <td>Sedan</td>\n",
       "    </tr>\n",
       "    <tr>\n",
       "      <th>1</th>\n",
       "      <td>14.0</td>\n",
       "      <td>8.0</td>\n",
       "      <td>454.0</td>\n",
       "      <td>220.0</td>\n",
       "      <td>4354.0</td>\n",
       "      <td>9.0</td>\n",
       "      <td>70.0</td>\n",
       "      <td>usa</td>\n",
       "      <td>chevrolet</td>\n",
       "      <td>Sedan</td>\n",
       "    </tr>\n",
       "    <tr>\n",
       "      <th>2</th>\n",
       "      <td>15.0</td>\n",
       "      <td>8.0</td>\n",
       "      <td>400.0</td>\n",
       "      <td>150.0</td>\n",
       "      <td>3761.0</td>\n",
       "      <td>9.5</td>\n",
       "      <td>70.0</td>\n",
       "      <td>usa</td>\n",
       "      <td>chevrolet</td>\n",
       "      <td>Sedan</td>\n",
       "    </tr>\n",
       "    <tr>\n",
       "      <th>3</th>\n",
       "      <td>24.0</td>\n",
       "      <td>4.0</td>\n",
       "      <td>113.0</td>\n",
       "      <td>95.0</td>\n",
       "      <td>2372.0</td>\n",
       "      <td>15.0</td>\n",
       "      <td>70.0</td>\n",
       "      <td>japan</td>\n",
       "      <td>toyota</td>\n",
       "      <td>Coupe</td>\n",
       "    </tr>\n",
       "    <tr>\n",
       "      <th>4</th>\n",
       "      <td>26.0</td>\n",
       "      <td>4.0</td>\n",
       "      <td>12.0</td>\n",
       "      <td>46.0</td>\n",
       "      <td>1835.0</td>\n",
       "      <td>20.5</td>\n",
       "      <td>70.0</td>\n",
       "      <td>europe</td>\n",
       "      <td>volkswagen</td>\n",
       "      <td>Coupe</td>\n",
       "    </tr>\n",
       "  </tbody>\n",
       "</table>\n",
       "</div>"
      ],
      "text/plain": [
       "    mpg  cylinders  displacement  horsepower  weight  acceleration  \\\n",
       "0  18.0        8.0         307.0       130.0  3504.0          12.0   \n",
       "1  14.0        8.0         454.0       220.0  4354.0           9.0   \n",
       "2  15.0        8.0         400.0       150.0  3761.0           9.5   \n",
       "3  24.0        4.0         113.0        95.0  2372.0          15.0   \n",
       "4  26.0        4.0          12.0        46.0  1835.0          20.5   \n",
       "\n",
       "   model_year  origin        name   Type  \n",
       "0        70.0     usa   chevrolet  Sedan  \n",
       "1        70.0     usa   chevrolet  Sedan  \n",
       "2        70.0     usa   chevrolet  Sedan  \n",
       "3        70.0   japan      toyota  Coupe  \n",
       "4        70.0  europe  volkswagen  Coupe  "
      ]
     },
     "execution_count": 7,
     "metadata": {},
     "output_type": "execute_result"
    }
   ],
   "source": [
    "data.head()"
   ]
  },
  {
   "cell_type": "markdown",
   "metadata": {
    "id": "0ruhcQ47wG95"
   },
   "source": [
    "#### let's look at type first\n",
    "\n",
    "#### I like to use a countplot here just to visualize the different categories"
   ]
  },
  {
   "cell_type": "code",
   "execution_count": 8,
   "metadata": {
    "colab": {
     "base_uri": "https://localhost:8080/",
     "height": 350
    },
    "id": "qKGjiKY1v7gy",
    "outputId": "757a7794-ef08-45cf-9f80-070163d07e30"
   },
   "outputs": [
    {
     "name": "stderr",
     "output_type": "stream",
     "text": [
      "/opt/anaconda3/lib/python3.8/site-packages/seaborn/_decorators.py:36: FutureWarning: Pass the following variable as a keyword arg: x. From version 0.12, the only valid positional argument will be `data`, and passing other arguments without an explicit keyword will result in an error or misinterpretation.\n",
      "  warnings.warn(\n"
     ]
    },
    {
     "data": {
      "text/plain": [
       "<AxesSubplot:xlabel='Type', ylabel='count'>"
      ]
     },
     "execution_count": 8,
     "metadata": {},
     "output_type": "execute_result"
    },
    {
     "data": {
      "image/png": "[encoded data removed]",
      "text/plain": [
       "<Figure size 432x288 with 1 Axes>"
      ]
     },
     "metadata": {
      "filenames": {
       "image/png": "/Users/erikbrockbank/web/teaching/ucsd-css-002.github.io/_build/jupyter_execute/Garrett_Lectures/s21_Lecture09_dummy_outliers_14_2.png"
      },
      "needs_background": "light"
     },
     "output_type": "display_data"
    }
   ],
   "source": [
    "sns.countplot(data['Type'])"
   ]
  },
  {
   "cell_type": "markdown",
   "metadata": {
    "id": "kZNEc4Q1wCd-"
   },
   "source": [
    "#### Seems fine. We can easily convert these two 1s and 0s like so"
   ]
  },
  {
   "cell_type": "code",
   "execution_count": 9,
   "metadata": {
    "id": "2OI5yuwtwAvl"
   },
   "outputs": [],
   "source": [
    "sedan_1 = np.where(data['Type']=='Sedan',1,0) # where is really helpful here! its like an if statement in excel"
   ]
  },
  {
   "cell_type": "code",
   "execution_count": 10,
   "metadata": {
    "id": "azYFCFrZwVBY"
   },
   "outputs": [],
   "source": [
    "sedan_1_df = pd.DataFrame(sedan_1,columns=['Sedans_1'])"
   ]
  },
  {
   "cell_type": "markdown",
   "metadata": {
    "id": "8bkDDNgWYH1K"
   },
   "source": [
    "#### That seems to work out okay!"
   ]
  },
  {
   "cell_type": "code",
   "execution_count": 11,
   "metadata": {
    "colab": {
     "base_uri": "https://localhost:8080/"
    },
    "id": "b_0Ieg9Az8lo",
    "outputId": "535cad92-6ae0-47ae-ecfc-88972b711a0f"
   },
   "outputs": [
    {
     "name": "stdout",
     "output_type": "stream",
     "text": [
      "     Sedans_1\n",
      "0           1\n",
      "1           1\n",
      "2           1\n",
      "3           0\n",
      "4           0\n",
      "..        ...\n",
      "366         1\n",
      "367         0\n",
      "368         0\n",
      "369         1\n",
      "370         1\n",
      "\n",
      "[371 rows x 1 columns]\n"
     ]
    }
   ],
   "source": [
    "print(sedan_1_df)"
   ]
  },
  {
   "cell_type": "markdown",
   "metadata": {
    "id": "V_8Z0xLCwhNI"
   },
   "source": [
    "#### Before we concat with our data, let's check out our other categorical variables\n",
    "\n",
    "#### Let's do origin next\n",
    "\n"
   ]
  },
  {
   "cell_type": "code",
   "execution_count": 12,
   "metadata": {
    "colab": {
     "base_uri": "https://localhost:8080/",
     "height": 350
    },
    "id": "_OPmRBvWzfpA",
    "outputId": "d19d84ff-ef10-4805-e310-4e183c4a116f"
   },
   "outputs": [
    {
     "name": "stderr",
     "output_type": "stream",
     "text": [
      "/opt/anaconda3/lib/python3.8/site-packages/seaborn/_decorators.py:36: FutureWarning: Pass the following variable as a keyword arg: x. From version 0.12, the only valid positional argument will be `data`, and passing other arguments without an explicit keyword will result in an error or misinterpretation.\n",
      "  warnings.warn(\n"
     ]
    },
    {
     "data": {
      "text/plain": [
       "<AxesSubplot:xlabel='origin', ylabel='count'>"
      ]
     },
     "execution_count": 12,
     "metadata": {},
     "output_type": "execute_result"
    },
    {
     "data": {
      "image/png": "[encoded data removed]",
      "text/plain": [
       "<Figure size 432x288 with 1 Axes>"
      ]
     },
     "metadata": {
      "filenames": {
       "image/png": "/Users/erikbrockbank/web/teaching/ucsd-css-002.github.io/_build/jupyter_execute/Garrett_Lectures/s21_Lecture09_dummy_outliers_21_2.png"
      },
      "needs_background": "light"
     },
     "output_type": "display_data"
    }
   ],
   "source": [
    "sns.countplot(data['origin'])"
   ]
  },
  {
   "cell_type": "markdown",
   "metadata": {
    "id": "T0DEJjuw0BL9"
   },
   "source": [
    "#### This is a problem. If we want to convert this to 1s and 0s, how do we do that with 3 categories!?!?!\n",
    "\n",
    "We also don't want this to be 0, 1, and 2 because then, there is a \"rank\" to the data. This isn't ordinal or interval data, it is categorial. So, how do we handle this?\n",
    "\n",
    "#### We use dummy coding!"
   ]
  },
  {
   "cell_type": "code",
   "execution_count": 13,
   "metadata": {
    "colab": {
     "base_uri": "https://localhost:8080/",
     "height": 419
    },
    "id": "lp5joEJaz_1T",
    "outputId": "278c1066-60d2-4a49-cd27-31756004b194"
   },
   "outputs": [
    {
     "data": {
      "text/html": [
       "<div>\n",
       "<style scoped>\n",
       "    .dataframe tbody tr th:only-of-type {\n",
       "        vertical-align: middle;\n",
       "    }\n",
       "\n",
       "    .dataframe tbody tr th {\n",
       "        vertical-align: top;\n",
       "    }\n",
       "\n",
       "    .dataframe thead th {\n",
       "        text-align: right;\n",
       "    }\n",
       "</style>\n",
       "<table border=\"1\" class=\"dataframe\">\n",
       "  <thead>\n",
       "    <tr style=\"text-align: right;\">\n",
       "      <th></th>\n",
       "      <th>europe</th>\n",
       "      <th>japan</th>\n",
       "      <th>usa</th>\n",
       "    </tr>\n",
       "  </thead>\n",
       "  <tbody>\n",
       "    <tr>\n",
       "      <th>0</th>\n",
       "      <td>0</td>\n",
       "      <td>0</td>\n",
       "      <td>1</td>\n",
       "    </tr>\n",
       "    <tr>\n",
       "      <th>1</th>\n",
       "      <td>0</td>\n",
       "      <td>0</td>\n",
       "      <td>1</td>\n",
       "    </tr>\n",
       "    <tr>\n",
       "      <th>2</th>\n",
       "      <td>0</td>\n",
       "      <td>0</td>\n",
       "      <td>1</td>\n",
       "    </tr>\n",
       "    <tr>\n",
       "      <th>3</th>\n",
       "      <td>0</td>\n",
       "      <td>1</td>\n",
       "      <td>0</td>\n",
       "    </tr>\n",
       "    <tr>\n",
       "      <th>4</th>\n",
       "      <td>1</td>\n",
       "      <td>0</td>\n",
       "      <td>0</td>\n",
       "    </tr>\n",
       "    <tr>\n",
       "      <th>...</th>\n",
       "      <td>...</td>\n",
       "      <td>...</td>\n",
       "      <td>...</td>\n",
       "    </tr>\n",
       "    <tr>\n",
       "      <th>366</th>\n",
       "      <td>0</td>\n",
       "      <td>0</td>\n",
       "      <td>1</td>\n",
       "    </tr>\n",
       "    <tr>\n",
       "      <th>367</th>\n",
       "      <td>1</td>\n",
       "      <td>0</td>\n",
       "      <td>0</td>\n",
       "    </tr>\n",
       "    <tr>\n",
       "      <th>368</th>\n",
       "      <td>0</td>\n",
       "      <td>0</td>\n",
       "      <td>1</td>\n",
       "    </tr>\n",
       "    <tr>\n",
       "      <th>369</th>\n",
       "      <td>0</td>\n",
       "      <td>0</td>\n",
       "      <td>1</td>\n",
       "    </tr>\n",
       "    <tr>\n",
       "      <th>370</th>\n",
       "      <td>0</td>\n",
       "      <td>0</td>\n",
       "      <td>1</td>\n",
       "    </tr>\n",
       "  </tbody>\n",
       "</table>\n",
       "<p>371 rows × 3 columns</p>\n",
       "</div>"
      ],
      "text/plain": [
       "     europe  japan  usa\n",
       "0         0      0    1\n",
       "1         0      0    1\n",
       "2         0      0    1\n",
       "3         0      1    0\n",
       "4         1      0    0\n",
       "..      ...    ...  ...\n",
       "366       0      0    1\n",
       "367       1      0    0\n",
       "368       0      0    1\n",
       "369       0      0    1\n",
       "370       0      0    1\n",
       "\n",
       "[371 rows x 3 columns]"
      ]
     },
     "execution_count": 13,
     "metadata": {},
     "output_type": "execute_result"
    }
   ],
   "source": [
    "pd.get_dummies(data['origin'])"
   ]
  },
  {
   "cell_type": "markdown",
   "metadata": {
    "id": "-H6HqZ6QNLgt"
   },
   "source": [
    "#### What dummy coding has done is that now we have converted our origin column into numerical (boolean) values across multiple columns\n",
    "\n",
    "#### but this is a little bit inefficient because we you don't need all of those columns\n",
    "\n",
    "#### in this case, if europe = 0 and japan = 0, then USA must be 1\n",
    "\n",
    "#### Instead of creating this dataframe and then dropping that column, we could drop_first = True"
   ]
  },
  {
   "cell_type": "code",
   "execution_count": 14,
   "metadata": {
    "colab": {
     "base_uri": "https://localhost:8080/"
    },
    "id": "FW5b3YqTOFh0",
    "outputId": "87c53568-9896-4be1-98d5-7350e5eada47"
   },
   "outputs": [
    {
     "name": "stdout",
     "output_type": "stream",
     "text": [
      "     japan  usa\n",
      "0        0    1\n",
      "1        0    1\n",
      "2        0    1\n",
      "3        1    0\n",
      "4        0    0\n",
      "..     ...  ...\n",
      "366      0    1\n",
      "367      0    0\n",
      "368      0    1\n",
      "369      0    1\n",
      "370      0    1\n",
      "\n",
      "[371 rows x 2 columns]\n"
     ]
    }
   ],
   "source": [
    "origin_df = pd.get_dummies(data['origin'],drop_first=True)\n",
    "print(origin_df)"
   ]
  },
  {
   "cell_type": "markdown",
   "metadata": {
    "id": "o_oKszw30Ic9"
   },
   "source": [
    "#### Now that we have done that for origin, let's move on to the names\n",
    "\n",
    "#### We will need to dummy code these data as well, but let's look at it first"
   ]
  },
  {
   "cell_type": "code",
   "execution_count": 15,
   "metadata": {
    "colab": {
     "base_uri": "https://localhost:8080/",
     "height": 350
    },
    "id": "NchHlUjqwfCW",
    "outputId": "97582e4d-5111-41c3-fc5b-bc84b4d82802"
   },
   "outputs": [
    {
     "name": "stderr",
     "output_type": "stream",
     "text": [
      "/opt/anaconda3/lib/python3.8/site-packages/seaborn/_decorators.py:36: FutureWarning: Pass the following variable as a keyword arg: x. From version 0.12, the only valid positional argument will be `data`, and passing other arguments without an explicit keyword will result in an error or misinterpretation.\n",
      "  warnings.warn(\n"
     ]
    },
    {
     "data": {
      "text/plain": [
       "<AxesSubplot:xlabel='name', ylabel='count'>"
      ]
     },
     "execution_count": 15,
     "metadata": {},
     "output_type": "execute_result"
    },
    {
     "data": {
      "image/png": "[encoded data removed]",
      "text/plain": [
       "<Figure size 432x288 with 1 Axes>"
      ]
     },
     "metadata": {
      "filenames": {
       "image/png": "/Users/erikbrockbank/web/teaching/ucsd-css-002.github.io/_build/jupyter_execute/Garrett_Lectures/s21_Lecture09_dummy_outliers_27_2.png"
      },
      "needs_background": "light"
     },
     "output_type": "display_data"
    }
   ],
   "source": [
    "sns.countplot(data['name'])"
   ]
  },
  {
   "cell_type": "markdown",
   "metadata": {
    "id": "JNfErxqFYmyS"
   },
   "source": [
    "#### Kind of hard to see. Let's increase the figure size"
   ]
  },
  {
   "cell_type": "code",
   "execution_count": 16,
   "metadata": {
    "colab": {
     "base_uri": "https://localhost:8080/",
     "height": 350
    },
    "id": "rFZ2hYV3wpzN",
    "outputId": "a7e1b5bb-b937-4c3e-9268-c2c55c1f66df"
   },
   "outputs": [
    {
     "name": "stderr",
     "output_type": "stream",
     "text": [
      "/opt/anaconda3/lib/python3.8/site-packages/seaborn/_decorators.py:36: FutureWarning: Pass the following variable as a keyword arg: x. From version 0.12, the only valid positional argument will be `data`, and passing other arguments without an explicit keyword will result in an error or misinterpretation.\n",
      "  warnings.warn(\n"
     ]
    },
    {
     "data": {
      "text/plain": [
       "<AxesSubplot:xlabel='name', ylabel='count'>"
      ]
     },
     "execution_count": 16,
     "metadata": {},
     "output_type": "execute_result"
    },
    {
     "data": {
      "image/png": "[encoded data removed]",
      "text/plain": [
       "<Figure size 864x288 with 1 Axes>"
      ]
     },
     "metadata": {
      "filenames": {
       "image/png": "/Users/erikbrockbank/web/teaching/ucsd-css-002.github.io/_build/jupyter_execute/Garrett_Lectures/s21_Lecture09_dummy_outliers_29_2.png"
      },
      "needs_background": "light"
     },
     "output_type": "display_data"
    }
   ],
   "source": [
    "plt.figure(figsize=[12,4])\n",
    "sns.countplot(data['name'])"
   ]
  },
  {
   "cell_type": "markdown",
   "metadata": {
    "id": "UdiJ7GXNt8Pg"
   },
   "source": [
    "#### Looks like some names have been inputted incorrectly!\n",
    "\n",
    "#### Let's fix this with a for loop"
   ]
  },
  {
   "cell_type": "code",
   "execution_count": 17,
   "metadata": {
    "id": "ch1Vo9s5w6Jo"
   },
   "outputs": [],
   "source": [
    "name_list = []\n",
    "for name in data['name']:\n",
    "  if name=='chevroelt':\n",
    "    name_list.append('chevrolet')\n",
    "  elif name=='toyouta':\n",
    "    name_list.append('toyota')\n",
    "  elif name=='vokswagen':\n",
    "    name_list.append('volkswagen')\n",
    "  else:\n",
    "    name_list.append(name)"
   ]
  },
  {
   "cell_type": "markdown",
   "metadata": {
    "id": "ujgeD4U4Urgw"
   },
   "source": [
    "Here is a different method using np.where which would be quicker than the for loops, especially when you have lots of data"
   ]
  },
  {
   "cell_type": "code",
   "execution_count": 18,
   "metadata": {
    "id": "ivmKwvktUQMK"
   },
   "outputs": [],
   "source": [
    "#data['name'] = np.where(data['name']=='chevroelt','chevrolet',data['name'])\n",
    "#data['name'] = np.where(data['name']=='toyouta','toyota',data['name'])\n",
    "#data['name'] = np.where(data['name']=='vokswagen','volkswagen',data['name'])"
   ]
  },
  {
   "cell_type": "markdown",
   "metadata": {
    "id": "cTzsPr7DZDED"
   },
   "source": [
    "#### Let's try this again"
   ]
  },
  {
   "cell_type": "code",
   "execution_count": 19,
   "metadata": {
    "colab": {
     "base_uri": "https://localhost:8080/",
     "height": 339
    },
    "id": "fojEVxvBxB6x",
    "outputId": "286adddc-79f2-4e7d-99df-d3406c563aee"
   },
   "outputs": [
    {
     "name": "stderr",
     "output_type": "stream",
     "text": [
      "/opt/anaconda3/lib/python3.8/site-packages/seaborn/_decorators.py:36: FutureWarning: Pass the following variable as a keyword arg: x. From version 0.12, the only valid positional argument will be `data`, and passing other arguments without an explicit keyword will result in an error or misinterpretation.\n",
      "  warnings.warn(\n"
     ]
    },
    {
     "data": {
      "text/plain": [
       "<AxesSubplot:ylabel='count'>"
      ]
     },
     "execution_count": 19,
     "metadata": {},
     "output_type": "execute_result"
    },
    {
     "data": {
      "image/png": "[encoded data removed]",
      "text/plain": [
       "<Figure size 864x288 with 1 Axes>"
      ]
     },
     "metadata": {
      "filenames": {
       "image/png": "/Users/erikbrockbank/web/teaching/ucsd-css-002.github.io/_build/jupyter_execute/Garrett_Lectures/s21_Lecture09_dummy_outliers_35_2.png"
      },
      "needs_background": "light"
     },
     "output_type": "display_data"
    }
   ],
   "source": [
    "plt.figure(figsize=[12,4])\n",
    "sns.countplot(name_list)"
   ]
  },
  {
   "cell_type": "markdown",
   "metadata": {
    "id": "VDCvDfF5zIu5"
   },
   "source": [
    "#### Much better!\n",
    "\n",
    "#### Now, let's dummy code these"
   ]
  },
  {
   "cell_type": "markdown",
   "metadata": {
    "id": "SN5Xmkp5OuSS"
   },
   "source": [
    "#### Can someone tell me how to dummy code this?"
   ]
  },
  {
   "cell_type": "code",
   "execution_count": 20,
   "metadata": {
    "colab": {
     "base_uri": "https://localhost:8080/"
    },
    "id": "_7tVLkDMzIWK",
    "outputId": "cbd1a113-7aad-4914-9105-440b2a7202a4"
   },
   "outputs": [
    {
     "name": "stdout",
     "output_type": "stream",
     "text": [
      "     chevrolet  nissan  peugeot  saab  toyota  volkswagen  volvo\n",
      "0            1       0        0     0       0           0      0\n",
      "1            1       0        0     0       0           0      0\n",
      "2            1       0        0     0       0           0      0\n",
      "3            0       0        0     0       1           0      0\n",
      "4            0       0        0     0       0           1      0\n",
      "..         ...     ...      ...   ...     ...         ...    ...\n",
      "366          1       0        0     0       0           0      0\n",
      "367          0       0        0     0       0           1      0\n",
      "368          0       0        0     0       0           1      0\n",
      "369          1       0        0     0       0           0      0\n",
      "370          1       0        0     0       0           0      0\n",
      "\n",
      "[371 rows x 7 columns]\n"
     ]
    }
   ],
   "source": [
    "name_df = pd.get_dummies(name_list,drop_first=True)\n",
    "print(name_df)"
   ]
  },
  {
   "cell_type": "markdown",
   "metadata": {
    "id": "YLxzrOaXOxcP"
   },
   "source": [
    "#### Now, we are going to turn one of our continuous columns into binned data\n",
    "\n",
    "#### Sometimes, this is called bucketing\n",
    "\n",
    "#### This is especially useful if you have more possible data points than actual data. Alternatively, this basically smooths the data a bit, which means you have less precise data but it may help with analyses\n",
    "\n",
    "#### Let's do horsepower"
   ]
  },
  {
   "cell_type": "code",
   "execution_count": 21,
   "metadata": {
    "colab": {
     "base_uri": "https://localhost:8080/",
     "height": 350
    },
    "id": "d1nddobG8ZZB",
    "outputId": "841b5096-f355-47a8-c642-aeb96ff030b2"
   },
   "outputs": [
    {
     "name": "stderr",
     "output_type": "stream",
     "text": [
      "/opt/anaconda3/lib/python3.8/site-packages/seaborn/distributions.py:2551: FutureWarning: `distplot` is a deprecated function and will be removed in a future version. Please adapt your code to use either `displot` (a figure-level function with similar flexibility) or `histplot` (an axes-level function for histograms).\n",
      "  warnings.warn(msg, FutureWarning)\n"
     ]
    },
    {
     "data": {
      "text/plain": [
       "<AxesSubplot:xlabel='horsepower', ylabel='Density'>"
      ]
     },
     "execution_count": 21,
     "metadata": {},
     "output_type": "execute_result"
    },
    {
     "data": {
      "image/png": "[encoded data removed]",
      "text/plain": [
       "<Figure size 432x288 with 1 Axes>"
      ]
     },
     "metadata": {
      "filenames": {
       "image/png": "/Users/erikbrockbank/web/teaching/ucsd-css-002.github.io/_build/jupyter_execute/Garrett_Lectures/s21_Lecture09_dummy_outliers_40_2.png"
      },
      "needs_background": "light"
     },
     "output_type": "display_data"
    }
   ],
   "source": [
    "sns.distplot(data['horsepower'])"
   ]
  },
  {
   "cell_type": "markdown",
   "metadata": {
    "id": "qU9jouK8Plek"
   },
   "source": [
    "#### We want to bin this into low, medium, and high horsepower\n",
    "\n",
    "#### We could bin the data in a couple different ways: \n",
    "1. bins are equally separate\n",
    "2. bins have equal amounts of data inside of them"
   ]
  },
  {
   "cell_type": "code",
   "execution_count": 22,
   "metadata": {
    "colab": {
     "base_uri": "https://localhost:8080/"
    },
    "id": "38sefjBgPTUm",
    "outputId": "067324c7-e867-4804-a7e7-2e53b337b2e5"
   },
   "outputs": [
    {
     "name": "stdout",
     "output_type": "stream",
     "text": [
      "0       (114.0, 182.0]\n",
      "1       (182.0, 250.0]\n",
      "2       (114.0, 182.0]\n",
      "3      (45.796, 114.0]\n",
      "4      (45.796, 114.0]\n",
      "            ...       \n",
      "366    (45.796, 114.0]\n",
      "367    (45.796, 114.0]\n",
      "368    (45.796, 114.0]\n",
      "369    (45.796, 114.0]\n",
      "370    (45.796, 114.0]\n",
      "Name: horsepower, Length: 371, dtype: category\n",
      "Categories (3, interval[float64]): [(45.796, 114.0] < (114.0, 182.0] < (182.0, 250.0]]"
     ]
    },
    {
     "name": "stdout",
     "output_type": "stream",
     "text": [
      "\n"
     ]
    }
   ],
   "source": [
    "equal_bin_size = pd.cut(data['horsepower'],3) # split data into 3 bins of equal separation\n",
    "print(equal_bin_size)"
   ]
  },
  {
   "cell_type": "code",
   "execution_count": 23,
   "metadata": {
    "colab": {
     "base_uri": "https://localhost:8080/"
    },
    "id": "3KJqX9iNSF9B",
    "outputId": "9c6fa12e-a304-4467-cd22-72257c07936f"
   },
   "outputs": [
    {
     "data": {
      "text/plain": [
       "[(114.0, 182.0], (182.0, 250.0], (45.796, 114.0]]\n",
       "Categories (3, interval[float64]): [(45.796, 114.0] < (114.0, 182.0] < (182.0, 250.0]]"
      ]
     },
     "execution_count": 23,
     "metadata": {},
     "output_type": "execute_result"
    }
   ],
   "source": [
    "equal_bin_size.unique()"
   ]
  },
  {
   "cell_type": "markdown",
   "metadata": {
    "id": "X9HrLj7rRh_q"
   },
   "source": [
    "#### but one big limitation of this is that look = there are very few data points in the largest bin"
   ]
  },
  {
   "cell_type": "code",
   "execution_count": 24,
   "metadata": {
    "colab": {
     "base_uri": "https://localhost:8080/"
    },
    "id": "Nf0LvDpnRgGu",
    "outputId": "fef5ae32-7be4-43ba-a4d3-b35a0e3c5e41"
   },
   "outputs": [
    {
     "data": {
      "text/plain": [
       "(45.796, 114.0]    297\n",
       "(114.0, 182.0]      71\n",
       "(182.0, 250.0]       3\n",
       "Name: horsepower, dtype: int64"
      ]
     },
     "execution_count": 24,
     "metadata": {},
     "output_type": "execute_result"
    }
   ],
   "source": [
    "equal_bin_size.value_counts()"
   ]
  },
  {
   "cell_type": "markdown",
   "metadata": {
    "id": "nGOeo_WdRnfQ"
   },
   "source": [
    "#### Let's try creating the bins such that they contain roughly the same number of data\n",
    "\n",
    "#### For that, we will use qcut instead"
   ]
  },
  {
   "cell_type": "code",
   "execution_count": 25,
   "metadata": {
    "colab": {
     "base_uri": "https://localhost:8080/"
    },
    "id": "sUrCVlB_aLUe",
    "outputId": "52f8faa1-b015-4ba1-8586-83691681ee59"
   },
   "outputs": [
    {
     "name": "stdout",
     "output_type": "stream",
     "text": [
      "0      (100.0, 250.0]\n",
      "1      (100.0, 250.0]\n",
      "2      (100.0, 250.0]\n",
      "3       (78.0, 100.0]\n",
      "4      (45.999, 78.0]\n",
      "            ...      \n",
      "366     (78.0, 100.0]\n",
      "367    (45.999, 78.0]\n",
      "368     (78.0, 100.0]\n",
      "369     (78.0, 100.0]\n",
      "370     (78.0, 100.0]\n",
      "Name: horsepower, Length: 371, dtype: category\n",
      "Categories (3, interval[float64]): [(45.999, 78.0] < (78.0, 100.0] < (100.0, 250.0]]\n"
     ]
    }
   ],
   "source": [
    "equal_bin_counts = pd.qcut(data['horsepower'],3) # split data into 3 bins of equal separation\n",
    "print(equal_bin_counts)"
   ]
  },
  {
   "cell_type": "code",
   "execution_count": 26,
   "metadata": {
    "colab": {
     "base_uri": "https://localhost:8080/"
    },
    "id": "QrfwwIbaaTnD",
    "outputId": "b71c404e-6987-4608-ad83-042142515cfc"
   },
   "outputs": [
    {
     "data": {
      "text/plain": [
       "(78.0, 100.0]     128\n",
       "(45.999, 78.0]    127\n",
       "(100.0, 250.0]    116\n",
       "Name: horsepower, dtype: int64"
      ]
     },
     "execution_count": 26,
     "metadata": {},
     "output_type": "execute_result"
    }
   ],
   "source": [
    "equal_bin_counts.value_counts()"
   ]
  },
  {
   "cell_type": "markdown",
   "metadata": {
    "id": "0W8TVKLGabOF"
   },
   "source": [
    "#### If you want to define your own bins, that is certainly an option\n",
    "\n",
    "#### Maybe I want horsepower between 0 and 100, 100 to 150, and then anything above 150"
   ]
  },
  {
   "cell_type": "code",
   "execution_count": 27,
   "metadata": {
    "colab": {
     "base_uri": "https://localhost:8080/"
    },
    "id": "LSnGbNeEP_My",
    "outputId": "fba31a2f-0c3b-41a8-dd47-8f981afa18b6"
   },
   "outputs": [
    {
     "name": "stdout",
     "output_type": "stream",
     "text": [
      "0      (100.0, 150.0]\n",
      "1      (150.0, 250.0]\n",
      "2      (100.0, 150.0]\n",
      "3        (0.0, 100.0]\n",
      "4        (0.0, 100.0]\n",
      "            ...      \n",
      "366      (0.0, 100.0]\n",
      "367      (0.0, 100.0]\n",
      "368      (0.0, 100.0]\n",
      "369      (0.0, 100.0]\n",
      "370      (0.0, 100.0]\n",
      "Name: horsepower, Length: 371, dtype: category\n",
      "Categories (3, interval[float64]): [(0.0, 100.0] < (100.0, 150.0] < (150.0, 250.0]]\n"
     ]
    }
   ],
   "source": [
    "garrett_bins = pd.cut(data['horsepower'],[0,100,150,data['horsepower'].max()])\n",
    "print(garrett_bins)"
   ]
  },
  {
   "cell_type": "markdown",
   "metadata": {
    "id": "nl8VuPBPTPcZ"
   },
   "source": [
    "#### I think I'm more of a fan of equally populated bins\n",
    "\n",
    "#### Now, we could do the same dummy coding as before. Here, we will pass in our cut values!"
   ]
  },
  {
   "cell_type": "code",
   "execution_count": 28,
   "metadata": {
    "colab": {
     "base_uri": "https://localhost:8080/"
    },
    "id": "_ft-sW8JTOyf",
    "outputId": "d557e3db-ac78-4924-99cd-d2bed4e21c7a"
   },
   "outputs": [
    {
     "name": "stdout",
     "output_type": "stream",
     "text": [
      "     (78.0, 100.0]  (100.0, 250.0]\n",
      "0                0               1\n",
      "1                0               1\n",
      "2                0               1\n",
      "3                1               0\n",
      "4                0               0\n",
      "..             ...             ...\n",
      "366              1               0\n",
      "367              0               0\n",
      "368              1               0\n",
      "369              1               0\n",
      "370              1               0\n",
      "\n",
      "[371 rows x 2 columns]\n"
     ]
    }
   ],
   "source": [
    "horsepower_df = pd.get_dummies(equal_bin_counts,drop_first=True)\n",
    "print(horsepower_df)"
   ]
  },
  {
   "cell_type": "markdown",
   "metadata": {
    "id": "D7Mt8qiVbfRX"
   },
   "source": [
    "#### Just gonna rename these columns so that it makes sense later when I look at the data"
   ]
  },
  {
   "cell_type": "code",
   "execution_count": 29,
   "metadata": {
    "id": "2ZvF6HS-W-Md"
   },
   "outputs": [],
   "source": [
    "horsepower_df.columns = ['Medium_HP','High_HP']"
   ]
  },
  {
   "cell_type": "code",
   "execution_count": 30,
   "metadata": {
    "colab": {
     "base_uri": "https://localhost:8080/",
     "height": 204
    },
    "id": "5Mymp9_cXD7y",
    "outputId": "d79cceee-3ead-4644-b435-b35c936b742d"
   },
   "outputs": [
    {
     "data": {
      "text/html": [
       "<div>\n",
       "<style scoped>\n",
       "    .dataframe tbody tr th:only-of-type {\n",
       "        vertical-align: middle;\n",
       "    }\n",
       "\n",
       "    .dataframe tbody tr th {\n",
       "        vertical-align: top;\n",
       "    }\n",
       "\n",
       "    .dataframe thead th {\n",
       "        text-align: right;\n",
       "    }\n",
       "</style>\n",
       "<table border=\"1\" class=\"dataframe\">\n",
       "  <thead>\n",
       "    <tr style=\"text-align: right;\">\n",
       "      <th></th>\n",
       "      <th>Medium_HP</th>\n",
       "      <th>High_HP</th>\n",
       "    </tr>\n",
       "  </thead>\n",
       "  <tbody>\n",
       "    <tr>\n",
       "      <th>0</th>\n",
       "      <td>0</td>\n",
       "      <td>1</td>\n",
       "    </tr>\n",
       "    <tr>\n",
       "      <th>1</th>\n",
       "      <td>0</td>\n",
       "      <td>1</td>\n",
       "    </tr>\n",
       "    <tr>\n",
       "      <th>2</th>\n",
       "      <td>0</td>\n",
       "      <td>1</td>\n",
       "    </tr>\n",
       "    <tr>\n",
       "      <th>3</th>\n",
       "      <td>1</td>\n",
       "      <td>0</td>\n",
       "    </tr>\n",
       "    <tr>\n",
       "      <th>4</th>\n",
       "      <td>0</td>\n",
       "      <td>0</td>\n",
       "    </tr>\n",
       "  </tbody>\n",
       "</table>\n",
       "</div>"
      ],
      "text/plain": [
       "   Medium_HP  High_HP\n",
       "0          0        1\n",
       "1          0        1\n",
       "2          0        1\n",
       "3          1        0\n",
       "4          0        0"
      ]
     },
     "execution_count": 30,
     "metadata": {},
     "output_type": "execute_result"
    }
   ],
   "source": [
    "horsepower_df.head()"
   ]
  },
  {
   "cell_type": "markdown",
   "metadata": {
    "id": "weoH2k9PTf5U"
   },
   "source": [
    "#### At this point, what have we turned horsepower from ratio to what kind of data?\n",
    "\n",
    "#### nominal! Categorical!\n",
    "\n",
    "#### But these seem to be ordinal data, right?\n",
    "\n",
    "#### Well, you could treat them as categorical. That is okay, but you lose information about the order. Alterantively, we could give each group a rank (1,2,3), but most models will just treat those ranks as interval data. So, there are tradeoffs.\n"
   ]
  },
  {
   "cell_type": "markdown",
   "metadata": {
    "id": "ZgATIyv5js8v"
   },
   "source": [
    "\n",
    "#### Outliers refer to data that are basically further away from the rest of the data\n",
    "\n",
    "#### just like missing data or duplicates, these could be real. For example, if you looked at wealth, I'm sure Bezos and some other billionaries would show up as outliers. They could be errors. For example, if you accidentally added another 0 to the zero\n",
    "\n"
   ]
  },
  {
   "cell_type": "code",
   "execution_count": 31,
   "metadata": {
    "colab": {
     "base_uri": "https://localhost:8080/",
     "height": 297
    },
    "id": "RwWAjSv0kFN6",
    "outputId": "da7ca4e5-358d-4650-ed7e-1fa2a3a821d2"
   },
   "outputs": [
    {
     "data": {
      "text/html": [
       "<div>\n",
       "<style scoped>\n",
       "    .dataframe tbody tr th:only-of-type {\n",
       "        vertical-align: middle;\n",
       "    }\n",
       "\n",
       "    .dataframe tbody tr th {\n",
       "        vertical-align: top;\n",
       "    }\n",
       "\n",
       "    .dataframe thead th {\n",
       "        text-align: right;\n",
       "    }\n",
       "</style>\n",
       "<table border=\"1\" class=\"dataframe\">\n",
       "  <thead>\n",
       "    <tr style=\"text-align: right;\">\n",
       "      <th></th>\n",
       "      <th>mpg</th>\n",
       "      <th>cylinders</th>\n",
       "      <th>displacement</th>\n",
       "      <th>horsepower</th>\n",
       "      <th>weight</th>\n",
       "      <th>acceleration</th>\n",
       "      <th>model_year</th>\n",
       "    </tr>\n",
       "  </thead>\n",
       "  <tbody>\n",
       "    <tr>\n",
       "      <th>count</th>\n",
       "      <td>371.000000</td>\n",
       "      <td>371.000000</td>\n",
       "      <td>371.000000</td>\n",
       "      <td>371.000000</td>\n",
       "      <td>371.000000</td>\n",
       "      <td>371.000000</td>\n",
       "      <td>371.000000</td>\n",
       "    </tr>\n",
       "    <tr>\n",
       "      <th>mean</th>\n",
       "      <td>25.370350</td>\n",
       "      <td>5.086253</td>\n",
       "      <td>165.460916</td>\n",
       "      <td>94.814016</td>\n",
       "      <td>2871.509434</td>\n",
       "      <td>16.127493</td>\n",
       "      <td>77.350404</td>\n",
       "    </tr>\n",
       "    <tr>\n",
       "      <th>std</th>\n",
       "      <td>7.410867</td>\n",
       "      <td>1.520348</td>\n",
       "      <td>95.951313</td>\n",
       "      <td>29.642745</td>\n",
       "      <td>1253.447950</td>\n",
       "      <td>2.610001</td>\n",
       "      <td>3.100326</td>\n",
       "    </tr>\n",
       "    <tr>\n",
       "      <th>min</th>\n",
       "      <td>11.000000</td>\n",
       "      <td>3.000000</td>\n",
       "      <td>-600.000000</td>\n",
       "      <td>46.000000</td>\n",
       "      <td>1649.000000</td>\n",
       "      <td>9.000000</td>\n",
       "      <td>70.000000</td>\n",
       "    </tr>\n",
       "    <tr>\n",
       "      <th>25%</th>\n",
       "      <td>19.200000</td>\n",
       "      <td>4.000000</td>\n",
       "      <td>98.000000</td>\n",
       "      <td>72.000000</td>\n",
       "      <td>2189.000000</td>\n",
       "      <td>14.500000</td>\n",
       "      <td>75.000000</td>\n",
       "    </tr>\n",
       "    <tr>\n",
       "      <th>50%</th>\n",
       "      <td>25.000000</td>\n",
       "      <td>4.000000</td>\n",
       "      <td>134.000000</td>\n",
       "      <td>90.000000</td>\n",
       "      <td>2694.000000</td>\n",
       "      <td>15.800000</td>\n",
       "      <td>78.000000</td>\n",
       "    </tr>\n",
       "    <tr>\n",
       "      <th>75%</th>\n",
       "      <td>31.000000</td>\n",
       "      <td>6.000000</td>\n",
       "      <td>231.000000</td>\n",
       "      <td>110.000000</td>\n",
       "      <td>3344.500000</td>\n",
       "      <td>17.600000</td>\n",
       "      <td>80.000000</td>\n",
       "    </tr>\n",
       "    <tr>\n",
       "      <th>max</th>\n",
       "      <td>46.600000</td>\n",
       "      <td>8.000000</td>\n",
       "      <td>454.000000</td>\n",
       "      <td>250.000000</td>\n",
       "      <td>22280.000000</td>\n",
       "      <td>24.800000</td>\n",
       "      <td>82.000000</td>\n",
       "    </tr>\n",
       "  </tbody>\n",
       "</table>\n",
       "</div>"
      ],
      "text/plain": [
       "              mpg   cylinders  displacement  horsepower        weight  \\\n",
       "count  371.000000  371.000000    371.000000  371.000000    371.000000   \n",
       "mean    25.370350    5.086253    165.460916   94.814016   2871.509434   \n",
       "std      7.410867    1.520348     95.951313   29.642745   1253.447950   \n",
       "min     11.000000    3.000000   -600.000000   46.000000   1649.000000   \n",
       "25%     19.200000    4.000000     98.000000   72.000000   2189.000000   \n",
       "50%     25.000000    4.000000    134.000000   90.000000   2694.000000   \n",
       "75%     31.000000    6.000000    231.000000  110.000000   3344.500000   \n",
       "max     46.600000    8.000000    454.000000  250.000000  22280.000000   \n",
       "\n",
       "       acceleration  model_year  \n",
       "count    371.000000  371.000000  \n",
       "mean      16.127493   77.350404  \n",
       "std        2.610001    3.100326  \n",
       "min        9.000000   70.000000  \n",
       "25%       14.500000   75.000000  \n",
       "50%       15.800000   78.000000  \n",
       "75%       17.600000   80.000000  \n",
       "max       24.800000   82.000000  "
      ]
     },
     "execution_count": 31,
     "metadata": {},
     "output_type": "execute_result"
    }
   ],
   "source": [
    "data.describe()"
   ]
  },
  {
   "cell_type": "markdown",
   "metadata": {
    "id": "mrNJK-BBkF9M"
   },
   "source": [
    "So, we can see some outliers with just describe. It looks like we have some horsepower values less than 0, which doesn't make sense! \n",
    "\n",
    "You could selectly find these values using boolean logic and remove them. That would totally be justified. \n",
    "\n",
    "Instead, let's use some established methods for outlier removal that may catch some unexpected outliers "
   ]
  },
  {
   "cell_type": "markdown",
   "metadata": {
    "id": "KyyjoYLKkm9N"
   },
   "source": [
    "#### Visualizations will help us see if we have outliers. Especially boxplots"
   ]
  },
  {
   "cell_type": "code",
   "execution_count": 32,
   "metadata": {
    "colab": {
     "base_uri": "https://localhost:8080/",
     "height": 792
    },
    "id": "80WBEK9IkuaZ",
    "outputId": "8bd75ad9-ce6a-4db3-8ca3-99d89361b0df"
   },
   "outputs": [
    {
     "data": {
      "image/png": "[encoded data removed]",
      "text/plain": [
       "<Figure size 864x864 with 7 Axes>"
      ]
     },
     "metadata": {
      "filenames": {
       "image/png": "/Users/erikbrockbank/web/teaching/ucsd-css-002.github.io/_build/jupyter_execute/Garrett_Lectures/s21_Lecture09_dummy_outliers_61_0.png"
      },
      "needs_background": "light"
     },
     "output_type": "display_data"
    }
   ],
   "source": [
    "fig,axes = plt.subplots(7,1,figsize=(12,12))\n",
    "\n",
    "count = 0\n",
    "for column in data.columns:\n",
    "  if isinstance(data[column][0],float)==1:\n",
    "    sns.boxplot(x = data[column],ax=axes[count])\n",
    "    count = count + 1\n",
    "\n",
    "plt.tight_layout()"
   ]
  },
  {
   "cell_type": "markdown",
   "metadata": {
    "id": "SsOrDDgA9sv2"
   },
   "source": [
    "#### When we look at boxplots, we are checking for uni-variate outliers - which are outliers along one dimension\n",
    "\n",
    "#### These are outliers because they are far away from the other values\n",
    "\n",
    "#### You will typically see a couple different ways of finding these outliers\n",
    "\n",
    "1. multiple of the standard deviation\n",
    "2. outside of IQR which is basically what the boxplot is doing \n",
    "\n",
    "#### Both methods work similar. Use dispersion of the data to figure out what is too far away from the other data points. We thus create thresholds. Outliers are data beyond those thresholds "
   ]
  },
  {
   "cell_type": "code",
   "execution_count": 33,
   "metadata": {
    "id": "awrqX-ch4xPY"
   },
   "outputs": [],
   "source": [
    "temp_acc = data['acceleration'].copy()"
   ]
  },
  {
   "cell_type": "code",
   "execution_count": 34,
   "metadata": {
    "colab": {
     "base_uri": "https://localhost:8080/",
     "height": 350
    },
    "id": "vd2aEdhw4YuC",
    "outputId": "95bd18c6-eda9-409b-b446-63f2fab02d08"
   },
   "outputs": [
    {
     "name": "stderr",
     "output_type": "stream",
     "text": [
      "/opt/anaconda3/lib/python3.8/site-packages/seaborn/_decorators.py:36: FutureWarning: Pass the following variable as a keyword arg: x. From version 0.12, the only valid positional argument will be `data`, and passing other arguments without an explicit keyword will result in an error or misinterpretation.\n",
      "  warnings.warn(\n"
     ]
    },
    {
     "data": {
      "text/plain": [
       "<AxesSubplot:xlabel='acceleration'>"
      ]
     },
     "execution_count": 34,
     "metadata": {},
     "output_type": "execute_result"
    },
    {
     "data": {
      "image/png": "[encoded data removed]",
      "text/plain": [
       "<Figure size 432x288 with 1 Axes>"
      ]
     },
     "metadata": {
      "filenames": {
       "image/png": "/Users/erikbrockbank/web/teaching/ucsd-css-002.github.io/_build/jupyter_execute/Garrett_Lectures/s21_Lecture09_dummy_outliers_64_2.png"
      },
      "needs_background": "light"
     },
     "output_type": "display_data"
    }
   ],
   "source": [
    "sns.boxplot(temp_acc)"
   ]
  },
  {
   "cell_type": "code",
   "execution_count": 35,
   "metadata": {
    "colab": {
     "base_uri": "https://localhost:8080/"
    },
    "id": "NpAC4YIdzGjy",
    "outputId": "1099932f-4f87-4a6d-e446-03046480c1fd"
   },
   "outputs": [
    {
     "name": "stdout",
     "output_type": "stream",
     "text": [
      "21.34749592142496 10.907490601486057\n"
     ]
    }
   ],
   "source": [
    "threshold1_upper = temp_acc.mean()+2*temp_acc.std()\n",
    "threshold1_lower = temp_acc.mean()-2*temp_acc.std()\n",
    "print(threshold1_upper,threshold1_lower)"
   ]
  },
  {
   "cell_type": "markdown",
   "metadata": {
    "id": "opMwgtKKiH_-"
   },
   "source": [
    "#### Now that I have my thresholds created with the standard deviation, I can remove data that is either less than or greater than those thresholds"
   ]
  },
  {
   "cell_type": "code",
   "execution_count": 36,
   "metadata": {
    "colab": {
     "base_uri": "https://localhost:8080/"
    },
    "id": "05oWNHIJyz1z",
    "outputId": "6026cc95-9e8a-47b5-bd90-7c6f53e5931f"
   },
   "outputs": [
    {
     "data": {
      "text/plain": [
       "(353,)"
      ]
     },
     "execution_count": 36,
     "metadata": {},
     "output_type": "execute_result"
    }
   ],
   "source": [
    "temp_acc_std = temp_acc[(temp_acc < threshold1_upper) & (temp_acc > threshold1_lower)]\n",
    "temp_acc_std.shape"
   ]
  },
  {
   "cell_type": "code",
   "execution_count": 37,
   "metadata": {
    "colab": {
     "base_uri": "https://localhost:8080/",
     "height": 384
    },
    "id": "f0F6aq2r4fSX",
    "outputId": "37b7fc4f-0253-4826-8a8f-75987440e402"
   },
   "outputs": [
    {
     "name": "stderr",
     "output_type": "stream",
     "text": [
      "/opt/anaconda3/lib/python3.8/site-packages/seaborn/_decorators.py:36: FutureWarning: Pass the following variable as a keyword arg: x. From version 0.12, the only valid positional argument will be `data`, and passing other arguments without an explicit keyword will result in an error or misinterpretation.\n",
      "  warnings.warn(\n",
      "/opt/anaconda3/lib/python3.8/site-packages/seaborn/_decorators.py:36: FutureWarning: Pass the following variable as a keyword arg: x. From version 0.12, the only valid positional argument will be `data`, and passing other arguments without an explicit keyword will result in an error or misinterpretation.\n",
      "  warnings.warn(\n"
     ]
    },
    {
     "data": {
      "text/plain": [
       "(6.0, 27.0)"
      ]
     },
     "execution_count": 37,
     "metadata": {},
     "output_type": "execute_result"
    },
    {
     "data": {
      "image/png": "[encoded data removed]",
      "text/plain": [
       "<Figure size 432x288 with 2 Axes>"
      ]
     },
     "metadata": {
      "filenames": {
       "image/png": "/Users/erikbrockbank/web/teaching/ucsd-css-002.github.io/_build/jupyter_execute/Garrett_Lectures/s21_Lecture09_dummy_outliers_68_2.png"
      },
      "needs_background": "light"
     },
     "output_type": "display_data"
    }
   ],
   "source": [
    "fig,axes = plt.subplots(2,1)\n",
    "sns.boxplot(temp_acc,ax=axes[0])\n",
    "sns.boxplot(temp_acc_std,ax=axes[1])\n",
    "axes[0].set_xlim([6,27])\n",
    "axes[1].set_xlim([6,27])"
   ]
  },
  {
   "cell_type": "markdown",
   "metadata": {
    "id": "uUD5NwqW0Gaw"
   },
   "source": [
    "#### Let's try the second method with the IRQ"
   ]
  },
  {
   "cell_type": "code",
   "execution_count": 38,
   "metadata": {
    "colab": {
     "base_uri": "https://localhost:8080/"
    },
    "id": "uMeLbva2z2uG",
    "outputId": "445f19fb-eaea-4b7e-9edc-b520b60c8593"
   },
   "outputs": [
    {
     "name": "stdout",
     "output_type": "stream",
     "text": [
      "3.1000000000000014\n"
     ]
    }
   ],
   "source": [
    "Q1 = temp_acc.quantile(.25)\n",
    "Q3 = temp_acc.quantile(.75)\n",
    "IQR = Q3-Q1\n",
    "print(IQR)"
   ]
  },
  {
   "cell_type": "code",
   "execution_count": 39,
   "metadata": {
    "colab": {
     "base_uri": "https://localhost:8080/"
    },
    "id": "TpFebfdm0kqt",
    "outputId": "5425a842-ad38-4e3e-c3c1-7fb81f430379"
   },
   "outputs": [
    {
     "data": {
      "text/plain": [
       "(364,)"
      ]
     },
     "execution_count": 39,
     "metadata": {},
     "output_type": "execute_result"
    }
   ],
   "source": [
    "temp_acc_iqr = temp_acc[(temp_acc > (Q1 - 1.5 * IQR)) & (temp_acc < (Q3 + 1.5 * IQR))]\n",
    "temp_acc_iqr.shape"
   ]
  },
  {
   "cell_type": "code",
   "execution_count": 40,
   "metadata": {
    "colab": {
     "base_uri": "https://localhost:8080/",
     "height": 419
    },
    "id": "OaPDTETp6Pg9",
    "outputId": "e4e96a18-b772-4027-8db2-18554880a6b8"
   },
   "outputs": [
    {
     "name": "stderr",
     "output_type": "stream",
     "text": [
      "/opt/anaconda3/lib/python3.8/site-packages/seaborn/_decorators.py:36: FutureWarning: Pass the following variable as a keyword arg: x. From version 0.12, the only valid positional argument will be `data`, and passing other arguments without an explicit keyword will result in an error or misinterpretation.\n",
      "  warnings.warn(\n"
     ]
    },
    {
     "name": "stderr",
     "output_type": "stream",
     "text": [
      "/opt/anaconda3/lib/python3.8/site-packages/seaborn/_decorators.py:36: FutureWarning: Pass the following variable as a keyword arg: x. From version 0.12, the only valid positional argument will be `data`, and passing other arguments without an explicit keyword will result in an error or misinterpretation.\n",
      "  warnings.warn(\n",
      "/opt/anaconda3/lib/python3.8/site-packages/seaborn/_decorators.py:36: FutureWarning: Pass the following variable as a keyword arg: x. From version 0.12, the only valid positional argument will be `data`, and passing other arguments without an explicit keyword will result in an error or misinterpretation.\n",
      "  warnings.warn(\n"
     ]
    },
    {
     "data": {
      "image/png": "[encoded data removed]",
      "text/plain": [
       "<Figure size 432x288 with 3 Axes>"
      ]
     },
     "metadata": {
      "filenames": {
       "image/png": "/Users/erikbrockbank/web/teaching/ucsd-css-002.github.io/_build/jupyter_execute/Garrett_Lectures/s21_Lecture09_dummy_outliers_72_2.png"
      },
      "needs_background": "light"
     },
     "output_type": "display_data"
    }
   ],
   "source": [
    "fig,axes = plt.subplots(3,1)\n",
    "sns.boxplot(temp_acc,ax=axes[0])\n",
    "sns.boxplot(temp_acc_std,ax=axes[1])\n",
    "sns.boxplot(temp_acc_iqr,ax=axes[2])\n",
    "axes[0].set_xlim([6,27])\n",
    "axes[1].set_xlim([6,27])\n",
    "axes[2].set_xlim([6,27])\n",
    "plt.tight_layout()"
   ]
  },
  {
   "cell_type": "markdown",
   "metadata": {
    "id": "0VQslB25nqlh"
   },
   "source": [
    "#### First thing to note - 2 std takes away more data than the IQR method. You could do 2.5 std or 3 std. The other thing to note is that the median is pretty much the same in all cases."
   ]
  },
  {
   "cell_type": "markdown",
   "metadata": {
    "id": "hxw8FRcE6Ynq"
   },
   "source": [
    "#### Note that the outlier procedure is done once. So while there may be some \"new\" outliers that appear after removing outliers, that is okay! "
   ]
  },
  {
   "cell_type": "markdown",
   "metadata": {
    "id": "NJLk6CY02ce6"
   },
   "source": [
    "#### Now, let's remove the outliers from the other columns\n",
    "\n",
    "#### Any guesses on how we can do that? \n",
    "\n",
    "#### I'm suggesting a for loop like we made before!"
   ]
  },
  {
   "cell_type": "code",
   "execution_count": 41,
   "metadata": {
    "id": "dhUC65Vk2lAE"
   },
   "outputs": [],
   "source": [
    "for column in data.columns:\n",
    "  if isinstance(data[column][0],float)==1:\n",
    "    Q1 = data[column].quantile(.25)\n",
    "    Q3 = data[column].quantile(.75)\n",
    "    IQR = Q3-Q1\n",
    "\n",
    "    index = (data[column] > (Q1 - 1.5 * IQR)) & (data[column] < (Q3 + 1.5 * IQR))\n",
    "    data[column] = np.where(index, data[column],np.nan)"
   ]
  },
  {
   "cell_type": "code",
   "execution_count": 42,
   "metadata": {
    "colab": {
     "base_uri": "https://localhost:8080/",
     "height": 350
    },
    "id": "a6mV8Z1z8Bh2",
    "outputId": "6970948d-b554-425a-93bf-905bd57d05bd"
   },
   "outputs": [
    {
     "name": "stderr",
     "output_type": "stream",
     "text": [
      "/opt/anaconda3/lib/python3.8/site-packages/seaborn/_decorators.py:36: FutureWarning: Pass the following variable as a keyword arg: x. From version 0.12, the only valid positional argument will be `data`, and passing other arguments without an explicit keyword will result in an error or misinterpretation.\n",
      "  warnings.warn(\n"
     ]
    },
    {
     "data": {
      "text/plain": [
       "(6.0, 27.0)"
      ]
     },
     "execution_count": 42,
     "metadata": {},
     "output_type": "execute_result"
    },
    {
     "data": {
      "image/png": "[encoded data removed]",
      "text/plain": [
       "<Figure size 432x288 with 1 Axes>"
      ]
     },
     "metadata": {
      "filenames": {
       "image/png": "/Users/erikbrockbank/web/teaching/ucsd-css-002.github.io/_build/jupyter_execute/Garrett_Lectures/s21_Lecture09_dummy_outliers_77_2.png"
      },
      "needs_background": "light"
     },
     "output_type": "display_data"
    }
   ],
   "source": [
    "sns.boxplot(data['acceleration'])\n",
    "axes[0].set_xlim([6,27])"
   ]
  },
  {
   "cell_type": "code",
   "execution_count": 43,
   "metadata": {
    "colab": {
     "base_uri": "https://localhost:8080/",
     "height": 344
    },
    "id": "nwkktQQI3pSJ",
    "outputId": "9594a86f-1419-4b25-e9cd-bf6c3237422a"
   },
   "outputs": [
    {
     "data": {
      "text/plain": [
       "<AxesSubplot:>"
      ]
     },
     "execution_count": 43,
     "metadata": {},
     "output_type": "execute_result"
    },
    {
     "data": {
      "image/png": "[encoded data removed]",
      "text/plain": [
       "<Figure size 432x288 with 2 Axes>"
      ]
     },
     "metadata": {
      "filenames": {
       "image/png": "/Users/erikbrockbank/web/teaching/ucsd-css-002.github.io/_build/jupyter_execute/Garrett_Lectures/s21_Lecture09_dummy_outliers_78_1.png"
      },
      "needs_background": "light"
     },
     "output_type": "display_data"
    }
   ],
   "source": [
    "sns.heatmap(data.isnull(),cmap=['Green','Red'])"
   ]
  },
  {
   "cell_type": "markdown",
   "metadata": {
    "id": "IVqmy3L-4Ond"
   },
   "source": [
    "#### So now, our outliers have been replaced with nans. looks good!\n",
    "\n",
    "#### just to reiterate, we could have set those outliers to the median or mean values"
   ]
  },
  {
   "cell_type": "markdown",
   "metadata": {
    "id": "FioHfnrJx_lx"
   },
   "source": [
    "#### We can check for bi-variate outliers by plotting scatterplots\n",
    "\n",
    "#### Instead of showing all scatterplots at once, let's just focus on one scatterplot"
   ]
  },
  {
   "cell_type": "code",
   "execution_count": 44,
   "metadata": {
    "colab": {
     "base_uri": "https://localhost:8080/",
     "height": 296
    },
    "id": "DHqQv8MU9rKD",
    "outputId": "c014bd93-bd85-4062-9b15-c7ccd4cb2504"
   },
   "outputs": [
    {
     "data": {
      "text/plain": [
       "<AxesSubplot:xlabel='weight', ylabel='displacement'>"
      ]
     },
     "execution_count": 44,
     "metadata": {},
     "output_type": "execute_result"
    },
    {
     "data": {
      "image/png": "[encoded data removed]",
      "text/plain": [
       "<Figure size 432x288 with 1 Axes>"
      ]
     },
     "metadata": {
      "filenames": {
       "image/png": "/Users/erikbrockbank/web/teaching/ucsd-css-002.github.io/_build/jupyter_execute/Garrett_Lectures/s21_Lecture09_dummy_outliers_81_1.png"
      },
      "needs_background": "light"
     },
     "output_type": "display_data"
    }
   ],
   "source": [
    "sns.scatterplot(x= 'weight',y = 'displacement',data=data)"
   ]
  },
  {
   "cell_type": "markdown",
   "metadata": {
    "id": "edtNdxa-IJPI"
   },
   "source": [
    "#### The datapoint on the far right appears to be pretty far from the others. We can quickly see this with the sns.lmplot"
   ]
  },
  {
   "cell_type": "code",
   "execution_count": 45,
   "metadata": {
    "colab": {
     "base_uri": "https://localhost:8080/",
     "height": 400
    },
    "id": "DFZyEy1JIIbK",
    "outputId": "3b9450b7-2ef4-4836-812b-79dc26bf03c5"
   },
   "outputs": [
    {
     "data": {
      "text/plain": [
       "(1500.0, 5500.0)"
      ]
     },
     "execution_count": 45,
     "metadata": {},
     "output_type": "execute_result"
    },
    {
     "data": {
      "image/png": "[encoded data removed]",
      "text/plain": [
       "<Figure size 360x360 with 1 Axes>"
      ]
     },
     "metadata": {
      "filenames": {
       "image/png": "/Users/erikbrockbank/web/teaching/ucsd-css-002.github.io/_build/jupyter_execute/Garrett_Lectures/s21_Lecture09_dummy_outliers_83_1.png"
      },
      "needs_background": "light"
     },
     "output_type": "display_data"
    }
   ],
   "source": [
    "sns.lmplot(x= 'weight',y = 'displacement',data=data)\n",
    "plt.xlim([1500,5500])"
   ]
  },
  {
   "cell_type": "markdown",
   "metadata": {
    "id": "WsLZUNLoJJZR"
   },
   "source": [
    "#### Here, seaborn is plotting a best fit line. If that data point is far from others, it may be considered an outlier with high leverage. If that outlier is actually pulling that line towards it, then it may be considered influential.\n",
    "\n",
    "#### For now, we will leave these datapoints, but it is certainly something to be aware of and something we may touch on once we are discussing regression\n",
    "\n"
   ]
  },
  {
   "cell_type": "markdown",
   "metadata": {
    "id": "4OwQ5ENfK969"
   },
   "source": [
    "#### Now, let's just fill our data with medians\n",
    "\n",
    "#### Anyone remember how?"
   ]
  },
  {
   "cell_type": "code",
   "execution_count": 46,
   "metadata": {
    "id": "JLbsZW1CKvSm"
   },
   "outputs": [],
   "source": [
    "data2 = data.fillna(data.median())"
   ]
  },
  {
   "cell_type": "markdown",
   "metadata": {
    "id": "Vd1tRvwj_Lq5"
   },
   "source": [
    "Now, let's concatenate this with our dummy coded columns"
   ]
  },
  {
   "cell_type": "code",
   "execution_count": 47,
   "metadata": {
    "id": "BukYn1OS_QAe"
   },
   "outputs": [],
   "source": [
    "final_data = pd.concat([data2,sedan_1_df,origin_df,name_df,horsepower_df],axis=1)"
   ]
  },
  {
   "cell_type": "markdown",
   "metadata": {
    "id": "xLVyIYg8_qlG"
   },
   "source": [
    "Let's check to make sure that works"
   ]
  },
  {
   "cell_type": "code",
   "execution_count": 48,
   "metadata": {
    "colab": {
     "base_uri": "https://localhost:8080/",
     "height": 224
    },
    "id": "542McBdA_o0a",
    "outputId": "dfa65aca-c6af-45c9-b020-9e0852986918"
   },
   "outputs": [
    {
     "data": {
      "text/html": [
       "<div>\n",
       "<style scoped>\n",
       "    .dataframe tbody tr th:only-of-type {\n",
       "        vertical-align: middle;\n",
       "    }\n",
       "\n",
       "    .dataframe tbody tr th {\n",
       "        vertical-align: top;\n",
       "    }\n",
       "\n",
       "    .dataframe thead th {\n",
       "        text-align: right;\n",
       "    }\n",
       "</style>\n",
       "<table border=\"1\" class=\"dataframe\">\n",
       "  <thead>\n",
       "    <tr style=\"text-align: right;\">\n",
       "      <th></th>\n",
       "      <th>mpg</th>\n",
       "      <th>cylinders</th>\n",
       "      <th>displacement</th>\n",
       "      <th>horsepower</th>\n",
       "      <th>weight</th>\n",
       "      <th>acceleration</th>\n",
       "      <th>model_year</th>\n",
       "      <th>origin</th>\n",
       "      <th>name</th>\n",
       "      <th>Type</th>\n",
       "      <th>...</th>\n",
       "      <th>usa</th>\n",
       "      <th>chevrolet</th>\n",
       "      <th>nissan</th>\n",
       "      <th>peugeot</th>\n",
       "      <th>saab</th>\n",
       "      <th>toyota</th>\n",
       "      <th>volkswagen</th>\n",
       "      <th>volvo</th>\n",
       "      <th>Medium_HP</th>\n",
       "      <th>High_HP</th>\n",
       "    </tr>\n",
       "  </thead>\n",
       "  <tbody>\n",
       "    <tr>\n",
       "      <th>0</th>\n",
       "      <td>18.0</td>\n",
       "      <td>8.0</td>\n",
       "      <td>307.0</td>\n",
       "      <td>130.0</td>\n",
       "      <td>3504.0</td>\n",
       "      <td>12.0</td>\n",
       "      <td>70.0</td>\n",
       "      <td>usa</td>\n",
       "      <td>chevrolet</td>\n",
       "      <td>Sedan</td>\n",
       "      <td>...</td>\n",
       "      <td>1</td>\n",
       "      <td>1</td>\n",
       "      <td>0</td>\n",
       "      <td>0</td>\n",
       "      <td>0</td>\n",
       "      <td>0</td>\n",
       "      <td>0</td>\n",
       "      <td>0</td>\n",
       "      <td>0</td>\n",
       "      <td>1</td>\n",
       "    </tr>\n",
       "    <tr>\n",
       "      <th>1</th>\n",
       "      <td>14.0</td>\n",
       "      <td>8.0</td>\n",
       "      <td>134.0</td>\n",
       "      <td>90.0</td>\n",
       "      <td>4354.0</td>\n",
       "      <td>15.8</td>\n",
       "      <td>70.0</td>\n",
       "      <td>usa</td>\n",
       "      <td>chevrolet</td>\n",
       "      <td>Sedan</td>\n",
       "      <td>...</td>\n",
       "      <td>1</td>\n",
       "      <td>1</td>\n",
       "      <td>0</td>\n",
       "      <td>0</td>\n",
       "      <td>0</td>\n",
       "      <td>0</td>\n",
       "      <td>0</td>\n",
       "      <td>0</td>\n",
       "      <td>0</td>\n",
       "      <td>1</td>\n",
       "    </tr>\n",
       "    <tr>\n",
       "      <th>2</th>\n",
       "      <td>15.0</td>\n",
       "      <td>8.0</td>\n",
       "      <td>400.0</td>\n",
       "      <td>150.0</td>\n",
       "      <td>3761.0</td>\n",
       "      <td>15.8</td>\n",
       "      <td>70.0</td>\n",
       "      <td>usa</td>\n",
       "      <td>chevrolet</td>\n",
       "      <td>Sedan</td>\n",
       "      <td>...</td>\n",
       "      <td>1</td>\n",
       "      <td>1</td>\n",
       "      <td>0</td>\n",
       "      <td>0</td>\n",
       "      <td>0</td>\n",
       "      <td>0</td>\n",
       "      <td>0</td>\n",
       "      <td>0</td>\n",
       "      <td>0</td>\n",
       "      <td>1</td>\n",
       "    </tr>\n",
       "    <tr>\n",
       "      <th>3</th>\n",
       "      <td>24.0</td>\n",
       "      <td>4.0</td>\n",
       "      <td>113.0</td>\n",
       "      <td>95.0</td>\n",
       "      <td>2372.0</td>\n",
       "      <td>15.0</td>\n",
       "      <td>70.0</td>\n",
       "      <td>japan</td>\n",
       "      <td>toyota</td>\n",
       "      <td>Coupe</td>\n",
       "      <td>...</td>\n",
       "      <td>0</td>\n",
       "      <td>0</td>\n",
       "      <td>0</td>\n",
       "      <td>0</td>\n",
       "      <td>0</td>\n",
       "      <td>1</td>\n",
       "      <td>0</td>\n",
       "      <td>0</td>\n",
       "      <td>1</td>\n",
       "      <td>0</td>\n",
       "    </tr>\n",
       "    <tr>\n",
       "      <th>4</th>\n",
       "      <td>26.0</td>\n",
       "      <td>4.0</td>\n",
       "      <td>12.0</td>\n",
       "      <td>46.0</td>\n",
       "      <td>1835.0</td>\n",
       "      <td>20.5</td>\n",
       "      <td>70.0</td>\n",
       "      <td>europe</td>\n",
       "      <td>volkswagen</td>\n",
       "      <td>Coupe</td>\n",
       "      <td>...</td>\n",
       "      <td>0</td>\n",
       "      <td>0</td>\n",
       "      <td>0</td>\n",
       "      <td>0</td>\n",
       "      <td>0</td>\n",
       "      <td>0</td>\n",
       "      <td>1</td>\n",
       "      <td>0</td>\n",
       "      <td>0</td>\n",
       "      <td>0</td>\n",
       "    </tr>\n",
       "  </tbody>\n",
       "</table>\n",
       "<p>5 rows × 22 columns</p>\n",
       "</div>"
      ],
      "text/plain": [
       "    mpg  cylinders  displacement  horsepower  weight  acceleration  \\\n",
       "0  18.0        8.0         307.0       130.0  3504.0          12.0   \n",
       "1  14.0        8.0         134.0        90.0  4354.0          15.8   \n",
       "2  15.0        8.0         400.0       150.0  3761.0          15.8   \n",
       "3  24.0        4.0         113.0        95.0  2372.0          15.0   \n",
       "4  26.0        4.0          12.0        46.0  1835.0          20.5   \n",
       "\n",
       "   model_year  origin        name   Type  ...  usa  chevrolet  nissan  \\\n",
       "0        70.0     usa   chevrolet  Sedan  ...    1          1       0   \n",
       "1        70.0     usa   chevrolet  Sedan  ...    1          1       0   \n",
       "2        70.0     usa   chevrolet  Sedan  ...    1          1       0   \n",
       "3        70.0   japan      toyota  Coupe  ...    0          0       0   \n",
       "4        70.0  europe  volkswagen  Coupe  ...    0          0       0   \n",
       "\n",
       "   peugeot  saab  toyota  volkswagen  volvo  Medium_HP  High_HP  \n",
       "0        0     0       0           0      0          0        1  \n",
       "1        0     0       0           0      0          0        1  \n",
       "2        0     0       0           0      0          0        1  \n",
       "3        0     0       1           0      0          1        0  \n",
       "4        0     0       0           1      0          0        0  \n",
       "\n",
       "[5 rows x 22 columns]"
      ]
     },
     "execution_count": 48,
     "metadata": {},
     "output_type": "execute_result"
    }
   ],
   "source": [
    "final_data.head()"
   ]
  },
  {
   "cell_type": "markdown",
   "metadata": {
    "id": "Jey0lom5_sJd"
   },
   "source": [
    "And let's describe() and info() as well to double check some things"
   ]
  },
  {
   "cell_type": "code",
   "execution_count": 49,
   "metadata": {
    "colab": {
     "base_uri": "https://localhost:8080/",
     "height": 317
    },
    "id": "4oeb_PZXK2gn",
    "outputId": "65e7c819-55ba-48bc-d9e2-b757aa63b831"
   },
   "outputs": [
    {
     "data": {
      "text/html": [
       "<div>\n",
       "<style scoped>\n",
       "    .dataframe tbody tr th:only-of-type {\n",
       "        vertical-align: middle;\n",
       "    }\n",
       "\n",
       "    .dataframe tbody tr th {\n",
       "        vertical-align: top;\n",
       "    }\n",
       "\n",
       "    .dataframe thead th {\n",
       "        text-align: right;\n",
       "    }\n",
       "</style>\n",
       "<table border=\"1\" class=\"dataframe\">\n",
       "  <thead>\n",
       "    <tr style=\"text-align: right;\">\n",
       "      <th></th>\n",
       "      <th>mpg</th>\n",
       "      <th>cylinders</th>\n",
       "      <th>displacement</th>\n",
       "      <th>horsepower</th>\n",
       "      <th>weight</th>\n",
       "      <th>acceleration</th>\n",
       "      <th>model_year</th>\n",
       "      <th>Sedans_1</th>\n",
       "      <th>japan</th>\n",
       "      <th>usa</th>\n",
       "      <th>chevrolet</th>\n",
       "      <th>nissan</th>\n",
       "      <th>peugeot</th>\n",
       "      <th>saab</th>\n",
       "      <th>toyota</th>\n",
       "      <th>volkswagen</th>\n",
       "      <th>volvo</th>\n",
       "      <th>Medium_HP</th>\n",
       "      <th>High_HP</th>\n",
       "    </tr>\n",
       "  </thead>\n",
       "  <tbody>\n",
       "    <tr>\n",
       "      <th>count</th>\n",
       "      <td>371.000000</td>\n",
       "      <td>371.000000</td>\n",
       "      <td>371.000000</td>\n",
       "      <td>371.000000</td>\n",
       "      <td>371.000000</td>\n",
       "      <td>371.000000</td>\n",
       "      <td>371.000000</td>\n",
       "      <td>371.000000</td>\n",
       "      <td>371.000000</td>\n",
       "      <td>371.000000</td>\n",
       "      <td>371.000000</td>\n",
       "      <td>371.000000</td>\n",
       "      <td>371.000000</td>\n",
       "      <td>371.000000</td>\n",
       "      <td>371.000000</td>\n",
       "      <td>371.000000</td>\n",
       "      <td>371.000000</td>\n",
       "      <td>371.000000</td>\n",
       "      <td>371.000000</td>\n",
       "    </tr>\n",
       "    <tr>\n",
       "      <th>mean</th>\n",
       "      <td>25.370350</td>\n",
       "      <td>5.086253</td>\n",
       "      <td>166.576819</td>\n",
       "      <td>92.630728</td>\n",
       "      <td>2818.695418</td>\n",
       "      <td>16.048518</td>\n",
       "      <td>77.350404</td>\n",
       "      <td>0.606469</td>\n",
       "      <td>0.229111</td>\n",
       "      <td>0.533693</td>\n",
       "      <td>0.412399</td>\n",
       "      <td>0.002695</td>\n",
       "      <td>0.097035</td>\n",
       "      <td>0.040431</td>\n",
       "      <td>0.188679</td>\n",
       "      <td>0.148248</td>\n",
       "      <td>0.053908</td>\n",
       "      <td>0.345013</td>\n",
       "      <td>0.312668</td>\n",
       "    </tr>\n",
       "    <tr>\n",
       "      <th>std</th>\n",
       "      <td>7.410867</td>\n",
       "      <td>1.520348</td>\n",
       "      <td>86.035734</td>\n",
       "      <td>25.640256</td>\n",
       "      <td>741.854547</td>\n",
       "      <td>2.376852</td>\n",
       "      <td>3.100326</td>\n",
       "      <td>0.489193</td>\n",
       "      <td>0.420828</td>\n",
       "      <td>0.499537</td>\n",
       "      <td>0.492931</td>\n",
       "      <td>0.051917</td>\n",
       "      <td>0.296405</td>\n",
       "      <td>0.197234</td>\n",
       "      <td>0.391782</td>\n",
       "      <td>0.355826</td>\n",
       "      <td>0.226142</td>\n",
       "      <td>0.476015</td>\n",
       "      <td>0.464207</td>\n",
       "    </tr>\n",
       "    <tr>\n",
       "      <th>min</th>\n",
       "      <td>11.000000</td>\n",
       "      <td>3.000000</td>\n",
       "      <td>-30.000000</td>\n",
       "      <td>46.000000</td>\n",
       "      <td>1649.000000</td>\n",
       "      <td>11.100000</td>\n",
       "      <td>70.000000</td>\n",
       "      <td>0.000000</td>\n",
       "      <td>0.000000</td>\n",
       "      <td>0.000000</td>\n",
       "      <td>0.000000</td>\n",
       "      <td>0.000000</td>\n",
       "      <td>0.000000</td>\n",
       "      <td>0.000000</td>\n",
       "      <td>0.000000</td>\n",
       "      <td>0.000000</td>\n",
       "      <td>0.000000</td>\n",
       "      <td>0.000000</td>\n",
       "      <td>0.000000</td>\n",
       "    </tr>\n",
       "    <tr>\n",
       "      <th>25%</th>\n",
       "      <td>19.200000</td>\n",
       "      <td>4.000000</td>\n",
       "      <td>98.000000</td>\n",
       "      <td>72.000000</td>\n",
       "      <td>2189.000000</td>\n",
       "      <td>14.500000</td>\n",
       "      <td>75.000000</td>\n",
       "      <td>0.000000</td>\n",
       "      <td>0.000000</td>\n",
       "      <td>0.000000</td>\n",
       "      <td>0.000000</td>\n",
       "      <td>0.000000</td>\n",
       "      <td>0.000000</td>\n",
       "      <td>0.000000</td>\n",
       "      <td>0.000000</td>\n",
       "      <td>0.000000</td>\n",
       "      <td>0.000000</td>\n",
       "      <td>0.000000</td>\n",
       "      <td>0.000000</td>\n",
       "    </tr>\n",
       "    <tr>\n",
       "      <th>50%</th>\n",
       "      <td>25.000000</td>\n",
       "      <td>4.000000</td>\n",
       "      <td>134.000000</td>\n",
       "      <td>90.000000</td>\n",
       "      <td>2686.000000</td>\n",
       "      <td>15.800000</td>\n",
       "      <td>78.000000</td>\n",
       "      <td>1.000000</td>\n",
       "      <td>0.000000</td>\n",
       "      <td>1.000000</td>\n",
       "      <td>0.000000</td>\n",
       "      <td>0.000000</td>\n",
       "      <td>0.000000</td>\n",
       "      <td>0.000000</td>\n",
       "      <td>0.000000</td>\n",
       "      <td>0.000000</td>\n",
       "      <td>0.000000</td>\n",
       "      <td>0.000000</td>\n",
       "      <td>0.000000</td>\n",
       "    </tr>\n",
       "    <tr>\n",
       "      <th>75%</th>\n",
       "      <td>31.000000</td>\n",
       "      <td>6.000000</td>\n",
       "      <td>231.000000</td>\n",
       "      <td>105.000000</td>\n",
       "      <td>3336.000000</td>\n",
       "      <td>17.400000</td>\n",
       "      <td>80.000000</td>\n",
       "      <td>1.000000</td>\n",
       "      <td>0.000000</td>\n",
       "      <td>1.000000</td>\n",
       "      <td>1.000000</td>\n",
       "      <td>0.000000</td>\n",
       "      <td>0.000000</td>\n",
       "      <td>0.000000</td>\n",
       "      <td>0.000000</td>\n",
       "      <td>0.000000</td>\n",
       "      <td>0.000000</td>\n",
       "      <td>1.000000</td>\n",
       "      <td>1.000000</td>\n",
       "    </tr>\n",
       "    <tr>\n",
       "      <th>max</th>\n",
       "      <td>46.600000</td>\n",
       "      <td>8.000000</td>\n",
       "      <td>400.000000</td>\n",
       "      <td>165.000000</td>\n",
       "      <td>4997.000000</td>\n",
       "      <td>22.200000</td>\n",
       "      <td>82.000000</td>\n",
       "      <td>1.000000</td>\n",
       "      <td>1.000000</td>\n",
       "      <td>1.000000</td>\n",
       "      <td>1.000000</td>\n",
       "      <td>1.000000</td>\n",
       "      <td>1.000000</td>\n",
       "      <td>1.000000</td>\n",
       "      <td>1.000000</td>\n",
       "      <td>1.000000</td>\n",
       "      <td>1.000000</td>\n",
       "      <td>1.000000</td>\n",
       "      <td>1.000000</td>\n",
       "    </tr>\n",
       "  </tbody>\n",
       "</table>\n",
       "</div>"
      ],
      "text/plain": [
       "              mpg   cylinders  displacement  horsepower       weight  \\\n",
       "count  371.000000  371.000000    371.000000  371.000000   371.000000   \n",
       "mean    25.370350    5.086253    166.576819   92.630728  2818.695418   \n",
       "std      7.410867    1.520348     86.035734   25.640256   741.854547   \n",
       "min     11.000000    3.000000    -30.000000   46.000000  1649.000000   \n",
       "25%     19.200000    4.000000     98.000000   72.000000  2189.000000   \n",
       "50%     25.000000    4.000000    134.000000   90.000000  2686.000000   \n",
       "75%     31.000000    6.000000    231.000000  105.000000  3336.000000   \n",
       "max     46.600000    8.000000    400.000000  165.000000  4997.000000   \n",
       "\n",
       "       acceleration  model_year    Sedans_1       japan         usa  \\\n",
       "count    371.000000  371.000000  371.000000  371.000000  371.000000   \n",
       "mean      16.048518   77.350404    0.606469    0.229111    0.533693   \n",
       "std        2.376852    3.100326    0.489193    0.420828    0.499537   \n",
       "min       11.100000   70.000000    0.000000    0.000000    0.000000   \n",
       "25%       14.500000   75.000000    0.000000    0.000000    0.000000   \n",
       "50%       15.800000   78.000000    1.000000    0.000000    1.000000   \n",
       "75%       17.400000   80.000000    1.000000    0.000000    1.000000   \n",
       "max       22.200000   82.000000    1.000000    1.000000    1.000000   \n",
       "\n",
       "        chevrolet      nissan     peugeot        saab      toyota  volkswagen  \\\n",
       "count  371.000000  371.000000  371.000000  371.000000  371.000000  371.000000   \n",
       "mean     0.412399    0.002695    0.097035    0.040431    0.188679    0.148248   \n",
       "std      0.492931    0.051917    0.296405    0.197234    0.391782    0.355826   \n",
       "min      0.000000    0.000000    0.000000    0.000000    0.000000    0.000000   \n",
       "25%      0.000000    0.000000    0.000000    0.000000    0.000000    0.000000   \n",
       "50%      0.000000    0.000000    0.000000    0.000000    0.000000    0.000000   \n",
       "75%      1.000000    0.000000    0.000000    0.000000    0.000000    0.000000   \n",
       "max      1.000000    1.000000    1.000000    1.000000    1.000000    1.000000   \n",
       "\n",
       "            volvo   Medium_HP     High_HP  \n",
       "count  371.000000  371.000000  371.000000  \n",
       "mean     0.053908    0.345013    0.312668  \n",
       "std      0.226142    0.476015    0.464207  \n",
       "min      0.000000    0.000000    0.000000  \n",
       "25%      0.000000    0.000000    0.000000  \n",
       "50%      0.000000    0.000000    0.000000  \n",
       "75%      0.000000    1.000000    1.000000  \n",
       "max      1.000000    1.000000    1.000000  "
      ]
     },
     "execution_count": 49,
     "metadata": {},
     "output_type": "execute_result"
    }
   ],
   "source": [
    "final_data.describe()"
   ]
  },
  {
   "cell_type": "code",
   "execution_count": 50,
   "metadata": {
    "colab": {
     "base_uri": "https://localhost:8080/",
     "height": 510
    },
    "id": "ZP189BPJK4k5",
    "outputId": "c23ed1e6-ef44-4821-88ec-d0aa8fe4c308"
   },
   "outputs": [
    {
     "name": "stdout",
     "output_type": "stream",
     "text": [
      "<class 'pandas.core.frame.DataFrame'>\n",
      "Int64Index: 371 entries, 0 to 370\n",
      "Data columns (total 22 columns):\n",
      " #   Column        Non-Null Count  Dtype  \n",
      "---  ------        --------------  -----  \n",
      " 0   mpg           371 non-null    float64\n",
      " 1   cylinders     371 non-null    float64\n",
      " 2   displacement  371 non-null    float64\n",
      " 3   horsepower    371 non-null    float64\n",
      " 4   weight        371 non-null    float64\n",
      " 5   acceleration  371 non-null    float64\n",
      " 6   model_year    371 non-null    float64\n",
      " 7   origin        371 non-null    object \n",
      " 8   name          371 non-null    object \n",
      " 9   Type          371 non-null    object \n",
      " 10  Sedans_1      371 non-null    int64  \n",
      " 11  japan         371 non-null    uint8  \n",
      " 12  usa           371 non-null    uint8  \n",
      " 13  chevrolet     371 non-null    uint8  \n",
      " 14  nissan        371 non-null    uint8  \n",
      " 15  peugeot       371 non-null    uint8  \n",
      " 16  saab          371 non-null    uint8  \n",
      " 17  toyota        371 non-null    uint8  \n",
      " 18  volkswagen    371 non-null    uint8  \n",
      " 19  volvo         371 non-null    uint8  \n",
      " 20  Medium_HP     371 non-null    uint8  \n",
      " 21  High_HP       371 non-null    uint8  \n",
      "dtypes: float64(7), int64(1), object(3), uint8(11)\n",
      "memory usage: 48.8+ KB\n"
     ]
    }
   ],
   "source": [
    "final_data.info()"
   ]
  },
  {
   "cell_type": "markdown",
   "metadata": {
    "id": "Qo0pbI8qLO5i"
   },
   "source": [
    "#### So, just to recap. Here was our procedure for engineering our features (columns)\n",
    "\n",
    "1. Remove mostly empty column = given that with so much missing data, the column appeared useless\n",
    "2. Remove mostly empty rows = given that with so much missing data, the rows appeared useless\n",
    "3. Replaced missing data with median = since median is less affected by outliers\n",
    "4. Removed duplicates = since we shouldn't have any in this dataset\n",
    "5. Dummy coded categorical columns = so we can analyze them later\n",
    "6. Binned Horsepower = to examine how binning affects analyses\n",
    "7. Removed clearly erroneous data = since we know our data is ratio and data below 0 cannot occur\n",
    "8. Removed outliers with IQR = since we had some outliers in the data"
   ]
  },
  {
   "cell_type": "markdown",
   "metadata": {
    "id": "949hYnxcpaNV"
   },
   "source": [
    "#### This is just one example of how to clean and transform the data. We could have done these steps in a slightly different order. We could have done more than this (e.g., transforming skewed data, remove bivariate outliers, bucket horsepower then make it numerical/ordinal, etc)"
   ]
  },
  {
   "cell_type": "code",
   "execution_count": 51,
   "metadata": {
    "id": "xAMW1kNXK7Gd"
   },
   "outputs": [],
   "source": [
    "final_data.to_csv('fixed_mpg.csv')"
   ]
  },
  {
   "cell_type": "markdown",
   "metadata": {
    "id": "G2Yf7eZXLql4"
   },
   "source": [
    "#### Now that the data is saved, we can being to analyze it next week or so!"
   ]
  }
 ],
 "metadata": {
  "colab": {
   "collapsed_sections": [],
   "name": "s21_Lecture09_dummy_outliers.ipynb",
   "provenance": []
  },
  "kernelspec": {
   "display_name": "Python 3",
   "name": "python3"
  },
  "language_info": {
   "codemirror_mode": {
    "name": "ipython",
    "version": 3
   },
   "file_extension": ".py",
   "mimetype": "text/x-python",
   "name": "python",
   "nbconvert_exporter": "python",
   "pygments_lexer": "ipython3",
   "version": "3.8.3"
  }
 },
 "nbformat": 4,
 "nbformat_minor": 0
}