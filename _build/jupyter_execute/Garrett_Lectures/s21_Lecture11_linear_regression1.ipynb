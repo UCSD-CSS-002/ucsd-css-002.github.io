{
 "cells": [
  {
   "cell_type": "markdown",
   "metadata": {
    "id": "h0KGQbYdDC3z"
   },
   "source": [
    "Announcements\n",
    "1. Problem set 6 and quiz 6 due\n",
    "2. Discussion board 2 and quiz 5 will be graded this weekend\n",
    "3. How is the final project coming along?\n",
    "\n",
    "Today's topic\n",
    "1. What is linear regression?\n",
    "2. Doing linear regression with linear algebra\n",
    "3. Doing linear regression with sklearn"
   ]
  },
  {
   "cell_type": "markdown",
   "metadata": {
    "id": "9t5ZW9WbkydI"
   },
   "source": [
    "First, let's get our libraries. We are also getting a library called inv, which we will need for our calculation"
   ]
  },
  {
   "cell_type": "code",
   "execution_count": 1,
   "metadata": {
    "id": "uUe3kT265za3"
   },
   "outputs": [],
   "source": [
    "import numpy as np\n",
    "import pandas as pd\n",
    "import matplotlib.pyplot as plt\n",
    "import seaborn as sns\n",
    "from numpy.linalg import inv"
   ]
  },
  {
   "cell_type": "markdown",
   "metadata": {
    "id": "pzeaSkUOk3ET"
   },
   "source": [
    "Here, let's load our dataset that we feature engineered. "
   ]
  },
  {
   "cell_type": "code",
   "execution_count": 2,
   "metadata": {
    "colab": {
     "base_uri": "https://localhost:8080/",
     "height": 224
    },
    "id": "kY3865pW6Pq3",
    "outputId": "431c3302-b81d-40c3-98fd-0ea090111f72"
   },
   "outputs": [
    {
     "data": {
      "text/html": [
       "<div>\n",
       "<style scoped>\n",
       "    .dataframe tbody tr th:only-of-type {\n",
       "        vertical-align: middle;\n",
       "    }\n",
       "\n",
       "    .dataframe tbody tr th {\n",
       "        vertical-align: top;\n",
       "    }\n",
       "\n",
       "    .dataframe thead th {\n",
       "        text-align: right;\n",
       "    }\n",
       "</style>\n",
       "<table border=\"1\" class=\"dataframe\">\n",
       "  <thead>\n",
       "    <tr style=\"text-align: right;\">\n",
       "      <th></th>\n",
       "      <th>mpg</th>\n",
       "      <th>cylinders</th>\n",
       "      <th>displacement</th>\n",
       "      <th>horsepower</th>\n",
       "      <th>weight</th>\n",
       "      <th>acceleration</th>\n",
       "      <th>model_year</th>\n",
       "      <th>origin</th>\n",
       "      <th>name</th>\n",
       "      <th>Type</th>\n",
       "      <th>...</th>\n",
       "      <th>peugeot</th>\n",
       "      <th>toyota</th>\n",
       "      <th>volkswagen</th>\n",
       "      <th>volvo</th>\n",
       "      <th>Sedan0</th>\n",
       "      <th>japan</th>\n",
       "      <th>usa</th>\n",
       "      <th>MediumHP</th>\n",
       "      <th>HighHP</th>\n",
       "      <th>HP_ordinal</th>\n",
       "    </tr>\n",
       "  </thead>\n",
       "  <tbody>\n",
       "    <tr>\n",
       "      <th>0</th>\n",
       "      <td>18.0</td>\n",
       "      <td>8.0</td>\n",
       "      <td>307.000000</td>\n",
       "      <td>130.000000</td>\n",
       "      <td>3504.0</td>\n",
       "      <td>12.000000</td>\n",
       "      <td>70.0</td>\n",
       "      <td>usa</td>\n",
       "      <td>chevrolet</td>\n",
       "      <td>Sedan</td>\n",
       "      <td>...</td>\n",
       "      <td>0</td>\n",
       "      <td>0</td>\n",
       "      <td>0</td>\n",
       "      <td>0</td>\n",
       "      <td>0</td>\n",
       "      <td>0</td>\n",
       "      <td>1</td>\n",
       "      <td>0</td>\n",
       "      <td>1</td>\n",
       "      <td>3</td>\n",
       "    </tr>\n",
       "    <tr>\n",
       "      <th>1</th>\n",
       "      <td>14.0</td>\n",
       "      <td>8.0</td>\n",
       "      <td>167.405634</td>\n",
       "      <td>92.497143</td>\n",
       "      <td>4354.0</td>\n",
       "      <td>16.007471</td>\n",
       "      <td>70.0</td>\n",
       "      <td>usa</td>\n",
       "      <td>chevrolet</td>\n",
       "      <td>Sedan</td>\n",
       "      <td>...</td>\n",
       "      <td>0</td>\n",
       "      <td>0</td>\n",
       "      <td>0</td>\n",
       "      <td>0</td>\n",
       "      <td>0</td>\n",
       "      <td>0</td>\n",
       "      <td>1</td>\n",
       "      <td>0</td>\n",
       "      <td>1</td>\n",
       "      <td>3</td>\n",
       "    </tr>\n",
       "    <tr>\n",
       "      <th>2</th>\n",
       "      <td>15.0</td>\n",
       "      <td>8.0</td>\n",
       "      <td>400.000000</td>\n",
       "      <td>150.000000</td>\n",
       "      <td>3761.0</td>\n",
       "      <td>16.007471</td>\n",
       "      <td>70.0</td>\n",
       "      <td>usa</td>\n",
       "      <td>chevrolet</td>\n",
       "      <td>Sedan</td>\n",
       "      <td>...</td>\n",
       "      <td>0</td>\n",
       "      <td>0</td>\n",
       "      <td>0</td>\n",
       "      <td>0</td>\n",
       "      <td>0</td>\n",
       "      <td>0</td>\n",
       "      <td>1</td>\n",
       "      <td>0</td>\n",
       "      <td>1</td>\n",
       "      <td>3</td>\n",
       "    </tr>\n",
       "    <tr>\n",
       "      <th>3</th>\n",
       "      <td>24.0</td>\n",
       "      <td>4.0</td>\n",
       "      <td>113.000000</td>\n",
       "      <td>95.000000</td>\n",
       "      <td>2372.0</td>\n",
       "      <td>15.000000</td>\n",
       "      <td>70.0</td>\n",
       "      <td>japan</td>\n",
       "      <td>toyota</td>\n",
       "      <td>Coupe</td>\n",
       "      <td>...</td>\n",
       "      <td>0</td>\n",
       "      <td>1</td>\n",
       "      <td>0</td>\n",
       "      <td>0</td>\n",
       "      <td>1</td>\n",
       "      <td>1</td>\n",
       "      <td>0</td>\n",
       "      <td>1</td>\n",
       "      <td>0</td>\n",
       "      <td>2</td>\n",
       "    </tr>\n",
       "    <tr>\n",
       "      <th>4</th>\n",
       "      <td>26.0</td>\n",
       "      <td>4.0</td>\n",
       "      <td>12.000000</td>\n",
       "      <td>46.000000</td>\n",
       "      <td>1835.0</td>\n",
       "      <td>20.500000</td>\n",
       "      <td>70.0</td>\n",
       "      <td>europe</td>\n",
       "      <td>volkswagen</td>\n",
       "      <td>Coupe</td>\n",
       "      <td>...</td>\n",
       "      <td>0</td>\n",
       "      <td>0</td>\n",
       "      <td>1</td>\n",
       "      <td>0</td>\n",
       "      <td>1</td>\n",
       "      <td>0</td>\n",
       "      <td>0</td>\n",
       "      <td>0</td>\n",
       "      <td>0</td>\n",
       "      <td>1</td>\n",
       "    </tr>\n",
       "  </tbody>\n",
       "</table>\n",
       "<p>5 rows × 23 columns</p>\n",
       "</div>"
      ],
      "text/plain": [
       "    mpg  cylinders  displacement  horsepower  weight  acceleration  \\\n",
       "0  18.0        8.0    307.000000  130.000000  3504.0     12.000000   \n",
       "1  14.0        8.0    167.405634   92.497143  4354.0     16.007471   \n",
       "2  15.0        8.0    400.000000  150.000000  3761.0     16.007471   \n",
       "3  24.0        4.0    113.000000   95.000000  2372.0     15.000000   \n",
       "4  26.0        4.0     12.000000   46.000000  1835.0     20.500000   \n",
       "\n",
       "   model_year  origin        name   Type  ...  peugeot  toyota  volkswagen  \\\n",
       "0        70.0     usa   chevrolet  Sedan  ...        0       0           0   \n",
       "1        70.0     usa   chevrolet  Sedan  ...        0       0           0   \n",
       "2        70.0     usa   chevrolet  Sedan  ...        0       0           0   \n",
       "3        70.0   japan      toyota  Coupe  ...        0       1           0   \n",
       "4        70.0  europe  volkswagen  Coupe  ...        0       0           1   \n",
       "\n",
       "   volvo  Sedan0  japan  usa  MediumHP  HighHP  HP_ordinal  \n",
       "0      0       0      0    1         0       1           3  \n",
       "1      0       0      0    1         0       1           3  \n",
       "2      0       0      0    1         0       1           3  \n",
       "3      0       1      1    0         1       0           2  \n",
       "4      0       1      0    0         0       0           1  \n",
       "\n",
       "[5 rows x 23 columns]"
      ]
     },
     "execution_count": 2,
     "metadata": {},
     "output_type": "execute_result"
    }
   ],
   "source": [
    "data = pd.read_csv('final_mpg_dataset.csv')\n",
    "data.head()"
   ]
  },
  {
   "cell_type": "markdown",
   "metadata": {
    "id": "-ZhkIHA9k6A6"
   },
   "source": [
    "I think a good relationship to investigate first is horsepower against weight\n",
    "\n",
    "Based on how the data looks, it looks like there is a strong positive relationship. As horsepower increases, so does weight "
   ]
  },
  {
   "cell_type": "code",
   "execution_count": 3,
   "metadata": {
    "colab": {
     "base_uri": "https://localhost:8080/",
     "height": 350
    },
    "id": "Usb1AsZ86ULl",
    "outputId": "c7953302-1541-4eec-8282-74b53ab99cc8"
   },
   "outputs": [
    {
     "name": "stderr",
     "output_type": "stream",
     "text": [
      "/opt/anaconda3/lib/python3.8/site-packages/seaborn/_decorators.py:36: FutureWarning: Pass the following variables as keyword args: x, y. From version 0.12, the only valid positional argument will be `data`, and passing other arguments without an explicit keyword will result in an error or misinterpretation.\n",
      "  warnings.warn(\n"
     ]
    },
    {
     "data": {
      "text/plain": [
       "<AxesSubplot:xlabel='horsepower', ylabel='weight'>"
      ]
     },
     "execution_count": 3,
     "metadata": {},
     "output_type": "execute_result"
    },
    {
     "data": {
      "image/png": "[encoded data removed]",
      "text/plain": [
       "<Figure size 432x288 with 1 Axes>"
      ]
     },
     "metadata": {
      "filenames": {
       "image/png": "/Users/erikbrockbank/web/teaching/ucsd-css-002.github.io/_build/jupyter_execute/Garrett_Lectures/s21_Lecture11_linear_regression1_6_2.png"
      },
      "needs_background": "light"
     },
     "output_type": "display_data"
    }
   ],
   "source": [
    "sns.scatterplot(data['horsepower'],data['weight'])"
   ]
  },
  {
   "cell_type": "markdown",
   "metadata": {
    "id": "u99AFDpFlPTs"
   },
   "source": [
    "Now, let's rearrange the data a little bit. To do our calculation using linear algebra, we will turn out horsepower series into an array that is n by 1, with n being the number of observations"
   ]
  },
  {
   "cell_type": "code",
   "execution_count": 4,
   "metadata": {
    "colab": {
     "base_uri": "https://localhost:8080/"
    },
    "id": "iaKHRj1q6nZf",
    "outputId": "ce77e5f6-abd0-4fc2-b2f1-a7ea446a40e1"
   },
   "outputs": [
    {
     "data": {
      "text/plain": [
       "(358, 1)"
      ]
     },
     "execution_count": 4,
     "metadata": {},
     "output_type": "execute_result"
    }
   ],
   "source": [
    "X = np.array(data['horsepower'])\n",
    "X = X.reshape((len(X), 1))\n",
    "X.shape"
   ]
  },
  {
   "cell_type": "markdown",
   "metadata": {
    "id": "ADy6cB92lYrB"
   },
   "source": [
    "And for the thing we want to predict or explain, we will create an array. Note that y should be 1-dimensional. It should just be size n. Not n by 1"
   ]
  },
  {
   "cell_type": "code",
   "execution_count": 5,
   "metadata": {
    "colab": {
     "base_uri": "https://localhost:8080/"
    },
    "id": "VPZMPr4K68GL",
    "outputId": "65bfa2f9-a317-4b45-f3a4-364f3cfbcd64"
   },
   "outputs": [
    {
     "data": {
      "text/plain": [
       "(358,)"
      ]
     },
     "execution_count": 5,
     "metadata": {},
     "output_type": "execute_result"
    }
   ],
   "source": [
    "y = np.array(data['weight'])\n",
    "y.shape"
   ]
  },
  {
   "cell_type": "markdown",
   "metadata": {
    "id": "KZ6RUe3ylj2h"
   },
   "source": [
    "Now, here is the equation we will use.\n",
    "\n",
    "Its a bit complicated. Its simply a rearranging of the variables in the equation \"yi = bxi\" (which is the samea s y = mx), whereby we are solving for b (our betas)\n"
   ]
  },
  {
   "cell_type": "code",
   "execution_count": 6,
   "metadata": {
    "id": "Yh3GDUdv7AyU"
   },
   "outputs": [],
   "source": [
    "b = inv(X.T.dot(X)).dot(X.T).dot(y)"
   ]
  },
  {
   "cell_type": "markdown",
   "metadata": {
    "id": "s2yB06hWmww_"
   },
   "source": [
    "The beta that comes out tells us the slope of the line."
   ]
  },
  {
   "cell_type": "code",
   "execution_count": 7,
   "metadata": {
    "colab": {
     "base_uri": "https://localhost:8080/"
    },
    "id": "EvRLzc667VM-",
    "outputId": "0786d790-4da5-4244-c2a7-6b2d825cfa0e"
   },
   "outputs": [
    {
     "name": "stdout",
     "output_type": "stream",
     "text": [
      "[30.00934642]\n"
     ]
    }
   ],
   "source": [
    "print(b)"
   ]
  },
  {
   "cell_type": "markdown",
   "metadata": {
    "id": "68EW25rQm0i3"
   },
   "source": [
    "So, our equation is \n",
    "\n",
    "y = 30.009 * x\n",
    "\n",
    "or \n",
    "\n",
    "weight = 30.009 * horsepower"
   ]
  },
  {
   "cell_type": "markdown",
   "metadata": {
    "id": "c2kblgxAnCyI"
   },
   "source": [
    "We can then find the predicted y values by multiplying our X values by the return beta\n",
    "\n",
    "Note that it is using this dot multiplication, since X is a matrix\n",
    "\n",
    "If we printed the output, these are the corresponding y values from that equation"
   ]
  },
  {
   "cell_type": "code",
   "execution_count": 8,
   "metadata": {
    "id": "o3IfoE4u7XKM"
   },
   "outputs": [
    {
     "name": "stdout",
     "output_type": "stream",
     "text": [
      "[3901.21503459 2775.77880285 4501.40196298 2850.88790989 1380.42993531\n",
      " 2610.81313853 2700.84117779 2850.88790989 2700.84117779 2850.88790989\n",
      " 3000.93464199 4951.54215928 2160.67294223 2100.65424939 1800.56078519\n",
      " 2850.88790989 2775.77880285 2700.84117779 4951.54215928 3901.21503459\n",
      " 3361.04679903 2610.81313853 2910.90660273 2640.82248495 4351.35523088\n",
      " 4501.40196298 3000.93464199 1380.42993531 4501.40196298 2640.82248495\n",
      " 2160.67294223 4351.35523088 2730.85052421 3361.04679903 3301.02810619\n",
      " 3661.14026323 3000.93464199 1950.60751729 3000.93464199 2490.77575285\n",
      " 2010.62621013 1560.48601383 3150.98137409 4351.35523088 3150.98137409\n",
      " 3301.02810619 2250.70098149 2880.89725631 2130.66359581 2100.65424939\n",
      " 2850.88790989 2640.82248495 2940.91594915 3451.07483829 4201.30849878\n",
      " 3150.98137409 1560.48601383 1800.56078519 2130.66359581 3060.95333483\n",
      " 2640.82248495 3241.00941335 4351.35523088 3301.02810619 2775.77880285\n",
      " 2340.72902075 2250.70098149 1890.58882445 2340.72902075 1440.44862815\n",
      " 2850.88790989 4351.35523088 2040.63555655 2850.88790989 2850.88790989\n",
      " 3090.96268125 3751.16830249 3451.07483829 3991.24307384 2130.66359581\n",
      " 3901.21503459 3751.16830249 2130.66359581 3451.07483829 1800.56078519\n",
      " 2100.65424939 2700.84117779 2340.72902075 2700.84117779 2250.70098149\n",
      " 2010.62621013 1860.57947803 3301.02810619 1740.54209235 1860.57947803\n",
      " 2250.70098149 2400.74771359 2280.71032791 3481.08418471 2640.82248495\n",
      " 2640.82248495 2640.82248495 2220.69163507 2640.82248495 2100.65424939\n",
      " 2880.89725631 2700.84117779 2700.84117779 3000.93464199 3000.93464199\n",
      " 2010.62621013 2400.74771359 1950.60751729 2250.70098149 3000.93464199\n",
      " 3301.02810619 3150.98137409 4201.30849878 4501.40196298 4501.40196298\n",
      " 4201.30849878 2490.77575285 2010.62621013 2340.72902075 1560.48601383\n",
      " 1830.57013161 2250.70098149 2250.70098149 2250.70098149 2910.90660273\n",
      " 2790.86921705 2010.62621013 2850.88790989 3150.98137409 2160.67294223\n",
      " 2160.67294223 2775.77880285 4501.40196298 4441.38327014 3301.02810619\n",
      " 3150.98137409 3301.02810619 2850.88790989 3301.02810619 3301.02810619\n",
      " 3871.20568817 3000.93464199 2340.72902075 2880.89725631 2130.66359581\n",
      " 2910.90660273 2910.90660273 2100.65424939 2700.84117779 2850.88790989\n",
      " 2640.82248495 2940.91594915 3451.07483829 1590.49536025 2580.80379211\n",
      " 2430.75706001 2760.85987063 2370.73836717 2490.77575285 4201.30849878\n",
      " 4501.40196298 3601.12157039 3000.93464199 3150.98137409 2430.75706001\n",
      " 2700.84117779 1560.48601383 2100.65424939 1590.49536025 3000.93464199\n",
      " 2340.72902075 3301.02810619 2850.88790989 2130.66359581 2100.65424939\n",
      " 2250.70098149 2160.67294223 3060.95333483 4501.40196298 2640.82248495\n",
      " 3241.00941335 3601.12157039 2775.77880285 4351.35523088 3901.21503459\n",
      " 4501.40196298 2040.63555655 1740.54209235 2880.89725631 2100.65424939\n",
      " 3301.02810619 4351.35523088 3901.21503459 3301.02810619 3150.98137409\n",
      " 3000.93464199 2940.91594915 2775.77880285 2775.77880285 2775.77880285\n",
      " 4471.39261656 2340.72902075 2640.82248495 2250.70098149 2670.83183137\n",
      " 1890.58882445 2490.77575285 2010.62621013 2340.72902075 2910.90660273\n",
      " 3301.02810619 3301.02810619 1440.44862815 1980.61686371 1560.48601383\n",
      " 1800.56078519 3301.02810619 4201.30849878 4171.29915236 3150.98137409\n",
      " 2850.88790989 2550.79444569 2640.82248495 3000.93464199 2700.84117779\n",
      " 3150.98137409 2550.79444569 3301.02810619 3601.12157039 4951.54215928\n",
      " 4171.29915236 4201.30849878 2850.88790989 2910.90660273 2250.70098149\n",
      " 2850.88790989 3150.98137409 2550.79444569 2910.90660273 3090.96268125\n",
      " 3451.07483829 3991.24307384 2040.63555655 3451.07483829 2550.79444569\n",
      " 2640.82248495 2700.84117779 3301.02810619 3901.21503459 3871.20568817\n",
      " 4141.28980594 4051.26176668 4651.44869508 4261.32719162 3751.16830249\n",
      " 4501.40196298 2130.66359581 1950.60751729 2400.74771359 2400.74771359\n",
      " 3751.16830249 2130.66359581 2700.84117779 2100.65424939 2100.65424939\n",
      " 1950.60751729 2070.64490297 2700.84117779 3451.07483829 2700.84117779\n",
      " 2280.71032791 1800.56078519 1950.60751729 2700.84117779 2640.82248495\n",
      " 2700.84117779 2700.84117779 2340.72902075 2700.84117779 2250.70098149\n",
      " 2760.85987063 2250.70098149 1950.60751729 3150.98137409 1950.60751729\n",
      " 1440.44862815 1440.44862815 2010.62621013 2010.62621013 2010.62621013\n",
      " 2700.84117779 2010.62621013 1860.57947803 3961.23372743 2640.82248495\n",
      " 2700.84117779 2160.67294223 2520.78509927 2520.78509927 2760.85987063\n",
      " 3301.02810619 2520.78509927 1740.54209235 1920.59817087 1800.56078519\n",
      " 2010.62621013 1950.60751729 1860.57947803 2040.63555655 1890.58882445\n",
      " 1950.60751729 1950.60751729 2220.69163507 2700.84117779 2250.70098149\n",
      " 2250.70098149 3000.93464199 2220.69163507 2400.74771359 2280.71032791\n",
      " 3301.02810619 3150.98137409 2640.82248495 2550.79444569 2640.82248495\n",
      " 2640.82248495 2550.79444569 2520.78509927 2700.84117779 2760.85987063\n",
      " 2700.84117779 2220.69163507 2040.63555655 2040.63555655 1890.58882445\n",
      " 2100.65424939 2640.82248495 2250.70098149 2100.65424939 2010.62621013\n",
      " 2010.62621013 3301.02810619 2550.79444569 2760.85987063 3361.04679903\n",
      " 2880.89725631 2520.78509927 2700.84117779 2580.80379211 1560.48601383\n",
      " 2520.78509927 2370.73836717 2460.76640643]\n"
     ]
    }
   ],
   "source": [
    "yhat = X.dot(b)\n",
    "print(yhat)"
   ]
  },
  {
   "cell_type": "markdown",
   "metadata": {
    "id": "l9ZMVQJUnMN8"
   },
   "source": [
    "We can plot these y values and see that it forms a line"
   ]
  },
  {
   "cell_type": "code",
   "execution_count": 9,
   "metadata": {
    "colab": {
     "base_uri": "https://localhost:8080/",
     "height": 282
    },
    "id": "z_7YGph_7d8y",
    "outputId": "52a1490e-3e11-472d-a3e5-e4829d54fc32"
   },
   "outputs": [
    {
     "data": {
      "text/plain": [
       "[<matplotlib.lines.Line2D at 0x7f85972b2fd0>]"
      ]
     },
     "execution_count": 9,
     "metadata": {},
     "output_type": "execute_result"
    },
    {
     "data": {
      "image/png": "[encoded data removed]",
      "text/plain": [
       "<Figure size 432x288 with 1 Axes>"
      ]
     },
     "metadata": {
      "filenames": {
       "image/png": "/Users/erikbrockbank/web/teaching/ucsd-css-002.github.io/_build/jupyter_execute/Garrett_Lectures/s21_Lecture11_linear_regression1_19_1.png"
      },
      "needs_background": "light"
     },
     "output_type": "display_data"
    }
   ],
   "source": [
    "plt.scatter(X, y)\n",
    "plt.plot(X, yhat, color='red')"
   ]
  },
  {
   "cell_type": "markdown",
   "metadata": {
    "id": "rUuZqZO3nT9h"
   },
   "source": [
    "Super cool!\n",
    "\n",
    "But, something is missing from our regression.\n",
    "\n",
    "What do you think it is?\n",
    "\n",
    "It may be obvious in hindsight, but we didn't account for the intercept."
   ]
  },
  {
   "cell_type": "code",
   "execution_count": 10,
   "metadata": {
    "colab": {
     "base_uri": "https://localhost:8080/",
     "height": 286
    },
    "id": "MEBOxkkBEDU4",
    "outputId": "d6df72e5-7a47-4f95-9083-0593a0a09089"
   },
   "outputs": [
    {
     "data": {
      "text/plain": [
       "(0.0, 170.0)"
      ]
     },
     "execution_count": 10,
     "metadata": {},
     "output_type": "execute_result"
    },
    {
     "data": {
      "image/png": "[encoded data removed]",
      "text/plain": [
       "<Figure size 432x288 with 1 Axes>"
      ]
     },
     "metadata": {
      "filenames": {
       "image/png": "/Users/erikbrockbank/web/teaching/ucsd-css-002.github.io/_build/jupyter_execute/Garrett_Lectures/s21_Lecture11_linear_regression1_21_1.png"
      },
      "needs_background": "light"
     },
     "output_type": "display_data"
    }
   ],
   "source": [
    "plt.scatter(X, y)\n",
    "plt.plot(X, yhat, color='red')\n",
    "plt.ylim([0,5000])\n",
    "plt.xlim([0,170])"
   ]
  },
  {
   "cell_type": "markdown",
   "metadata": {
    "id": "8VEdStRjnbX-"
   },
   "source": [
    "If you zoom out, you will see that the line will pass right through 0,0. "
   ]
  },
  {
   "cell_type": "markdown",
   "metadata": {
    "id": "GCcATf0HEIUu"
   },
   "source": [
    "Maybe the y-intercept will be pretty helpful, so let's add it \n",
    "\n",
    "To do so, we basically add a column of 1s to our X matrix. This is like adding a constant to our X values"
   ]
  },
  {
   "cell_type": "code",
   "execution_count": 11,
   "metadata": {
    "id": "0tA0hWt3-DHt"
   },
   "outputs": [],
   "source": [
    "b0 = np.ones((len(X), 1))"
   ]
  },
  {
   "cell_type": "markdown",
   "metadata": {
    "id": "3iarNzaSnwGO"
   },
   "source": [
    "Now, we can concatenate with our original data to form this new n by 2 matrix"
   ]
  },
  {
   "cell_type": "code",
   "execution_count": 12,
   "metadata": {
    "id": "l5GDZAJY-YcS"
   },
   "outputs": [
    {
     "name": "stdout",
     "output_type": "stream",
     "text": [
      "[[  1.         130.        ]\n",
      " [  1.          92.49714286]\n",
      " [  1.         150.        ]\n",
      " [  1.          95.        ]\n",
      " [  1.          46.        ]\n",
      " [  1.          87.        ]\n",
      " [  1.          90.        ]\n",
      " [  1.          95.        ]\n",
      " [  1.          90.        ]\n",
      " [  1.          95.        ]\n",
      " [  1.         100.        ]\n",
      " [  1.         165.        ]\n",
      " [  1.          72.        ]\n",
      " [  1.          70.        ]\n",
      " [  1.          60.        ]\n",
      " [  1.          95.        ]\n",
      " [  1.          92.49714286]\n",
      " [  1.          90.        ]\n",
      " [  1.         165.        ]\n",
      " [  1.         130.        ]\n",
      " [  1.         112.        ]\n",
      " [  1.          87.        ]\n",
      " [  1.          97.        ]\n",
      " [  1.          88.        ]\n",
      " [  1.         145.        ]\n",
      " [  1.         150.        ]\n",
      " [  1.         100.        ]\n",
      " [  1.          46.        ]\n",
      " [  1.         150.        ]\n",
      " [  1.          88.        ]\n",
      " [  1.          72.        ]\n",
      " [  1.         145.        ]\n",
      " [  1.          91.        ]\n",
      " [  1.         112.        ]\n",
      " [  1.         110.        ]\n",
      " [  1.         122.        ]\n",
      " [  1.         100.        ]\n",
      " [  1.          65.        ]\n",
      " [  1.         100.        ]\n",
      " [  1.          83.        ]\n",
      " [  1.          67.        ]\n",
      " [  1.          52.        ]\n",
      " [  1.         105.        ]\n",
      " [  1.         145.        ]\n",
      " [  1.         105.        ]\n",
      " [  1.         110.        ]\n",
      " [  1.          75.        ]\n",
      " [  1.          96.        ]\n",
      " [  1.          71.        ]\n",
      " [  1.          70.        ]\n",
      " [  1.          95.        ]\n",
      " [  1.          88.        ]\n",
      " [  1.          98.        ]\n",
      " [  1.         115.        ]\n",
      " [  1.         140.        ]\n",
      " [  1.         105.        ]\n",
      " [  1.          52.        ]\n",
      " [  1.          60.        ]\n",
      " [  1.          71.        ]\n",
      " [  1.         102.        ]\n",
      " [  1.          88.        ]\n",
      " [  1.         108.        ]\n",
      " [  1.         145.        ]\n",
      " [  1.         110.        ]\n",
      " [  1.          92.49714286]\n",
      " [  1.          78.        ]\n",
      " [  1.          75.        ]\n",
      " [  1.          63.        ]\n",
      " [  1.          78.        ]\n",
      " [  1.          48.        ]\n",
      " [  1.          95.        ]\n",
      " [  1.         145.        ]\n",
      " [  1.          68.        ]\n",
      " [  1.          95.        ]\n",
      " [  1.          95.        ]\n",
      " [  1.         103.        ]\n",
      " [  1.         125.        ]\n",
      " [  1.         115.        ]\n",
      " [  1.         133.        ]\n",
      " [  1.          71.        ]\n",
      " [  1.         130.        ]\n",
      " [  1.         125.        ]\n",
      " [  1.          71.        ]\n",
      " [  1.         115.        ]\n",
      " [  1.          60.        ]\n",
      " [  1.          70.        ]\n",
      " [  1.          90.        ]\n",
      " [  1.          78.        ]\n",
      " [  1.          90.        ]\n",
      " [  1.          75.        ]\n",
      " [  1.          67.        ]\n",
      " [  1.          62.        ]\n",
      " [  1.         110.        ]\n",
      " [  1.          58.        ]\n",
      " [  1.          62.        ]\n",
      " [  1.          75.        ]\n",
      " [  1.          80.        ]\n",
      " [  1.          76.        ]\n",
      " [  1.         116.        ]\n",
      " [  1.          88.        ]\n",
      " [  1.          88.        ]\n",
      " [  1.          88.        ]\n",
      " [  1.          74.        ]\n",
      " [  1.          88.        ]\n",
      " [  1.          70.        ]\n",
      " [  1.          96.        ]\n",
      " [  1.          90.        ]\n",
      " [  1.          90.        ]\n",
      " [  1.         100.        ]\n",
      " [  1.         100.        ]\n",
      " [  1.          67.        ]\n",
      " [  1.          80.        ]\n",
      " [  1.          65.        ]\n",
      " [  1.          75.        ]\n",
      " [  1.         100.        ]\n",
      " [  1.         110.        ]\n",
      " [  1.         105.        ]\n",
      " [  1.         140.        ]\n",
      " [  1.         150.        ]\n",
      " [  1.         150.        ]\n",
      " [  1.         140.        ]\n",
      " [  1.          83.        ]\n",
      " [  1.          67.        ]\n",
      " [  1.          78.        ]\n",
      " [  1.          52.        ]\n",
      " [  1.          61.        ]\n",
      " [  1.          75.        ]\n",
      " [  1.          75.        ]\n",
      " [  1.          75.        ]\n",
      " [  1.          97.        ]\n",
      " [  1.          93.        ]\n",
      " [  1.          67.        ]\n",
      " [  1.          95.        ]\n",
      " [  1.         105.        ]\n",
      " [  1.          72.        ]\n",
      " [  1.          72.        ]\n",
      " [  1.          92.49714286]\n",
      " [  1.         150.        ]\n",
      " [  1.         148.        ]\n",
      " [  1.         110.        ]\n",
      " [  1.         105.        ]\n",
      " [  1.         110.        ]\n",
      " [  1.          95.        ]\n",
      " [  1.         110.        ]\n",
      " [  1.         110.        ]\n",
      " [  1.         129.        ]\n",
      " [  1.         100.        ]\n",
      " [  1.          78.        ]\n",
      " [  1.          96.        ]\n",
      " [  1.          71.        ]\n",
      " [  1.          97.        ]\n",
      " [  1.          97.        ]\n",
      " [  1.          70.        ]\n",
      " [  1.          90.        ]\n",
      " [  1.          95.        ]\n",
      " [  1.          88.        ]\n",
      " [  1.          98.        ]\n",
      " [  1.         115.        ]\n",
      " [  1.          53.        ]\n",
      " [  1.          86.        ]\n",
      " [  1.          81.        ]\n",
      " [  1.          92.        ]\n",
      " [  1.          79.        ]\n",
      " [  1.          83.        ]\n",
      " [  1.         140.        ]\n",
      " [  1.         150.        ]\n",
      " [  1.         120.        ]\n",
      " [  1.         100.        ]\n",
      " [  1.         105.        ]\n",
      " [  1.          81.        ]\n",
      " [  1.          90.        ]\n",
      " [  1.          52.        ]\n",
      " [  1.          70.        ]\n",
      " [  1.          53.        ]\n",
      " [  1.         100.        ]\n",
      " [  1.          78.        ]\n",
      " [  1.         110.        ]\n",
      " [  1.          95.        ]\n",
      " [  1.          71.        ]\n",
      " [  1.          70.        ]\n",
      " [  1.          75.        ]\n",
      " [  1.          72.        ]\n",
      " [  1.         102.        ]\n",
      " [  1.         150.        ]\n",
      " [  1.          88.        ]\n",
      " [  1.         108.        ]\n",
      " [  1.         120.        ]\n",
      " [  1.          92.49714286]\n",
      " [  1.         145.        ]\n",
      " [  1.         130.        ]\n",
      " [  1.         150.        ]\n",
      " [  1.          68.        ]\n",
      " [  1.          58.        ]\n",
      " [  1.          96.        ]\n",
      " [  1.          70.        ]\n",
      " [  1.         110.        ]\n",
      " [  1.         145.        ]\n",
      " [  1.         130.        ]\n",
      " [  1.         110.        ]\n",
      " [  1.         105.        ]\n",
      " [  1.         100.        ]\n",
      " [  1.          98.        ]\n",
      " [  1.          92.49714286]\n",
      " [  1.          92.49714286]\n",
      " [  1.          92.49714286]\n",
      " [  1.         149.        ]\n",
      " [  1.          78.        ]\n",
      " [  1.          88.        ]\n",
      " [  1.          75.        ]\n",
      " [  1.          89.        ]\n",
      " [  1.          63.        ]\n",
      " [  1.          83.        ]\n",
      " [  1.          67.        ]\n",
      " [  1.          78.        ]\n",
      " [  1.          97.        ]\n",
      " [  1.         110.        ]\n",
      " [  1.         110.        ]\n",
      " [  1.          48.        ]\n",
      " [  1.          66.        ]\n",
      " [  1.          52.        ]\n",
      " [  1.          60.        ]\n",
      " [  1.         110.        ]\n",
      " [  1.         140.        ]\n",
      " [  1.         139.        ]\n",
      " [  1.         105.        ]\n",
      " [  1.          95.        ]\n",
      " [  1.          85.        ]\n",
      " [  1.          88.        ]\n",
      " [  1.         100.        ]\n",
      " [  1.          90.        ]\n",
      " [  1.         105.        ]\n",
      " [  1.          85.        ]\n",
      " [  1.         110.        ]\n",
      " [  1.         120.        ]\n",
      " [  1.         165.        ]\n",
      " [  1.         139.        ]\n",
      " [  1.         140.        ]\n",
      " [  1.          95.        ]\n",
      " [  1.          97.        ]\n",
      " [  1.          75.        ]\n",
      " [  1.          95.        ]\n",
      " [  1.         105.        ]\n",
      " [  1.          85.        ]\n",
      " [  1.          97.        ]\n",
      " [  1.         103.        ]\n",
      " [  1.         115.        ]\n",
      " [  1.         133.        ]\n",
      " [  1.          68.        ]\n",
      " [  1.         115.        ]\n",
      " [  1.          85.        ]\n",
      " [  1.          88.        ]\n",
      " [  1.          90.        ]\n",
      " [  1.         110.        ]\n",
      " [  1.         130.        ]\n",
      " [  1.         129.        ]\n",
      " [  1.         138.        ]\n",
      " [  1.         135.        ]\n",
      " [  1.         155.        ]\n",
      " [  1.         142.        ]\n",
      " [  1.         125.        ]\n",
      " [  1.         150.        ]\n",
      " [  1.          71.        ]\n",
      " [  1.          65.        ]\n",
      " [  1.          80.        ]\n",
      " [  1.          80.        ]\n",
      " [  1.         125.        ]\n",
      " [  1.          71.        ]\n",
      " [  1.          90.        ]\n",
      " [  1.          70.        ]\n",
      " [  1.          70.        ]\n",
      " [  1.          65.        ]\n",
      " [  1.          69.        ]\n",
      " [  1.          90.        ]\n",
      " [  1.         115.        ]\n",
      " [  1.          90.        ]\n",
      " [  1.          76.        ]\n",
      " [  1.          60.        ]\n",
      " [  1.          65.        ]\n",
      " [  1.          90.        ]\n",
      " [  1.          88.        ]\n",
      " [  1.          90.        ]\n",
      " [  1.          90.        ]\n",
      " [  1.          78.        ]\n",
      " [  1.          90.        ]\n",
      " [  1.          75.        ]\n",
      " [  1.          92.        ]\n",
      " [  1.          75.        ]\n",
      " [  1.          65.        ]\n",
      " [  1.         105.        ]\n",
      " [  1.          65.        ]\n",
      " [  1.          48.        ]\n",
      " [  1.          48.        ]\n",
      " [  1.          67.        ]\n",
      " [  1.          67.        ]\n",
      " [  1.          67.        ]\n",
      " [  1.          90.        ]\n",
      " [  1.          67.        ]\n",
      " [  1.          62.        ]\n",
      " [  1.         132.        ]\n",
      " [  1.          88.        ]\n",
      " [  1.          90.        ]\n",
      " [  1.          72.        ]\n",
      " [  1.          84.        ]\n",
      " [  1.          84.        ]\n",
      " [  1.          92.        ]\n",
      " [  1.         110.        ]\n",
      " [  1.          84.        ]\n",
      " [  1.          58.        ]\n",
      " [  1.          64.        ]\n",
      " [  1.          60.        ]\n",
      " [  1.          67.        ]\n",
      " [  1.          65.        ]\n",
      " [  1.          62.        ]\n",
      " [  1.          68.        ]\n",
      " [  1.          63.        ]\n",
      " [  1.          65.        ]\n",
      " [  1.          65.        ]\n",
      " [  1.          74.        ]\n",
      " [  1.          90.        ]\n",
      " [  1.          75.        ]\n",
      " [  1.          75.        ]\n",
      " [  1.         100.        ]\n",
      " [  1.          74.        ]\n",
      " [  1.          80.        ]\n",
      " [  1.          76.        ]\n",
      " [  1.         110.        ]\n",
      " [  1.         105.        ]\n",
      " [  1.          88.        ]\n",
      " [  1.          85.        ]\n",
      " [  1.          88.        ]\n",
      " [  1.          88.        ]\n",
      " [  1.          85.        ]\n",
      " [  1.          84.        ]\n",
      " [  1.          90.        ]\n",
      " [  1.          92.        ]\n",
      " [  1.          90.        ]\n",
      " [  1.          74.        ]\n",
      " [  1.          68.        ]\n",
      " [  1.          68.        ]\n",
      " [  1.          63.        ]\n",
      " [  1.          70.        ]\n",
      " [  1.          88.        ]\n",
      " [  1.          75.        ]\n",
      " [  1.          70.        ]\n",
      " [  1.          67.        ]\n",
      " [  1.          67.        ]\n",
      " [  1.         110.        ]\n",
      " [  1.          85.        ]\n",
      " [  1.          92.        ]\n",
      " [  1.         112.        ]\n",
      " [  1.          96.        ]\n",
      " [  1.          84.        ]\n",
      " [  1.          90.        ]\n",
      " [  1.          86.        ]\n",
      " [  1.          52.        ]\n",
      " [  1.          84.        ]\n",
      " [  1.          79.        ]\n",
      " [  1.          82.        ]] (358, 2)\n"
     ]
    }
   ],
   "source": [
    "X2 = np.concatenate((b0,X),axis=1)\n",
    "print(X2,X2.shape)"
   ]
  },
  {
   "cell_type": "markdown",
   "metadata": {
    "id": "4-8nFOsPn5cm"
   },
   "source": [
    "We can now actually pass this new X2 directly into the formula we used before"
   ]
  },
  {
   "cell_type": "code",
   "execution_count": 13,
   "metadata": {
    "colab": {
     "base_uri": "https://localhost:8080/"
    },
    "id": "nblE7WXPENvz",
    "outputId": "5a0f22ba-7988-4d37-9e57-9df747c36231"
   },
   "outputs": [
    {
     "name": "stdout",
     "output_type": "stream",
     "text": [
      "[625.80410928  23.71789311]\n"
     ]
    }
   ],
   "source": [
    "b_2 = inv(X2.T.dot(X2)).dot(X2.T).dot(y)\n",
    "print(b_2)"
   ]
  },
  {
   "cell_type": "markdown",
   "metadata": {
    "id": "hONxEJRdn-jE"
   },
   "source": [
    "Now, we have two betas! These refer to b0 and b1, which b0 being y-intercept and b1 being the parameter for our horsepower\n",
    "\n",
    "Our equation is now:\n",
    "\n",
    "weight = 625.804 + 23.717*horsepower"
   ]
  },
  {
   "cell_type": "markdown",
   "metadata": {
    "id": "S9ByA973oJEz"
   },
   "source": [
    "Let's find our new predicted y values based on the new betas"
   ]
  },
  {
   "cell_type": "code",
   "execution_count": 14,
   "metadata": {
    "id": "C2oj5HTJEQFL"
   },
   "outputs": [],
   "source": [
    "yhat2 = X2.dot(b_2)"
   ]
  },
  {
   "cell_type": "markdown",
   "metadata": {
    "id": "qS2HKl5QoLni"
   },
   "source": [
    "and now, let's look at the plot"
   ]
  },
  {
   "cell_type": "code",
   "execution_count": 15,
   "metadata": {
    "colab": {
     "base_uri": "https://localhost:8080/",
     "height": 286
    },
    "id": "yPwdbKJeEXh3",
    "outputId": "9223bacb-fd8e-49c2-ab4b-d35669066e51"
   },
   "outputs": [
    {
     "data": {
      "text/plain": [
       "(0.0, 170.0)"
      ]
     },
     "execution_count": 15,
     "metadata": {},
     "output_type": "execute_result"
    },
    {
     "data": {
      "image/png": "[encoded data removed]",
      "text/plain": [
       "<Figure size 432x288 with 1 Axes>"
      ]
     },
     "metadata": {
      "filenames": {
       "image/png": "/Users/erikbrockbank/web/teaching/ucsd-css-002.github.io/_build/jupyter_execute/Garrett_Lectures/s21_Lecture11_linear_regression1_33_1.png"
      },
      "needs_background": "light"
     },
     "output_type": "display_data"
    }
   ],
   "source": [
    "plt.scatter(X, y)\n",
    "plt.plot(X, yhat, color='red')\n",
    "plt.plot(X, yhat2, color='green')\n",
    "plt.ylim([0,5000])\n",
    "plt.xlim([0,170])"
   ]
  },
  {
   "cell_type": "markdown",
   "metadata": {
    "id": "HD5TXP1Z7_zc"
   },
   "source": [
    "Now, this is awesome we can do this with math. And its basically just one line of code. But this isn't exactly the best approach.\n",
    "\n",
    "Instead, we can utilize existing libraries. One such library comes from sklearn"
   ]
  },
  {
   "cell_type": "code",
   "execution_count": 16,
   "metadata": {
    "id": "d_OlgLov7mb8"
   },
   "outputs": [],
   "source": [
    "from sklearn.linear_model import LinearRegression"
   ]
  },
  {
   "cell_type": "markdown",
   "metadata": {
    "id": "N3EEolrZpWoS"
   },
   "source": [
    "Like we discussed, sklearn works by first defining the model\n",
    "\n",
    "Here, we also establish the hyperparameters. Different models will have different hyperparameters. For our linear regression, we will only ensure that the intercept is True (note: this is default, but its nice to have it visible, so we don't have to worry about it)"
   ]
  },
  {
   "cell_type": "code",
   "execution_count": 17,
   "metadata": {
    "id": "2G8lckuf8AT1"
   },
   "outputs": [],
   "source": [
    "model = LinearRegression(fit_intercept=True)"
   ]
  },
  {
   "cell_type": "markdown",
   "metadata": {
    "id": "44wvuAu1qkq_"
   },
   "source": [
    "The next step is doing the actual fitting, the learning, if you will. We will pass in our X and y from before. Note that we do not need to have that extra column of 1s here because we have told it to include an intercept"
   ]
  },
  {
   "cell_type": "code",
   "execution_count": 18,
   "metadata": {
    "colab": {
     "base_uri": "https://localhost:8080/"
    },
    "id": "NLzoOemc8EAc",
    "outputId": "7aaf1871-78de-461f-cb8d-d009b350e96e"
   },
   "outputs": [
    {
     "data": {
      "text/plain": [
       "LinearRegression()"
      ]
     },
     "execution_count": 18,
     "metadata": {},
     "output_type": "execute_result"
    }
   ],
   "source": [
    "model.fit(X,y) # convention is X and y"
   ]
  },
  {
   "cell_type": "markdown",
   "metadata": {
    "id": "HUA5oPyVqw2i"
   },
   "source": [
    "and.... that it is\n",
    "\n",
    "Cool\n",
    "\n",
    "We can check out the coeffecient"
   ]
  },
  {
   "cell_type": "code",
   "execution_count": 19,
   "metadata": {
    "colab": {
     "base_uri": "https://localhost:8080/"
    },
    "id": "ICYdubBq8GXz",
    "outputId": "3ac82739-b9dd-44df-e257-7cbca25b7022"
   },
   "outputs": [
    {
     "data": {
      "text/plain": [
       "array([23.71789311])"
      ]
     },
     "execution_count": 19,
     "metadata": {},
     "output_type": "execute_result"
    }
   ],
   "source": [
    "model.coef_ # SLOPE of the model"
   ]
  },
  {
   "cell_type": "markdown",
   "metadata": {
    "id": "rw1lcp1nq2BC"
   },
   "source": [
    "And the intercept"
   ]
  },
  {
   "cell_type": "code",
   "execution_count": 20,
   "metadata": {
    "colab": {
     "base_uri": "https://localhost:8080/"
    },
    "id": "tShmIVDq8JIZ",
    "outputId": "6ee2fcca-1f14-4d69-fcef-a7a454b998ab"
   },
   "outputs": [
    {
     "data": {
      "text/plain": [
       "625.8041092779526"
      ]
     },
     "execution_count": 20,
     "metadata": {},
     "output_type": "execute_result"
    }
   ],
   "source": [
    "model.intercept_ # INTERCEPT of the model"
   ]
  },
  {
   "cell_type": "markdown",
   "metadata": {
    "id": "81Wb4a5Tq3uW"
   },
   "source": [
    "So, according to sklearn, our equation is:\n",
    "\n",
    "weight = 625.804 + 23.717*horsepower\n",
    "\n",
    "This is basically the same from what we found with our linear algebra! Awesome!\n",
    "\n",
    "We can get our predicted y values from our x values by using the predict method"
   ]
  },
  {
   "cell_type": "code",
   "execution_count": 21,
   "metadata": {
    "id": "Vylttzxf8Lvg"
   },
   "outputs": [],
   "source": [
    "yfit = model.predict(X)"
   ]
  },
  {
   "cell_type": "markdown",
   "metadata": {
    "id": "j-1cjf1JrRDM"
   },
   "source": [
    "Now let's make a plot"
   ]
  },
  {
   "cell_type": "code",
   "execution_count": 22,
   "metadata": {
    "colab": {
     "base_uri": "https://localhost:8080/",
     "height": 286
    },
    "id": "GhISo4DV8O5E",
    "outputId": "ab94ff28-9334-41ef-9af4-7a1d92d47e96"
   },
   "outputs": [
    {
     "data": {
      "text/plain": [
       "(0.0, 5000.0)"
      ]
     },
     "execution_count": 22,
     "metadata": {},
     "output_type": "execute_result"
    },
    {
     "data": {
      "image/png": "[encoded data removed]",
      "text/plain": [
       "<Figure size 432x288 with 1 Axes>"
      ]
     },
     "metadata": {
      "filenames": {
       "image/png": "/Users/erikbrockbank/web/teaching/ucsd-css-002.github.io/_build/jupyter_execute/Garrett_Lectures/s21_Lecture11_linear_regression1_47_1.png"
      },
      "needs_background": "light"
     },
     "output_type": "display_data"
    }
   ],
   "source": [
    "plt.scatter(X,y)\n",
    "plt.plot(X,yfit,c='r')\n",
    "plt.plot(X, yhat, color='g')\n",
    "plt.plot(X, yhat2, color='b',linestyle=':')\n",
    "plt.xlim([0,160])\n",
    "plt.ylim([0,5000])"
   ]
  },
  {
   "cell_type": "markdown",
   "metadata": {
    "id": "gy3mJv6OFi3_"
   },
   "source": [
    "We can look at the residuals to get a feel for how good the predictions are\n",
    "\n",
    "The residuals are the difference between the predicted y values and the actual y values.\n",
    "\n",
    "As you would expect, if the residuals = 0, then we did a perfect job of fitting the data. The further away the residuals are from 0, then the worse our prediction was"
   ]
  },
  {
   "cell_type": "code",
   "execution_count": 23,
   "metadata": {
    "colab": {
     "base_uri": "https://localhost:8080/",
     "height": 350
    },
    "id": "3QP6mYYPFP9-",
    "outputId": "157c13ac-2398-44ea-e79c-142380210259"
   },
   "outputs": [
    {
     "data": {
      "text/plain": [
       "(array([  3.,  28.,  95., 103.,  73.,  27.,  19.,   3.,   5.,   2.]),\n",
       " array([-1094.2564725 ,  -799.99497091,  -505.73346931,  -211.47196772,\n",
       "           82.78953387,   377.05103546,   671.31253705,   965.57403864,\n",
       "         1259.83554023,  1554.09704183,  1848.35854342]),\n",
       " <BarContainer object of 10 artists>)"
      ]
     },
     "execution_count": 23,
     "metadata": {},
     "output_type": "execute_result"
    },
    {
     "data": {
      "image/png": "[encoded data removed]",
      "text/plain": [
       "<Figure size 432x288 with 1 Axes>"
      ]
     },
     "metadata": {
      "filenames": {
       "image/png": "/Users/erikbrockbank/web/teaching/ucsd-css-002.github.io/_build/jupyter_execute/Garrett_Lectures/s21_Lecture11_linear_regression1_49_1.png"
      },
      "needs_background": "light"
     },
     "output_type": "display_data"
    }
   ],
   "source": [
    "plt.hist(y-yfit)"
   ]
  },
  {
   "cell_type": "markdown",
   "metadata": {
    "id": "EMCVYUfbRT04"
   },
   "source": [
    "In my experience, residuals are best compared between models"
   ]
  },
  {
   "cell_type": "code",
   "execution_count": 24,
   "metadata": {
    "colab": {
     "base_uri": "https://localhost:8080/",
     "height": 282
    },
    "id": "V3RUf8V-RkWt",
    "outputId": "7151aa86-71c3-434d-fcdd-b8bab6cd2667"
   },
   "outputs": [
    {
     "data": {
      "text/plain": [
       "(-2000.0, 2000.0)"
      ]
     },
     "execution_count": 24,
     "metadata": {},
     "output_type": "execute_result"
    },
    {
     "data": {
      "image/png": "[encoded data removed]",
      "text/plain": [
       "<Figure size 432x288 with 2 Axes>"
      ]
     },
     "metadata": {
      "filenames": {
       "image/png": "/Users/erikbrockbank/web/teaching/ucsd-css-002.github.io/_build/jupyter_execute/Garrett_Lectures/s21_Lecture11_linear_regression1_51_1.png"
      },
      "needs_background": "light"
     },
     "output_type": "display_data"
    }
   ],
   "source": [
    "plt.subplot(2,1,1)\n",
    "plt.hist(y-yfit,50) # model fit with sklearn and with an intercept\n",
    "plt.xlim([-2000,2000])\n",
    "plt.subplot(2,1,2)\n",
    "plt.hist(y-yhat,50)  # model fit with math and without an intercept\n",
    "plt.xlim([-2000,2000])"
   ]
  },
  {
   "cell_type": "markdown",
   "metadata": {
    "id": "fpTNySXeR-l-"
   },
   "source": [
    "There isn't a whole lot of difference in the residuals between the model with the intercept and without the intercept in this case. It actually makes sense when we look at the plots above and see that the two lines are quite similar"
   ]
  },
  {
   "cell_type": "markdown",
   "metadata": {
    "id": "ZNHWDsQkFsep"
   },
   "source": [
    "a residual plot is the histgram plotted against the predicted values. Here, we can get a slightly better idea of the model. If we see a pattern here, for example, a wavy \"line\", then it suggests that our data is not really linear. Seeing a cloud (like below) is a good thing"
   ]
  },
  {
   "cell_type": "code",
   "execution_count": 25,
   "metadata": {
    "colab": {
     "base_uri": "https://localhost:8080/",
     "height": 336
    },
    "id": "h71fa9z9FnnU",
    "outputId": "708f241b-3230-4f28-ee33-b7d1171d82a4"
   },
   "outputs": [
    {
     "name": "stderr",
     "output_type": "stream",
     "text": [
      "/opt/anaconda3/lib/python3.8/site-packages/seaborn/_decorators.py:36: FutureWarning: Pass the following variables as keyword args: x, y. From version 0.12, the only valid positional argument will be `data`, and passing other arguments without an explicit keyword will result in an error or misinterpretation.\n",
      "  warnings.warn(\n"
     ]
    },
    {
     "data": {
      "text/plain": [
       "<AxesSubplot:>"
      ]
     },
     "execution_count": 25,
     "metadata": {},
     "output_type": "execute_result"
    },
    {
     "data": {
      "image/png": "[encoded data removed]",
      "text/plain": [
       "<Figure size 432x288 with 1 Axes>"
      ]
     },
     "metadata": {
      "filenames": {
       "image/png": "/Users/erikbrockbank/web/teaching/ucsd-css-002.github.io/_build/jupyter_execute/Garrett_Lectures/s21_Lecture11_linear_regression1_54_2.png"
      },
      "needs_background": "light"
     },
     "output_type": "display_data"
    }
   ],
   "source": [
    "sns.scatterplot(yfit,yfit-y)"
   ]
  },
  {
   "cell_type": "markdown",
   "metadata": {
    "id": "TGS4HV1UFzRn"
   },
   "source": [
    "numerically, we can check out the R2 value, which quantifies the fit \n",
    "\n",
    "R2 is basically how much better our line is compared to a line that is completely horizontal. \n",
    "\n",
    "It is the proportion of the variance in the dependent variable that is predictable from the independent variable(s).\n",
    "\n",
    "The closer to 1 R2 is, the better our fit of the data"
   ]
  },
  {
   "cell_type": "code",
   "execution_count": 26,
   "metadata": {
    "colab": {
     "base_uri": "https://localhost:8080/"
    },
    "id": "uo_zyLzJE4IG",
    "outputId": "c1893701-7f55-4cd1-ecf9-290b3b0bce67"
   },
   "outputs": [
    {
     "data": {
      "text/plain": [
       "0.6596223228824938"
      ]
     },
     "execution_count": 26,
     "metadata": {},
     "output_type": "execute_result"
    }
   ],
   "source": [
    "model.score(X,y) # Return the coefficient of determination R^2 of the prediction"
   ]
  },
  {
   "cell_type": "markdown",
   "metadata": {
    "id": "YrhBDnqzr7pt"
   },
   "source": [
    "Next class, we will talk about how to do this process in machine learning, since nothing here is actually machine learning (everything above is about fitting). And, we will talk about fitting multiple predictors, since that is what we will eventually want to do"
   ]
  }
 ],
 "metadata": {
  "colab": {
   "collapsed_sections": [],
   "name": "s21_Lecture11_linear_regression1.ipynb",
   "provenance": []
  },
  "kernelspec": {
   "display_name": "Python 3",
   "name": "python3"
  },
  "language_info": {
   "codemirror_mode": {
    "name": "ipython",
    "version": 3
   },
   "file_extension": ".py",
   "mimetype": "text/x-python",
   "name": "python",
   "nbconvert_exporter": "python",
   "pygments_lexer": "ipython3",
   "version": "3.8.3"
  }
 },
 "nbformat": 4,
 "nbformat_minor": 0
}