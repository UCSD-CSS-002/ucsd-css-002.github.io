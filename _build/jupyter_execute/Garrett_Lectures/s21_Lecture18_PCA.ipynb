{
 "cells": [
  {
   "cell_type": "markdown",
   "metadata": {
    "id": "fZP3LxKbON_j"
   },
   "source": [
    "Lecture 18 - Principle Component Analysis\n",
    "\n",
    "Announcements\n",
    "\n",
    "1. Problem set 9, quiz 9, and discussion board 4 due at the end of the week\n",
    "2. CAPEs\n",
    "\n",
    "Topics\n",
    "1. Dimensionality Reduction\n",
    "\n",
    "We will read through this dialogue to understand what PCA is (I apologize that only women are asking questions in the dialogue, which is absolutely sexist)\n",
    "\n",
    "https://stats.stackexchange.com/questions/2691/making-sense-of-principal-component-analysis-eigenvectors-eigenvalues\n",
    "\n",
    "Let's see some visualization of PCA here:\n",
    "\n",
    "https://georgemdallas.wordpress.com/2013/10/30/principal-component-analysis-4-dummies-eigenvectors-eigenvalues-and-dimension-reduction/\n",
    "\n",
    "https://setosa.io/ev/principal-component-analysis/\n",
    "\n",
    "So now, let's do that with some real data. We have a bunch of different features. It is likely that some features are better than others and that some features are 'redundant'. Dimensionality reducation with PCA basically takes care of this by figuring out (mathematically) the principle axes (components) whereby our data varies. "
   ]
  },
  {
   "cell_type": "code",
   "execution_count": 1,
   "metadata": {
    "id": "L1T3l0fURUPY"
   },
   "outputs": [],
   "source": [
    "import matplotlib.pyplot as plt\n",
    "import pandas as pd\n",
    "import seaborn as sns\n",
    "import numpy as np\n",
    "from sklearn.preprocessing import StandardScaler\n",
    "from sklearn.linear_model import LinearRegression\n",
    "from sklearn.model_selection import train_test_split "
   ]
  },
  {
   "cell_type": "markdown",
   "metadata": {
    "id": "rXsoYAD4R6t-"
   },
   "source": [
    "We will just use the MPG dataset for simplicity"
   ]
  },
  {
   "cell_type": "code",
   "execution_count": 2,
   "metadata": {
    "id": "XhgGWDKQRbWG"
   },
   "outputs": [],
   "source": [
    "mpg = sns.load_dataset('mpg')"
   ]
  },
  {
   "cell_type": "code",
   "execution_count": 3,
   "metadata": {
    "id": "5fd6WFL4RyOa"
   },
   "outputs": [],
   "source": [
    "mpg.head()\n",
    "mpg.fillna(mpg.median(),inplace=True)"
   ]
  },
  {
   "cell_type": "markdown",
   "metadata": {
    "id": "C0ENZs-OSS-K"
   },
   "source": [
    "We are interested in predicting MPG with some of our variables. But let's see if we can reduce the dimensionality first\n",
    "\n",
    "We are to focus on these variables first"
   ]
  },
  {
   "cell_type": "code",
   "execution_count": 4,
   "metadata": {
    "id": "XHaJGBYnR8aN"
   },
   "outputs": [],
   "source": [
    "variables = ['horsepower','displacement','acceleration']"
   ]
  },
  {
   "cell_type": "markdown",
   "metadata": {
    "id": "H__fo_SoSYbL"
   },
   "source": [
    "Now, let's visualize our data.\n",
    "\n",
    "But I'm going to visualize the data in a slightly different way using plotly, which is another plotting library"
   ]
  },
  {
   "cell_type": "code",
   "execution_count": 5,
   "metadata": {
    "id": "9dB73p-aTJvo"
   },
   "outputs": [
    {
     "ename": "ModuleNotFoundError",
     "evalue": "No module named 'plotly'",
     "output_type": "error",
     "traceback": [
      "\u001b[0;31m---------------------------------------------------------------------------\u001b[0m",
      "\u001b[0;31mModuleNotFoundError\u001b[0m                       Traceback (most recent call last)",
      "\u001b[0;32m<ipython-input-5-86e89bd44552>\u001b[0m in \u001b[0;36m<module>\u001b[0;34m\u001b[0m\n\u001b[0;32m----> 1\u001b[0;31m \u001b[0;32mimport\u001b[0m \u001b[0mplotly\u001b[0m\u001b[0;34m.\u001b[0m\u001b[0mexpress\u001b[0m \u001b[0;32mas\u001b[0m \u001b[0mpx\u001b[0m\u001b[0;34m\u001b[0m\u001b[0;34m\u001b[0m\u001b[0m\n\u001b[0m",
      "\u001b[0;31mModuleNotFoundError\u001b[0m: No module named 'plotly'"
     ]
    }
   ],
   "source": [
    "import plotly.express as px"
   ]
  },
  {
   "cell_type": "code",
   "execution_count": 6,
   "metadata": {
    "colab": {
     "base_uri": "https://localhost:8080/",
     "height": 542
    },
    "id": "TpHOMom9TKf9",
    "outputId": "bad0710e-a1e8-4631-9b3d-0c69dc6a5c2c"
   },
   "outputs": [
    {
     "ename": "NameError",
     "evalue": "name 'px' is not defined",
     "output_type": "error",
     "traceback": [
      "\u001b[0;31m---------------------------------------------------------------------------\u001b[0m",
      "\u001b[0;31mNameError\u001b[0m                                 Traceback (most recent call last)",
      "\u001b[0;32m<ipython-input-6-28b450388f94>\u001b[0m in \u001b[0;36m<module>\u001b[0;34m\u001b[0m\n\u001b[0;32m----> 1\u001b[0;31m \u001b[0mfig\u001b[0m \u001b[0;34m=\u001b[0m \u001b[0mpx\u001b[0m\u001b[0;34m.\u001b[0m\u001b[0mscatter_3d\u001b[0m\u001b[0;34m(\u001b[0m\u001b[0mmpg\u001b[0m\u001b[0;34m,\u001b[0m\u001b[0mmpg\u001b[0m\u001b[0;34m[\u001b[0m\u001b[0;34m'horsepower'\u001b[0m\u001b[0;34m]\u001b[0m\u001b[0;34m,\u001b[0m \u001b[0mmpg\u001b[0m\u001b[0;34m[\u001b[0m\u001b[0;34m'displacement'\u001b[0m\u001b[0;34m]\u001b[0m\u001b[0;34m,\u001b[0m\u001b[0mmpg\u001b[0m\u001b[0;34m[\u001b[0m\u001b[0;34m'acceleration'\u001b[0m\u001b[0;34m]\u001b[0m\u001b[0;34m)\u001b[0m\u001b[0;34m\u001b[0m\u001b[0;34m\u001b[0m\u001b[0m\n\u001b[0m\u001b[1;32m      2\u001b[0m \u001b[0mfig\u001b[0m\u001b[0;34m.\u001b[0m\u001b[0mshow\u001b[0m\u001b[0;34m(\u001b[0m\u001b[0;34m)\u001b[0m\u001b[0;34m\u001b[0m\u001b[0;34m\u001b[0m\u001b[0m\n",
      "\u001b[0;31mNameError\u001b[0m: name 'px' is not defined"
     ]
    }
   ],
   "source": [
    "fig = px.scatter_3d(mpg,mpg['horsepower'], mpg['displacement'],mpg['acceleration'])\n",
    "fig.show()"
   ]
  },
  {
   "cell_type": "markdown",
   "metadata": {
    "id": "O-azFHtbT69r"
   },
   "source": [
    "Let's think back to our example in the url above. \n",
    "\n",
    "The dimension that is the most spread probably stretches end to end (i.e., like a tube)"
   ]
  },
  {
   "cell_type": "markdown",
   "metadata": {
    "id": "ARCKf7A3XWWu"
   },
   "source": [
    "Now, let's get our data in the correct format. We are going to turn our dataframe into an array like so"
   ]
  },
  {
   "cell_type": "code",
   "execution_count": 7,
   "metadata": {
    "id": "5IqNlDeeX4jF"
   },
   "outputs": [],
   "source": [
    "X = mpg[variables]\n",
    "y = mpg['mpg']"
   ]
  },
  {
   "cell_type": "markdown",
   "metadata": {
    "id": "lWihuz1MXc_N"
   },
   "source": [
    "Next, we need to normalize our data. If we don't, then the variance we account for may be soaked by variables that have large values\n",
    "\n",
    "https://stats.stackexchange.com/questions/69157/why-do-we-need-to-normalize-data-before-principal-component-analysis-pca\n",
    "\n",
    "We will see this a little later\n",
    "\n",
    "We will use the StandardScaler, which is basically taking the z-score of the data.\n",
    "\n",
    "Z-score turns the mean of the distribution to 0 and standard deviation to 1"
   ]
  },
  {
   "cell_type": "code",
   "execution_count": 8,
   "metadata": {
    "id": "kUJptiCtXwxr"
   },
   "outputs": [],
   "source": [
    "X_array = StandardScaler().fit_transform(X)\n",
    "X2 = pd.DataFrame(X_array,columns=X.columns)"
   ]
  },
  {
   "cell_type": "markdown",
   "metadata": {
    "id": "EGruOR9NZi9D"
   },
   "source": [
    "We can visualize the new data and it should look the same as our data before transformation"
   ]
  },
  {
   "cell_type": "code",
   "execution_count": 9,
   "metadata": {
    "colab": {
     "base_uri": "https://localhost:8080/",
     "height": 542
    },
    "id": "g2Rg9aivYA4D",
    "outputId": "9a5caca4-6f79-43b7-f3dc-83e075595c5c"
   },
   "outputs": [
    {
     "ename": "NameError",
     "evalue": "name 'px' is not defined",
     "output_type": "error",
     "traceback": [
      "\u001b[0;31m---------------------------------------------------------------------------\u001b[0m",
      "\u001b[0;31mNameError\u001b[0m                                 Traceback (most recent call last)",
      "\u001b[0;32m<ipython-input-9-5a0efd7f7900>\u001b[0m in \u001b[0;36m<module>\u001b[0;34m\u001b[0m\n\u001b[0;32m----> 1\u001b[0;31m \u001b[0mfig\u001b[0m \u001b[0;34m=\u001b[0m \u001b[0mpx\u001b[0m\u001b[0;34m.\u001b[0m\u001b[0mscatter_3d\u001b[0m\u001b[0;34m(\u001b[0m\u001b[0mX2\u001b[0m\u001b[0;34m,\u001b[0m \u001b[0mX2\u001b[0m\u001b[0;34m[\u001b[0m\u001b[0;34m'horsepower'\u001b[0m\u001b[0;34m]\u001b[0m\u001b[0;34m,\u001b[0m\u001b[0mX2\u001b[0m\u001b[0;34m[\u001b[0m\u001b[0;34m'displacement'\u001b[0m\u001b[0;34m]\u001b[0m\u001b[0;34m,\u001b[0m\u001b[0mX2\u001b[0m\u001b[0;34m[\u001b[0m\u001b[0;34m'acceleration'\u001b[0m\u001b[0;34m]\u001b[0m\u001b[0;34m,\u001b[0m\u001b[0;34m)\u001b[0m\u001b[0;34m\u001b[0m\u001b[0;34m\u001b[0m\u001b[0m\n\u001b[0m\u001b[1;32m      2\u001b[0m \u001b[0mfig\u001b[0m\u001b[0;34m.\u001b[0m\u001b[0mshow\u001b[0m\u001b[0;34m(\u001b[0m\u001b[0;34m)\u001b[0m\u001b[0;34m\u001b[0m\u001b[0;34m\u001b[0m\u001b[0m\n",
      "\u001b[0;31mNameError\u001b[0m: name 'px' is not defined"
     ]
    }
   ],
   "source": [
    "fig = px.scatter_3d(X2, X2['horsepower'],X2['displacement'],X2['acceleration'],)\n",
    "fig.show()"
   ]
  },
  {
   "cell_type": "markdown",
   "metadata": {
    "id": "u9jmiEf8ac0I"
   },
   "source": [
    "Now, to run our PCA, let's import the library"
   ]
  },
  {
   "cell_type": "code",
   "execution_count": 10,
   "metadata": {
    "id": "OE-6IlJrGAZy"
   },
   "outputs": [],
   "source": [
    "from sklearn.decomposition import PCA"
   ]
  },
  {
   "cell_type": "markdown",
   "metadata": {
    "id": "cMN9yfWxaege"
   },
   "source": [
    "And just like with the other machine learning stuff, we first create an instance of the PCA, then fit the data to it\n",
    "\n",
    "If we don't specify the number of components, it will just equal the number of features (or, the number of rows if you have more features than rows)"
   ]
  },
  {
   "cell_type": "code",
   "execution_count": 11,
   "metadata": {
    "id": "DJhtQDgxIFN0"
   },
   "outputs": [],
   "source": [
    "pca = PCA()\n",
    "x_pca = pca.fit_transform(X2)"
   ]
  },
  {
   "cell_type": "markdown",
   "metadata": {
    "id": "77-be78Salfs"
   },
   "source": [
    "Now, we can actually check to see how much of the variance we account for with each eigenvector."
   ]
  },
  {
   "cell_type": "code",
   "execution_count": 12,
   "metadata": {
    "colab": {
     "base_uri": "https://localhost:8080/"
    },
    "id": "r2B1ePPAak3F",
    "outputId": "cd661f37-2bc2-4249-aa4d-d81f61dd6a24"
   },
   "outputs": [
    {
     "data": {
      "text/plain": [
       "array([0.80918216, 0.16290352, 0.02791431])"
      ]
     },
     "execution_count": 12,
     "metadata": {},
     "output_type": "execute_result"
    }
   ],
   "source": [
    "pca.explained_variance_ratio_"
   ]
  },
  {
   "cell_type": "markdown",
   "metadata": {
    "id": "qH0bkmNhUlUH"
   },
   "source": [
    "If you don't normalize, you may find a result like this:"
   ]
  },
  {
   "cell_type": "code",
   "execution_count": 13,
   "metadata": {
    "colab": {
     "base_uri": "https://localhost:8080/"
    },
    "id": "x9BtznAGUgbx",
    "outputId": "644aa9e1-72a9-4245-81bb-10fbbf27d1ff"
   },
   "outputs": [
    {
     "data": {
      "text/plain": [
       "array([9.78516770e-01, 2.11750553e-02, 3.08174383e-04])"
      ]
     },
     "execution_count": 13,
     "metadata": {},
     "output_type": "execute_result"
    }
   ],
   "source": [
    "pca_test = PCA()\n",
    "x_pca_test = pca_test.fit_transform(X)\n",
    "pca_test.explained_variance_ratio_"
   ]
  },
  {
   "cell_type": "markdown",
   "metadata": {
    "id": "sCL5KLC7bADW"
   },
   "source": [
    "Wow! So, as expected, that first component basically accounts for most of the variance! and the third component doesn't account for much at all\n",
    "\n",
    "The first component may be considered our principle component"
   ]
  },
  {
   "cell_type": "markdown",
   "metadata": {
    "id": "PnsShD59bJvV"
   },
   "source": [
    "We can actually visualize our eigenvectors. It helps to turn them into a dataframe"
   ]
  },
  {
   "cell_type": "code",
   "execution_count": 14,
   "metadata": {
    "colab": {
     "base_uri": "https://localhost:8080/",
     "height": 191
    },
    "id": "1nHes97CaZcm",
    "outputId": "5986cfeb-3697-4b80-cb4e-11d0ffb9bf9e"
   },
   "outputs": [
    {
     "data": {
      "text/html": [
       "<div>\n",
       "<style scoped>\n",
       "    .dataframe tbody tr th:only-of-type {\n",
       "        vertical-align: middle;\n",
       "    }\n",
       "\n",
       "    .dataframe tbody tr th {\n",
       "        vertical-align: top;\n",
       "    }\n",
       "\n",
       "    .dataframe thead th {\n",
       "        text-align: right;\n",
       "    }\n",
       "</style>\n",
       "<table border=\"1\" class=\"dataframe\">\n",
       "  <thead>\n",
       "    <tr style=\"text-align: right;\">\n",
       "      <th></th>\n",
       "      <th>0</th>\n",
       "      <th>1</th>\n",
       "      <th>2</th>\n",
       "    </tr>\n",
       "  </thead>\n",
       "  <tbody>\n",
       "    <tr>\n",
       "      <th>0</th>\n",
       "      <td>1.732611</td>\n",
       "      <td>-0.370925</td>\n",
       "      <td>-0.425788</td>\n",
       "    </tr>\n",
       "    <tr>\n",
       "      <th>1</th>\n",
       "      <td>2.637405</td>\n",
       "      <td>-0.116799</td>\n",
       "      <td>-0.024770</td>\n",
       "    </tr>\n",
       "    <tr>\n",
       "      <th>2</th>\n",
       "      <td>2.308347</td>\n",
       "      <td>-0.508380</td>\n",
       "      <td>-0.166755</td>\n",
       "    </tr>\n",
       "    <tr>\n",
       "      <th>3</th>\n",
       "      <td>2.040100</td>\n",
       "      <td>-0.276520</td>\n",
       "      <td>-0.011242</td>\n",
       "    </tr>\n",
       "    <tr>\n",
       "      <th>4</th>\n",
       "      <td>2.150596</td>\n",
       "      <td>-0.793179</td>\n",
       "      <td>-0.305270</td>\n",
       "    </tr>\n",
       "  </tbody>\n",
       "</table>\n",
       "</div>"
      ],
      "text/plain": [
       "          0         1         2\n",
       "0  1.732611 -0.370925 -0.425788\n",
       "1  2.637405 -0.116799 -0.024770\n",
       "2  2.308347 -0.508380 -0.166755\n",
       "3  2.040100 -0.276520 -0.011242\n",
       "4  2.150596 -0.793179 -0.305270"
      ]
     },
     "execution_count": 14,
     "metadata": {},
     "output_type": "execute_result"
    }
   ],
   "source": [
    "x_pca = pd.DataFrame(x_pca)\n",
    "x_pca.head()"
   ]
  },
  {
   "cell_type": "markdown",
   "metadata": {
    "id": "pwJUmX9QdaN-"
   },
   "source": [
    "Let's just rename them for convenience"
   ]
  },
  {
   "cell_type": "code",
   "execution_count": 15,
   "metadata": {
    "colab": {
     "base_uri": "https://localhost:8080/",
     "height": 191
    },
    "id": "19f4tSBMSjNr",
    "outputId": "feb1e653-3959-4388-963d-599d08eddbc4"
   },
   "outputs": [
    {
     "data": {
      "text/html": [
       "<div>\n",
       "<style scoped>\n",
       "    .dataframe tbody tr th:only-of-type {\n",
       "        vertical-align: middle;\n",
       "    }\n",
       "\n",
       "    .dataframe tbody tr th {\n",
       "        vertical-align: top;\n",
       "    }\n",
       "\n",
       "    .dataframe thead th {\n",
       "        text-align: right;\n",
       "    }\n",
       "</style>\n",
       "<table border=\"1\" class=\"dataframe\">\n",
       "  <thead>\n",
       "    <tr style=\"text-align: right;\">\n",
       "      <th></th>\n",
       "      <th>PC1</th>\n",
       "      <th>PC2</th>\n",
       "      <th>PC3</th>\n",
       "      <th>target</th>\n",
       "    </tr>\n",
       "  </thead>\n",
       "  <tbody>\n",
       "    <tr>\n",
       "      <th>0</th>\n",
       "      <td>1.732611</td>\n",
       "      <td>-0.370925</td>\n",
       "      <td>-0.425788</td>\n",
       "      <td>18.0</td>\n",
       "    </tr>\n",
       "    <tr>\n",
       "      <th>1</th>\n",
       "      <td>2.637405</td>\n",
       "      <td>-0.116799</td>\n",
       "      <td>-0.024770</td>\n",
       "      <td>15.0</td>\n",
       "    </tr>\n",
       "    <tr>\n",
       "      <th>2</th>\n",
       "      <td>2.308347</td>\n",
       "      <td>-0.508380</td>\n",
       "      <td>-0.166755</td>\n",
       "      <td>18.0</td>\n",
       "    </tr>\n",
       "    <tr>\n",
       "      <th>3</th>\n",
       "      <td>2.040100</td>\n",
       "      <td>-0.276520</td>\n",
       "      <td>-0.011242</td>\n",
       "      <td>16.0</td>\n",
       "    </tr>\n",
       "    <tr>\n",
       "      <th>4</th>\n",
       "      <td>2.150596</td>\n",
       "      <td>-0.793179</td>\n",
       "      <td>-0.305270</td>\n",
       "      <td>17.0</td>\n",
       "    </tr>\n",
       "  </tbody>\n",
       "</table>\n",
       "</div>"
      ],
      "text/plain": [
       "        PC1       PC2       PC3  target\n",
       "0  1.732611 -0.370925 -0.425788    18.0\n",
       "1  2.637405 -0.116799 -0.024770    15.0\n",
       "2  2.308347 -0.508380 -0.166755    18.0\n",
       "3  2.040100 -0.276520 -0.011242    16.0\n",
       "4  2.150596 -0.793179 -0.305270    17.0"
      ]
     },
     "execution_count": 15,
     "metadata": {},
     "output_type": "execute_result"
    }
   ],
   "source": [
    "x_pca['target']=y\n",
    "x_pca.columns = ['PC1','PC2','PC3','target']\n",
    "x_pca.head()"
   ]
  },
  {
   "cell_type": "markdown",
   "metadata": {
    "id": "kGuR-wpPkdWX"
   },
   "source": [
    "Just for fun, we cna check out the eigenvectors (PC) on our data. "
   ]
  },
  {
   "cell_type": "code",
   "execution_count": 16,
   "metadata": {
    "colab": {
     "base_uri": "https://localhost:8080/",
     "height": 411
    },
    "id": "z8gJayjTtjU4",
    "outputId": "0287a8a0-7a4b-4c16-c0f0-713d281a90e6"
   },
   "outputs": [
    {
     "data": {
      "image/png": "[encoded data removed]",
      "text/plain": [
       "<Figure size 504x504 with 1 Axes>"
      ]
     },
     "metadata": {
      "filenames": {
       "image/png": "/Users/erikbrockbank/web/teaching/ucsd-css-002.github.io/_build/jupyter_execute/Garrett_Lectures/s21_Lecture18_PCA_31_0.png"
      },
      "needs_background": "light"
     },
     "output_type": "display_data"
    }
   ],
   "source": [
    "from mpl_toolkits.mplot3d import axes3d    \n",
    "\n",
    "fig = plt.figure(figsize=(7,7))\n",
    "ax = fig.add_subplot(111, projection='3d')\n",
    "\n",
    "# plot data\n",
    "ax.scatter(X2['horsepower'],X2['displacement'], X2['acceleration'], alpha=0.2)\n",
    "for length, vector in zip(pca.explained_variance_, pca.components_):\n",
    "    v = vector * 3 * np.sqrt(length)\n",
    "\n",
    "    v0 = pca.mean_\n",
    "    v1 = pca.mean_ + v\n",
    "\n",
    "    ax.plot([0,v1[0]],[0,v1[1]],[0,v1[2]])\n",
    "\n",
    "ax.view_init(10, 100)"
   ]
  },
  {
   "cell_type": "markdown",
   "metadata": {
    "id": "mHN6IzzEdeel"
   },
   "source": [
    "We can compare the data with the target. You'll see that the first eigenvector seems related to the target, but the others less so"
   ]
  },
  {
   "cell_type": "code",
   "execution_count": 17,
   "metadata": {
    "colab": {
     "base_uri": "https://localhost:8080/",
     "height": 380
    },
    "id": "5qq-cNTSKnda",
    "outputId": "3fc73f80-9a2a-407e-838a-ab6c0bd1052f"
   },
   "outputs": [
    {
     "name": "stderr",
     "output_type": "stream",
     "text": [
      "/opt/anaconda3/lib/python3.8/site-packages/seaborn/_decorators.py:36: FutureWarning: Pass the following variables as keyword args: x, y. From version 0.12, the only valid positional argument will be `data`, and passing other arguments without an explicit keyword will result in an error or misinterpretation.\n",
      "  warnings.warn(\n"
     ]
    },
    {
     "data": {
      "text/plain": [
       "<AxesSubplot:xlabel='PC1', ylabel='target'>"
      ]
     },
     "execution_count": 17,
     "metadata": {},
     "output_type": "execute_result"
    },
    {
     "data": {
      "image/png": "[encoded data removed]",
      "text/plain": [
       "<Figure size 432x288 with 1 Axes>"
      ]
     },
     "metadata": {
      "filenames": {
       "image/png": "/Users/erikbrockbank/web/teaching/ucsd-css-002.github.io/_build/jupyter_execute/Garrett_Lectures/s21_Lecture18_PCA_33_2.png"
      },
      "needs_background": "light"
     },
     "output_type": "display_data"
    }
   ],
   "source": [
    "sns.scatterplot(x_pca['PC1'],x_pca['target'])"
   ]
  },
  {
   "cell_type": "code",
   "execution_count": 18,
   "metadata": {
    "colab": {
     "base_uri": "https://localhost:8080/",
     "height": 380
    },
    "id": "oi3SPDMsP92i",
    "outputId": "634cf0aa-15e0-4acc-b387-e5ddbe250bca"
   },
   "outputs": [
    {
     "name": "stderr",
     "output_type": "stream",
     "text": [
      "/opt/anaconda3/lib/python3.8/site-packages/seaborn/_decorators.py:36: FutureWarning: Pass the following variables as keyword args: x, y. From version 0.12, the only valid positional argument will be `data`, and passing other arguments without an explicit keyword will result in an error or misinterpretation.\n",
      "  warnings.warn(\n"
     ]
    },
    {
     "data": {
      "text/plain": [
       "<AxesSubplot:xlabel='horsepower', ylabel='mpg'>"
      ]
     },
     "execution_count": 18,
     "metadata": {},
     "output_type": "execute_result"
    },
    {
     "data": {
      "image/png": "[encoded data removed]",
      "text/plain": [
       "<Figure size 432x288 with 1 Axes>"
      ]
     },
     "metadata": {
      "filenames": {
       "image/png": "/Users/erikbrockbank/web/teaching/ucsd-css-002.github.io/_build/jupyter_execute/Garrett_Lectures/s21_Lecture18_PCA_34_2.png"
      },
      "needs_background": "light"
     },
     "output_type": "display_data"
    }
   ],
   "source": [
    "sns.scatterplot(mpg['horsepower'],mpg['mpg'])"
   ]
  },
  {
   "cell_type": "markdown",
   "metadata": {
    "id": "AjQ-wciRdxvc"
   },
   "source": [
    "There are other things you can do with the components. One thing you can do is principal component regression\n",
    "\n",
    "Basically, we will do regression with our components. And, given that PC1 accounts for so much of the variance, it should do a good job of fitting the data by itself"
   ]
  },
  {
   "cell_type": "code",
   "execution_count": 19,
   "metadata": {
    "id": "A-6BK8OHd5Zp"
   },
   "outputs": [],
   "source": [
    "from sklearn import model_selection"
   ]
  },
  {
   "cell_type": "markdown",
   "metadata": {
    "id": "CADrPlLXf_ic"
   },
   "source": [
    "As we learned last week, we will use cross_validation\n",
    "\n",
    "Note that I'm using ShuffleSplit instead of the default kfold. Since kfold starts folds at the top of the data, if there is any order in your data, it can produce some funky results. "
   ]
  },
  {
   "cell_type": "code",
   "execution_count": 20,
   "metadata": {
    "colab": {
     "base_uri": "https://localhost:8080/"
    },
    "id": "P2hNqj1beL5o",
    "outputId": "c6323d5b-fdc4-45c1-fb30-401c143c56ce"
   },
   "outputs": [
    {
     "name": "stdout",
     "output_type": "stream",
     "text": [
      "0.6460060688173642\n"
     ]
    }
   ],
   "source": [
    "model = LinearRegression() \n",
    "shufflesplit = model_selection.ShuffleSplit(n_splits=100, random_state=0)\n",
    "results = model_selection.cross_validate(model, x_pca[['PC1','PC2']], x_pca['target'],cv=shufflesplit,scoring='r2')\n",
    "print(results['test_score'].mean())"
   ]
  },
  {
   "cell_type": "markdown",
   "metadata": {
    "id": "IAGKtXWegXPX"
   },
   "source": [
    "Cool!"
   ]
  },
  {
   "cell_type": "markdown",
   "metadata": {
    "id": "R1JJf-juhJoX"
   },
   "source": [
    "In this particular example, the two components do as well as our original 3 components. "
   ]
  },
  {
   "cell_type": "code",
   "execution_count": 21,
   "metadata": {
    "colab": {
     "base_uri": "https://localhost:8080/"
    },
    "id": "2BJhXGP8g9FO",
    "outputId": "279b103d-5c1e-43b7-b749-d2217c261317"
   },
   "outputs": [
    {
     "name": "stdout",
     "output_type": "stream",
     "text": [
      "0.6441966302564723\n"
     ]
    }
   ],
   "source": [
    "model = LinearRegression() \n",
    "shufflesplit = model_selection.ShuffleSplit(n_splits=100, random_state=0)\n",
    "results = model_selection.cross_validate(model, mpg[['horsepower','acceleration','displacement']], y,cv=shufflesplit,scoring='r2')\n",
    "print(results['test_score'].mean())"
   ]
  },
  {
   "cell_type": "markdown",
   "metadata": {
    "id": "G8KbVXvT8-SP"
   },
   "source": [
    "The difference between 2 and 3 features isn't too significant, but remember that adding features can (1) make your models take longer to fit, (2) can sometimes lead to overfitting, and (3) make models more complicated without actually improving our ability to understand the data "
   ]
  },
  {
   "cell_type": "markdown",
   "metadata": {
    "id": "guZpbYN8hUmi"
   },
   "source": [
    "PCA is a pretty dense and magical concept. You can do a lot more than what we have discussed here.\n",
    "\n",
    "For example, \n",
    "\n",
    "https://medium.com/@sebastiannorena/pca-principal-components-analysis-applied-to-images-of-faces-d2fc2c083371\n",
    "\n",
    "https://medium.com/lambda-school-machine-learning/principal-component-analysis-and-what-is-it-really-using-python-8f04dbdb1600\n",
    "\n",
    "https://github.com/jakevdp/PythonDataScienceHandbook/blob/master/notebooks/05.09-Principal-Component-Analysis.ipynb"
   ]
  }
 ],
 "metadata": {
  "colab": {
   "collapsed_sections": [],
   "name": "s21_Lecture18_PCA.ipynb",
   "provenance": []
  },
  "kernelspec": {
   "display_name": "Python 3",
   "name": "python3"
  },
  "language_info": {
   "codemirror_mode": {
    "name": "ipython",
    "version": 3
   },
   "file_extension": ".py",
   "mimetype": "text/x-python",
   "name": "python",
   "nbconvert_exporter": "python",
   "pygments_lexer": "ipython3",
   "version": "3.8.3"
  }
 },
 "nbformat": 4,
 "nbformat_minor": 0
}