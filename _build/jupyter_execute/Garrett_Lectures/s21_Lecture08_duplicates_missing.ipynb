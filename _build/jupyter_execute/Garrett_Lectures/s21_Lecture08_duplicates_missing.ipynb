{
 "cells": [
  {
   "cell_type": "markdown",
   "metadata": {
    "id": "4n-2qQqfZQz5"
   },
   "source": [
    "Lecture 8 Missing data and duplicates\n",
    "\n",
    "Announcements\n",
    "1. Problem set 4 and quiz 4 due at the end of the week\n",
    "2. Quiz 5 will be a check on (1) you picking a dataset and (2) you coming up with a question you want to explore\n",
    "\n",
    "Today's topics\n",
    "1. Finding missing data\n",
    "2. Replacing/removing missing data\n",
    "3. Removing duplicates \n",
    "\n",
    "#### Today, we will do some simple cleaning of some data by looking for missing data and duplicate entries\n",
    "\n",
    "#### Let's first discuss finding missing data, then we can discuss what to do with it"
   ]
  },
  {
   "cell_type": "code",
   "execution_count": 1,
   "metadata": {
    "id": "uVzoXWc7cPPD"
   },
   "outputs": [],
   "source": [
    "import numpy as np\n",
    "import pandas as pd\n",
    "import matplotlib.pyplot as plt\n",
    "import seaborn as sns"
   ]
  },
  {
   "cell_type": "markdown",
   "metadata": {
    "id": "8KrMIfR1Qz32"
   },
   "source": [
    "#### Let's import our messed up mpg dataset"
   ]
  },
  {
   "cell_type": "code",
   "execution_count": 2,
   "metadata": {
    "id": "hOodFw4actIM"
   },
   "outputs": [],
   "source": [
    "filename = 'messed_up_mpg.xlsx'\n",
    "data = pd.read_excel(filename)"
   ]
  },
  {
   "cell_type": "markdown",
   "metadata": {
    "id": "Isau8TMNQ5Ok"
   },
   "source": [
    "#### Let's take a quick look at the head and tail"
   ]
  },
  {
   "cell_type": "code",
   "execution_count": 3,
   "metadata": {
    "colab": {
     "base_uri": "https://localhost:8080/",
     "height": 224
    },
    "id": "AWa4L_HKc6A9",
    "outputId": "6a80626f-fcf4-45db-aa6e-b092515c8b04"
   },
   "outputs": [
    {
     "data": {
      "text/html": [
       "<div>\n",
       "<style scoped>\n",
       "    .dataframe tbody tr th:only-of-type {\n",
       "        vertical-align: middle;\n",
       "    }\n",
       "\n",
       "    .dataframe tbody tr th {\n",
       "        vertical-align: top;\n",
       "    }\n",
       "\n",
       "    .dataframe thead th {\n",
       "        text-align: right;\n",
       "    }\n",
       "</style>\n",
       "<table border=\"1\" class=\"dataframe\">\n",
       "  <thead>\n",
       "    <tr style=\"text-align: right;\">\n",
       "      <th></th>\n",
       "      <th>mpg</th>\n",
       "      <th>cylinders</th>\n",
       "      <th>displacement</th>\n",
       "      <th>horsepower</th>\n",
       "      <th>weight</th>\n",
       "      <th>acceleration</th>\n",
       "      <th>model_year</th>\n",
       "      <th>origin</th>\n",
       "      <th>name</th>\n",
       "      <th>Type</th>\n",
       "      <th>Color</th>\n",
       "    </tr>\n",
       "  </thead>\n",
       "  <tbody>\n",
       "    <tr>\n",
       "      <th>0</th>\n",
       "      <td>18.0</td>\n",
       "      <td>8.0</td>\n",
       "      <td>307.0</td>\n",
       "      <td>130.0</td>\n",
       "      <td>3504.0</td>\n",
       "      <td>12.0</td>\n",
       "      <td>70.0</td>\n",
       "      <td>usa</td>\n",
       "      <td>chevrolet</td>\n",
       "      <td>Sedan</td>\n",
       "      <td>red</td>\n",
       "    </tr>\n",
       "    <tr>\n",
       "      <th>1</th>\n",
       "      <td>14.0</td>\n",
       "      <td>8.0</td>\n",
       "      <td>454.0</td>\n",
       "      <td>220.0</td>\n",
       "      <td>4354.0</td>\n",
       "      <td>9.0</td>\n",
       "      <td>70.0</td>\n",
       "      <td>usa</td>\n",
       "      <td>chevrolet</td>\n",
       "      <td>Sedan</td>\n",
       "      <td>blue</td>\n",
       "    </tr>\n",
       "    <tr>\n",
       "      <th>2</th>\n",
       "      <td>15.0</td>\n",
       "      <td>8.0</td>\n",
       "      <td>400.0</td>\n",
       "      <td>150.0</td>\n",
       "      <td>3761.0</td>\n",
       "      <td>9.5</td>\n",
       "      <td>70.0</td>\n",
       "      <td>usa</td>\n",
       "      <td>chevrolet</td>\n",
       "      <td>Sedan</td>\n",
       "      <td>white</td>\n",
       "    </tr>\n",
       "    <tr>\n",
       "      <th>3</th>\n",
       "      <td>24.0</td>\n",
       "      <td>4.0</td>\n",
       "      <td>113.0</td>\n",
       "      <td>95.0</td>\n",
       "      <td>2372.0</td>\n",
       "      <td>15.0</td>\n",
       "      <td>70.0</td>\n",
       "      <td>japan</td>\n",
       "      <td>toyota</td>\n",
       "      <td>Coupe</td>\n",
       "      <td>NaN</td>\n",
       "    </tr>\n",
       "    <tr>\n",
       "      <th>4</th>\n",
       "      <td>26.0</td>\n",
       "      <td>4.0</td>\n",
       "      <td>12.0</td>\n",
       "      <td>46.0</td>\n",
       "      <td>1835.0</td>\n",
       "      <td>20.5</td>\n",
       "      <td>70.0</td>\n",
       "      <td>europe</td>\n",
       "      <td>volkswagen</td>\n",
       "      <td>Coupe</td>\n",
       "      <td>NaN</td>\n",
       "    </tr>\n",
       "  </tbody>\n",
       "</table>\n",
       "</div>"
      ],
      "text/plain": [
       "    mpg  cylinders  displacement  horsepower  weight  acceleration  \\\n",
       "0  18.0        8.0         307.0       130.0  3504.0          12.0   \n",
       "1  14.0        8.0         454.0       220.0  4354.0           9.0   \n",
       "2  15.0        8.0         400.0       150.0  3761.0           9.5   \n",
       "3  24.0        4.0         113.0        95.0  2372.0          15.0   \n",
       "4  26.0        4.0          12.0        46.0  1835.0          20.5   \n",
       "\n",
       "   model_year  origin        name   Type  Color  \n",
       "0        70.0     usa   chevrolet  Sedan    red  \n",
       "1        70.0     usa   chevrolet  Sedan   blue  \n",
       "2        70.0     usa   chevrolet  Sedan  white  \n",
       "3        70.0   japan      toyota  Coupe    NaN  \n",
       "4        70.0  europe  volkswagen  Coupe    NaN  "
      ]
     },
     "execution_count": 3,
     "metadata": {},
     "output_type": "execute_result"
    }
   ],
   "source": [
    "data.head()"
   ]
  },
  {
   "cell_type": "code",
   "execution_count": 4,
   "metadata": {
    "colab": {
     "base_uri": "https://localhost:8080/",
     "height": 224
    },
    "id": "VYBtxM8NdAv1",
    "outputId": "ede9ef69-5a8b-48a4-93fe-9fdee3709f92"
   },
   "outputs": [
    {
     "data": {
      "text/html": [
       "<div>\n",
       "<style scoped>\n",
       "    .dataframe tbody tr th:only-of-type {\n",
       "        vertical-align: middle;\n",
       "    }\n",
       "\n",
       "    .dataframe tbody tr th {\n",
       "        vertical-align: top;\n",
       "    }\n",
       "\n",
       "    .dataframe thead th {\n",
       "        text-align: right;\n",
       "    }\n",
       "</style>\n",
       "<table border=\"1\" class=\"dataframe\">\n",
       "  <thead>\n",
       "    <tr style=\"text-align: right;\">\n",
       "      <th></th>\n",
       "      <th>mpg</th>\n",
       "      <th>cylinders</th>\n",
       "      <th>displacement</th>\n",
       "      <th>horsepower</th>\n",
       "      <th>weight</th>\n",
       "      <th>acceleration</th>\n",
       "      <th>model_year</th>\n",
       "      <th>origin</th>\n",
       "      <th>name</th>\n",
       "      <th>Type</th>\n",
       "      <th>Color</th>\n",
       "    </tr>\n",
       "  </thead>\n",
       "  <tbody>\n",
       "    <tr>\n",
       "      <th>381</th>\n",
       "      <td>27.0</td>\n",
       "      <td>4.0</td>\n",
       "      <td>140.0</td>\n",
       "      <td>86.0</td>\n",
       "      <td>2790.0</td>\n",
       "      <td>15.6</td>\n",
       "      <td>82.0</td>\n",
       "      <td>usa</td>\n",
       "      <td>chevrolet</td>\n",
       "      <td>Sedan</td>\n",
       "      <td>NaN</td>\n",
       "    </tr>\n",
       "    <tr>\n",
       "      <th>382</th>\n",
       "      <td>44.0</td>\n",
       "      <td>4.0</td>\n",
       "      <td>97.0</td>\n",
       "      <td>52.0</td>\n",
       "      <td>2130.0</td>\n",
       "      <td>24.6</td>\n",
       "      <td>82.0</td>\n",
       "      <td>europe</td>\n",
       "      <td>volkswagen</td>\n",
       "      <td>Coupe</td>\n",
       "      <td>NaN</td>\n",
       "    </tr>\n",
       "    <tr>\n",
       "      <th>383</th>\n",
       "      <td>32.0</td>\n",
       "      <td>4.0</td>\n",
       "      <td>135.0</td>\n",
       "      <td>84.0</td>\n",
       "      <td>2295.0</td>\n",
       "      <td>11.6</td>\n",
       "      <td>82.0</td>\n",
       "      <td>usa</td>\n",
       "      <td>volkswagen</td>\n",
       "      <td>Coupe</td>\n",
       "      <td>NaN</td>\n",
       "    </tr>\n",
       "    <tr>\n",
       "      <th>384</th>\n",
       "      <td>28.0</td>\n",
       "      <td>4.0</td>\n",
       "      <td>120.0</td>\n",
       "      <td>79.0</td>\n",
       "      <td>2625.0</td>\n",
       "      <td>18.6</td>\n",
       "      <td>82.0</td>\n",
       "      <td>usa</td>\n",
       "      <td>chevrolet</td>\n",
       "      <td>Sedan</td>\n",
       "      <td>white</td>\n",
       "    </tr>\n",
       "    <tr>\n",
       "      <th>385</th>\n",
       "      <td>31.0</td>\n",
       "      <td>4.0</td>\n",
       "      <td>119.0</td>\n",
       "      <td>82.0</td>\n",
       "      <td>2720.0</td>\n",
       "      <td>19.4</td>\n",
       "      <td>82.0</td>\n",
       "      <td>usa</td>\n",
       "      <td>chevrolet</td>\n",
       "      <td>Sedan</td>\n",
       "      <td>NaN</td>\n",
       "    </tr>\n",
       "  </tbody>\n",
       "</table>\n",
       "</div>"
      ],
      "text/plain": [
       "      mpg  cylinders  displacement  horsepower  weight  acceleration  \\\n",
       "381  27.0        4.0         140.0        86.0  2790.0          15.6   \n",
       "382  44.0        4.0          97.0        52.0  2130.0          24.6   \n",
       "383  32.0        4.0         135.0        84.0  2295.0          11.6   \n",
       "384  28.0        4.0         120.0        79.0  2625.0          18.6   \n",
       "385  31.0        4.0         119.0        82.0  2720.0          19.4   \n",
       "\n",
       "     model_year  origin        name   Type  Color  \n",
       "381        82.0     usa   chevrolet  Sedan    NaN  \n",
       "382        82.0  europe  volkswagen  Coupe    NaN  \n",
       "383        82.0     usa  volkswagen  Coupe    NaN  \n",
       "384        82.0     usa   chevrolet  Sedan  white  \n",
       "385        82.0     usa   chevrolet  Sedan    NaN  "
      ]
     },
     "execution_count": 4,
     "metadata": {},
     "output_type": "execute_result"
    }
   ],
   "source": [
    "data.tail()"
   ]
  },
  {
   "cell_type": "code",
   "execution_count": 5,
   "metadata": {
    "colab": {
     "base_uri": "https://localhost:8080/",
     "height": 317
    },
    "id": "8t2E_YJWdCx8",
    "outputId": "988bd8b1-0508-497e-f3de-1b4c79d706d0"
   },
   "outputs": [
    {
     "data": {
      "text/html": [
       "<div>\n",
       "<style scoped>\n",
       "    .dataframe tbody tr th:only-of-type {\n",
       "        vertical-align: middle;\n",
       "    }\n",
       "\n",
       "    .dataframe tbody tr th {\n",
       "        vertical-align: top;\n",
       "    }\n",
       "\n",
       "    .dataframe thead th {\n",
       "        text-align: right;\n",
       "    }\n",
       "</style>\n",
       "<table border=\"1\" class=\"dataframe\">\n",
       "  <thead>\n",
       "    <tr style=\"text-align: right;\">\n",
       "      <th></th>\n",
       "      <th>mpg</th>\n",
       "      <th>cylinders</th>\n",
       "      <th>displacement</th>\n",
       "      <th>horsepower</th>\n",
       "      <th>weight</th>\n",
       "      <th>acceleration</th>\n",
       "      <th>model_year</th>\n",
       "    </tr>\n",
       "  </thead>\n",
       "  <tbody>\n",
       "    <tr>\n",
       "      <th>count</th>\n",
       "      <td>383.000000</td>\n",
       "      <td>383.000000</td>\n",
       "      <td>378.000000</td>\n",
       "      <td>378.000000</td>\n",
       "      <td>381.000000</td>\n",
       "      <td>381.000000</td>\n",
       "      <td>381.000000</td>\n",
       "    </tr>\n",
       "    <tr>\n",
       "      <th>mean</th>\n",
       "      <td>25.348825</td>\n",
       "      <td>5.083551</td>\n",
       "      <td>165.682540</td>\n",
       "      <td>94.949735</td>\n",
       "      <td>2873.099738</td>\n",
       "      <td>16.115223</td>\n",
       "      <td>77.367454</td>\n",
       "    </tr>\n",
       "    <tr>\n",
       "      <th>std</th>\n",
       "      <td>7.406156</td>\n",
       "      <td>1.522369</td>\n",
       "      <td>96.111809</td>\n",
       "      <td>29.862197</td>\n",
       "      <td>1243.707258</td>\n",
       "      <td>2.608111</td>\n",
       "      <td>3.086710</td>\n",
       "    </tr>\n",
       "    <tr>\n",
       "      <th>min</th>\n",
       "      <td>11.000000</td>\n",
       "      <td>3.000000</td>\n",
       "      <td>-600.000000</td>\n",
       "      <td>46.000000</td>\n",
       "      <td>1649.000000</td>\n",
       "      <td>9.000000</td>\n",
       "      <td>70.000000</td>\n",
       "    </tr>\n",
       "    <tr>\n",
       "      <th>25%</th>\n",
       "      <td>19.200000</td>\n",
       "      <td>4.000000</td>\n",
       "      <td>98.000000</td>\n",
       "      <td>72.000000</td>\n",
       "      <td>2188.000000</td>\n",
       "      <td>14.500000</td>\n",
       "      <td>75.000000</td>\n",
       "    </tr>\n",
       "    <tr>\n",
       "      <th>50%</th>\n",
       "      <td>25.000000</td>\n",
       "      <td>4.000000</td>\n",
       "      <td>134.000000</td>\n",
       "      <td>90.000000</td>\n",
       "      <td>2694.000000</td>\n",
       "      <td>15.800000</td>\n",
       "      <td>78.000000</td>\n",
       "    </tr>\n",
       "    <tr>\n",
       "      <th>75%</th>\n",
       "      <td>31.000000</td>\n",
       "      <td>6.000000</td>\n",
       "      <td>231.000000</td>\n",
       "      <td>110.000000</td>\n",
       "      <td>3353.000000</td>\n",
       "      <td>17.600000</td>\n",
       "      <td>80.000000</td>\n",
       "    </tr>\n",
       "    <tr>\n",
       "      <th>max</th>\n",
       "      <td>46.600000</td>\n",
       "      <td>8.000000</td>\n",
       "      <td>454.000000</td>\n",
       "      <td>250.000000</td>\n",
       "      <td>22280.000000</td>\n",
       "      <td>24.800000</td>\n",
       "      <td>82.000000</td>\n",
       "    </tr>\n",
       "  </tbody>\n",
       "</table>\n",
       "</div>"
      ],
      "text/plain": [
       "              mpg   cylinders  displacement  horsepower        weight  \\\n",
       "count  383.000000  383.000000    378.000000  378.000000    381.000000   \n",
       "mean    25.348825    5.083551    165.682540   94.949735   2873.099738   \n",
       "std      7.406156    1.522369     96.111809   29.862197   1243.707258   \n",
       "min     11.000000    3.000000   -600.000000   46.000000   1649.000000   \n",
       "25%     19.200000    4.000000     98.000000   72.000000   2188.000000   \n",
       "50%     25.000000    4.000000    134.000000   90.000000   2694.000000   \n",
       "75%     31.000000    6.000000    231.000000  110.000000   3353.000000   \n",
       "max     46.600000    8.000000    454.000000  250.000000  22280.000000   \n",
       "\n",
       "       acceleration  model_year  \n",
       "count    381.000000  381.000000  \n",
       "mean      16.115223   77.367454  \n",
       "std        2.608111    3.086710  \n",
       "min        9.000000   70.000000  \n",
       "25%       14.500000   75.000000  \n",
       "50%       15.800000   78.000000  \n",
       "75%       17.600000   80.000000  \n",
       "max       24.800000   82.000000  "
      ]
     },
     "execution_count": 5,
     "metadata": {},
     "output_type": "execute_result"
    }
   ],
   "source": [
    "data.describe()"
   ]
  },
  {
   "cell_type": "markdown",
   "metadata": {
    "id": "pstlh4HWeX1n"
   },
   "source": [
    "#### But what about the categorical columns?\n",
    "\n",
    "#### Info tells us about those"
   ]
  },
  {
   "cell_type": "code",
   "execution_count": 6,
   "metadata": {
    "colab": {
     "base_uri": "https://localhost:8080/"
    },
    "id": "K_wO0mSDdE4v",
    "outputId": "1375578e-3968-4fba-ae9e-729207d63e6b"
   },
   "outputs": [
    {
     "name": "stdout",
     "output_type": "stream",
     "text": [
      "<class 'pandas.core.frame.DataFrame'>\n",
      "RangeIndex: 386 entries, 0 to 385\n",
      "Data columns (total 11 columns):\n",
      " #   Column        Non-Null Count  Dtype  \n",
      "---  ------        --------------  -----  \n",
      " 0   mpg           383 non-null    float64\n",
      " 1   cylinders     383 non-null    float64\n",
      " 2   displacement  378 non-null    float64\n",
      " 3   horsepower    378 non-null    float64\n",
      " 4   weight        381 non-null    float64\n",
      " 5   acceleration  381 non-null    float64\n",
      " 6   model_year    381 non-null    float64\n",
      " 7   origin        383 non-null    object \n",
      " 8   name          377 non-null    object \n",
      " 9   Type          372 non-null    object \n",
      " 10  Color         118 non-null    object \n",
      "dtypes: float64(7), object(4)\n",
      "memory usage: 33.3+ KB\n"
     ]
    }
   ],
   "source": [
    "data.info()"
   ]
  },
  {
   "cell_type": "markdown",
   "metadata": {
    "id": "gXZ_2Vc-ZlQ9"
   },
   "source": [
    "First thing we will do : take care of duplicate data\n",
    "\n",
    "Sometimes, we may expect duplicate data. If this was a database on cars from a random sample, we may expect people to have the same car. \n",
    "\n",
    "However, let's assume this is a list of unique cars from different companies. Its less likely that one car has the same extra properties as another. \n",
    "\n",
    "So, duplicates could arise from bugs in the code or could be mistakes when manually coding data. In these cases we want to remove the data.\n",
    "\n",
    "In this case, a duplicate thus overrepresents that combination of data\n",
    "\n",
    "So, let's remove it"
   ]
  },
  {
   "cell_type": "code",
   "execution_count": 7,
   "metadata": {
    "colab": {
     "base_uri": "https://localhost:8080/"
    },
    "id": "VLK8gUxKZ_dG",
    "outputId": "0904770d-e933-473e-cfbc-fe3ac993595b"
   },
   "outputs": [
    {
     "data": {
      "text/plain": [
       "0      False\n",
       "1      False\n",
       "2      False\n",
       "3      False\n",
       "4      False\n",
       "       ...  \n",
       "381    False\n",
       "382    False\n",
       "383    False\n",
       "384    False\n",
       "385    False\n",
       "Length: 386, dtype: bool"
      ]
     },
     "execution_count": 7,
     "metadata": {},
     "output_type": "execute_result"
    }
   ],
   "source": [
    "data.duplicated()"
   ]
  },
  {
   "cell_type": "markdown",
   "metadata": {
    "id": "AVtFezGNcqxb"
   },
   "source": [
    "So duplicates returns boolean values for rows that are duplicated"
   ]
  },
  {
   "cell_type": "code",
   "execution_count": 8,
   "metadata": {
    "colab": {
     "base_uri": "https://localhost:8080/"
    },
    "id": "zD5fXiiXaUcP",
    "outputId": "87db042e-cb95-45bb-a3c6-c4ad68147fe7"
   },
   "outputs": [
    {
     "data": {
      "text/plain": [
       "True"
      ]
     },
     "execution_count": 8,
     "metadata": {},
     "output_type": "execute_result"
    }
   ],
   "source": [
    "any(data.duplicated()) # any rows where all entries are the same"
   ]
  },
  {
   "cell_type": "markdown",
   "metadata": {
    "id": "HXWrZRHmdije"
   },
   "source": [
    "Let's pull out the duplicates"
   ]
  },
  {
   "cell_type": "code",
   "execution_count": 9,
   "metadata": {
    "colab": {
     "base_uri": "https://localhost:8080/",
     "height": 534
    },
    "id": "iDX3uiptaVfH",
    "outputId": "8d9b54c6-e5ee-4e53-c597-65e8e1b9ba0e"
   },
   "outputs": [
    {
     "data": {
      "text/html": [
       "<div>\n",
       "<style scoped>\n",
       "    .dataframe tbody tr th:only-of-type {\n",
       "        vertical-align: middle;\n",
       "    }\n",
       "\n",
       "    .dataframe tbody tr th {\n",
       "        vertical-align: top;\n",
       "    }\n",
       "\n",
       "    .dataframe thead th {\n",
       "        text-align: right;\n",
       "    }\n",
       "</style>\n",
       "<table border=\"1\" class=\"dataframe\">\n",
       "  <thead>\n",
       "    <tr style=\"text-align: right;\">\n",
       "      <th></th>\n",
       "      <th>mpg</th>\n",
       "      <th>cylinders</th>\n",
       "      <th>displacement</th>\n",
       "      <th>horsepower</th>\n",
       "      <th>weight</th>\n",
       "      <th>acceleration</th>\n",
       "      <th>model_year</th>\n",
       "      <th>origin</th>\n",
       "      <th>name</th>\n",
       "      <th>Type</th>\n",
       "      <th>Color</th>\n",
       "    </tr>\n",
       "  </thead>\n",
       "  <tbody>\n",
       "    <tr>\n",
       "      <th>24</th>\n",
       "      <td>21.0</td>\n",
       "      <td>4.0</td>\n",
       "      <td>120.0</td>\n",
       "      <td>87.0</td>\n",
       "      <td>2979.0</td>\n",
       "      <td>19.5</td>\n",
       "      <td>72.0</td>\n",
       "      <td>europe</td>\n",
       "      <td>peugeot</td>\n",
       "      <td>Sedan</td>\n",
       "      <td>NaN</td>\n",
       "    </tr>\n",
       "    <tr>\n",
       "      <th>38</th>\n",
       "      <td>21.0</td>\n",
       "      <td>4.0</td>\n",
       "      <td>120.0</td>\n",
       "      <td>87.0</td>\n",
       "      <td>2979.0</td>\n",
       "      <td>19.5</td>\n",
       "      <td>72.0</td>\n",
       "      <td>europe</td>\n",
       "      <td>peugeot</td>\n",
       "      <td>Sedan</td>\n",
       "      <td>NaN</td>\n",
       "    </tr>\n",
       "    <tr>\n",
       "      <th>64</th>\n",
       "      <td>NaN</td>\n",
       "      <td>NaN</td>\n",
       "      <td>NaN</td>\n",
       "      <td>NaN</td>\n",
       "      <td>NaN</td>\n",
       "      <td>NaN</td>\n",
       "      <td>NaN</td>\n",
       "      <td>NaN</td>\n",
       "      <td>NaN</td>\n",
       "      <td>NaN</td>\n",
       "      <td>NaN</td>\n",
       "    </tr>\n",
       "    <tr>\n",
       "      <th>101</th>\n",
       "      <td>NaN</td>\n",
       "      <td>NaN</td>\n",
       "      <td>NaN</td>\n",
       "      <td>NaN</td>\n",
       "      <td>NaN</td>\n",
       "      <td>NaN</td>\n",
       "      <td>NaN</td>\n",
       "      <td>NaN</td>\n",
       "      <td>NaN</td>\n",
       "      <td>NaN</td>\n",
       "      <td>NaN</td>\n",
       "    </tr>\n",
       "    <tr>\n",
       "      <th>145</th>\n",
       "      <td>15.0</td>\n",
       "      <td>8.0</td>\n",
       "      <td>350.0</td>\n",
       "      <td>145.0</td>\n",
       "      <td>4440.0</td>\n",
       "      <td>14.0</td>\n",
       "      <td>75.0</td>\n",
       "      <td>usa</td>\n",
       "      <td>chevrolet</td>\n",
       "      <td>Sedan</td>\n",
       "      <td>NaN</td>\n",
       "    </tr>\n",
       "    <tr>\n",
       "      <th>155</th>\n",
       "      <td>29.0</td>\n",
       "      <td>4.0</td>\n",
       "      <td>97.0</td>\n",
       "      <td>75.0</td>\n",
       "      <td>2171.0</td>\n",
       "      <td>16.0</td>\n",
       "      <td>75.0</td>\n",
       "      <td>japan</td>\n",
       "      <td>toyota</td>\n",
       "      <td>Coupe</td>\n",
       "      <td>NaN</td>\n",
       "    </tr>\n",
       "    <tr>\n",
       "      <th>184</th>\n",
       "      <td>24.5</td>\n",
       "      <td>4.0</td>\n",
       "      <td>98.0</td>\n",
       "      <td>60.0</td>\n",
       "      <td>2164.0</td>\n",
       "      <td>22.1</td>\n",
       "      <td>76.0</td>\n",
       "      <td>usa</td>\n",
       "      <td>chevrolet</td>\n",
       "      <td>Coupe</td>\n",
       "      <td>NaN</td>\n",
       "    </tr>\n",
       "    <tr>\n",
       "      <th>209</th>\n",
       "      <td>17.5</td>\n",
       "      <td>8.0</td>\n",
       "      <td>305.0</td>\n",
       "      <td>145.0</td>\n",
       "      <td>3880.0</td>\n",
       "      <td>12.5</td>\n",
       "      <td>77.0</td>\n",
       "      <td>usa</td>\n",
       "      <td>chevrolet</td>\n",
       "      <td>Sedan</td>\n",
       "      <td>NaN</td>\n",
       "    </tr>\n",
       "    <tr>\n",
       "      <th>250</th>\n",
       "      <td>19.2</td>\n",
       "      <td>8.0</td>\n",
       "      <td>305.0</td>\n",
       "      <td>145.0</td>\n",
       "      <td>3425.0</td>\n",
       "      <td>13.2</td>\n",
       "      <td>78.0</td>\n",
       "      <td>usa</td>\n",
       "      <td>chevrolet</td>\n",
       "      <td>Sedan</td>\n",
       "      <td>NaN</td>\n",
       "    </tr>\n",
       "    <tr>\n",
       "      <th>254</th>\n",
       "      <td>30.0</td>\n",
       "      <td>4.0</td>\n",
       "      <td>98.0</td>\n",
       "      <td>68.0</td>\n",
       "      <td>2155.0</td>\n",
       "      <td>16.5</td>\n",
       "      <td>78.0</td>\n",
       "      <td>usa</td>\n",
       "      <td>chevrolet</td>\n",
       "      <td>Coupe</td>\n",
       "      <td>NaN</td>\n",
       "    </tr>\n",
       "    <tr>\n",
       "      <th>266</th>\n",
       "      <td>31.5</td>\n",
       "      <td>4.0</td>\n",
       "      <td>89.0</td>\n",
       "      <td>71.0</td>\n",
       "      <td>1990.0</td>\n",
       "      <td>14.9</td>\n",
       "      <td>78.0</td>\n",
       "      <td>europe</td>\n",
       "      <td>volkswagen</td>\n",
       "      <td>Coupe</td>\n",
       "      <td>NaN</td>\n",
       "    </tr>\n",
       "    <tr>\n",
       "      <th>294</th>\n",
       "      <td>28.8</td>\n",
       "      <td>6.0</td>\n",
       "      <td>173.0</td>\n",
       "      <td>115.0</td>\n",
       "      <td>2595.0</td>\n",
       "      <td>11.3</td>\n",
       "      <td>79.0</td>\n",
       "      <td>usa</td>\n",
       "      <td>chevrolet</td>\n",
       "      <td>Sedan</td>\n",
       "      <td>NaN</td>\n",
       "    </tr>\n",
       "    <tr>\n",
       "      <th>299</th>\n",
       "      <td>32.1</td>\n",
       "      <td>4.0</td>\n",
       "      <td>98.0</td>\n",
       "      <td>70.0</td>\n",
       "      <td>2120.0</td>\n",
       "      <td>15.5</td>\n",
       "      <td>80.0</td>\n",
       "      <td>usa</td>\n",
       "      <td>chevrolet</td>\n",
       "      <td>Coupe</td>\n",
       "      <td>NaN</td>\n",
       "    </tr>\n",
       "    <tr>\n",
       "      <th>349</th>\n",
       "      <td>25.4</td>\n",
       "      <td>6.0</td>\n",
       "      <td>168.0</td>\n",
       "      <td>116.0</td>\n",
       "      <td>2900.0</td>\n",
       "      <td>12.6</td>\n",
       "      <td>81.0</td>\n",
       "      <td>japan</td>\n",
       "      <td>toyota</td>\n",
       "      <td>Sedan</td>\n",
       "      <td>NaN</td>\n",
       "    </tr>\n",
       "    <tr>\n",
       "      <th>356</th>\n",
       "      <td>27.0</td>\n",
       "      <td>4.0</td>\n",
       "      <td>112.0</td>\n",
       "      <td>88.0</td>\n",
       "      <td>2640.0</td>\n",
       "      <td>18.6</td>\n",
       "      <td>82.0</td>\n",
       "      <td>usa</td>\n",
       "      <td>chevrolet</td>\n",
       "      <td>Sedan</td>\n",
       "      <td>NaN</td>\n",
       "    </tr>\n",
       "  </tbody>\n",
       "</table>\n",
       "</div>"
      ],
      "text/plain": [
       "      mpg  cylinders  displacement  horsepower  weight  acceleration  \\\n",
       "24   21.0        4.0         120.0        87.0  2979.0          19.5   \n",
       "38   21.0        4.0         120.0        87.0  2979.0          19.5   \n",
       "64    NaN        NaN           NaN         NaN     NaN           NaN   \n",
       "101   NaN        NaN           NaN         NaN     NaN           NaN   \n",
       "145  15.0        8.0         350.0       145.0  4440.0          14.0   \n",
       "155  29.0        4.0          97.0        75.0  2171.0          16.0   \n",
       "184  24.5        4.0          98.0        60.0  2164.0          22.1   \n",
       "209  17.5        8.0         305.0       145.0  3880.0          12.5   \n",
       "250  19.2        8.0         305.0       145.0  3425.0          13.2   \n",
       "254  30.0        4.0          98.0        68.0  2155.0          16.5   \n",
       "266  31.5        4.0          89.0        71.0  1990.0          14.9   \n",
       "294  28.8        6.0         173.0       115.0  2595.0          11.3   \n",
       "299  32.1        4.0          98.0        70.0  2120.0          15.5   \n",
       "349  25.4        6.0         168.0       116.0  2900.0          12.6   \n",
       "356  27.0        4.0         112.0        88.0  2640.0          18.6   \n",
       "\n",
       "     model_year  origin        name   Type Color  \n",
       "24         72.0  europe     peugeot  Sedan   NaN  \n",
       "38         72.0  europe     peugeot  Sedan   NaN  \n",
       "64          NaN     NaN         NaN    NaN   NaN  \n",
       "101         NaN     NaN         NaN    NaN   NaN  \n",
       "145        75.0     usa   chevrolet  Sedan   NaN  \n",
       "155        75.0   japan      toyota  Coupe   NaN  \n",
       "184        76.0     usa   chevrolet  Coupe   NaN  \n",
       "209        77.0     usa   chevrolet  Sedan   NaN  \n",
       "250        78.0     usa   chevrolet  Sedan   NaN  \n",
       "254        78.0     usa   chevrolet  Coupe   NaN  \n",
       "266        78.0  europe  volkswagen  Coupe   NaN  \n",
       "294        79.0     usa   chevrolet  Sedan   NaN  \n",
       "299        80.0     usa   chevrolet  Coupe   NaN  \n",
       "349        81.0   japan      toyota  Sedan   NaN  \n",
       "356        82.0     usa   chevrolet  Sedan   NaN  "
      ]
     },
     "execution_count": 9,
     "metadata": {},
     "output_type": "execute_result"
    }
   ],
   "source": [
    "data[data.duplicated()]"
   ]
  },
  {
   "cell_type": "markdown",
   "metadata": {
    "id": "d5WC8SVsdwpA"
   },
   "source": [
    "lets just look at some of the duplicates"
   ]
  },
  {
   "cell_type": "code",
   "execution_count": 10,
   "metadata": {
    "colab": {
     "base_uri": "https://localhost:8080/",
     "height": 162
    },
    "id": "-4YDJ8acaYm-",
    "outputId": "77f9c296-0acf-4fdf-ee18-9b447ae47e5b"
   },
   "outputs": [
    {
     "data": {
      "text/html": [
       "<div>\n",
       "<style scoped>\n",
       "    .dataframe tbody tr th:only-of-type {\n",
       "        vertical-align: middle;\n",
       "    }\n",
       "\n",
       "    .dataframe tbody tr th {\n",
       "        vertical-align: top;\n",
       "    }\n",
       "\n",
       "    .dataframe thead th {\n",
       "        text-align: right;\n",
       "    }\n",
       "</style>\n",
       "<table border=\"1\" class=\"dataframe\">\n",
       "  <thead>\n",
       "    <tr style=\"text-align: right;\">\n",
       "      <th></th>\n",
       "      <th>mpg</th>\n",
       "      <th>cylinders</th>\n",
       "      <th>displacement</th>\n",
       "      <th>horsepower</th>\n",
       "      <th>weight</th>\n",
       "      <th>acceleration</th>\n",
       "      <th>model_year</th>\n",
       "      <th>origin</th>\n",
       "      <th>name</th>\n",
       "      <th>Type</th>\n",
       "      <th>Color</th>\n",
       "    </tr>\n",
       "  </thead>\n",
       "  <tbody>\n",
       "    <tr>\n",
       "      <th>23</th>\n",
       "      <td>21.0</td>\n",
       "      <td>4.0</td>\n",
       "      <td>120.0</td>\n",
       "      <td>87.0</td>\n",
       "      <td>2979.0</td>\n",
       "      <td>19.5</td>\n",
       "      <td>72.0</td>\n",
       "      <td>europe</td>\n",
       "      <td>peugeot</td>\n",
       "      <td>Sedan</td>\n",
       "      <td>NaN</td>\n",
       "    </tr>\n",
       "    <tr>\n",
       "      <th>24</th>\n",
       "      <td>21.0</td>\n",
       "      <td>4.0</td>\n",
       "      <td>120.0</td>\n",
       "      <td>87.0</td>\n",
       "      <td>2979.0</td>\n",
       "      <td>19.5</td>\n",
       "      <td>72.0</td>\n",
       "      <td>europe</td>\n",
       "      <td>peugeot</td>\n",
       "      <td>Sedan</td>\n",
       "      <td>NaN</td>\n",
       "    </tr>\n",
       "    <tr>\n",
       "      <th>38</th>\n",
       "      <td>21.0</td>\n",
       "      <td>4.0</td>\n",
       "      <td>120.0</td>\n",
       "      <td>87.0</td>\n",
       "      <td>2979.0</td>\n",
       "      <td>19.5</td>\n",
       "      <td>72.0</td>\n",
       "      <td>europe</td>\n",
       "      <td>peugeot</td>\n",
       "      <td>Sedan</td>\n",
       "      <td>NaN</td>\n",
       "    </tr>\n",
       "  </tbody>\n",
       "</table>\n",
       "</div>"
      ],
      "text/plain": [
       "     mpg  cylinders  displacement  horsepower  weight  acceleration  \\\n",
       "23  21.0        4.0         120.0        87.0  2979.0          19.5   \n",
       "24  21.0        4.0         120.0        87.0  2979.0          19.5   \n",
       "38  21.0        4.0         120.0        87.0  2979.0          19.5   \n",
       "\n",
       "    model_year  origin     name   Type Color  \n",
       "23        72.0  europe  peugeot  Sedan   NaN  \n",
       "24        72.0  europe  peugeot  Sedan   NaN  \n",
       "38        72.0  europe  peugeot  Sedan   NaN  "
      ]
     },
     "execution_count": 10,
     "metadata": {},
     "output_type": "execute_result"
    }
   ],
   "source": [
    "data[data['weight']==2979] # duplicates doesn't show you all of them"
   ]
  },
  {
   "cell_type": "markdown",
   "metadata": {
    "id": "nvOgQe63tWKa"
   },
   "source": [
    "Alternatively, you can set the input argument in duplicated to be keep=False, which means that all instances of duplicates are marked"
   ]
  },
  {
   "cell_type": "code",
   "execution_count": 11,
   "metadata": {
    "colab": {
     "base_uri": "https://localhost:8080/",
     "height": 937
    },
    "id": "8-otrZoktMi3",
    "outputId": "7092e708-eedf-443d-fcb5-afb81a8aa45d"
   },
   "outputs": [
    {
     "data": {
      "text/html": [
       "<div>\n",
       "<style scoped>\n",
       "    .dataframe tbody tr th:only-of-type {\n",
       "        vertical-align: middle;\n",
       "    }\n",
       "\n",
       "    .dataframe tbody tr th {\n",
       "        vertical-align: top;\n",
       "    }\n",
       "\n",
       "    .dataframe thead th {\n",
       "        text-align: right;\n",
       "    }\n",
       "</style>\n",
       "<table border=\"1\" class=\"dataframe\">\n",
       "  <thead>\n",
       "    <tr style=\"text-align: right;\">\n",
       "      <th></th>\n",
       "      <th>mpg</th>\n",
       "      <th>cylinders</th>\n",
       "      <th>displacement</th>\n",
       "      <th>horsepower</th>\n",
       "      <th>weight</th>\n",
       "      <th>acceleration</th>\n",
       "      <th>model_year</th>\n",
       "      <th>origin</th>\n",
       "      <th>name</th>\n",
       "      <th>Type</th>\n",
       "      <th>Color</th>\n",
       "    </tr>\n",
       "  </thead>\n",
       "  <tbody>\n",
       "    <tr>\n",
       "      <th>23</th>\n",
       "      <td>21.0</td>\n",
       "      <td>4.0</td>\n",
       "      <td>120.0</td>\n",
       "      <td>87.0</td>\n",
       "      <td>2979.0</td>\n",
       "      <td>19.5</td>\n",
       "      <td>72.0</td>\n",
       "      <td>europe</td>\n",
       "      <td>peugeot</td>\n",
       "      <td>Sedan</td>\n",
       "      <td>NaN</td>\n",
       "    </tr>\n",
       "    <tr>\n",
       "      <th>24</th>\n",
       "      <td>21.0</td>\n",
       "      <td>4.0</td>\n",
       "      <td>120.0</td>\n",
       "      <td>87.0</td>\n",
       "      <td>2979.0</td>\n",
       "      <td>19.5</td>\n",
       "      <td>72.0</td>\n",
       "      <td>europe</td>\n",
       "      <td>peugeot</td>\n",
       "      <td>Sedan</td>\n",
       "      <td>NaN</td>\n",
       "    </tr>\n",
       "    <tr>\n",
       "      <th>38</th>\n",
       "      <td>21.0</td>\n",
       "      <td>4.0</td>\n",
       "      <td>120.0</td>\n",
       "      <td>87.0</td>\n",
       "      <td>2979.0</td>\n",
       "      <td>19.5</td>\n",
       "      <td>72.0</td>\n",
       "      <td>europe</td>\n",
       "      <td>peugeot</td>\n",
       "      <td>Sedan</td>\n",
       "      <td>NaN</td>\n",
       "    </tr>\n",
       "    <tr>\n",
       "      <th>42</th>\n",
       "      <td>NaN</td>\n",
       "      <td>NaN</td>\n",
       "      <td>NaN</td>\n",
       "      <td>NaN</td>\n",
       "      <td>NaN</td>\n",
       "      <td>NaN</td>\n",
       "      <td>NaN</td>\n",
       "      <td>NaN</td>\n",
       "      <td>NaN</td>\n",
       "      <td>NaN</td>\n",
       "      <td>NaN</td>\n",
       "    </tr>\n",
       "    <tr>\n",
       "      <th>48</th>\n",
       "      <td>15.0</td>\n",
       "      <td>8.0</td>\n",
       "      <td>350.0</td>\n",
       "      <td>145.0</td>\n",
       "      <td>4440.0</td>\n",
       "      <td>14.0</td>\n",
       "      <td>75.0</td>\n",
       "      <td>usa</td>\n",
       "      <td>chevrolet</td>\n",
       "      <td>Sedan</td>\n",
       "      <td>NaN</td>\n",
       "    </tr>\n",
       "    <tr>\n",
       "      <th>51</th>\n",
       "      <td>29.0</td>\n",
       "      <td>4.0</td>\n",
       "      <td>97.0</td>\n",
       "      <td>75.0</td>\n",
       "      <td>2171.0</td>\n",
       "      <td>16.0</td>\n",
       "      <td>75.0</td>\n",
       "      <td>japan</td>\n",
       "      <td>toyota</td>\n",
       "      <td>Coupe</td>\n",
       "      <td>NaN</td>\n",
       "    </tr>\n",
       "    <tr>\n",
       "      <th>62</th>\n",
       "      <td>24.5</td>\n",
       "      <td>4.0</td>\n",
       "      <td>98.0</td>\n",
       "      <td>60.0</td>\n",
       "      <td>2164.0</td>\n",
       "      <td>22.1</td>\n",
       "      <td>76.0</td>\n",
       "      <td>usa</td>\n",
       "      <td>chevrolet</td>\n",
       "      <td>Coupe</td>\n",
       "      <td>NaN</td>\n",
       "    </tr>\n",
       "    <tr>\n",
       "      <th>64</th>\n",
       "      <td>NaN</td>\n",
       "      <td>NaN</td>\n",
       "      <td>NaN</td>\n",
       "      <td>NaN</td>\n",
       "      <td>NaN</td>\n",
       "      <td>NaN</td>\n",
       "      <td>NaN</td>\n",
       "      <td>NaN</td>\n",
       "      <td>NaN</td>\n",
       "      <td>NaN</td>\n",
       "      <td>NaN</td>\n",
       "    </tr>\n",
       "    <tr>\n",
       "      <th>68</th>\n",
       "      <td>17.5</td>\n",
       "      <td>8.0</td>\n",
       "      <td>305.0</td>\n",
       "      <td>145.0</td>\n",
       "      <td>3880.0</td>\n",
       "      <td>12.5</td>\n",
       "      <td>77.0</td>\n",
       "      <td>usa</td>\n",
       "      <td>chevrolet</td>\n",
       "      <td>Sedan</td>\n",
       "      <td>NaN</td>\n",
       "    </tr>\n",
       "    <tr>\n",
       "      <th>77</th>\n",
       "      <td>19.2</td>\n",
       "      <td>8.0</td>\n",
       "      <td>305.0</td>\n",
       "      <td>145.0</td>\n",
       "      <td>3425.0</td>\n",
       "      <td>13.2</td>\n",
       "      <td>78.0</td>\n",
       "      <td>usa</td>\n",
       "      <td>chevrolet</td>\n",
       "      <td>Sedan</td>\n",
       "      <td>NaN</td>\n",
       "    </tr>\n",
       "    <tr>\n",
       "      <th>78</th>\n",
       "      <td>30.0</td>\n",
       "      <td>4.0</td>\n",
       "      <td>98.0</td>\n",
       "      <td>68.0</td>\n",
       "      <td>2155.0</td>\n",
       "      <td>16.5</td>\n",
       "      <td>78.0</td>\n",
       "      <td>usa</td>\n",
       "      <td>chevrolet</td>\n",
       "      <td>Coupe</td>\n",
       "      <td>NaN</td>\n",
       "    </tr>\n",
       "    <tr>\n",
       "      <th>85</th>\n",
       "      <td>31.5</td>\n",
       "      <td>4.0</td>\n",
       "      <td>89.0</td>\n",
       "      <td>71.0</td>\n",
       "      <td>1990.0</td>\n",
       "      <td>14.9</td>\n",
       "      <td>78.0</td>\n",
       "      <td>europe</td>\n",
       "      <td>volkswagen</td>\n",
       "      <td>Coupe</td>\n",
       "      <td>NaN</td>\n",
       "    </tr>\n",
       "    <tr>\n",
       "      <th>89</th>\n",
       "      <td>28.8</td>\n",
       "      <td>6.0</td>\n",
       "      <td>173.0</td>\n",
       "      <td>115.0</td>\n",
       "      <td>2595.0</td>\n",
       "      <td>11.3</td>\n",
       "      <td>79.0</td>\n",
       "      <td>usa</td>\n",
       "      <td>chevrolet</td>\n",
       "      <td>Sedan</td>\n",
       "      <td>NaN</td>\n",
       "    </tr>\n",
       "    <tr>\n",
       "      <th>91</th>\n",
       "      <td>32.1</td>\n",
       "      <td>4.0</td>\n",
       "      <td>98.0</td>\n",
       "      <td>70.0</td>\n",
       "      <td>2120.0</td>\n",
       "      <td>15.5</td>\n",
       "      <td>80.0</td>\n",
       "      <td>usa</td>\n",
       "      <td>chevrolet</td>\n",
       "      <td>Coupe</td>\n",
       "      <td>NaN</td>\n",
       "    </tr>\n",
       "    <tr>\n",
       "      <th>101</th>\n",
       "      <td>NaN</td>\n",
       "      <td>NaN</td>\n",
       "      <td>NaN</td>\n",
       "      <td>NaN</td>\n",
       "      <td>NaN</td>\n",
       "      <td>NaN</td>\n",
       "      <td>NaN</td>\n",
       "      <td>NaN</td>\n",
       "      <td>NaN</td>\n",
       "      <td>NaN</td>\n",
       "      <td>NaN</td>\n",
       "    </tr>\n",
       "    <tr>\n",
       "      <th>105</th>\n",
       "      <td>25.4</td>\n",
       "      <td>6.0</td>\n",
       "      <td>168.0</td>\n",
       "      <td>116.0</td>\n",
       "      <td>2900.0</td>\n",
       "      <td>12.6</td>\n",
       "      <td>81.0</td>\n",
       "      <td>japan</td>\n",
       "      <td>toyota</td>\n",
       "      <td>Sedan</td>\n",
       "      <td>NaN</td>\n",
       "    </tr>\n",
       "    <tr>\n",
       "      <th>107</th>\n",
       "      <td>27.0</td>\n",
       "      <td>4.0</td>\n",
       "      <td>112.0</td>\n",
       "      <td>88.0</td>\n",
       "      <td>2640.0</td>\n",
       "      <td>18.6</td>\n",
       "      <td>82.0</td>\n",
       "      <td>usa</td>\n",
       "      <td>chevrolet</td>\n",
       "      <td>Sedan</td>\n",
       "      <td>NaN</td>\n",
       "    </tr>\n",
       "    <tr>\n",
       "      <th>145</th>\n",
       "      <td>15.0</td>\n",
       "      <td>8.0</td>\n",
       "      <td>350.0</td>\n",
       "      <td>145.0</td>\n",
       "      <td>4440.0</td>\n",
       "      <td>14.0</td>\n",
       "      <td>75.0</td>\n",
       "      <td>usa</td>\n",
       "      <td>chevrolet</td>\n",
       "      <td>Sedan</td>\n",
       "      <td>NaN</td>\n",
       "    </tr>\n",
       "    <tr>\n",
       "      <th>155</th>\n",
       "      <td>29.0</td>\n",
       "      <td>4.0</td>\n",
       "      <td>97.0</td>\n",
       "      <td>75.0</td>\n",
       "      <td>2171.0</td>\n",
       "      <td>16.0</td>\n",
       "      <td>75.0</td>\n",
       "      <td>japan</td>\n",
       "      <td>toyota</td>\n",
       "      <td>Coupe</td>\n",
       "      <td>NaN</td>\n",
       "    </tr>\n",
       "    <tr>\n",
       "      <th>184</th>\n",
       "      <td>24.5</td>\n",
       "      <td>4.0</td>\n",
       "      <td>98.0</td>\n",
       "      <td>60.0</td>\n",
       "      <td>2164.0</td>\n",
       "      <td>22.1</td>\n",
       "      <td>76.0</td>\n",
       "      <td>usa</td>\n",
       "      <td>chevrolet</td>\n",
       "      <td>Coupe</td>\n",
       "      <td>NaN</td>\n",
       "    </tr>\n",
       "    <tr>\n",
       "      <th>209</th>\n",
       "      <td>17.5</td>\n",
       "      <td>8.0</td>\n",
       "      <td>305.0</td>\n",
       "      <td>145.0</td>\n",
       "      <td>3880.0</td>\n",
       "      <td>12.5</td>\n",
       "      <td>77.0</td>\n",
       "      <td>usa</td>\n",
       "      <td>chevrolet</td>\n",
       "      <td>Sedan</td>\n",
       "      <td>NaN</td>\n",
       "    </tr>\n",
       "    <tr>\n",
       "      <th>250</th>\n",
       "      <td>19.2</td>\n",
       "      <td>8.0</td>\n",
       "      <td>305.0</td>\n",
       "      <td>145.0</td>\n",
       "      <td>3425.0</td>\n",
       "      <td>13.2</td>\n",
       "      <td>78.0</td>\n",
       "      <td>usa</td>\n",
       "      <td>chevrolet</td>\n",
       "      <td>Sedan</td>\n",
       "      <td>NaN</td>\n",
       "    </tr>\n",
       "    <tr>\n",
       "      <th>254</th>\n",
       "      <td>30.0</td>\n",
       "      <td>4.0</td>\n",
       "      <td>98.0</td>\n",
       "      <td>68.0</td>\n",
       "      <td>2155.0</td>\n",
       "      <td>16.5</td>\n",
       "      <td>78.0</td>\n",
       "      <td>usa</td>\n",
       "      <td>chevrolet</td>\n",
       "      <td>Coupe</td>\n",
       "      <td>NaN</td>\n",
       "    </tr>\n",
       "    <tr>\n",
       "      <th>266</th>\n",
       "      <td>31.5</td>\n",
       "      <td>4.0</td>\n",
       "      <td>89.0</td>\n",
       "      <td>71.0</td>\n",
       "      <td>1990.0</td>\n",
       "      <td>14.9</td>\n",
       "      <td>78.0</td>\n",
       "      <td>europe</td>\n",
       "      <td>volkswagen</td>\n",
       "      <td>Coupe</td>\n",
       "      <td>NaN</td>\n",
       "    </tr>\n",
       "    <tr>\n",
       "      <th>294</th>\n",
       "      <td>28.8</td>\n",
       "      <td>6.0</td>\n",
       "      <td>173.0</td>\n",
       "      <td>115.0</td>\n",
       "      <td>2595.0</td>\n",
       "      <td>11.3</td>\n",
       "      <td>79.0</td>\n",
       "      <td>usa</td>\n",
       "      <td>chevrolet</td>\n",
       "      <td>Sedan</td>\n",
       "      <td>NaN</td>\n",
       "    </tr>\n",
       "    <tr>\n",
       "      <th>299</th>\n",
       "      <td>32.1</td>\n",
       "      <td>4.0</td>\n",
       "      <td>98.0</td>\n",
       "      <td>70.0</td>\n",
       "      <td>2120.0</td>\n",
       "      <td>15.5</td>\n",
       "      <td>80.0</td>\n",
       "      <td>usa</td>\n",
       "      <td>chevrolet</td>\n",
       "      <td>Coupe</td>\n",
       "      <td>NaN</td>\n",
       "    </tr>\n",
       "    <tr>\n",
       "      <th>349</th>\n",
       "      <td>25.4</td>\n",
       "      <td>6.0</td>\n",
       "      <td>168.0</td>\n",
       "      <td>116.0</td>\n",
       "      <td>2900.0</td>\n",
       "      <td>12.6</td>\n",
       "      <td>81.0</td>\n",
       "      <td>japan</td>\n",
       "      <td>toyota</td>\n",
       "      <td>Sedan</td>\n",
       "      <td>NaN</td>\n",
       "    </tr>\n",
       "    <tr>\n",
       "      <th>356</th>\n",
       "      <td>27.0</td>\n",
       "      <td>4.0</td>\n",
       "      <td>112.0</td>\n",
       "      <td>88.0</td>\n",
       "      <td>2640.0</td>\n",
       "      <td>18.6</td>\n",
       "      <td>82.0</td>\n",
       "      <td>usa</td>\n",
       "      <td>chevrolet</td>\n",
       "      <td>Sedan</td>\n",
       "      <td>NaN</td>\n",
       "    </tr>\n",
       "  </tbody>\n",
       "</table>\n",
       "</div>"
      ],
      "text/plain": [
       "      mpg  cylinders  displacement  horsepower  weight  acceleration  \\\n",
       "23   21.0        4.0         120.0        87.0  2979.0          19.5   \n",
       "24   21.0        4.0         120.0        87.0  2979.0          19.5   \n",
       "38   21.0        4.0         120.0        87.0  2979.0          19.5   \n",
       "42    NaN        NaN           NaN         NaN     NaN           NaN   \n",
       "48   15.0        8.0         350.0       145.0  4440.0          14.0   \n",
       "51   29.0        4.0          97.0        75.0  2171.0          16.0   \n",
       "62   24.5        4.0          98.0        60.0  2164.0          22.1   \n",
       "64    NaN        NaN           NaN         NaN     NaN           NaN   \n",
       "68   17.5        8.0         305.0       145.0  3880.0          12.5   \n",
       "77   19.2        8.0         305.0       145.0  3425.0          13.2   \n",
       "78   30.0        4.0          98.0        68.0  2155.0          16.5   \n",
       "85   31.5        4.0          89.0        71.0  1990.0          14.9   \n",
       "89   28.8        6.0         173.0       115.0  2595.0          11.3   \n",
       "91   32.1        4.0          98.0        70.0  2120.0          15.5   \n",
       "101   NaN        NaN           NaN         NaN     NaN           NaN   \n",
       "105  25.4        6.0         168.0       116.0  2900.0          12.6   \n",
       "107  27.0        4.0         112.0        88.0  2640.0          18.6   \n",
       "145  15.0        8.0         350.0       145.0  4440.0          14.0   \n",
       "155  29.0        4.0          97.0        75.0  2171.0          16.0   \n",
       "184  24.5        4.0          98.0        60.0  2164.0          22.1   \n",
       "209  17.5        8.0         305.0       145.0  3880.0          12.5   \n",
       "250  19.2        8.0         305.0       145.0  3425.0          13.2   \n",
       "254  30.0        4.0          98.0        68.0  2155.0          16.5   \n",
       "266  31.5        4.0          89.0        71.0  1990.0          14.9   \n",
       "294  28.8        6.0         173.0       115.0  2595.0          11.3   \n",
       "299  32.1        4.0          98.0        70.0  2120.0          15.5   \n",
       "349  25.4        6.0         168.0       116.0  2900.0          12.6   \n",
       "356  27.0        4.0         112.0        88.0  2640.0          18.6   \n",
       "\n",
       "     model_year  origin        name   Type Color  \n",
       "23         72.0  europe     peugeot  Sedan   NaN  \n",
       "24         72.0  europe     peugeot  Sedan   NaN  \n",
       "38         72.0  europe     peugeot  Sedan   NaN  \n",
       "42          NaN     NaN         NaN    NaN   NaN  \n",
       "48         75.0     usa   chevrolet  Sedan   NaN  \n",
       "51         75.0   japan      toyota  Coupe   NaN  \n",
       "62         76.0     usa   chevrolet  Coupe   NaN  \n",
       "64          NaN     NaN         NaN    NaN   NaN  \n",
       "68         77.0     usa   chevrolet  Sedan   NaN  \n",
       "77         78.0     usa   chevrolet  Sedan   NaN  \n",
       "78         78.0     usa   chevrolet  Coupe   NaN  \n",
       "85         78.0  europe  volkswagen  Coupe   NaN  \n",
       "89         79.0     usa   chevrolet  Sedan   NaN  \n",
       "91         80.0     usa   chevrolet  Coupe   NaN  \n",
       "101         NaN     NaN         NaN    NaN   NaN  \n",
       "105        81.0   japan      toyota  Sedan   NaN  \n",
       "107        82.0     usa   chevrolet  Sedan   NaN  \n",
       "145        75.0     usa   chevrolet  Sedan   NaN  \n",
       "155        75.0   japan      toyota  Coupe   NaN  \n",
       "184        76.0     usa   chevrolet  Coupe   NaN  \n",
       "209        77.0     usa   chevrolet  Sedan   NaN  \n",
       "250        78.0     usa   chevrolet  Sedan   NaN  \n",
       "254        78.0     usa   chevrolet  Coupe   NaN  \n",
       "266        78.0  europe  volkswagen  Coupe   NaN  \n",
       "294        79.0     usa   chevrolet  Sedan   NaN  \n",
       "299        80.0     usa   chevrolet  Coupe   NaN  \n",
       "349        81.0   japan      toyota  Sedan   NaN  \n",
       "356        82.0     usa   chevrolet  Sedan   NaN  "
      ]
     },
     "execution_count": 11,
     "metadata": {},
     "output_type": "execute_result"
    }
   ],
   "source": [
    "data[data.duplicated(keep=False)]\n"
   ]
  },
  {
   "cell_type": "markdown",
   "metadata": {
    "id": "7Z1lGq6id1Wd"
   },
   "source": [
    "We can drop them like so\n",
    "\n",
    "Its important to use ignore_index as true in this situation. This reindexes the data to 0,1,2, etc. Otherwise, the dropped duplicates will have missing index values, which could cause problems if you forget about these missing indexes"
   ]
  },
  {
   "cell_type": "code",
   "execution_count": 12,
   "metadata": {
    "id": "-VhXliyIaa3Y"
   },
   "outputs": [],
   "source": [
    "data_nodupes = data.drop_duplicates(ignore_index=True) # INDEXES"
   ]
  },
  {
   "cell_type": "markdown",
   "metadata": {
    "id": "uMap_4bneUm1"
   },
   "source": [
    "Let's double check that that worked"
   ]
  },
  {
   "cell_type": "code",
   "execution_count": 13,
   "metadata": {
    "colab": {
     "base_uri": "https://localhost:8080/"
    },
    "id": "1ztKPl9SaecW",
    "outputId": "13fc9e88-1144-4bb1-f4b1-3c348f42870a"
   },
   "outputs": [
    {
     "data": {
      "text/plain": [
       "False"
      ]
     },
     "execution_count": 13,
     "metadata": {},
     "output_type": "execute_result"
    }
   ],
   "source": [
    "any(data_nodupes.duplicated())"
   ]
  },
  {
   "cell_type": "markdown",
   "metadata": {
    "id": "k36R1eE8eZyO"
   },
   "source": [
    "Just another quick check"
   ]
  },
  {
   "cell_type": "code",
   "execution_count": 14,
   "metadata": {
    "colab": {
     "base_uri": "https://localhost:8080/"
    },
    "id": "RExcUm5Kafh4",
    "outputId": "a84bef4c-764a-4849-cdff-467124730f49"
   },
   "outputs": [
    {
     "data": {
      "text/plain": [
       "(371, 11)"
      ]
     },
     "execution_count": 14,
     "metadata": {},
     "output_type": "execute_result"
    }
   ],
   "source": [
    "data_nodupes.shape"
   ]
  },
  {
   "cell_type": "markdown",
   "metadata": {
    "id": "wv0wyFcsdLDq"
   },
   "source": [
    "We will focus on just the missing data now\n",
    "\n",
    "#### Both the counts in describe and the non-null count in info tell us that we have missing data\n",
    "\n",
    "#### We can visually see the null data using a heatmap\n",
    "\n"
   ]
  },
  {
   "cell_type": "code",
   "execution_count": 15,
   "metadata": {
    "colab": {
     "base_uri": "https://localhost:8080/",
     "height": 344
    },
    "id": "Cr5NctjqdHKS",
    "outputId": "850fdb47-af68-4588-8332-70fe4f6bf234"
   },
   "outputs": [
    {
     "data": {
      "text/plain": [
       "<AxesSubplot:>"
      ]
     },
     "execution_count": 15,
     "metadata": {},
     "output_type": "execute_result"
    },
    {
     "data": {
      "image/png": "[encoded data removed]",
      "text/plain": [
       "<Figure size 432x288 with 2 Axes>"
      ]
     },
     "metadata": {
      "filenames": {
       "image/png": "/Users/erikbrockbank/web/teaching/ucsd-css-002.github.io/_build/jupyter_execute/Garrett_Lectures/s21_Lecture08_duplicates_missing_27_1.png"
      },
      "needs_background": "light"
     },
     "output_type": "display_data"
    }
   ],
   "source": [
    "sns.heatmap(data_nodupes.isnull(),cmap=['Green', 'Red']) # added a cmap to make it clearer"
   ]
  },
  {
   "cell_type": "markdown",
   "metadata": {
    "id": "PY-Ao43CfIoT"
   },
   "source": [
    "#### We have two options regarding what to do with missing data:\n",
    "  1. drop it (remove the rows/columns)\n",
    "  2. fill it with another value\n",
    "\n",
    "#### The decision to drop or fill may be based on a couple of factors. \n",
    "\n",
    "#### If the missing data is random, its generally okay to drop. \n",
    "\n",
    "#### However, if it is non-random, dropping the data may bias your sample. For example, if you wanted to figure out the average weight of a crowd of people, you may have lots of missing data from people who don't want to reveal their weight. Averaging only those willing to share their weight may be significantly different than what the actual weight is. In situations like this, there isn't much you can do, but perhaps filling in their data would help"
   ]
  },
  {
   "cell_type": "markdown",
   "metadata": {
    "id": "-mZZ1-NcfRaB"
   },
   "source": [
    "#### Let's talk about dropping it first"
   ]
  },
  {
   "cell_type": "code",
   "execution_count": 16,
   "metadata": {
    "id": "N__16ZabdYLs"
   },
   "outputs": [],
   "source": [
    "data_nonans = data_nodupes.dropna() # dropna will take care of those pesky nans!"
   ]
  },
  {
   "cell_type": "code",
   "execution_count": 17,
   "metadata": {
    "colab": {
     "base_uri": "https://localhost:8080/",
     "height": 344
    },
    "id": "AYwzD-J_fhmB",
    "outputId": "47f95c97-70d0-4eb2-e95a-91b4c0860196"
   },
   "outputs": [
    {
     "data": {
      "text/plain": [
       "<AxesSubplot:>"
      ]
     },
     "execution_count": 17,
     "metadata": {},
     "output_type": "execute_result"
    },
    {
     "data": {
      "image/png": "[encoded data removed]",
      "text/plain": [
       "<Figure size 432x288 with 2 Axes>"
      ]
     },
     "metadata": {
      "filenames": {
       "image/png": "/Users/erikbrockbank/web/teaching/ucsd-css-002.github.io/_build/jupyter_execute/Garrett_Lectures/s21_Lecture08_duplicates_missing_31_1.png"
      },
      "needs_background": "light"
     },
     "output_type": "display_data"
    }
   ],
   "source": [
    "sns.heatmap(data_nonans.isnull(),cmap=['Green','Green','Red']) "
   ]
  },
  {
   "cell_type": "markdown",
   "metadata": {
    "id": "kPRmOKl-fp5B"
   },
   "source": [
    "#### Looks great! Anyone think about a potential problem with this?"
   ]
  },
  {
   "cell_type": "code",
   "execution_count": 18,
   "metadata": {
    "colab": {
     "base_uri": "https://localhost:8080/"
    },
    "id": "xqJNjwytfk8n",
    "outputId": "2f976cb8-4945-40a6-b745-b091ba23bea7"
   },
   "outputs": [
    {
     "data": {
      "text/plain": [
       "(112, 11)"
      ]
     },
     "execution_count": 18,
     "metadata": {},
     "output_type": "execute_result"
    }
   ],
   "source": [
    "data_nonans.shape"
   ]
  },
  {
   "cell_type": "markdown",
   "metadata": {
    "id": "8dXaVjdEf66Q"
   },
   "source": [
    "#### Let's try to be more specific. Dropna dropped all of the rows with nans!\n",
    "\n",
    "#### Let's just drop the rows that are all NaNs\n",
    "\n",
    "#### The default is how='any'"
   ]
  },
  {
   "cell_type": "code",
   "execution_count": 19,
   "metadata": {
    "colab": {
     "base_uri": "https://localhost:8080/"
    },
    "id": "eWsOCkn8hwMD",
    "outputId": "4f34c33a-ac2d-4034-ab41-6728110aa5bc"
   },
   "outputs": [
    {
     "name": "stdout",
     "output_type": "stream",
     "text": [
      "<class 'pandas.core.frame.DataFrame'>\n",
      "Int64Index: 383 entries, 0 to 385\n",
      "Data columns (total 11 columns):\n",
      " #   Column        Non-Null Count  Dtype  \n",
      "---  ------        --------------  -----  \n",
      " 0   mpg           383 non-null    float64\n",
      " 1   cylinders     383 non-null    float64\n",
      " 2   displacement  378 non-null    float64\n",
      " 3   horsepower    378 non-null    float64\n",
      " 4   weight        381 non-null    float64\n",
      " 5   acceleration  381 non-null    float64\n",
      " 6   model_year    381 non-null    float64\n",
      " 7   origin        383 non-null    object \n",
      " 8   name          377 non-null    object \n",
      " 9   Type          372 non-null    object \n",
      " 10  Color         118 non-null    object \n",
      "dtypes: float64(7), object(4)\n",
      "memory usage: 35.9+ KB\n"
     ]
    }
   ],
   "source": [
    "data_nonan_rows = data.dropna(how='all') # how? only drop those with all nans\n",
    "data_nonan_rows.info()"
   ]
  },
  {
   "cell_type": "code",
   "execution_count": 20,
   "metadata": {
    "colab": {
     "base_uri": "https://localhost:8080/",
     "height": 344
    },
    "id": "4-GiTQdsiMl-",
    "outputId": "89671d67-d19f-4565-cdbb-948a96236ae8"
   },
   "outputs": [
    {
     "data": {
      "text/plain": [
       "<AxesSubplot:>"
      ]
     },
     "execution_count": 20,
     "metadata": {},
     "output_type": "execute_result"
    },
    {
     "data": {
      "image/png": "[encoded data removed]",
      "text/plain": [
       "<Figure size 432x288 with 2 Axes>"
      ]
     },
     "metadata": {
      "filenames": {
       "image/png": "/Users/erikbrockbank/web/teaching/ucsd-css-002.github.io/_build/jupyter_execute/Garrett_Lectures/s21_Lecture08_duplicates_missing_36_1.png"
      },
      "needs_background": "light"
     },
     "output_type": "display_data"
    }
   ],
   "source": [
    "sns.heatmap(data_nonan_rows.isnull(),cmap=['Green','Red'])"
   ]
  },
  {
   "cell_type": "markdown",
   "metadata": {
    "id": "9w99cv4ohm0f"
   },
   "source": [
    "#### The Color column seems to be mostly missing data. We could create a 'color' or 'no color' column, but I don't think that would mean anything\n",
    "\n",
    "#### Let's drop that column\n"
   ]
  },
  {
   "cell_type": "code",
   "execution_count": 21,
   "metadata": {
    "id": "tp8iZoiafmQQ"
   },
   "outputs": [],
   "source": [
    "data2 = data_nonan_rows.drop(['Color'],axis=1)"
   ]
  },
  {
   "cell_type": "code",
   "execution_count": 22,
   "metadata": {
    "colab": {
     "base_uri": "https://localhost:8080/"
    },
    "id": "HhdnhVXQgdK_",
    "outputId": "2034fa76-32b6-40b6-b4f9-556ae2a606b9"
   },
   "outputs": [
    {
     "data": {
      "text/plain": [
       "(383, 10)"
      ]
     },
     "execution_count": 22,
     "metadata": {},
     "output_type": "execute_result"
    }
   ],
   "source": [
    "data2.shape"
   ]
  },
  {
   "cell_type": "code",
   "execution_count": 23,
   "metadata": {
    "colab": {
     "base_uri": "https://localhost:8080/",
     "height": 204
    },
    "id": "ZaspJ1XRgmWT",
    "outputId": "64ca7ec2-4c91-45ba-eafb-ee5c391be373"
   },
   "outputs": [
    {
     "data": {
      "text/html": [
       "<div>\n",
       "<style scoped>\n",
       "    .dataframe tbody tr th:only-of-type {\n",
       "        vertical-align: middle;\n",
       "    }\n",
       "\n",
       "    .dataframe tbody tr th {\n",
       "        vertical-align: top;\n",
       "    }\n",
       "\n",
       "    .dataframe thead th {\n",
       "        text-align: right;\n",
       "    }\n",
       "</style>\n",
       "<table border=\"1\" class=\"dataframe\">\n",
       "  <thead>\n",
       "    <tr style=\"text-align: right;\">\n",
       "      <th></th>\n",
       "      <th>mpg</th>\n",
       "      <th>cylinders</th>\n",
       "      <th>displacement</th>\n",
       "      <th>horsepower</th>\n",
       "      <th>weight</th>\n",
       "      <th>acceleration</th>\n",
       "      <th>model_year</th>\n",
       "      <th>origin</th>\n",
       "      <th>name</th>\n",
       "      <th>Type</th>\n",
       "    </tr>\n",
       "  </thead>\n",
       "  <tbody>\n",
       "    <tr>\n",
       "      <th>0</th>\n",
       "      <td>18.0</td>\n",
       "      <td>8.0</td>\n",
       "      <td>307.0</td>\n",
       "      <td>130.0</td>\n",
       "      <td>3504.0</td>\n",
       "      <td>12.0</td>\n",
       "      <td>70.0</td>\n",
       "      <td>usa</td>\n",
       "      <td>chevrolet</td>\n",
       "      <td>Sedan</td>\n",
       "    </tr>\n",
       "    <tr>\n",
       "      <th>1</th>\n",
       "      <td>14.0</td>\n",
       "      <td>8.0</td>\n",
       "      <td>454.0</td>\n",
       "      <td>220.0</td>\n",
       "      <td>4354.0</td>\n",
       "      <td>9.0</td>\n",
       "      <td>70.0</td>\n",
       "      <td>usa</td>\n",
       "      <td>chevrolet</td>\n",
       "      <td>Sedan</td>\n",
       "    </tr>\n",
       "    <tr>\n",
       "      <th>2</th>\n",
       "      <td>15.0</td>\n",
       "      <td>8.0</td>\n",
       "      <td>400.0</td>\n",
       "      <td>150.0</td>\n",
       "      <td>3761.0</td>\n",
       "      <td>9.5</td>\n",
       "      <td>70.0</td>\n",
       "      <td>usa</td>\n",
       "      <td>chevrolet</td>\n",
       "      <td>Sedan</td>\n",
       "    </tr>\n",
       "    <tr>\n",
       "      <th>3</th>\n",
       "      <td>24.0</td>\n",
       "      <td>4.0</td>\n",
       "      <td>113.0</td>\n",
       "      <td>95.0</td>\n",
       "      <td>2372.0</td>\n",
       "      <td>15.0</td>\n",
       "      <td>70.0</td>\n",
       "      <td>japan</td>\n",
       "      <td>toyota</td>\n",
       "      <td>Coupe</td>\n",
       "    </tr>\n",
       "    <tr>\n",
       "      <th>4</th>\n",
       "      <td>26.0</td>\n",
       "      <td>4.0</td>\n",
       "      <td>12.0</td>\n",
       "      <td>46.0</td>\n",
       "      <td>1835.0</td>\n",
       "      <td>20.5</td>\n",
       "      <td>70.0</td>\n",
       "      <td>europe</td>\n",
       "      <td>volkswagen</td>\n",
       "      <td>Coupe</td>\n",
       "    </tr>\n",
       "  </tbody>\n",
       "</table>\n",
       "</div>"
      ],
      "text/plain": [
       "    mpg  cylinders  displacement  horsepower  weight  acceleration  \\\n",
       "0  18.0        8.0         307.0       130.0  3504.0          12.0   \n",
       "1  14.0        8.0         454.0       220.0  4354.0           9.0   \n",
       "2  15.0        8.0         400.0       150.0  3761.0           9.5   \n",
       "3  24.0        4.0         113.0        95.0  2372.0          15.0   \n",
       "4  26.0        4.0          12.0        46.0  1835.0          20.5   \n",
       "\n",
       "   model_year  origin        name   Type  \n",
       "0        70.0     usa   chevrolet  Sedan  \n",
       "1        70.0     usa   chevrolet  Sedan  \n",
       "2        70.0     usa   chevrolet  Sedan  \n",
       "3        70.0   japan      toyota  Coupe  \n",
       "4        70.0  europe  volkswagen  Coupe  "
      ]
     },
     "execution_count": 23,
     "metadata": {},
     "output_type": "execute_result"
    }
   ],
   "source": [
    "data2.head()"
   ]
  },
  {
   "cell_type": "markdown",
   "metadata": {
    "id": "b3n5wZgrgpD3"
   },
   "source": [
    "#### Now let's back at our heatmap"
   ]
  },
  {
   "cell_type": "code",
   "execution_count": 24,
   "metadata": {
    "colab": {
     "base_uri": "https://localhost:8080/",
     "height": 344
    },
    "id": "YmIRmDVBgns3",
    "outputId": "3fa9067f-dab3-4b2e-993a-18826a7fa849"
   },
   "outputs": [
    {
     "data": {
      "text/plain": [
       "<AxesSubplot:>"
      ]
     },
     "execution_count": 24,
     "metadata": {},
     "output_type": "execute_result"
    },
    {
     "data": {
      "image/png": "[encoded data removed]",
      "text/plain": [
       "<Figure size 432x288 with 2 Axes>"
      ]
     },
     "metadata": {
      "filenames": {
       "image/png": "/Users/erikbrockbank/web/teaching/ucsd-css-002.github.io/_build/jupyter_execute/Garrett_Lectures/s21_Lecture08_duplicates_missing_42_1.png"
      },
      "needs_background": "light"
     },
     "output_type": "display_data"
    }
   ],
   "source": [
    "sns.heatmap(data2.isnull(),cmap=['Green','Red'])"
   ]
  },
  {
   "cell_type": "markdown",
   "metadata": {
    "id": "rNbi3UgnhGSg"
   },
   "source": [
    "#### Those rows with mostly missing data are still pretty problematic\n",
    "\n",
    "#### Some just having a single missing value, which probably isn't much of a problem. But some rows have lots of missing data. Let's drop those rows\n",
    "\n",
    "#### Thresh says - it must have X many non-nans for it to be kept"
   ]
  },
  {
   "cell_type": "code",
   "execution_count": 25,
   "metadata": {
    "colab": {
     "base_uri": "https://localhost:8080/",
     "height": 344
    },
    "id": "pJ5d-UxKhD8T",
    "outputId": "79eb885b-a8af-430b-d93d-5b3521a6b3a2"
   },
   "outputs": [
    {
     "data": {
      "text/plain": [
       "<AxesSubplot:>"
      ]
     },
     "execution_count": 25,
     "metadata": {},
     "output_type": "execute_result"
    },
    {
     "data": {
      "image/png": "[encoded data removed]",
      "text/plain": [
       "<Figure size 432x288 with 2 Axes>"
      ]
     },
     "metadata": {
      "filenames": {
       "image/png": "/Users/erikbrockbank/web/teaching/ucsd-css-002.github.io/_build/jupyter_execute/Garrett_Lectures/s21_Lecture08_duplicates_missing_44_1.png"
      },
      "needs_background": "light"
     },
     "output_type": "display_data"
    }
   ],
   "source": [
    "data2_test1 = data2.dropna(thresh = 9)\n",
    "sns.heatmap(data2_test1.isnull(),cmap=['Green','Red'])"
   ]
  },
  {
   "cell_type": "code",
   "execution_count": 26,
   "metadata": {
    "colab": {
     "base_uri": "https://localhost:8080/",
     "height": 344
    },
    "id": "Qxd8MQYLD8es",
    "outputId": "7048863d-d4b6-41d0-d915-9fd36e3ac3bd"
   },
   "outputs": [
    {
     "data": {
      "text/plain": [
       "<AxesSubplot:>"
      ]
     },
     "execution_count": 26,
     "metadata": {},
     "output_type": "execute_result"
    },
    {
     "data": {
      "image/png": "[encoded data removed]",
      "text/plain": [
       "<Figure size 432x288 with 2 Axes>"
      ]
     },
     "metadata": {
      "filenames": {
       "image/png": "/Users/erikbrockbank/web/teaching/ucsd-css-002.github.io/_build/jupyter_execute/Garrett_Lectures/s21_Lecture08_duplicates_missing_45_1.png"
      },
      "needs_background": "light"
     },
     "output_type": "display_data"
    }
   ],
   "source": [
    "data2_test1 = data2.dropna(thresh = len(data2.columns)-1) # this way, I dont have to count the number of columns\n",
    "sns.heatmap(data2_test1.isnull(),cmap=['Green','Red'])"
   ]
  },
  {
   "cell_type": "markdown",
   "metadata": {
    "id": "Q3xC32kuj5wl"
   },
   "source": [
    "#### Note that the default axis is 0. We could delete columns that have at least certain numbers of nan values\n",
    "\n"
   ]
  },
  {
   "cell_type": "code",
   "execution_count": 27,
   "metadata": {
    "colab": {
     "base_uri": "https://localhost:8080/",
     "height": 338
    },
    "id": "G_M7sJs-iycF",
    "outputId": "16338efc-6b4a-4da5-91a2-f6f774b30cad"
   },
   "outputs": [
    {
     "data": {
      "text/plain": [
       "<AxesSubplot:>"
      ]
     },
     "execution_count": 27,
     "metadata": {},
     "output_type": "execute_result"
    },
    {
     "data": {
      "image/png": "[encoded data removed]",
      "text/plain": [
       "<Figure size 432x288 with 2 Axes>"
      ]
     },
     "metadata": {
      "filenames": {
       "image/png": "/Users/erikbrockbank/web/teaching/ucsd-css-002.github.io/_build/jupyter_execute/Garrett_Lectures/s21_Lecture08_duplicates_missing_47_1.png"
      },
      "needs_background": "light"
     },
     "output_type": "display_data"
    }
   ],
   "source": [
    "data2_test2 = data2.dropna(thresh = len(data2.index)-3,axis=1)\n",
    "sns.heatmap(data2_test2.isnull(),cmap=['Green','Red'])"
   ]
  },
  {
   "cell_type": "markdown",
   "metadata": {
    "id": "1j6f_l36kLO7"
   },
   "source": [
    "#### Let's just make sure there aren't more than two nans in a single row"
   ]
  },
  {
   "cell_type": "code",
   "execution_count": 28,
   "metadata": {
    "colab": {
     "base_uri": "https://localhost:8080/",
     "height": 344
    },
    "id": "M2fP9shNkSDv",
    "outputId": "092f7e92-507d-43fd-8eb1-c589a4a331c0"
   },
   "outputs": [
    {
     "data": {
      "text/plain": [
       "<AxesSubplot:>"
      ]
     },
     "execution_count": 28,
     "metadata": {},
     "output_type": "execute_result"
    },
    {
     "data": {
      "image/png": "[encoded data removed]",
      "text/plain": [
       "<Figure size 432x288 with 2 Axes>"
      ]
     },
     "metadata": {
      "filenames": {
       "image/png": "/Users/erikbrockbank/web/teaching/ucsd-css-002.github.io/_build/jupyter_execute/Garrett_Lectures/s21_Lecture08_duplicates_missing_49_1.png"
      },
      "needs_background": "light"
     },
     "output_type": "display_data"
    }
   ],
   "source": [
    "data3 = data2.dropna(thresh = len(data2.columns)-1)\n",
    "sns.heatmap(data3.isnull(),cmap=['Green','Red'])"
   ]
  },
  {
   "cell_type": "markdown",
   "metadata": {
    "id": "kHcEd89pkazI"
   },
   "source": [
    "#### Now, we are left with just a few nans. I think for these, let's keep them! \n",
    "\n",
    "#### As I said earlier, dropping/keeping them is dependent on the data. \n",
    "\n",
    "#### let's create an index of those remaining NaN data so we can check to make sure they have been filled in correctly"
   ]
  },
  {
   "cell_type": "code",
   "execution_count": 29,
   "metadata": {
    "id": "WzwX12_IEh3j"
   },
   "outputs": [],
   "source": [
    "is_NaN = data3.isnull() \n",
    "row_has_NaN = is_NaN.any(axis=1)"
   ]
  },
  {
   "cell_type": "code",
   "execution_count": 30,
   "metadata": {
    "colab": {
     "base_uri": "https://localhost:8080/",
     "height": 452
    },
    "id": "6bkX8TqMkUP4",
    "outputId": "b6aba163-52cb-4007-d469-2ac16cec3445"
   },
   "outputs": [
    {
     "data": {
      "text/html": [
       "<div>\n",
       "<style scoped>\n",
       "    .dataframe tbody tr th:only-of-type {\n",
       "        vertical-align: middle;\n",
       "    }\n",
       "\n",
       "    .dataframe tbody tr th {\n",
       "        vertical-align: top;\n",
       "    }\n",
       "\n",
       "    .dataframe thead th {\n",
       "        text-align: right;\n",
       "    }\n",
       "</style>\n",
       "<table border=\"1\" class=\"dataframe\">\n",
       "  <thead>\n",
       "    <tr style=\"text-align: right;\">\n",
       "      <th></th>\n",
       "      <th>mpg</th>\n",
       "      <th>cylinders</th>\n",
       "      <th>displacement</th>\n",
       "      <th>horsepower</th>\n",
       "      <th>weight</th>\n",
       "      <th>acceleration</th>\n",
       "      <th>model_year</th>\n",
       "      <th>origin</th>\n",
       "      <th>name</th>\n",
       "      <th>Type</th>\n",
       "    </tr>\n",
       "  </thead>\n",
       "  <tbody>\n",
       "    <tr>\n",
       "      <th>5</th>\n",
       "      <td>25.0</td>\n",
       "      <td>4.0</td>\n",
       "      <td>110.0</td>\n",
       "      <td>87.0</td>\n",
       "      <td>2672.0</td>\n",
       "      <td>NaN</td>\n",
       "      <td>70.0</td>\n",
       "      <td>europe</td>\n",
       "      <td>peugeot</td>\n",
       "      <td>Sedan</td>\n",
       "    </tr>\n",
       "    <tr>\n",
       "      <th>12</th>\n",
       "      <td>22.0</td>\n",
       "      <td>4.0</td>\n",
       "      <td>NaN</td>\n",
       "      <td>72.0</td>\n",
       "      <td>2408.0</td>\n",
       "      <td>19.0</td>\n",
       "      <td>71.0</td>\n",
       "      <td>usa</td>\n",
       "      <td>chevrolet</td>\n",
       "      <td>Coupe</td>\n",
       "    </tr>\n",
       "    <tr>\n",
       "      <th>13</th>\n",
       "      <td>30.0</td>\n",
       "      <td>4.0</td>\n",
       "      <td>NaN</td>\n",
       "      <td>70.0</td>\n",
       "      <td>2074.0</td>\n",
       "      <td>19.5</td>\n",
       "      <td>71.0</td>\n",
       "      <td>europe</td>\n",
       "      <td>peugeot</td>\n",
       "      <td>Coupe</td>\n",
       "    </tr>\n",
       "    <tr>\n",
       "      <th>15</th>\n",
       "      <td>27.0</td>\n",
       "      <td>4.0</td>\n",
       "      <td>NaN</td>\n",
       "      <td>60.0</td>\n",
       "      <td>1834.0</td>\n",
       "      <td>19.0</td>\n",
       "      <td>71.0</td>\n",
       "      <td>europe</td>\n",
       "      <td>volkswagen</td>\n",
       "      <td>Coupe</td>\n",
       "    </tr>\n",
       "    <tr>\n",
       "      <th>114</th>\n",
       "      <td>21.0</td>\n",
       "      <td>6.0</td>\n",
       "      <td>200.0</td>\n",
       "      <td>NaN</td>\n",
       "      <td>2875.0</td>\n",
       "      <td>17.0</td>\n",
       "      <td>74.0</td>\n",
       "      <td>usa</td>\n",
       "      <td>chevrolet</td>\n",
       "      <td>Sedan</td>\n",
       "    </tr>\n",
       "    <tr>\n",
       "      <th>128</th>\n",
       "      <td>14.0</td>\n",
       "      <td>8.0</td>\n",
       "      <td>304.0</td>\n",
       "      <td>150.0</td>\n",
       "      <td>4257.0</td>\n",
       "      <td>15.5</td>\n",
       "      <td>74.0</td>\n",
       "      <td>usa</td>\n",
       "      <td>toyota</td>\n",
       "      <td>NaN</td>\n",
       "    </tr>\n",
       "    <tr>\n",
       "      <th>205</th>\n",
       "      <td>30.0</td>\n",
       "      <td>4.0</td>\n",
       "      <td>111.0</td>\n",
       "      <td>80.0</td>\n",
       "      <td>2155.0</td>\n",
       "      <td>14.8</td>\n",
       "      <td>77.0</td>\n",
       "      <td>usa</td>\n",
       "      <td>toyota</td>\n",
       "      <td>NaN</td>\n",
       "    </tr>\n",
       "    <tr>\n",
       "      <th>235</th>\n",
       "      <td>39.4</td>\n",
       "      <td>4.0</td>\n",
       "      <td>85.0</td>\n",
       "      <td>70.0</td>\n",
       "      <td>2070.0</td>\n",
       "      <td>18.6</td>\n",
       "      <td>78.0</td>\n",
       "      <td>japan</td>\n",
       "      <td>toyota</td>\n",
       "      <td>NaN</td>\n",
       "    </tr>\n",
       "    <tr>\n",
       "      <th>318</th>\n",
       "      <td>40.9</td>\n",
       "      <td>4.0</td>\n",
       "      <td>85.0</td>\n",
       "      <td>NaN</td>\n",
       "      <td>1835.0</td>\n",
       "      <td>17.3</td>\n",
       "      <td>80.0</td>\n",
       "      <td>europe</td>\n",
       "      <td>chevrolet</td>\n",
       "      <td>Coupe</td>\n",
       "    </tr>\n",
       "    <tr>\n",
       "      <th>322</th>\n",
       "      <td>23.7</td>\n",
       "      <td>3.0</td>\n",
       "      <td>70.0</td>\n",
       "      <td>100.0</td>\n",
       "      <td>2420.0</td>\n",
       "      <td>12.5</td>\n",
       "      <td>80.0</td>\n",
       "      <td>japan</td>\n",
       "      <td>toyota</td>\n",
       "      <td>NaN</td>\n",
       "    </tr>\n",
       "    <tr>\n",
       "      <th>324</th>\n",
       "      <td>23.6</td>\n",
       "      <td>4.0</td>\n",
       "      <td>140.0</td>\n",
       "      <td>NaN</td>\n",
       "      <td>2905.0</td>\n",
       "      <td>14.3</td>\n",
       "      <td>80.0</td>\n",
       "      <td>usa</td>\n",
       "      <td>toyota</td>\n",
       "      <td>Sedan</td>\n",
       "    </tr>\n",
       "    <tr>\n",
       "      <th>342</th>\n",
       "      <td>34.5</td>\n",
       "      <td>4.0</td>\n",
       "      <td>100.0</td>\n",
       "      <td>NaN</td>\n",
       "      <td>2320.0</td>\n",
       "      <td>15.8</td>\n",
       "      <td>81.0</td>\n",
       "      <td>europe</td>\n",
       "      <td>chevrolet</td>\n",
       "      <td>Coupe</td>\n",
       "    </tr>\n",
       "    <tr>\n",
       "      <th>362</th>\n",
       "      <td>23.0</td>\n",
       "      <td>4.0</td>\n",
       "      <td>151.0</td>\n",
       "      <td>NaN</td>\n",
       "      <td>3035.0</td>\n",
       "      <td>20.5</td>\n",
       "      <td>82.0</td>\n",
       "      <td>usa</td>\n",
       "      <td>volkswagen</td>\n",
       "      <td>Sedan</td>\n",
       "    </tr>\n",
       "  </tbody>\n",
       "</table>\n",
       "</div>"
      ],
      "text/plain": [
       "      mpg  cylinders  displacement  horsepower  weight  acceleration  \\\n",
       "5    25.0        4.0         110.0        87.0  2672.0           NaN   \n",
       "12   22.0        4.0           NaN        72.0  2408.0          19.0   \n",
       "13   30.0        4.0           NaN        70.0  2074.0          19.5   \n",
       "15   27.0        4.0           NaN        60.0  1834.0          19.0   \n",
       "114  21.0        6.0         200.0         NaN  2875.0          17.0   \n",
       "128  14.0        8.0         304.0       150.0  4257.0          15.5   \n",
       "205  30.0        4.0         111.0        80.0  2155.0          14.8   \n",
       "235  39.4        4.0          85.0        70.0  2070.0          18.6   \n",
       "318  40.9        4.0          85.0         NaN  1835.0          17.3   \n",
       "322  23.7        3.0          70.0       100.0  2420.0          12.5   \n",
       "324  23.6        4.0         140.0         NaN  2905.0          14.3   \n",
       "342  34.5        4.0         100.0         NaN  2320.0          15.8   \n",
       "362  23.0        4.0         151.0         NaN  3035.0          20.5   \n",
       "\n",
       "     model_year  origin        name   Type  \n",
       "5          70.0  europe     peugeot  Sedan  \n",
       "12         71.0     usa   chevrolet  Coupe  \n",
       "13         71.0  europe     peugeot  Coupe  \n",
       "15         71.0  europe  volkswagen  Coupe  \n",
       "114        74.0     usa   chevrolet  Sedan  \n",
       "128        74.0     usa      toyota    NaN  \n",
       "205        77.0     usa      toyota    NaN  \n",
       "235        78.0   japan      toyota    NaN  \n",
       "318        80.0  europe   chevrolet  Coupe  \n",
       "322        80.0   japan      toyota    NaN  \n",
       "324        80.0     usa      toyota  Sedan  \n",
       "342        81.0  europe   chevrolet  Coupe  \n",
       "362        82.0     usa  volkswagen  Sedan  "
      ]
     },
     "execution_count": 30,
     "metadata": {},
     "output_type": "execute_result"
    }
   ],
   "source": [
    "rows_with_NaN = data3[row_has_NaN]\n",
    "rows_with_NaN"
   ]
  },
  {
   "cell_type": "markdown",
   "metadata": {
    "id": "GUBHd5aZEyKU"
   },
   "source": [
    "#### Let's first try filling in the data \n",
    "\n",
    "#### We can pass in a numerical value"
   ]
  },
  {
   "cell_type": "markdown",
   "metadata": {
    "id": "VYm0T_BTE7tv"
   },
   "source": [
    "#### Check those with the index we created earlier"
   ]
  },
  {
   "cell_type": "code",
   "execution_count": 31,
   "metadata": {
    "colab": {
     "base_uri": "https://localhost:8080/",
     "height": 452
    },
    "id": "AhN174gTv8iT",
    "outputId": "ae80a828-6920-4def-f363-c98e30fe55b4"
   },
   "outputs": [
    {
     "data": {
      "text/html": [
       "<div>\n",
       "<style scoped>\n",
       "    .dataframe tbody tr th:only-of-type {\n",
       "        vertical-align: middle;\n",
       "    }\n",
       "\n",
       "    .dataframe tbody tr th {\n",
       "        vertical-align: top;\n",
       "    }\n",
       "\n",
       "    .dataframe thead th {\n",
       "        text-align: right;\n",
       "    }\n",
       "</style>\n",
       "<table border=\"1\" class=\"dataframe\">\n",
       "  <thead>\n",
       "    <tr style=\"text-align: right;\">\n",
       "      <th></th>\n",
       "      <th>mpg</th>\n",
       "      <th>cylinders</th>\n",
       "      <th>displacement</th>\n",
       "      <th>horsepower</th>\n",
       "      <th>weight</th>\n",
       "      <th>acceleration</th>\n",
       "      <th>model_year</th>\n",
       "      <th>origin</th>\n",
       "      <th>name</th>\n",
       "      <th>Type</th>\n",
       "    </tr>\n",
       "  </thead>\n",
       "  <tbody>\n",
       "    <tr>\n",
       "      <th>5</th>\n",
       "      <td>25.0</td>\n",
       "      <td>4.0</td>\n",
       "      <td>110.0</td>\n",
       "      <td>87.0</td>\n",
       "      <td>2672.0</td>\n",
       "      <td>0.0</td>\n",
       "      <td>70.0</td>\n",
       "      <td>europe</td>\n",
       "      <td>peugeot</td>\n",
       "      <td>Sedan</td>\n",
       "    </tr>\n",
       "    <tr>\n",
       "      <th>12</th>\n",
       "      <td>22.0</td>\n",
       "      <td>4.0</td>\n",
       "      <td>0.0</td>\n",
       "      <td>72.0</td>\n",
       "      <td>2408.0</td>\n",
       "      <td>19.0</td>\n",
       "      <td>71.0</td>\n",
       "      <td>usa</td>\n",
       "      <td>chevrolet</td>\n",
       "      <td>Coupe</td>\n",
       "    </tr>\n",
       "    <tr>\n",
       "      <th>13</th>\n",
       "      <td>30.0</td>\n",
       "      <td>4.0</td>\n",
       "      <td>0.0</td>\n",
       "      <td>70.0</td>\n",
       "      <td>2074.0</td>\n",
       "      <td>19.5</td>\n",
       "      <td>71.0</td>\n",
       "      <td>europe</td>\n",
       "      <td>peugeot</td>\n",
       "      <td>Coupe</td>\n",
       "    </tr>\n",
       "    <tr>\n",
       "      <th>15</th>\n",
       "      <td>27.0</td>\n",
       "      <td>4.0</td>\n",
       "      <td>0.0</td>\n",
       "      <td>60.0</td>\n",
       "      <td>1834.0</td>\n",
       "      <td>19.0</td>\n",
       "      <td>71.0</td>\n",
       "      <td>europe</td>\n",
       "      <td>volkswagen</td>\n",
       "      <td>Coupe</td>\n",
       "    </tr>\n",
       "    <tr>\n",
       "      <th>114</th>\n",
       "      <td>21.0</td>\n",
       "      <td>6.0</td>\n",
       "      <td>200.0</td>\n",
       "      <td>0.0</td>\n",
       "      <td>2875.0</td>\n",
       "      <td>17.0</td>\n",
       "      <td>74.0</td>\n",
       "      <td>usa</td>\n",
       "      <td>chevrolet</td>\n",
       "      <td>Sedan</td>\n",
       "    </tr>\n",
       "    <tr>\n",
       "      <th>128</th>\n",
       "      <td>14.0</td>\n",
       "      <td>8.0</td>\n",
       "      <td>304.0</td>\n",
       "      <td>150.0</td>\n",
       "      <td>4257.0</td>\n",
       "      <td>15.5</td>\n",
       "      <td>74.0</td>\n",
       "      <td>usa</td>\n",
       "      <td>toyota</td>\n",
       "      <td>0</td>\n",
       "    </tr>\n",
       "    <tr>\n",
       "      <th>205</th>\n",
       "      <td>30.0</td>\n",
       "      <td>4.0</td>\n",
       "      <td>111.0</td>\n",
       "      <td>80.0</td>\n",
       "      <td>2155.0</td>\n",
       "      <td>14.8</td>\n",
       "      <td>77.0</td>\n",
       "      <td>usa</td>\n",
       "      <td>toyota</td>\n",
       "      <td>0</td>\n",
       "    </tr>\n",
       "    <tr>\n",
       "      <th>235</th>\n",
       "      <td>39.4</td>\n",
       "      <td>4.0</td>\n",
       "      <td>85.0</td>\n",
       "      <td>70.0</td>\n",
       "      <td>2070.0</td>\n",
       "      <td>18.6</td>\n",
       "      <td>78.0</td>\n",
       "      <td>japan</td>\n",
       "      <td>toyota</td>\n",
       "      <td>0</td>\n",
       "    </tr>\n",
       "    <tr>\n",
       "      <th>318</th>\n",
       "      <td>40.9</td>\n",
       "      <td>4.0</td>\n",
       "      <td>85.0</td>\n",
       "      <td>0.0</td>\n",
       "      <td>1835.0</td>\n",
       "      <td>17.3</td>\n",
       "      <td>80.0</td>\n",
       "      <td>europe</td>\n",
       "      <td>chevrolet</td>\n",
       "      <td>Coupe</td>\n",
       "    </tr>\n",
       "    <tr>\n",
       "      <th>322</th>\n",
       "      <td>23.7</td>\n",
       "      <td>3.0</td>\n",
       "      <td>70.0</td>\n",
       "      <td>100.0</td>\n",
       "      <td>2420.0</td>\n",
       "      <td>12.5</td>\n",
       "      <td>80.0</td>\n",
       "      <td>japan</td>\n",
       "      <td>toyota</td>\n",
       "      <td>0</td>\n",
       "    </tr>\n",
       "    <tr>\n",
       "      <th>324</th>\n",
       "      <td>23.6</td>\n",
       "      <td>4.0</td>\n",
       "      <td>140.0</td>\n",
       "      <td>0.0</td>\n",
       "      <td>2905.0</td>\n",
       "      <td>14.3</td>\n",
       "      <td>80.0</td>\n",
       "      <td>usa</td>\n",
       "      <td>toyota</td>\n",
       "      <td>Sedan</td>\n",
       "    </tr>\n",
       "    <tr>\n",
       "      <th>342</th>\n",
       "      <td>34.5</td>\n",
       "      <td>4.0</td>\n",
       "      <td>100.0</td>\n",
       "      <td>0.0</td>\n",
       "      <td>2320.0</td>\n",
       "      <td>15.8</td>\n",
       "      <td>81.0</td>\n",
       "      <td>europe</td>\n",
       "      <td>chevrolet</td>\n",
       "      <td>Coupe</td>\n",
       "    </tr>\n",
       "    <tr>\n",
       "      <th>362</th>\n",
       "      <td>23.0</td>\n",
       "      <td>4.0</td>\n",
       "      <td>151.0</td>\n",
       "      <td>0.0</td>\n",
       "      <td>3035.0</td>\n",
       "      <td>20.5</td>\n",
       "      <td>82.0</td>\n",
       "      <td>usa</td>\n",
       "      <td>volkswagen</td>\n",
       "      <td>Sedan</td>\n",
       "    </tr>\n",
       "  </tbody>\n",
       "</table>\n",
       "</div>"
      ],
      "text/plain": [
       "      mpg  cylinders  displacement  horsepower  weight  acceleration  \\\n",
       "5    25.0        4.0         110.0        87.0  2672.0           0.0   \n",
       "12   22.0        4.0           0.0        72.0  2408.0          19.0   \n",
       "13   30.0        4.0           0.0        70.0  2074.0          19.5   \n",
       "15   27.0        4.0           0.0        60.0  1834.0          19.0   \n",
       "114  21.0        6.0         200.0         0.0  2875.0          17.0   \n",
       "128  14.0        8.0         304.0       150.0  4257.0          15.5   \n",
       "205  30.0        4.0         111.0        80.0  2155.0          14.8   \n",
       "235  39.4        4.0          85.0        70.0  2070.0          18.6   \n",
       "318  40.9        4.0          85.0         0.0  1835.0          17.3   \n",
       "322  23.7        3.0          70.0       100.0  2420.0          12.5   \n",
       "324  23.6        4.0         140.0         0.0  2905.0          14.3   \n",
       "342  34.5        4.0         100.0         0.0  2320.0          15.8   \n",
       "362  23.0        4.0         151.0         0.0  3035.0          20.5   \n",
       "\n",
       "     model_year  origin        name   Type  \n",
       "5          70.0  europe     peugeot  Sedan  \n",
       "12         71.0     usa   chevrolet  Coupe  \n",
       "13         71.0  europe     peugeot  Coupe  \n",
       "15         71.0  europe  volkswagen  Coupe  \n",
       "114        74.0     usa   chevrolet  Sedan  \n",
       "128        74.0     usa      toyota      0  \n",
       "205        77.0     usa      toyota      0  \n",
       "235        78.0   japan      toyota      0  \n",
       "318        80.0  europe   chevrolet  Coupe  \n",
       "322        80.0   japan      toyota      0  \n",
       "324        80.0     usa      toyota  Sedan  \n",
       "342        81.0  europe   chevrolet  Coupe  \n",
       "362        82.0     usa  volkswagen  Sedan  "
      ]
     },
     "execution_count": 31,
     "metadata": {},
     "output_type": "execute_result"
    }
   ],
   "source": [
    "data3.fillna(0)[row_has_NaN]"
   ]
  },
  {
   "cell_type": "markdown",
   "metadata": {
    "id": "0TmnOwqDmTA7"
   },
   "source": [
    "#### But filling the empty spots with 0s is actually a pretty bad idea when 0 is meaningful\n",
    "\n",
    "#### We have a couple of options we can fill with instead. See the documentation of fillna for some examples!"
   ]
  },
  {
   "cell_type": "markdown",
   "metadata": {
    "id": "0OOa2Zb8nih8"
   },
   "source": [
    "#### One thing you can do that is pretty clever is to fill in the missing data with the average data\n",
    "\n",
    "#### Note that this way of doing it applies the mean function individually to each column. So, its not just one mean value replacing all of the empteis"
   ]
  },
  {
   "cell_type": "code",
   "execution_count": 32,
   "metadata": {
    "colab": {
     "base_uri": "https://localhost:8080/",
     "height": 452
    },
    "id": "iBUo7pIjnTId",
    "outputId": "e83df978-639b-4f35-db31-a2d2b6368897"
   },
   "outputs": [
    {
     "data": {
      "text/html": [
       "<div>\n",
       "<style scoped>\n",
       "    .dataframe tbody tr th:only-of-type {\n",
       "        vertical-align: middle;\n",
       "    }\n",
       "\n",
       "    .dataframe tbody tr th {\n",
       "        vertical-align: top;\n",
       "    }\n",
       "\n",
       "    .dataframe thead th {\n",
       "        text-align: right;\n",
       "    }\n",
       "</style>\n",
       "<table border=\"1\" class=\"dataframe\">\n",
       "  <thead>\n",
       "    <tr style=\"text-align: right;\">\n",
       "      <th></th>\n",
       "      <th>mpg</th>\n",
       "      <th>cylinders</th>\n",
       "      <th>displacement</th>\n",
       "      <th>horsepower</th>\n",
       "      <th>weight</th>\n",
       "      <th>acceleration</th>\n",
       "      <th>model_year</th>\n",
       "      <th>origin</th>\n",
       "      <th>name</th>\n",
       "      <th>Type</th>\n",
       "    </tr>\n",
       "  </thead>\n",
       "  <tbody>\n",
       "    <tr>\n",
       "      <th>5</th>\n",
       "      <td>25.0</td>\n",
       "      <td>4.0</td>\n",
       "      <td>110.00000</td>\n",
       "      <td>87.000000</td>\n",
       "      <td>2672.0</td>\n",
       "      <td>16.115223</td>\n",
       "      <td>70.0</td>\n",
       "      <td>europe</td>\n",
       "      <td>peugeot</td>\n",
       "      <td>Sedan</td>\n",
       "    </tr>\n",
       "    <tr>\n",
       "      <th>12</th>\n",
       "      <td>22.0</td>\n",
       "      <td>4.0</td>\n",
       "      <td>165.68254</td>\n",
       "      <td>72.000000</td>\n",
       "      <td>2408.0</td>\n",
       "      <td>19.000000</td>\n",
       "      <td>71.0</td>\n",
       "      <td>usa</td>\n",
       "      <td>chevrolet</td>\n",
       "      <td>Coupe</td>\n",
       "    </tr>\n",
       "    <tr>\n",
       "      <th>13</th>\n",
       "      <td>30.0</td>\n",
       "      <td>4.0</td>\n",
       "      <td>165.68254</td>\n",
       "      <td>70.000000</td>\n",
       "      <td>2074.0</td>\n",
       "      <td>19.500000</td>\n",
       "      <td>71.0</td>\n",
       "      <td>europe</td>\n",
       "      <td>peugeot</td>\n",
       "      <td>Coupe</td>\n",
       "    </tr>\n",
       "    <tr>\n",
       "      <th>15</th>\n",
       "      <td>27.0</td>\n",
       "      <td>4.0</td>\n",
       "      <td>165.68254</td>\n",
       "      <td>60.000000</td>\n",
       "      <td>1834.0</td>\n",
       "      <td>19.000000</td>\n",
       "      <td>71.0</td>\n",
       "      <td>europe</td>\n",
       "      <td>volkswagen</td>\n",
       "      <td>Coupe</td>\n",
       "    </tr>\n",
       "    <tr>\n",
       "      <th>114</th>\n",
       "      <td>21.0</td>\n",
       "      <td>6.0</td>\n",
       "      <td>200.00000</td>\n",
       "      <td>94.949735</td>\n",
       "      <td>2875.0</td>\n",
       "      <td>17.000000</td>\n",
       "      <td>74.0</td>\n",
       "      <td>usa</td>\n",
       "      <td>chevrolet</td>\n",
       "      <td>Sedan</td>\n",
       "    </tr>\n",
       "    <tr>\n",
       "      <th>128</th>\n",
       "      <td>14.0</td>\n",
       "      <td>8.0</td>\n",
       "      <td>304.00000</td>\n",
       "      <td>150.000000</td>\n",
       "      <td>4257.0</td>\n",
       "      <td>15.500000</td>\n",
       "      <td>74.0</td>\n",
       "      <td>usa</td>\n",
       "      <td>toyota</td>\n",
       "      <td>NaN</td>\n",
       "    </tr>\n",
       "    <tr>\n",
       "      <th>205</th>\n",
       "      <td>30.0</td>\n",
       "      <td>4.0</td>\n",
       "      <td>111.00000</td>\n",
       "      <td>80.000000</td>\n",
       "      <td>2155.0</td>\n",
       "      <td>14.800000</td>\n",
       "      <td>77.0</td>\n",
       "      <td>usa</td>\n",
       "      <td>toyota</td>\n",
       "      <td>NaN</td>\n",
       "    </tr>\n",
       "    <tr>\n",
       "      <th>235</th>\n",
       "      <td>39.4</td>\n",
       "      <td>4.0</td>\n",
       "      <td>85.00000</td>\n",
       "      <td>70.000000</td>\n",
       "      <td>2070.0</td>\n",
       "      <td>18.600000</td>\n",
       "      <td>78.0</td>\n",
       "      <td>japan</td>\n",
       "      <td>toyota</td>\n",
       "      <td>NaN</td>\n",
       "    </tr>\n",
       "    <tr>\n",
       "      <th>318</th>\n",
       "      <td>40.9</td>\n",
       "      <td>4.0</td>\n",
       "      <td>85.00000</td>\n",
       "      <td>94.949735</td>\n",
       "      <td>1835.0</td>\n",
       "      <td>17.300000</td>\n",
       "      <td>80.0</td>\n",
       "      <td>europe</td>\n",
       "      <td>chevrolet</td>\n",
       "      <td>Coupe</td>\n",
       "    </tr>\n",
       "    <tr>\n",
       "      <th>322</th>\n",
       "      <td>23.7</td>\n",
       "      <td>3.0</td>\n",
       "      <td>70.00000</td>\n",
       "      <td>100.000000</td>\n",
       "      <td>2420.0</td>\n",
       "      <td>12.500000</td>\n",
       "      <td>80.0</td>\n",
       "      <td>japan</td>\n",
       "      <td>toyota</td>\n",
       "      <td>NaN</td>\n",
       "    </tr>\n",
       "    <tr>\n",
       "      <th>324</th>\n",
       "      <td>23.6</td>\n",
       "      <td>4.0</td>\n",
       "      <td>140.00000</td>\n",
       "      <td>94.949735</td>\n",
       "      <td>2905.0</td>\n",
       "      <td>14.300000</td>\n",
       "      <td>80.0</td>\n",
       "      <td>usa</td>\n",
       "      <td>toyota</td>\n",
       "      <td>Sedan</td>\n",
       "    </tr>\n",
       "    <tr>\n",
       "      <th>342</th>\n",
       "      <td>34.5</td>\n",
       "      <td>4.0</td>\n",
       "      <td>100.00000</td>\n",
       "      <td>94.949735</td>\n",
       "      <td>2320.0</td>\n",
       "      <td>15.800000</td>\n",
       "      <td>81.0</td>\n",
       "      <td>europe</td>\n",
       "      <td>chevrolet</td>\n",
       "      <td>Coupe</td>\n",
       "    </tr>\n",
       "    <tr>\n",
       "      <th>362</th>\n",
       "      <td>23.0</td>\n",
       "      <td>4.0</td>\n",
       "      <td>151.00000</td>\n",
       "      <td>94.949735</td>\n",
       "      <td>3035.0</td>\n",
       "      <td>20.500000</td>\n",
       "      <td>82.0</td>\n",
       "      <td>usa</td>\n",
       "      <td>volkswagen</td>\n",
       "      <td>Sedan</td>\n",
       "    </tr>\n",
       "  </tbody>\n",
       "</table>\n",
       "</div>"
      ],
      "text/plain": [
       "      mpg  cylinders  displacement  horsepower  weight  acceleration  \\\n",
       "5    25.0        4.0     110.00000   87.000000  2672.0     16.115223   \n",
       "12   22.0        4.0     165.68254   72.000000  2408.0     19.000000   \n",
       "13   30.0        4.0     165.68254   70.000000  2074.0     19.500000   \n",
       "15   27.0        4.0     165.68254   60.000000  1834.0     19.000000   \n",
       "114  21.0        6.0     200.00000   94.949735  2875.0     17.000000   \n",
       "128  14.0        8.0     304.00000  150.000000  4257.0     15.500000   \n",
       "205  30.0        4.0     111.00000   80.000000  2155.0     14.800000   \n",
       "235  39.4        4.0      85.00000   70.000000  2070.0     18.600000   \n",
       "318  40.9        4.0      85.00000   94.949735  1835.0     17.300000   \n",
       "322  23.7        3.0      70.00000  100.000000  2420.0     12.500000   \n",
       "324  23.6        4.0     140.00000   94.949735  2905.0     14.300000   \n",
       "342  34.5        4.0     100.00000   94.949735  2320.0     15.800000   \n",
       "362  23.0        4.0     151.00000   94.949735  3035.0     20.500000   \n",
       "\n",
       "     model_year  origin        name   Type  \n",
       "5          70.0  europe     peugeot  Sedan  \n",
       "12         71.0     usa   chevrolet  Coupe  \n",
       "13         71.0  europe     peugeot  Coupe  \n",
       "15         71.0  europe  volkswagen  Coupe  \n",
       "114        74.0     usa   chevrolet  Sedan  \n",
       "128        74.0     usa      toyota    NaN  \n",
       "205        77.0     usa      toyota    NaN  \n",
       "235        78.0   japan      toyota    NaN  \n",
       "318        80.0  europe   chevrolet  Coupe  \n",
       "322        80.0   japan      toyota    NaN  \n",
       "324        80.0     usa      toyota  Sedan  \n",
       "342        81.0  europe   chevrolet  Coupe  \n",
       "362        82.0     usa  volkswagen  Sedan  "
      ]
     },
     "execution_count": 32,
     "metadata": {},
     "output_type": "execute_result"
    }
   ],
   "source": [
    "data3.fillna(data.mean())[row_has_NaN]"
   ]
  },
  {
   "cell_type": "markdown",
   "metadata": {
    "id": "fJhebmXWg9J3"
   },
   "source": [
    "*See any problem with this?*\n",
    "\n",
    "There are still NaNs in our categorical column! That makes some sense since what is the mean of coupe sedan. We will address this shortly"
   ]
  },
  {
   "cell_type": "markdown",
   "metadata": {
    "id": "7mf6iNcenniG"
   },
   "source": [
    "#### If your data is skewed, then the mean will be pulled in the direction of the skew. Its better to use median in those cases"
   ]
  },
  {
   "cell_type": "code",
   "execution_count": 33,
   "metadata": {
    "colab": {
     "base_uri": "https://localhost:8080/",
     "height": 452
    },
    "id": "cAplodvknguj",
    "outputId": "78f68013-7d69-4b64-e8ed-424a770905a4"
   },
   "outputs": [
    {
     "data": {
      "text/html": [
       "<div>\n",
       "<style scoped>\n",
       "    .dataframe tbody tr th:only-of-type {\n",
       "        vertical-align: middle;\n",
       "    }\n",
       "\n",
       "    .dataframe tbody tr th {\n",
       "        vertical-align: top;\n",
       "    }\n",
       "\n",
       "    .dataframe thead th {\n",
       "        text-align: right;\n",
       "    }\n",
       "</style>\n",
       "<table border=\"1\" class=\"dataframe\">\n",
       "  <thead>\n",
       "    <tr style=\"text-align: right;\">\n",
       "      <th></th>\n",
       "      <th>mpg</th>\n",
       "      <th>cylinders</th>\n",
       "      <th>displacement</th>\n",
       "      <th>horsepower</th>\n",
       "      <th>weight</th>\n",
       "      <th>acceleration</th>\n",
       "      <th>model_year</th>\n",
       "      <th>origin</th>\n",
       "      <th>name</th>\n",
       "      <th>Type</th>\n",
       "    </tr>\n",
       "  </thead>\n",
       "  <tbody>\n",
       "    <tr>\n",
       "      <th>5</th>\n",
       "      <td>25.0</td>\n",
       "      <td>4.0</td>\n",
       "      <td>110.0</td>\n",
       "      <td>87.0</td>\n",
       "      <td>2672.0</td>\n",
       "      <td>15.8</td>\n",
       "      <td>70.0</td>\n",
       "      <td>europe</td>\n",
       "      <td>peugeot</td>\n",
       "      <td>Sedan</td>\n",
       "    </tr>\n",
       "    <tr>\n",
       "      <th>12</th>\n",
       "      <td>22.0</td>\n",
       "      <td>4.0</td>\n",
       "      <td>134.0</td>\n",
       "      <td>72.0</td>\n",
       "      <td>2408.0</td>\n",
       "      <td>19.0</td>\n",
       "      <td>71.0</td>\n",
       "      <td>usa</td>\n",
       "      <td>chevrolet</td>\n",
       "      <td>Coupe</td>\n",
       "    </tr>\n",
       "    <tr>\n",
       "      <th>13</th>\n",
       "      <td>30.0</td>\n",
       "      <td>4.0</td>\n",
       "      <td>134.0</td>\n",
       "      <td>70.0</td>\n",
       "      <td>2074.0</td>\n",
       "      <td>19.5</td>\n",
       "      <td>71.0</td>\n",
       "      <td>europe</td>\n",
       "      <td>peugeot</td>\n",
       "      <td>Coupe</td>\n",
       "    </tr>\n",
       "    <tr>\n",
       "      <th>15</th>\n",
       "      <td>27.0</td>\n",
       "      <td>4.0</td>\n",
       "      <td>134.0</td>\n",
       "      <td>60.0</td>\n",
       "      <td>1834.0</td>\n",
       "      <td>19.0</td>\n",
       "      <td>71.0</td>\n",
       "      <td>europe</td>\n",
       "      <td>volkswagen</td>\n",
       "      <td>Coupe</td>\n",
       "    </tr>\n",
       "    <tr>\n",
       "      <th>114</th>\n",
       "      <td>21.0</td>\n",
       "      <td>6.0</td>\n",
       "      <td>200.0</td>\n",
       "      <td>90.0</td>\n",
       "      <td>2875.0</td>\n",
       "      <td>17.0</td>\n",
       "      <td>74.0</td>\n",
       "      <td>usa</td>\n",
       "      <td>chevrolet</td>\n",
       "      <td>Sedan</td>\n",
       "    </tr>\n",
       "    <tr>\n",
       "      <th>128</th>\n",
       "      <td>14.0</td>\n",
       "      <td>8.0</td>\n",
       "      <td>304.0</td>\n",
       "      <td>150.0</td>\n",
       "      <td>4257.0</td>\n",
       "      <td>15.5</td>\n",
       "      <td>74.0</td>\n",
       "      <td>usa</td>\n",
       "      <td>toyota</td>\n",
       "      <td>NaN</td>\n",
       "    </tr>\n",
       "    <tr>\n",
       "      <th>205</th>\n",
       "      <td>30.0</td>\n",
       "      <td>4.0</td>\n",
       "      <td>111.0</td>\n",
       "      <td>80.0</td>\n",
       "      <td>2155.0</td>\n",
       "      <td>14.8</td>\n",
       "      <td>77.0</td>\n",
       "      <td>usa</td>\n",
       "      <td>toyota</td>\n",
       "      <td>NaN</td>\n",
       "    </tr>\n",
       "    <tr>\n",
       "      <th>235</th>\n",
       "      <td>39.4</td>\n",
       "      <td>4.0</td>\n",
       "      <td>85.0</td>\n",
       "      <td>70.0</td>\n",
       "      <td>2070.0</td>\n",
       "      <td>18.6</td>\n",
       "      <td>78.0</td>\n",
       "      <td>japan</td>\n",
       "      <td>toyota</td>\n",
       "      <td>NaN</td>\n",
       "    </tr>\n",
       "    <tr>\n",
       "      <th>318</th>\n",
       "      <td>40.9</td>\n",
       "      <td>4.0</td>\n",
       "      <td>85.0</td>\n",
       "      <td>90.0</td>\n",
       "      <td>1835.0</td>\n",
       "      <td>17.3</td>\n",
       "      <td>80.0</td>\n",
       "      <td>europe</td>\n",
       "      <td>chevrolet</td>\n",
       "      <td>Coupe</td>\n",
       "    </tr>\n",
       "    <tr>\n",
       "      <th>322</th>\n",
       "      <td>23.7</td>\n",
       "      <td>3.0</td>\n",
       "      <td>70.0</td>\n",
       "      <td>100.0</td>\n",
       "      <td>2420.0</td>\n",
       "      <td>12.5</td>\n",
       "      <td>80.0</td>\n",
       "      <td>japan</td>\n",
       "      <td>toyota</td>\n",
       "      <td>NaN</td>\n",
       "    </tr>\n",
       "    <tr>\n",
       "      <th>324</th>\n",
       "      <td>23.6</td>\n",
       "      <td>4.0</td>\n",
       "      <td>140.0</td>\n",
       "      <td>90.0</td>\n",
       "      <td>2905.0</td>\n",
       "      <td>14.3</td>\n",
       "      <td>80.0</td>\n",
       "      <td>usa</td>\n",
       "      <td>toyota</td>\n",
       "      <td>Sedan</td>\n",
       "    </tr>\n",
       "    <tr>\n",
       "      <th>342</th>\n",
       "      <td>34.5</td>\n",
       "      <td>4.0</td>\n",
       "      <td>100.0</td>\n",
       "      <td>90.0</td>\n",
       "      <td>2320.0</td>\n",
       "      <td>15.8</td>\n",
       "      <td>81.0</td>\n",
       "      <td>europe</td>\n",
       "      <td>chevrolet</td>\n",
       "      <td>Coupe</td>\n",
       "    </tr>\n",
       "    <tr>\n",
       "      <th>362</th>\n",
       "      <td>23.0</td>\n",
       "      <td>4.0</td>\n",
       "      <td>151.0</td>\n",
       "      <td>90.0</td>\n",
       "      <td>3035.0</td>\n",
       "      <td>20.5</td>\n",
       "      <td>82.0</td>\n",
       "      <td>usa</td>\n",
       "      <td>volkswagen</td>\n",
       "      <td>Sedan</td>\n",
       "    </tr>\n",
       "  </tbody>\n",
       "</table>\n",
       "</div>"
      ],
      "text/plain": [
       "      mpg  cylinders  displacement  horsepower  weight  acceleration  \\\n",
       "5    25.0        4.0         110.0        87.0  2672.0          15.8   \n",
       "12   22.0        4.0         134.0        72.0  2408.0          19.0   \n",
       "13   30.0        4.0         134.0        70.0  2074.0          19.5   \n",
       "15   27.0        4.0         134.0        60.0  1834.0          19.0   \n",
       "114  21.0        6.0         200.0        90.0  2875.0          17.0   \n",
       "128  14.0        8.0         304.0       150.0  4257.0          15.5   \n",
       "205  30.0        4.0         111.0        80.0  2155.0          14.8   \n",
       "235  39.4        4.0          85.0        70.0  2070.0          18.6   \n",
       "318  40.9        4.0          85.0        90.0  1835.0          17.3   \n",
       "322  23.7        3.0          70.0       100.0  2420.0          12.5   \n",
       "324  23.6        4.0         140.0        90.0  2905.0          14.3   \n",
       "342  34.5        4.0         100.0        90.0  2320.0          15.8   \n",
       "362  23.0        4.0         151.0        90.0  3035.0          20.5   \n",
       "\n",
       "     model_year  origin        name   Type  \n",
       "5          70.0  europe     peugeot  Sedan  \n",
       "12         71.0     usa   chevrolet  Coupe  \n",
       "13         71.0  europe     peugeot  Coupe  \n",
       "15         71.0  europe  volkswagen  Coupe  \n",
       "114        74.0     usa   chevrolet  Sedan  \n",
       "128        74.0     usa      toyota    NaN  \n",
       "205        77.0     usa      toyota    NaN  \n",
       "235        78.0   japan      toyota    NaN  \n",
       "318        80.0  europe   chevrolet  Coupe  \n",
       "322        80.0   japan      toyota    NaN  \n",
       "324        80.0     usa      toyota  Sedan  \n",
       "342        81.0  europe   chevrolet  Coupe  \n",
       "362        82.0     usa  volkswagen  Sedan  "
      ]
     },
     "execution_count": 33,
     "metadata": {},
     "output_type": "execute_result"
    }
   ],
   "source": [
    "data3.fillna(data.median())[row_has_NaN]"
   ]
  },
  {
   "cell_type": "markdown",
   "metadata": {
    "id": "7dzn-3cMwX87"
   },
   "source": [
    "just gonna create a df with this fill method"
   ]
  },
  {
   "cell_type": "code",
   "execution_count": 34,
   "metadata": {
    "id": "Tq-lG2TKwVqe"
   },
   "outputs": [],
   "source": [
    "data3_nans_median = data3.fillna(data.median())"
   ]
  },
  {
   "cell_type": "code",
   "execution_count": 35,
   "metadata": {
    "colab": {
     "base_uri": "https://localhost:8080/",
     "height": 344
    },
    "id": "ocLyJWxKj_K_",
    "outputId": "ba742b80-7e88-401e-d5e5-3ecfa56f0c70"
   },
   "outputs": [
    {
     "data": {
      "text/plain": [
       "<AxesSubplot:>"
      ]
     },
     "execution_count": 35,
     "metadata": {},
     "output_type": "execute_result"
    },
    {
     "data": {
      "image/png": "[encoded data removed]",
      "text/plain": [
       "<Figure size 432x288 with 2 Axes>"
      ]
     },
     "metadata": {
      "filenames": {
       "image/png": "/Users/erikbrockbank/web/teaching/ucsd-css-002.github.io/_build/jupyter_execute/Garrett_Lectures/s21_Lecture08_duplicates_missing_64_1.png"
      },
      "needs_background": "light"
     },
     "output_type": "display_data"
    }
   ],
   "source": [
    "sns.heatmap(data3_nans_median.isnull(),cmap=['Green','Red'])"
   ]
  },
  {
   "cell_type": "markdown",
   "metadata": {
    "id": "qzmfWthFkYil"
   },
   "source": [
    "Now that we are left with just those categorical columns, I'd probably just drop those rows. You could do something different (e.g., replace with the most common category, replace by looking at what that category is most likely to be based on weight or mpg or etc)."
   ]
  },
  {
   "cell_type": "code",
   "execution_count": 36,
   "metadata": {
    "id": "YWf3uRlikpTb"
   },
   "outputs": [],
   "source": [
    "data_nonans = data3_nans_median.dropna()"
   ]
  },
  {
   "cell_type": "code",
   "execution_count": 37,
   "metadata": {
    "colab": {
     "base_uri": "https://localhost:8080/",
     "height": 344
    },
    "id": "g3_vQWqHsx1o",
    "outputId": "780ac6ce-a46e-4748-bb6b-31b73bb48035"
   },
   "outputs": [
    {
     "data": {
      "text/plain": [
       "<AxesSubplot:>"
      ]
     },
     "execution_count": 37,
     "metadata": {},
     "output_type": "execute_result"
    },
    {
     "data": {
      "image/png": "[encoded data removed]",
      "text/plain": [
       "<Figure size 432x288 with 2 Axes>"
      ]
     },
     "metadata": {
      "filenames": {
       "image/png": "/Users/erikbrockbank/web/teaching/ucsd-css-002.github.io/_build/jupyter_execute/Garrett_Lectures/s21_Lecture08_duplicates_missing_67_1.png"
      },
      "needs_background": "light"
     },
     "output_type": "display_data"
    }
   ],
   "source": [
    "sns.heatmap(data_nonans.isnull(),cmap=['Green','Green','Red'])"
   ]
  },
  {
   "cell_type": "markdown",
   "metadata": {
    "id": "lzCTO-BxlHQp"
   },
   "source": [
    "One last thing - we need to reindex the data. As I mentioned before, when dropping rows, our index column is missing values. Its helpful when there aren't missing gaps in the index, so we will use the following to fix that"
   ]
  },
  {
   "cell_type": "code",
   "execution_count": 38,
   "metadata": {
    "id": "0VXMcF5ik3OP"
   },
   "outputs": [],
   "source": [
    "data_nonans.index = np.arange(0,data_nonans.shape[0])"
   ]
  },
  {
   "cell_type": "code",
   "execution_count": 39,
   "metadata": {
    "id": "iyHRdJOesztK"
   },
   "outputs": [],
   "source": [
    "data_nonans.to_csv('Data_no_nans.csv',sep=',')"
   ]
  },
  {
   "cell_type": "markdown",
   "metadata": {
    "id": "CwEqafzCeEQL"
   },
   "source": [
    "#### We are by no means finished with this dataset. There are a few more things we have to do with it, which we will do next week"
   ]
  }
 ],
 "metadata": {
  "colab": {
   "collapsed_sections": [],
   "name": "s21_Lecture08_duplicates_missing.ipynb",
   "provenance": []
  },
  "kernelspec": {
   "display_name": "Python 3",
   "name": "python3"
  },
  "language_info": {
   "codemirror_mode": {
    "name": "ipython",
    "version": 3
   },
   "file_extension": ".py",
   "mimetype": "text/x-python",
   "name": "python",
   "nbconvert_exporter": "python",
   "pygments_lexer": "ipython3",
   "version": "3.8.3"
  }
 },
 "nbformat": 4,
 "nbformat_minor": 0
}