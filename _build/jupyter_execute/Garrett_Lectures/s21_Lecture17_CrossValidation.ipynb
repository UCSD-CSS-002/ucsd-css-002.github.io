{
 "cells": [
  {
   "cell_type": "markdown",
   "metadata": {
    "id": "fGK3OAfemOgN"
   },
   "source": [
    "Lecture 17 - Cross Validation\n",
    "\n",
    "Announcements\n",
    "1. Problem set 9, quiz 9, and discussion board post 4 due end of this week\n",
    "  - This is the last problem set, quiz, and discussion board post!\n",
    "2. Problem set 7 grades posted soon\n",
    "3. Remember to go to office hours and section for questions!\n",
    "\n",
    "Topics\n",
    "1. Problems with one train test split\n",
    "2. Repeated train and test by hand\n",
    "3. Other methods\n",
    "\n",
    "When we split data into train and test, we are performing a cross-validation\n",
    "\n",
    "The goal of cross-validation is to test the model's ability to predict new data that was not used in estimating it, in order to flag problems like overfitting or selection bias and to give an insight on how the model will generalize to an independent dataset (i.e., an unknown dataset, for instance from a real problem).\n",
    "\n",
    "We have mainly used a single train and test sample, which is called the holdout method. We will discuss some alternatives in this lecture"
   ]
  },
  {
   "cell_type": "markdown",
   "metadata": {
    "id": "GEMlyV84mWLM"
   },
   "source": [
    "First, let's load our libaries like normal. We will also load the logistic regression library"
   ]
  },
  {
   "cell_type": "code",
   "execution_count": 1,
   "metadata": {
    "id": "42keJXJOjZ4j"
   },
   "outputs": [],
   "source": [
    "import seaborn as sns\n",
    "import matplotlib.pyplot as plt\n",
    "import numpy as np\n",
    "import pandas as pd\n",
    "from sklearn.model_selection import train_test_split\n",
    "from sklearn.linear_model import LogisticRegression"
   ]
  },
  {
   "cell_type": "markdown",
   "metadata": {
    "id": "4syWOXIsmdOO"
   },
   "source": [
    "This time, let's use the same dataset as before on heart disease."
   ]
  },
  {
   "cell_type": "code",
   "execution_count": 2,
   "metadata": {
    "id": "s1efcRSTji19"
   },
   "outputs": [],
   "source": [
    "data = pd.read_csv('https://web.stanford.edu/~hastie/ElemStatLearn/datasets/SAheart.data',index_col=0)"
   ]
  },
  {
   "cell_type": "markdown",
   "metadata": {
    "id": "3IrCOIMDmfvg"
   },
   "source": [
    "Let's check out the head"
   ]
  },
  {
   "cell_type": "code",
   "execution_count": 3,
   "metadata": {
    "colab": {
     "base_uri": "https://localhost:8080/",
     "height": 235
    },
    "id": "LMwAL4psV_IO",
    "outputId": "cb040d84-0aa8-40b2-f90a-ce5afd42dc9d"
   },
   "outputs": [
    {
     "data": {
      "text/html": [
       "<div>\n",
       "<style scoped>\n",
       "    .dataframe tbody tr th:only-of-type {\n",
       "        vertical-align: middle;\n",
       "    }\n",
       "\n",
       "    .dataframe tbody tr th {\n",
       "        vertical-align: top;\n",
       "    }\n",
       "\n",
       "    .dataframe thead th {\n",
       "        text-align: right;\n",
       "    }\n",
       "</style>\n",
       "<table border=\"1\" class=\"dataframe\">\n",
       "  <thead>\n",
       "    <tr style=\"text-align: right;\">\n",
       "      <th></th>\n",
       "      <th>sbp</th>\n",
       "      <th>tobacco</th>\n",
       "      <th>ldl</th>\n",
       "      <th>adiposity</th>\n",
       "      <th>famhist</th>\n",
       "      <th>typea</th>\n",
       "      <th>obesity</th>\n",
       "      <th>alcohol</th>\n",
       "      <th>age</th>\n",
       "      <th>chd</th>\n",
       "    </tr>\n",
       "    <tr>\n",
       "      <th>row.names</th>\n",
       "      <th></th>\n",
       "      <th></th>\n",
       "      <th></th>\n",
       "      <th></th>\n",
       "      <th></th>\n",
       "      <th></th>\n",
       "      <th></th>\n",
       "      <th></th>\n",
       "      <th></th>\n",
       "      <th></th>\n",
       "    </tr>\n",
       "  </thead>\n",
       "  <tbody>\n",
       "    <tr>\n",
       "      <th>1</th>\n",
       "      <td>160</td>\n",
       "      <td>12.00</td>\n",
       "      <td>5.73</td>\n",
       "      <td>23.11</td>\n",
       "      <td>Present</td>\n",
       "      <td>49</td>\n",
       "      <td>25.30</td>\n",
       "      <td>97.20</td>\n",
       "      <td>52</td>\n",
       "      <td>1</td>\n",
       "    </tr>\n",
       "    <tr>\n",
       "      <th>2</th>\n",
       "      <td>144</td>\n",
       "      <td>0.01</td>\n",
       "      <td>4.41</td>\n",
       "      <td>28.61</td>\n",
       "      <td>Absent</td>\n",
       "      <td>55</td>\n",
       "      <td>28.87</td>\n",
       "      <td>2.06</td>\n",
       "      <td>63</td>\n",
       "      <td>1</td>\n",
       "    </tr>\n",
       "    <tr>\n",
       "      <th>3</th>\n",
       "      <td>118</td>\n",
       "      <td>0.08</td>\n",
       "      <td>3.48</td>\n",
       "      <td>32.28</td>\n",
       "      <td>Present</td>\n",
       "      <td>52</td>\n",
       "      <td>29.14</td>\n",
       "      <td>3.81</td>\n",
       "      <td>46</td>\n",
       "      <td>0</td>\n",
       "    </tr>\n",
       "    <tr>\n",
       "      <th>4</th>\n",
       "      <td>170</td>\n",
       "      <td>7.50</td>\n",
       "      <td>6.41</td>\n",
       "      <td>38.03</td>\n",
       "      <td>Present</td>\n",
       "      <td>51</td>\n",
       "      <td>31.99</td>\n",
       "      <td>24.26</td>\n",
       "      <td>58</td>\n",
       "      <td>1</td>\n",
       "    </tr>\n",
       "    <tr>\n",
       "      <th>5</th>\n",
       "      <td>134</td>\n",
       "      <td>13.60</td>\n",
       "      <td>3.50</td>\n",
       "      <td>27.78</td>\n",
       "      <td>Present</td>\n",
       "      <td>60</td>\n",
       "      <td>25.99</td>\n",
       "      <td>57.34</td>\n",
       "      <td>49</td>\n",
       "      <td>1</td>\n",
       "    </tr>\n",
       "  </tbody>\n",
       "</table>\n",
       "</div>"
      ],
      "text/plain": [
       "           sbp  tobacco   ldl  adiposity  famhist  typea  obesity  alcohol  \\\n",
       "row.names                                                                    \n",
       "1          160    12.00  5.73      23.11  Present     49    25.30    97.20   \n",
       "2          144     0.01  4.41      28.61   Absent     55    28.87     2.06   \n",
       "3          118     0.08  3.48      32.28  Present     52    29.14     3.81   \n",
       "4          170     7.50  6.41      38.03  Present     51    31.99    24.26   \n",
       "5          134    13.60  3.50      27.78  Present     60    25.99    57.34   \n",
       "\n",
       "           age  chd  \n",
       "row.names            \n",
       "1           52    1  \n",
       "2           63    1  \n",
       "3           46    0  \n",
       "4           58    1  \n",
       "5           49    1  "
      ]
     },
     "execution_count": 3,
     "metadata": {},
     "output_type": "execute_result"
    }
   ],
   "source": [
    "data.head()"
   ]
  },
  {
   "cell_type": "markdown",
   "metadata": {
    "id": "cESrQc6HmhGk"
   },
   "source": [
    "And let's focus on age and heart disease again\n",
    "\n",
    "We can look at the boxplot, but its also sometimes helpful to look at the distributions themselves. In this case, let's use a kdeplot because its easier to see the overlap between the distributions"
   ]
  },
  {
   "cell_type": "code",
   "execution_count": 4,
   "metadata": {
    "colab": {
     "base_uri": "https://localhost:8080/",
     "height": 282
    },
    "id": "2Q-65F7HX75l",
    "outputId": "c9463cf5-79cb-4fb3-8d52-48f48e0e221a"
   },
   "outputs": [
    {
     "data": {
      "text/plain": [
       "<AxesSubplot:ylabel='Density'>"
      ]
     },
     "execution_count": 4,
     "metadata": {},
     "output_type": "execute_result"
    },
    {
     "data": {
      "image/png": "[encoded data removed]",
      "text/plain": [
       "<Figure size 432x288 with 1 Axes>"
      ]
     },
     "metadata": {
      "filenames": {
       "image/png": "/Users/erikbrockbank/web/teaching/ucsd-css-002.github.io/_build/jupyter_execute/Garrett_Lectures/s21_Lecture17_CrossValidation_8_1.png"
      },
      "needs_background": "light"
     },
     "output_type": "display_data"
    }
   ],
   "source": [
    "X = np.array(data['age']).reshape(data.shape[0],1) # age\n",
    "y = np.array(data['chd']) # heart disease\n",
    "\n",
    "#sns.boxplot(x=y,y=X[:,0])\n",
    "sns.kdeplot(x=X[:,0],hue=y)"
   ]
  },
  {
   "cell_type": "markdown",
   "metadata": {
    "id": "e7AMrZSgRMto"
   },
   "source": [
    "Now, let's do a logistic regression. But let's set the random state to be 33. As mentioned in the past, this random state sets the random seed to a specific value, which means every operation will follow the same sequence (thus, if you set your random state to the same as mine, we will get the same answer)\n",
    "\n",
    "Let's do a random state of 33 though!"
   ]
  },
  {
   "cell_type": "code",
   "execution_count": 5,
   "metadata": {
    "colab": {
     "base_uri": "https://localhost:8080/"
    },
    "id": "vDmYYg28kU8w",
    "outputId": "352afd26-88b3-49ba-a1c9-61a0886ab30b"
   },
   "outputs": [
    {
     "name": "stdout",
     "output_type": "stream",
     "text": [
      "0.6329479768786127\n",
      "0.7672413793103449\n"
     ]
    }
   ],
   "source": [
    "Xtrain,Xtest,ytrain,ytest = train_test_split(X,y,random_state=33)\n",
    "\n",
    "model = LogisticRegression()\n",
    "model = model.fit(Xtrain, ytrain)\n",
    "print(model.score(Xtrain, ytrain))\n",
    "print(model.score(Xtest, ytest))"
   ]
  },
  {
   "cell_type": "markdown",
   "metadata": {
    "id": "iNP75-6NkjBR"
   },
   "source": [
    "That's a good testing score!\n",
    "\n",
    "But random_state = 33 is so specific. Well, as it turns out, its because that testing state does the best out of the first 100. If you try random_state = 94 ......\n"
   ]
  },
  {
   "cell_type": "code",
   "execution_count": 6,
   "metadata": {
    "colab": {
     "base_uri": "https://localhost:8080/"
    },
    "id": "JS2WNW0IRurM",
    "outputId": "686c079f-5af4-45d2-cf54-fb94d178cfe5"
   },
   "outputs": [
    {
     "name": "stdout",
     "output_type": "stream",
     "text": [
      "0.7312138728323699\n",
      "0.5258620689655172\n"
     ]
    }
   ],
   "source": [
    "Xtrain,Xtest,ytrain,ytest = train_test_split(X,y,random_state=94)\n",
    "\n",
    "model = LogisticRegression()\n",
    "model = model.fit(Xtrain, ytrain)\n",
    "print(model.score(Xtrain, ytrain))\n",
    "print(model.score(Xtest, ytest))"
   ]
  },
  {
   "cell_type": "markdown",
   "metadata": {
    "id": "Bojygmh8R0Bz"
   },
   "source": [
    "\n",
    "That's like a .20 difference, which is massive!\n",
    "\n",
    "There has got to be a better way, just in case you end up with a bad/good random_state. \n",
    "\n",
    "What is happening here? Let's look closer at the distributions"
   ]
  },
  {
   "cell_type": "code",
   "execution_count": 7,
   "metadata": {
    "colab": {
     "base_uri": "https://localhost:8080/",
     "height": 286
    },
    "id": "5nnVJhr8kJ1L",
    "outputId": "68b451fe-c777-485a-b6ab-c75e7777d3b1"
   },
   "outputs": [
    {
     "data": {
      "text/plain": [
       "(0.0, 0.02)"
      ]
     },
     "execution_count": 7,
     "metadata": {},
     "output_type": "execute_result"
    },
    {
     "data": {
      "image/png": "[encoded data removed]",
      "text/plain": [
       "<Figure size 432x288 with 3 Axes>"
      ]
     },
     "metadata": {
      "filenames": {
       "image/png": "/Users/erikbrockbank/web/teaching/ucsd-css-002.github.io/_build/jupyter_execute/Garrett_Lectures/s21_Lecture17_CrossValidation_14_1.png"
      },
      "needs_background": "light"
     },
     "output_type": "display_data"
    }
   ],
   "source": [
    "Xtrain,Xtest,ytrain,ytest = train_test_split(X,y,random_state=33)\n",
    "\n",
    "plt.subplot(3,1,1)\n",
    "sns.kdeplot(x=X[:,0],hue=y)\n",
    "plt.xlim([10,70])\n",
    "plt.ylim([0,.02])\n",
    "plt.subplot(3,1,2)\n",
    "sns.kdeplot(x=Xtrain[:,0],hue=ytrain)\n",
    "plt.xlim([10,70])\n",
    "plt.ylim([0,.02])\n",
    "plt.subplot(3,1,3)\n",
    "sns.kdeplot(x=Xtest[:,0],hue=ytest)\n",
    "plt.xlim([10,70])\n",
    "plt.ylim([0,.02])"
   ]
  },
  {
   "cell_type": "markdown",
   "metadata": {
    "id": "H410ozeaDH5P"
   },
   "source": [
    "When the seed is set to 94, the testing set has a lot of 0 cases far to the right. This is unlike our original data\n",
    "\n",
    "When the seed is set to 33, the testing set has a lot of 1 cases far to the right. This is similar to our dataset, but probably exaggerates how far 1s are to the right\n",
    "\n",
    "Either of these situations could be accurate, but just based on our data, it appears as if these are outliers."
   ]
  },
  {
   "cell_type": "markdown",
   "metadata": {
    "id": "45Kq7RXAnMwJ"
   },
   "source": [
    "*How I found the best testing score based on random_state, if you are curious*"
   ]
  },
  {
   "cell_type": "code",
   "execution_count": 8,
   "metadata": {
    "colab": {
     "base_uri": "https://localhost:8080/",
     "height": 371
    },
    "id": "PP0M-4w1c7x3",
    "outputId": "1d4c9e1e-6721-4355-ffc3-54650e4cd25f"
   },
   "outputs": [
    {
     "name": "stdout",
     "output_type": "stream",
     "text": [
      "33\n",
      "94\n"
     ]
    },
    {
     "name": "stderr",
     "output_type": "stream",
     "text": [
      "/opt/anaconda3/lib/python3.8/site-packages/seaborn/_decorators.py:36: FutureWarning: Pass the following variables as keyword args: x, y. From version 0.12, the only valid positional argument will be `data`, and passing other arguments without an explicit keyword will result in an error or misinterpretation.\n",
      "  warnings.warn(\n"
     ]
    },
    {
     "data": {
      "text/plain": [
       "<AxesSubplot:>"
      ]
     },
     "execution_count": 8,
     "metadata": {},
     "output_type": "execute_result"
    },
    {
     "data": {
      "image/png": "[encoded data removed]",
      "text/plain": [
       "<Figure size 432x288 with 1 Axes>"
      ]
     },
     "metadata": {
      "filenames": {
       "image/png": "/Users/erikbrockbank/web/teaching/ucsd-css-002.github.io/_build/jupyter_execute/Garrett_Lectures/s21_Lecture17_CrossValidation_17_3.png"
      },
      "needs_background": "light"
     },
     "output_type": "display_data"
    }
   ],
   "source": [
    "testing_score = []\n",
    "i_pos = []\n",
    "for i in range(0,100):\n",
    "  Xtrain,Xtest,ytrain,ytest = train_test_split(X,y,random_state=i)\n",
    "  model = LogisticRegression()\n",
    "  model = model.fit(Xtrain, ytrain)\n",
    "  testing_score.append(model.score(Xtest, ytest))\n",
    "  i_pos.append(i)\n",
    "\n",
    "print(i_pos[testing_score.index(max(testing_score))])\n",
    "print(i_pos[testing_score.index(min(testing_score))])\n",
    "\n",
    "sns.lineplot(i_pos,testing_score)"
   ]
  },
  {
   "cell_type": "markdown",
   "metadata": {
    "id": "tCz-9sgsebHc"
   },
   "source": [
    "This method is called the Holdout method of cross validation. Its actually not a bad method if you have a ton of data!\n",
    "\n",
    "There are other methods that are more commonly used. Let's quickly talk about a few\n",
    "\n",
    "1. Repeated train and test\n",
    "2. kfolds\n",
    "3. leave one out\n"
   ]
  },
  {
   "cell_type": "markdown",
   "metadata": {
    "id": "usrDLQoWefbi"
   },
   "source": [
    "In repeated train and test, we basically do the split and model fitting a bunch of times with a bunch of different random states"
   ]
  },
  {
   "cell_type": "code",
   "execution_count": 9,
   "metadata": {
    "id": "OGxa1znUkVhp"
   },
   "outputs": [],
   "source": [
    "training_score = []\n",
    "testing_score = []\n",
    "for i in range(0,1000):\n",
    "  Xtrain,Xtest,ytrain,ytest = train_test_split(X,y,random_state=i)\n",
    "  model = LogisticRegression()\n",
    "  model = model.fit(Xtrain, ytrain)\n",
    "  training_score.append(model.score(Xtrain, ytrain))\n",
    "  testing_score.append(model.score(Xtest, ytest))"
   ]
  },
  {
   "cell_type": "markdown",
   "metadata": {
    "id": "aeMouw5gepey"
   },
   "source": [
    "Then, we look at the distribution of scores"
   ]
  },
  {
   "cell_type": "code",
   "execution_count": 10,
   "metadata": {
    "colab": {
     "base_uri": "https://localhost:8080/",
     "height": 336
    },
    "id": "6D2-MqOtlBIP",
    "outputId": "3b860c38-051d-4f67-de8f-2c574a2cb5cb"
   },
   "outputs": [
    {
     "name": "stderr",
     "output_type": "stream",
     "text": [
      "/opt/anaconda3/lib/python3.8/site-packages/seaborn/distributions.py:2551: FutureWarning: `distplot` is a deprecated function and will be removed in a future version. Please adapt your code to use either `displot` (a figure-level function with similar flexibility) or `histplot` (an axes-level function for histograms).\n",
      "  warnings.warn(msg, FutureWarning)\n"
     ]
    },
    {
     "data": {
      "text/plain": [
       "(0.5, 0.8)"
      ]
     },
     "execution_count": 10,
     "metadata": {},
     "output_type": "execute_result"
    },
    {
     "data": {
      "image/png": "[encoded data removed]",
      "text/plain": [
       "<Figure size 432x288 with 1 Axes>"
      ]
     },
     "metadata": {
      "filenames": {
       "image/png": "/Users/erikbrockbank/web/teaching/ucsd-css-002.github.io/_build/jupyter_execute/Garrett_Lectures/s21_Lecture17_CrossValidation_22_2.png"
      },
      "needs_background": "light"
     },
     "output_type": "display_data"
    }
   ],
   "source": [
    "sns.distplot(training_score)\n",
    "plt.xlim([.50,.8])"
   ]
  },
  {
   "cell_type": "code",
   "execution_count": 11,
   "metadata": {
    "colab": {
     "base_uri": "https://localhost:8080/",
     "height": 336
    },
    "id": "Wm5e1qiUlI8o",
    "outputId": "2d94f3eb-d0d4-4d21-ba65-7352746a7a6c"
   },
   "outputs": [
    {
     "name": "stderr",
     "output_type": "stream",
     "text": [
      "/opt/anaconda3/lib/python3.8/site-packages/seaborn/distributions.py:2551: FutureWarning: `distplot` is a deprecated function and will be removed in a future version. Please adapt your code to use either `displot` (a figure-level function with similar flexibility) or `histplot` (an axes-level function for histograms).\n",
      "  warnings.warn(msg, FutureWarning)\n"
     ]
    },
    {
     "data": {
      "text/plain": [
       "(0.5, 0.8)"
      ]
     },
     "execution_count": 11,
     "metadata": {},
     "output_type": "execute_result"
    },
    {
     "data": {
      "image/png": "[encoded data removed]",
      "text/plain": [
       "<Figure size 432x288 with 1 Axes>"
      ]
     },
     "metadata": {
      "filenames": {
       "image/png": "/Users/erikbrockbank/web/teaching/ucsd-css-002.github.io/_build/jupyter_execute/Garrett_Lectures/s21_Lecture17_CrossValidation_23_2.png"
      },
      "needs_background": "light"
     },
     "output_type": "display_data"
    }
   ],
   "source": [
    "sns.distplot(testing_score)\n",
    "plt.xlim([.50,.8])"
   ]
  },
  {
   "cell_type": "markdown",
   "metadata": {
    "id": "ju7mEe7Qlyap"
   },
   "source": [
    "You would report the average and standard deviation of the accuracy of this permuted distribution"
   ]
  },
  {
   "cell_type": "code",
   "execution_count": 12,
   "metadata": {
    "colab": {
     "base_uri": "https://localhost:8080/"
    },
    "id": "SpnVhFE5lxcT",
    "outputId": "83977e3b-d5e3-486c-9774-7a9bfbb1a553"
   },
   "outputs": [
    {
     "data": {
      "text/plain": [
       "0.6752068965517242"
      ]
     },
     "execution_count": 12,
     "metadata": {},
     "output_type": "execute_result"
    }
   ],
   "source": [
    "np.mean(testing_score)"
   ]
  },
  {
   "cell_type": "code",
   "execution_count": 13,
   "metadata": {
    "colab": {
     "base_uri": "https://localhost:8080/"
    },
    "id": "57uXOOUPl5R6",
    "outputId": "e934cd9b-a275-4a2f-b046-b47f45903cb5"
   },
   "outputs": [
    {
     "data": {
      "text/plain": [
       "0.03859434138163937"
      ]
     },
     "execution_count": 13,
     "metadata": {},
     "output_type": "execute_result"
    }
   ],
   "source": [
    "np.std(testing_score)"
   ]
  },
  {
   "cell_type": "markdown",
   "metadata": {
    "id": "OKjYMmEilX0_"
   },
   "source": [
    "With repeated train and test, you can really see the effect of the split in proportion of your data"
   ]
  },
  {
   "cell_type": "code",
   "execution_count": 14,
   "metadata": {
    "id": "oNWeOXwHnOXO"
   },
   "outputs": [],
   "source": [
    "training_score = []\n",
    "testing_score = []\n",
    "for i in range(0,1000):\n",
    "  Xtrain,Xtest,ytrain,ytest = train_test_split(X,y,random_state=i,test_size =.5)\n",
    "  model = LogisticRegression()\n",
    "  model = model.fit(Xtrain, ytrain)\n",
    "  training_score.append(model.score(Xtest, ytest))\n",
    "  testing_score.append(model.score(Xtrain, ytrain))"
   ]
  },
  {
   "cell_type": "code",
   "execution_count": 15,
   "metadata": {
    "colab": {
     "base_uri": "https://localhost:8080/",
     "height": 336
    },
    "id": "O1nYi9nDlMSW",
    "outputId": "9bdbc8dd-a938-4be8-89f3-2cac21263874"
   },
   "outputs": [
    {
     "name": "stderr",
     "output_type": "stream",
     "text": [
      "/opt/anaconda3/lib/python3.8/site-packages/seaborn/distributions.py:2551: FutureWarning: `distplot` is a deprecated function and will be removed in a future version. Please adapt your code to use either `displot` (a figure-level function with similar flexibility) or `histplot` (an axes-level function for histograms).\n",
      "  warnings.warn(msg, FutureWarning)\n"
     ]
    },
    {
     "data": {
      "text/plain": [
       "(0.5, 0.8)"
      ]
     },
     "execution_count": 15,
     "metadata": {},
     "output_type": "execute_result"
    },
    {
     "data": {
      "image/png": "[encoded data removed]",
      "text/plain": [
       "<Figure size 432x288 with 1 Axes>"
      ]
     },
     "metadata": {
      "filenames": {
       "image/png": "/Users/erikbrockbank/web/teaching/ucsd-css-002.github.io/_build/jupyter_execute/Garrett_Lectures/s21_Lecture17_CrossValidation_29_2.png"
      },
      "needs_background": "light"
     },
     "output_type": "display_data"
    }
   ],
   "source": [
    "sns.distplot(training_score)\n",
    "plt.xlim([.50,.8])"
   ]
  },
  {
   "cell_type": "code",
   "execution_count": 16,
   "metadata": {
    "colab": {
     "base_uri": "https://localhost:8080/",
     "height": 336
    },
    "id": "EHkm_1-qllKS",
    "outputId": "9316f2f3-2ff3-402f-cc27-265ba75fc989"
   },
   "outputs": [
    {
     "name": "stderr",
     "output_type": "stream",
     "text": [
      "/opt/anaconda3/lib/python3.8/site-packages/seaborn/distributions.py:2551: FutureWarning: `distplot` is a deprecated function and will be removed in a future version. Please adapt your code to use either `displot` (a figure-level function with similar flexibility) or `histplot` (an axes-level function for histograms).\n",
      "  warnings.warn(msg, FutureWarning)\n"
     ]
    },
    {
     "data": {
      "text/plain": [
       "(0.5, 0.8)"
      ]
     },
     "execution_count": 16,
     "metadata": {},
     "output_type": "execute_result"
    },
    {
     "data": {
      "image/png": "[encoded data removed]",
      "text/plain": [
       "<Figure size 432x288 with 1 Axes>"
      ]
     },
     "metadata": {
      "filenames": {
       "image/png": "/Users/erikbrockbank/web/teaching/ucsd-css-002.github.io/_build/jupyter_execute/Garrett_Lectures/s21_Lecture17_CrossValidation_30_2.png"
      },
      "needs_background": "light"
     },
     "output_type": "display_data"
    }
   ],
   "source": [
    "sns.distplot(testing_score)\n",
    "plt.xlim([.50,.8])"
   ]
  },
  {
   "cell_type": "markdown",
   "metadata": {
    "id": "X39rpHQLfMDa"
   },
   "source": [
    "When there is equal number of data in the training and testing, the resulting score distributions are pretty similar"
   ]
  },
  {
   "cell_type": "code",
   "execution_count": 17,
   "metadata": {
    "colab": {
     "base_uri": "https://localhost:8080/"
    },
    "id": "e5CMg63ZLa0s",
    "outputId": "02bb549f-d043-476c-dc7a-f35eaa40ebb8"
   },
   "outputs": [
    {
     "data": {
      "text/plain": [
       "0.6803290043290043"
      ]
     },
     "execution_count": 17,
     "metadata": {},
     "output_type": "execute_result"
    }
   ],
   "source": [
    "np.mean(testing_score)"
   ]
  },
  {
   "cell_type": "code",
   "execution_count": 18,
   "metadata": {
    "colab": {
     "base_uri": "https://localhost:8080/"
    },
    "id": "VTGNN-VVfcvg",
    "outputId": "e524ab10-2e73-4c56-94f2-f7bb38694975"
   },
   "outputs": [
    {
     "data": {
      "text/plain": [
       "0.023789706038088936"
      ]
     },
     "execution_count": 18,
     "metadata": {},
     "output_type": "execute_result"
    }
   ],
   "source": [
    "np.std(testing_score)"
   ]
  },
  {
   "cell_type": "markdown",
   "metadata": {
    "id": "sr51T1jYnY2m"
   },
   "source": [
    "You can actually avoid all of that extra coding by doing the following:"
   ]
  },
  {
   "cell_type": "code",
   "execution_count": 19,
   "metadata": {
    "id": "_jJxirYwncDl"
   },
   "outputs": [],
   "source": [
    "from sklearn import model_selection"
   ]
  },
  {
   "cell_type": "markdown",
   "metadata": {
    "id": "sfYwqHU8EtP3"
   },
   "source": [
    "For each of these, we pass in our model, so we can define that ahead of time without having to redefine it"
   ]
  },
  {
   "cell_type": "code",
   "execution_count": 20,
   "metadata": {
    "id": "A7WWffsWEsB5"
   },
   "outputs": [],
   "source": [
    "model = LogisticRegression() "
   ]
  },
  {
   "cell_type": "code",
   "execution_count": 21,
   "metadata": {
    "id": "A87j189Gm7jl"
   },
   "outputs": [],
   "source": [
    "shufflesplit = model_selection.ShuffleSplit(n_splits=10, random_state=0)"
   ]
  },
  {
   "cell_type": "markdown",
   "metadata": {
    "id": "ByIhbOe9lLIU"
   },
   "source": [
    "And we will evaluate these 'folds' using cross_val_score. Here, the accuracy of each random split is saved in an array"
   ]
  },
  {
   "cell_type": "code",
   "execution_count": 22,
   "metadata": {
    "colab": {
     "base_uri": "https://localhost:8080/"
    },
    "id": "WrISZ4aMk7zp",
    "outputId": "06e076a6-531c-4ad4-aed3-1a299f5b1624"
   },
   "outputs": [
    {
     "name": "stdout",
     "output_type": "stream",
     "text": [
      "[0.76595745 0.61702128 0.59574468 0.44680851 0.57446809 0.65957447\n",
      " 0.65957447 0.72340426 0.68085106 0.68085106]\n"
     ]
    }
   ],
   "source": [
    "results = model_selection.cross_val_score(model, X, y, cv=shufflesplit)\n",
    "print(results)"
   ]
  },
  {
   "cell_type": "markdown",
   "metadata": {
    "id": "N4wCtxkP8yez"
   },
   "source": [
    "And then, we can check the mean and std of that array"
   ]
  },
  {
   "cell_type": "code",
   "execution_count": 23,
   "metadata": {
    "colab": {
     "base_uri": "https://localhost:8080/"
    },
    "id": "2ccYzqg98n7Q",
    "outputId": "095930e4-68fc-4213-be4d-7e9b60c1f75a"
   },
   "outputs": [
    {
     "name": "stdout",
     "output_type": "stream",
     "text": [
      "0.6404255319148936 0.08427788221420579\n"
     ]
    }
   ],
   "source": [
    "print(results.mean(), results.std())"
   ]
  },
  {
   "cell_type": "markdown",
   "metadata": {
    "id": "8RSLcjmFSdBR"
   },
   "source": [
    "One limitation of repeated train and test is that... well... it is random!\n",
    "\n",
    "Ideally, one would do every permutation (which is basically like one of the methods below), but its possible that you end up with some data being in the training or the testing set more often"
   ]
  },
  {
   "cell_type": "markdown",
   "metadata": {
    "id": "_nzueQI8lv9A"
   },
   "source": [
    "This isn't the only method to split your data\n",
    "\n",
    "Another method is to develop KFOLDS\n",
    "\n",
    "https://scikit-learn.org/stable/auto_examples/model_selection/plot_cv_indices.html\n",
    "\n",
    "https://scikit-learn.org/stable/auto_examples/model_selection/plot_cv_indices.html#sphx-glr-auto-examples-model-selection-plot-cv-indices-py\n",
    "\n",
    "Each split of the data is called a fold. The algorithm is trained on k-1 folds with one held back and tested on the held back fold. This is repeated so that each fold of the dataset is given a chance to be the held back test set."
   ]
  },
  {
   "cell_type": "code",
   "execution_count": 24,
   "metadata": {
    "colab": {
     "base_uri": "https://localhost:8080/"
    },
    "id": "POn02_pjlnVY",
    "outputId": "31197603-99be-470c-ced2-2d18075e7277"
   },
   "outputs": [
    {
     "name": "stdout",
     "output_type": "stream",
     "text": [
      "[0.70212766 0.72340426 0.73913043 0.65217391 0.47826087 0.60869565\n",
      " 0.7826087  0.67391304 0.67391304 0.7173913 ]\n",
      "0.6751618871415357 0.08012111561990784\n"
     ]
    }
   ],
   "source": [
    "kfold = model_selection.KFold(n_splits=10) # don't need to a random_state here because there is no shuffling\n",
    "results = model_selection.cross_val_score(model, X, y, cv=kfold)\n",
    "print(results)\n",
    "print(results.mean(), results.std())"
   ]
  },
  {
   "cell_type": "markdown",
   "metadata": {
    "id": "z3DOK7-NWKZm"
   },
   "source": [
    "K-folds is pretty much the gold standard with most people using 3, 5, or 10 folds.\n",
    "\n",
    "One of the really nice properties of k-folds is that each data is in the testing set exactly once."
   ]
  },
  {
   "cell_type": "markdown",
   "metadata": {
    "id": "FL9DNeadmYuF"
   },
   "source": [
    "Another method is leave-p out, where p = the number to leave out\n",
    "\n",
    "A common method is to use leave-1 out (i.e., p = 1) which is the same as KFold(n_splits=n)\n",
    "\n",
    "Unlike KFold, this is exhaustive. Meaning that it will run all possible combinations of train/test split on the data\n",
    "\n",
    "The other methods we discussed are non-exhaustive"
   ]
  },
  {
   "cell_type": "code",
   "execution_count": 25,
   "metadata": {
    "id": "EPxHddbFmV1b"
   },
   "outputs": [
    {
     "name": "stdout",
     "output_type": "stream",
     "text": [
      "[0. 1. 1. 1. 0. 1. 1. 1. 1. 0. 1. 0. 1. 1. 1. 1. 1. 0. 1. 1. 0. 1. 1. 0.\n",
      " 1. 0. 1. 1. 0. 1. 0. 0. 1. 0. 1. 0. 1. 1. 1. 1. 0. 1. 1. 0. 1. 1. 1. 0.\n",
      " 1. 1. 1. 1. 0. 0. 1. 1. 1. 0. 1. 0. 1. 1. 0. 1. 1. 1. 1. 1. 1. 0. 1. 1.\n",
      " 1. 1. 1. 1. 0. 0. 1. 1. 0. 0. 0. 1. 1. 1. 0. 1. 1. 0. 1. 1. 1. 0. 0. 0.\n",
      " 1. 1. 0. 1. 1. 1. 1. 1. 1. 0. 1. 0. 1. 1. 1. 0. 1. 1. 1. 1. 0. 1. 1. 1.\n",
      " 0. 1. 1. 1. 1. 1. 1. 1. 1. 0. 0. 1. 0. 1. 1. 0. 1. 1. 1. 1. 0. 0. 1. 0.\n",
      " 1. 1. 1. 0. 0. 1. 0. 1. 1. 1. 0. 0. 1. 1. 1. 0. 1. 1. 1. 1. 1. 1. 0. 0.\n",
      " 1. 1. 1. 1. 1. 0. 0. 1. 1. 1. 1. 0. 0. 1. 1. 0. 0. 0. 0. 1. 0. 1. 0. 0.\n",
      " 0. 1. 1. 1. 1. 1. 0. 1. 1. 0. 1. 0. 0. 1. 1. 0. 0. 0. 0. 0. 1. 1. 1. 1.\n",
      " 0. 1. 1. 0. 1. 0. 0. 0. 0. 1. 0. 0. 1. 0. 1. 0. 1. 1. 1. 0. 0. 0. 1. 1.\n",
      " 0. 1. 1. 0. 1. 0. 1. 0. 0. 1. 1. 1. 1. 1. 1. 0. 0. 1. 1. 1. 0. 1. 0. 1.\n",
      " 0. 1. 1. 0. 1. 0. 0. 0. 1. 1. 0. 1. 1. 1. 1. 1. 0. 1. 0. 1. 0. 1. 1. 1.\n",
      " 1. 0. 1. 1. 1. 1. 1. 0. 1. 1. 0. 1. 1. 0. 1. 1. 1. 1. 1. 1. 1. 1. 1. 1.\n",
      " 1. 1. 1. 0. 1. 1. 1. 1. 0. 1. 0. 1. 0. 0. 0. 1. 1. 0. 1. 1. 0. 1. 1. 1.\n",
      " 1. 0. 1. 1. 1. 0. 0. 1. 1. 0. 0. 0. 0. 0. 1. 1. 1. 1. 1. 1. 1. 1. 1. 1.\n",
      " 1. 1. 1. 0. 0. 1. 1. 1. 1. 1. 1. 1. 1. 0. 1. 1. 1. 1. 1. 1. 1. 1. 0. 1.\n",
      " 1. 0. 0. 0. 1. 0. 0. 0. 0. 0. 1. 1. 0. 0. 0. 1. 1. 1. 1. 1. 0. 1. 1. 1.\n",
      " 1. 1. 1. 0. 0. 1. 1. 0. 0. 1. 1. 1. 1. 0. 0. 1. 0. 1. 1. 1. 1. 1. 1. 1.\n",
      " 1. 1. 1. 1. 1. 1. 1. 1. 1. 1. 1. 1. 1. 1. 0. 1. 1. 0. 1. 1. 1. 0. 0. 0.\n",
      " 0. 0. 0. 0. 1. 0.]\n",
      "0.658008658008658 0.47437671105810303\n"
     ]
    }
   ],
   "source": [
    "loocv = model_selection.LeavePOut(p=1)\n",
    "results = model_selection.cross_val_score(model, X, y, cv=loocv)\n",
    "print(results)\n",
    "print(results.mean(), results.std())"
   ]
  },
  {
   "cell_type": "markdown",
   "metadata": {
    "id": "EAAU4Bc0Actg"
   },
   "source": [
    "If we use cross_validate instead of cross_val_score, we actually can extract a few more details from our cross_validation"
   ]
  },
  {
   "cell_type": "code",
   "execution_count": 26,
   "metadata": {
    "colab": {
     "base_uri": "https://localhost:8080/"
    },
    "id": "f2SbHbKsAcEg",
    "outputId": "940c17f5-bb1b-4784-aae8-af45f74630e6"
   },
   "outputs": [
    {
     "name": "stdout",
     "output_type": "stream",
     "text": [
      "dict_keys(['fit_time', 'score_time', 'test_score'])\n"
     ]
    }
   ],
   "source": [
    "kfold = model_selection.KFold(n_splits=10) # don't need to a random_state here because there is no shuffling\n",
    "model = LogisticRegression()\n",
    "results = model_selection.cross_validate(model, X, y, cv=kfold)\n",
    "print(results.keys())"
   ]
  },
  {
   "cell_type": "markdown",
   "metadata": {
    "id": "x4itKyXlDiSv"
   },
   "source": [
    "And here, we can print our test scores, which should be the same as what we found above"
   ]
  },
  {
   "cell_type": "code",
   "execution_count": 27,
   "metadata": {
    "colab": {
     "base_uri": "https://localhost:8080/"
    },
    "id": "BtiSydniC8D3",
    "outputId": "63e9e582-70fb-4143-d11f-0f5ecd67f9b7"
   },
   "outputs": [
    {
     "data": {
      "text/plain": [
       "array([0.70212766, 0.72340426, 0.73913043, 0.65217391, 0.47826087,\n",
       "       0.60869565, 0.7826087 , 0.67391304, 0.67391304, 0.7173913 ])"
      ]
     },
     "execution_count": 27,
     "metadata": {},
     "output_type": "execute_result"
    }
   ],
   "source": [
    "results['test_score']"
   ]
  },
  {
   "cell_type": "markdown",
   "metadata": {
    "id": "oHh_bq40Dl0i"
   },
   "source": [
    "We can also turn on training scores and have multiple scoring options"
   ]
  },
  {
   "cell_type": "code",
   "execution_count": 28,
   "metadata": {
    "colab": {
     "base_uri": "https://localhost:8080/"
    },
    "id": "8ULDco-CBqbJ",
    "outputId": "29051341-c4b6-41ef-ebf5-2014234651bd"
   },
   "outputs": [
    {
     "name": "stdout",
     "output_type": "stream",
     "text": [
      "dict_keys(['fit_time', 'score_time', 'test_f1', 'train_f1', 'test_accuracy', 'train_accuracy'])\n"
     ]
    }
   ],
   "source": [
    "results = model_selection.cross_validate(model, X, y, cv=kfold,return_train_score=True,scoring=('f1','accuracy'))\n",
    "print(results.keys())"
   ]
  },
  {
   "cell_type": "markdown",
   "metadata": {
    "id": "Cuyww2TgDq-A"
   },
   "source": [
    "Neat!"
   ]
  },
  {
   "cell_type": "code",
   "execution_count": 29,
   "metadata": {
    "colab": {
     "base_uri": "https://localhost:8080/"
    },
    "id": "M7_cUvQjDANu",
    "outputId": "f163c112-0b23-48a4-d067-442568fa3013"
   },
   "outputs": [
    {
     "data": {
      "text/plain": [
       "array([0.61111111, 0.31578947, 0.57142857, 0.42857143, 0.25      ,\n",
       "       0.47058824, 0.58333333, 0.48275862, 0.57142857, 0.23529412])"
      ]
     },
     "execution_count": 29,
     "metadata": {},
     "output_type": "execute_result"
    }
   ],
   "source": [
    "results['test_f1']"
   ]
  },
  {
   "cell_type": "markdown",
   "metadata": {
    "id": "p7SulFfUDsL8"
   },
   "source": [
    "And lastly, you can get predicted values from cross_val_predict, which is pretty similar "
   ]
  },
  {
   "cell_type": "code",
   "execution_count": 30,
   "metadata": {
    "id": "fEs1lHWRC1F4"
   },
   "outputs": [],
   "source": [
    "y_pred = model_selection.cross_val_predict(model, X, y, cv=kfold)"
   ]
  },
  {
   "cell_type": "code",
   "execution_count": 31,
   "metadata": {
    "colab": {
     "base_uri": "https://localhost:8080/"
    },
    "id": "n9PM0ppNDHAn",
    "outputId": "c53f53fe-8740-4485-a8c6-9a4eace84276"
   },
   "outputs": [
    {
     "data": {
      "text/plain": [
       "array([0, 1, 0, 1, 0, 0, 0, 1, 0, 0, 1, 0, 0, 0, 0, 0, 0, 0, 1, 1, 0, 0,\n",
       "       0, 1, 0, 0, 0, 1, 0, 1, 0, 0, 1, 0, 0, 0, 0, 0, 0, 1, 0, 0, 0, 0,\n",
       "       0, 0, 1, 0, 0, 0, 0, 0, 0, 0, 0, 0, 0, 0, 0, 1, 0, 0, 1, 0, 0, 0,\n",
       "       0, 0, 0, 0, 0, 0, 0, 0, 0, 0, 0, 0, 1, 0, 0, 0, 0, 1, 0, 0, 0, 0,\n",
       "       0, 0, 0, 1, 0, 0, 1, 1, 0, 0, 0, 0, 0, 0, 0, 0, 0, 1, 1, 0, 0, 0,\n",
       "       0, 0, 0, 1, 1, 0, 0, 0, 1, 0, 1, 0, 0, 1, 0, 1, 0, 0, 1, 1, 1, 1,\n",
       "       0, 0, 0, 0, 0, 0, 0, 0, 0, 0, 0, 1, 0, 0, 0, 0, 0, 1, 1, 0, 0, 0,\n",
       "       0, 1, 0, 0, 0, 0, 0, 1, 0, 0, 0, 0, 1, 0, 0, 0, 0, 0, 0, 1, 1, 1,\n",
       "       0, 0, 0, 1, 1, 0, 1, 0, 0, 0, 1, 0, 1, 1, 0, 0, 0, 0, 0, 0, 0, 0,\n",
       "       0, 0, 0, 0, 0, 1, 1, 0, 0, 1, 1, 1, 1, 0, 0, 0, 0, 1, 0, 0, 0, 1,\n",
       "       0, 0, 1, 0, 1, 0, 0, 0, 1, 0, 1, 1, 1, 0, 0, 0, 1, 1, 0, 0, 0, 0,\n",
       "       0, 0, 1, 1, 1, 1, 1, 1, 0, 0, 1, 0, 0, 0, 0, 0, 1, 0, 0, 0, 1, 0,\n",
       "       0, 0, 0, 1, 0, 0, 0, 0, 0, 0, 0, 1, 1, 0, 0, 0, 0, 0, 0, 0, 0, 0,\n",
       "       0, 0, 0, 0, 0, 0, 0, 1, 0, 0, 0, 0, 0, 0, 0, 0, 0, 1, 0, 0, 0, 1,\n",
       "       0, 0, 1, 0, 1, 0, 0, 1, 0, 0, 1, 0, 1, 0, 1, 1, 1, 0, 1, 0, 0, 1,\n",
       "       0, 0, 0, 1, 1, 0, 1, 1, 0, 0, 0, 0, 0, 0, 0, 0, 0, 1, 0, 1, 0, 0,\n",
       "       1, 1, 0, 1, 0, 0, 0, 0, 1, 0, 0, 1, 0, 0, 0, 0, 0, 0, 1, 0, 0, 1,\n",
       "       0, 0, 0, 0, 0, 1, 0, 0, 0, 0, 0, 0, 1, 0, 0, 0, 0, 0, 1, 1, 0, 0,\n",
       "       1, 0, 1, 0, 0, 0, 1, 1, 1, 0, 1, 1, 0, 0, 1, 1, 1, 1, 0, 0, 1, 0,\n",
       "       0, 0, 0, 1, 1, 1, 0, 0, 0, 0, 0, 0, 0, 0, 0, 0, 0, 0, 0, 0, 0, 0,\n",
       "       0, 0, 0, 0, 0, 0, 0, 0, 0, 0, 0, 0, 0, 0, 0, 0, 1, 1, 0, 1, 0, 0])"
      ]
     },
     "execution_count": 31,
     "metadata": {},
     "output_type": "execute_result"
    }
   ],
   "source": [
    "y_pred"
   ]
  },
  {
   "cell_type": "markdown",
   "metadata": {
    "id": "VelEiK8PEbgM"
   },
   "source": [
    "Note that cross_val_predict while only work when the data is partitioned such that an item is only ever tested once. So, for shufflesplit, it will not work because that may not be true "
   ]
  },
  {
   "cell_type": "code",
   "execution_count": 32,
   "metadata": {
    "id": "hP5UU5bkT7PX"
   },
   "outputs": [],
   "source": [
    "from sklearn.linear_model import LinearRegression"
   ]
  },
  {
   "cell_type": "code",
   "execution_count": 33,
   "metadata": {
    "colab": {
     "base_uri": "https://localhost:8080/",
     "height": 336
    },
    "id": "Hw5-e_-_VM49",
    "outputId": "41b2d229-ea72-497b-82fd-7fdcb8246d8a"
   },
   "outputs": [
    {
     "name": "stderr",
     "output_type": "stream",
     "text": [
      "/opt/anaconda3/lib/python3.8/site-packages/seaborn/_decorators.py:36: FutureWarning: Pass the following variables as keyword args: x, y. From version 0.12, the only valid positional argument will be `data`, and passing other arguments without an explicit keyword will result in an error or misinterpretation.\n",
      "  warnings.warn(\n"
     ]
    },
    {
     "data": {
      "text/plain": [
       "<AxesSubplot:>"
      ]
     },
     "execution_count": 33,
     "metadata": {},
     "output_type": "execute_result"
    },
    {
     "data": {
      "image/png": "[encoded data removed]",
      "text/plain": [
       "<Figure size 432x288 with 1 Axes>"
      ]
     },
     "metadata": {
      "filenames": {
       "image/png": "/Users/erikbrockbank/web/teaching/ucsd-css-002.github.io/_build/jupyter_execute/Garrett_Lectures/s21_Lecture17_CrossValidation_62_2.png"
      },
      "needs_background": "light"
     },
     "output_type": "display_data"
    }
   ],
   "source": [
    "X = np.array(data['adiposity']).reshape(len(X),1) # age\n",
    "y = np.array(data['obesity']) # heart disease\n",
    "\n",
    "sns.scatterplot(X[:,0],y)"
   ]
  },
  {
   "cell_type": "code",
   "execution_count": 34,
   "metadata": {
    "colab": {
     "base_uri": "https://localhost:8080/"
    },
    "id": "o33iVPQrUE8l",
    "outputId": "14f0da5a-de74-4376-8444-3e44532e3eb5"
   },
   "outputs": [
    {
     "name": "stdout",
     "output_type": "stream",
     "text": [
      "[0.06081123 0.62139114 0.57591156 0.64596558 0.61837066 0.49953188\n",
      " 0.59195156 0.37574216 0.55627963 0.46372646]\n",
      "0.5009681854034886 0.16645474754542403\n"
     ]
    }
   ],
   "source": [
    "kfold = model_selection.KFold(n_splits=10) # don't need to a random_state here because there is no shuffling\n",
    "model = LinearRegression()\n",
    "results = model_selection.cross_val_score(model, X, y, cv=kfold,scoring='r2')\n",
    "print(results)\n",
    "print(results.mean(), results.std())"
   ]
  },
  {
   "cell_type": "markdown",
   "metadata": {
    "id": "HLewqA9WUs36"
   },
   "source": [
    "You can find the scoring parameter options here, which is important when considering different models and you goals!\n",
    "\n",
    "https://scikit-learn.org/stable/modules/model_evaluation.html#scoring-parameter"
   ]
  },
  {
   "cell_type": "markdown",
   "metadata": {
    "id": "-Rq1lVNaVipR"
   },
   "source": [
    "The last thing to ponder is the addition of breaking up the training set into training and validation, which is another option. This is something you can read more about below (open using incognito mode)"
   ]
  },
  {
   "cell_type": "markdown",
   "metadata": {
    "id": "BugRqForJTdT"
   },
   "source": [
    "https://towardsdatascience.com/train-validation-and-test-sets-72cb40cba9e7\n",
    "\n",
    "\n",
    "https://scikit-learn.org/stable/modules/cross_validation.html\n",
    "\n",
    "https://machinelearningmastery.com/evaluate-performance-machine-learning-algorithms-python-using-resampling/\n"
   ]
  },
  {
   "cell_type": "markdown",
   "metadata": {
    "id": "KEuNBThZJaYX"
   },
   "source": [
    "In summary:\n",
    "\n",
    "holdout approach (i.e., 1 train and test split) is not good if you have small-medium amounts of data, but okay if you have a lot of data\n",
    "\n",
    "repeated train test is better, but this isn't perfect because some data may never be in the testing set while other data may appear in the testing set a bunch. I just like it because I like distributions!\n",
    "\n",
    "Kfold being the most popular = kfold of 3, 5 or 10\n",
    "\n",
    "Leave1Out is common as well, but could take a lot of time to run if you have lots of data"
   ]
  }
 ],
 "metadata": {
  "colab": {
   "collapsed_sections": [],
   "name": "s21_Lecture17_CrossValidation.ipynb",
   "provenance": []
  },
  "kernelspec": {
   "display_name": "Python 3",
   "name": "python3"
  },
  "language_info": {
   "codemirror_mode": {
    "name": "ipython",
    "version": 3
   },
   "file_extension": ".py",
   "mimetype": "text/x-python",
   "name": "python",
   "nbconvert_exporter": "python",
   "pygments_lexer": "ipython3",
   "version": "3.8.3"
  }
 },
 "nbformat": 4,
 "nbformat_minor": 0
}