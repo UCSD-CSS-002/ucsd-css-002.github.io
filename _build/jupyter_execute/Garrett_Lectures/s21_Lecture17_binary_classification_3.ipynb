{
 "cells": [
  {
   "cell_type": "markdown",
   "metadata": {
    "colab_type": "text",
    "id": "OLujtaxb_xwd"
   },
   "source": [
    "Binary Classification 3\n",
    "\n",
    "1. Binary classification with multiple predictors\n",
    "2. Support vector machines\n",
    "\n",
    "As always let's import our libraries"
   ]
  },
  {
   "cell_type": "code",
   "execution_count": 1,
   "metadata": {
    "colab": {
     "base_uri": "https://localhost:8080/",
     "height": 71
    },
    "colab_type": "code",
    "id": "bOkUTcUq_n7v",
    "outputId": "d338e447-85b4-4fcc-e9f1-86d8bd0c0b05"
   },
   "outputs": [],
   "source": [
    "import seaborn as sns\n",
    "import matplotlib.pyplot as plt\n",
    "import numpy as np\n",
    "import pandas as pd\n",
    "from sklearn.model_selection import train_test_split\n",
    "from sklearn import metrics\n",
    "from sklearn.linear_model import LogisticRegression\n",
    "from sklearn import tree"
   ]
  },
  {
   "cell_type": "markdown",
   "metadata": {
    "colab_type": "text",
    "id": "g7T9vcg6e1nU"
   },
   "source": [
    "And just like last class, let's focus on the  MPG dataset and see if we can predict whether a car has an origin from the USA or Not USA using mpg as the predictor"
   ]
  },
  {
   "cell_type": "code",
   "execution_count": 2,
   "metadata": {
    "colab": {},
    "colab_type": "code",
    "id": "M-OSYX9Lmyan"
   },
   "outputs": [],
   "source": [
    "mpg = sns.load_dataset('mpg')"
   ]
  },
  {
   "cell_type": "code",
   "execution_count": 3,
   "metadata": {
    "colab": {},
    "colab_type": "code",
    "id": "7wK-keChm0r6"
   },
   "outputs": [],
   "source": [
    "dummy_origin =  pd.get_dummies(mpg['origin'])\n",
    "mpg.insert(len(mpg.columns),'usa',dummy_origin['usa'])"
   ]
  },
  {
   "cell_type": "code",
   "execution_count": 4,
   "metadata": {
    "colab": {
     "base_uri": "https://localhost:8080/",
     "height": 343
    },
    "colab_type": "code",
    "id": "3KdvRipHm3NO",
    "outputId": "61b8f57e-4c80-4b7e-fe8b-21095374e9c3"
   },
   "outputs": [
    {
     "data": {
      "text/html": [
       "<div>\n",
       "<style scoped>\n",
       "    .dataframe tbody tr th:only-of-type {\n",
       "        vertical-align: middle;\n",
       "    }\n",
       "\n",
       "    .dataframe tbody tr th {\n",
       "        vertical-align: top;\n",
       "    }\n",
       "\n",
       "    .dataframe thead th {\n",
       "        text-align: right;\n",
       "    }\n",
       "</style>\n",
       "<table border=\"1\" class=\"dataframe\">\n",
       "  <thead>\n",
       "    <tr style=\"text-align: right;\">\n",
       "      <th></th>\n",
       "      <th>mpg</th>\n",
       "      <th>cylinders</th>\n",
       "      <th>displacement</th>\n",
       "      <th>horsepower</th>\n",
       "      <th>weight</th>\n",
       "      <th>acceleration</th>\n",
       "      <th>model_year</th>\n",
       "      <th>origin</th>\n",
       "      <th>name</th>\n",
       "      <th>usa</th>\n",
       "    </tr>\n",
       "  </thead>\n",
       "  <tbody>\n",
       "    <tr>\n",
       "      <th>0</th>\n",
       "      <td>18.0</td>\n",
       "      <td>8</td>\n",
       "      <td>307.0</td>\n",
       "      <td>130.0</td>\n",
       "      <td>3504</td>\n",
       "      <td>12.0</td>\n",
       "      <td>70</td>\n",
       "      <td>usa</td>\n",
       "      <td>chevrolet chevelle malibu</td>\n",
       "      <td>1</td>\n",
       "    </tr>\n",
       "    <tr>\n",
       "      <th>1</th>\n",
       "      <td>15.0</td>\n",
       "      <td>8</td>\n",
       "      <td>350.0</td>\n",
       "      <td>165.0</td>\n",
       "      <td>3693</td>\n",
       "      <td>11.5</td>\n",
       "      <td>70</td>\n",
       "      <td>usa</td>\n",
       "      <td>buick skylark 320</td>\n",
       "      <td>1</td>\n",
       "    </tr>\n",
       "    <tr>\n",
       "      <th>2</th>\n",
       "      <td>18.0</td>\n",
       "      <td>8</td>\n",
       "      <td>318.0</td>\n",
       "      <td>150.0</td>\n",
       "      <td>3436</td>\n",
       "      <td>11.0</td>\n",
       "      <td>70</td>\n",
       "      <td>usa</td>\n",
       "      <td>plymouth satellite</td>\n",
       "      <td>1</td>\n",
       "    </tr>\n",
       "    <tr>\n",
       "      <th>3</th>\n",
       "      <td>16.0</td>\n",
       "      <td>8</td>\n",
       "      <td>304.0</td>\n",
       "      <td>150.0</td>\n",
       "      <td>3433</td>\n",
       "      <td>12.0</td>\n",
       "      <td>70</td>\n",
       "      <td>usa</td>\n",
       "      <td>amc rebel sst</td>\n",
       "      <td>1</td>\n",
       "    </tr>\n",
       "    <tr>\n",
       "      <th>4</th>\n",
       "      <td>17.0</td>\n",
       "      <td>8</td>\n",
       "      <td>302.0</td>\n",
       "      <td>140.0</td>\n",
       "      <td>3449</td>\n",
       "      <td>10.5</td>\n",
       "      <td>70</td>\n",
       "      <td>usa</td>\n",
       "      <td>ford torino</td>\n",
       "      <td>1</td>\n",
       "    </tr>\n",
       "  </tbody>\n",
       "</table>\n",
       "</div>"
      ],
      "text/plain": [
       "    mpg  cylinders  displacement  horsepower  weight  acceleration  \\\n",
       "0  18.0          8         307.0       130.0    3504          12.0   \n",
       "1  15.0          8         350.0       165.0    3693          11.5   \n",
       "2  18.0          8         318.0       150.0    3436          11.0   \n",
       "3  16.0          8         304.0       150.0    3433          12.0   \n",
       "4  17.0          8         302.0       140.0    3449          10.5   \n",
       "\n",
       "   model_year origin                       name  usa  \n",
       "0          70    usa  chevrolet chevelle malibu    1  \n",
       "1          70    usa          buick skylark 320    1  \n",
       "2          70    usa         plymouth satellite    1  \n",
       "3          70    usa              amc rebel sst    1  \n",
       "4          70    usa                ford torino    1  "
      ]
     },
     "execution_count": 4,
     "metadata": {},
     "output_type": "execute_result"
    }
   ],
   "source": [
    "mpg.head()"
   ]
  },
  {
   "cell_type": "markdown",
   "metadata": {
    "colab_type": "text",
    "id": "o2pMsJNRe_CY"
   },
   "source": [
    "As we saw yesterday, mpg by itself seems like a better good predictor for whether the car is USA or not usa"
   ]
  },
  {
   "cell_type": "code",
   "execution_count": 5,
   "metadata": {
    "colab": {
     "base_uri": "https://localhost:8080/",
     "height": 296
    },
    "colab_type": "code",
    "id": "YnPeTlw2nBHz",
    "outputId": "fcb69c41-ec7c-42ad-8fd5-b0ba0b804fe7"
   },
   "outputs": [
    {
     "name": "stderr",
     "output_type": "stream",
     "text": [
      "/opt/anaconda3/lib/python3.8/site-packages/seaborn/_decorators.py:36: FutureWarning: Pass the following variables as keyword args: x, y. From version 0.12, the only valid positional argument will be `data`, and passing other arguments without an explicit keyword will result in an error or misinterpretation.\n",
      "  warnings.warn(\n"
     ]
    },
    {
     "data": {
      "text/plain": [
       "<AxesSubplot:xlabel='usa', ylabel='mpg'>"
      ]
     },
     "execution_count": 5,
     "metadata": {},
     "output_type": "execute_result"
    },
    {
     "data": {
      "image/png": "[encoded data removed]",
      "text/plain": [
       "<Figure size 432x288 with 1 Axes>"
      ]
     },
     "metadata": {
      "filenames": {
       "image/png": "/Users/erikbrockbank/web/teaching/ucsd-css-002.github.io/_build/jupyter_execute/Garrett_Lectures/s21_Lecture17_binary_classification_3_7_2.png"
      },
      "needs_background": "light"
     },
     "output_type": "display_data"
    }
   ],
   "source": [
    "sns.boxplot(mpg['usa'],mpg['mpg'])"
   ]
  },
  {
   "cell_type": "code",
   "execution_count": 6,
   "metadata": {
    "colab": {},
    "colab_type": "code",
    "id": "hn_sFORNnG4o"
   },
   "outputs": [],
   "source": [
    "Xtrain,Xtest,ytrain,ytest = train_test_split(mpg[['mpg']],mpg['usa'],random_state=1)"
   ]
  },
  {
   "cell_type": "code",
   "execution_count": 7,
   "metadata": {
    "colab": {
     "base_uri": "https://localhost:8080/",
     "height": 51
    },
    "colab_type": "code",
    "id": "5v-2upL5ndxh",
    "outputId": "0f9113f0-cbd7-43ac-9a7d-3a39e9c1a226"
   },
   "outputs": [
    {
     "name": "stdout",
     "output_type": "stream",
     "text": [
      "0.7315436241610739\n",
      "0.8\n"
     ]
    }
   ],
   "source": [
    "logit_model = LogisticRegression(random_state =1)\n",
    "logit_model = logit_model.fit(Xtrain, ytrain)\n",
    "print(logit_model.score(Xtrain,ytrain))\n",
    "print(logit_model.score(Xtest,ytest))"
   ]
  },
  {
   "cell_type": "code",
   "execution_count": 8,
   "metadata": {
    "colab": {
     "base_uri": "https://localhost:8080/",
     "height": 51
    },
    "colab_type": "code",
    "id": "fPrphAsfnhbs",
    "outputId": "51452457-9b2f-45b7-c9c3-8df2f761bd87"
   },
   "outputs": [
    {
     "name": "stdout",
     "output_type": "stream",
     "text": [
      "0.7651006711409396\n",
      "0.77\n"
     ]
    }
   ],
   "source": [
    "tree_model = tree.DecisionTreeClassifier(max_depth=1)\n",
    "tree_model = tree_model.fit(Xtrain, ytrain)\n",
    "print(tree_model.score(Xtrain,ytrain))\n",
    "print(tree_model.score(Xtest,ytest))"
   ]
  },
  {
   "cell_type": "markdown",
   "metadata": {
    "colab_type": "text",
    "id": "UE64xe28nwOZ"
   },
   "source": [
    "With a single predictor, we do a pretty decent job. >75% is pretty good!"
   ]
  },
  {
   "cell_type": "markdown",
   "metadata": {
    "colab_type": "text",
    "id": "8AiOhiOtEMU4"
   },
   "source": [
    "But we aren't always dealing with one predictor and we can probably do even better with multiple predictors!"
   ]
  },
  {
   "cell_type": "code",
   "execution_count": 9,
   "metadata": {
    "colab": {
     "base_uri": "https://localhost:8080/",
     "height": 343
    },
    "colab_type": "code",
    "id": "C2CmE7B9FoPq",
    "outputId": "c60ce8d4-f941-466f-b21e-3db9f34e4edc"
   },
   "outputs": [
    {
     "data": {
      "text/html": [
       "<div>\n",
       "<style scoped>\n",
       "    .dataframe tbody tr th:only-of-type {\n",
       "        vertical-align: middle;\n",
       "    }\n",
       "\n",
       "    .dataframe tbody tr th {\n",
       "        vertical-align: top;\n",
       "    }\n",
       "\n",
       "    .dataframe thead th {\n",
       "        text-align: right;\n",
       "    }\n",
       "</style>\n",
       "<table border=\"1\" class=\"dataframe\">\n",
       "  <thead>\n",
       "    <tr style=\"text-align: right;\">\n",
       "      <th></th>\n",
       "      <th>mpg</th>\n",
       "      <th>cylinders</th>\n",
       "      <th>displacement</th>\n",
       "      <th>horsepower</th>\n",
       "      <th>weight</th>\n",
       "      <th>acceleration</th>\n",
       "      <th>model_year</th>\n",
       "      <th>origin</th>\n",
       "      <th>name</th>\n",
       "      <th>usa</th>\n",
       "    </tr>\n",
       "  </thead>\n",
       "  <tbody>\n",
       "    <tr>\n",
       "      <th>0</th>\n",
       "      <td>18.0</td>\n",
       "      <td>8</td>\n",
       "      <td>307.0</td>\n",
       "      <td>130.0</td>\n",
       "      <td>3504</td>\n",
       "      <td>12.0</td>\n",
       "      <td>70</td>\n",
       "      <td>usa</td>\n",
       "      <td>chevrolet chevelle malibu</td>\n",
       "      <td>1</td>\n",
       "    </tr>\n",
       "    <tr>\n",
       "      <th>1</th>\n",
       "      <td>15.0</td>\n",
       "      <td>8</td>\n",
       "      <td>350.0</td>\n",
       "      <td>165.0</td>\n",
       "      <td>3693</td>\n",
       "      <td>11.5</td>\n",
       "      <td>70</td>\n",
       "      <td>usa</td>\n",
       "      <td>buick skylark 320</td>\n",
       "      <td>1</td>\n",
       "    </tr>\n",
       "    <tr>\n",
       "      <th>2</th>\n",
       "      <td>18.0</td>\n",
       "      <td>8</td>\n",
       "      <td>318.0</td>\n",
       "      <td>150.0</td>\n",
       "      <td>3436</td>\n",
       "      <td>11.0</td>\n",
       "      <td>70</td>\n",
       "      <td>usa</td>\n",
       "      <td>plymouth satellite</td>\n",
       "      <td>1</td>\n",
       "    </tr>\n",
       "    <tr>\n",
       "      <th>3</th>\n",
       "      <td>16.0</td>\n",
       "      <td>8</td>\n",
       "      <td>304.0</td>\n",
       "      <td>150.0</td>\n",
       "      <td>3433</td>\n",
       "      <td>12.0</td>\n",
       "      <td>70</td>\n",
       "      <td>usa</td>\n",
       "      <td>amc rebel sst</td>\n",
       "      <td>1</td>\n",
       "    </tr>\n",
       "    <tr>\n",
       "      <th>4</th>\n",
       "      <td>17.0</td>\n",
       "      <td>8</td>\n",
       "      <td>302.0</td>\n",
       "      <td>140.0</td>\n",
       "      <td>3449</td>\n",
       "      <td>10.5</td>\n",
       "      <td>70</td>\n",
       "      <td>usa</td>\n",
       "      <td>ford torino</td>\n",
       "      <td>1</td>\n",
       "    </tr>\n",
       "  </tbody>\n",
       "</table>\n",
       "</div>"
      ],
      "text/plain": [
       "    mpg  cylinders  displacement  horsepower  weight  acceleration  \\\n",
       "0  18.0          8         307.0       130.0    3504          12.0   \n",
       "1  15.0          8         350.0       165.0    3693          11.5   \n",
       "2  18.0          8         318.0       150.0    3436          11.0   \n",
       "3  16.0          8         304.0       150.0    3433          12.0   \n",
       "4  17.0          8         302.0       140.0    3449          10.5   \n",
       "\n",
       "   model_year origin                       name  usa  \n",
       "0          70    usa  chevrolet chevelle malibu    1  \n",
       "1          70    usa          buick skylark 320    1  \n",
       "2          70    usa         plymouth satellite    1  \n",
       "3          70    usa              amc rebel sst    1  \n",
       "4          70    usa                ford torino    1  "
      ]
     },
     "execution_count": 9,
     "metadata": {},
     "output_type": "execute_result"
    }
   ],
   "source": [
    "mpg.head()"
   ]
  },
  {
   "cell_type": "markdown",
   "metadata": {
    "colab_type": "text",
    "id": "OHbCqaKsN3qm"
   },
   "source": [
    "Let's look at the scatterplot of total_phenols and proline"
   ]
  },
  {
   "cell_type": "code",
   "execution_count": 10,
   "metadata": {
    "colab": {
     "base_uri": "https://localhost:8080/",
     "height": 296
    },
    "colab_type": "code",
    "id": "BZVT7yALELv1",
    "outputId": "20241cf3-f5c0-4f0e-e5a6-35a2d1cbabcd"
   },
   "outputs": [
    {
     "name": "stderr",
     "output_type": "stream",
     "text": [
      "/opt/anaconda3/lib/python3.8/site-packages/seaborn/_decorators.py:36: FutureWarning: Pass the following variables as keyword args: x, y. From version 0.12, the only valid positional argument will be `data`, and passing other arguments without an explicit keyword will result in an error or misinterpretation.\n",
      "  warnings.warn(\n"
     ]
    },
    {
     "data": {
      "text/plain": [
       "<AxesSubplot:xlabel='displacement', ylabel='mpg'>"
      ]
     },
     "execution_count": 10,
     "metadata": {},
     "output_type": "execute_result"
    },
    {
     "data": {
      "image/png": "[encoded data removed]",
      "text/plain": [
       "<Figure size 432x288 with 1 Axes>"
      ]
     },
     "metadata": {
      "filenames": {
       "image/png": "/Users/erikbrockbank/web/teaching/ucsd-css-002.github.io/_build/jupyter_execute/Garrett_Lectures/s21_Lecture17_binary_classification_3_15_2.png"
      },
      "needs_background": "light"
     },
     "output_type": "display_data"
    }
   ],
   "source": [
    "sns.scatterplot(mpg['displacement'],mpg['mpg'],hue=mpg['usa'])"
   ]
  },
  {
   "cell_type": "markdown",
   "metadata": {
    "colab_type": "text",
    "id": "FClUgTv5N7Qm"
   },
   "source": [
    "Using both predictors, we can probably do an even better job of separating groups 0 and 1!"
   ]
  },
  {
   "cell_type": "code",
   "execution_count": 11,
   "metadata": {
    "colab": {},
    "colab_type": "code",
    "id": "rwTWD3C9JD4f"
   },
   "outputs": [],
   "source": [
    "X = mpg[['displacement','mpg']]"
   ]
  },
  {
   "cell_type": "code",
   "execution_count": 12,
   "metadata": {
    "colab": {},
    "colab_type": "code",
    "id": "PB8xIwAZJHd5"
   },
   "outputs": [],
   "source": [
    "Xtrain,Xtest,ytrain,ytest = train_test_split(X,mpg['usa'],random_state=1)"
   ]
  },
  {
   "cell_type": "markdown",
   "metadata": {
    "colab_type": "text",
    "id": "Q1JPuj5COOso"
   },
   "source": [
    "And now let's this new data with a logistic regression"
   ]
  },
  {
   "cell_type": "code",
   "execution_count": 13,
   "metadata": {
    "colab": {},
    "colab_type": "code",
    "id": "TygGFbh9JRPz"
   },
   "outputs": [],
   "source": [
    "logit_model2 = LogisticRegression()\n",
    "logit_model2 = logit_model.fit(Xtrain, ytrain)"
   ]
  },
  {
   "cell_type": "markdown",
   "metadata": {
    "colab_type": "text",
    "id": "_JL3byv0Pb4I"
   },
   "source": [
    "And let's see the score of the train and test"
   ]
  },
  {
   "cell_type": "code",
   "execution_count": 14,
   "metadata": {
    "colab": {
     "base_uri": "https://localhost:8080/",
     "height": 51
    },
    "colab_type": "code",
    "id": "sxP2reruHBi7",
    "outputId": "8a9ba4da-c830-4d29-d3c9-bf9c68c36ffa"
   },
   "outputs": [
    {
     "name": "stdout",
     "output_type": "stream",
     "text": [
      "0.8557046979865772\n",
      "0.88\n"
     ]
    }
   ],
   "source": [
    "print(logit_model.score(Xtrain,ytrain))\n",
    "print(logit_model.score(Xtest,ytest))"
   ]
  },
  {
   "cell_type": "markdown",
   "metadata": {
    "colab_type": "text",
    "id": "05_Kgk3wPebe"
   },
   "source": [
    "\n",
    "Just like with linear regression, its hard to see what this fit looks like in logistic regression when there are multiple predictors\n",
    "\n",
    "Let's take a peek with a tree diagram"
   ]
  },
  {
   "cell_type": "code",
   "execution_count": 15,
   "metadata": {
    "colab": {
     "base_uri": "https://localhost:8080/",
     "height": 51
    },
    "colab_type": "code",
    "id": "0BtoG-37oxUi",
    "outputId": "028d8517-ceb5-45ad-914a-bb5a9f49d608"
   },
   "outputs": [
    {
     "name": "stdout",
     "output_type": "stream",
     "text": [
      "0.8590604026845637\n",
      "0.9\n"
     ]
    }
   ],
   "source": [
    "tree_model2 = tree.DecisionTreeClassifier(max_depth=1)\n",
    "tree_model2.fit(Xtrain, ytrain)\n",
    "print(tree_model2.score(Xtrain,ytrain))\n",
    "print(tree_model2.score(Xtest,ytest))"
   ]
  },
  {
   "cell_type": "markdown",
   "metadata": {
    "colab_type": "text",
    "id": "G6WtvS-oISpd"
   },
   "source": [
    "Try playing around with the max_depth and you will see at what level the decision tree uses both dfeatures."
   ]
  },
  {
   "cell_type": "code",
   "execution_count": 16,
   "metadata": {
    "colab": {
     "base_uri": "https://localhost:8080/",
     "height": 51
    },
    "colab_type": "code",
    "id": "phaha3RxHSH3",
    "outputId": "c5f5e02a-a620-41b9-d673-9daf18cc73fd"
   },
   "outputs": [
    {
     "name": "stdout",
     "output_type": "stream",
     "text": [
      "0.9093959731543624\n",
      "0.84\n"
     ]
    }
   ],
   "source": [
    "tree_model3 = tree.DecisionTreeClassifier(max_depth=3) \n",
    "tree_model3.fit(Xtrain, ytrain)\n",
    "print(tree_model3.score(Xtrain,ytrain))\n",
    "print(tree_model3.score(Xtest,ytest))"
   ]
  },
  {
   "cell_type": "code",
   "execution_count": 17,
   "metadata": {
    "colab": {
     "base_uri": "https://localhost:8080/",
     "height": 924
    },
    "colab_type": "code",
    "id": "xs4fPKQuHbmE",
    "outputId": "88274fb3-d5d0-4e20-e1f5-a0471a9b46f1"
   },
   "outputs": [
    {
     "data": {
      "text/plain": [
       "[Text(386.3076923076923, 570.7800000000001, 'X[0] <= 134.5\\ngini = 0.469\\nsamples = 298\\nvalue = [112, 186]'),\n",
       " Text(206.03076923076924, 407.70000000000005, 'X[0] <= 97.5\\ngini = 0.355\\nsamples = 130\\nvalue = [100, 30]'),\n",
       " Text(103.01538461538462, 244.62, 'X[1] <= 29.25\\ngini = 0.1\\nsamples = 57\\nvalue = [54, 3]'),\n",
       " Text(51.50769230769231, 81.53999999999996, 'gini = 0.198\\nsamples = 18\\nvalue = [16, 2]'),\n",
       " Text(154.52307692307693, 81.53999999999996, 'gini = 0.05\\nsamples = 39\\nvalue = [38, 1]'),\n",
       " Text(309.04615384615386, 244.62, 'X[0] <= 106.0\\ngini = 0.466\\nsamples = 73\\nvalue = [46, 27]'),\n",
       " Text(257.53846153846155, 81.53999999999996, 'gini = 0.397\\nsamples = 22\\nvalue = [6, 16]'),\n",
       " Text(360.55384615384617, 81.53999999999996, 'gini = 0.338\\nsamples = 51\\nvalue = [40, 11]'),\n",
       " Text(566.5846153846154, 407.70000000000005, 'X[0] <= 190.5\\ngini = 0.133\\nsamples = 168\\nvalue = [12, 156]'),\n",
       " Text(515.0769230769231, 244.62, 'X[0] <= 159.5\\ngini = 0.426\\nsamples = 39\\nvalue = [12, 27]'),\n",
       " Text(463.5692307692308, 81.53999999999996, 'gini = 0.327\\nsamples = 34\\nvalue = [7, 27]'),\n",
       " Text(566.5846153846154, 81.53999999999996, 'gini = 0.0\\nsamples = 5\\nvalue = [5, 0]'),\n",
       " Text(618.0923076923077, 244.62, 'gini = 0.0\\nsamples = 129\\nvalue = [0, 129]')]"
      ]
     },
     "execution_count": 17,
     "metadata": {},
     "output_type": "execute_result"
    },
    {
     "data": {
      "image/png": "[encoded data removed]",
      "text/plain": [
       "<Figure size 864x864 with 1 Axes>"
      ]
     },
     "metadata": {
      "filenames": {
       "image/png": "/Users/erikbrockbank/web/teaching/ucsd-css-002.github.io/_build/jupyter_execute/Garrett_Lectures/s21_Lecture17_binary_classification_3_27_1.png"
      },
      "needs_background": "light"
     },
     "output_type": "display_data"
    }
   ],
   "source": [
    "plt.figure(figsize=[12,12])\n",
    "tree.plot_tree(tree_model3)"
   ]
  },
  {
   "cell_type": "markdown",
   "metadata": {
    "colab_type": "text",
    "id": "LgtgR9odPxUR"
   },
   "source": [
    "With max_depth 1 or 2, it only considered X[1] (i.e., the second column of data) and basically splits with just that column. Accuracy doesn't change much either\n",
    "\n",
    "With a max_depth of 3, you can see it using X[0] in some of the branches. And our accuracy is better! Nice!"
   ]
  },
  {
   "cell_type": "markdown",
   "metadata": {
    "colab_type": "text",
    "id": "8PRvkWAVMk3w"
   },
   "source": [
    "But there is another really useful method for binary classification\n",
    "\n",
    "Support vector classification \n",
    "\n",
    "https://en.wikipedia.org/wiki/Support_vector_machine#Linear_SVM\n",
    "\n",
    "And let's import the library"
   ]
  },
  {
   "cell_type": "code",
   "execution_count": 18,
   "metadata": {
    "colab": {},
    "colab_type": "code",
    "id": "HeG7lutmMvFE"
   },
   "outputs": [],
   "source": [
    "from sklearn.svm import SVC"
   ]
  },
  {
   "cell_type": "markdown",
   "metadata": {
    "colab_type": "text",
    "id": "ZzoBxLlzQ7fn"
   },
   "source": [
    "Here, we will create an instance of the model with a linear kernal, meaning it will separate the data using just a line"
   ]
  },
  {
   "cell_type": "code",
   "execution_count": 19,
   "metadata": {
    "colab": {
     "base_uri": "https://localhost:8080/",
     "height": 85
    },
    "colab_type": "code",
    "id": "DBCQ5u_9M1zm",
    "outputId": "69853883-4ba1-4ca0-9ff0-f61386842f38"
   },
   "outputs": [
    {
     "data": {
      "text/plain": [
       "SVC(kernel='linear')"
      ]
     },
     "execution_count": 19,
     "metadata": {},
     "output_type": "execute_result"
    }
   ],
   "source": [
    "svc_model = SVC(kernel='linear')\n",
    "svc_model.fit(Xtrain, ytrain)"
   ]
  },
  {
   "cell_type": "markdown",
   "metadata": {
    "colab_type": "text",
    "id": "LV2qf24jRJLL"
   },
   "source": [
    "Let's check the accuracy of this SVC model."
   ]
  },
  {
   "cell_type": "code",
   "execution_count": 20,
   "metadata": {
    "colab": {
     "base_uri": "https://localhost:8080/",
     "height": 51
    },
    "colab_type": "code",
    "id": "F_fu3UJUOT_z",
    "outputId": "05de807d-3b0a-42b1-fd08-52de07a03827"
   },
   "outputs": [
    {
     "name": "stdout",
     "output_type": "stream",
     "text": [
      "0.8523489932885906\n",
      "0.88\n"
     ]
    }
   ],
   "source": [
    "print(svc_model.score(Xtrain,ytrain))\n",
    "print(svc_model.score(Xtest,ytest))"
   ]
  },
  {
   "cell_type": "markdown",
   "metadata": {
    "colab_type": "text",
    "id": "ble2aVEoRMCz"
   },
   "source": [
    "Pretty good!\n",
    "\n",
    "We can check the predictions. Again, it returns a 1 or 0 on whether it thinks the data will belong to group 1 or 0"
   ]
  },
  {
   "cell_type": "code",
   "execution_count": 21,
   "metadata": {
    "colab": {
     "base_uri": "https://localhost:8080/",
     "height": 255
    },
    "colab_type": "code",
    "id": "biA7MtmHLKvf",
    "outputId": "b801872c-e67b-46c0-901b-6bfed13b1e1d"
   },
   "outputs": [
    {
     "data": {
      "text/plain": [
       "array([1, 1, 1, 0, 1, 1, 0, 0, 1, 1, 1, 0, 0, 1, 0, 0, 1, 1, 1, 0, 0, 0,\n",
       "       0, 1, 0, 0, 1, 0, 0, 1, 0, 0, 1, 0, 1, 1, 0, 1, 0, 0, 1, 1, 1, 0,\n",
       "       0, 0, 1, 1, 1, 1, 1, 1, 1, 0, 1, 1, 1, 0, 0, 1, 1, 0, 0, 0, 1, 1,\n",
       "       1, 1, 0, 1, 1, 0, 1, 1, 0, 0, 1, 1, 0, 0, 0, 1, 1, 1, 0, 0, 1, 1,\n",
       "       1, 0, 0, 0, 0, 0, 1, 0, 0, 0, 1, 1, 1, 0, 1, 0, 1, 0, 0, 1, 0, 0,\n",
       "       1, 0, 1, 0, 1, 0, 1, 0, 1, 1, 1, 1, 1, 1, 0, 1, 1, 0, 1, 0, 1, 1,\n",
       "       1, 0, 1, 1, 0, 0, 0, 1, 0, 1, 1, 1, 0, 1, 1, 1, 1, 0, 1, 1, 0, 1,\n",
       "       0, 1, 1, 1, 1, 1, 1, 0, 0, 1, 0, 1, 0, 1, 0, 0, 1, 1, 0, 0, 1, 1,\n",
       "       0, 0, 0, 1, 0, 0, 1, 1, 1, 1, 1, 0, 1, 1, 0, 1, 0, 1, 1, 0, 0, 1,\n",
       "       1, 0, 0, 1, 1, 1, 0, 1, 1, 0, 0, 1, 0, 1, 1, 1, 0, 0, 1, 0, 1, 1,\n",
       "       0, 0, 1, 0, 0, 1, 0, 1, 1, 1, 0, 0, 1, 0, 1, 0, 1, 0, 1, 1, 1, 1,\n",
       "       1, 0, 1, 1, 1, 1, 1, 1, 1, 0, 1, 1, 1, 0, 0, 1, 1, 1, 1, 1, 0, 1,\n",
       "       0, 1, 1, 1, 0, 0, 0, 1, 0, 1, 0, 1, 1, 1, 0, 1, 1, 0, 1, 0, 0, 1,\n",
       "       0, 0, 0, 0, 0, 1, 0, 1, 1, 1, 0, 1], dtype=uint8)"
      ]
     },
     "execution_count": 21,
     "metadata": {},
     "output_type": "execute_result"
    }
   ],
   "source": [
    "svc_model.predict(Xtrain)"
   ]
  },
  {
   "cell_type": "markdown",
   "metadata": {
    "colab_type": "text",
    "id": "2vHh-VPTwgmr"
   },
   "source": [
    "We can view our support vectors, which are the datapoints on the margin"
   ]
  },
  {
   "cell_type": "code",
   "execution_count": 22,
   "metadata": {
    "colab": {},
    "colab_type": "code",
    "id": "FoJKuMBjwNcP"
   },
   "outputs": [
    {
     "data": {
      "text/plain": [
       "array([[121. ,  24. ],\n",
       "       [145. ,  30.7],\n",
       "       [119. ,  37. ],\n",
       "       [114. ,  20. ],\n",
       "       [108. ,  34. ],\n",
       "       [134. ,  24. ],\n",
       "       [121. ,  19. ],\n",
       "       [107. ,  32.4],\n",
       "       [119. ,  27.2],\n",
       "       [121. ,  25. ],\n",
       "       [107. ,  36. ],\n",
       "       [113. ,  24. ],\n",
       "       [156. ,  20. ],\n",
       "       [163. ,  16.2],\n",
       "       [108. ,  26. ],\n",
       "       [130. ,  20. ],\n",
       "       [134. ,  29.8],\n",
       "       [ 91. ,  44.6],\n",
       "       [ 90. ,  43.1],\n",
       "       [134. ,  21.1],\n",
       "       [146. ,  30. ],\n",
       "       [113. ,  25. ],\n",
       "       [119. ,  23.9],\n",
       "       [108. ,  32.2],\n",
       "       [ 97. ,  44. ],\n",
       "       [144. ,  32. ],\n",
       "       [ 86. ,  46.6],\n",
       "       [120. ,  36. ],\n",
       "       [115. ,  23. ],\n",
       "       [107. ,  24. ],\n",
       "       [163. ,  17. ],\n",
       "       [168. ,  25.4],\n",
       "       [116. ,  24. ],\n",
       "       [107. ,  28. ],\n",
       "       [ 90. ,  43.4],\n",
       "       [116. ,  26. ],\n",
       "       [ 90. ,  44.3],\n",
       "       [156. ,  19. ],\n",
       "       [113. ,  24. ],\n",
       "       [120. ,  31.6],\n",
       "       [110. ,  25. ],\n",
       "       [121. ,  22. ],\n",
       "       [120. ,  24. ],\n",
       "       [116. ,  25. ],\n",
       "       [146. ,  24.2],\n",
       "       [168. ,  32.7],\n",
       "       [107. ,  33.7],\n",
       "       [183. ,  25.4],\n",
       "       [121. ,  18. ],\n",
       "       [120. ,  19. ],\n",
       "       [120. ,  31.3],\n",
       "       [146. ,  22. ],\n",
       "       [116. ,  28. ],\n",
       "       [119. ,  32.9],\n",
       "       [121. ,  21.6],\n",
       "       [120. ,  23. ],\n",
       "       [122. ,  35. ],\n",
       "       [ 98. ,  32.1],\n",
       "       [156. ,  23.2],\n",
       "       [105. ,  34.7],\n",
       "       [119. ,  31. ],\n",
       "       [156. ,  25.8],\n",
       "       [ 98. ,  35.7],\n",
       "       [122. ,  19. ],\n",
       "       [151. ,  26.6],\n",
       "       [135. ,  36. ],\n",
       "       [ 98. ,  36.1],\n",
       "       [140. ,  24. ],\n",
       "       [151. ,  23.8],\n",
       "       [120. ,  28. ],\n",
       "       [ 86. ,  39. ],\n",
       "       [105. ,  38. ],\n",
       "       [112. ,  31. ],\n",
       "       [ 98. ,  25. ],\n",
       "       [112. ,  34. ],\n",
       "       [140. ,  22. ],\n",
       "       [ 98. ,  36. ],\n",
       "       [140. ,  26.5],\n",
       "       [140. ,  23. ],\n",
       "       [155. ,  21. ],\n",
       "       [122. ,  25.5],\n",
       "       [140. ,  25. ],\n",
       "       [105. ,  34.2],\n",
       "       [135. ,  30. ],\n",
       "       [111. ,  30. ],\n",
       "       [ 91. ,  26. ],\n",
       "       [140. ,  26.4],\n",
       "       [140. ,  23. ],\n",
       "       [122. ,  26. ],\n",
       "       [140. ,  20. ],\n",
       "       [105. ,  30.9],\n",
       "       [151. ,  28.4],\n",
       "       [151. ,  23. ],\n",
       "       [151. ,  27. ],\n",
       "       [ 98. ,  34.4],\n",
       "       [105. ,  34.5],\n",
       "       [ 98. ,  30. ],\n",
       "       [ 98. ,  28. ],\n",
       "       [ 85. ,  29. ],\n",
       "       [112. ,  27. ],\n",
       "       [140. ,  22.3],\n",
       "       [ 98. ,  24.5],\n",
       "       [140. ,  21. ],\n",
       "       [140. ,  23.6],\n",
       "       [112. ,  28. ],\n",
       "       [122. ,  23. ],\n",
       "       [140. ,  28. ],\n",
       "       [151. ,  27. ],\n",
       "       [151. ,  28. ],\n",
       "       [ 98. ,  29.9],\n",
       "       [ 98. ,  30.5],\n",
       "       [140. ,  27. ],\n",
       "       [140. ,  25.1]])"
      ]
     },
     "execution_count": 22,
     "metadata": {},
     "output_type": "execute_result"
    }
   ],
   "source": [
    "svc_model.support_vectors_"
   ]
  },
  {
   "cell_type": "markdown",
   "metadata": {
    "colab_type": "text",
    "id": "xzzevDYq0vsq"
   },
   "source": [
    "And plot them onto our data. This gives us a quick look into how ou data was separate"
   ]
  },
  {
   "cell_type": "code",
   "execution_count": 23,
   "metadata": {
    "colab": {},
    "colab_type": "code",
    "id": "ahTht5LUp2LI"
   },
   "outputs": [
    {
     "data": {
      "text/html": [
       "<div>\n",
       "<style scoped>\n",
       "    .dataframe tbody tr th:only-of-type {\n",
       "        vertical-align: middle;\n",
       "    }\n",
       "\n",
       "    .dataframe tbody tr th {\n",
       "        vertical-align: top;\n",
       "    }\n",
       "\n",
       "    .dataframe thead th {\n",
       "        text-align: right;\n",
       "    }\n",
       "</style>\n",
       "<table border=\"1\" class=\"dataframe\">\n",
       "  <thead>\n",
       "    <tr style=\"text-align: right;\">\n",
       "      <th></th>\n",
       "      <th>displacement</th>\n",
       "      <th>mpg</th>\n",
       "    </tr>\n",
       "  </thead>\n",
       "  <tbody>\n",
       "    <tr>\n",
       "      <th>192</th>\n",
       "      <td>250.0</td>\n",
       "      <td>22.0</td>\n",
       "    </tr>\n",
       "    <tr>\n",
       "      <th>27</th>\n",
       "      <td>318.0</td>\n",
       "      <td>11.0</td>\n",
       "    </tr>\n",
       "    <tr>\n",
       "      <th>89</th>\n",
       "      <td>318.0</td>\n",
       "      <td>15.0</td>\n",
       "    </tr>\n",
       "    <tr>\n",
       "      <th>310</th>\n",
       "      <td>89.0</td>\n",
       "      <td>38.1</td>\n",
       "    </tr>\n",
       "    <tr>\n",
       "      <th>73</th>\n",
       "      <td>307.0</td>\n",
       "      <td>13.0</td>\n",
       "    </tr>\n",
       "    <tr>\n",
       "      <th>...</th>\n",
       "      <td>...</td>\n",
       "      <td>...</td>\n",
       "    </tr>\n",
       "    <tr>\n",
       "      <th>393</th>\n",
       "      <td>140.0</td>\n",
       "      <td>27.0</td>\n",
       "    </tr>\n",
       "    <tr>\n",
       "      <th>255</th>\n",
       "      <td>140.0</td>\n",
       "      <td>25.1</td>\n",
       "    </tr>\n",
       "    <tr>\n",
       "      <th>72</th>\n",
       "      <td>304.0</td>\n",
       "      <td>15.0</td>\n",
       "    </tr>\n",
       "    <tr>\n",
       "      <th>235</th>\n",
       "      <td>97.0</td>\n",
       "      <td>26.0</td>\n",
       "    </tr>\n",
       "    <tr>\n",
       "      <th>37</th>\n",
       "      <td>232.0</td>\n",
       "      <td>18.0</td>\n",
       "    </tr>\n",
       "  </tbody>\n",
       "</table>\n",
       "<p>298 rows × 2 columns</p>\n",
       "</div>"
      ],
      "text/plain": [
       "     displacement   mpg\n",
       "192         250.0  22.0\n",
       "27          318.0  11.0\n",
       "89          318.0  15.0\n",
       "310          89.0  38.1\n",
       "73          307.0  13.0\n",
       "..            ...   ...\n",
       "393         140.0  27.0\n",
       "255         140.0  25.1\n",
       "72          304.0  15.0\n",
       "235          97.0  26.0\n",
       "37          232.0  18.0\n",
       "\n",
       "[298 rows x 2 columns]"
      ]
     },
     "execution_count": 23,
     "metadata": {},
     "output_type": "execute_result"
    }
   ],
   "source": [
    "Xtrain"
   ]
  },
  {
   "cell_type": "code",
   "execution_count": 24,
   "metadata": {
    "colab": {
     "base_uri": "https://localhost:8080/",
     "height": 296
    },
    "colab_type": "code",
    "id": "c5c4shgRwT6w",
    "outputId": "1dfa2016-5a5c-46ef-ebec-2118a0d30ae4"
   },
   "outputs": [
    {
     "name": "stderr",
     "output_type": "stream",
     "text": [
      "/opt/anaconda3/lib/python3.8/site-packages/seaborn/_decorators.py:36: FutureWarning: Pass the following variables as keyword args: x, y. From version 0.12, the only valid positional argument will be `data`, and passing other arguments without an explicit keyword will result in an error or misinterpretation.\n",
      "  warnings.warn(\n",
      "/opt/anaconda3/lib/python3.8/site-packages/seaborn/_decorators.py:36: FutureWarning: Pass the following variables as keyword args: x, y. From version 0.12, the only valid positional argument will be `data`, and passing other arguments without an explicit keyword will result in an error or misinterpretation.\n",
      "  warnings.warn(\n"
     ]
    },
    {
     "data": {
      "text/plain": [
       "<AxesSubplot:xlabel='displacement', ylabel='mpg'>"
      ]
     },
     "execution_count": 24,
     "metadata": {},
     "output_type": "execute_result"
    },
    {
     "data": {
      "image/png": "[encoded data removed]",
      "text/plain": [
       "<Figure size 432x288 with 1 Axes>"
      ]
     },
     "metadata": {
      "filenames": {
       "image/png": "/Users/erikbrockbank/web/teaching/ucsd-css-002.github.io/_build/jupyter_execute/Garrett_Lectures/s21_Lecture17_binary_classification_3_41_2.png"
      },
      "needs_background": "light"
     },
     "output_type": "display_data"
    }
   ],
   "source": [
    "sns.scatterplot(Xtrain['displacement'], Xtrain['mpg'], hue=ytrain)\n",
    "sns.scatterplot(svc_model.support_vectors_[:,0],svc_model.support_vectors_[:,1],color='k')"
   ]
  },
  {
   "cell_type": "markdown",
   "metadata": {
    "colab_type": "text",
    "id": "YhrCZX0o0084"
   },
   "source": [
    "Alterantively, we can plot our margin using the coef_ and intercept_ of the model.\n",
    "\n",
    "Note: this is specific to linear SVC"
   ]
  },
  {
   "cell_type": "code",
   "execution_count": 25,
   "metadata": {
    "colab": {
     "base_uri": "https://localhost:8080/",
     "height": 34
    },
    "colab_type": "code",
    "id": "FEyrseu_LZ3v",
    "outputId": "f32cc9e0-a941-403b-8e21-b3577df898ed"
   },
   "outputs": [
    {
     "data": {
      "text/plain": [
       "array([[0.03930158, 0.03649028]])"
      ]
     },
     "execution_count": 25,
     "metadata": {},
     "output_type": "execute_result"
    }
   ],
   "source": [
    "svc_model.coef_"
   ]
  },
  {
   "cell_type": "code",
   "execution_count": 26,
   "metadata": {
    "colab": {
     "base_uri": "https://localhost:8080/",
     "height": 34
    },
    "colab_type": "code",
    "id": "psGFUyKZLsTw",
    "outputId": "14fd4177-86ff-44b9-b582-22fdc56ca12e"
   },
   "outputs": [
    {
     "data": {
      "text/plain": [
       "array([-6.07851401])"
      ]
     },
     "execution_count": 26,
     "metadata": {},
     "output_type": "execute_result"
    }
   ],
   "source": [
    "svc_model.intercept_"
   ]
  },
  {
   "cell_type": "markdown",
   "metadata": {
    "colab_type": "text",
    "id": "PgvplfgLS2Xr"
   },
   "source": [
    "To use the coef_ and intercept, we need to do a few things. First, let's pull out the coefficents, which are basically weights"
   ]
  },
  {
   "cell_type": "code",
   "execution_count": 27,
   "metadata": {
    "colab": {
     "base_uri": "https://localhost:8080/",
     "height": 34
    },
    "colab_type": "code",
    "id": "H_aRmmrfxzKM",
    "outputId": "af92c526-39ce-4e8f-b206-ad8a71bec798"
   },
   "outputs": [
    {
     "name": "stdout",
     "output_type": "stream",
     "text": [
      "[0.03930158 0.03649028]\n"
     ]
    }
   ],
   "source": [
    "w = svc_model.coef_[0]\n",
    "print(w)"
   ]
  },
  {
   "cell_type": "markdown",
   "metadata": {
    "colab_type": "text",
    "id": "aL6DzWVo1EGr"
   },
   "source": [
    "Dividing them basically gets us a slope"
   ]
  },
  {
   "cell_type": "code",
   "execution_count": 28,
   "metadata": {
    "colab": {
     "base_uri": "https://localhost:8080/",
     "height": 34
    },
    "colab_type": "code",
    "id": "afqwwmu7x0sF",
    "outputId": "84cf5c88-9da7-45ee-c40b-7b73470dac55"
   },
   "outputs": [
    {
     "name": "stdout",
     "output_type": "stream",
     "text": [
      "-1.0770423030664809\n"
     ]
    }
   ],
   "source": [
    "slope = -w[0] / w[1] \n",
    "print(slope)"
   ]
  },
  {
   "cell_type": "markdown",
   "metadata": {
    "colab_type": "text",
    "id": "6GWcaFdX1GrJ"
   },
   "source": [
    "Our intercept needs to be adjusted by the weight of the y-axis"
   ]
  },
  {
   "cell_type": "code",
   "execution_count": 29,
   "metadata": {
    "colab": {
     "base_uri": "https://localhost:8080/",
     "height": 34
    },
    "colab_type": "code",
    "id": "p3YmJ6PqyUPL",
    "outputId": "02081ee8-8a09-43d5-934b-c8b929b91e42"
   },
   "outputs": [
    {
     "name": "stdout",
     "output_type": "stream",
     "text": [
      "166.5789750943223\n"
     ]
    }
   ],
   "source": [
    "intercept = -svc_model.intercept_[0]/w[1]\n",
    "print(intercept)"
   ]
  },
  {
   "cell_type": "markdown",
   "metadata": {
    "colab_type": "text",
    "id": "Ik3-7c2X1LwO"
   },
   "source": [
    "Then, using Xtrain as the X in our y = m*x + b equation, we can derive our line"
   ]
  },
  {
   "cell_type": "code",
   "execution_count": 30,
   "metadata": {
    "colab": {},
    "colab_type": "code",
    "id": "rTSJuZOqzEd-"
   },
   "outputs": [],
   "source": [
    "yy = slope * Xtrain['displacement'] + intercept"
   ]
  },
  {
   "cell_type": "markdown",
   "metadata": {
    "colab_type": "text",
    "id": "D67-AFYf1QnY"
   },
   "source": [
    "Let's put this all on the plot"
   ]
  },
  {
   "cell_type": "code",
   "execution_count": 31,
   "metadata": {
    "colab": {
     "base_uri": "https://localhost:8080/",
     "height": 300
    },
    "colab_type": "code",
    "id": "4Evr0-j7NcTP",
    "outputId": "0911eee4-05eb-4dbd-f6bd-fd8e588ac2e5"
   },
   "outputs": [
    {
     "name": "stderr",
     "output_type": "stream",
     "text": [
      "/opt/anaconda3/lib/python3.8/site-packages/seaborn/_decorators.py:36: FutureWarning: Pass the following variables as keyword args: x, y. From version 0.12, the only valid positional argument will be `data`, and passing other arguments without an explicit keyword will result in an error or misinterpretation.\n",
      "  warnings.warn(\n",
      "/opt/anaconda3/lib/python3.8/site-packages/seaborn/_decorators.py:36: FutureWarning: Pass the following variables as keyword args: x, y. From version 0.12, the only valid positional argument will be `data`, and passing other arguments without an explicit keyword will result in an error or misinterpretation.\n",
      "  warnings.warn(\n"
     ]
    },
    {
     "data": {
      "text/plain": [
       "(0.0, 50.0)"
      ]
     },
     "execution_count": 31,
     "metadata": {},
     "output_type": "execute_result"
    },
    {
     "data": {
      "image/png": "[encoded data removed]",
      "text/plain": [
       "<Figure size 432x288 with 1 Axes>"
      ]
     },
     "metadata": {
      "filenames": {
       "image/png": "/Users/erikbrockbank/web/teaching/ucsd-css-002.github.io/_build/jupyter_execute/Garrett_Lectures/s21_Lecture17_binary_classification_3_54_2.png"
      },
      "needs_background": "light"
     },
     "output_type": "display_data"
    }
   ],
   "source": [
    "sns.scatterplot(Xtrain['displacement'], Xtrain['mpg'], hue=ytrain)\n",
    "plt.plot(Xtrain['displacement'], yy)\n",
    "sns.scatterplot(svc_model.support_vectors_[:,0],svc_model.support_vectors_[:,1],color='k')\n",
    "plt.ylim([0,50])"
   ]
  },
  {
   "cell_type": "markdown",
   "metadata": {
    "colab_type": "text",
    "id": "R3379k_o1SMj"
   },
   "source": [
    "Looks good!\n",
    "\n",
    "We can do this with the testing data too to get a feel for how well it separated it"
   ]
  },
  {
   "cell_type": "code",
   "execution_count": 32,
   "metadata": {
    "colab": {
     "base_uri": "https://localhost:8080/",
     "height": 300
    },
    "colab_type": "code",
    "id": "5QeW_fGLz0Rf",
    "outputId": "25ac3acd-1964-49fb-9106-44b700035ca9"
   },
   "outputs": [
    {
     "name": "stderr",
     "output_type": "stream",
     "text": [
      "/opt/anaconda3/lib/python3.8/site-packages/seaborn/_decorators.py:36: FutureWarning: Pass the following variables as keyword args: x, y. From version 0.12, the only valid positional argument will be `data`, and passing other arguments without an explicit keyword will result in an error or misinterpretation.\n",
      "  warnings.warn(\n"
     ]
    },
    {
     "data": {
      "text/plain": [
       "(0.0, 50.0)"
      ]
     },
     "execution_count": 32,
     "metadata": {},
     "output_type": "execute_result"
    },
    {
     "data": {
      "image/png": "[encoded data removed]",
      "text/plain": [
       "<Figure size 432x288 with 1 Axes>"
      ]
     },
     "metadata": {
      "filenames": {
       "image/png": "/Users/erikbrockbank/web/teaching/ucsd-css-002.github.io/_build/jupyter_execute/Garrett_Lectures/s21_Lecture17_binary_classification_3_56_2.png"
      },
      "needs_background": "light"
     },
     "output_type": "display_data"
    }
   ],
   "source": [
    "yy = slope * Xtest['displacement'] + intercept\n",
    "\n",
    "sns.scatterplot(Xtest['displacement'], Xtest['mpg'], hue=ytest)\n",
    "plt.plot(Xtest['displacement'], yy)\n",
    "plt.ylim([0,50])"
   ]
  },
  {
   "cell_type": "markdown",
   "metadata": {
    "colab_type": "text",
    "id": "QlDH8j8b2Uhn"
   },
   "source": [
    "Here is another method to generate the margin. Its a bit more complex"
   ]
  },
  {
   "cell_type": "code",
   "execution_count": 33,
   "metadata": {
    "colab": {
     "base_uri": "https://localhost:8080/",
     "height": 300
    },
    "colab_type": "code",
    "id": "dTwWMIKmz-9u",
    "outputId": "b47e6750-1fed-49a1-f3ce-ef44a872f6c8"
   },
   "outputs": [
    {
     "name": "stderr",
     "output_type": "stream",
     "text": [
      "/opt/anaconda3/lib/python3.8/site-packages/seaborn/_decorators.py:36: FutureWarning: Pass the following variables as keyword args: x, y. From version 0.12, the only valid positional argument will be `data`, and passing other arguments without an explicit keyword will result in an error or misinterpretation.\n",
      "  warnings.warn(\n"
     ]
    },
    {
     "data": {
      "text/plain": [
       "<matplotlib.contour.QuadContourSet at 0x7fdd86c700a0>"
      ]
     },
     "execution_count": 33,
     "metadata": {},
     "output_type": "execute_result"
    },
    {
     "data": {
      "image/png": "[encoded data removed]",
      "text/plain": [
       "<Figure size 432x288 with 1 Axes>"
      ]
     },
     "metadata": {
      "filenames": {
       "image/png": "/Users/erikbrockbank/web/teaching/ucsd-css-002.github.io/_build/jupyter_execute/Garrett_Lectures/s21_Lecture17_binary_classification_3_58_2.png"
      },
      "needs_background": "light"
     },
     "output_type": "display_data"
    }
   ],
   "source": [
    "sns.scatterplot(Xtrain['displacement'], Xtrain['mpg'],hue=ytrain)\n",
    "\n",
    "# create grid to evaluate model\n",
    "xx = np.linspace(0, 500, 30)  # works best if you know the xlim[0] and xlim[1]\n",
    "yy = np.linspace(0,60, 30)  # works best if you know the ylim[0] and ylim[1]\n",
    "YY, XX = np.meshgrid(yy, xx)\n",
    "xy = np.vstack([XX.ravel(), YY.ravel()]).T\n",
    "Z = svc_model.decision_function(xy).reshape(XX.shape)\n",
    "\n",
    "# plot decision boundary and margins\n",
    "plt.contour(XX, YY, Z, colors='k', levels=[-1, 0, 1], alpha=0.5,\n",
    "           linestyles=['--', '-', '--'])"
   ]
  },
  {
   "cell_type": "markdown",
   "metadata": {
    "colab_type": "text",
    "id": "huIdPWQv2dEw"
   },
   "source": [
    "That's pretty much most of what I wanted to cover of binary classification\n",
    "\n",
    "There are other types of classification techniques (Random forest, perceptron, k-nearest neighbors) and we could certainly spend a lot more time talking about the naunces of Decision Trees and Support Vector machines.\n",
    "\n",
    "For now, I think this should give you a basic idea of how to conduct classification, what is happening, and how to evaluate the classification\n",
    "\n",
    "Next, we will cover what cross-validation is because it concerns how we conduct our machine learning"
   ]
  }
 ],
 "metadata": {
  "colab": {
   "collapsed_sections": [],
   "name": "SumII_Lecture_15_binary_classification_3.ipynb",
   "provenance": []
  },
  "kernelspec": {
   "display_name": "Python 3",
   "name": "python3"
  },
  "language_info": {
   "codemirror_mode": {
    "name": "ipython",
    "version": 3
   },
   "file_extension": ".py",
   "mimetype": "text/x-python",
   "name": "python",
   "nbconvert_exporter": "python",
   "pygments_lexer": "ipython3",
   "version": "3.8.3"
  }
 },
 "nbformat": 4,
 "nbformat_minor": 0
}