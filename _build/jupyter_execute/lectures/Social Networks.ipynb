{
 "cells": [
  {
   "cell_type": "markdown",
   "metadata": {},
   "source": [
    "# Social networks\n",
    "\n",
    "## Want to really learn about this?\n",
    "\n",
    "http://networksciencebook.com/\n",
    "\n",
    "\n",
    "## First, lets make a small social network\n",
    "\n",
    "### step 1: make a set of nodes (people)"
   ]
  },
  {
   "cell_type": "code",
   "execution_count": 1,
   "metadata": {},
   "outputs": [],
   "source": [
    "import random\n",
    "from math import log"
   ]
  },
  {
   "cell_type": "code",
   "execution_count": 2,
   "metadata": {},
   "outputs": [],
   "source": [
    "n = 10\n",
    "p = 1.1*(log(n)/n)"
   ]
  },
  {
   "cell_type": "code",
   "execution_count": 3,
   "metadata": {},
   "outputs": [],
   "source": [
    "import random\n",
    "\n",
    "with open(\"../datasets/first_names.txt\", \"r\") as f:\n",
    "    names = f.read().splitlines()\n",
    "\n",
    "names = sorted(random.sample(names, k=n))"
   ]
  },
  {
   "cell_type": "code",
   "execution_count": 4,
   "metadata": {},
   "outputs": [
    {
     "name": "stdout",
     "output_type": "stream",
     "text": [
      "['Akeila', 'Azim', 'Darvin', 'Emilia', 'Janmichael', 'Javell', 'Joia', 'Lynnae', 'Mattie', 'Nakiesha']\n"
     ]
    }
   ],
   "source": [
    "print(names)"
   ]
  },
  {
   "cell_type": "markdown",
   "metadata": {},
   "source": [
    "### step 2: make edges\n",
    "\n",
    "Here we will define an Erdős-Rényi graph (ER graph) random graph, where each pair of people has some probability $p$ of having a connection."
   ]
  },
  {
   "cell_type": "code",
   "execution_count": 5,
   "metadata": {},
   "outputs": [],
   "source": [
    "edges = dict(zip(names, [[] for i in range(n)]))\n",
    "\n",
    "for i in range(n-1):\n",
    "    for j in range(i+1,n):\n",
    "        if random.random() < p:\n",
    "            # edge exists, add symmetrically\n",
    "            edges[names[i]].append(names[j])\n",
    "            edges[names[j]] += [names[i]]"
   ]
  },
  {
   "cell_type": "code",
   "execution_count": 6,
   "metadata": {},
   "outputs": [
    {
     "name": "stdout",
     "output_type": "stream",
     "text": [
      "Akeila     ['Mattie', 'Nakiesha']\n",
      "Azim       ['Janmichael']\n",
      "Darvin     ['Emilia', 'Joia', 'Lynnae']\n",
      "Emilia     ['Darvin', 'Javell', 'Joia']\n",
      "Janmichael ['Azim', 'Lynnae', 'Nakiesha']\n",
      "Javell     ['Emilia']\n",
      "Joia       ['Darvin', 'Emilia', 'Lynnae']\n",
      "Lynnae     ['Darvin', 'Janmichael', 'Joia']\n",
      "Mattie     ['Akeila']\n",
      "Nakiesha   ['Akeila', 'Janmichael']\n"
     ]
    }
   ],
   "source": [
    "for k,v in edges.items():\n",
    "    print(f'{k:10}', v)"
   ]
  },
  {
   "cell_type": "markdown",
   "metadata": {},
   "source": [
    "## Basic effects\n",
    "\n",
    "### Your friends have more friends than you.\n"
   ]
  },
  {
   "cell_type": "code",
   "execution_count": 7,
   "metadata": {},
   "outputs": [
    {
     "name": "stdout",
     "output_type": "stream",
     "text": [
      "Akeila     has 2 friends with an average of 1.50 friends each\n",
      "Azim       has 1 friends with an average of 3.00 friends each\n",
      "Darvin     has 3 friends with an average of 3.00 friends each\n",
      "Emilia     has 3 friends with an average of 2.33 friends each\n",
      "Janmichael has 3 friends with an average of 2.00 friends each\n",
      "Javell     has 1 friends with an average of 3.00 friends each\n",
      "Joia       has 3 friends with an average of 3.00 friends each\n",
      "Lynnae     has 3 friends with an average of 3.00 friends each\n",
      "Mattie     has 1 friends with an average of 2.00 friends each\n",
      "Nakiesha   has 2 friends with an average of 2.50 friends each\n",
      "\n",
      "People have 0.33 fewer friends than the average number of friends their friends have\n"
     ]
    }
   ],
   "source": [
    "def mean(lst):  # could also `from statistics import mean`, but this is a bit faster, and thats all we need\n",
    "    return(sum(lst)/len(lst))\n",
    "\n",
    "nff_m_nf = []\n",
    "for person,friends in edges.items():\n",
    "    n_friends = len(friends)\n",
    "    print(f'{person:10} has {n_friends} friends ', end='')\n",
    "    if(n_friends > 0):\n",
    "        n_friends_per_friend = [len(edges[fr]) for fr in friends]\n",
    "        print(f'with an average of {mean(n_friends_per_friend):.2f} friends each', end='')\n",
    "        nff_m_nf.append(mean(n_friends_per_friend) - n_friends)\n",
    "    print('')\n",
    "            \n",
    "\n",
    "print(f'\\nPeople have {mean(nff_m_nf):.2f} fewer friends than the average number of friends their friends have')"
   ]
  },
  {
   "cell_type": "markdown",
   "metadata": {},
   "source": [
    "### Connectivity\n",
    "\n",
    "One basic property of graphs is connectivity: is everyone in the graph connected to everyone else?  Let's figure out if our social graph is connected.  (This is Dijkstra's algorithm)"
   ]
  },
  {
   "cell_type": "code",
   "execution_count": 8,
   "metadata": {},
   "outputs": [],
   "source": [
    "can_reach = dict()\n",
    "\n",
    "for person in names:\n",
    "    can_reach[person] = {person:0}\n",
    "    stack = [person] \n",
    "    while stack:\n",
    "        friend = stack.pop(0) # pop from front to do breadth first search \n",
    "        # using set difference to find friends of friend who \n",
    "        # we have not already seen (which would make them included in can_reach[person])\n",
    "        new_friends = set(edges[friend]).difference(can_reach[person])\n",
    "        # add new friends to stack.\n",
    "        stack.extend(new_friends)\n",
    "        # calculate steps to new friends\n",
    "        steps = can_reach[person][friend] + 1\n",
    "        # add to can_reach[person] via dict.update and dict comprehension\n",
    "        can_reach[person].update({f:steps for f in new_friends})"
   ]
  },
  {
   "cell_type": "code",
   "execution_count": 9,
   "metadata": {},
   "outputs": [
    {
     "name": "stdout",
     "output_type": "stream",
     "text": [
      "Akeila     can reach 10/10\n",
      "Azim       can reach 10/10\n",
      "Darvin     can reach 10/10\n",
      "Emilia     can reach 10/10\n",
      "Janmichael can reach 10/10\n",
      "Javell     can reach 10/10\n",
      "Joia       can reach 10/10\n",
      "Lynnae     can reach 10/10\n",
      "Mattie     can reach 10/10\n",
      "Nakiesha   can reach 10/10\n"
     ]
    }
   ],
   "source": [
    "for k,v in can_reach.items():\n",
    "    print(f'{k:10} can reach {len(v)}/{n}')"
   ]
  },
  {
   "cell_type": "code",
   "execution_count": 10,
   "metadata": {},
   "outputs": [
    {
     "name": "stdout",
     "output_type": "stream",
     "text": [
      "Akeila     {'Akeila': 0, 'Mattie': 1, 'Nakiesha': 1, 'Janmichael': 2, 'Azim': 3, 'Lynnae': 3, 'Joia': 4, 'Darvin': 4, 'Emilia': 5, 'Javell': 6}\n",
      "Azim       {'Azim': 0, 'Janmichael': 1, 'Nakiesha': 2, 'Lynnae': 2, 'Akeila': 3, 'Joia': 3, 'Darvin': 3, 'Mattie': 4, 'Emilia': 4, 'Javell': 5}\n",
      "Darvin     {'Darvin': 0, 'Joia': 1, 'Emilia': 1, 'Lynnae': 1, 'Javell': 2, 'Janmichael': 2, 'Azim': 3, 'Nakiesha': 3, 'Akeila': 4, 'Mattie': 5}\n",
      "Emilia     {'Emilia': 0, 'Joia': 1, 'Darvin': 1, 'Javell': 1, 'Lynnae': 2, 'Janmichael': 3, 'Azim': 4, 'Nakiesha': 4, 'Akeila': 5, 'Mattie': 6}\n",
      "Janmichael {'Janmichael': 0, 'Azim': 1, 'Nakiesha': 1, 'Lynnae': 1, 'Akeila': 2, 'Joia': 2, 'Darvin': 2, 'Mattie': 3, 'Emilia': 3, 'Javell': 4}\n",
      "Javell     {'Javell': 0, 'Emilia': 1, 'Joia': 2, 'Darvin': 2, 'Lynnae': 3, 'Janmichael': 4, 'Azim': 5, 'Nakiesha': 5, 'Akeila': 6, 'Mattie': 7}\n",
      "Joia       {'Joia': 0, 'Darvin': 1, 'Emilia': 1, 'Lynnae': 1, 'Javell': 2, 'Janmichael': 2, 'Azim': 3, 'Nakiesha': 3, 'Akeila': 4, 'Mattie': 5}\n",
      "Lynnae     {'Lynnae': 0, 'Janmichael': 1, 'Darvin': 1, 'Joia': 1, 'Azim': 2, 'Nakiesha': 2, 'Emilia': 2, 'Akeila': 3, 'Javell': 3, 'Mattie': 4}\n",
      "Mattie     {'Mattie': 0, 'Akeila': 1, 'Nakiesha': 2, 'Janmichael': 3, 'Azim': 4, 'Lynnae': 4, 'Joia': 5, 'Darvin': 5, 'Emilia': 6, 'Javell': 7}\n",
      "Nakiesha   {'Nakiesha': 0, 'Akeila': 1, 'Janmichael': 1, 'Mattie': 2, 'Azim': 2, 'Lynnae': 2, 'Joia': 3, 'Darvin': 3, 'Emilia': 4, 'Javell': 5}\n"
     ]
    }
   ],
   "source": [
    "for k,v in can_reach.items():\n",
    "    print(f'{k:10}', v)"
   ]
  },
  {
   "cell_type": "markdown",
   "metadata": {},
   "source": [
    "## Small world\n",
    "\n",
    "Milgram did a neat experiment, which has captivated folks' imagination: we are more collected than we think.\n",
    "\n",
    "Let's get our expectations squared away: here we have N people, each with an average of $N p$ friends.  $p$ is fairly small, like 0.05.  So we have 100 people, each with about 5 friends, on average.  If we pick a random pair of people, how long is the path between them?\n",
    "\n",
    "The small world network phenomenon is that for many different types of networks, the average shortest path is proportional to log(n) where n is the number of nodes.\n",
    "\n",
    "Let's calculate our average shortest path."
   ]
  },
  {
   "cell_type": "code",
   "execution_count": 11,
   "metadata": {},
   "outputs": [
    {
     "data": {
      "text/plain": [
       "2.888888888888889"
      ]
     },
     "execution_count": 11,
     "metadata": {},
     "output_type": "execute_result"
    }
   ],
   "source": [
    "n_connected = 0\n",
    "sum_min_path = 0\n",
    "\n",
    "for i in range(n-1):\n",
    "    for j in range(i+1, n):\n",
    "        if names[j] in can_reach[names[i]]: # path exists from i to j\n",
    "            sum_min_path += can_reach[names[i]][names[j]] # min path from i to j\n",
    "            n_connected += 1 \n",
    "\n",
    "# this is average min path among *connected* people.  disconnected pairs do not contribute.\n",
    "sum_min_path / n_connected"
   ]
  },
  {
   "cell_type": "markdown",
   "metadata": {},
   "source": [
    "Such small world phenomena arise in many types of networks.  In fact, to avoid such a property, we must consider networks that are very regular, like a lattice, or a ring.  Such networks do arise, when we consider connections that are more stratified, such as the network defined by the relation \"went to high school with\", or \"shook hands with\" (when considering people in the past, and in the future).  "
   ]
  },
  {
   "cell_type": "markdown",
   "metadata": {},
   "source": [
    "## Clustering / cliquishness\n",
    "\n",
    "The degree of clustering or cliquishness of a social network amounts to asking whether friends of friends are likely to be friends.  We will calculate this as the proportion of triads that are close.\n"
   ]
  },
  {
   "cell_type": "code",
   "execution_count": 12,
   "metadata": {},
   "outputs": [
    {
     "name": "stdout",
     "output_type": "stream",
     "text": [
      "p=0.2532843602293451 mean=0.2857142857142857\n"
     ]
    }
   ],
   "source": [
    "person_clustering = []\n",
    "for person,friends in edges.items():\n",
    "    k = len(friends)\n",
    "    if k < 2:\n",
    "        person_clustering += [None]\n",
    "    else:\n",
    "        n_triads = 0\n",
    "        n_possible = 0\n",
    "        for i in range(k-1):\n",
    "            for j in range(i+1,k):\n",
    "                n_possible += 1\n",
    "                if friends[j] in edges[friends[i]]:\n",
    "                    n_triads += 1\n",
    "        person_clustering += [n_triads / n_possible]\n",
    "\n",
    "print(f'{p=} mean={mean([c for c in person_clustering if c is not None])}')\n"
   ]
  },
  {
   "cell_type": "markdown",
   "metadata": {},
   "source": [
    "So with the random graph, we have no clustering -- pairs of people who share a friend are no more likely to be friends than average.  "
   ]
  },
  {
   "cell_type": "markdown",
   "metadata": {},
   "source": [
    "## Different types of network\n",
    "\n",
    "### lattice networks\n",
    "\n",
    "The premise of lattice networks is that all people have an underlying location, and people are connected only to those people they are close to.  There are many subtle variations of this: What is the location on?  Most simply, it would be a ring, but it could be a 2d space, or something more complicated.  How does the presence of edges decrease with distance?  Perhaps each node is connected to the closest k nodes?  Perhaps the probability of connection decreases with distance?  etc.  While these are important distinctions, lets not worry about it."
   ]
  },
  {
   "cell_type": "code",
   "execution_count": 13,
   "metadata": {},
   "outputs": [],
   "source": [
    "max_dist = 2  # degree = max_dist*2\n",
    "\n",
    "edges = dict(zip(names, [[] for i in range(n)]))\n",
    "\n",
    "for i in range(n-1):\n",
    "    for j in range(i+1,n):\n",
    "        distance = min((i-j)%n, (j-i)%n)  # distance along ring defined by index from 0 to n-1 (alphabetical order)\n",
    "        if distance <= max_dist:\n",
    "            edges[names[i]].append(names[j])\n",
    "            edges[names[j]] += [names[i]]"
   ]
  },
  {
   "cell_type": "code",
   "execution_count": 14,
   "metadata": {},
   "outputs": [
    {
     "name": "stdout",
     "output_type": "stream",
     "text": [
      "Akeila     ['Azim', 'Darvin', 'Mattie', 'Nakiesha']\n",
      "Azim       ['Akeila', 'Darvin', 'Emilia', 'Nakiesha']\n",
      "Darvin     ['Akeila', 'Azim', 'Emilia', 'Janmichael']\n",
      "Emilia     ['Azim', 'Darvin', 'Janmichael', 'Javell']\n",
      "Janmichael ['Darvin', 'Emilia', 'Javell', 'Joia']\n",
      "Javell     ['Emilia', 'Janmichael', 'Joia', 'Lynnae']\n",
      "Joia       ['Janmichael', 'Javell', 'Lynnae', 'Mattie']\n",
      "Lynnae     ['Javell', 'Joia', 'Mattie', 'Nakiesha']\n",
      "Mattie     ['Akeila', 'Joia', 'Lynnae', 'Nakiesha']\n",
      "Nakiesha   ['Akeila', 'Azim', 'Lynnae', 'Mattie']\n"
     ]
    }
   ],
   "source": [
    "for k,v in edges.items():\n",
    "    print(f'{k:10}', v)"
   ]
  },
  {
   "cell_type": "markdown",
   "metadata": {},
   "source": [
    "### Watts-Strogatz perturbed ring networks\n",
    "\n",
    "Watts & Strogatz showed that lattice networks (of the sort we defined above) can gain small world properties with a very small number of randomly rewired edges, which create long-distance ties:"
   ]
  },
  {
   "cell_type": "code",
   "execution_count": 15,
   "metadata": {},
   "outputs": [],
   "source": [
    "n_perturbations = 4\n",
    "\n",
    "for name in random.sample(names, n_perturbations):\n",
    "    old_name = random.choice(edges[name])\n",
    "    new_name = random.choice(names)\n",
    "    # remove previous edges\n",
    "    edges[name].remove(old_name)\n",
    "    edges[old_name].remove(name)\n",
    "    # add new edges\n",
    "    edges[name].append(new_name)\n",
    "    edges[new_name].append(name)"
   ]
  },
  {
   "cell_type": "markdown",
   "metadata": {},
   "source": [
    "### Barabasi-Albert scale-free networks\n",
    "\n",
    "Scale free networks are defined by their power-law degree distribution: most nodes have very few edges and a few nodes have very many edges.  This describes lots of social networks, such as twitter followers: most people have very few followers, and a small number of accounts have millions of followers.\n",
    "\n",
    "Barabasi & Albert described an algorithm for generating such scale-free networks.\n",
    "\n",
    "This is a preferential attachment model"
   ]
  },
  {
   "cell_type": "code",
   "execution_count": 16,
   "metadata": {},
   "outputs": [
    {
     "name": "stdout",
     "output_type": "stream",
     "text": [
      "Janmichael 7\n",
      "    Emilia 4\n",
      "    Javell 4\n",
      "    Lynnae 3\n",
      "    Akeila 2\n",
      "      Azim 2\n",
      "    Darvin 2\n",
      "      Joia 2\n",
      "    Mattie 2\n",
      "  Nakiesha 2\n"
     ]
    }
   ],
   "source": [
    "edges = dict(zip(names, [[] for i in range(n)]))\n",
    "\n",
    "m0 = 5 # number of initial nodes\n",
    "m = 2 # new edges per node\n",
    "\n",
    "# initialize with connected graph of m0 nodes (here... ring lattice)\n",
    "for i in range(m0):\n",
    "    j = (i-1) % m0\n",
    "    edges[names[i]].append(names[j])\n",
    "    edges[names[j]].append(names[i])\n",
    "\n",
    "# add new nodes, each with m preferential attachment.\n",
    "for i in range(m0, n):\n",
    "    degree = {k:len(v) for k,v in edges.items() if len(v)>0}\n",
    "    j = 0\n",
    "    while j < m:\n",
    "        target = random.choices([x for x in degree], weights=[v for k,v in degree.items()], k = 1)[0]\n",
    "        edges[names[i]].append(target)\n",
    "        edges[target].append(names[i])\n",
    "        degree.pop(target)\n",
    "        j += 1\n",
    "\n",
    "        \n",
    "for k,v in sorted(edges.items(), key=lambda item: -len(item[1])):\n",
    "    print(f'{k:>10} {len(v)}')\n",
    "\n"
   ]
  },
  {
   "cell_type": "code",
   "execution_count": 17,
   "metadata": {},
   "outputs": [
    {
     "data": {
      "text/plain": [
       "dict_keys(['Akeila', 'Azim', 'Darvin', 'Emilia', 'Javell', 'Joia', 'Mattie'])"
      ]
     },
     "execution_count": 17,
     "metadata": {},
     "output_type": "execute_result"
    }
   ],
   "source": [
    "degree.keys()\n"
   ]
  },
  {
   "cell_type": "code",
   "execution_count": null,
   "metadata": {},
   "outputs": [],
   "source": []
  }
 ],
 "metadata": {
  "kernelspec": {
   "display_name": "Python 3",
   "language": "python",
   "name": "python3"
  },
  "language_info": {
   "codemirror_mode": {
    "name": "ipython",
    "version": 3
   },
   "file_extension": ".py",
   "mimetype": "text/x-python",
   "name": "python",
   "nbconvert_exporter": "python",
   "pygments_lexer": "ipython3",
   "version": "3.8.5"
  }
 },
 "nbformat": 4,
 "nbformat_minor": 4
}