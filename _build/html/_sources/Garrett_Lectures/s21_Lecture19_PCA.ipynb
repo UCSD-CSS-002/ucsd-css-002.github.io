{
  "nbformat": 4,
  "nbformat_minor": 0,
  "metadata": {
    "colab": {
      "name": "SumII_Lecture_19_PCA.ipynb",
      "provenance": [],
      "collapsed_sections": []
    },
    "kernelspec": {
      "name": "python3",
      "display_name": "Python 3"
    }
  },
  "cells": [
    {
      "cell_type": "markdown",
      "metadata": {
        "id": "fZP3LxKbON_j",
        "colab_type": "text"
      },
      "source": [
        "# Dimensionality Reduction\n",
        "\n",
        "We will read through this dialogue to understand what PCA is (I apologize that only women are asking questions in the dialogue, which is absolutely sexist)\n",
        "\n",
        "https://stats.stackexchange.com/questions/2691/making-sense-of-principal-component-analysis-eigenvectors-eigenvalues\n",
        "\n",
        "Let's see some visualization of PCA here:\n",
        "\n",
        "https://georgemdallas.wordpress.com/2013/10/30/principal-component-analysis-4-dummies-eigenvectors-eigenvalues-and-dimension-reduction/\n",
        "\n",
        "https://setosa.io/ev/principal-component-analysis/\n",
        "\n",
        "So now, let's do that with some real data. We have a bunch of different features. It is likely that some features are better than others and that some features are 'redundant'. Dimensionality reducation with PCA basically takes care of this by figuring out (mathematically) the principle axes (components) whereby our data varies. "
      ]
    },
    {
      "cell_type": "code",
      "metadata": {
        "id": "L1T3l0fURUPY",
        "colab_type": "code",
        "colab": {
          "base_uri": "https://localhost:8080/",
          "height": 70
        },
        "outputId": "1caf134c-9a36-43d9-b701-74380af4e135"
      },
      "source": [
        "import matplotlib.pyplot as plt\n",
        "import pandas as pd\n",
        "import seaborn as sns\n",
        "import numpy as np\n",
        "from sklearn.preprocessing import StandardScaler\n",
        "from sklearn.linear_model import LinearRegression\n",
        "from sklearn.model_selection import train_test_split "
      ],
      "execution_count": 1,
      "outputs": [
        {
          "output_type": "stream",
          "text": [
            "/usr/local/lib/python3.6/dist-packages/statsmodels/tools/_testing.py:19: FutureWarning: pandas.util.testing is deprecated. Use the functions in the public API at pandas.testing instead.\n",
            "  import pandas.util.testing as tm\n"
          ],
          "name": "stderr"
        }
      ]
    },
    {
      "cell_type": "markdown",
      "metadata": {
        "id": "rXsoYAD4R6t-",
        "colab_type": "text"
      },
      "source": [
        "We will just use the MPG dataset for simplicity"
      ]
    },
    {
      "cell_type": "code",
      "metadata": {
        "id": "XhgGWDKQRbWG",
        "colab_type": "code",
        "colab": {}
      },
      "source": [
        "mpg = sns.load_dataset('mpg')"
      ],
      "execution_count": 2,
      "outputs": []
    },
    {
      "cell_type": "code",
      "metadata": {
        "id": "5fd6WFL4RyOa",
        "colab_type": "code",
        "colab": {
          "base_uri": "https://localhost:8080/",
          "height": 333
        },
        "outputId": "b8d70b98-1adf-4248-b7f8-3904b1b87468"
      },
      "source": [
        "mpg.head()"
      ],
      "execution_count": 3,
      "outputs": [
        {
          "output_type": "execute_result",
          "data": {
            "text/html": [
              "<div>\n",
              "<style scoped>\n",
              "    .dataframe tbody tr th:only-of-type {\n",
              "        vertical-align: middle;\n",
              "    }\n",
              "\n",
              "    .dataframe tbody tr th {\n",
              "        vertical-align: top;\n",
              "    }\n",
              "\n",
              "    .dataframe thead th {\n",
              "        text-align: right;\n",
              "    }\n",
              "</style>\n",
              "<table border=\"1\" class=\"dataframe\">\n",
              "  <thead>\n",
              "    <tr style=\"text-align: right;\">\n",
              "      <th></th>\n",
              "      <th>mpg</th>\n",
              "      <th>cylinders</th>\n",
              "      <th>displacement</th>\n",
              "      <th>horsepower</th>\n",
              "      <th>weight</th>\n",
              "      <th>acceleration</th>\n",
              "      <th>model_year</th>\n",
              "      <th>origin</th>\n",
              "      <th>name</th>\n",
              "    </tr>\n",
              "  </thead>\n",
              "  <tbody>\n",
              "    <tr>\n",
              "      <th>0</th>\n",
              "      <td>18.0</td>\n",
              "      <td>8</td>\n",
              "      <td>307.0</td>\n",
              "      <td>130.0</td>\n",
              "      <td>3504</td>\n",
              "      <td>12.0</td>\n",
              "      <td>70</td>\n",
              "      <td>usa</td>\n",
              "      <td>chevrolet chevelle malibu</td>\n",
              "    </tr>\n",
              "    <tr>\n",
              "      <th>1</th>\n",
              "      <td>15.0</td>\n",
              "      <td>8</td>\n",
              "      <td>350.0</td>\n",
              "      <td>165.0</td>\n",
              "      <td>3693</td>\n",
              "      <td>11.5</td>\n",
              "      <td>70</td>\n",
              "      <td>usa</td>\n",
              "      <td>buick skylark 320</td>\n",
              "    </tr>\n",
              "    <tr>\n",
              "      <th>2</th>\n",
              "      <td>18.0</td>\n",
              "      <td>8</td>\n",
              "      <td>318.0</td>\n",
              "      <td>150.0</td>\n",
              "      <td>3436</td>\n",
              "      <td>11.0</td>\n",
              "      <td>70</td>\n",
              "      <td>usa</td>\n",
              "      <td>plymouth satellite</td>\n",
              "    </tr>\n",
              "    <tr>\n",
              "      <th>3</th>\n",
              "      <td>16.0</td>\n",
              "      <td>8</td>\n",
              "      <td>304.0</td>\n",
              "      <td>150.0</td>\n",
              "      <td>3433</td>\n",
              "      <td>12.0</td>\n",
              "      <td>70</td>\n",
              "      <td>usa</td>\n",
              "      <td>amc rebel sst</td>\n",
              "    </tr>\n",
              "    <tr>\n",
              "      <th>4</th>\n",
              "      <td>17.0</td>\n",
              "      <td>8</td>\n",
              "      <td>302.0</td>\n",
              "      <td>140.0</td>\n",
              "      <td>3449</td>\n",
              "      <td>10.5</td>\n",
              "      <td>70</td>\n",
              "      <td>usa</td>\n",
              "      <td>ford torino</td>\n",
              "    </tr>\n",
              "  </tbody>\n",
              "</table>\n",
              "</div>"
            ],
            "text/plain": [
              "    mpg  cylinders  displacement  ...  model_year  origin                       name\n",
              "0  18.0          8         307.0  ...          70     usa  chevrolet chevelle malibu\n",
              "1  15.0          8         350.0  ...          70     usa          buick skylark 320\n",
              "2  18.0          8         318.0  ...          70     usa         plymouth satellite\n",
              "3  16.0          8         304.0  ...          70     usa              amc rebel sst\n",
              "4  17.0          8         302.0  ...          70     usa                ford torino\n",
              "\n",
              "[5 rows x 9 columns]"
            ]
          },
          "metadata": {
            "tags": []
          },
          "execution_count": 3
        }
      ]
    },
    {
      "cell_type": "markdown",
      "metadata": {
        "id": "C0ENZs-OSS-K",
        "colab_type": "text"
      },
      "source": [
        "We are interested in predicting MPG with some of our variables. But let's see if we can reduce the dimensionality first\n",
        "\n",
        "We are to focus on these variables first"
      ]
    },
    {
      "cell_type": "code",
      "metadata": {
        "id": "XHaJGBYnR8aN",
        "colab_type": "code",
        "colab": {}
      },
      "source": [
        "variables = ['weight','displacement','acceleration']"
      ],
      "execution_count": 26,
      "outputs": []
    },
    {
      "cell_type": "markdown",
      "metadata": {
        "id": "H__fo_SoSYbL",
        "colab_type": "text"
      },
      "source": [
        "Now, let's visualize our data.\n",
        "\n",
        "But I'm going to visualize the data in a slightly different way using plotly, which is another plotting library"
      ]
    },
    {
      "cell_type": "code",
      "metadata": {
        "id": "9dB73p-aTJvo",
        "colab_type": "code",
        "colab": {}
      },
      "source": [
        "import plotly.express as px"
      ],
      "execution_count": 5,
      "outputs": []
    },
    {
      "cell_type": "code",
      "metadata": {
        "id": "TpHOMom9TKf9",
        "colab_type": "code",
        "colab": {
          "base_uri": "https://localhost:8080/",
          "height": 542
        },
        "outputId": "e86d6778-b60c-4f55-b3ae-747a1276590b"
      },
      "source": [
        "fig = px.scatter_3d(mpg,mpg['weight'], mpg['displacement'],mpg['acceleration'])\n",
        "fig.show()"
      ],
      "execution_count": 27,
      "outputs": [
        {
          "output_type": "display_data",
          "data": {
            "text/html": [
              "<html>\n",
              "<head><meta charset=\"utf-8\" /></head>\n",
              "<body>\n",
              "    <div>\n",
              "            <script src=\"https://cdnjs.cloudflare.com/ajax/libs/mathjax/2.7.5/MathJax.js?config=TeX-AMS-MML_SVG\"></script><script type=\"text/javascript\">if (window.MathJax) {MathJax.Hub.Config({SVG: {font: \"STIX-Web\"}});}</script>\n",
              "                <script type=\"text/javascript\">window.PlotlyConfig = {MathJaxConfig: 'local'};</script>\n",
              "        <script src=\"https://cdn.plot.ly/plotly-latest.min.js\"></script>    \n",
              "            <div id=\"67a97864-aa03-499f-bef6-8c9544a70405\" class=\"plotly-graph-div\" style=\"height:525px; width:100%;\"></div>\n",
              "            <script type=\"text/javascript\">\n",
              "                \n",
              "                    window.PLOTLYENV=window.PLOTLYENV || {};\n",
              "                    \n",
              "                if (document.getElementById(\"67a97864-aa03-499f-bef6-8c9544a70405\")) {\n",
              "                    Plotly.newPlot(\n",
              "                        '67a97864-aa03-499f-bef6-8c9544a70405',\n",
              "                        [{\"hoverlabel\": {\"namelength\": 0}, \"hovertemplate\": \"weight=%{x}<br>displacement=%{y}<br>acceleration=%{z}\", \"legendgroup\": \"\", \"marker\": {\"color\": \"#636efa\", \"symbol\": \"circle\"}, \"mode\": \"markers\", \"name\": \"\", \"scene\": \"scene\", \"showlegend\": false, \"type\": \"scatter3d\", \"x\": [3504, 3693, 3436, 3433, 3449, 4341, 4354, 4312, 4425, 3850, 3563, 3609, 3761, 3086, 2372, 2833, 2774, 2587, 2130, 1835, 2672, 2430, 2375, 2234, 2648, 4615, 4376, 4382, 4732, 2130, 2264, 2228, 2046, 2634, 3439, 3329, 3302, 3288, 4209, 4464, 4154, 4096, 4955, 4746, 5140, 2962, 2408, 3282, 3139, 2220, 2123, 2074, 2065, 1773, 1613, 1834, 1955, 2278, 2126, 2254, 2408, 2226, 4274, 4385, 4135, 4129, 3672, 4633, 4502, 4456, 4422, 2330, 3892, 4098, 4294, 4077, 2933, 2511, 2979, 2189, 2395, 2288, 2506, 2164, 2100, 4100, 3672, 3988, 4042, 3777, 4952, 4464, 4363, 4237, 4735, 4951, 3821, 3121, 3278, 2945, 3021, 2904, 1950, 4997, 4906, 4654, 4499, 2789, 2279, 2401, 2379, 2124, 2310, 2472, 2265, 4082, 4278, 1867, 2158, 2582, 2868, 3399, 2660, 2807, 3664, 3102, 2875, 2901, 3336, 1950, 2451, 1836, 2542, 3781, 3632, 3613, 4141, 4699, 4457, 4638, 4257, 2219, 1963, 2300, 1649, 2003, 2125, 2108, 2246, 2489, 2391, 2000, 3264, 3459, 3432, 3158, 4668, 4440, 4498, 4657, 3907, 3897, 3730, 3785, 3039, 3221, 3169, 2171, 2639, 2914, 2592, 2702, 2223, 2545, 2984, 1937, 3211, 2694, 2957, 2945, 2671, 1795, 2464, 2220, 2572, 2255, 2202, 4215, 4190, 3962, 4215, 3233, 3353, 3012, 3085, 2035, 2164, 1937, 1795, 3651, 3574, 3645, 3193, 1825, 1990, 2155, 2565, 3150, 3940, 3270, 2930, 3820, 4380, 4055, 3870, 3755, 2045, 2155, 1825, 2300, 1945, 3880, 4060, 4140, 4295, 3520, 3425, 3630, 3525, 4220, 4165, 4325, 4335, 1940, 2740, 2265, 2755, 2051, 2075, 1985, 2190, 2815, 2600, 2720, 1985, 1800, 1985, 2070, 1800, 3365, 3735, 3570, 3535, 3155, 2965, 2720, 3430, 3210, 3380, 3070, 3620, 3410, 3425, 3445, 3205, 4080, 2155, 2560, 2300, 2230, 2515, 2745, 2855, 2405, 2830, 3140, 2795, 3410, 1990, 2135, 3245, 2990, 2890, 3265, 3360, 3840, 3725, 3955, 3830, 4360, 4054, 3605, 3940, 1925, 1975, 1915, 2670, 3530, 3900, 3190, 3420, 2200, 2150, 2020, 2130, 2670, 2595, 2700, 2556, 2144, 1968, 2120, 2019, 2678, 2870, 3003, 3381, 2188, 2711, 2542, 2434, 2265, 2110, 2800, 2110, 2085, 2335, 2950, 3250, 1850, 1835, 2145, 1845, 2910, 2420, 2500, 2905, 2290, 2490, 2635, 2620, 2725, 2385, 1755, 1875, 1760, 2065, 1975, 2050, 1985, 2215, 2045, 2380, 2190, 2320, 2210, 2350, 2615, 2635, 3230, 3160, 2900, 2930, 3415, 3725, 3060, 3465, 2605, 2640, 2395, 2575, 2525, 2735, 2865, 3035, 1980, 2025, 1970, 2125, 2125, 2160, 2205, 2245, 1965, 1965, 1995, 2945, 3015, 2585, 2835, 2665, 2370, 2950, 2790, 2130, 2295, 2625, 2720], \"y\": [307.0, 350.0, 318.0, 304.0, 302.0, 429.0, 454.0, 440.0, 455.0, 390.0, 383.0, 340.0, 400.0, 455.0, 113.0, 198.0, 199.0, 200.0, 97.0, 97.0, 110.0, 107.0, 104.0, 121.0, 199.0, 360.0, 307.0, 318.0, 304.0, 97.0, 140.0, 113.0, 98.0, 232.0, 225.0, 250.0, 250.0, 232.0, 350.0, 400.0, 351.0, 318.0, 383.0, 400.0, 400.0, 258.0, 140.0, 250.0, 250.0, 122.0, 116.0, 79.0, 88.0, 71.0, 72.0, 97.0, 91.0, 113.0, 97.5, 97.0, 140.0, 122.0, 350.0, 400.0, 318.0, 351.0, 304.0, 429.0, 350.0, 350.0, 400.0, 70.0, 304.0, 307.0, 302.0, 318.0, 121.0, 121.0, 120.0, 96.0, 122.0, 97.0, 120.0, 98.0, 97.0, 350.0, 304.0, 350.0, 302.0, 318.0, 429.0, 400.0, 351.0, 318.0, 440.0, 455.0, 360.0, 225.0, 250.0, 232.0, 250.0, 198.0, 97.0, 400.0, 400.0, 360.0, 350.0, 232.0, 97.0, 140.0, 108.0, 70.0, 122.0, 155.0, 98.0, 350.0, 400.0, 68.0, 116.0, 114.0, 121.0, 318.0, 121.0, 156.0, 350.0, 198.0, 200.0, 232.0, 250.0, 79.0, 122.0, 71.0, 140.0, 250.0, 258.0, 225.0, 302.0, 350.0, 318.0, 302.0, 304.0, 98.0, 79.0, 97.0, 76.0, 83.0, 90.0, 90.0, 116.0, 120.0, 108.0, 79.0, 225.0, 250.0, 250.0, 250.0, 400.0, 350.0, 318.0, 351.0, 231.0, 250.0, 258.0, 225.0, 231.0, 262.0, 302.0, 97.0, 140.0, 232.0, 140.0, 134.0, 90.0, 119.0, 171.0, 90.0, 232.0, 115.0, 120.0, 121.0, 121.0, 91.0, 107.0, 116.0, 140.0, 98.0, 101.0, 305.0, 318.0, 304.0, 351.0, 225.0, 250.0, 200.0, 232.0, 85.0, 98.0, 90.0, 91.0, 225.0, 250.0, 250.0, 258.0, 97.0, 85.0, 97.0, 140.0, 130.0, 318.0, 120.0, 156.0, 168.0, 350.0, 350.0, 302.0, 318.0, 98.0, 111.0, 79.0, 122.0, 85.0, 305.0, 260.0, 318.0, 302.0, 250.0, 231.0, 225.0, 250.0, 400.0, 350.0, 400.0, 351.0, 97.0, 151.0, 97.0, 140.0, 98.0, 98.0, 97.0, 97.0, 146.0, 121.0, 80.0, 90.0, 98.0, 78.0, 85.0, 91.0, 260.0, 318.0, 302.0, 231.0, 200.0, 200.0, 140.0, 225.0, 232.0, 231.0, 200.0, 225.0, 258.0, 305.0, 231.0, 302.0, 318.0, 98.0, 134.0, 119.0, 105.0, 134.0, 156.0, 151.0, 119.0, 131.0, 163.0, 121.0, 163.0, 89.0, 98.0, 231.0, 200.0, 140.0, 232.0, 225.0, 305.0, 302.0, 351.0, 318.0, 350.0, 351.0, 267.0, 360.0, 89.0, 86.0, 98.0, 121.0, 183.0, 350.0, 141.0, 260.0, 105.0, 105.0, 85.0, 91.0, 151.0, 173.0, 173.0, 151.0, 98.0, 89.0, 98.0, 86.0, 151.0, 140.0, 151.0, 225.0, 97.0, 134.0, 120.0, 119.0, 108.0, 86.0, 156.0, 85.0, 90.0, 90.0, 121.0, 146.0, 91.0, 85.0, 97.0, 89.0, 168.0, 70.0, 122.0, 140.0, 107.0, 135.0, 151.0, 156.0, 173.0, 135.0, 79.0, 86.0, 81.0, 97.0, 85.0, 89.0, 91.0, 105.0, 98.0, 98.0, 105.0, 100.0, 107.0, 108.0, 119.0, 120.0, 141.0, 145.0, 168.0, 146.0, 231.0, 350.0, 200.0, 225.0, 112.0, 112.0, 112.0, 112.0, 135.0, 151.0, 140.0, 151.0, 105.0, 91.0, 91.0, 105.0, 98.0, 120.0, 107.0, 108.0, 91.0, 91.0, 91.0, 181.0, 262.0, 156.0, 232.0, 144.0, 135.0, 151.0, 140.0, 97.0, 135.0, 120.0, 119.0], \"z\": [12.0, 11.5, 11.0, 12.0, 10.5, 10.0, 9.0, 8.5, 10.0, 8.5, 10.0, 8.0, 9.5, 10.0, 15.0, 15.5, 15.5, 16.0, 14.5, 20.5, 17.5, 14.5, 17.5, 12.5, 15.0, 14.0, 15.0, 13.5, 18.5, 14.5, 15.5, 14.0, 19.0, 13.0, 15.5, 15.5, 15.5, 15.5, 12.0, 11.5, 13.5, 13.0, 11.5, 12.0, 12.0, 13.5, 19.0, 15.0, 14.5, 14.0, 14.0, 19.5, 14.5, 19.0, 18.0, 19.0, 20.5, 15.5, 17.0, 23.5, 19.5, 16.5, 12.0, 12.0, 13.5, 13.0, 11.5, 11.0, 13.5, 13.5, 12.5, 13.5, 12.5, 14.0, 16.0, 14.0, 14.5, 18.0, 19.5, 18.0, 16.0, 17.0, 14.5, 15.0, 16.5, 13.0, 11.5, 13.0, 14.5, 12.5, 11.5, 12.0, 13.0, 14.5, 11.0, 11.0, 11.0, 16.5, 18.0, 16.0, 16.5, 16.0, 21.0, 14.0, 12.5, 13.0, 12.5, 15.0, 19.0, 19.5, 16.5, 13.5, 18.5, 14.0, 15.5, 13.0, 9.5, 19.5, 15.5, 14.0, 15.5, 11.0, 14.0, 13.5, 11.0, 16.5, 17.0, 16.0, 17.0, 19.0, 16.5, 21.0, 17.0, 17.0, 18.0, 16.5, 14.0, 14.5, 13.5, 16.0, 15.5, 16.5, 15.5, 14.5, 16.5, 19.0, 14.5, 15.5, 14.0, 15.0, 15.5, 16.0, 16.0, 16.0, 21.0, 19.5, 11.5, 14.0, 14.5, 13.5, 21.0, 18.5, 19.0, 19.0, 15.0, 13.5, 12.0, 16.0, 17.0, 16.0, 18.5, 13.5, 16.5, 17.0, 14.5, 14.0, 17.0, 15.0, 17.0, 14.5, 13.5, 17.5, 15.5, 16.9, 14.9, 17.7, 15.3, 13.0, 13.0, 13.9, 12.8, 15.4, 14.5, 17.6, 17.6, 22.2, 22.1, 14.2, 17.4, 17.7, 21.0, 16.2, 17.8, 12.2, 17.0, 16.4, 13.6, 15.7, 13.2, 21.9, 15.5, 16.7, 12.1, 12.0, 15.0, 14.0, 18.5, 14.8, 18.6, 15.5, 16.8, 12.5, 19.0, 13.7, 14.9, 16.4, 16.9, 17.7, 19.0, 11.1, 11.4, 12.2, 14.5, 14.5, 16.0, 18.2, 15.8, 17.0, 15.9, 16.4, 14.1, 14.5, 12.8, 13.5, 21.5, 14.4, 19.4, 18.6, 16.4, 15.5, 13.2, 12.8, 19.2, 18.2, 15.8, 15.4, 17.2, 17.2, 15.8, 16.7, 18.7, 15.1, 13.2, 13.4, 11.2, 13.7, 16.5, 14.2, 14.7, 14.5, 14.8, 16.7, 17.6, 14.9, 15.9, 13.6, 15.7, 15.8, 14.9, 16.6, 15.4, 18.2, 17.3, 18.2, 16.6, 15.4, 13.4, 13.2, 15.2, 14.9, 14.3, 15.0, 13.0, 14.0, 15.2, 14.4, 15.0, 20.1, 17.4, 24.8, 22.2, 13.2, 14.9, 19.2, 14.7, 16.0, 11.3, 12.9, 13.2, 14.7, 18.8, 15.5, 16.4, 16.5, 18.1, 20.1, 18.7, 15.8, 15.5, 17.5, 15.0, 15.2, 17.9, 14.4, 19.2, 21.7, 23.7, 19.9, 21.8, 13.8, 17.3, 18.0, 15.3, 11.4, 12.5, 15.1, 14.3, 17.0, 15.7, 16.4, 14.4, 12.6, 12.9, 16.9, 16.4, 16.1, 17.8, 19.4, 17.3, 16.0, 14.9, 16.2, 20.7, 14.2, 15.8, 14.4, 16.8, 14.8, 18.3, 20.4, 19.6, 12.6, 13.8, 15.8, 19.0, 17.1, 16.6, 19.6, 18.6, 18.0, 16.2, 16.0, 18.0, 16.4, 20.5, 15.3, 18.2, 17.6, 14.7, 17.3, 14.5, 14.5, 16.9, 15.0, 15.7, 16.2, 16.4, 17.0, 14.5, 14.7, 13.9, 13.0, 17.3, 15.6, 24.6, 11.6, 18.6, 19.4]}],\n",
              "                        {\"legend\": {\"tracegroupgap\": 0}, \"margin\": {\"t\": 60}, \"scene\": {\"domain\": {\"x\": [0.0, 1.0], \"y\": [0.0, 1.0]}, \"xaxis\": {\"title\": {\"text\": \"weight\"}}, \"yaxis\": {\"title\": {\"text\": \"displacement\"}}, \"zaxis\": {\"title\": {\"text\": \"acceleration\"}}}, \"template\": {\"data\": {\"bar\": [{\"error_x\": {\"color\": \"#2a3f5f\"}, \"error_y\": {\"color\": \"#2a3f5f\"}, \"marker\": {\"line\": {\"color\": \"#E5ECF6\", \"width\": 0.5}}, \"type\": \"bar\"}], \"barpolar\": [{\"marker\": {\"line\": {\"color\": \"#E5ECF6\", \"width\": 0.5}}, \"type\": \"barpolar\"}], \"carpet\": [{\"aaxis\": {\"endlinecolor\": \"#2a3f5f\", \"gridcolor\": \"white\", \"linecolor\": \"white\", \"minorgridcolor\": \"white\", \"startlinecolor\": \"#2a3f5f\"}, \"baxis\": {\"endlinecolor\": \"#2a3f5f\", \"gridcolor\": \"white\", \"linecolor\": \"white\", \"minorgridcolor\": \"white\", \"startlinecolor\": \"#2a3f5f\"}, \"type\": \"carpet\"}], \"choropleth\": [{\"colorbar\": {\"outlinewidth\": 0, \"ticks\": \"\"}, \"type\": \"choropleth\"}], \"contour\": [{\"colorbar\": {\"outlinewidth\": 0, \"ticks\": \"\"}, \"colorscale\": [[0.0, \"#0d0887\"], [0.1111111111111111, \"#46039f\"], [0.2222222222222222, \"#7201a8\"], [0.3333333333333333, \"#9c179e\"], [0.4444444444444444, \"#bd3786\"], [0.5555555555555556, \"#d8576b\"], [0.6666666666666666, \"#ed7953\"], [0.7777777777777778, \"#fb9f3a\"], [0.8888888888888888, \"#fdca26\"], [1.0, \"#f0f921\"]], \"type\": \"contour\"}], \"contourcarpet\": [{\"colorbar\": {\"outlinewidth\": 0, \"ticks\": \"\"}, \"type\": \"contourcarpet\"}], \"heatmap\": [{\"colorbar\": {\"outlinewidth\": 0, \"ticks\": \"\"}, \"colorscale\": [[0.0, \"#0d0887\"], [0.1111111111111111, \"#46039f\"], [0.2222222222222222, \"#7201a8\"], [0.3333333333333333, \"#9c179e\"], [0.4444444444444444, \"#bd3786\"], [0.5555555555555556, \"#d8576b\"], [0.6666666666666666, \"#ed7953\"], [0.7777777777777778, \"#fb9f3a\"], [0.8888888888888888, \"#fdca26\"], [1.0, \"#f0f921\"]], \"type\": \"heatmap\"}], \"heatmapgl\": [{\"colorbar\": {\"outlinewidth\": 0, \"ticks\": \"\"}, \"colorscale\": [[0.0, \"#0d0887\"], [0.1111111111111111, \"#46039f\"], [0.2222222222222222, \"#7201a8\"], [0.3333333333333333, \"#9c179e\"], [0.4444444444444444, \"#bd3786\"], [0.5555555555555556, \"#d8576b\"], [0.6666666666666666, \"#ed7953\"], [0.7777777777777778, \"#fb9f3a\"], [0.8888888888888888, \"#fdca26\"], [1.0, \"#f0f921\"]], \"type\": \"heatmapgl\"}], \"histogram\": [{\"marker\": {\"colorbar\": {\"outlinewidth\": 0, \"ticks\": \"\"}}, \"type\": \"histogram\"}], \"histogram2d\": [{\"colorbar\": {\"outlinewidth\": 0, \"ticks\": \"\"}, \"colorscale\": [[0.0, \"#0d0887\"], [0.1111111111111111, \"#46039f\"], [0.2222222222222222, \"#7201a8\"], [0.3333333333333333, \"#9c179e\"], [0.4444444444444444, \"#bd3786\"], [0.5555555555555556, \"#d8576b\"], [0.6666666666666666, \"#ed7953\"], [0.7777777777777778, \"#fb9f3a\"], [0.8888888888888888, \"#fdca26\"], [1.0, \"#f0f921\"]], \"type\": \"histogram2d\"}], \"histogram2dcontour\": [{\"colorbar\": {\"outlinewidth\": 0, \"ticks\": \"\"}, \"colorscale\": [[0.0, \"#0d0887\"], [0.1111111111111111, \"#46039f\"], [0.2222222222222222, \"#7201a8\"], [0.3333333333333333, \"#9c179e\"], [0.4444444444444444, \"#bd3786\"], [0.5555555555555556, \"#d8576b\"], [0.6666666666666666, \"#ed7953\"], [0.7777777777777778, \"#fb9f3a\"], [0.8888888888888888, \"#fdca26\"], [1.0, \"#f0f921\"]], \"type\": \"histogram2dcontour\"}], \"mesh3d\": [{\"colorbar\": {\"outlinewidth\": 0, \"ticks\": \"\"}, \"type\": \"mesh3d\"}], \"parcoords\": [{\"line\": {\"colorbar\": {\"outlinewidth\": 0, \"ticks\": \"\"}}, \"type\": \"parcoords\"}], \"pie\": [{\"automargin\": true, \"type\": \"pie\"}], \"scatter\": [{\"marker\": {\"colorbar\": {\"outlinewidth\": 0, \"ticks\": \"\"}}, \"type\": \"scatter\"}], \"scatter3d\": [{\"line\": {\"colorbar\": {\"outlinewidth\": 0, \"ticks\": \"\"}}, \"marker\": {\"colorbar\": {\"outlinewidth\": 0, \"ticks\": \"\"}}, \"type\": \"scatter3d\"}], \"scattercarpet\": [{\"marker\": {\"colorbar\": {\"outlinewidth\": 0, \"ticks\": \"\"}}, \"type\": \"scattercarpet\"}], \"scattergeo\": [{\"marker\": {\"colorbar\": {\"outlinewidth\": 0, \"ticks\": \"\"}}, \"type\": \"scattergeo\"}], \"scattergl\": [{\"marker\": {\"colorbar\": {\"outlinewidth\": 0, \"ticks\": \"\"}}, \"type\": \"scattergl\"}], \"scattermapbox\": [{\"marker\": {\"colorbar\": {\"outlinewidth\": 0, \"ticks\": \"\"}}, \"type\": \"scattermapbox\"}], \"scatterpolar\": [{\"marker\": {\"colorbar\": {\"outlinewidth\": 0, \"ticks\": \"\"}}, \"type\": \"scatterpolar\"}], \"scatterpolargl\": [{\"marker\": {\"colorbar\": {\"outlinewidth\": 0, \"ticks\": \"\"}}, \"type\": \"scatterpolargl\"}], \"scatterternary\": [{\"marker\": {\"colorbar\": {\"outlinewidth\": 0, \"ticks\": \"\"}}, \"type\": \"scatterternary\"}], \"surface\": [{\"colorbar\": {\"outlinewidth\": 0, \"ticks\": \"\"}, \"colorscale\": [[0.0, \"#0d0887\"], [0.1111111111111111, \"#46039f\"], [0.2222222222222222, \"#7201a8\"], [0.3333333333333333, \"#9c179e\"], [0.4444444444444444, \"#bd3786\"], [0.5555555555555556, \"#d8576b\"], [0.6666666666666666, \"#ed7953\"], [0.7777777777777778, \"#fb9f3a\"], [0.8888888888888888, \"#fdca26\"], [1.0, \"#f0f921\"]], \"type\": \"surface\"}], \"table\": [{\"cells\": {\"fill\": {\"color\": \"#EBF0F8\"}, \"line\": {\"color\": \"white\"}}, \"header\": {\"fill\": {\"color\": \"#C8D4E3\"}, \"line\": {\"color\": \"white\"}}, \"type\": \"table\"}]}, \"layout\": {\"annotationdefaults\": {\"arrowcolor\": \"#2a3f5f\", \"arrowhead\": 0, \"arrowwidth\": 1}, \"coloraxis\": {\"colorbar\": {\"outlinewidth\": 0, \"ticks\": \"\"}}, \"colorscale\": {\"diverging\": [[0, \"#8e0152\"], [0.1, \"#c51b7d\"], [0.2, \"#de77ae\"], [0.3, \"#f1b6da\"], [0.4, \"#fde0ef\"], [0.5, \"#f7f7f7\"], [0.6, \"#e6f5d0\"], [0.7, \"#b8e186\"], [0.8, \"#7fbc41\"], [0.9, \"#4d9221\"], [1, \"#276419\"]], \"sequential\": [[0.0, \"#0d0887\"], [0.1111111111111111, \"#46039f\"], [0.2222222222222222, \"#7201a8\"], [0.3333333333333333, \"#9c179e\"], [0.4444444444444444, \"#bd3786\"], [0.5555555555555556, \"#d8576b\"], [0.6666666666666666, \"#ed7953\"], [0.7777777777777778, \"#fb9f3a\"], [0.8888888888888888, \"#fdca26\"], [1.0, \"#f0f921\"]], \"sequentialminus\": [[0.0, \"#0d0887\"], [0.1111111111111111, \"#46039f\"], [0.2222222222222222, \"#7201a8\"], [0.3333333333333333, \"#9c179e\"], [0.4444444444444444, \"#bd3786\"], [0.5555555555555556, \"#d8576b\"], [0.6666666666666666, \"#ed7953\"], [0.7777777777777778, \"#fb9f3a\"], [0.8888888888888888, \"#fdca26\"], [1.0, \"#f0f921\"]]}, \"colorway\": [\"#636efa\", \"#EF553B\", \"#00cc96\", \"#ab63fa\", \"#FFA15A\", \"#19d3f3\", \"#FF6692\", \"#B6E880\", \"#FF97FF\", \"#FECB52\"], \"font\": {\"color\": \"#2a3f5f\"}, \"geo\": {\"bgcolor\": \"white\", \"lakecolor\": \"white\", \"landcolor\": \"#E5ECF6\", \"showlakes\": true, \"showland\": true, \"subunitcolor\": \"white\"}, \"hoverlabel\": {\"align\": \"left\"}, \"hovermode\": \"closest\", \"mapbox\": {\"style\": \"light\"}, \"paper_bgcolor\": \"white\", \"plot_bgcolor\": \"#E5ECF6\", \"polar\": {\"angularaxis\": {\"gridcolor\": \"white\", \"linecolor\": \"white\", \"ticks\": \"\"}, \"bgcolor\": \"#E5ECF6\", \"radialaxis\": {\"gridcolor\": \"white\", \"linecolor\": \"white\", \"ticks\": \"\"}}, \"scene\": {\"xaxis\": {\"backgroundcolor\": \"#E5ECF6\", \"gridcolor\": \"white\", \"gridwidth\": 2, \"linecolor\": \"white\", \"showbackground\": true, \"ticks\": \"\", \"zerolinecolor\": \"white\"}, \"yaxis\": {\"backgroundcolor\": \"#E5ECF6\", \"gridcolor\": \"white\", \"gridwidth\": 2, \"linecolor\": \"white\", \"showbackground\": true, \"ticks\": \"\", \"zerolinecolor\": \"white\"}, \"zaxis\": {\"backgroundcolor\": \"#E5ECF6\", \"gridcolor\": \"white\", \"gridwidth\": 2, \"linecolor\": \"white\", \"showbackground\": true, \"ticks\": \"\", \"zerolinecolor\": \"white\"}}, \"shapedefaults\": {\"line\": {\"color\": \"#2a3f5f\"}}, \"ternary\": {\"aaxis\": {\"gridcolor\": \"white\", \"linecolor\": \"white\", \"ticks\": \"\"}, \"baxis\": {\"gridcolor\": \"white\", \"linecolor\": \"white\", \"ticks\": \"\"}, \"bgcolor\": \"#E5ECF6\", \"caxis\": {\"gridcolor\": \"white\", \"linecolor\": \"white\", \"ticks\": \"\"}}, \"title\": {\"x\": 0.05}, \"xaxis\": {\"automargin\": true, \"gridcolor\": \"white\", \"linecolor\": \"white\", \"ticks\": \"\", \"title\": {\"standoff\": 15}, \"zerolinecolor\": \"white\", \"zerolinewidth\": 2}, \"yaxis\": {\"automargin\": true, \"gridcolor\": \"white\", \"linecolor\": \"white\", \"ticks\": \"\", \"title\": {\"standoff\": 15}, \"zerolinecolor\": \"white\", \"zerolinewidth\": 2}}}},\n",
              "                        {\"responsive\": true}\n",
              "                    ).then(function(){\n",
              "                            \n",
              "var gd = document.getElementById('67a97864-aa03-499f-bef6-8c9544a70405');\n",
              "var x = new MutationObserver(function (mutations, observer) {{\n",
              "        var display = window.getComputedStyle(gd).display;\n",
              "        if (!display || display === 'none') {{\n",
              "            console.log([gd, 'removed!']);\n",
              "            Plotly.purge(gd);\n",
              "            observer.disconnect();\n",
              "        }}\n",
              "}});\n",
              "\n",
              "// Listen for the removal of the full notebook cells\n",
              "var notebookContainer = gd.closest('#notebook-container');\n",
              "if (notebookContainer) {{\n",
              "    x.observe(notebookContainer, {childList: true});\n",
              "}}\n",
              "\n",
              "// Listen for the clearing of the current output cell\n",
              "var outputEl = gd.closest('.output');\n",
              "if (outputEl) {{\n",
              "    x.observe(outputEl, {childList: true});\n",
              "}}\n",
              "\n",
              "                        })\n",
              "                };\n",
              "                \n",
              "            </script>\n",
              "        </div>\n",
              "</body>\n",
              "</html>"
            ]
          },
          "metadata": {
            "tags": []
          }
        }
      ]
    },
    {
      "cell_type": "markdown",
      "metadata": {
        "id": "O-azFHtbT69r",
        "colab_type": "text"
      },
      "source": [
        "Let's think back to our example in the url above. \n",
        "\n",
        "The dimension that is the most spread probably stretches end to end (i.e., like a tube)"
      ]
    },
    {
      "cell_type": "markdown",
      "metadata": {
        "id": "ARCKf7A3XWWu",
        "colab_type": "text"
      },
      "source": [
        "Now, let's get our data in the correct format. We are going to turn our dataframe into an array like so"
      ]
    },
    {
      "cell_type": "code",
      "metadata": {
        "id": "5IqNlDeeX4jF",
        "colab_type": "code",
        "colab": {}
      },
      "source": [
        "X = mpg[variables]\n",
        "y = mpg['mpg']"
      ],
      "execution_count": 28,
      "outputs": []
    },
    {
      "cell_type": "markdown",
      "metadata": {
        "id": "lWihuz1MXc_N",
        "colab_type": "text"
      },
      "source": [
        "Next, we need to normalize our data. If we don't, then the variance we account for may be soaked by variables that have large values\n",
        "\n",
        "https://stats.stackexchange.com/questions/69157/why-do-we-need-to-normalize-data-before-principal-component-analysis-pca\n",
        "\n",
        "We will see this a little later\n",
        "\n",
        "We will use the StandardScaler, which is basically taking the z-score of the data.\n",
        "\n",
        "Z-score turns the mean of the distribution to 0 and standard deviation to 1"
      ]
    },
    {
      "cell_type": "code",
      "metadata": {
        "id": "kUJptiCtXwxr",
        "colab_type": "code",
        "colab": {}
      },
      "source": [
        "X_array = StandardScaler().fit_transform(X)\n",
        "X2 = pd.DataFrame(X_array,columns=X.columns)"
      ],
      "execution_count": 29,
      "outputs": []
    },
    {
      "cell_type": "markdown",
      "metadata": {
        "id": "EGruOR9NZi9D",
        "colab_type": "text"
      },
      "source": [
        "We can visualize the new data and it should look the same as our data before transformation"
      ]
    },
    {
      "cell_type": "code",
      "metadata": {
        "id": "g2Rg9aivYA4D",
        "colab_type": "code",
        "colab": {
          "base_uri": "https://localhost:8080/",
          "height": 542
        },
        "outputId": "770d5006-ed49-4228-8e57-f5ca06f08758"
      },
      "source": [
        "fig = px.scatter_3d(X2, X2['weight'],X2['displacement'],X2['acceleration'],)\n",
        "fig.show()"
      ],
      "execution_count": 31,
      "outputs": [
        {
          "output_type": "display_data",
          "data": {
            "text/html": [
              "<html>\n",
              "<head><meta charset=\"utf-8\" /></head>\n",
              "<body>\n",
              "    <div>\n",
              "            <script src=\"https://cdnjs.cloudflare.com/ajax/libs/mathjax/2.7.5/MathJax.js?config=TeX-AMS-MML_SVG\"></script><script type=\"text/javascript\">if (window.MathJax) {MathJax.Hub.Config({SVG: {font: \"STIX-Web\"}});}</script>\n",
              "                <script type=\"text/javascript\">window.PlotlyConfig = {MathJaxConfig: 'local'};</script>\n",
              "        <script src=\"https://cdn.plot.ly/plotly-latest.min.js\"></script>    \n",
              "            <div id=\"0bd68017-cfa0-4786-bbc3-c1faed01dbce\" class=\"plotly-graph-div\" style=\"height:525px; width:100%;\"></div>\n",
              "            <script type=\"text/javascript\">\n",
              "                \n",
              "                    window.PLOTLYENV=window.PLOTLYENV || {};\n",
              "                    \n",
              "                if (document.getElementById(\"0bd68017-cfa0-4786-bbc3-c1faed01dbce\")) {\n",
              "                    Plotly.newPlot(\n",
              "                        '0bd68017-cfa0-4786-bbc3-c1faed01dbce',\n",
              "                        [{\"hoverlabel\": {\"namelength\": 0}, \"hovertemplate\": \"weight=%{x}<br>displacement=%{y}<br>acceleration=%{z}\", \"legendgroup\": \"\", \"marker\": {\"color\": \"#636efa\", \"symbol\": \"circle\"}, \"mode\": \"markers\", \"name\": \"\", \"scene\": \"scene\", \"showlegend\": false, \"type\": \"scatter3d\", \"x\": [0.6308698741675456, 0.8543329711977774, 0.5504704530138114, 0.5469234197276172, 0.5658409305873193, 1.620492161015715, 1.635862638589223, 1.586204172582505, 1.7198090930291514, 1.0399610465086049, 0.7006281954626973, 0.755016039184341, 0.9347323923515116, 0.13664990295782647, -0.7075440191563827, -0.16248323751121402, -0.23224155880636577, -0.4533399669791348, -0.993671370909378, -1.3424629773851366, -0.35284069053696704, -0.6389680422899623, -0.7039969858701886, -0.8707075503213139, -0.3812169568265203, 1.9444545344881146, 1.6618742160213136, 1.6689682825937018, 2.082788832649687, -0.993671370909378, -0.8352372174593723, -0.8778016168937022, -1.0929883029228142, -0.3977697788287597, 0.5540174863000055, 0.4239595991395531, 0.3920362995638057, 0.3754834775615663, 1.4644226964231721, 1.7659205257496755, 1.399393752842946, 1.3308177759765256, 2.346451640256786, 2.0993416546519263, 2.565185359572092, -0.009960806204865311, -0.6649796197220528, 0.368389410989178, 0.19931415768058988, -0.8872603723235533, -1.0019477819104976, -1.0598826589183354, -1.0705237587769179, -1.4157683319664824, -1.6049434405635041, -1.343645321813868, -1.2005816459373704, -0.8186843954571329, -0.9984007486243035, -0.8470606617466861, -0.6649796197220528, -0.880166305751165, 1.5412750842907124, 1.672515315879896, 1.3769292086970497, 1.3698351421246613, 0.8295037381944182, 1.9657367342052796, 1.810849614041468, 1.7564617703198244, 1.7162620597429572, -0.7572024851631008, 1.089619512515323, 1.3331824648339885, 1.5649219728653398, 1.3083532318306292, -0.04424879463807549, -0.5431981435627201, 0.010139049083568238, -0.9239130496142262, -0.6803500972955608, -0.806860951169819, -0.549109865706377, -0.9534716603325109, -1.0291417037713195, 1.3355471536914512, 0.8295037381944182, 1.203124577673536, 1.266971176825031, 0.9536499032112138, 2.3429046069705914, 1.7659205257496755, 1.6465037384478056, 1.497528340427651, 2.086335865935881, 2.34172226254186, 1.0056730580753948, 0.17803195796342497, 0.36366003327425245, -0.030060661493298863, 0.05979751509028642, -0.07853678307128566, -1.2064933680810273, 2.396110106263504, 2.2885167632489476, 1.9905659672086387, 1.807302580755274, -0.21450639237539498, -0.8175020510284015, -0.6732560307231725, -0.699267608155263, -1.0007654374817663, -0.7808493737377286, -0.5893095762832441, -0.8340548730306409, 1.3142649539742863, 1.546004462005638, -1.3046279556657323, -0.9605657269048992, -0.45925168912279174, -0.12110118250561554, 0.50672370915075, -0.36702882368174367, -0.19322419265823004, 0.8200449827645672, 0.15556741381752864, -0.11282477150449584, -0.08208381635747981, 0.4322360101406728, -1.2064933680810273, -0.6141388092866032, -1.341280632956405, -0.5065454662720471, 0.9583792809261393, 0.7822099610451628, 0.7597454168992666, 1.384023275269438, 2.043771466501551, 1.7576441147485558, 1.9716484563489365, 1.5211752290022786, -0.8884427167522846, -1.1911228905075193, -0.7926728180250424, -1.5623790411291743, -1.1438291133582639, -0.9995830930530348, -1.0196829483414684, -0.8565194171765372, -0.5692097209948106, -0.6850794750104864, -1.147376146644458, 0.34710721127201305, 0.5776643748746332, 0.5457410752988858, 0.2217787018264862, 2.007118789210878, 1.7375442594601223, 1.8061202363265425, 1.9941130004948329, 1.1073546789462938, 1.09553123465898, 0.8980797150608386, 0.9631086586410649, 0.08107971480745135, 0.29626640083656347, 0.23478449054253145, -0.9451952493313911, -0.39185805668510276, -0.06671333878397182, -0.4474282448354779, -0.3173703576750255, -0.883713339037359, -0.502998432985853, 0.016050771227225164, -1.2218638456545352, 0.2844429565492496, -0.32682911310487656, -0.01587252834852224, -0.030060661493298863, -0.3540230349656984, -1.389756754534392, -0.5987683317130952, -0.8872603723235533, -0.4710751334101056, -0.8458783173179547, -0.9085425720407182, 1.4715167629955606, 1.441958152277276, 1.17238362252652, 1.4715167629955606, 0.3104545339813401, 0.45233586542910637, 0.04915641523170396, 0.1354675585290951, -1.1059940916388595, -0.9534716603325109, -1.2218638456545352, -1.389756754534392, 0.8046745051910592, 0.7136339841787425, 0.7975804386186709, 0.2631607568320847, -1.3542864216724504, -1.1591995909317718, -0.9641127601910933, -0.4793515444112253, 0.21231994639663512, 1.1463720450944295, 0.35420127784440136, -0.047795827924269646, 1.0044907136466632, 1.6666035937362391, 1.2823416543985389, 1.0636079350832326, 0.9276383257791233, -1.0941706473515456, -0.9641127601910933, -1.3542864216724504, -0.7926728180250424, -1.2124050902246841, 1.0754313793705463, 1.2882533765421957, 1.3828409308407066, 1.5661043172940714, 0.6497873850272478, 0.5374646642977661, 0.7798452721877001, 0.6556991071709046, 1.4774284851392174, 1.4123995415589912, 1.6015746501560129, 1.6133980944433268, -1.2183168123683412, -0.2724412693832329, -0.8340548730306409, -0.2547061029522621, -1.0870765807791574, -1.058700314489604, -1.1651113130754287, -0.9227307051854948, -0.18376543722837896, -0.4379694894056268, -0.2960881579578606, -1.1651113130754287, -1.383845032390735, -1.1651113130754287, -1.064612036633261, -1.383845032390735, 0.466523998573883, 0.9039914372044956, 0.7089046064638169, 0.6675225514582185, 0.21823166854029205, -0.006413772918671156, -0.2960881579578606, 0.543376386441423, 0.28326061212051823, 0.4842591650048538, 0.1177323920981243, 0.7680218279003862, 0.5197294978667953, 0.5374646642977661, 0.5611115528723938, 0.2773488899768613, 1.3119002651168234, -0.9641127601910933, -0.4852632665548822, -0.7926728180250424, -0.8754369280362394, -0.5384687658477946, -0.26652954723957595, -0.13647166007912354, -0.668526653008247, -0.16603027079740817, 0.20049650210932127, -0.20741232580300667, 0.5197294978667953, -1.1591995909317718, -0.987759648765721, 0.3246426671261167, 0.023144837799613478, -0.09508960507352505, 0.34828955570074444, 0.46061227643022606, 1.028137602221291, 0.8921679929171817, 1.1641072115254003, 1.0163141579339772, 1.6429567051616114, 1.2811593099698075, 0.7502866614694155, 1.1463720450944295, -1.2360519787993118, -1.1769347573627427, -1.2478754230866258, -0.3552053793944298, 0.6616108293145616, 1.099078267945174, 0.2596137235458905, 0.5315529421541092, -0.910907260898181, -0.9700244823347502, -1.1237292580698304, -0.993671370909378, -0.3552053793944298, -0.4438812115492837, -0.3197350465324883, -0.48999264426980776, -0.9771185489071386, -1.1852111683638624, -1.0054948151966918, -1.1249116024985617, -0.3457466239645787, -0.11873649364815277, 0.038515315373121486, 0.48544150943358516, -0.9250953940429576, -0.30672925781644306, -0.5065454662720471, -0.6342386645750367, -0.8340548730306409, -1.0173182594840056, -0.20150060365934974, -1.0173182594840056, -1.0468768702022901, -0.751290763019444, -0.024148939349641935, 0.33055438926977365, -1.3247278109541658, -1.3424629773851366, -0.9759362044784071, -1.3306395330978227, -0.07144271649889734, -0.6507914865772761, -0.5562039322787653, -0.07735443864255427, -0.8044962623123563, -0.5680273765660792, -0.3965874344000283, -0.4143226008309991, -0.29017643581420366, -0.6921735415828747, -1.4370505316836475, -1.2951692002358812, -1.4311388095399904, -1.0705237587769179, -1.1769347573627427, -1.0882589252078887, -1.1651113130754287, -0.8931720944672101, -1.0941706473515456, -0.6980852637265316, -0.9227307051854948, -0.7690259294504147, -0.8990838166108671, -0.7335555965884731, -0.420234322974656, -0.3965874344000283, 0.30690750069514594, 0.22414339068394898, -0.0832661607862112, -0.047795827924269646, 0.5256412200104522, 0.8921679929171817, 0.10590894781081045, 0.5847584414470215, -0.43205776726196987, -0.3906757122563714, -0.6803500972955608, -0.46752810012391144, -0.5266453215604807, -0.2783529915268898, -0.1246482157918097, 0.07635033709252582, -1.1710230352190858, -1.1178175359261733, -1.1828464795063995, -0.9995830930530348, -0.9995830930530348, -0.9582010380474364, -0.904995538754524, -0.8577017616052686, -1.1887582016500564, -1.1887582016500564, -1.153287868788115, -0.030060661493298863, 0.05270344851789811, -0.4557046558365976, -0.16011854865375125, -0.36111710153808674, -0.7099087080138454, -0.024148939349641935, -0.2133240479466636, -0.993671370909378, -0.7985845401686993, -0.40841087868734216, -0.2960881579578606], \"y\": [1.090603697954175, 1.5035143043761154, 1.196231992620253, 1.061795981227063, 1.0425908367423216, 2.262117511523401, 2.502181817582669, 2.3677458061894785, 2.5117843898250394, 1.8876171940709434, 1.8203991883743487, 1.4074885819524083, 1.9836429164946505, 2.5117843898250394, -0.7722953170657413, 0.0439233235357685, 0.0535258957781392, 0.0631284680205099, -0.9259364729436725, -0.9259364729436725, -0.8011030337928534, -0.8299107505199654, -0.8587184672470776, -0.6954747391267756, 0.0535258957781392, 1.5995400267998223, 1.090603697954175, 1.196231992620253, 1.061795981227063, -0.9259364729436725, -0.5130258665217323, -0.7722953170657413, -0.9163339007013018, 0.37041077977637243, 0.30319277407977746, 0.5432570801390451, 0.5432570801390451, 0.37041077977637243, 1.5035143043761154, 1.9836429164946505, 1.5131168766184862, 1.196231992620253, 1.8203991883743487, 1.9836429164946505, 1.9836429164946505, 0.6200776580780107, -0.5130258665217323, 0.5432570801390451, 0.5432570801390451, -0.6858721668844049, -0.7434876003386292, -1.098782773306345, -1.012359623125009, -1.1756033512453108, -1.16600077900294, -0.9259364729436725, -0.9835519063978967, -0.7722953170657413, -0.9211351868224872, -0.9259364729436725, -0.5130258665217323, -0.6858721668844049, 1.5035143043761154, 1.9836429164946505, 1.196231992620253, 1.5131168766184862, 1.061795981227063, 2.262117511523401, 1.5035143043761154, 1.5035143043761154, 1.9836429164946505, -1.1852059234876815, 1.061795981227063, 1.090603697954175, 1.0425908367423216, 1.196231992620253, -0.6954747391267756, -0.6954747391267756, -0.7050773113691463, -0.9355390451860432, -0.6858721668844049, -0.9259364729436725, -0.7050773113691463, -0.9163339007013018, -0.9259364729436725, 1.5035143043761154, 1.061795981227063, 1.5035143043761154, 1.0425908367423216, 1.196231992620253, 2.262117511523401, 1.9836429164946505, 1.5131168766184862, 1.196231992620253, 2.3677458061894785, 2.5117843898250394, 1.5995400267998223, 0.30319277407977746, 0.5432570801390451, 0.37041077977637243, 0.5432570801390451, 0.0439233235357685, -0.9259364729436725, 1.9836429164946505, 1.9836429164946505, 1.5995400267998223, 1.5035143043761154, 0.37041077977637243, -0.9259364729436725, -0.5130258665217323, -0.8203081782775948, -1.1852059234876815, -0.6858721668844049, -0.3689872828861717, -0.9163339007013018, 1.5035143043761154, 1.9836429164946505, -1.204411067972423, -0.7434876003386292, -0.7626927448233706, -0.6954747391267756, 1.196231992620253, -0.6954747391267756, -0.359384710643801, 1.5035143043761154, 0.0439233235357685, 0.0631284680205099, 0.37041077977637243, 0.5432570801390451, -1.098782773306345, -0.6858721668844049, -1.1756033512453108, -0.5130258665217323, 0.5432570801390451, 0.6200776580780107, 0.30319277407977746, 1.0425908367423216, 1.5035143043761154, 1.196231992620253, 1.0425908367423216, 1.061795981227063, -0.9163339007013018, -1.098782773306345, -0.9259364729436725, -1.1275904900334572, -1.0603724843368623, -0.9931544786402674, -0.9931544786402674, -0.7434876003386292, -0.7050773113691463, -0.8203081782775948, -1.098782773306345, 0.30319277407977746, 0.5432570801390451, 0.5432570801390451, 0.5432570801390451, 1.9836429164946505, 1.5035143043761154, 1.196231992620253, 1.5131168766184862, 0.3608082075340017, 0.5432570801390451, 0.6200776580780107, 0.30319277407977746, 0.3608082075340017, 0.6584879470474935, 1.0425908367423216, -0.9259364729436725, -0.5130258665217323, 0.37041077977637243, -0.5130258665217323, -0.5706412999759565, -0.9931544786402674, -0.714679883611517, -0.2153461270082405, -0.9931544786402674, 0.37041077977637243, -0.7530901725809999, -0.7050773113691463, -0.6954747391267756, -0.6954747391267756, -0.9835519063978967, -0.8299107505199654, -0.7434876003386292, -0.5130258665217323, -0.9163339007013018, -0.8875261839741897, 1.0713985534694337, 1.196231992620253, 1.061795981227063, 1.5131168766184862, 0.30319277407977746, 0.5432570801390451, 0.0631284680205099, 0.37041077977637243, -1.0411673398521208, -0.9163339007013018, -0.9931544786402674, -0.9835519063978967, 0.30319277407977746, 0.5432570801390451, 0.5432570801390451, 0.6200776580780107, -0.9259364729436725, -1.0411673398521208, -0.9259364729436725, -0.5130258665217323, -0.6090515889454393, 1.196231992620253, -0.7050773113691463, -0.359384710643801, -0.2441538437353526, 1.5035143043761154, 1.5035143043761154, 1.0425908367423216, 1.196231992620253, -0.9163339007013018, -0.7915004615504827, -1.098782773306345, -0.6858721668844049, -1.0411673398521208, 1.0713985534694337, 0.639282802562752, 1.196231992620253, 1.0425908367423216, 0.5432570801390451, 0.3608082075340017, 0.30319277407977746, 0.5432570801390451, 1.9836429164946505, 1.5035143043761154, 1.9836429164946505, 1.5131168766184862, -0.9259364729436725, -0.40739757185565456, -0.9259364729436725, -0.5130258665217323, -0.9163339007013018, -0.9163339007013018, -0.9259364729436725, -0.9259364729436725, -0.45541043306750806, -0.6954747391267756, -1.0891802010639744, -0.9931544786402674, -0.9163339007013018, -1.1083853455487158, -1.0411673398521208, -0.9835519063978967, 0.639282802562752, 1.196231992620253, 1.0425908367423216, 0.3608082075340017, 0.0631284680205099, 0.0631284680205099, -0.5130258665217323, 0.30319277407977746, 0.37041077977637243, 0.3608082075340017, 0.0631284680205099, 0.30319277407977746, 0.6200776580780107, 1.0713985534694337, 0.3608082075340017, 1.0425908367423216, 1.196231992620253, -0.9163339007013018, -0.5706412999759565, -0.714679883611517, -0.8491158950047069, -0.5706412999759565, -0.359384710643801, -0.40739757185565456, -0.714679883611517, -0.5994490167030686, -0.2921667049472061, -0.6954747391267756, -0.2921667049472061, -1.0027570508826382, -0.9163339007013018, 0.3608082075340017, 0.0631284680205099, -0.5130258665217323, 0.37041077977637243, 0.30319277407977746, 1.0713985534694337, 1.0425908367423216, 1.5131168766184862, 1.196231992620253, 1.5035143043761154, 1.5131168766184862, 0.706500808259347, 1.5995400267998223, -1.0027570508826382, -1.0315647676097504, -0.9163339007013018, -0.6954747391267756, -0.10011526009979205, 1.5035143043761154, -0.5034232942793616, 0.639282802562752, -0.8491158950047069, -0.8491158950047069, -1.0411673398521208, -0.9835519063978967, -0.40739757185565456, -0.19614098252349907, -0.19614098252349907, -0.40739757185565456, -0.9163339007013018, -1.0027570508826382, -0.9163339007013018, -1.0315647676097504, -0.40739757185565456, -0.5130258665217323, -0.40739757185565456, 0.30319277407977746, -0.9259364729436725, -0.5706412999759565, -0.7050773113691463, -0.714679883611517, -0.8203081782775948, -1.0315647676097504, -0.359384710643801, -1.0411673398521208, -0.9931544786402674, -0.9931544786402674, -0.6954747391267756, -0.45541043306750806, -0.9835519063978967, -1.0411673398521208, -0.9259364729436725, -1.0027570508826382, -0.2441538437353526, -1.1852059234876815, -0.6858721668844049, -0.5130258665217323, -0.8299107505199654, -0.5610387277335858, -0.40739757185565456, -0.359384710643801, -0.19614098252349907, -0.5610387277335858, -1.098782773306345, -1.0315647676097504, -1.0795776288216037, -0.9259364729436725, -1.0411673398521208, -1.0027570508826382, -0.9835519063978967, -0.8491158950047069, -0.9163339007013018, -0.9163339007013018, -0.8491158950047069, -0.8971287562165604, -0.8299107505199654, -0.8203081782775948, -0.714679883611517, -0.7050773113691463, -0.5034232942793616, -0.46501300530987877, -0.2441538437353526, -0.45541043306750806, 0.3608082075340017, 1.5035143043761154, 0.0631284680205099, 0.30319277407977746, -0.781897889308112, -0.781897889308112, -0.781897889308112, -0.781897889308112, -0.5610387277335858, -0.40739757185565456, -0.5130258665217323, -0.40739757185565456, -0.8491158950047069, -0.9835519063978967, -0.9835519063978967, -0.8491158950047069, -0.9163339007013018, -0.7050773113691463, -0.8299107505199654, -0.8203081782775948, -0.9835519063978967, -0.9835519063978967, -0.9835519063978967, -0.11932040458453345, 0.6584879470474935, -0.359384710643801, 0.37041077977637243, -0.4746155775522495, -0.5610387277335858, -0.40739757185565456, -0.5130258665217323, -0.9259364729436725, -0.5610387277335858, -0.7050773113691463, -0.714679883611517], \"z\": [-1.2954983442942447, -1.477037792582784, -1.6585772408713233, -1.2954983442942447, -1.8401166891598626, -2.0216561374484017, -2.3847350340254803, -2.56627448231402, -2.0216561374484017, -2.56627448231402, -2.0216561374484017, -2.747813930602559, -2.203195585736941, -2.0216561374484017, -0.206261654563009, -0.02472220627446969, -0.02472220627446969, 0.1568172420140696, -0.3878011028515483, 1.790672276610923, 0.7014355868796874, -0.3878011028515483, 0.7014355868796874, -1.1139588960057054, -0.206261654563009, -0.5693405511400875, -0.206261654563009, -0.7508799994286268, 1.064514483456766, -0.3878011028515483, -0.02472220627446969, -0.5693405511400875, 1.2460539317453052, -0.9324194477171661, -0.02472220627446969, -0.02472220627446969, -0.02472220627446969, -0.02472220627446969, -1.2954983442942447, -1.477037792582784, -0.7508799994286268, -0.9324194477171661, -1.477037792582784, -1.2954983442942447, -1.2954983442942447, -0.7508799994286268, 1.2460539317453052, -0.206261654563009, -0.3878011028515483, -0.5693405511400875, -0.5693405511400875, 1.4275933800338445, -0.3878011028515483, 1.2460539317453052, 0.8829750351682267, 1.2460539317453052, 1.790672276610923, -0.02472220627446969, 0.5198961385911481, 2.879908966342159, 1.4275933800338445, 0.3383566903026089, -1.2954983442942447, -1.2954983442942447, -0.7508799994286268, -0.9324194477171661, -1.477037792582784, -1.6585772408713233, -0.7508799994286268, -0.7508799994286268, -1.1139588960057054, -0.7508799994286268, -1.1139588960057054, -0.5693405511400875, 0.1568172420140696, -0.5693405511400875, -0.3878011028515483, 0.8829750351682267, 1.4275933800338445, 0.8829750351682267, 0.1568172420140696, 0.5198961385911481, -0.3878011028515483, -0.206261654563009, 0.3383566903026089, -0.9324194477171661, -1.477037792582784, -0.9324194477171661, -0.3878011028515483, -1.1139588960057054, -1.477037792582784, -1.2954983442942447, -0.9324194477171661, -0.3878011028515483, -1.6585772408713233, -1.6585772408713233, -1.6585772408713233, 0.3383566903026089, 0.8829750351682267, 0.1568172420140696, 0.3383566903026089, 0.1568172420140696, 1.9722117248994624, -0.5693405511400875, -1.1139588960057054, -0.9324194477171661, -1.1139588960057054, -0.206261654563009, 1.2460539317453052, 1.4275933800338445, 0.3383566903026089, -0.7508799994286268, 1.064514483456766, -0.5693405511400875, -0.02472220627446969, -0.9324194477171661, -2.203195585736941, 1.4275933800338445, -0.02472220627446969, -0.5693405511400875, -0.02472220627446969, -1.6585772408713233, -0.5693405511400875, -0.7508799994286268, -1.6585772408713233, 0.3383566903026089, 0.5198961385911481, 0.1568172420140696, 0.5198961385911481, 1.2460539317453052, 0.3383566903026089, 1.9722117248994624, 0.5198961385911481, 0.5198961385911481, 0.8829750351682267, 0.3383566903026089, -0.5693405511400875, -0.3878011028515483, -0.7508799994286268, 0.1568172420140696, -0.02472220627446969, 0.3383566903026089, -0.02472220627446969, -0.3878011028515483, 0.3383566903026089, 1.2460539317453052, -0.3878011028515483, -0.02472220627446969, -0.5693405511400875, -0.206261654563009, -0.02472220627446969, 0.1568172420140696, 0.1568172420140696, 0.1568172420140696, 1.9722117248994624, 1.4275933800338445, -1.477037792582784, -0.5693405511400875, -0.3878011028515483, -0.7508799994286268, 1.9722117248994624, 1.064514483456766, 1.2460539317453052, 1.2460539317453052, -0.206261654563009, -0.7508799994286268, -1.2954983442942447, 0.1568172420140696, 0.5198961385911481, 0.1568172420140696, 1.064514483456766, -0.7508799994286268, 0.3383566903026089, 0.5198961385911481, -0.3878011028515483, -0.5693405511400875, 0.5198961385911481, -0.206261654563009, 0.5198961385911481, -0.3878011028515483, -0.7508799994286268, 0.7014355868796874, -0.02472220627446969, 0.48358824893343977, -0.2425695442207167, 0.774051366195103, -0.09733798558988514, -0.9324194477171661, -0.9324194477171661, -0.6056484407977952, -1.0050352270325815, -0.06103009593217742, -0.3878011028515483, 0.7377434765373958, 0.7377434765373958, 2.4079064007919566, 2.3715985111342492, -0.4967247718246721, 0.6651276972219791, 0.774051366195103, 1.9722117248994624, 0.22943302132948504, 0.8103592558528113, -1.2228825649788293, 0.5198961385911481, 0.30204880064490053, -0.7145721097709191, 0.04789357304094576, -0.8598036684017507, 2.2989827318188327, -0.02472220627446969, 0.41097246961802436, -1.259190454636537, -1.2954983442942447, -0.206261654563009, -0.5693405511400875, 1.064514483456766, -0.27887743387842445, 1.1008223731144744, -0.02472220627446969, 0.44728035927573273, -1.1139588960057054, 1.2460539317453052, -0.6782642201132114, -0.2425695442207167, 0.30204880064490053, 0.48358824893343977, 0.774051366195103, 1.2460539317453052, -1.6222693512136155, -1.5133456822404916, -1.2228825649788293, -0.3878011028515483, -0.3878011028515483, 0.1568172420140696, 0.9555908144836421, 0.08420146269865414, 0.5198961385911481, 0.12050935235636187, 0.30204880064490053, -0.5330326614823798, -0.3878011028515483, -1.0050352270325815, -0.7508799994286268, 2.153751173188002, -0.424108992509256, 1.3912854903761362, 1.1008223731144744, 0.30204880064490053, -0.02472220627446969, -0.8598036684017507, -1.0050352270325815, 1.3186697110607208, 0.9555908144836421, 0.08420146269865414, -0.06103009593217742, 0.5925119179065637, 0.5925119179065637, 0.08420146269865414, 0.41097246961802436, 1.1371302627721815, -0.16995376490530126, -0.8598036684017507, -0.7871878890863345, -1.585961461555908, -0.6782642201132114, 0.3383566903026089, -0.4967247718246721, -0.3151853235361328, -0.3878011028515483, -0.27887743387842445, 0.41097246961802436, 0.7377434765373958, -0.2425695442207167, 0.12050935235636187, -0.7145721097709191, 0.04789357304094576, 0.08420146269865414, -0.2425695442207167, 0.37466457996031727, -0.06103009593217742, 0.9555908144836421, 0.628819807564272, 0.9555908144836421, 0.37466457996031727, -0.06103009593217742, -0.7871878890863345, -0.8598036684017507, -0.13364587524759353, -0.2425695442207167, -0.4604168821669637, -0.206261654563009, -0.9324194477171661, -0.5693405511400875, -0.13364587524759353, -0.424108992509256, -0.206261654563009, 1.6454407179800923, 0.6651276972219791, 3.351911531892361, 2.4079064007919566, -0.8598036684017507, -0.2425695442207167, 1.3186697110607208, -0.3151853235361328, 0.1568172420140696, -1.5496535718981994, -0.9687273373748738, -0.8598036684017507, -0.3151853235361328, 1.1734381524298898, -0.02472220627446969, 0.30204880064490053, 0.3383566903026089, 0.9192829248259351, 1.6454407179800923, 1.1371302627721815, 0.08420146269865414, -0.02472220627446969, 0.7014355868796874, -0.206261654563009, -0.13364587524759353, 0.8466671455105184, -0.424108992509256, 1.3186697110607208, 2.226366952503417, 2.9525247456575743, 1.5728249386646755, 2.2626748421611254, -0.641956330455503, 0.628819807564272, 0.8829750351682267, -0.09733798558988514, -1.5133456822404916, -1.1139588960057054, -0.16995376490530126, -0.4604168821669637, 0.5198961385911481, 0.04789357304094576, 0.30204880064490053, -0.424108992509256, -1.0776510063479976, -0.9687273373748738, 0.48358824893343977, 0.30204880064490053, 0.19312513167177797, 0.8103592558528113, 1.3912854903761362, 0.628819807564272, 0.1568172420140696, -0.2425695442207167, 0.22943302132948504, 1.8632880559263387, -0.4967247718246721, 0.08420146269865414, -0.424108992509256, 0.44728035927573273, -0.27887743387842445, 0.9918987041413506, 1.7543643869532148, 1.463901269691553, -1.0776510063479976, -0.641956330455503, 0.08420146269865414, 1.2460539317453052, 0.5562040282488565, 0.37466457996031727, 1.463901269691553, 1.1008223731144744, 0.8829750351682267, 0.22943302132948504, 0.1568172420140696, 0.8829750351682267, 0.30204880064490053, 1.790672276610923, -0.09733798558988514, 0.9555908144836421, 0.7377434765373958, -0.3151853235361328, 0.628819807564272, -0.3878011028515483, -0.3878011028515483, 0.48358824893343977, -0.206261654563009, 0.04789357304094576, 0.22943302132948504, 0.30204880064490053, 0.5198961385911481, -0.3878011028515483, -0.3151853235361328, -0.6056484407977952, -0.9324194477171661, 0.628819807564272, 0.011585683383238038, 3.279295752576946, -1.4407299029250762, 1.1008223731144744, 1.3912854903761362]}],\n",
              "                        {\"legend\": {\"tracegroupgap\": 0}, \"margin\": {\"t\": 60}, \"scene\": {\"domain\": {\"x\": [0.0, 1.0], \"y\": [0.0, 1.0]}, \"xaxis\": {\"title\": {\"text\": \"weight\"}}, \"yaxis\": {\"title\": {\"text\": \"displacement\"}}, \"zaxis\": {\"title\": {\"text\": \"acceleration\"}}}, \"template\": {\"data\": {\"bar\": [{\"error_x\": {\"color\": \"#2a3f5f\"}, \"error_y\": {\"color\": \"#2a3f5f\"}, \"marker\": {\"line\": {\"color\": \"#E5ECF6\", \"width\": 0.5}}, \"type\": \"bar\"}], \"barpolar\": [{\"marker\": {\"line\": {\"color\": \"#E5ECF6\", \"width\": 0.5}}, \"type\": \"barpolar\"}], \"carpet\": [{\"aaxis\": {\"endlinecolor\": \"#2a3f5f\", \"gridcolor\": \"white\", \"linecolor\": \"white\", \"minorgridcolor\": \"white\", \"startlinecolor\": \"#2a3f5f\"}, \"baxis\": {\"endlinecolor\": \"#2a3f5f\", \"gridcolor\": \"white\", \"linecolor\": \"white\", \"minorgridcolor\": \"white\", \"startlinecolor\": \"#2a3f5f\"}, \"type\": \"carpet\"}], \"choropleth\": [{\"colorbar\": {\"outlinewidth\": 0, \"ticks\": \"\"}, \"type\": \"choropleth\"}], \"contour\": [{\"colorbar\": {\"outlinewidth\": 0, \"ticks\": \"\"}, \"colorscale\": [[0.0, \"#0d0887\"], [0.1111111111111111, \"#46039f\"], [0.2222222222222222, \"#7201a8\"], [0.3333333333333333, \"#9c179e\"], [0.4444444444444444, \"#bd3786\"], [0.5555555555555556, \"#d8576b\"], [0.6666666666666666, \"#ed7953\"], [0.7777777777777778, \"#fb9f3a\"], [0.8888888888888888, \"#fdca26\"], [1.0, \"#f0f921\"]], \"type\": \"contour\"}], \"contourcarpet\": [{\"colorbar\": {\"outlinewidth\": 0, \"ticks\": \"\"}, \"type\": \"contourcarpet\"}], \"heatmap\": [{\"colorbar\": {\"outlinewidth\": 0, \"ticks\": \"\"}, \"colorscale\": [[0.0, \"#0d0887\"], [0.1111111111111111, \"#46039f\"], [0.2222222222222222, \"#7201a8\"], [0.3333333333333333, \"#9c179e\"], [0.4444444444444444, \"#bd3786\"], [0.5555555555555556, \"#d8576b\"], [0.6666666666666666, \"#ed7953\"], [0.7777777777777778, \"#fb9f3a\"], [0.8888888888888888, \"#fdca26\"], [1.0, \"#f0f921\"]], \"type\": \"heatmap\"}], \"heatmapgl\": [{\"colorbar\": {\"outlinewidth\": 0, \"ticks\": \"\"}, \"colorscale\": [[0.0, \"#0d0887\"], [0.1111111111111111, \"#46039f\"], [0.2222222222222222, \"#7201a8\"], [0.3333333333333333, \"#9c179e\"], [0.4444444444444444, \"#bd3786\"], [0.5555555555555556, \"#d8576b\"], [0.6666666666666666, \"#ed7953\"], [0.7777777777777778, \"#fb9f3a\"], [0.8888888888888888, \"#fdca26\"], [1.0, \"#f0f921\"]], \"type\": \"heatmapgl\"}], \"histogram\": [{\"marker\": {\"colorbar\": {\"outlinewidth\": 0, \"ticks\": \"\"}}, \"type\": \"histogram\"}], \"histogram2d\": [{\"colorbar\": {\"outlinewidth\": 0, \"ticks\": \"\"}, \"colorscale\": [[0.0, \"#0d0887\"], [0.1111111111111111, \"#46039f\"], [0.2222222222222222, \"#7201a8\"], [0.3333333333333333, \"#9c179e\"], [0.4444444444444444, \"#bd3786\"], [0.5555555555555556, \"#d8576b\"], [0.6666666666666666, \"#ed7953\"], [0.7777777777777778, \"#fb9f3a\"], [0.8888888888888888, \"#fdca26\"], [1.0, \"#f0f921\"]], \"type\": \"histogram2d\"}], \"histogram2dcontour\": [{\"colorbar\": {\"outlinewidth\": 0, \"ticks\": \"\"}, \"colorscale\": [[0.0, \"#0d0887\"], [0.1111111111111111, \"#46039f\"], [0.2222222222222222, \"#7201a8\"], [0.3333333333333333, \"#9c179e\"], [0.4444444444444444, \"#bd3786\"], [0.5555555555555556, \"#d8576b\"], [0.6666666666666666, \"#ed7953\"], [0.7777777777777778, \"#fb9f3a\"], [0.8888888888888888, \"#fdca26\"], [1.0, \"#f0f921\"]], \"type\": \"histogram2dcontour\"}], \"mesh3d\": [{\"colorbar\": {\"outlinewidth\": 0, \"ticks\": \"\"}, \"type\": \"mesh3d\"}], \"parcoords\": [{\"line\": {\"colorbar\": {\"outlinewidth\": 0, \"ticks\": \"\"}}, \"type\": \"parcoords\"}], \"pie\": [{\"automargin\": true, \"type\": \"pie\"}], \"scatter\": [{\"marker\": {\"colorbar\": {\"outlinewidth\": 0, \"ticks\": \"\"}}, \"type\": \"scatter\"}], \"scatter3d\": [{\"line\": {\"colorbar\": {\"outlinewidth\": 0, \"ticks\": \"\"}}, \"marker\": {\"colorbar\": {\"outlinewidth\": 0, \"ticks\": \"\"}}, \"type\": \"scatter3d\"}], \"scattercarpet\": [{\"marker\": {\"colorbar\": {\"outlinewidth\": 0, \"ticks\": \"\"}}, \"type\": \"scattercarpet\"}], \"scattergeo\": [{\"marker\": {\"colorbar\": {\"outlinewidth\": 0, \"ticks\": \"\"}}, \"type\": \"scattergeo\"}], \"scattergl\": [{\"marker\": {\"colorbar\": {\"outlinewidth\": 0, \"ticks\": \"\"}}, \"type\": \"scattergl\"}], \"scattermapbox\": [{\"marker\": {\"colorbar\": {\"outlinewidth\": 0, \"ticks\": \"\"}}, \"type\": \"scattermapbox\"}], \"scatterpolar\": [{\"marker\": {\"colorbar\": {\"outlinewidth\": 0, \"ticks\": \"\"}}, \"type\": \"scatterpolar\"}], \"scatterpolargl\": [{\"marker\": {\"colorbar\": {\"outlinewidth\": 0, \"ticks\": \"\"}}, \"type\": \"scatterpolargl\"}], \"scatterternary\": [{\"marker\": {\"colorbar\": {\"outlinewidth\": 0, \"ticks\": \"\"}}, \"type\": \"scatterternary\"}], \"surface\": [{\"colorbar\": {\"outlinewidth\": 0, \"ticks\": \"\"}, \"colorscale\": [[0.0, \"#0d0887\"], [0.1111111111111111, \"#46039f\"], [0.2222222222222222, \"#7201a8\"], [0.3333333333333333, \"#9c179e\"], [0.4444444444444444, \"#bd3786\"], [0.5555555555555556, \"#d8576b\"], [0.6666666666666666, \"#ed7953\"], [0.7777777777777778, \"#fb9f3a\"], [0.8888888888888888, \"#fdca26\"], [1.0, \"#f0f921\"]], \"type\": \"surface\"}], \"table\": [{\"cells\": {\"fill\": {\"color\": \"#EBF0F8\"}, \"line\": {\"color\": \"white\"}}, \"header\": {\"fill\": {\"color\": \"#C8D4E3\"}, \"line\": {\"color\": \"white\"}}, \"type\": \"table\"}]}, \"layout\": {\"annotationdefaults\": {\"arrowcolor\": \"#2a3f5f\", \"arrowhead\": 0, \"arrowwidth\": 1}, \"coloraxis\": {\"colorbar\": {\"outlinewidth\": 0, \"ticks\": \"\"}}, \"colorscale\": {\"diverging\": [[0, \"#8e0152\"], [0.1, \"#c51b7d\"], [0.2, \"#de77ae\"], [0.3, \"#f1b6da\"], [0.4, \"#fde0ef\"], [0.5, \"#f7f7f7\"], [0.6, \"#e6f5d0\"], [0.7, \"#b8e186\"], [0.8, \"#7fbc41\"], [0.9, \"#4d9221\"], [1, \"#276419\"]], \"sequential\": [[0.0, \"#0d0887\"], [0.1111111111111111, \"#46039f\"], [0.2222222222222222, \"#7201a8\"], [0.3333333333333333, \"#9c179e\"], [0.4444444444444444, \"#bd3786\"], [0.5555555555555556, \"#d8576b\"], [0.6666666666666666, \"#ed7953\"], [0.7777777777777778, \"#fb9f3a\"], [0.8888888888888888, \"#fdca26\"], [1.0, \"#f0f921\"]], \"sequentialminus\": [[0.0, \"#0d0887\"], [0.1111111111111111, \"#46039f\"], [0.2222222222222222, \"#7201a8\"], [0.3333333333333333, \"#9c179e\"], [0.4444444444444444, \"#bd3786\"], [0.5555555555555556, \"#d8576b\"], [0.6666666666666666, \"#ed7953\"], [0.7777777777777778, \"#fb9f3a\"], [0.8888888888888888, \"#fdca26\"], [1.0, \"#f0f921\"]]}, \"colorway\": [\"#636efa\", \"#EF553B\", \"#00cc96\", \"#ab63fa\", \"#FFA15A\", \"#19d3f3\", \"#FF6692\", \"#B6E880\", \"#FF97FF\", \"#FECB52\"], \"font\": {\"color\": \"#2a3f5f\"}, \"geo\": {\"bgcolor\": \"white\", \"lakecolor\": \"white\", \"landcolor\": \"#E5ECF6\", \"showlakes\": true, \"showland\": true, \"subunitcolor\": \"white\"}, \"hoverlabel\": {\"align\": \"left\"}, \"hovermode\": \"closest\", \"mapbox\": {\"style\": \"light\"}, \"paper_bgcolor\": \"white\", \"plot_bgcolor\": \"#E5ECF6\", \"polar\": {\"angularaxis\": {\"gridcolor\": \"white\", \"linecolor\": \"white\", \"ticks\": \"\"}, \"bgcolor\": \"#E5ECF6\", \"radialaxis\": {\"gridcolor\": \"white\", \"linecolor\": \"white\", \"ticks\": \"\"}}, \"scene\": {\"xaxis\": {\"backgroundcolor\": \"#E5ECF6\", \"gridcolor\": \"white\", \"gridwidth\": 2, \"linecolor\": \"white\", \"showbackground\": true, \"ticks\": \"\", \"zerolinecolor\": \"white\"}, \"yaxis\": {\"backgroundcolor\": \"#E5ECF6\", \"gridcolor\": \"white\", \"gridwidth\": 2, \"linecolor\": \"white\", \"showbackground\": true, \"ticks\": \"\", \"zerolinecolor\": \"white\"}, \"zaxis\": {\"backgroundcolor\": \"#E5ECF6\", \"gridcolor\": \"white\", \"gridwidth\": 2, \"linecolor\": \"white\", \"showbackground\": true, \"ticks\": \"\", \"zerolinecolor\": \"white\"}}, \"shapedefaults\": {\"line\": {\"color\": \"#2a3f5f\"}}, \"ternary\": {\"aaxis\": {\"gridcolor\": \"white\", \"linecolor\": \"white\", \"ticks\": \"\"}, \"baxis\": {\"gridcolor\": \"white\", \"linecolor\": \"white\", \"ticks\": \"\"}, \"bgcolor\": \"#E5ECF6\", \"caxis\": {\"gridcolor\": \"white\", \"linecolor\": \"white\", \"ticks\": \"\"}}, \"title\": {\"x\": 0.05}, \"xaxis\": {\"automargin\": true, \"gridcolor\": \"white\", \"linecolor\": \"white\", \"ticks\": \"\", \"title\": {\"standoff\": 15}, \"zerolinecolor\": \"white\", \"zerolinewidth\": 2}, \"yaxis\": {\"automargin\": true, \"gridcolor\": \"white\", \"linecolor\": \"white\", \"ticks\": \"\", \"title\": {\"standoff\": 15}, \"zerolinecolor\": \"white\", \"zerolinewidth\": 2}}}},\n",
              "                        {\"responsive\": true}\n",
              "                    ).then(function(){\n",
              "                            \n",
              "var gd = document.getElementById('0bd68017-cfa0-4786-bbc3-c1faed01dbce');\n",
              "var x = new MutationObserver(function (mutations, observer) {{\n",
              "        var display = window.getComputedStyle(gd).display;\n",
              "        if (!display || display === 'none') {{\n",
              "            console.log([gd, 'removed!']);\n",
              "            Plotly.purge(gd);\n",
              "            observer.disconnect();\n",
              "        }}\n",
              "}});\n",
              "\n",
              "// Listen for the removal of the full notebook cells\n",
              "var notebookContainer = gd.closest('#notebook-container');\n",
              "if (notebookContainer) {{\n",
              "    x.observe(notebookContainer, {childList: true});\n",
              "}}\n",
              "\n",
              "// Listen for the clearing of the current output cell\n",
              "var outputEl = gd.closest('.output');\n",
              "if (outputEl) {{\n",
              "    x.observe(outputEl, {childList: true});\n",
              "}}\n",
              "\n",
              "                        })\n",
              "                };\n",
              "                \n",
              "            </script>\n",
              "        </div>\n",
              "</body>\n",
              "</html>"
            ]
          },
          "metadata": {
            "tags": []
          }
        }
      ]
    },
    {
      "cell_type": "markdown",
      "metadata": {
        "id": "u9jmiEf8ac0I",
        "colab_type": "text"
      },
      "source": [
        "Now, to run our PCA, let's import the library"
      ]
    },
    {
      "cell_type": "code",
      "metadata": {
        "id": "OE-6IlJrGAZy",
        "colab_type": "code",
        "colab": {}
      },
      "source": [
        "from sklearn.decomposition import PCA"
      ],
      "execution_count": 10,
      "outputs": []
    },
    {
      "cell_type": "markdown",
      "metadata": {
        "id": "cMN9yfWxaege",
        "colab_type": "text"
      },
      "source": [
        "And just like with the other machine learning stuff, we first create an instance of the PCA, then fit the data to it\n",
        "\n",
        "If we don't specify the number of components, it will just equal the number of features (or, the number of rows if you have more features than rows)"
      ]
    },
    {
      "cell_type": "code",
      "metadata": {
        "id": "DJhtQDgxIFN0",
        "colab_type": "code",
        "colab": {}
      },
      "source": [
        "pca = PCA()\n",
        "x_pca = pca.fit_transform(X2)"
      ],
      "execution_count": 32,
      "outputs": []
    },
    {
      "cell_type": "markdown",
      "metadata": {
        "id": "77-be78Salfs",
        "colab_type": "text"
      },
      "source": [
        "Now, we can actually check to see how much of the variance we account for with each eigenvector."
      ]
    },
    {
      "cell_type": "code",
      "metadata": {
        "id": "r2B1ePPAak3F",
        "colab_type": "code",
        "colab": {
          "base_uri": "https://localhost:8080/",
          "height": 34
        },
        "outputId": "8523fbc3-6585-4727-ea39-657ae9f6a22e"
      },
      "source": [
        "pca.explained_variance_ratio_"
      ],
      "execution_count": 33,
      "outputs": [
        {
          "output_type": "execute_result",
          "data": {
            "text/plain": [
              "array([0.76382345, 0.21758821, 0.01858834])"
            ]
          },
          "metadata": {
            "tags": []
          },
          "execution_count": 33
        }
      ]
    },
    {
      "cell_type": "markdown",
      "metadata": {
        "id": "qH0bkmNhUlUH",
        "colab_type": "text"
      },
      "source": [
        "If you don't normalize, you may find a result like this:"
      ]
    },
    {
      "cell_type": "code",
      "metadata": {
        "id": "x9BtznAGUgbx",
        "colab_type": "code",
        "colab": {
          "base_uri": "https://localhost:8080/",
          "height": 34
        },
        "outputId": "b7742305-4f72-49c5-ea5b-8ffd4d76102c"
      },
      "source": [
        "pca_test = PCA()\n",
        "x_pca_test = pca_test.fit_transform(X)\n",
        "pca_test.explained_variance_ratio_"
      ],
      "execution_count": 34,
      "outputs": [
        {
          "output_type": "execute_result",
          "data": {
            "text/plain": [
              "array([9.98077682e-01, 1.91561361e-03, 6.70411649e-06])"
            ]
          },
          "metadata": {
            "tags": []
          },
          "execution_count": 34
        }
      ]
    },
    {
      "cell_type": "markdown",
      "metadata": {
        "id": "sCL5KLC7bADW",
        "colab_type": "text"
      },
      "source": [
        "Wow! So, as expected, that first component basically accounts for most of the variance! and the third component doesn't account for much at all\n",
        "\n",
        "The first component may be considered our principle component"
      ]
    },
    {
      "cell_type": "markdown",
      "metadata": {
        "id": "PnsShD59bJvV",
        "colab_type": "text"
      },
      "source": [
        "We can actually visualize our eigenvectors. It helps to turn them into a dataframe"
      ]
    },
    {
      "cell_type": "code",
      "metadata": {
        "id": "1nHes97CaZcm",
        "colab_type": "code",
        "colab": {
          "base_uri": "https://localhost:8080/",
          "height": 195
        },
        "outputId": "f4ccfd0a-3560-47c5-8b30-63c2477fa63f"
      },
      "source": [
        "x_pca = pd.DataFrame(x_pca)\n",
        "x_pca.head()"
      ],
      "execution_count": 35,
      "outputs": [
        {
          "output_type": "execute_result",
          "data": {
            "text/html": [
              "<div>\n",
              "<style scoped>\n",
              "    .dataframe tbody tr th:only-of-type {\n",
              "        vertical-align: middle;\n",
              "    }\n",
              "\n",
              "    .dataframe tbody tr th {\n",
              "        vertical-align: top;\n",
              "    }\n",
              "\n",
              "    .dataframe thead th {\n",
              "        text-align: right;\n",
              "    }\n",
              "</style>\n",
              "<table border=\"1\" class=\"dataframe\">\n",
              "  <thead>\n",
              "    <tr style=\"text-align: right;\">\n",
              "      <th></th>\n",
              "      <th>0</th>\n",
              "      <th>1</th>\n",
              "      <th>2</th>\n",
              "    </tr>\n",
              "  </thead>\n",
              "  <tbody>\n",
              "    <tr>\n",
              "      <th>0</th>\n",
              "      <td>1.686977</td>\n",
              "      <td>-0.611646</td>\n",
              "      <td>0.213837</td>\n",
              "    </tr>\n",
              "    <tr>\n",
              "      <th>1</th>\n",
              "      <td>2.172098</td>\n",
              "      <td>-0.579298</td>\n",
              "      <td>0.344217</td>\n",
              "    </tr>\n",
              "    <tr>\n",
              "      <th>2</th>\n",
              "      <td>1.874638</td>\n",
              "      <td>-0.938721</td>\n",
              "      <td>0.299003</td>\n",
              "    </tr>\n",
              "    <tr>\n",
              "      <th>3</th>\n",
              "      <td>1.617206</td>\n",
              "      <td>-0.653902</td>\n",
              "      <td>0.248814</td>\n",
              "    </tr>\n",
              "    <tr>\n",
              "      <th>4</th>\n",
              "      <td>1.870656</td>\n",
              "      <td>-1.127123</td>\n",
              "      <td>0.153102</td>\n",
              "    </tr>\n",
              "  </tbody>\n",
              "</table>\n",
              "</div>"
            ],
            "text/plain": [
              "          0         1         2\n",
              "0  1.686977 -0.611646  0.213837\n",
              "1  2.172098 -0.579298  0.344217\n",
              "2  1.874638 -0.938721  0.299003\n",
              "3  1.617206 -0.653902  0.248814\n",
              "4  1.870656 -1.127123  0.153102"
            ]
          },
          "metadata": {
            "tags": []
          },
          "execution_count": 35
        }
      ]
    },
    {
      "cell_type": "markdown",
      "metadata": {
        "id": "pwJUmX9QdaN-",
        "colab_type": "text"
      },
      "source": [
        "Let's just rename them for convenience"
      ]
    },
    {
      "cell_type": "code",
      "metadata": {
        "id": "19f4tSBMSjNr",
        "colab_type": "code",
        "colab": {
          "base_uri": "https://localhost:8080/",
          "height": 195
        },
        "outputId": "4fb6f3fa-ae49-4f75-ee8e-ed3641ca6c0c"
      },
      "source": [
        "x_pca['target']=y\n",
        "x_pca.columns = ['PC1','PC2','PC3','target']\n",
        "x_pca.head()"
      ],
      "execution_count": 36,
      "outputs": [
        {
          "output_type": "execute_result",
          "data": {
            "text/html": [
              "<div>\n",
              "<style scoped>\n",
              "    .dataframe tbody tr th:only-of-type {\n",
              "        vertical-align: middle;\n",
              "    }\n",
              "\n",
              "    .dataframe tbody tr th {\n",
              "        vertical-align: top;\n",
              "    }\n",
              "\n",
              "    .dataframe thead th {\n",
              "        text-align: right;\n",
              "    }\n",
              "</style>\n",
              "<table border=\"1\" class=\"dataframe\">\n",
              "  <thead>\n",
              "    <tr style=\"text-align: right;\">\n",
              "      <th></th>\n",
              "      <th>PC1</th>\n",
              "      <th>PC2</th>\n",
              "      <th>PC3</th>\n",
              "      <th>target</th>\n",
              "    </tr>\n",
              "  </thead>\n",
              "  <tbody>\n",
              "    <tr>\n",
              "      <th>0</th>\n",
              "      <td>1.686977</td>\n",
              "      <td>-0.611646</td>\n",
              "      <td>0.213837</td>\n",
              "      <td>18.0</td>\n",
              "    </tr>\n",
              "    <tr>\n",
              "      <th>1</th>\n",
              "      <td>2.172098</td>\n",
              "      <td>-0.579298</td>\n",
              "      <td>0.344217</td>\n",
              "      <td>15.0</td>\n",
              "    </tr>\n",
              "    <tr>\n",
              "      <th>2</th>\n",
              "      <td>1.874638</td>\n",
              "      <td>-0.938721</td>\n",
              "      <td>0.299003</td>\n",
              "      <td>18.0</td>\n",
              "    </tr>\n",
              "    <tr>\n",
              "      <th>3</th>\n",
              "      <td>1.617206</td>\n",
              "      <td>-0.653902</td>\n",
              "      <td>0.248814</td>\n",
              "      <td>16.0</td>\n",
              "    </tr>\n",
              "    <tr>\n",
              "      <th>4</th>\n",
              "      <td>1.870656</td>\n",
              "      <td>-1.127123</td>\n",
              "      <td>0.153102</td>\n",
              "      <td>17.0</td>\n",
              "    </tr>\n",
              "  </tbody>\n",
              "</table>\n",
              "</div>"
            ],
            "text/plain": [
              "        PC1       PC2       PC3  target\n",
              "0  1.686977 -0.611646  0.213837    18.0\n",
              "1  2.172098 -0.579298  0.344217    15.0\n",
              "2  1.874638 -0.938721  0.299003    18.0\n",
              "3  1.617206 -0.653902  0.248814    16.0\n",
              "4  1.870656 -1.127123  0.153102    17.0"
            ]
          },
          "metadata": {
            "tags": []
          },
          "execution_count": 36
        }
      ]
    },
    {
      "cell_type": "markdown",
      "metadata": {
        "id": "kGuR-wpPkdWX",
        "colab_type": "text"
      },
      "source": [
        "Just for fun, we cna check out the eigenvectors (PC) on our data. "
      ]
    },
    {
      "cell_type": "code",
      "metadata": {
        "id": "z8gJayjTtjU4",
        "colab_type": "code",
        "colab": {
          "base_uri": "https://localhost:8080/",
          "height": 411
        },
        "outputId": "45490f21-7fd5-462a-a516-8724ce3c0854"
      },
      "source": [
        "from mpl_toolkits.mplot3d import axes3d    \n",
        "\n",
        "fig = plt.figure(figsize=(7,7))\n",
        "ax = fig.add_subplot(111, projection='3d')\n",
        "\n",
        "# plot data\n",
        "ax.scatter(X2['weight'],X2['displacement'], X2['acceleration'], alpha=0.2)\n",
        "for length, vector in zip(pca.explained_variance_, pca.components_):\n",
        "    v = vector * 3 * np.sqrt(length)\n",
        "\n",
        "    v0 = pca.mean_\n",
        "    v1 = pca.mean_ + v\n",
        "\n",
        "    ax.plot([0,v1[0]],[0,v1[1]],[0,v1[2]])\n",
        "\n",
        "ax.view_init(30, 150)"
      ],
      "execution_count": 39,
      "outputs": [
        {
          "output_type": "display_data",
          "data": {
            "image/png": "[encoded data removed]",
            "text/plain": [
              "<Figure size 504x504 with 1 Axes>"
            ]
          },
          "metadata": {
            "tags": [],
            "needs_background": "light"
          }
        }
      ]
    },
    {
      "cell_type": "markdown",
      "metadata": {
        "id": "mHN6IzzEdeel",
        "colab_type": "text"
      },
      "source": [
        "We can compare the data with the target. You'll see that the first eigenvector seems related to the target, but the others less so"
      ]
    },
    {
      "cell_type": "code",
      "metadata": {
        "id": "5qq-cNTSKnda",
        "colab_type": "code",
        "colab": {
          "base_uri": "https://localhost:8080/",
          "height": 296
        },
        "outputId": "d56448c9-afca-44cd-9122-5d8e5bd83fee"
      },
      "source": [
        "sns.scatterplot(x_pca['PC1'],x_pca['target'])"
      ],
      "execution_count": 40,
      "outputs": [
        {
          "output_type": "execute_result",
          "data": {
            "text/plain": [
              "<matplotlib.axes._subplots.AxesSubplot at 0x7f328d08c6d8>"
            ]
          },
          "metadata": {
            "tags": []
          },
          "execution_count": 40
        },
        {
          "output_type": "display_data",
          "data": {
            "image/png": "[encoded data removed]",
            "text/plain": [
              "<Figure size 432x288 with 1 Axes>"
            ]
          },
          "metadata": {
            "tags": [],
            "needs_background": "light"
          }
        }
      ]
    },
    {
      "cell_type": "markdown",
      "metadata": {
        "id": "AjQ-wciRdxvc",
        "colab_type": "text"
      },
      "source": [
        "There are other things you can do with the components. One thing you can do is principal component regression\n",
        "\n",
        "Basically, we will do regression with our components. And, given that PC1 accounts for so much of the variance, it should do a good job of fitting the data by itself"
      ]
    },
    {
      "cell_type": "code",
      "metadata": {
        "id": "A-6BK8OHd5Zp",
        "colab_type": "code",
        "colab": {}
      },
      "source": [
        "from sklearn import model_selection"
      ],
      "execution_count": 18,
      "outputs": []
    },
    {
      "cell_type": "markdown",
      "metadata": {
        "id": "CADrPlLXf_ic",
        "colab_type": "text"
      },
      "source": [
        "As we learned last week, we will use cross_validation\n",
        "\n",
        "Note that I'm using ShuffleSplit instead of the default kfold. Since kfold starts folds at the top of the data, if there is any order in your data, it can produce some funky results. "
      ]
    },
    {
      "cell_type": "code",
      "metadata": {
        "id": "P2hNqj1beL5o",
        "colab_type": "code",
        "colab": {
          "base_uri": "https://localhost:8080/",
          "height": 34
        },
        "outputId": "59206c63-4398-44a8-819a-20a95fa4af3b"
      },
      "source": [
        "model = LinearRegression() \n",
        "shufflesplit = model_selection.ShuffleSplit(n_splits=100, random_state=0)\n",
        "results = model_selection.cross_validate(model, x_pca[['PC1']], x_pca['target'],cv=shufflesplit,scoring='r2')\n",
        "print(results['test_score'].mean())"
      ],
      "execution_count": 42,
      "outputs": [
        {
          "output_type": "stream",
          "text": [
            "0.6300782831010528\n"
          ],
          "name": "stdout"
        }
      ]
    },
    {
      "cell_type": "markdown",
      "metadata": {
        "id": "IAGKtXWegXPX",
        "colab_type": "text"
      },
      "source": [
        "Cool!"
      ]
    },
    {
      "cell_type": "markdown",
      "metadata": {
        "id": "R1JJf-juhJoX",
        "colab_type": "text"
      },
      "source": [
        "In this particular example, it may not do a better job than, say, \"weight\" by itself, but this approach is especially useful in more complex datasets!"
      ]
    },
    {
      "cell_type": "code",
      "metadata": {
        "id": "2BJhXGP8g9FO",
        "colab_type": "code",
        "colab": {
          "base_uri": "https://localhost:8080/",
          "height": 34
        },
        "outputId": "ad4f2bb3-fd3e-4a2d-b7af-a835adcc621d"
      },
      "source": [
        "model = LinearRegression() \n",
        "shufflesplit = model_selection.ShuffleSplit(n_splits=100, random_state=0)\n",
        "#results = model_selection.cross_validate(model, mpg[['weight']], mpg['mpg'],cv=shufflesplit,scoring='r2')\n",
        "results = model_selection.cross_validate(model, X2[['weight']], y,cv=shufflesplit,scoring='r2')\n",
        "print(results['test_score'].mean())"
      ],
      "execution_count": 45,
      "outputs": [
        {
          "output_type": "stream",
          "text": [
            "0.6805135534291125\n"
          ],
          "name": "stdout"
        }
      ]
    },
    {
      "cell_type": "markdown",
      "metadata": {
        "id": "guZpbYN8hUmi",
        "colab_type": "text"
      },
      "source": [
        "PCA is a pretty dense and magical concept. You can do a lot more than what we have discussed here.\n",
        "\n",
        "For example, \n",
        "\n",
        "https://medium.com/@sebastiannorena/pca-principal-components-analysis-applied-to-images-of-faces-d2fc2c083371\n",
        "\n",
        "https://medium.com/lambda-school-machine-learning/principal-component-analysis-and-what-is-it-really-using-python-8f04dbdb1600"
      ]
    }
  ]
}