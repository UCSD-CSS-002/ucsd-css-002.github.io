{
 "cells": [
  {
   "cell_type": "markdown",
   "metadata": {},
   "source": [
    "# Social networks\n",
    "\n",
    "## Want to really learn about this?\n",
    "\n",
    "http://networksciencebook.com/\n",
    "\n",
    "\n",
    "## First, lets make a small social network\n",
    "\n",
    "### step 1: make a set of nodes (people)"
   ]
  },
  {
   "cell_type": "code",
   "execution_count": 6,
   "metadata": {},
   "outputs": [],
   "source": [
    "import random\n",
    "from math import log"
   ]
  },
  {
   "cell_type": "code",
   "execution_count": 16,
   "metadata": {},
   "outputs": [],
   "source": [
    "n = 10\n",
    "p = 1.1*(log(n)/n)"
   ]
  },
  {
   "cell_type": "code",
   "execution_count": 13,
   "metadata": {},
   "outputs": [],
   "source": [
    "import random\n",
    "\n",
    "with open(\"../datasets/first_names.txt\", \"r\") as f:\n",
    "    names = f.read().splitlines()\n",
    "\n",
    "names = sorted(random.sample(names, k=n))"
   ]
  },
  {
   "cell_type": "code",
   "execution_count": 207,
   "metadata": {},
   "outputs": [
    {
     "name": "stdout",
     "output_type": "stream",
     "text": [
      "['Adelia', 'Alexi', 'Alfonzo', 'Amish', 'Archie', 'Arley', 'Arlie', 'Aser', 'Ayonna', 'Benjamen', 'Branson', 'Brenner', 'Brittiney', 'Carine', 'Cezar', 'Charita', 'Cherylann', 'Chrystine', 'Courtnay', 'Dani', 'Dejan', 'Dung', 'Elnora', 'Elzabeth', 'Garth', 'Heathr', 'Hogan', 'Hunter', 'Ibeth', 'Isidore', 'Jazzmon', 'Jeanell', 'Jermika', 'Jermine', 'Jeston', 'Johndaniel', 'Jonika', 'Karisha', 'Katharine', 'Kaylor', 'Kezia', 'Kiah', 'Kizzie', 'Krystyn', 'Lakeita', 'Laria', 'Lasheika', 'Lashonda', 'Lavonte', 'Laysa', 'Leigh', 'Mareena', 'Marjorie', 'Marleny', 'Marnell', 'Marrissa', 'Mazin', 'Mccall', 'Mickaela', 'Mirranda', 'Mystique', 'Naim', 'Nashea', 'Natassja', 'Nikolaus', 'Noha', 'Patric', 'Pearlie', 'Porschia', 'Racquel', 'Raina', 'Randalyn', 'Raymund', 'Rhiannon', 'Rindy', 'Romney', 'Sabreen', 'Sabreena', 'Shaneice', 'Shaniqua', 'Shareen', 'Shawta', 'Shikita', 'Simone', 'Susanne', 'Tahara', 'Tahra', 'Tamilia', 'Ted', 'Tinesha', 'Tynetta', 'Valarie', 'Valine', 'Venetta', 'Vernonica', 'Viana', 'Vikram', 'Wafa', 'Yakov', 'Yaw']\n"
     ]
    }
   ],
   "source": [
    "print(names)"
   ]
  },
  {
   "cell_type": "markdown",
   "metadata": {},
   "source": [
    "### step 2: make edges\n",
    "\n",
    "Here we will define an Erdős-Rényi graph (ER graph) random graph, where each pair of people has some probability $p$ of having a connection."
   ]
  },
  {
   "cell_type": "code",
   "execution_count": 18,
   "metadata": {},
   "outputs": [],
   "source": [
    "edges = dict(zip(names, [[] for i in range(n)]))\n",
    "\n",
    "for i in range(n-1):\n",
    "    for j in range(i+1,n):\n",
    "        if random.random() < p:\n",
    "            # edge exists, add symmetrically\n",
    "            edges[names[i]].append(names[j])\n",
    "            edges[names[j]] += [names[i]]"
   ]
  },
  {
   "cell_type": "code",
   "execution_count": 19,
   "metadata": {},
   "outputs": [
    {
     "name": "stdout",
     "output_type": "stream",
     "text": [
      "Cade       ['Moises']\n",
      "Camry      ['Christiaan']\n",
      "Christiaan ['Camry', 'Joseangel', 'Moises', 'Sameerah', 'Shanise']\n",
      "Joseangel  ['Christiaan', 'Moises', 'Qunisha', 'Sameerah']\n",
      "Kaetlyn    ['Qunisha', 'Ronda']\n",
      "Moises     ['Cade', 'Christiaan', 'Joseangel', 'Qunisha', 'Shanise']\n",
      "Qunisha    ['Joseangel', 'Kaetlyn', 'Moises', 'Ronda']\n",
      "Ronda      ['Kaetlyn', 'Qunisha']\n",
      "Sameerah   ['Christiaan', 'Joseangel']\n",
      "Shanise    ['Christiaan', 'Moises']\n"
     ]
    }
   ],
   "source": [
    "for k,v in edges.items():\n",
    "    print(f'{k:10}', v)"
   ]
  },
  {
   "cell_type": "markdown",
   "metadata": {},
   "source": [
    "## Basic effects\n",
    "\n",
    "### Your friends have more friends than you.\n"
   ]
  },
  {
   "cell_type": "code",
   "execution_count": 20,
   "metadata": {},
   "outputs": [
    {
     "name": "stdout",
     "output_type": "stream",
     "text": [
      "Cade       has 1 friends with an average of 5.00 friends each\n",
      "Camry      has 1 friends with an average of 5.00 friends each\n",
      "Christiaan has 5 friends with an average of 2.80 friends each\n",
      "Joseangel  has 4 friends with an average of 4.00 friends each\n",
      "Kaetlyn    has 2 friends with an average of 3.00 friends each\n",
      "Moises     has 5 friends with an average of 3.20 friends each\n",
      "Qunisha    has 4 friends with an average of 3.25 friends each\n",
      "Ronda      has 2 friends with an average of 3.00 friends each\n",
      "Sameerah   has 2 friends with an average of 4.50 friends each\n",
      "Shanise    has 2 friends with an average of 5.00 friends each\n",
      "\n",
      "People have 1.07 fewer friends than the average number of friends their friends have\n"
     ]
    }
   ],
   "source": [
    "def mean(lst):  # could also `from statistics import mean`, but this is a bit faster, and thats all we need\n",
    "    return(sum(lst)/len(lst))\n",
    "\n",
    "nff_m_nf = []\n",
    "for person,friends in edges.items():\n",
    "    n_friends = len(friends)\n",
    "    print(f'{person:10} has {n_friends} friends ', end='')\n",
    "    if(n_friends > 0):\n",
    "        n_friends_per_friend = [len(edges[fr]) for fr in friends]\n",
    "        print(f'with an average of {mean(n_friends_per_friend):.2f} friends each', end='')\n",
    "        nff_m_nf.append(mean(n_friends_per_friend) - n_friends)\n",
    "    print('')\n",
    "            \n",
    "\n",
    "print(f'\\nPeople have {mean(nff_m_nf):.2f} fewer friends than the average number of friends their friends have')"
   ]
  },
  {
   "cell_type": "markdown",
   "metadata": {},
   "source": [
    "### Connectivity\n",
    "\n",
    "One basic property of graphs is connectivity: is everyone in the graph connected to everyone else?  Let's figure out if our social graph is connected.  (This is Dijkstra's algorithm)"
   ]
  },
  {
   "cell_type": "code",
   "execution_count": 21,
   "metadata": {},
   "outputs": [],
   "source": [
    "can_reach = dict()\n",
    "\n",
    "for person in names:\n",
    "    can_reach[person] = {person:0}\n",
    "    stack = [person] \n",
    "    while stack:\n",
    "        friend = stack.pop(0) # pop from front to do breadth first search \n",
    "        # using set difference to find friends of friend who \n",
    "        # we have not already seen (which would make them included in can_reach[person])\n",
    "        new_friends = set(edges[friend]).difference(can_reach[person])\n",
    "        # add new friends to stack.\n",
    "        stack.extend(new_friends)\n",
    "        # calculate steps to new friends\n",
    "        steps = can_reach[person][friend] + 1\n",
    "        # add to can_reach[person] via dict.update and dict comprehension\n",
    "        can_reach[person].update({f:steps for f in new_friends})"
   ]
  },
  {
   "cell_type": "code",
   "execution_count": 23,
   "metadata": {},
   "outputs": [
    {
     "name": "stdout",
     "output_type": "stream",
     "text": [
      "{'Cade': {'Cade': 0, 'Moises': 1, 'Joseangel': 2, 'Christiaan': 2, 'Shanise': 2, 'Qunisha': 2, 'Sameerah': 3, 'Camry': 3, 'Ronda': 3, 'Kaetlyn': 3}, 'Camry': {'Camry': 0, 'Christiaan': 1, 'Sameerah': 2, 'Joseangel': 2, 'Shanise': 2, 'Moises': 2, 'Qunisha': 3, 'Cade': 3, 'Ronda': 4, 'Kaetlyn': 4}, 'Christiaan': {'Christiaan': 0, 'Sameerah': 1, 'Joseangel': 1, 'Moises': 1, 'Camry': 1, 'Shanise': 1, 'Qunisha': 2, 'Cade': 2, 'Ronda': 3, 'Kaetlyn': 3}, 'Joseangel': {'Joseangel': 0, 'Sameerah': 1, 'Christiaan': 1, 'Moises': 1, 'Qunisha': 1, 'Shanise': 2, 'Camry': 2, 'Cade': 2, 'Ronda': 2, 'Kaetlyn': 2}, 'Kaetlyn': {'Kaetlyn': 0, 'Ronda': 1, 'Qunisha': 1, 'Joseangel': 2, 'Moises': 2, 'Sameerah': 3, 'Christiaan': 3, 'Cade': 3, 'Shanise': 3, 'Camry': 4}, 'Moises': {'Moises': 0, 'Cade': 1, 'Joseangel': 1, 'Christiaan': 1, 'Shanise': 1, 'Qunisha': 1, 'Sameerah': 2, 'Camry': 2, 'Ronda': 2, 'Kaetlyn': 2}, 'Qunisha': {'Qunisha': 0, 'Joseangel': 1, 'Ronda': 1, 'Moises': 1, 'Kaetlyn': 1, 'Sameerah': 2, 'Christiaan': 2, 'Cade': 2, 'Shanise': 2, 'Camry': 3}, 'Ronda': {'Ronda': 0, 'Qunisha': 1, 'Kaetlyn': 1, 'Joseangel': 2, 'Moises': 2, 'Sameerah': 3, 'Christiaan': 3, 'Cade': 3, 'Shanise': 3, 'Camry': 4}, 'Sameerah': {'Sameerah': 0, 'Joseangel': 1, 'Christiaan': 1, 'Moises': 2, 'Qunisha': 2, 'Shanise': 2, 'Camry': 2, 'Cade': 3, 'Ronda': 3, 'Kaetlyn': 3}, 'Shanise': {'Shanise': 0, 'Christiaan': 1, 'Moises': 1, 'Sameerah': 2, 'Joseangel': 2, 'Camry': 2, 'Cade': 2, 'Qunisha': 2, 'Ronda': 3, 'Kaetlyn': 3}}\n",
      "Cade       can reach 10/10\n",
      "Camry      can reach 10/10\n",
      "Christiaan can reach 10/10\n",
      "Joseangel  can reach 10/10\n",
      "Kaetlyn    can reach 10/10\n",
      "Moises     can reach 10/10\n",
      "Qunisha    can reach 10/10\n",
      "Ronda      can reach 10/10\n",
      "Sameerah   can reach 10/10\n",
      "Shanise    can reach 10/10\n"
     ]
    }
   ],
   "source": [
    "for k,v in can_reach.items():\n",
    "    print(f'{k:10} can reach {len(v)}/{n}')"
   ]
  },
  {
   "cell_type": "code",
   "execution_count": 217,
   "metadata": {},
   "outputs": [
    {
     "name": "stdout",
     "output_type": "stream",
     "text": [
      "Adelia     {'Adelia': 0, 'Hogan': 1, 'Marjorie': 1, 'Porschia': 1, 'Sabreena': 1, 'Mazin': 1, 'Naim': 1, 'Brenner': 1, 'Tamilia': 1, 'Patric': 1, 'Jeanell': 1, 'Susanne': 1, 'Valine': 1, 'Venetta': 1, 'Laria': 2, 'Raina': 2, 'Wafa': 2, 'Ted': 2, 'Kaylor': 2, 'Chrystine': 2, 'Jonika': 2, 'Arley': 2, 'Simone': 2, 'Archie': 2, 'Lakeita': 2, 'Leigh': 2, 'Tinesha': 2, 'Romney': 2, 'Aser': 2, 'Kizzie': 2, 'Krystyn': 2, 'Jermika': 2, 'Lasheika': 2, 'Elzabeth': 2, 'Jazzmon': 2, 'Tahra': 2, 'Isidore': 2, 'Lashonda': 2, 'Marleny': 2, 'Sabreen': 2, 'Tahara': 2, 'Ibeth': 2, 'Arlie': 2, 'Heathr': 2, 'Cezar': 2, 'Kezia': 2, 'Mareena': 2, 'Jeston': 2, 'Shikita': 2, 'Ayonna': 2, 'Dung': 2, 'Marnell': 2, 'Alfonzo': 2, 'Courtnay': 2, 'Shareen': 2, 'Lavonte': 2, 'Hunter': 2, 'Natassja': 3, 'Amish': 3, 'Shawta': 3, 'Tynetta': 3, 'Katharine': 3, 'Mickaela': 3, 'Dejan': 3, 'Shaneice': 3, 'Rhiannon': 3, 'Raymund': 3, 'Viana': 3, 'Mccall': 3, 'Mirranda': 3, 'Racquel': 3, 'Branson': 3, 'Jermine': 3, 'Elnora': 3, 'Alexi': 3, 'Benjamen': 3, 'Dani': 3, 'Brittiney': 3, 'Valarie': 3, 'Mystique': 3, 'Shaniqua': 3, 'Vikram': 3, 'Karisha': 3, 'Rindy': 3, 'Laysa': 3, 'Randalyn': 3, 'Carine': 3, 'Nikolaus': 3, 'Kiah': 3, 'Johndaniel': 3, 'Yakov': 3, 'Pearlie': 3, 'Charita': 3, 'Nashea': 3, 'Cherylann': 3, 'Vernonica': 3, 'Garth': 4}\n",
      "Alexi      {'Alexi': 0, 'Kizzie': 1, 'Nikolaus': 1, 'Archie': 1, 'Lavonte': 1, 'Tahara': 2, 'Mystique': 2, 'Leigh': 2, 'Tinesha': 2, 'Tahra': 2, 'Valarie': 2, 'Naim': 2, 'Brittiney': 2, 'Natassja': 2, 'Cezar': 2, 'Vikram': 2, 'Karisha': 2, 'Porschia': 2, 'Jermine': 2, 'Ayonna': 2, 'Lasheika': 2, 'Mareena': 2, 'Venetta': 2, 'Elnora': 2, 'Mirranda': 2, 'Susanne': 2, 'Jermika': 2, 'Carine': 3, 'Tamilia': 3, 'Shikita': 3, 'Elzabeth': 3, 'Benjamen': 3, 'Sabreena': 3, 'Wafa': 3, 'Dani': 3, 'Rindy': 3, 'Brenner': 3, 'Raymund': 3, 'Laria': 3, 'Adelia': 3, 'Krystyn': 3, 'Lakeita': 3, 'Kezia': 3, 'Aser': 3, 'Shawta': 3, 'Johndaniel': 3, 'Mickaela': 3, 'Kiah': 3, 'Valine': 3, 'Shaniqua': 3, 'Arley': 3, 'Simone': 3, 'Branson': 3, 'Alfonzo': 3, 'Jazzmon': 3, 'Katharine': 3, 'Shaneice': 3, 'Nashea': 3, 'Sabreen': 3, 'Cherylann': 3, 'Jeanell': 3, 'Shareen': 3, 'Hunter': 3, 'Patric': 3, 'Tynetta': 3, 'Pearlie': 3, 'Jonika': 3, 'Romney': 3, 'Hogan': 3, 'Marnell': 3, 'Courtnay': 3, 'Dung': 3, 'Marleny': 3, 'Garth': 4, 'Charita': 4, 'Arlie': 4, 'Ibeth': 4, 'Heathr': 4, 'Amish': 4, 'Raina': 4, 'Laysa': 4, 'Mccall': 4, 'Rhiannon': 4, 'Lashonda': 4, 'Isidore': 4, 'Chrystine': 4, 'Randalyn': 4, 'Marjorie': 4, 'Mazin': 4, 'Dejan': 4, 'Viana': 4, 'Yakov': 4, 'Racquel': 4, 'Kaylor': 4, 'Ted': 4, 'Jeston': 4, 'Vernonica': 4}\n",
      "Alfonzo    {'Alfonzo': 0, 'Jermine': 1, 'Shawta': 1, 'Romney': 1, 'Ted': 1, 'Shaneice': 1, 'Aser': 1, 'Susanne': 1, 'Mirranda': 2, 'Archie': 2, 'Branson': 2, 'Jermika': 2, 'Jazzmon': 2, 'Katharine': 2, 'Lashonda': 2, 'Cezar': 2, 'Raina': 2, 'Pearlie': 2, 'Venetta': 2, 'Tamilia': 2, 'Sabreena': 2, 'Mickaela': 2, 'Marjorie': 2, 'Kaylor': 2, 'Tynetta': 2, 'Charita': 2, 'Ibeth': 2, 'Mazin': 2, 'Dung': 2, 'Arlie': 2, 'Courtnay': 2, 'Natassja': 2, 'Hogan': 2, 'Marnell': 2, 'Ayonna': 2, 'Leigh': 2, 'Tinesha': 2, 'Shareen': 2, 'Lavonte': 2, 'Adelia': 2, 'Arley': 3, 'Porschia': 3, 'Alexi': 3, 'Lasheika': 3, 'Mareena': 3, 'Elnora': 3, 'Dejan': 3, 'Simone': 3, 'Hunter': 3, 'Karisha': 3, 'Naim': 3, 'Vikram': 3, 'Marleny': 3, 'Laysa': 3, 'Rindy': 3, 'Randalyn': 3, 'Brenner': 3, 'Patric': 3, 'Wafa': 3, 'Valine': 3, 'Jonika': 3, 'Kizzie': 3, 'Nikolaus': 3, 'Kiah': 3, 'Johndaniel': 3, 'Shikita': 3, 'Amish': 3, 'Kezia': 3, 'Rhiannon': 3, 'Dani': 3, 'Tahara': 3, 'Heathr': 3, 'Jeanell': 3, 'Chrystine': 3, 'Carine': 3, 'Jeston': 3, 'Racquel': 3, 'Benjamen': 3, 'Yakov': 3, 'Vernonica': 3, 'Viana': 3, 'Elzabeth': 3, 'Krystyn': 3, 'Laria': 3, 'Nashea': 3, 'Raymund': 3, 'Cherylann': 3, 'Sabreen': 3, 'Tahra': 3, 'Lakeita': 4, 'Mystique': 4, 'Isidore': 4, 'Shaniqua': 4, 'Mccall': 4, 'Brittiney': 4, 'Valarie': 4, 'Garth': 4}\n",
      "Amish      {'Amish': 0, 'Shikita': 1, 'Raina': 1, 'Elnora': 2, 'Jeanell': 2, 'Mystique': 2, 'Hogan': 2, 'Marnell': 2, 'Shawta': 2, 'Tynetta': 2, 'Tinesha': 3, 'Archie': 3, 'Lakeita': 3, 'Ayonna': 3, 'Dung': 3, 'Tamilia': 3, 'Jonika': 3, 'Adelia': 3, 'Kizzie': 3, 'Mareena': 3, 'Susanne': 3, 'Laria': 3, 'Sabreena': 3, 'Wafa': 3, 'Mickaela': 3, 'Kaylor': 3, 'Racquel': 3, 'Katharine': 3, 'Pearlie': 3, 'Jermika': 3, 'Alfonzo': 3, 'Lashonda': 3, 'Cezar': 3, 'Ted': 3, 'Dani': 4, 'Porschia': 4, 'Jermine': 4, 'Alexi': 4, 'Lasheika': 4, 'Venetta': 4, 'Naim': 4, 'Nashea': 4, 'Raymund': 4, 'Cherylann': 4, 'Sabreen': 4, 'Yakov': 4, 'Aser': 4, 'Vernonica': 4, 'Tahara': 4, 'Ibeth': 4, 'Romney': 4, 'Arlie': 4, 'Patric': 4, 'Heathr': 4, 'Marjorie': 4, 'Chrystine': 4, 'Hunter': 4, 'Isidore': 4, 'Mccall': 4, 'Valine': 4, 'Brenner': 4, 'Mazin': 4, 'Leigh': 4, 'Tahra': 4, 'Valarie': 4, 'Brittiney': 4, 'Natassja': 4, 'Rindy': 4, 'Jazzmon': 4, 'Courtnay': 4, 'Lavonte': 4, 'Shareen': 4, 'Kezia': 4, 'Shaneice': 4, 'Dejan': 4, 'Arley': 4, 'Laysa': 4, 'Rhiannon': 4, 'Vikram': 4, 'Karisha': 4, 'Marleny': 4, 'Nikolaus': 4, 'Kiah': 4, 'Johndaniel': 4, 'Simone': 5, 'Mirranda': 5, 'Branson': 5, 'Elzabeth': 5, 'Krystyn': 5, 'Randalyn': 5, 'Benjamen': 5, 'Carine': 5, 'Viana': 5, 'Jeston': 5, 'Charita': 5, 'Shaniqua': 5, 'Garth': 6}\n",
      "Archie     {'Archie': 0, 'Porschia': 1, 'Jermine': 1, 'Ayonna': 1, 'Alexi': 1, 'Lasheika': 1, 'Mareena': 1, 'Venetta': 1, 'Elnora': 1, 'Arley': 2, 'Simone': 2, 'Adelia': 2, 'Lakeita': 2, 'Mirranda': 2, 'Branson': 2, 'Jermika': 2, 'Jazzmon': 2, 'Alfonzo': 2, 'Katharine': 2, 'Shaneice': 2, 'Laria': 2, 'Nashea': 2, 'Sabreen': 2, 'Cherylann': 2, 'Jeanell': 2, 'Susanne': 2, 'Raymund': 2, 'Kizzie': 2, 'Nikolaus': 2, 'Lavonte': 2, 'Shareen': 2, 'Naim': 2, 'Pearlie': 2, 'Rindy': 2, 'Mystique': 2, 'Hunter': 2, 'Tynetta': 2, 'Patric': 2, 'Natassja': 2, 'Jonika': 2, 'Romney': 2, 'Shikita': 2, 'Tinesha': 2, 'Racquel': 3, 'Rhiannon': 3, 'Isidore': 3, 'Hogan': 3, 'Marjorie': 3, 'Sabreena': 3, 'Mazin': 3, 'Brenner': 3, 'Tamilia': 3, 'Valine': 3, 'Aser': 3, 'Dejan': 3, 'Shawta': 3, 'Dung': 3, 'Karisha': 3, 'Mickaela': 3, 'Vikram': 3, 'Marleny': 3, 'Ted': 3, 'Laysa': 3, 'Randalyn': 3, 'Wafa': 3, 'Marnell': 3, 'Kaylor': 3, 'Charita': 3, 'Ibeth': 3, 'Tahra': 3, 'Benjamen': 3, 'Mccall': 3, 'Leigh': 3, 'Courtnay': 3, 'Chrystine': 3, 'Brittiney': 3, 'Tahara': 3, 'Valarie': 3, 'Cezar': 3, 'Jeston': 3, 'Elzabeth': 3, 'Krystyn': 3, 'Kezia': 3, 'Dani': 3, 'Arlie': 3, 'Kiah': 3, 'Viana': 3, 'Raina': 3, 'Lashonda': 3, 'Amish': 3, 'Shaniqua': 4, 'Heathr': 4, 'Yakov': 4, 'Vernonica': 4, 'Carine': 4, 'Johndaniel': 4, 'Garth': 5}\n",
      "Arley      {'Arley': 0, 'Mirranda': 1, 'Porschia': 1, 'Racquel': 1, 'Aser': 2, 'Jermine': 2, 'Lavonte': 2, 'Adelia': 2, 'Simone': 2, 'Archie': 2, 'Lakeita': 2, 'Kezia': 2, 'Laysa': 2, 'Ibeth': 2, 'Marnell': 2, 'Alfonzo': 3, 'Mazin': 3, 'Dung': 3, 'Arlie': 3, 'Courtnay': 3, 'Natassja': 3, 'Branson': 3, 'Jermika': 3, 'Jazzmon': 3, 'Katharine': 3, 'Shaneice': 3, 'Susanne': 3, 'Tahra': 3, 'Venetta': 3, 'Alexi': 3, 'Hogan': 3, 'Marjorie': 3, 'Sabreena': 3, 'Naim': 3, 'Brenner': 3, 'Tamilia': 3, 'Patric': 3, 'Jeanell': 3, 'Valine': 3, 'Rhiannon': 3, 'Isidore': 3, 'Sabreen': 3, 'Elnora': 3, 'Ayonna': 3, 'Mareena': 3, 'Lasheika': 3, 'Yakov': 3, 'Kaylor': 3, 'Pearlie': 3, 'Benjamen': 3, 'Jonika': 3, 'Mickaela': 3, 'Laria': 3, 'Raina': 3, 'Ted': 4, 'Shawta': 4, 'Romney': 4, 'Vernonica': 4, 'Rindy': 4, 'Dejan': 4, 'Viana': 4, 'Elzabeth': 4, 'Krystyn': 4, 'Kizzie': 4, 'Dani': 4, 'Vikram': 4, 'Hunter': 4, 'Karisha': 4, 'Marleny': 4, 'Randalyn': 4, 'Wafa': 4, 'Charita': 4, 'Leigh': 4, 'Tinesha': 4, 'Shareen': 4, 'Raymund': 4, 'Nikolaus': 4, 'Chrystine': 4, 'Lashonda': 4, 'Tahara': 4, 'Heathr': 4, 'Cezar': 4, 'Jeston': 4, 'Shikita': 4, 'Mccall': 4, 'Shaniqua': 4, 'Tynetta': 4, 'Nashea': 4, 'Cherylann': 4, 'Mystique': 4, 'Kiah': 4, 'Johndaniel': 4, 'Amish': 4, 'Brittiney': 5, 'Valarie': 5, 'Carine': 5, 'Garth': 6}\n",
      "Arlie      {'Arlie': 0, 'Rindy': 1, 'Tamilia': 1, 'Viana': 1, 'Dejan': 1, 'Aser': 1, 'Rhiannon': 2, 'Pearlie': 2, 'Jazzmon': 2, 'Tahra': 2, 'Mareena': 2, 'Tahara': 2, 'Ibeth': 2, 'Jermika': 2, 'Romney': 2, 'Patric': 2, 'Heathr': 2, 'Jeanell': 2, 'Adelia': 2, 'Cezar': 2, 'Hunter': 2, 'Chrystine': 2, 'Jeston': 2, 'Krystyn': 2, 'Kaylor': 2, 'Branson': 2, 'Mirranda': 2, 'Alfonzo': 2, 'Mazin': 2, 'Dung': 2, 'Courtnay': 2, 'Natassja': 2, 'Mccall': 3, 'Simone': 3, 'Shaniqua': 3, 'Kezia': 3, 'Dani': 3, 'Shawta': 3, 'Jermine': 3, 'Laysa': 3, 'Randalyn': 3, 'Ted': 3, 'Brenner': 3, 'Wafa': 3, 'Susanne': 3, 'Valine': 3, 'Kizzie': 3, 'Laria': 3, 'Karisha': 3, 'Raymund': 3, 'Lavonte': 3, 'Archie': 3, 'Tynetta': 3, 'Mystique': 3, 'Carine': 3, 'Racquel': 3, 'Shaneice': 3, 'Jonika': 3, 'Benjamen': 3, 'Mickaela': 3, 'Vikram': 3, 'Marleny': 3, 'Naim': 3, 'Venetta': 3, 'Katharine': 3, 'Sabreena': 3, 'Shikita': 3, 'Ayonna': 3, 'Hogan': 3, 'Porschia': 3, 'Marjorie': 3, 'Leigh': 3, 'Nikolaus': 3, 'Kiah': 3, 'Johndaniel': 3, 'Charita': 3, 'Isidore': 3, 'Shareen': 3, 'Marnell': 3, 'Arley': 3, 'Yakov': 3, 'Vernonica': 3, 'Elzabeth': 3, 'Cherylann': 4, 'Sabreen': 4, 'Tinesha': 4, 'Lashonda': 4, 'Raina': 4, 'Brittiney': 4, 'Valarie': 4, 'Alexi': 4, 'Elnora': 4, 'Lasheika': 4, 'Garth': 4, 'Lakeita': 4, 'Amish': 4, 'Nashea': 4}\n",
      "Aser       {'Aser': 0, 'Mirranda': 1, 'Alfonzo': 1, 'Mazin': 1, 'Dung': 1, 'Arlie': 1, 'Courtnay': 1, 'Natassja': 1, 'Jermine': 2, 'Arley': 2, 'Lavonte': 2, 'Shawta': 2, 'Romney': 2, 'Ted': 2, 'Shaneice': 2, 'Susanne': 2, 'Adelia': 2, 'Yakov': 2, 'Jermika': 2, 'Jeanell': 2, 'Vernonica': 2, 'Rindy': 2, 'Tamilia': 2, 'Dejan': 2, 'Viana': 2, 'Elzabeth': 2, 'Krystyn': 2, 'Kezia': 2, 'Kizzie': 2, 'Dani': 2, 'Laria': 2, 'Mareena': 2, 'Jazzmon': 3, 'Archie': 3, 'Katharine': 3, 'Branson': 3, 'Porschia': 3, 'Racquel': 3, 'Tahra': 3, 'Venetta': 3, 'Alexi': 3, 'Lashonda': 3, 'Cezar': 3, 'Raina': 3, 'Pearlie': 3, 'Sabreena': 3, 'Mickaela': 3, 'Marjorie': 3, 'Kaylor': 3, 'Tynetta': 3, 'Charita': 3, 'Ibeth': 3, 'Hogan': 3, 'Marnell': 3, 'Ayonna': 3, 'Leigh': 3, 'Tinesha': 3, 'Shareen': 3, 'Brenner': 3, 'Valine': 3, 'Patric': 3, 'Naim': 3, 'Kiah': 3, 'Johndaniel': 3, 'Vikram': 3, 'Hunter': 3, 'Karisha': 3, 'Marleny': 3, 'Shikita': 3, 'Jonika': 3, 'Mccall': 3, 'Rhiannon': 3, 'Tahara': 3, 'Heathr': 3, 'Chrystine': 3, 'Jeston': 3, 'Shaniqua': 3, 'Brittiney': 3, 'Valarie': 3, 'Mystique': 3, 'Raymund': 3, 'Laysa': 4, 'Randalyn': 4, 'Wafa': 4, 'Elnora': 4, 'Lasheika': 4, 'Simone': 4, 'Lakeita': 4, 'Nikolaus': 4, 'Amish': 4, 'Carine': 4, 'Benjamen': 4, 'Nashea': 4, 'Cherylann': 4, 'Sabreen': 4, 'Isidore': 4, 'Garth': 5}\n",
      "Ayonna     {'Ayonna': 0, 'Archie': 1, 'Katharine': 1, 'Laria': 1, 'Nashea': 1, 'Cherylann': 1, 'Jeanell': 1, 'Sabreen': 1, 'Susanne': 1, 'Raymund': 1, 'Porschia': 2, 'Jermine': 2, 'Alexi': 2, 'Lasheika': 2, 'Mareena': 2, 'Venetta': 2, 'Elnora': 2, 'Marnell': 2, 'Romney': 2, 'Wafa': 2, 'Hogan': 2, 'Tahra': 2, 'Natassja': 2, 'Mccall': 2, 'Shikita': 2, 'Dung': 2, 'Tamilia': 2, 'Jonika': 2, 'Adelia': 2, 'Brenner': 2, 'Simone': 2, 'Benjamen': 2, 'Leigh': 2, 'Alfonzo': 2, 'Jazzmon': 2, 'Tinesha': 2, 'Courtnay': 2, 'Shareen': 2, 'Lavonte': 2, 'Chrystine': 2, 'Randalyn': 2, 'Arley': 3, 'Lakeita': 3, 'Mirranda': 3, 'Jermika': 3, 'Shaneice': 3, 'Branson': 3, 'Kizzie': 3, 'Nikolaus': 3, 'Naim': 3, 'Pearlie': 3, 'Rindy': 3, 'Mystique': 3, 'Hunter': 3, 'Tynetta': 3, 'Patric': 3, 'Mickaela': 3, 'Kaylor': 3, 'Racquel': 3, 'Raina': 3, 'Sabreena': 3, 'Karisha': 3, 'Kezia': 3, 'Aser': 3, 'Dani': 3, 'Rhiannon': 3, 'Johndaniel': 3, 'Vernonica': 3, 'Amish': 3, 'Yakov': 3, 'Tahara': 3, 'Ibeth': 3, 'Arlie': 3, 'Heathr': 3, 'Cezar': 3, 'Marjorie': 3, 'Lashonda': 3, 'Isidore': 3, 'Valine': 3, 'Mazin': 3, 'Marleny': 3, 'Kiah': 3, 'Laysa': 3, 'Elzabeth': 3, 'Ted': 3, 'Shawta': 3, 'Krystyn': 3, 'Jeston': 3, 'Viana': 3, 'Vikram': 4, 'Charita': 4, 'Dejan': 4, 'Brittiney': 4, 'Valarie': 4, 'Shaniqua': 4, 'Carine': 4, 'Garth': 5}\n",
      "Benjamen   {'Benjamen': 0, 'Laysa': 1, 'Ibeth': 1, 'Leigh': 1, 'Kiah': 1, 'Sabreen': 1, 'Jazzmon': 2, 'Racquel': 2, 'Tamilia': 2, 'Shaneice': 2, 'Jonika': 2, 'Kizzie': 2, 'Sabreena': 2, 'Elzabeth': 2, 'Wafa': 2, 'Susanne': 2, 'Cezar': 2, 'Yakov': 2, 'Hunter': 2, 'Brenner': 2, 'Simone': 2, 'Ayonna': 2, 'Jermine': 3, 'Rindy': 3, 'Ted': 3, 'Patric': 3, 'Randalyn': 3, 'Valine': 3, 'Kezia': 3, 'Arley': 3, 'Marnell': 3, 'Tahara': 3, 'Jermika': 3, 'Romney': 3, 'Arlie': 3, 'Heathr': 3, 'Jeanell': 3, 'Adelia': 3, 'Kaylor': 3, 'Alfonzo': 3, 'Charita': 3, 'Marjorie': 3, 'Chrystine': 3, 'Lashonda': 3, 'Isidore': 3, 'Mccall': 3, 'Venetta': 3, 'Alexi': 3, 'Mystique': 3, 'Tinesha': 3, 'Tahra': 3, 'Valarie': 3, 'Naim': 3, 'Brittiney': 3, 'Natassja': 3, 'Hogan': 3, 'Courtnay': 3, 'Katharine': 3, 'Lavonte': 3, 'Shareen': 3, 'Mickaela': 3, 'Nikolaus': 3, 'Shawta': 3, 'Johndaniel': 3, 'Dung': 3, 'Mareena': 3, 'Marleny': 3, 'Viana': 3, 'Porschia': 3, 'Rhiannon': 3, 'Branson': 3, 'Archie': 3, 'Laria': 3, 'Nashea': 3, 'Cherylann': 3, 'Raymund': 3, 'Mirranda': 4, 'Pearlie': 4, 'Tynetta': 4, 'Jeston': 4, 'Raina': 4, 'Carine': 4, 'Vikram': 4, 'Karisha': 4, 'Dejan': 4, 'Aser': 4, 'Shikita': 4, 'Mazin': 4, 'Krystyn': 4, 'Dani': 4, 'Vernonica': 4, 'Elnora': 4, 'Lakeita': 4, 'Lasheika': 4, 'Shaniqua': 4, 'Amish': 5, 'Garth': 5}\n",
      "Branson    {'Branson': 0, 'Dejan': 1, 'Jermine': 1, 'Simone': 1, 'Kaylor': 2, 'Arlie': 2, 'Krystyn': 2, 'Viana': 2, 'Mirranda': 2, 'Archie': 2, 'Jermika': 2, 'Alfonzo': 2, 'Jazzmon': 2, 'Katharine': 2, 'Shaneice': 2, 'Porschia': 2, 'Rhiannon': 2, 'Isidore': 2, 'Sabreen': 2, 'Kezia': 3, 'Marjorie': 3, 'Ted': 3, 'Marnell': 3, 'Rindy': 3, 'Aser': 3, 'Tamilia': 3, 'Chrystine': 3, 'Shaniqua': 3, 'Courtnay': 3, 'Naim': 3, 'Hunter': 3, 'Jeston': 3, 'Arley': 3, 'Lavonte': 3, 'Ayonna': 3, 'Alexi': 3, 'Lasheika': 3, 'Mareena': 3, 'Venetta': 3, 'Elnora': 3, 'Shawta': 3, 'Dung': 3, 'Karisha': 3, 'Mickaela': 3, 'Vikram': 3, 'Marleny': 3, 'Susanne': 3, 'Romney': 3, 'Laysa': 3, 'Wafa': 3, 'Brenner': 3, 'Patric': 3, 'Randalyn': 3, 'Valine': 3, 'Charita': 3, 'Ibeth': 3, 'Adelia': 3, 'Lakeita': 3, 'Mccall': 3, 'Pearlie': 3, 'Jonika': 3, 'Benjamen': 3, 'Yakov': 4, 'Racquel': 4, 'Natassja': 4, 'Tynetta': 4, 'Laria': 4, 'Raina': 4, 'Tahra': 4, 'Mazin': 4, 'Cezar': 4, 'Tahara': 4, 'Heathr': 4, 'Jeanell': 4, 'Raymund': 4, 'Elzabeth': 4, 'Kizzie': 4, 'Kiah': 4, 'Shareen': 4, 'Nashea': 4, 'Cherylann': 4, 'Nikolaus': 4, 'Mystique': 4, 'Shikita': 4, 'Tinesha': 4, 'Lashonda': 4, 'Vernonica': 4, 'Dani': 4, 'Hogan': 4, 'Leigh': 4, 'Sabreena': 4, 'Carine': 4, 'Johndaniel': 4, 'Amish': 5, 'Brittiney': 5, 'Valarie': 5, 'Garth': 5}\n",
      "Brenner    {'Brenner': 0, 'Jazzmon': 1, 'Lashonda': 1, 'Isidore': 1, 'Tahra': 1, 'Marleny': 1, 'Sabreen': 1, 'Valine': 1, 'Adelia': 1, 'Jermine': 2, 'Laysa': 2, 'Rindy': 2, 'Randalyn': 2, 'Ted': 2, 'Patric': 2, 'Wafa': 2, 'Susanne': 2, 'Jonika': 2, 'Shawta': 2, 'Simone': 2, 'Jeston': 2, 'Kizzie': 2, 'Laria': 2, 'Karisha': 2, 'Raymund': 2, 'Lavonte': 2, 'Jermika': 2, 'Hunter': 2, 'Dani': 2, 'Ayonna': 2, 'Benjamen': 2, 'Kezia': 2, 'Cezar': 2, 'Hogan': 2, 'Porschia': 2, 'Marjorie': 2, 'Sabreena': 2, 'Mazin': 2, 'Naim': 2, 'Tamilia': 2, 'Jeanell': 2, 'Venetta': 2, 'Mirranda': 3, 'Archie': 3, 'Branson': 3, 'Alfonzo': 3, 'Katharine': 3, 'Shaneice': 3, 'Racquel': 3, 'Rhiannon': 3, 'Arlie': 3, 'Mareena': 3, 'Pearlie': 3, 'Mickaela': 3, 'Kaylor': 3, 'Tynetta': 3, 'Leigh': 3, 'Tinesha': 3, 'Marnell': 3, 'Courtnay': 3, 'Shareen': 3, 'Mccall': 3, 'Chrystine': 3, 'Ibeth': 3, 'Raina': 3, 'Charita': 3, 'Viana': 3, 'Tahara': 3, 'Alexi': 3, 'Mystique': 3, 'Valarie': 3, 'Brittiney': 3, 'Natassja': 3, 'Nikolaus': 3, 'Vikram': 3, 'Dung': 3, 'Kiah': 3, 'Nashea': 3, 'Cherylann': 3, 'Yakov': 3, 'Johndaniel': 3, 'Arley': 3, 'Lakeita': 3, 'Romney': 3, 'Aser': 3, 'Elzabeth': 3, 'Krystyn': 3, 'Lasheika': 3, 'Heathr': 3, 'Shikita': 3, 'Elnora': 4, 'Dejan': 4, 'Shaniqua': 4, 'Vernonica': 4, 'Amish': 4, 'Carine': 4, 'Garth': 5}\n",
      "Brittiney  {'Brittiney': 0, 'Kizzie': 1, 'Tahara': 2, 'Alexi': 2, 'Mystique': 2, 'Leigh': 2, 'Tinesha': 2, 'Tahra': 2, 'Valarie': 2, 'Naim': 2, 'Natassja': 2, 'Cezar': 2, 'Carine': 3, 'Tamilia': 3, 'Nikolaus': 3, 'Archie': 3, 'Lavonte': 3, 'Shikita': 3, 'Mareena': 3, 'Sabreena': 3, 'Wafa': 3, 'Elzabeth': 3, 'Susanne': 3, 'Benjamen': 3, 'Dani': 3, 'Elnora': 3, 'Rindy': 3, 'Laria': 3, 'Karisha': 3, 'Brenner': 3, 'Raymund': 3, 'Krystyn': 3, 'Jermika': 3, 'Lakeita': 3, 'Lasheika': 3, 'Adelia': 3, 'Kezia': 3, 'Aser': 3, 'Shawta': 3, 'Johndaniel': 3, 'Mickaela': 3, 'Kiah': 3, 'Valine': 3, 'Garth': 4, 'Charita': 4, 'Ibeth': 4, 'Romney': 4, 'Arlie': 4, 'Patric': 4, 'Heathr': 4, 'Jeanell': 4, 'Vikram': 4, 'Porschia': 4, 'Jermine': 4, 'Ayonna': 4, 'Venetta': 4, 'Mirranda': 4, 'Amish': 4, 'Raina': 4, 'Hunter': 4, 'Tynetta': 4, 'Pearlie': 4, 'Hogan': 4, 'Jazzmon': 4, 'Katharine': 4, 'Courtnay': 4, 'Alfonzo': 4, 'Marnell': 4, 'Shareen': 4, 'Laysa': 4, 'Sabreen': 4, 'Mccall': 4, 'Marleny': 4, 'Rhiannon': 4, 'Lashonda': 4, 'Isidore': 4, 'Chrystine': 4, 'Randalyn': 4, 'Dejan': 4, 'Shaniqua': 4, 'Viana': 4, 'Dung': 4, 'Marjorie': 4, 'Mazin': 4, 'Yakov': 4, 'Racquel': 4, 'Kaylor': 4, 'Ted': 4, 'Shaneice': 5, 'Jeston': 5, 'Jonika': 5, 'Arley': 5, 'Simone': 5, 'Branson': 5, 'Nashea': 5, 'Cherylann': 5, 'Vernonica': 5}\n",
      "Carine     {'Carine': 0, 'Garth': 1, 'Charita': 1, 'Tahara': 1, 'Shaneice': 2, 'Jeston': 2, 'Kizzie': 2, 'Tamilia': 2, 'Kaylor': 3, 'Jermine': 3, 'Alfonzo': 3, 'Ibeth': 3, 'Isidore': 3, 'Patric': 3, 'Shareen': 3, 'Viana': 3, 'Alexi': 3, 'Mystique': 3, 'Leigh': 3, 'Tinesha': 3, 'Tahra': 3, 'Valarie': 3, 'Naim': 3, 'Brittiney': 3, 'Natassja': 3, 'Cezar': 3, 'Jermika': 3, 'Romney': 3, 'Arlie': 3, 'Heathr': 3, 'Jeanell': 3, 'Adelia': 3, 'Kezia': 4, 'Marjorie': 4, 'Marnell': 4, 'Ted': 4, 'Dejan': 4, 'Mirranda': 4, 'Archie': 4, 'Branson': 4, 'Jazzmon': 4, 'Katharine': 4, 'Aser': 4, 'Susanne': 4, 'Shawta': 4, 'Racquel': 4, 'Jonika': 4, 'Benjamen': 4, 'Brenner': 4, 'Simone': 4, 'Mareena': 4, 'Lasheika': 4, 'Hunter': 4, 'Chrystine': 4, 'Krystyn': 4, 'Nikolaus': 4, 'Lavonte': 4, 'Shikita': 4, 'Elzabeth': 4, 'Sabreena': 4, 'Wafa': 4, 'Dani': 4, 'Elnora': 4, 'Rindy': 4, 'Raymund': 4, 'Laria': 4, 'Karisha': 4, 'Lakeita': 4, 'Mickaela': 4, 'Kiah': 4, 'Valine': 4, 'Johndaniel': 4, 'Vikram': 4, 'Dung': 4, 'Marleny': 4, 'Venetta': 4, 'Ayonna': 4, 'Hogan': 4, 'Mazin': 4, 'Porschia': 4, 'Yakov': 5, 'Pearlie': 5, 'Raina': 5, 'Tynetta': 5, 'Arley': 5, 'Laysa': 5, 'Randalyn': 5, 'Courtnay': 5, 'Lashonda': 5, 'Mccall': 5, 'Sabreen': 5, 'Rhiannon': 5, 'Shaniqua': 5, 'Amish': 5, 'Vernonica': 5, 'Nashea': 5, 'Cherylann': 5}\n",
      "Cezar      {'Cezar': 0, 'Kizzie': 1, 'Nikolaus': 1, 'Leigh': 1, 'Shawta': 1, 'Johndaniel': 1, 'Mickaela': 1, 'Kiah': 1, 'Tamilia': 1, 'Valine': 1, 'Tahara': 2, 'Alexi': 2, 'Mystique': 2, 'Tinesha': 2, 'Tahra': 2, 'Valarie': 2, 'Naim': 2, 'Brittiney': 2, 'Natassja': 2, 'Vikram': 2, 'Karisha': 2, 'Sabreena': 2, 'Wafa': 2, 'Elzabeth': 2, 'Susanne': 2, 'Benjamen': 2, 'Raina': 2, 'Pearlie': 2, 'Jermika': 2, 'Alfonzo': 2, 'Lashonda': 2, 'Yakov': 2, 'Mccall': 2, 'Ted': 2, 'Marnell': 2, 'Hunter': 2, 'Ibeth': 2, 'Romney': 2, 'Arlie': 2, 'Patric': 2, 'Heathr': 2, 'Jeanell': 2, 'Adelia': 2, 'Kezia': 2, 'Jazzmon': 2, 'Brenner': 2, 'Carine': 3, 'Archie': 3, 'Lavonte': 3, 'Shikita': 3, 'Mareena': 3, 'Dani': 3, 'Elnora': 3, 'Rindy': 3, 'Raymund': 3, 'Laria': 3, 'Krystyn': 3, 'Lakeita': 3, 'Lasheika': 3, 'Aser': 3, 'Shaniqua': 3, 'Hogan': 3, 'Katharine': 3, 'Courtnay': 3, 'Ayonna': 3, 'Shareen': 3, 'Laysa': 3, 'Sabreen': 3, 'Amish': 3, 'Tynetta': 3, 'Rhiannon': 3, 'Jermine': 3, 'Dung': 3, 'Marleny': 3, 'Shaneice': 3, 'Jonika': 3, 'Cherylann': 3, 'Vernonica': 3, 'Marjorie': 3, 'Kaylor': 3, 'Racquel': 3, 'Venetta': 3, 'Viana': 3, 'Dejan': 3, 'Jeston': 3, 'Porschia': 3, 'Mazin': 3, 'Randalyn': 3, 'Isidore': 3, 'Garth': 4, 'Charita': 4, 'Mirranda': 4, 'Chrystine': 4, 'Nashea': 4, 'Simone': 4, 'Branson': 4, 'Arley': 4}\n",
      "Charita    {'Charita': 0, 'Carine': 1, 'Shaneice': 1, 'Jeston': 1, 'Garth': 2, 'Tahara': 2, 'Kaylor': 2, 'Jermine': 2, 'Alfonzo': 2, 'Ibeth': 2, 'Isidore': 2, 'Patric': 2, 'Shareen': 2, 'Viana': 2, 'Kizzie': 3, 'Tamilia': 3, 'Kezia': 3, 'Marjorie': 3, 'Marnell': 3, 'Ted': 3, 'Dejan': 3, 'Mirranda': 3, 'Archie': 3, 'Branson': 3, 'Jermika': 3, 'Jazzmon': 3, 'Katharine': 3, 'Aser': 3, 'Susanne': 3, 'Shawta': 3, 'Romney': 3, 'Racquel': 3, 'Jonika': 3, 'Benjamen': 3, 'Brenner': 3, 'Simone': 3, 'Mareena': 3, 'Adelia': 3, 'Lasheika': 3, 'Hunter': 3, 'Chrystine': 3, 'Krystyn': 3, 'Arlie': 3, 'Alexi': 4, 'Mystique': 4, 'Leigh': 4, 'Tinesha': 4, 'Tahra': 4, 'Valarie': 4, 'Naim': 4, 'Brittiney': 4, 'Natassja': 4, 'Cezar': 4, 'Heathr': 4, 'Jeanell': 4, 'Yakov': 4, 'Valine': 4, 'Pearlie': 4, 'Mickaela': 4, 'Laria': 4, 'Raina': 4, 'Tynetta': 4, 'Arley': 4, 'Lavonte': 4, 'Porschia': 4, 'Ayonna': 4, 'Venetta': 4, 'Elnora': 4, 'Vikram': 4, 'Dung': 4, 'Karisha': 4, 'Marleny': 4, 'Rindy': 4, 'Laysa': 4, 'Randalyn': 4, 'Wafa': 4, 'Mazin': 4, 'Courtnay': 4, 'Hogan': 4, 'Lashonda': 4, 'Sabreena': 4, 'Mccall': 4, 'Kiah': 4, 'Sabreen': 4, 'Rhiannon': 4, 'Raymund': 4, 'Shaniqua': 4, 'Nikolaus': 5, 'Shikita': 5, 'Elzabeth': 5, 'Dani': 5, 'Lakeita': 5, 'Johndaniel': 5, 'Amish': 5, 'Nashea': 5, 'Cherylann': 5, 'Vernonica': 5}\n",
      "Cherylann  {'Cherylann': 0, 'Mccall': 1, 'Ayonna': 1, 'Rhiannon': 2, 'Dani': 2, 'Johndaniel': 2, 'Jonika': 2, 'Vernonica': 2, 'Archie': 2, 'Laria': 2, 'Katharine': 2, 'Nashea': 2, 'Jeanell': 2, 'Sabreen': 2, 'Susanne': 2, 'Raymund': 2, 'Chrystine': 3, 'Pearlie': 3, 'Rindy': 3, 'Shaniqua': 3, 'Simone': 3, 'Vikram': 3, 'Tinesha': 3, 'Natassja': 3, 'Marleny': 3, 'Yakov': 3, 'Cezar': 3, 'Marjorie': 3, 'Ibeth': 3, 'Lashonda': 3, 'Hunter': 3, 'Isidore': 3, 'Venetta': 3, 'Dung': 3, 'Porschia': 3, 'Jermine': 3, 'Alexi': 3, 'Lasheika': 3, 'Mareena': 3, 'Elnora': 3, 'Hogan': 3, 'Tahra': 3, 'Marnell': 3, 'Romney': 3, 'Wafa': 3, 'Shikita': 3, 'Tamilia': 3, 'Adelia': 3, 'Brenner': 3, 'Benjamen': 3, 'Leigh': 3, 'Alfonzo': 3, 'Jazzmon': 3, 'Courtnay': 3, 'Shareen': 3, 'Lavonte': 3, 'Randalyn': 3, 'Krystyn': 4, 'Viana': 4, 'Kezia': 4, 'Shawta': 4, 'Arlie': 4, 'Branson': 4, 'Jermika': 4, 'Nikolaus': 4, 'Kizzie': 4, 'Sabreena': 4, 'Aser': 4, 'Kiah': 4, 'Mickaela': 4, 'Valine': 4, 'Ted': 4, 'Kaylor': 4, 'Racquel': 4, 'Shaneice': 4, 'Jeston': 4, 'Arley': 4, 'Lakeita': 4, 'Mirranda': 4, 'Naim': 4, 'Patric': 4, 'Tynetta': 4, 'Mystique': 4, 'Raina': 4, 'Karisha': 4, 'Amish': 4, 'Tahara': 4, 'Heathr': 4, 'Mazin': 4, 'Laysa': 4, 'Elzabeth': 4, 'Dejan': 5, 'Brittiney': 5, 'Valarie': 5, 'Charita': 5, 'Carine': 5, 'Garth': 6}\n",
      "Chrystine  {'Chrystine': 0, 'Marjorie': 1, 'Rhiannon': 1, 'Krystyn': 1, 'Jonika': 1, 'Viana': 1, 'Raymund': 1, 'Ted': 2, 'Kaylor': 2, 'Adelia': 2, 'Pearlie': 2, 'Rindy': 2, 'Shaniqua': 2, 'Mccall': 2, 'Simone': 2, 'Dejan': 2, 'Courtnay': 2, 'Naim': 2, 'Ibeth': 2, 'Lashonda': 2, 'Hunter': 2, 'Isidore': 2, 'Jeanell': 2, 'Venetta': 2, 'Arlie': 2, 'Jeston': 2, 'Tahra': 2, 'Ayonna': 2, 'Mareena': 2, 'Randalyn': 2, 'Mickaela': 3, 'Alfonzo': 3, 'Jazzmon': 3, 'Tynetta': 3, 'Kezia': 3, 'Marnell': 3, 'Shaneice': 3, 'Hogan': 3, 'Porschia': 3, 'Sabreena': 3, 'Mazin': 3, 'Brenner': 3, 'Tamilia': 3, 'Patric': 3, 'Susanne': 3, 'Valine': 3, 'Dani': 3, 'Shawta': 3, 'Vikram': 3, 'Vernonica': 3, 'Johndaniel': 3, 'Cherylann': 3, 'Sabreen': 3, 'Branson': 3, 'Aser': 3, 'Elzabeth': 3, 'Kizzie': 3, 'Jermika': 3, 'Lakeita': 3, 'Lasheika': 3, 'Racquel': 3, 'Benjamen': 3, 'Kiah': 3, 'Marleny': 3, 'Shikita': 3, 'Dung': 3, 'Archie': 3, 'Romney': 3, 'Lavonte': 3, 'Charita': 3, 'Shareen': 3, 'Laria': 3, 'Karisha': 3, 'Nashea': 3, 'Katharine': 3, 'Natassja': 3, 'Mystique': 3, 'Cezar': 4, 'Jermine': 4, 'Laysa': 4, 'Wafa': 4, 'Raina': 4, 'Elnora': 4, 'Yakov': 4, 'Arley': 4, 'Leigh': 4, 'Tinesha': 4, 'Tahara': 4, 'Heathr': 4, 'Nikolaus': 4, 'Mirranda': 4, 'Brittiney': 4, 'Valarie': 4, 'Alexi': 4, 'Amish': 4, 'Carine': 4, 'Garth': 5}\n",
      "Courtnay   {'Courtnay': 0, 'Aser': 1, 'Susanne': 1, 'Krystyn': 1, 'Elzabeth': 1, 'Mirranda': 2, 'Alfonzo': 2, 'Mazin': 2, 'Dung': 2, 'Arlie': 2, 'Natassja': 2, 'Hogan': 2, 'Marnell': 2, 'Ayonna': 2, 'Leigh': 2, 'Jazzmon': 2, 'Tinesha': 2, 'Shareen': 2, 'Lavonte': 2, 'Adelia': 2, 'Chrystine': 2, 'Naim': 2, 'Shaniqua': 2, 'Viana': 2, 'Dejan': 2, 'Jermine': 3, 'Arley': 3, 'Ted': 3, 'Shaneice': 3, 'Shawta': 3, 'Romney': 3, 'Yakov': 3, 'Jermika': 3, 'Jeanell': 3, 'Vernonica': 3, 'Rindy': 3, 'Tamilia': 3, 'Kezia': 3, 'Kizzie': 3, 'Dani': 3, 'Laria': 3, 'Mareena': 3, 'Raina': 3, 'Sabreena': 3, 'Wafa': 3, 'Mickaela': 3, 'Kaylor': 3, 'Racquel': 3, 'Katharine': 3, 'Archie': 3, 'Nashea': 3, 'Cherylann': 3, 'Sabreen': 3, 'Raymund': 3, 'Cezar': 3, 'Benjamen': 3, 'Laysa': 3, 'Brenner': 3, 'Patric': 3, 'Randalyn': 3, 'Valine': 3, 'Elnora': 3, 'Jeston': 3, 'Lasheika': 3, 'Tahra': 3, 'Venetta': 3, 'Alexi': 3, 'Marjorie': 3, 'Porschia': 3, 'Rhiannon': 3, 'Jonika': 3, 'Lakeita': 3, 'Vikram': 3, 'Hunter': 3, 'Branson': 3, 'Tynetta': 4, 'Charita': 4, 'Ibeth': 4, 'Lashonda': 4, 'Pearlie': 4, 'Kiah': 4, 'Johndaniel': 4, 'Karisha': 4, 'Marleny': 4, 'Shikita': 4, 'Mccall': 4, 'Tahara': 4, 'Heathr': 4, 'Brittiney': 4, 'Valarie': 4, 'Mystique': 4, 'Amish': 4, 'Simone': 4, 'Nikolaus': 4, 'Isidore': 4, 'Carine': 5, 'Garth': 6}\n",
      "Dani       {'Dani': 0, 'Pearlie': 1, 'Tinesha': 1, 'Vikram': 1, 'Marleny': 1, 'Mccall': 1, 'Natassja': 1, 'Kezia': 2, 'Rhiannon': 2, 'Rindy': 2, 'Shawta': 2, 'Mareena': 2, 'Kizzie': 2, 'Sabreena': 2, 'Wafa': 2, 'Susanne': 2, 'Elnora': 2, 'Jermika': 2, 'Nikolaus': 2, 'Shaniqua': 2, 'Brenner': 2, 'Hunter': 2, 'Vernonica': 2, 'Jonika': 2, 'Johndaniel': 2, 'Cherylann': 2, 'Aser': 2, 'Laria': 2, 'Yakov': 3, 'Racquel': 3, 'Patric': 3, 'Kaylor': 3, 'Valine': 3, 'Chrystine': 3, 'Simone': 3, 'Jazzmon': 3, 'Tahra': 3, 'Arlie': 3, 'Alfonzo': 3, 'Lashonda': 3, 'Raina': 3, 'Cezar': 3, 'Raymund': 3, 'Archie': 3, 'Tynetta': 3, 'Mystique': 3, 'Tahara': 3, 'Alexi': 3, 'Leigh': 3, 'Valarie': 3, 'Naim': 3, 'Brittiney': 3, 'Hogan': 3, 'Romney': 3, 'Adelia': 3, 'Katharine': 3, 'Marnell': 3, 'Ayonna': 3, 'Courtnay': 3, 'Shareen': 3, 'Lavonte': 3, 'Shikita': 3, 'Lakeita': 3, 'Jermine': 3, 'Dung': 3, 'Karisha': 3, 'Mickaela': 3, 'Tamilia': 3, 'Krystyn': 3, 'Isidore': 3, 'Sabreen': 3, 'Kiah': 3, 'Venetta': 3, 'Viana': 3, 'Marjorie': 3, 'Ibeth': 3, 'Jeanell': 3, 'Mirranda': 3, 'Mazin': 3, 'Arley': 4, 'Laysa': 4, 'Jeston': 4, 'Ted': 4, 'Shaneice': 4, 'Dejan': 4, 'Porschia': 4, 'Branson': 4, 'Randalyn': 4, 'Amish': 4, 'Lasheika': 4, 'Carine': 4, 'Elzabeth': 4, 'Benjamen': 4, 'Nashea': 4, 'Heathr': 4, 'Charita': 5, 'Garth': 5}\n",
      "Dejan      {'Dejan': 0, 'Krystyn': 1, 'Branson': 1, 'Arlie': 1, 'Viana': 1, 'Kaylor': 1, 'Chrystine': 2, 'Shaniqua': 2, 'Courtnay': 2, 'Naim': 2, 'Jermine': 2, 'Simone': 2, 'Rindy': 2, 'Aser': 2, 'Tamilia': 2, 'Hunter': 2, 'Jeston': 2, 'Kezia': 2, 'Marjorie': 2, 'Marnell': 2, 'Ted': 2, 'Shaneice': 2, 'Rhiannon': 3, 'Raymund': 3, 'Jonika': 3, 'Vikram': 3, 'Susanne': 3, 'Elzabeth': 3, 'Kizzie': 3, 'Jermika': 3, 'Lakeita': 3, 'Lasheika': 3, 'Adelia': 3, 'Mirranda': 3, 'Archie': 3, 'Alfonzo': 3, 'Jazzmon': 3, 'Katharine': 3, 'Porschia': 3, 'Isidore': 3, 'Sabreen': 3, 'Tahra': 3, 'Mareena': 3, 'Pearlie': 3, 'Natassja': 3, 'Mazin': 3, 'Dung': 3, 'Tahara': 3, 'Ibeth': 3, 'Romney': 3, 'Patric': 3, 'Heathr': 3, 'Jeanell': 3, 'Cezar': 3, 'Venetta': 3, 'Kiah': 3, 'Marleny': 3, 'Charita': 3, 'Shareen': 3, 'Yakov': 3, 'Racquel': 3, 'Valine': 3, 'Mickaela': 3, 'Laria': 3, 'Raina': 3, 'Tynetta': 3, 'Mccall': 4, 'Ayonna': 4, 'Randalyn': 4, 'Lashonda': 4, 'Nikolaus': 4, 'Dani': 4, 'Hogan': 4, 'Tinesha': 4, 'Lavonte': 4, 'Leigh': 4, 'Alexi': 4, 'Brittiney': 4, 'Valarie': 4, 'Mystique': 4, 'Shawta': 4, 'Karisha': 4, 'Elnora': 4, 'Brenner': 4, 'Sabreena': 4, 'Arley': 4, 'Laysa': 4, 'Wafa': 4, 'Benjamen': 4, 'Vernonica': 4, 'Carine': 4, 'Shikita': 4, 'Johndaniel': 4, 'Amish': 4, 'Cherylann': 5, 'Nashea': 5, 'Garth': 5}\n",
      "Dung       {'Dung': 0, 'Yakov': 1, 'Jermika': 1, 'Jeanell': 1, 'Aser': 1, 'Vernonica': 1, 'Kezia': 2, 'Kiah': 2, 'Johndaniel': 2, 'Jermine': 2, 'Hunter': 2, 'Shawta': 2, 'Karisha': 2, 'Naim': 2, 'Mickaela': 2, 'Vikram': 2, 'Tamilia': 2, 'Marleny': 2, 'Lavonte': 2, 'Shikita': 2, 'Jonika': 2, 'Ayonna': 2, 'Adelia': 2, 'Mirranda': 2, 'Alfonzo': 2, 'Mazin': 2, 'Arlie': 2, 'Courtnay': 2, 'Natassja': 2, 'Mccall': 2, 'Pearlie': 3, 'Racquel': 3, 'Patric': 3, 'Kaylor': 3, 'Valine': 3, 'Benjamen': 3, 'Cezar': 3, 'Archie': 3, 'Branson': 3, 'Jazzmon': 3, 'Katharine': 3, 'Shaneice': 3, 'Mareena': 3, 'Venetta': 3, 'Viana': 3, 'Lashonda': 3, 'Raina': 3, 'Nikolaus': 3, 'Tahra': 3, 'Kizzie': 3, 'Krystyn': 3, 'Lakeita': 3, 'Lasheika': 3, 'Elzabeth': 3, 'Ted': 3, 'Marnell': 3, 'Dani': 3, 'Shaniqua': 3, 'Romney': 3, 'Tahara': 3, 'Ibeth': 3, 'Heathr': 3, 'Brenner': 3, 'Susanne': 3, 'Alexi': 3, 'Elnora': 3, 'Amish': 3, 'Mystique': 3, 'Marjorie': 3, 'Chrystine': 3, 'Isidore': 3, 'Laria': 3, 'Nashea': 3, 'Cherylann': 3, 'Sabreen': 3, 'Raymund': 3, 'Hogan': 3, 'Sabreena': 3, 'Porschia': 3, 'Arley': 3, 'Rindy': 3, 'Dejan': 3, 'Rhiannon': 3, 'Laysa': 4, 'Jeston': 4, 'Leigh': 4, 'Simone': 4, 'Randalyn': 4, 'Wafa': 4, 'Charita': 4, 'Tynetta': 4, 'Tinesha': 4, 'Valarie': 4, 'Brittiney': 4, 'Shareen': 4, 'Carine': 4, 'Garth': 5}\n",
      "Elnora     {'Elnora': 0, 'Archie': 1, 'Shikita': 1, 'Tinesha': 1, 'Lakeita': 1, 'Tynetta': 1, 'Porschia': 2, 'Jermine': 2, 'Ayonna': 2, 'Alexi': 2, 'Lasheika': 2, 'Mareena': 2, 'Venetta': 2, 'Jeanell': 2, 'Amish': 2, 'Raina': 2, 'Mystique': 2, 'Kizzie': 2, 'Dani': 2, 'Sabreena': 2, 'Wafa': 2, 'Susanne': 2, 'Naim': 2, 'Ted': 2, 'Arley': 3, 'Simone': 3, 'Adelia': 3, 'Mirranda': 3, 'Branson': 3, 'Jermika': 3, 'Jazzmon': 3, 'Alfonzo': 3, 'Katharine': 3, 'Shaneice': 3, 'Laria': 3, 'Nashea': 3, 'Cherylann': 3, 'Sabreen': 3, 'Raymund': 3, 'Nikolaus': 3, 'Lavonte': 3, 'Shareen': 3, 'Pearlie': 3, 'Rindy': 3, 'Hunter': 3, 'Patric': 3, 'Natassja': 3, 'Jonika': 3, 'Romney': 3, 'Tamilia': 3, 'Dung': 3, 'Hogan': 3, 'Marnell': 3, 'Shawta': 3, 'Tahara': 3, 'Leigh': 3, 'Tahra': 3, 'Valarie': 3, 'Brittiney': 3, 'Cezar': 3, 'Vikram': 3, 'Mccall': 3, 'Marleny': 3, 'Courtnay': 3, 'Elzabeth': 3, 'Krystyn': 3, 'Mickaela': 3, 'Marjorie': 3, 'Kaylor': 3, 'Racquel': 4, 'Rhiannon': 4, 'Isidore': 4, 'Valine': 4, 'Brenner': 4, 'Mazin': 4, 'Aser': 4, 'Dejan': 4, 'Karisha': 4, 'Laysa': 4, 'Randalyn': 4, 'Charita': 4, 'Ibeth': 4, 'Benjamen': 4, 'Chrystine': 4, 'Jeston': 4, 'Kezia': 4, 'Arlie': 4, 'Kiah': 4, 'Viana': 4, 'Lashonda': 4, 'Heathr': 4, 'Yakov': 4, 'Vernonica': 4, 'Carine': 4, 'Johndaniel': 4, 'Shaniqua': 4, 'Garth': 5}\n",
      "Elzabeth   {'Elzabeth': 0, 'Leigh': 1, 'Courtnay': 1, 'Naim': 1, 'Kizzie': 2, 'Sabreena': 2, 'Cezar': 2, 'Wafa': 2, 'Susanne': 2, 'Benjamen': 2, 'Aser': 2, 'Krystyn': 2, 'Jermika': 2, 'Adelia': 2, 'Lakeita': 2, 'Lasheika': 2, 'Tahara': 3, 'Alexi': 3, 'Mystique': 3, 'Tinesha': 3, 'Tahra': 3, 'Valarie': 3, 'Brittiney': 3, 'Natassja': 3, 'Hogan': 3, 'Romney': 3, 'Nikolaus': 3, 'Shawta': 3, 'Johndaniel': 3, 'Mickaela': 3, 'Kiah': 3, 'Tamilia': 3, 'Valine': 3, 'Jazzmon': 3, 'Katharine': 3, 'Marnell': 3, 'Ayonna': 3, 'Alfonzo': 3, 'Shareen': 3, 'Lavonte': 3, 'Laysa': 3, 'Ibeth': 3, 'Sabreen': 3, 'Mirranda': 3, 'Arlie': 3, 'Mazin': 3, 'Dung': 3, 'Dejan': 3, 'Chrystine': 3, 'Shaniqua': 3, 'Viana': 3, 'Jermine': 3, 'Hunter': 3, 'Karisha': 3, 'Vikram': 3, 'Marleny': 3, 'Marjorie': 3, 'Porschia': 3, 'Brenner': 3, 'Patric': 3, 'Jeanell': 3, 'Venetta': 3, 'Elnora': 3, 'Archie': 3, 'Carine': 4, 'Shikita': 4, 'Mareena': 4, 'Dani': 4, 'Rindy': 4, 'Raymund': 4, 'Laria': 4, 'Kezia': 4, 'Raina': 4, 'Lashonda': 4, 'Pearlie': 4, 'Yakov': 4, 'Mccall': 4, 'Ted': 4, 'Heathr': 4, 'Randalyn': 4, 'Kaylor': 4, 'Racquel': 4, 'Nashea': 4, 'Cherylann': 4, 'Shaneice': 4, 'Jeston': 4, 'Jonika': 4, 'Simone': 4, 'Arley': 4, 'Vernonica': 4, 'Branson': 4, 'Rhiannon': 4, 'Isidore': 4, 'Tynetta': 4, 'Garth': 5, 'Charita': 5, 'Amish': 5}\n",
      "Garth      {'Garth': 0, 'Carine': 1, 'Charita': 2, 'Tahara': 2, 'Shaneice': 3, 'Jeston': 3, 'Kizzie': 3, 'Tamilia': 3, 'Kaylor': 4, 'Jermine': 4, 'Alfonzo': 4, 'Ibeth': 4, 'Isidore': 4, 'Patric': 4, 'Shareen': 4, 'Viana': 4, 'Alexi': 4, 'Mystique': 4, 'Leigh': 4, 'Tinesha': 4, 'Tahra': 4, 'Valarie': 4, 'Naim': 4, 'Brittiney': 4, 'Natassja': 4, 'Cezar': 4, 'Jermika': 4, 'Romney': 4, 'Arlie': 4, 'Heathr': 4, 'Jeanell': 4, 'Adelia': 4, 'Kezia': 5, 'Marjorie': 5, 'Marnell': 5, 'Ted': 5, 'Dejan': 5, 'Mirranda': 5, 'Archie': 5, 'Branson': 5, 'Jazzmon': 5, 'Katharine': 5, 'Aser': 5, 'Susanne': 5, 'Shawta': 5, 'Racquel': 5, 'Jonika': 5, 'Benjamen': 5, 'Brenner': 5, 'Simone': 5, 'Mareena': 5, 'Lasheika': 5, 'Hunter': 5, 'Chrystine': 5, 'Krystyn': 5, 'Nikolaus': 5, 'Lavonte': 5, 'Shikita': 5, 'Elzabeth': 5, 'Sabreena': 5, 'Wafa': 5, 'Dani': 5, 'Elnora': 5, 'Rindy': 5, 'Raymund': 5, 'Laria': 5, 'Karisha': 5, 'Lakeita': 5, 'Mickaela': 5, 'Kiah': 5, 'Valine': 5, 'Johndaniel': 5, 'Vikram': 5, 'Dung': 5, 'Marleny': 5, 'Venetta': 5, 'Ayonna': 5, 'Hogan': 5, 'Mazin': 5, 'Porschia': 5, 'Yakov': 6, 'Pearlie': 6, 'Raina': 6, 'Tynetta': 6, 'Arley': 6, 'Laysa': 6, 'Randalyn': 6, 'Courtnay': 6, 'Lashonda': 6, 'Mccall': 6, 'Sabreen': 6, 'Rhiannon': 6, 'Shaniqua': 6, 'Amish': 6, 'Vernonica': 6, 'Nashea': 6, 'Cherylann': 6}\n",
      "Heathr     {'Heathr': 0, 'Tamilia': 1, 'Tahara': 2, 'Ibeth': 2, 'Jermika': 2, 'Romney': 2, 'Arlie': 2, 'Patric': 2, 'Jeanell': 2, 'Adelia': 2, 'Cezar': 2, 'Kizzie': 3, 'Carine': 3, 'Racquel': 3, 'Shaneice': 3, 'Jonika': 3, 'Benjamen': 3, 'Jermine': 3, 'Hunter': 3, 'Shawta': 3, 'Dung': 3, 'Karisha': 3, 'Naim': 3, 'Mickaela': 3, 'Vikram': 3, 'Marleny': 3, 'Lavonte': 3, 'Venetta': 3, 'Alfonzo': 3, 'Katharine': 3, 'Sabreena': 3, 'Rindy': 3, 'Aser': 3, 'Dejan': 3, 'Viana': 3, 'Kezia': 3, 'Jazzmon': 3, 'Mareena': 3, 'Jeston': 3, 'Shikita': 3, 'Ayonna': 3, 'Hogan': 3, 'Porschia': 3, 'Marjorie': 3, 'Mazin': 3, 'Brenner': 3, 'Susanne': 3, 'Valine': 3, 'Leigh': 3, 'Nikolaus': 3, 'Kiah': 3, 'Johndaniel': 3, 'Alexi': 4, 'Mystique': 4, 'Tinesha': 4, 'Tahra': 4, 'Valarie': 4, 'Brittiney': 4, 'Natassja': 4, 'Garth': 4, 'Charita': 4, 'Arley': 4, 'Laysa': 4, 'Marnell': 4, 'Kaylor': 4, 'Mccall': 4, 'Lashonda': 4, 'Chrystine': 4, 'Isidore': 4, 'Sabreen': 4, 'Mirranda': 4, 'Archie': 4, 'Branson': 4, 'Raina': 4, 'Pearlie': 4, 'Yakov': 4, 'Vernonica': 4, 'Elzabeth': 4, 'Krystyn': 4, 'Lakeita': 4, 'Lasheika': 4, 'Ted': 4, 'Dani': 4, 'Shaniqua': 4, 'Wafa': 4, 'Rhiannon': 4, 'Courtnay': 4, 'Randalyn': 4, 'Raymund': 4, 'Tynetta': 4, 'Shareen': 4, 'Amish': 4, 'Elnora': 4, 'Nashea': 4, 'Laria': 4, 'Cherylann': 4, 'Simone': 4}\n",
      "Hogan      {'Hogan': 0, 'Raina': 1, 'Sabreena': 1, 'Laria': 1, 'Wafa': 1, 'Susanne': 1, 'Adelia': 1, 'Marnell': 2, 'Shikita': 2, 'Shawta': 2, 'Tynetta': 2, 'Amish': 2, 'Leigh': 2, 'Tinesha': 2, 'Romney': 2, 'Natassja': 2, 'Tahra': 2, 'Ayonna': 2, 'Jazzmon': 2, 'Katharine': 2, 'Alfonzo': 2, 'Courtnay': 2, 'Lavonte': 2, 'Shareen': 2, 'Marjorie': 2, 'Porschia': 2, 'Mazin': 2, 'Naim': 2, 'Brenner': 2, 'Tamilia': 2, 'Patric': 2, 'Jeanell': 2, 'Valine': 2, 'Venetta': 2, 'Mickaela': 3, 'Kaylor': 3, 'Racquel': 3, 'Elnora': 3, 'Mystique': 3, 'Jermika': 3, 'Cezar': 3, 'Lashonda': 3, 'Pearlie': 3, 'Ted': 3, 'Mareena': 3, 'Kizzie': 3, 'Elzabeth': 3, 'Benjamen': 3, 'Dani': 3, 'Kezia': 3, 'Aser': 3, 'Rindy': 3, 'Raymund': 3, 'Karisha': 3, 'Nashea': 3, 'Archie': 3, 'Cherylann': 3, 'Sabreen': 3, 'Jermine': 3, 'Laysa': 3, 'Randalyn': 3, 'Shaneice': 3, 'Krystyn': 3, 'Mirranda': 3, 'Alexi': 3, 'Jeston': 3, 'Lasheika': 3, 'Chrystine': 3, 'Jonika': 3, 'Arley': 3, 'Simone': 3, 'Lakeita': 3, 'Isidore': 3, 'Marleny': 3, 'Arlie': 3, 'Tahara': 3, 'Ibeth': 3, 'Heathr': 3, 'Dung': 3, 'Hunter': 3, 'Dejan': 4, 'Vikram': 4, 'Nikolaus': 4, 'Kiah': 4, 'Johndaniel': 4, 'Rhiannon': 4, 'Brittiney': 4, 'Valarie': 4, 'Mccall': 4, 'Yakov': 4, 'Branson': 4, 'Charita': 4, 'Shaniqua': 4, 'Viana': 4, 'Carine': 4, 'Vernonica': 4, 'Garth': 5}\n",
      "Hunter     {'Hunter': 0, 'Jermika': 1, 'Kiah': 1, 'Jonika': 1, 'Marleny': 1, 'Viana': 1, 'Mareena': 1, 'Venetta': 1, 'Jermine': 2, 'Shawta': 2, 'Dung': 2, 'Karisha': 2, 'Naim': 2, 'Mickaela': 2, 'Vikram': 2, 'Tamilia': 2, 'Lavonte': 2, 'Yakov': 2, 'Benjamen': 2, 'Cezar': 2, 'Marjorie': 2, 'Chrystine': 2, 'Ibeth': 2, 'Lashonda': 2, 'Isidore': 2, 'Jeanell': 2, 'Mccall': 2, 'Brenner': 2, 'Dani': 2, 'Dejan': 2, 'Jeston': 2, 'Krystyn': 2, 'Arlie': 2, 'Archie': 2, 'Pearlie': 2, 'Rindy': 2, 'Mystique': 2, 'Tynetta': 2, 'Patric': 2, 'Raymund': 2, 'Natassja': 2, 'Romney': 2, 'Adelia': 2, 'Mirranda': 3, 'Branson': 3, 'Alfonzo': 3, 'Jazzmon': 3, 'Katharine': 3, 'Shaneice': 3, 'Raina': 3, 'Aser': 3, 'Vernonica': 3, 'Nikolaus': 3, 'Tahra': 3, 'Kizzie': 3, 'Elzabeth': 3, 'Lakeita': 3, 'Lasheika': 3, 'Ted': 3, 'Marnell': 3, 'Shaniqua': 3, 'Tahara': 3, 'Heathr': 3, 'Susanne': 3, 'Alexi': 3, 'Kezia': 3, 'Johndaniel': 3, 'Leigh': 3, 'Laysa': 3, 'Sabreen': 3, 'Valine': 3, 'Kaylor': 3, 'Rhiannon': 3, 'Racquel': 3, 'Simone': 3, 'Shikita': 3, 'Ayonna': 3, 'Cherylann': 3, 'Tinesha': 3, 'Charita': 3, 'Shareen': 3, 'Courtnay': 3, 'Porschia': 3, 'Elnora': 3, 'Randalyn': 3, 'Laria': 3, 'Sabreena': 3, 'Hogan': 3, 'Mazin': 3, 'Arley': 4, 'Wafa': 4, 'Amish': 4, 'Brittiney': 4, 'Valarie': 4, 'Carine': 4, 'Nashea': 4, 'Garth': 5}\n",
      "Ibeth      {'Ibeth': 0, 'Racquel': 1, 'Tamilia': 1, 'Shaneice': 1, 'Jonika': 1, 'Benjamen': 1, 'Kezia': 2, 'Arley': 2, 'Laysa': 2, 'Marnell': 2, 'Tahara': 2, 'Jermika': 2, 'Romney': 2, 'Arlie': 2, 'Patric': 2, 'Heathr': 2, 'Jeanell': 2, 'Adelia': 2, 'Cezar': 2, 'Kaylor': 2, 'Jermine': 2, 'Charita': 2, 'Alfonzo': 2, 'Marjorie': 2, 'Chrystine': 2, 'Lashonda': 2, 'Hunter': 2, 'Isidore': 2, 'Mccall': 2, 'Venetta': 2, 'Leigh': 2, 'Kiah': 2, 'Sabreen': 2, 'Yakov': 3, 'Natassja': 3, 'Valine': 3, 'Pearlie': 3, 'Mirranda': 3, 'Porschia': 3, 'Jazzmon': 3, 'Raina': 3, 'Katharine': 3, 'Laria': 3, 'Mickaela': 3, 'Susanne': 3, 'Kizzie': 3, 'Carine': 3, 'Shawta': 3, 'Dung': 3, 'Karisha': 3, 'Naim': 3, 'Vikram': 3, 'Marleny': 3, 'Lavonte': 3, 'Sabreena': 3, 'Rindy': 3, 'Aser': 3, 'Dejan': 3, 'Viana': 3, 'Mareena': 3, 'Jeston': 3, 'Shikita': 3, 'Ayonna': 3, 'Hogan': 3, 'Brenner': 3, 'Mazin': 3, 'Nikolaus': 3, 'Johndaniel': 3, 'Ted': 3, 'Archie': 3, 'Branson': 3, 'Rhiannon': 3, 'Raymund': 3, 'Krystyn': 3, 'Simone': 3, 'Dani': 3, 'Cherylann': 3, 'Vernonica': 3, 'Elzabeth': 3, 'Wafa': 3, 'Lakeita': 4, 'Randalyn': 4, 'Amish': 4, 'Tynetta': 4, 'Tahra': 4, 'Tinesha': 4, 'Courtnay': 4, 'Shareen': 4, 'Alexi': 4, 'Brittiney': 4, 'Valarie': 4, 'Mystique': 4, 'Garth': 4, 'Lasheika': 4, 'Shaniqua': 4, 'Elnora': 4, 'Nashea': 4}\n",
      "Isidore    {'Isidore': 0, 'Brenner': 1, 'Simone': 1, 'Jonika': 1, 'Jeston': 1, 'Jazzmon': 2, 'Tahra': 2, 'Lashonda': 2, 'Marleny': 2, 'Sabreen': 2, 'Valine': 2, 'Adelia': 2, 'Porschia': 2, 'Rhiannon': 2, 'Branson': 2, 'Marjorie': 2, 'Chrystine': 2, 'Ibeth': 2, 'Hunter': 2, 'Jeanell': 2, 'Mccall': 2, 'Venetta': 2, 'Charita': 2, 'Patric': 2, 'Shareen': 2, 'Viana': 2, 'Jermine': 3, 'Laysa': 3, 'Rindy': 3, 'Randalyn': 3, 'Ted': 3, 'Wafa': 3, 'Susanne': 3, 'Kizzie': 3, 'Laria': 3, 'Karisha': 3, 'Raymund': 3, 'Lavonte': 3, 'Shawta': 3, 'Jermika': 3, 'Dani': 3, 'Ayonna': 3, 'Benjamen': 3, 'Kezia': 3, 'Cezar': 3, 'Hogan': 3, 'Sabreena': 3, 'Mazin': 3, 'Naim': 3, 'Tamilia': 3, 'Arley': 3, 'Archie': 3, 'Lakeita': 3, 'Shaniqua': 3, 'Pearlie': 3, 'Dejan': 3, 'Kaylor': 3, 'Krystyn': 3, 'Racquel': 3, 'Shaneice': 3, 'Kiah': 3, 'Mareena': 3, 'Shikita': 3, 'Dung': 3, 'Vernonica': 3, 'Johndaniel': 3, 'Cherylann': 3, 'Romney': 3, 'Carine': 3, 'Lasheika': 3, 'Arlie': 3, 'Mirranda': 4, 'Alfonzo': 4, 'Katharine': 4, 'Mickaela': 4, 'Tynetta': 4, 'Leigh': 4, 'Tinesha': 4, 'Marnell': 4, 'Courtnay': 4, 'Tahara': 4, 'Alexi': 4, 'Mystique': 4, 'Valarie': 4, 'Brittiney': 4, 'Natassja': 4, 'Nikolaus': 4, 'Raina': 4, 'Vikram': 4, 'Nashea': 4, 'Yakov': 4, 'Aser': 4, 'Elzabeth': 4, 'Heathr': 4, 'Elnora': 4, 'Amish': 4, 'Garth': 4}\n",
      "Jazzmon    {'Jazzmon': 0, 'Jermine': 1, 'Laysa': 1, 'Wafa': 1, 'Rindy': 1, 'Ted': 1, 'Brenner': 1, 'Patric': 1, 'Randalyn': 1, 'Susanne': 1, 'Valine': 1, 'Mirranda': 2, 'Archie': 2, 'Branson': 2, 'Jermika': 2, 'Alfonzo': 2, 'Katharine': 2, 'Shaneice': 2, 'Racquel': 2, 'Benjamen': 2, 'Hogan': 2, 'Tinesha': 2, 'Leigh': 2, 'Rhiannon': 2, 'Pearlie': 2, 'Tahra': 2, 'Arlie': 2, 'Mareena': 2, 'Mickaela': 2, 'Marjorie': 2, 'Kaylor': 2, 'Tynetta': 2, 'Lashonda': 2, 'Isidore': 2, 'Marleny': 2, 'Sabreen': 2, 'Adelia': 2, 'Kezia': 2, 'Tamilia': 2, 'Jeston': 2, 'Raymund': 2, 'Marnell': 2, 'Ayonna': 2, 'Courtnay': 2, 'Shareen': 2, 'Lavonte': 2, 'Cezar': 2, 'Aser': 3, 'Arley': 3, 'Porschia': 3, 'Alexi': 3, 'Lasheika': 3, 'Venetta': 3, 'Elnora': 3, 'Dejan': 3, 'Simone': 3, 'Hunter': 3, 'Shawta': 3, 'Dung': 3, 'Karisha': 3, 'Naim': 3, 'Vikram': 3, 'Romney': 3, 'Charita': 3, 'Ibeth': 3, 'Kiah': 3, 'Laria': 3, 'Raina': 3, 'Sabreena': 3, 'Kizzie': 3, 'Dani': 3, 'Elzabeth': 3, 'Mccall': 3, 'Chrystine': 3, 'Shaniqua': 3, 'Viana': 3, 'Natassja': 3, 'Mystique': 3, 'Jonika': 3, 'Mazin': 3, 'Jeanell': 3, 'Yakov': 3, 'Tahara': 3, 'Heathr': 3, 'Nashea': 3, 'Cherylann': 3, 'Krystyn': 3, 'Nikolaus': 3, 'Johndaniel': 3, 'Lakeita': 4, 'Shikita': 4, 'Vernonica': 4, 'Carine': 4, 'Amish': 4, 'Brittiney': 4, 'Valarie': 4, 'Garth': 5}\n",
      "Jeanell    {'Jeanell': 0, 'Ayonna': 1, 'Shikita': 1, 'Dung': 1, 'Tamilia': 1, 'Jonika': 1, 'Adelia': 1, 'Archie': 2, 'Laria': 2, 'Katharine': 2, 'Nashea': 2, 'Cherylann': 2, 'Sabreen': 2, 'Susanne': 2, 'Raymund': 2, 'Elnora': 2, 'Amish': 2, 'Raina': 2, 'Mystique': 2, 'Yakov': 2, 'Jermika': 2, 'Aser': 2, 'Vernonica': 2, 'Tahara': 2, 'Ibeth': 2, 'Romney': 2, 'Arlie': 2, 'Patric': 2, 'Heathr': 2, 'Cezar': 2, 'Marjorie': 2, 'Chrystine': 2, 'Lashonda': 2, 'Hunter': 2, 'Isidore': 2, 'Mccall': 2, 'Venetta': 2, 'Hogan': 2, 'Porschia': 2, 'Sabreena': 2, 'Mazin': 2, 'Naim': 2, 'Brenner': 2, 'Valine': 2, 'Jermine': 3, 'Mareena': 3, 'Lasheika': 3, 'Alexi': 3, 'Tahra': 3, 'Marnell': 3, 'Natassja': 3, 'Wafa': 3, 'Simone': 3, 'Benjamen': 3, 'Leigh': 3, 'Alfonzo': 3, 'Jazzmon': 3, 'Tinesha': 3, 'Courtnay': 3, 'Shareen': 3, 'Lavonte': 3, 'Randalyn': 3, 'Lakeita': 3, 'Tynetta': 3, 'Shawta': 3, 'Kizzie': 3, 'Kezia': 3, 'Kiah': 3, 'Johndaniel': 3, 'Mickaela': 3, 'Vikram': 3, 'Karisha': 3, 'Marleny': 3, 'Mirranda': 3, 'Carine': 3, 'Racquel': 3, 'Shaneice': 3, 'Rindy': 3, 'Dejan': 3, 'Viana': 3, 'Jeston': 3, 'Nikolaus': 3, 'Ted': 3, 'Kaylor': 3, 'Rhiannon': 3, 'Krystyn': 3, 'Dani': 3, 'Arley': 3, 'Elzabeth': 3, 'Branson': 4, 'Pearlie': 4, 'Laysa': 4, 'Brittiney': 4, 'Valarie': 4, 'Shaniqua': 4, 'Garth': 4, 'Charita': 4}\n",
      "Jermika    {'Jermika': 0, 'Jermine': 1, 'Hunter': 1, 'Shawta': 1, 'Dung': 1, 'Karisha': 1, 'Naim': 1, 'Mickaela': 1, 'Vikram': 1, 'Tamilia': 1, 'Marleny': 1, 'Lavonte': 1, 'Mirranda': 2, 'Archie': 2, 'Branson': 2, 'Alfonzo': 2, 'Jazzmon': 2, 'Katharine': 2, 'Shaneice': 2, 'Kiah': 2, 'Jonika': 2, 'Viana': 2, 'Mareena': 2, 'Venetta': 2, 'Lashonda': 2, 'Cezar': 2, 'Raina': 2, 'Pearlie': 2, 'Yakov': 2, 'Aser': 2, 'Jeanell': 2, 'Vernonica': 2, 'Nikolaus': 2, 'Tahra': 2, 'Kizzie': 2, 'Krystyn': 2, 'Lakeita': 2, 'Lasheika': 2, 'Elzabeth': 2, 'Adelia': 2, 'Ted': 2, 'Marnell': 2, 'Dani': 2, 'Shaniqua': 2, 'Tahara': 2, 'Ibeth': 2, 'Romney': 2, 'Arlie': 2, 'Patric': 2, 'Heathr': 2, 'Brenner': 2, 'Susanne': 2, 'Alexi': 2, 'Arley': 3, 'Porschia': 3, 'Ayonna': 3, 'Elnora': 3, 'Dejan': 3, 'Simone': 3, 'Laysa': 3, 'Wafa': 3, 'Rindy': 3, 'Randalyn': 3, 'Valine': 3, 'Kaylor': 3, 'Charita': 3, 'Benjamen': 3, 'Marjorie': 3, 'Chrystine': 3, 'Isidore': 3, 'Mccall': 3, 'Jeston': 3, 'Raymund': 3, 'Natassja': 3, 'Tynetta': 3, 'Mystique': 3, 'Leigh': 3, 'Johndaniel': 3, 'Hogan': 3, 'Shikita': 3, 'Amish': 3, 'Kezia': 3, 'Rhiannon': 3, 'Mazin': 3, 'Courtnay': 3, 'Laria': 3, 'Tinesha': 3, 'Valarie': 3, 'Brittiney': 3, 'Shareen': 3, 'Sabreena': 3, 'Racquel': 3, 'Carine': 3, 'Sabreen': 3, 'Nashea': 4, 'Cherylann': 4, 'Garth': 4}\n",
      "Jermine    {'Jermine': 0, 'Mirranda': 1, 'Archie': 1, 'Branson': 1, 'Jermika': 1, 'Alfonzo': 1, 'Jazzmon': 1, 'Katharine': 1, 'Shaneice': 1, 'Aser': 2, 'Arley': 2, 'Lavonte': 2, 'Porschia': 2, 'Ayonna': 2, 'Alexi': 2, 'Lasheika': 2, 'Mareena': 2, 'Venetta': 2, 'Elnora': 2, 'Dejan': 2, 'Simone': 2, 'Hunter': 2, 'Shawta': 2, 'Dung': 2, 'Karisha': 2, 'Naim': 2, 'Mickaela': 2, 'Vikram': 2, 'Tamilia': 2, 'Marleny': 2, 'Ted': 2, 'Susanne': 2, 'Romney': 2, 'Laysa': 2, 'Rindy': 2, 'Randalyn': 2, 'Brenner': 2, 'Patric': 2, 'Wafa': 2, 'Valine': 2, 'Marnell': 2, 'Kaylor': 2, 'Charita': 2, 'Ibeth': 2, 'Natassja': 3, 'Arlie': 3, 'Mazin': 3, 'Courtnay': 3, 'Racquel': 3, 'Tahra': 3, 'Adelia': 3, 'Lakeita': 3, 'Laria': 3, 'Nashea': 3, 'Sabreen': 3, 'Cherylann': 3, 'Jeanell': 3, 'Raymund': 3, 'Kizzie': 3, 'Nikolaus': 3, 'Shareen': 3, 'Pearlie': 3, 'Tynetta': 3, 'Mystique': 3, 'Jonika': 3, 'Shikita': 3, 'Tinesha': 3, 'Krystyn': 3, 'Viana': 3, 'Rhiannon': 3, 'Isidore': 3, 'Kiah': 3, 'Lashonda': 3, 'Raina': 3, 'Cezar': 3, 'Yakov': 3, 'Vernonica': 3, 'Elzabeth': 3, 'Dani': 3, 'Shaniqua': 3, 'Tahara': 3, 'Heathr': 3, 'Marjorie': 3, 'Hogan': 3, 'Leigh': 3, 'Sabreena': 3, 'Benjamen': 3, 'Kezia': 3, 'Jeston': 3, 'Carine': 3, 'Mccall': 4, 'Chrystine': 4, 'Brittiney': 4, 'Valarie': 4, 'Amish': 4, 'Johndaniel': 4, 'Garth': 4}\n",
      "Jeston     {'Jeston': 0, 'Charita': 1, 'Isidore': 1, 'Patric': 1, 'Shareen': 1, 'Viana': 1, 'Carine': 2, 'Shaneice': 2, 'Brenner': 2, 'Simone': 2, 'Jonika': 2, 'Kezia': 2, 'Jazzmon': 2, 'Tamilia': 2, 'Mareena': 2, 'Adelia': 2, 'Susanne': 2, 'Lasheika': 2, 'Chrystine': 2, 'Krystyn': 2, 'Hunter': 2, 'Arlie': 2, 'Dejan': 2, 'Garth': 3, 'Tahara': 3, 'Kaylor': 3, 'Jermine': 3, 'Alfonzo': 3, 'Ibeth': 3, 'Lashonda': 3, 'Tahra': 3, 'Marleny': 3, 'Sabreen': 3, 'Valine': 3, 'Porschia': 3, 'Rhiannon': 3, 'Branson': 3, 'Marjorie': 3, 'Mccall': 3, 'Jeanell': 3, 'Venetta': 3, 'Yakov': 3, 'Racquel': 3, 'Natassja': 3, 'Pearlie': 3, 'Laysa': 3, 'Wafa': 3, 'Rindy': 3, 'Ted': 3, 'Randalyn': 3, 'Jermika': 3, 'Romney': 3, 'Heathr': 3, 'Cezar': 3, 'Raymund': 3, 'Archie': 3, 'Tynetta': 3, 'Mystique': 3, 'Hogan': 3, 'Mazin': 3, 'Sabreena': 3, 'Naim': 3, 'Marnell': 3, 'Ayonna': 3, 'Leigh': 3, 'Tinesha': 3, 'Courtnay': 3, 'Lavonte': 3, 'Shaniqua': 3, 'Kiah': 3, 'Aser': 3, 'Kizzie': 4, 'Mirranda': 4, 'Katharine': 4, 'Shawta': 4, 'Benjamen': 4, 'Laria': 4, 'Karisha': 4, 'Dani': 4, 'Arley': 4, 'Lakeita': 4, 'Vernonica': 4, 'Johndaniel': 4, 'Cherylann': 4, 'Shikita': 4, 'Dung': 4, 'Mickaela': 4, 'Vikram': 4, 'Nikolaus': 4, 'Elnora': 4, 'Alexi': 4, 'Raina': 4, 'Elzabeth': 4, 'Nashea': 4, 'Brittiney': 5, 'Valarie': 5, 'Amish': 5}\n",
      "Johndaniel {'Johndaniel': 0, 'Yakov': 1, 'Mccall': 1, 'Cezar': 1, 'Kezia': 2, 'Kiah': 2, 'Dung': 2, 'Rhiannon': 2, 'Dani': 2, 'Jonika': 2, 'Cherylann': 2, 'Vernonica': 2, 'Kizzie': 2, 'Nikolaus': 2, 'Leigh': 2, 'Shawta': 2, 'Mickaela': 2, 'Tamilia': 2, 'Valine': 2, 'Pearlie': 3, 'Racquel': 3, 'Patric': 3, 'Kaylor': 3, 'Natassja': 3, 'Hunter': 3, 'Benjamen': 3, 'Aser': 3, 'Jermika': 3, 'Jeanell': 3, 'Rindy': 3, 'Chrystine': 3, 'Shaniqua': 3, 'Simone': 3, 'Vikram': 3, 'Tinesha': 3, 'Marleny': 3, 'Marjorie': 3, 'Ibeth': 3, 'Lashonda': 3, 'Isidore': 3, 'Venetta': 3, 'Ayonna': 3, 'Tahara': 3, 'Alexi': 3, 'Mystique': 3, 'Tahra': 3, 'Valarie': 3, 'Naim': 3, 'Brittiney': 3, 'Karisha': 3, 'Elzabeth': 3, 'Susanne': 3, 'Sabreena': 3, 'Wafa': 3, 'Alfonzo': 3, 'Raina': 3, 'Ted': 3, 'Marnell': 3, 'Arlie': 3, 'Adelia': 3, 'Romney': 3, 'Heathr': 3, 'Jazzmon': 3, 'Brenner': 3, 'Mareena': 4, 'Arley': 4, 'Laysa': 4, 'Jeston': 4, 'Dejan': 4, 'Shaneice': 4, 'Laria': 4, 'Viana': 4, 'Sabreen': 4, 'Mirranda': 4, 'Mazin': 4, 'Courtnay': 4, 'Jermine': 4, 'Lavonte': 4, 'Shikita': 4, 'Raymund': 4, 'Krystyn': 4, 'Porschia': 4, 'Branson': 4, 'Elnora': 4, 'Archie': 4, 'Nashea': 4, 'Katharine': 4, 'Carine': 4, 'Lakeita': 4, 'Lasheika': 4, 'Hogan': 4, 'Shareen': 4, 'Amish': 4, 'Tynetta': 4, 'Randalyn': 4, 'Charita': 5, 'Garth': 5}\n",
      "Jonika     {'Jonika': 0, 'Marjorie': 1, 'Chrystine': 1, 'Ibeth': 1, 'Lashonda': 1, 'Hunter': 1, 'Isidore': 1, 'Jeanell': 1, 'Mccall': 1, 'Venetta': 1, 'Ted': 2, 'Kaylor': 2, 'Adelia': 2, 'Rhiannon': 2, 'Raymund': 2, 'Krystyn': 2, 'Viana': 2, 'Tamilia': 2, 'Racquel': 2, 'Shaneice': 2, 'Benjamen': 2, 'Brenner': 2, 'Shawta': 2, 'Jermika': 2, 'Kiah': 2, 'Mareena': 2, 'Marleny': 2, 'Simone': 2, 'Jeston': 2, 'Shikita': 2, 'Ayonna': 2, 'Dung': 2, 'Vernonica': 2, 'Dani': 2, 'Johndaniel': 2, 'Cherylann': 2, 'Archie': 2, 'Romney': 2, 'Lavonte': 2, 'Mickaela': 3, 'Alfonzo': 3, 'Jazzmon': 3, 'Tynetta': 3, 'Kezia': 3, 'Marnell': 3, 'Dejan': 3, 'Hogan': 3, 'Porschia': 3, 'Sabreena': 3, 'Mazin': 3, 'Naim': 3, 'Patric': 3, 'Susanne': 3, 'Valine': 3, 'Rindy': 3, 'Shaniqua': 3, 'Pearlie': 3, 'Tahra': 3, 'Randalyn': 3, 'Courtnay': 3, 'Arlie': 3, 'Tahara': 3, 'Heathr': 3, 'Cezar': 3, 'Arley': 3, 'Laysa': 3, 'Jermine': 3, 'Charita': 3, 'Leigh': 3, 'Sabreen': 3, 'Raina': 3, 'Vikram': 3, 'Karisha': 3, 'Yakov': 3, 'Natassja': 3, 'Mystique': 3, 'Branson': 3, 'Shareen': 3, 'Amish': 3, 'Elnora': 3, 'Nashea': 3, 'Katharine': 3, 'Laria': 3, 'Aser': 3, 'Tinesha': 3, 'Lasheika': 3, 'Alexi': 3, 'Mirranda': 3, 'Wafa': 4, 'Lakeita': 4, 'Kizzie': 4, 'Elzabeth': 4, 'Carine': 4, 'Nikolaus': 4, 'Brittiney': 5, 'Valarie': 5, 'Garth': 5}\n",
      "Karisha    {'Karisha': 0, 'Jermika': 1, 'Nikolaus': 1, 'Tahra': 1, 'Jermine': 2, 'Hunter': 2, 'Shawta': 2, 'Dung': 2, 'Naim': 2, 'Mickaela': 2, 'Vikram': 2, 'Tamilia': 2, 'Marleny': 2, 'Lavonte': 2, 'Alexi': 2, 'Cezar': 2, 'Kizzie': 2, 'Rindy': 2, 'Laria': 2, 'Brenner': 2, 'Raymund': 2, 'Mirranda': 3, 'Archie': 3, 'Branson': 3, 'Alfonzo': 3, 'Jazzmon': 3, 'Katharine': 3, 'Shaneice': 3, 'Kiah': 3, 'Jonika': 3, 'Viana': 3, 'Mareena': 3, 'Venetta': 3, 'Lashonda': 3, 'Raina': 3, 'Pearlie': 3, 'Yakov': 3, 'Aser': 3, 'Jeanell': 3, 'Vernonica': 3, 'Krystyn': 3, 'Lakeita': 3, 'Lasheika': 3, 'Elzabeth': 3, 'Adelia': 3, 'Ted': 3, 'Marnell': 3, 'Dani': 3, 'Shaniqua': 3, 'Tahara': 3, 'Ibeth': 3, 'Romney': 3, 'Arlie': 3, 'Patric': 3, 'Heathr': 3, 'Susanne': 3, 'Leigh': 3, 'Valine': 3, 'Johndaniel': 3, 'Mystique': 3, 'Tinesha': 3, 'Valarie': 3, 'Brittiney': 3, 'Natassja': 3, 'Rhiannon': 3, 'Hogan': 3, 'Ayonna': 3, 'Isidore': 3, 'Sabreen': 3, 'Chrystine': 3, 'Randalyn': 3, 'Arley': 4, 'Porschia': 4, 'Elnora': 4, 'Dejan': 4, 'Simone': 4, 'Laysa': 4, 'Wafa': 4, 'Kaylor': 4, 'Charita': 4, 'Benjamen': 4, 'Marjorie': 4, 'Mccall': 4, 'Jeston': 4, 'Tynetta': 4, 'Shikita': 4, 'Amish': 4, 'Kezia': 4, 'Mazin': 4, 'Courtnay': 4, 'Shareen': 4, 'Sabreena': 4, 'Racquel': 4, 'Carine': 4, 'Nashea': 4, 'Cherylann': 4, 'Garth': 5}\n",
      "Katharine  {'Katharine': 0, 'Jermine': 1, 'Marnell': 1, 'Ayonna': 1, 'Romney': 1, 'Wafa': 1, 'Mirranda': 2, 'Archie': 2, 'Branson': 2, 'Jermika': 2, 'Alfonzo': 2, 'Jazzmon': 2, 'Shaneice': 2, 'Raina': 2, 'Racquel': 2, 'Laria': 2, 'Mickaela': 2, 'Kaylor': 2, 'Susanne': 2, 'Nashea': 2, 'Sabreen': 2, 'Cherylann': 2, 'Jeanell': 2, 'Raymund': 2, 'Venetta': 2, 'Tamilia': 2, 'Sabreena': 2, 'Hogan': 2, 'Tinesha': 2, 'Leigh': 2, 'Aser': 3, 'Arley': 3, 'Lavonte': 3, 'Porschia': 3, 'Alexi': 3, 'Lasheika': 3, 'Mareena': 3, 'Elnora': 3, 'Dejan': 3, 'Simone': 3, 'Hunter': 3, 'Shawta': 3, 'Dung': 3, 'Karisha': 3, 'Naim': 3, 'Vikram': 3, 'Marleny': 3, 'Ted': 3, 'Laysa': 3, 'Rindy': 3, 'Brenner': 3, 'Patric': 3, 'Randalyn': 3, 'Valine': 3, 'Charita': 3, 'Ibeth': 3, 'Shikita': 3, 'Amish': 3, 'Tynetta': 3, 'Kezia': 3, 'Tahra': 3, 'Natassja': 3, 'Cezar': 3, 'Marjorie': 3, 'Adelia': 3, 'Courtnay': 3, 'Shareen': 3, 'Benjamen': 3, 'Mccall': 3, 'Jonika': 3, 'Chrystine': 3, 'Arlie': 3, 'Tahara': 3, 'Heathr': 3, 'Kizzie': 3, 'Dani': 3, 'Elzabeth': 3, 'Mazin': 4, 'Lakeita': 4, 'Nikolaus': 4, 'Pearlie': 4, 'Mystique': 4, 'Krystyn': 4, 'Viana': 4, 'Rhiannon': 4, 'Isidore': 4, 'Kiah': 4, 'Lashonda': 4, 'Yakov': 4, 'Vernonica': 4, 'Shaniqua': 4, 'Jeston': 4, 'Carine': 4, 'Johndaniel': 4, 'Brittiney': 4, 'Valarie': 4, 'Garth': 5}\n",
      "Kaylor     {'Kaylor': 0, 'Kezia': 1, 'Marjorie': 1, 'Marnell': 1, 'Ted': 1, 'Shaneice': 1, 'Dejan': 1, 'Pearlie': 2, 'Yakov': 2, 'Racquel': 2, 'Natassja': 2, 'Patric': 2, 'Valine': 2, 'Chrystine': 2, 'Jonika': 2, 'Adelia': 2, 'Raina': 2, 'Katharine': 2, 'Laria': 2, 'Mickaela': 2, 'Susanne': 2, 'Alfonzo': 2, 'Jazzmon': 2, 'Tynetta': 2, 'Jermine': 2, 'Charita': 2, 'Ibeth': 2, 'Viana': 2, 'Arlie': 2, 'Krystyn': 2, 'Branson': 2, 'Rhiannon': 3, 'Dani': 3, 'Rindy': 3, 'Shawta': 3, 'Mareena': 3, 'Kiah': 3, 'Dung': 3, 'Johndaniel': 3, 'Arley': 3, 'Laysa': 3, 'Kizzie': 3, 'Aser': 3, 'Tamilia': 3, 'Jeston': 3, 'Brenner': 3, 'Cezar': 3, 'Raymund': 3, 'Lashonda': 3, 'Hunter': 3, 'Isidore': 3, 'Jeanell': 3, 'Mccall': 3, 'Venetta': 3, 'Hogan': 3, 'Porschia': 3, 'Sabreena': 3, 'Mazin': 3, 'Naim': 3, 'Shikita': 3, 'Amish': 3, 'Ayonna': 3, 'Romney': 3, 'Wafa': 3, 'Tahra': 3, 'Jermika': 3, 'Leigh': 3, 'Tinesha': 3, 'Courtnay': 3, 'Shareen': 3, 'Lavonte': 3, 'Randalyn': 3, 'Elnora': 3, 'Mirranda': 3, 'Archie': 3, 'Carine': 3, 'Benjamen': 3, 'Shaniqua': 3, 'Simone': 3, 'Vikram': 4, 'Marleny': 4, 'Mystique': 4, 'Vernonica': 4, 'Brittiney': 4, 'Tahara': 4, 'Valarie': 4, 'Alexi': 4, 'Heathr': 4, 'Sabreen': 4, 'Nikolaus': 4, 'Cherylann': 4, 'Lakeita': 4, 'Elzabeth': 4, 'Lasheika': 4, 'Nashea': 4, 'Karisha': 4, 'Garth': 4}\n",
      "Kezia      {'Kezia': 0, 'Pearlie': 1, 'Yakov': 1, 'Racquel': 1, 'Natassja': 1, 'Patric': 1, 'Kaylor': 1, 'Valine': 1, 'Rhiannon': 2, 'Dani': 2, 'Rindy': 2, 'Shawta': 2, 'Mareena': 2, 'Kiah': 2, 'Dung': 2, 'Johndaniel': 2, 'Arley': 2, 'Laysa': 2, 'Ibeth': 2, 'Marnell': 2, 'Kizzie': 2, 'Aser': 2, 'Laria': 2, 'Jazzmon': 2, 'Tamilia': 2, 'Jeston': 2, 'Adelia': 2, 'Ted': 2, 'Marjorie': 2, 'Shaneice': 2, 'Dejan': 2, 'Brenner': 2, 'Cezar': 2, 'Mccall': 3, 'Chrystine': 3, 'Shaniqua': 3, 'Simone': 3, 'Vikram': 3, 'Tinesha': 3, 'Marleny': 3, 'Tahra': 3, 'Arlie': 3, 'Jermika': 3, 'Alfonzo': 3, 'Lashonda': 3, 'Raina': 3, 'Archie': 3, 'Mystique': 3, 'Hunter': 3, 'Tynetta': 3, 'Raymund': 3, 'Benjamen': 3, 'Jeanell': 3, 'Vernonica': 3, 'Mirranda': 3, 'Porschia': 3, 'Jonika': 3, 'Mickaela': 3, 'Susanne': 3, 'Katharine': 3, 'Tahara': 3, 'Alexi': 3, 'Leigh': 3, 'Valarie': 3, 'Naim': 3, 'Brittiney': 3, 'Mazin': 3, 'Courtnay': 3, 'Hogan': 3, 'Ayonna': 3, 'Jermine': 3, 'Randalyn': 3, 'Wafa': 3, 'Romney': 3, 'Heathr': 3, 'Charita': 3, 'Isidore': 3, 'Shareen': 3, 'Viana': 3, 'Venetta': 3, 'Sabreena': 3, 'Krystyn': 3, 'Branson': 3, 'Sabreen': 3, 'Nikolaus': 3, 'Cherylann': 4, 'Elnora': 4, 'Lavonte': 4, 'Karisha': 4, 'Shikita': 4, 'Amish': 4, 'Lasheika': 4, 'Lakeita': 4, 'Carine': 4, 'Elzabeth': 4, 'Nashea': 4, 'Garth': 5}\n",
      "Kiah       {'Kiah': 0, 'Yakov': 1, 'Hunter': 1, 'Benjamen': 1, 'Cezar': 1, 'Kezia': 2, 'Dung': 2, 'Johndaniel': 2, 'Jermika': 2, 'Jonika': 2, 'Marleny': 2, 'Viana': 2, 'Mareena': 2, 'Venetta': 2, 'Leigh': 2, 'Laysa': 2, 'Ibeth': 2, 'Sabreen': 2, 'Kizzie': 2, 'Nikolaus': 2, 'Shawta': 2, 'Mickaela': 2, 'Tamilia': 2, 'Valine': 2, 'Pearlie': 3, 'Racquel': 3, 'Patric': 3, 'Kaylor': 3, 'Natassja': 3, 'Aser': 3, 'Jeanell': 3, 'Vernonica': 3, 'Mccall': 3, 'Jermine': 3, 'Karisha': 3, 'Naim': 3, 'Vikram': 3, 'Lavonte': 3, 'Marjorie': 3, 'Lashonda': 3, 'Chrystine': 3, 'Isidore': 3, 'Brenner': 3, 'Dani': 3, 'Dejan': 3, 'Jeston': 3, 'Krystyn': 3, 'Arlie': 3, 'Archie': 3, 'Mystique': 3, 'Rindy': 3, 'Tynetta': 3, 'Raymund': 3, 'Romney': 3, 'Adelia': 3, 'Elzabeth': 3, 'Susanne': 3, 'Sabreena': 3, 'Wafa': 3, 'Jazzmon': 3, 'Shaneice': 3, 'Simone': 3, 'Ayonna': 3, 'Tahara': 3, 'Alexi': 3, 'Tinesha': 3, 'Tahra': 3, 'Valarie': 3, 'Brittiney': 3, 'Alfonzo': 3, 'Raina': 3, 'Ted': 3, 'Marnell': 3, 'Heathr': 3, 'Rhiannon': 4, 'Arley': 4, 'Laria': 4, 'Mirranda': 4, 'Mazin': 4, 'Courtnay': 4, 'Shikita': 4, 'Cherylann': 4, 'Katharine': 4, 'Branson': 4, 'Lakeita': 4, 'Lasheika': 4, 'Shaniqua': 4, 'Charita': 4, 'Shareen': 4, 'Porschia': 4, 'Elnora': 4, 'Randalyn': 4, 'Hogan': 4, 'Nashea': 4, 'Carine': 4, 'Amish': 4, 'Garth': 5}\n",
      "Kizzie     {'Kizzie': 0, 'Tahara': 1, 'Mystique': 1, 'Alexi': 1, 'Leigh': 1, 'Tinesha': 1, 'Tahra': 1, 'Valarie': 1, 'Naim': 1, 'Brittiney': 1, 'Natassja': 1, 'Cezar': 1, 'Carine': 2, 'Tamilia': 2, 'Shikita': 2, 'Mareena': 2, 'Nikolaus': 2, 'Archie': 2, 'Lavonte': 2, 'Sabreena': 2, 'Wafa': 2, 'Elzabeth': 2, 'Susanne': 2, 'Benjamen': 2, 'Dani': 2, 'Elnora': 2, 'Rindy': 2, 'Laria': 2, 'Karisha': 2, 'Brenner': 2, 'Raymund': 2, 'Krystyn': 2, 'Jermika': 2, 'Lakeita': 2, 'Lasheika': 2, 'Adelia': 2, 'Kezia': 2, 'Aser': 2, 'Shawta': 2, 'Johndaniel': 2, 'Mickaela': 2, 'Kiah': 2, 'Valine': 2, 'Garth': 3, 'Charita': 3, 'Ibeth': 3, 'Romney': 3, 'Arlie': 3, 'Patric': 3, 'Heathr': 3, 'Jeanell': 3, 'Amish': 3, 'Raina': 3, 'Hunter': 3, 'Tynetta': 3, 'Pearlie': 3, 'Vikram': 3, 'Porschia': 3, 'Jermine': 3, 'Ayonna': 3, 'Venetta': 3, 'Mirranda': 3, 'Hogan': 3, 'Jazzmon': 3, 'Katharine': 3, 'Courtnay': 3, 'Alfonzo': 3, 'Marnell': 3, 'Shareen': 3, 'Laysa': 3, 'Sabreen': 3, 'Mccall': 3, 'Marleny': 3, 'Rhiannon': 3, 'Lashonda': 3, 'Isidore': 3, 'Chrystine': 3, 'Randalyn': 3, 'Dejan': 3, 'Shaniqua': 3, 'Viana': 3, 'Dung': 3, 'Marjorie': 3, 'Mazin': 3, 'Yakov': 3, 'Racquel': 3, 'Kaylor': 3, 'Ted': 3, 'Shaneice': 4, 'Jeston': 4, 'Jonika': 4, 'Arley': 4, 'Simone': 4, 'Branson': 4, 'Nashea': 4, 'Cherylann': 4, 'Vernonica': 4}\n",
      "Krystyn    {'Krystyn': 0, 'Chrystine': 1, 'Naim': 1, 'Shaniqua': 1, 'Courtnay': 1, 'Viana': 1, 'Dejan': 1, 'Marjorie': 2, 'Rhiannon': 2, 'Raymund': 2, 'Jonika': 2, 'Kizzie': 2, 'Jermika': 2, 'Lakeita': 2, 'Lasheika': 2, 'Elzabeth': 2, 'Adelia': 2, 'Vikram': 2, 'Aser': 2, 'Susanne': 2, 'Hunter': 2, 'Jeston': 2, 'Arlie': 2, 'Kaylor': 2, 'Branson': 2, 'Ted': 3, 'Rindy': 3, 'Mccall': 3, 'Simone': 3, 'Pearlie': 3, 'Tahra': 3, 'Ayonna': 3, 'Mareena': 3, 'Randalyn': 3, 'Ibeth': 3, 'Lashonda': 3, 'Isidore': 3, 'Jeanell': 3, 'Venetta': 3, 'Tahara': 3, 'Alexi': 3, 'Mystique': 3, 'Leigh': 3, 'Tinesha': 3, 'Valarie': 3, 'Brittiney': 3, 'Natassja': 3, 'Cezar': 3, 'Jermine': 3, 'Shawta': 3, 'Dung': 3, 'Karisha': 3, 'Mickaela': 3, 'Tamilia': 3, 'Marleny': 3, 'Lavonte': 3, 'Porschia': 3, 'Elnora': 3, 'Archie': 3, 'Shareen': 3, 'Hogan': 3, 'Sabreena': 3, 'Mazin': 3, 'Brenner': 3, 'Patric': 3, 'Valine': 3, 'Nikolaus': 3, 'Dani': 3, 'Mirranda': 3, 'Alfonzo': 3, 'Jazzmon': 3, 'Marnell': 3, 'Kiah': 3, 'Charita': 3, 'Kezia': 3, 'Shaneice': 3, 'Tynetta': 4, 'Vernonica': 4, 'Johndaniel': 4, 'Cherylann': 4, 'Sabreen': 4, 'Laria': 4, 'Nashea': 4, 'Katharine': 4, 'Racquel': 4, 'Benjamen': 4, 'Shikita': 4, 'Romney': 4, 'Carine': 4, 'Wafa': 4, 'Raina': 4, 'Yakov': 4, 'Heathr': 4, 'Arley': 4, 'Laysa': 4, 'Amish': 5, 'Garth': 5}\n",
      "Lakeita    {'Lakeita': 0, 'Porschia': 1, 'Elnora': 1, 'Naim': 1, 'Arley': 2, 'Simone': 2, 'Archie': 2, 'Adelia': 2, 'Shikita': 2, 'Tynetta': 2, 'Tinesha': 2, 'Kizzie': 2, 'Krystyn': 2, 'Jermika': 2, 'Lasheika': 2, 'Elzabeth': 2, 'Mirranda': 3, 'Racquel': 3, 'Rhiannon': 3, 'Isidore': 3, 'Sabreen': 3, 'Branson': 3, 'Jermine': 3, 'Ayonna': 3, 'Alexi': 3, 'Mareena': 3, 'Venetta': 3, 'Hogan': 3, 'Marjorie': 3, 'Sabreena': 3, 'Mazin': 3, 'Brenner': 3, 'Tamilia': 3, 'Patric': 3, 'Jeanell': 3, 'Susanne': 3, 'Valine': 3, 'Amish': 3, 'Raina': 3, 'Mystique': 3, 'Ted': 3, 'Dani': 3, 'Wafa': 3, 'Tahara': 3, 'Leigh': 3, 'Tahra': 3, 'Valarie': 3, 'Brittiney': 3, 'Natassja': 3, 'Cezar': 3, 'Chrystine': 3, 'Shaniqua': 3, 'Courtnay': 3, 'Viana': 3, 'Dejan': 3, 'Hunter': 3, 'Shawta': 3, 'Dung': 3, 'Karisha': 3, 'Mickaela': 3, 'Vikram': 3, 'Marleny': 3, 'Lavonte': 3, 'Shareen': 3, 'Aser': 4, 'Kezia': 4, 'Laysa': 4, 'Ibeth': 4, 'Marnell': 4, 'Rindy': 4, 'Mccall': 4, 'Pearlie': 4, 'Jonika': 4, 'Jeston': 4, 'Benjamen': 4, 'Shaneice': 4, 'Alfonzo': 4, 'Jazzmon': 4, 'Katharine': 4, 'Nashea': 4, 'Raymund': 4, 'Laria': 4, 'Cherylann': 4, 'Nikolaus': 4, 'Romney': 4, 'Kaylor': 4, 'Lashonda': 4, 'Arlie': 4, 'Heathr': 4, 'Carine': 4, 'Kiah': 4, 'Johndaniel': 4, 'Yakov': 4, 'Vernonica': 4, 'Charita': 5, 'Randalyn': 5, 'Garth': 5}\n",
      "Laria      {'Laria': 0, 'Hogan': 1, 'Marnell': 1, 'Ayonna': 1, 'Tahra': 1, 'Natassja': 1, 'Raina': 2, 'Sabreena': 2, 'Wafa': 2, 'Susanne': 2, 'Adelia': 2, 'Mickaela': 2, 'Kaylor': 2, 'Racquel': 2, 'Katharine': 2, 'Archie': 2, 'Nashea': 2, 'Sabreen': 2, 'Cherylann': 2, 'Jeanell': 2, 'Raymund': 2, 'Kizzie': 2, 'Rindy': 2, 'Karisha': 2, 'Brenner': 2, 'Lavonte': 2, 'Kezia': 2, 'Aser': 2, 'Dani': 2, 'Mareena': 2, 'Amish': 3, 'Shikita': 3, 'Shawta': 3, 'Tynetta': 3, 'Leigh': 3, 'Tinesha': 3, 'Romney': 3, 'Jazzmon': 3, 'Alfonzo': 3, 'Courtnay': 3, 'Shareen': 3, 'Marjorie': 3, 'Porschia': 3, 'Mazin': 3, 'Naim': 3, 'Tamilia': 3, 'Patric': 3, 'Valine': 3, 'Venetta': 3, 'Ted': 3, 'Jermika': 3, 'Cezar': 3, 'Dejan': 3, 'Shaneice': 3, 'Arley': 3, 'Laysa': 3, 'Ibeth': 3, 'Jermine': 3, 'Elnora': 3, 'Lasheika': 3, 'Alexi': 3, 'Simone': 3, 'Benjamen': 3, 'Mccall': 3, 'Jonika': 3, 'Dung': 3, 'Chrystine': 3, 'Randalyn': 3, 'Brittiney': 3, 'Tahara': 3, 'Valarie': 3, 'Mystique': 3, 'Rhiannon': 3, 'Arlie': 3, 'Pearlie': 3, 'Nikolaus': 3, 'Lashonda': 3, 'Isidore': 3, 'Marleny': 3, 'Mirranda': 3, 'Yakov': 3, 'Vikram': 3, 'Hunter': 3, 'Elzabeth': 4, 'Krystyn': 4, 'Jeston': 4, 'Lakeita': 4, 'Heathr': 4, 'Kiah': 4, 'Johndaniel': 4, 'Viana': 4, 'Branson': 4, 'Charita': 4, 'Vernonica': 4, 'Carine': 4, 'Shaniqua': 4, 'Garth': 5}\n",
      "Lasheika   {'Lasheika': 0, 'Archie': 1, 'Shareen': 1, 'Naim': 1, 'Porschia': 2, 'Jermine': 2, 'Ayonna': 2, 'Alexi': 2, 'Mareena': 2, 'Venetta': 2, 'Elnora': 2, 'Susanne': 2, 'Jeston': 2, 'Kizzie': 2, 'Krystyn': 2, 'Jermika': 2, 'Lakeita': 2, 'Elzabeth': 2, 'Adelia': 2, 'Arley': 3, 'Simone': 3, 'Mirranda': 3, 'Branson': 3, 'Alfonzo': 3, 'Jazzmon': 3, 'Katharine': 3, 'Shaneice': 3, 'Laria': 3, 'Nashea': 3, 'Sabreen': 3, 'Cherylann': 3, 'Jeanell': 3, 'Raymund': 3, 'Nikolaus': 3, 'Lavonte': 3, 'Pearlie': 3, 'Rindy': 3, 'Mystique': 3, 'Hunter': 3, 'Tynetta': 3, 'Patric': 3, 'Natassja': 3, 'Jonika': 3, 'Romney': 3, 'Shikita': 3, 'Tinesha': 3, 'Hogan': 3, 'Marnell': 3, 'Courtnay': 3, 'Leigh': 3, 'Charita': 3, 'Isidore': 3, 'Viana': 3, 'Tahara': 3, 'Tahra': 3, 'Valarie': 3, 'Brittiney': 3, 'Cezar': 3, 'Dejan': 3, 'Chrystine': 3, 'Shaniqua': 3, 'Shawta': 3, 'Dung': 3, 'Karisha': 3, 'Mickaela': 3, 'Vikram': 3, 'Tamilia': 3, 'Marleny': 3, 'Marjorie': 3, 'Sabreena': 3, 'Mazin': 3, 'Brenner': 3, 'Valine': 3, 'Racquel': 4, 'Rhiannon': 4, 'Aser': 4, 'Ted': 4, 'Laysa': 4, 'Randalyn': 4, 'Wafa': 4, 'Kaylor': 4, 'Ibeth': 4, 'Benjamen': 4, 'Mccall': 4, 'Kezia': 4, 'Dani': 4, 'Arlie': 4, 'Kiah': 4, 'Raina': 4, 'Lashonda': 4, 'Amish': 4, 'Carine': 4, 'Johndaniel': 4, 'Yakov': 4, 'Vernonica': 4, 'Heathr': 4, 'Garth': 5}\n",
      "Lashonda   {'Lashonda': 0, 'Brenner': 1, 'Jonika': 1, 'Shawta': 1, 'Jazzmon': 2, 'Tahra': 2, 'Isidore': 2, 'Marleny': 2, 'Sabreen': 2, 'Valine': 2, 'Adelia': 2, 'Marjorie': 2, 'Chrystine': 2, 'Ibeth': 2, 'Hunter': 2, 'Jeanell': 2, 'Mccall': 2, 'Venetta': 2, 'Raina': 2, 'Pearlie': 2, 'Jermika': 2, 'Alfonzo': 2, 'Cezar': 2, 'Jermine': 3, 'Laysa': 3, 'Rindy': 3, 'Randalyn': 3, 'Ted': 3, 'Patric': 3, 'Wafa': 3, 'Susanne': 3, 'Kizzie': 3, 'Laria': 3, 'Karisha': 3, 'Raymund': 3, 'Lavonte': 3, 'Simone': 3, 'Jeston': 3, 'Dani': 3, 'Ayonna': 3, 'Benjamen': 3, 'Kezia': 3, 'Hogan': 3, 'Porschia': 3, 'Sabreena': 3, 'Mazin': 3, 'Naim': 3, 'Tamilia': 3, 'Kaylor': 3, 'Rhiannon': 3, 'Krystyn': 3, 'Viana': 3, 'Racquel': 3, 'Shaneice': 3, 'Kiah': 3, 'Mareena': 3, 'Shikita': 3, 'Dung': 3, 'Vernonica': 3, 'Johndaniel': 3, 'Cherylann': 3, 'Archie': 3, 'Romney': 3, 'Marnell': 3, 'Amish': 3, 'Tynetta': 3, 'Mickaela': 3, 'Vikram': 3, 'Aser': 3, 'Leigh': 3, 'Nikolaus': 3, 'Mirranda': 4, 'Katharine': 4, 'Branson': 4, 'Arlie': 4, 'Tinesha': 4, 'Courtnay': 4, 'Shareen': 4, 'Tahara': 4, 'Alexi': 4, 'Mystique': 4, 'Valarie': 4, 'Brittiney': 4, 'Natassja': 4, 'Charita': 4, 'Nashea': 4, 'Yakov': 4, 'Arley': 4, 'Lakeita': 4, 'Elzabeth': 4, 'Lasheika': 4, 'Heathr': 4, 'Dejan': 4, 'Shaniqua': 4, 'Elnora': 4, 'Carine': 5, 'Garth': 6}\n",
      "Lavonte    {'Lavonte': 0, 'Mirranda': 1, 'Alexi': 1, 'Jermika': 1, 'Tahra': 1, 'Susanne': 1, 'Venetta': 1, 'Aser': 2, 'Arley': 2, 'Jermine': 2, 'Kizzie': 2, 'Nikolaus': 2, 'Archie': 2, 'Hunter': 2, 'Shawta': 2, 'Dung': 2, 'Karisha': 2, 'Naim': 2, 'Mickaela': 2, 'Vikram': 2, 'Tamilia': 2, 'Marleny': 2, 'Rindy': 2, 'Brenner': 2, 'Raymund': 2, 'Laria': 2, 'Hogan': 2, 'Marnell': 2, 'Ayonna': 2, 'Leigh': 2, 'Alfonzo': 2, 'Jazzmon': 2, 'Tinesha': 2, 'Courtnay': 2, 'Shareen': 2, 'Adelia': 2, 'Jonika': 2, 'Romney': 2, 'Natassja': 3, 'Arlie': 3, 'Mazin': 3, 'Porschia': 3, 'Racquel': 3, 'Shaneice': 3, 'Katharine': 3, 'Branson': 3, 'Tahara': 3, 'Mystique': 3, 'Valarie': 3, 'Brittiney': 3, 'Cezar': 3, 'Elnora': 3, 'Mareena': 3, 'Lasheika': 3, 'Kiah': 3, 'Viana': 3, 'Lashonda': 3, 'Raina': 3, 'Pearlie': 3, 'Yakov': 3, 'Jeanell': 3, 'Vernonica': 3, 'Elzabeth': 3, 'Krystyn': 3, 'Lakeita': 3, 'Ted': 3, 'Dani': 3, 'Shaniqua': 3, 'Heathr': 3, 'Ibeth': 3, 'Patric': 3, 'Rhiannon': 3, 'Valine': 3, 'Isidore': 3, 'Sabreen': 3, 'Chrystine': 3, 'Randalyn': 3, 'Sabreena': 3, 'Wafa': 3, 'Kaylor': 3, 'Nashea': 3, 'Cherylann': 3, 'Benjamen': 3, 'Laysa': 3, 'Jeston': 3, 'Marjorie': 3, 'Mccall': 3, 'Kezia': 4, 'Dejan': 4, 'Simone': 4, 'Charita': 4, 'Carine': 4, 'Shikita': 4, 'Johndaniel': 4, 'Tynetta': 4, 'Amish': 4, 'Garth': 5}\n",
      "Laysa      {'Laysa': 0, 'Jazzmon': 1, 'Racquel': 1, 'Benjamen': 1, 'Jermine': 2, 'Rindy': 2, 'Randalyn': 2, 'Ted': 2, 'Brenner': 2, 'Patric': 2, 'Wafa': 2, 'Susanne': 2, 'Valine': 2, 'Kezia': 2, 'Arley': 2, 'Marnell': 2, 'Ibeth': 2, 'Leigh': 2, 'Kiah': 2, 'Sabreen': 2, 'Mirranda': 3, 'Archie': 3, 'Branson': 3, 'Jermika': 3, 'Alfonzo': 3, 'Katharine': 3, 'Shaneice': 3, 'Rhiannon': 3, 'Pearlie': 3, 'Tahra': 3, 'Arlie': 3, 'Mareena': 3, 'Raymund': 3, 'Mickaela': 3, 'Marjorie': 3, 'Kaylor': 3, 'Tynetta': 3, 'Adelia': 3, 'Lashonda': 3, 'Isidore': 3, 'Marleny': 3, 'Tamilia': 3, 'Jeston': 3, 'Hogan': 3, 'Tinesha': 3, 'Lavonte': 3, 'Ayonna': 3, 'Courtnay': 3, 'Shareen': 3, 'Cezar': 3, 'Yakov': 3, 'Natassja': 3, 'Porschia': 3, 'Laria': 3, 'Raina': 3, 'Jonika': 3, 'Kizzie': 3, 'Elzabeth': 3, 'Sabreena': 3, 'Hunter': 3, 'Simone': 3, 'Aser': 4, 'Elnora': 4, 'Lasheika': 4, 'Venetta': 4, 'Alexi': 4, 'Dejan': 4, 'Shawta': 4, 'Dung': 4, 'Karisha': 4, 'Naim': 4, 'Vikram': 4, 'Romney': 4, 'Charita': 4, 'Mccall': 4, 'Chrystine': 4, 'Shaniqua': 4, 'Dani': 4, 'Viana': 4, 'Mystique': 4, 'Mazin': 4, 'Jeanell': 4, 'Tahara': 4, 'Heathr': 4, 'Nashea': 4, 'Cherylann': 4, 'Krystyn': 4, 'Nikolaus': 4, 'Johndaniel': 4, 'Lakeita': 4, 'Shikita': 4, 'Amish': 4, 'Brittiney': 4, 'Valarie': 4, 'Vernonica': 5, 'Carine': 5, 'Garth': 6}\n",
      "Leigh      {'Leigh': 0, 'Kizzie': 1, 'Sabreena': 1, 'Cezar': 1, 'Elzabeth': 1, 'Wafa': 1, 'Susanne': 1, 'Benjamen': 1, 'Tahara': 2, 'Alexi': 2, 'Mystique': 2, 'Tinesha': 2, 'Tahra': 2, 'Valarie': 2, 'Naim': 2, 'Brittiney': 2, 'Natassja': 2, 'Hogan': 2, 'Romney': 2, 'Adelia': 2, 'Nikolaus': 2, 'Shawta': 2, 'Johndaniel': 2, 'Mickaela': 2, 'Kiah': 2, 'Tamilia': 2, 'Valine': 2, 'Courtnay': 2, 'Jazzmon': 2, 'Katharine': 2, 'Marnell': 2, 'Ayonna': 2, 'Alfonzo': 2, 'Shareen': 2, 'Lavonte': 2, 'Laysa': 2, 'Ibeth': 2, 'Sabreen': 2, 'Carine': 3, 'Archie': 3, 'Shikita': 3, 'Mareena': 3, 'Dani': 3, 'Elnora': 3, 'Rindy': 3, 'Laria': 3, 'Karisha': 3, 'Brenner': 3, 'Raymund': 3, 'Jermika': 3, 'Krystyn': 3, 'Lakeita': 3, 'Lasheika': 3, 'Kezia': 3, 'Aser': 3, 'Raina': 3, 'Venetta': 3, 'Marjorie': 3, 'Porschia': 3, 'Mazin': 3, 'Patric': 3, 'Jeanell': 3, 'Vikram': 3, 'Lashonda': 3, 'Pearlie': 3, 'Yakov': 3, 'Mccall': 3, 'Ted': 3, 'Hunter': 3, 'Arlie': 3, 'Heathr': 3, 'Jermine': 3, 'Randalyn': 3, 'Kaylor': 3, 'Racquel': 3, 'Nashea': 3, 'Cherylann': 3, 'Shaneice': 3, 'Jeston': 3, 'Mirranda': 3, 'Jonika': 3, 'Simone': 3, 'Garth': 4, 'Charita': 4, 'Amish': 4, 'Tynetta': 4, 'Marleny': 4, 'Rhiannon': 4, 'Isidore': 4, 'Chrystine': 4, 'Dung': 4, 'Dejan': 4, 'Shaniqua': 4, 'Viana': 4, 'Arley': 4, 'Vernonica': 4, 'Branson': 4}\n",
      "Mareena    {'Mareena': 0, 'Archie': 1, 'Mystique': 1, 'Pearlie': 1, 'Rindy': 1, 'Hunter': 1, 'Tynetta': 1, 'Patric': 1, 'Raymund': 1, 'Natassja': 1, 'Porschia': 2, 'Jermine': 2, 'Ayonna': 2, 'Alexi': 2, 'Lasheika': 2, 'Venetta': 2, 'Elnora': 2, 'Kizzie': 2, 'Shikita': 2, 'Kezia': 2, 'Rhiannon': 2, 'Dani': 2, 'Shawta': 2, 'Jazzmon': 2, 'Tahra': 2, 'Arlie': 2, 'Jermika': 2, 'Kiah': 2, 'Jonika': 2, 'Marleny': 2, 'Viana': 2, 'Ted': 2, 'Raina': 2, 'Tamilia': 2, 'Jeston': 2, 'Adelia': 2, 'Chrystine': 2, 'Randalyn': 2, 'Aser': 2, 'Laria': 2, 'Arley': 3, 'Simone': 3, 'Lakeita': 3, 'Mirranda': 3, 'Branson': 3, 'Alfonzo': 3, 'Katharine': 3, 'Shaneice': 3, 'Nashea': 3, 'Sabreen': 3, 'Cherylann': 3, 'Jeanell': 3, 'Susanne': 3, 'Nikolaus': 3, 'Lavonte': 3, 'Shareen': 3, 'Naim': 3, 'Romney': 3, 'Tinesha': 3, 'Tahara': 3, 'Leigh': 3, 'Valarie': 3, 'Brittiney': 3, 'Cezar': 3, 'Amish': 3, 'Yakov': 3, 'Racquel': 3, 'Valine': 3, 'Kaylor': 3, 'Mccall': 3, 'Shaniqua': 3, 'Vikram': 3, 'Lashonda': 3, 'Brenner': 3, 'Laysa': 3, 'Wafa': 3, 'Karisha': 3, 'Dejan': 3, 'Mickaela': 3, 'Dung': 3, 'Benjamen': 3, 'Marjorie': 3, 'Isidore': 3, 'Ibeth': 3, 'Krystyn': 3, 'Hogan': 3, 'Marnell': 3, 'Heathr': 3, 'Charita': 3, 'Mazin': 3, 'Sabreena': 3, 'Courtnay': 3, 'Elzabeth': 4, 'Carine': 4, 'Johndaniel': 4, 'Vernonica': 4, 'Garth': 5}\n",
      "Marjorie   {'Marjorie': 0, 'Chrystine': 1, 'Ted': 1, 'Jonika': 1, 'Kaylor': 1, 'Adelia': 1, 'Rhiannon': 2, 'Raymund': 2, 'Krystyn': 2, 'Viana': 2, 'Mickaela': 2, 'Alfonzo': 2, 'Jazzmon': 2, 'Tynetta': 2, 'Ibeth': 2, 'Lashonda': 2, 'Hunter': 2, 'Isidore': 2, 'Jeanell': 2, 'Mccall': 2, 'Venetta': 2, 'Kezia': 2, 'Marnell': 2, 'Shaneice': 2, 'Dejan': 2, 'Hogan': 2, 'Porschia': 2, 'Sabreena': 2, 'Mazin': 2, 'Naim': 2, 'Brenner': 2, 'Tamilia': 2, 'Patric': 2, 'Susanne': 2, 'Valine': 2, 'Rindy': 3, 'Simone': 3, 'Shaniqua': 3, 'Pearlie': 3, 'Tahra': 3, 'Ayonna': 3, 'Mareena': 3, 'Randalyn': 3, 'Courtnay': 3, 'Arlie': 3, 'Jeston': 3, 'Jermika': 3, 'Cezar': 3, 'Aser': 3, 'Jermine': 3, 'Shawta': 3, 'Romney': 3, 'Laysa': 3, 'Wafa': 3, 'Raina': 3, 'Elnora': 3, 'Racquel': 3, 'Benjamen': 3, 'Kiah': 3, 'Marleny': 3, 'Shikita': 3, 'Dung': 3, 'Vernonica': 3, 'Dani': 3, 'Johndaniel': 3, 'Cherylann': 3, 'Archie': 3, 'Lavonte': 3, 'Yakov': 3, 'Natassja': 3, 'Katharine': 3, 'Laria': 3, 'Charita': 3, 'Branson': 3, 'Arley': 3, 'Lakeita': 3, 'Leigh': 3, 'Tinesha': 3, 'Kizzie': 3, 'Elzabeth': 3, 'Lasheika': 3, 'Sabreen': 3, 'Tahara': 3, 'Heathr': 3, 'Shareen': 3, 'Vikram': 4, 'Karisha': 4, 'Nashea': 4, 'Mystique': 4, 'Nikolaus': 4, 'Mirranda': 4, 'Amish': 4, 'Alexi': 4, 'Carine': 4, 'Brittiney': 4, 'Valarie': 4, 'Garth': 5}\n",
      "Marleny    {'Marleny': 0, 'Jermika': 1, 'Hunter': 1, 'Brenner': 1, 'Dani': 1, 'Jermine': 2, 'Shawta': 2, 'Dung': 2, 'Karisha': 2, 'Naim': 2, 'Mickaela': 2, 'Vikram': 2, 'Tamilia': 2, 'Lavonte': 2, 'Kiah': 2, 'Jonika': 2, 'Viana': 2, 'Mareena': 2, 'Venetta': 2, 'Jazzmon': 2, 'Tahra': 2, 'Isidore': 2, 'Lashonda': 2, 'Sabreen': 2, 'Valine': 2, 'Adelia': 2, 'Mccall': 2, 'Tinesha': 2, 'Natassja': 2, 'Pearlie': 2, 'Mirranda': 3, 'Archie': 3, 'Branson': 3, 'Alfonzo': 3, 'Katharine': 3, 'Shaneice': 3, 'Raina': 3, 'Cezar': 3, 'Yakov': 3, 'Aser': 3, 'Jeanell': 3, 'Vernonica': 3, 'Nikolaus': 3, 'Kizzie': 3, 'Krystyn': 3, 'Lakeita': 3, 'Lasheika': 3, 'Elzabeth': 3, 'Ted': 3, 'Marnell': 3, 'Shaniqua': 3, 'Tahara': 3, 'Ibeth': 3, 'Romney': 3, 'Arlie': 3, 'Patric': 3, 'Heathr': 3, 'Susanne': 3, 'Alexi': 3, 'Benjamen': 3, 'Marjorie': 3, 'Chrystine': 3, 'Dejan': 3, 'Jeston': 3, 'Rindy': 3, 'Raymund': 3, 'Tynetta': 3, 'Mystique': 3, 'Laysa': 3, 'Randalyn': 3, 'Wafa': 3, 'Laria': 3, 'Simone': 3, 'Ayonna': 3, 'Kezia': 3, 'Hogan': 3, 'Sabreena': 3, 'Mazin': 3, 'Porschia': 3, 'Rhiannon': 3, 'Johndaniel': 3, 'Cherylann': 3, 'Elnora': 3, 'Arley': 4, 'Kaylor': 4, 'Charita': 4, 'Shikita': 4, 'Amish': 4, 'Leigh': 4, 'Courtnay': 4, 'Brittiney': 4, 'Valarie': 4, 'Shareen': 4, 'Racquel': 4, 'Carine': 4, 'Nashea': 4, 'Garth': 5}\n",
      "Marnell    {'Marnell': 0, 'Raina': 1, 'Racquel': 1, 'Katharine': 1, 'Laria': 1, 'Mickaela': 1, 'Kaylor': 1, 'Susanne': 1, 'Hogan': 2, 'Shikita': 2, 'Shawta': 2, 'Tynetta': 2, 'Amish': 2, 'Kezia': 2, 'Arley': 2, 'Laysa': 2, 'Ibeth': 2, 'Jermine': 2, 'Ayonna': 2, 'Romney': 2, 'Wafa': 2, 'Tahra': 2, 'Natassja': 2, 'Ted': 2, 'Jermika': 2, 'Cezar': 2, 'Dejan': 2, 'Marjorie': 2, 'Shaneice': 2, 'Leigh': 2, 'Alfonzo': 2, 'Jazzmon': 2, 'Tinesha': 2, 'Courtnay': 2, 'Shareen': 2, 'Lavonte': 2, 'Adelia': 2, 'Sabreena': 3, 'Elnora': 3, 'Jeanell': 3, 'Mystique': 3, 'Lashonda': 3, 'Pearlie': 3, 'Mareena': 3, 'Yakov': 3, 'Valine': 3, 'Patric': 3, 'Mirranda': 3, 'Porschia': 3, 'Benjamen': 3, 'Tamilia': 3, 'Jonika': 3, 'Archie': 3, 'Branson': 3, 'Nashea': 3, 'Raymund': 3, 'Cherylann': 3, 'Sabreen': 3, 'Venetta': 3, 'Rindy': 3, 'Kizzie': 3, 'Brenner': 3, 'Karisha': 3, 'Aser': 3, 'Dani': 3, 'Hunter': 3, 'Dung': 3, 'Naim': 3, 'Vikram': 3, 'Marleny': 3, 'Nikolaus': 3, 'Kiah': 3, 'Johndaniel': 3, 'Arlie': 3, 'Krystyn': 3, 'Viana': 3, 'Chrystine': 3, 'Charita': 3, 'Elzabeth': 3, 'Randalyn': 3, 'Jeston': 3, 'Lasheika': 3, 'Alexi': 3, 'Mazin': 3, 'Lakeita': 4, 'Rhiannon': 4, 'Simone': 4, 'Tahara': 4, 'Heathr': 4, 'Mccall': 4, 'Isidore': 4, 'Brittiney': 4, 'Valarie': 4, 'Vernonica': 4, 'Shaniqua': 4, 'Carine': 4, 'Garth': 5}\n",
      "Marrissa   {'Marrissa': 0}\n",
      "Mazin      {'Mazin': 0, 'Aser': 1, 'Adelia': 1, 'Mirranda': 2, 'Alfonzo': 2, 'Dung': 2, 'Arlie': 2, 'Courtnay': 2, 'Natassja': 2, 'Hogan': 2, 'Porschia': 2, 'Marjorie': 2, 'Sabreena': 2, 'Naim': 2, 'Brenner': 2, 'Tamilia': 2, 'Patric': 2, 'Jeanell': 2, 'Susanne': 2, 'Valine': 2, 'Venetta': 2, 'Jermine': 3, 'Arley': 3, 'Lavonte': 3, 'Ted': 3, 'Shaneice': 3, 'Shawta': 3, 'Romney': 3, 'Yakov': 3, 'Jermika': 3, 'Vernonica': 3, 'Rindy': 3, 'Dejan': 3, 'Viana': 3, 'Elzabeth': 3, 'Krystyn': 3, 'Kezia': 3, 'Kizzie': 3, 'Dani': 3, 'Laria': 3, 'Mareena': 3, 'Raina': 3, 'Wafa': 3, 'Simone': 3, 'Archie': 3, 'Lakeita': 3, 'Kaylor': 3, 'Chrystine': 3, 'Jonika': 3, 'Leigh': 3, 'Tinesha': 3, 'Lasheika': 3, 'Jazzmon': 3, 'Tahra': 3, 'Isidore': 3, 'Lashonda': 3, 'Marleny': 3, 'Sabreen': 3, 'Tahara': 3, 'Ibeth': 3, 'Heathr': 3, 'Cezar': 3, 'Jeston': 3, 'Shikita': 3, 'Ayonna': 3, 'Marnell': 3, 'Shareen': 3, 'Hunter': 3, 'Katharine': 4, 'Branson': 4, 'Racquel': 4, 'Alexi': 4, 'Mickaela': 4, 'Tynetta': 4, 'Charita': 4, 'Pearlie': 4, 'Kiah': 4, 'Johndaniel': 4, 'Vikram': 4, 'Karisha': 4, 'Mccall': 4, 'Rhiannon': 4, 'Shaniqua': 4, 'Brittiney': 4, 'Valarie': 4, 'Mystique': 4, 'Raymund': 4, 'Amish': 4, 'Elnora': 4, 'Benjamen': 4, 'Laysa': 4, 'Randalyn': 4, 'Carine': 4, 'Nikolaus': 4, 'Nashea': 4, 'Cherylann': 4, 'Garth': 5}\n",
      "Mccall     {'Mccall': 0, 'Rhiannon': 1, 'Dani': 1, 'Johndaniel': 1, 'Jonika': 1, 'Cherylann': 1, 'Vernonica': 1, 'Chrystine': 2, 'Pearlie': 2, 'Rindy': 2, 'Shaniqua': 2, 'Simone': 2, 'Vikram': 2, 'Tinesha': 2, 'Natassja': 2, 'Marleny': 2, 'Yakov': 2, 'Cezar': 2, 'Marjorie': 2, 'Ibeth': 2, 'Lashonda': 2, 'Hunter': 2, 'Isidore': 2, 'Jeanell': 2, 'Venetta': 2, 'Ayonna': 2, 'Dung': 2, 'Raymund': 3, 'Krystyn': 3, 'Viana': 3, 'Kezia': 3, 'Shawta': 3, 'Mareena': 3, 'Jazzmon': 3, 'Tahra': 3, 'Arlie': 3, 'Porschia': 3, 'Sabreen': 3, 'Branson': 3, 'Jermika': 3, 'Nikolaus': 3, 'Kizzie': 3, 'Sabreena': 3, 'Wafa': 3, 'Susanne': 3, 'Elnora': 3, 'Aser': 3, 'Laria': 3, 'Brenner': 3, 'Kiah': 3, 'Mickaela': 3, 'Leigh': 3, 'Tamilia': 3, 'Valine': 3, 'Ted': 3, 'Kaylor': 3, 'Adelia': 3, 'Racquel': 3, 'Shaneice': 3, 'Benjamen': 3, 'Jeston': 3, 'Shikita': 3, 'Archie': 3, 'Romney': 3, 'Lavonte': 3, 'Nashea': 3, 'Katharine': 3, 'Randalyn': 4, 'Dejan': 4, 'Courtnay': 4, 'Naim': 4, 'Patric': 4, 'Alfonzo': 4, 'Raina': 4, 'Tynetta': 4, 'Mystique': 4, 'Jermine': 4, 'Laysa': 4, 'Karisha': 4, 'Arley': 4, 'Lakeita': 4, 'Alexi': 4, 'Brittiney': 4, 'Tahara': 4, 'Valarie': 4, 'Hogan': 4, 'Marnell': 4, 'Shareen': 4, 'Mirranda': 4, 'Mazin': 4, 'Elzabeth': 4, 'Heathr': 4, 'Charita': 4, 'Amish': 4, 'Lasheika': 4, 'Carine': 5, 'Garth': 6}\n",
      "Mickaela   {'Mickaela': 0, 'Ted': 1, 'Jermika': 1, 'Marnell': 1, 'Cezar': 1, 'Marjorie': 2, 'Alfonzo': 2, 'Jazzmon': 2, 'Tynetta': 2, 'Kaylor': 2, 'Jermine': 2, 'Hunter': 2, 'Shawta': 2, 'Dung': 2, 'Karisha': 2, 'Naim': 2, 'Vikram': 2, 'Tamilia': 2, 'Marleny': 2, 'Lavonte': 2, 'Raina': 2, 'Racquel': 2, 'Katharine': 2, 'Laria': 2, 'Susanne': 2, 'Kizzie': 2, 'Nikolaus': 2, 'Leigh': 2, 'Johndaniel': 2, 'Kiah': 2, 'Valine': 2, 'Chrystine': 3, 'Jonika': 3, 'Adelia': 3, 'Aser': 3, 'Shaneice': 3, 'Romney': 3, 'Laysa': 3, 'Rindy': 3, 'Randalyn': 3, 'Brenner': 3, 'Patric': 3, 'Wafa': 3, 'Mareena': 3, 'Elnora': 3, 'Kezia': 3, 'Dejan': 3, 'Mirranda': 3, 'Archie': 3, 'Branson': 3, 'Venetta': 3, 'Viana': 3, 'Lashonda': 3, 'Pearlie': 3, 'Yakov': 3, 'Jeanell': 3, 'Vernonica': 3, 'Tahra': 3, 'Elzabeth': 3, 'Krystyn': 3, 'Lakeita': 3, 'Lasheika': 3, 'Dani': 3, 'Shaniqua': 3, 'Arlie': 3, 'Tahara': 3, 'Ibeth': 3, 'Heathr': 3, 'Alexi': 3, 'Hogan': 3, 'Shikita': 3, 'Amish': 3, 'Arley': 3, 'Ayonna': 3, 'Natassja': 3, 'Tinesha': 3, 'Courtnay': 3, 'Shareen': 3, 'Brittiney': 3, 'Valarie': 3, 'Mystique': 3, 'Sabreena': 3, 'Benjamen': 3, 'Mccall': 3, 'Rhiannon': 4, 'Raymund': 4, 'Isidore': 4, 'Porschia': 4, 'Mazin': 4, 'Charita': 4, 'Sabreen': 4, 'Jeston': 4, 'Simone': 4, 'Carine': 4, 'Nashea': 4, 'Cherylann': 4, 'Garth': 5}\n",
      "Mirranda   {'Mirranda': 0, 'Aser': 1, 'Arley': 1, 'Jermine': 1, 'Lavonte': 1, 'Alfonzo': 2, 'Mazin': 2, 'Dung': 2, 'Arlie': 2, 'Courtnay': 2, 'Natassja': 2, 'Porschia': 2, 'Racquel': 2, 'Archie': 2, 'Branson': 2, 'Jermika': 2, 'Jazzmon': 2, 'Katharine': 2, 'Shaneice': 2, 'Susanne': 2, 'Tahra': 2, 'Venetta': 2, 'Alexi': 2, 'Ted': 3, 'Shawta': 3, 'Romney': 3, 'Adelia': 3, 'Yakov': 3, 'Jeanell': 3, 'Vernonica': 3, 'Rindy': 3, 'Tamilia': 3, 'Dejan': 3, 'Viana': 3, 'Elzabeth': 3, 'Krystyn': 3, 'Kezia': 3, 'Kizzie': 3, 'Dani': 3, 'Laria': 3, 'Mareena': 3, 'Simone': 3, 'Lakeita': 3, 'Laysa': 3, 'Ibeth': 3, 'Marnell': 3, 'Elnora': 3, 'Ayonna': 3, 'Lasheika': 3, 'Hunter': 3, 'Karisha': 3, 'Naim': 3, 'Mickaela': 3, 'Vikram': 3, 'Marleny': 3, 'Wafa': 3, 'Brenner': 3, 'Patric': 3, 'Randalyn': 3, 'Valine': 3, 'Kaylor': 3, 'Charita': 3, 'Hogan': 3, 'Tinesha': 3, 'Shareen': 3, 'Leigh': 3, 'Raymund': 3, 'Jonika': 3, 'Nikolaus': 3, 'Marjorie': 4, 'Tynetta': 4, 'Lashonda': 4, 'Cezar': 4, 'Raina': 4, 'Pearlie': 4, 'Sabreena': 4, 'Kiah': 4, 'Johndaniel': 4, 'Shikita': 4, 'Mccall': 4, 'Rhiannon': 4, 'Tahara': 4, 'Heathr': 4, 'Chrystine': 4, 'Jeston': 4, 'Shaniqua': 4, 'Brittiney': 4, 'Valarie': 4, 'Mystique': 4, 'Isidore': 4, 'Sabreen': 4, 'Benjamen': 4, 'Nashea': 4, 'Cherylann': 4, 'Carine': 4, 'Amish': 5, 'Garth': 5}\n",
      "Mystique   {'Mystique': 0, 'Kizzie': 1, 'Shikita': 1, 'Mareena': 1, 'Tahara': 2, 'Alexi': 2, 'Leigh': 2, 'Tinesha': 2, 'Tahra': 2, 'Valarie': 2, 'Naim': 2, 'Brittiney': 2, 'Natassja': 2, 'Cezar': 2, 'Elnora': 2, 'Amish': 2, 'Raina': 2, 'Jeanell': 2, 'Archie': 2, 'Pearlie': 2, 'Rindy': 2, 'Hunter': 2, 'Tynetta': 2, 'Patric': 2, 'Raymund': 2, 'Carine': 3, 'Tamilia': 3, 'Nikolaus': 3, 'Lavonte': 3, 'Sabreena': 3, 'Wafa': 3, 'Elzabeth': 3, 'Susanne': 3, 'Benjamen': 3, 'Dani': 3, 'Brenner': 3, 'Laria': 3, 'Karisha': 3, 'Krystyn': 3, 'Jermika': 3, 'Lakeita': 3, 'Lasheika': 3, 'Adelia': 3, 'Kezia': 3, 'Aser': 3, 'Shawta': 3, 'Johndaniel': 3, 'Mickaela': 3, 'Kiah': 3, 'Valine': 3, 'Hogan': 3, 'Marnell': 3, 'Jonika': 3, 'Ayonna': 3, 'Dung': 3, 'Porschia': 3, 'Jermine': 3, 'Venetta': 3, 'Rhiannon': 3, 'Jazzmon': 3, 'Arlie': 3, 'Marleny': 3, 'Viana': 3, 'Ted': 3, 'Jeston': 3, 'Chrystine': 3, 'Randalyn': 3, 'Garth': 4, 'Charita': 4, 'Romney': 4, 'Ibeth': 4, 'Heathr': 4, 'Vikram': 4, 'Mirranda': 4, 'Katharine': 4, 'Courtnay': 4, 'Alfonzo': 4, 'Shareen': 4, 'Laysa': 4, 'Sabreen': 4, 'Mccall': 4, 'Lashonda': 4, 'Isidore': 4, 'Dejan': 4, 'Shaniqua': 4, 'Marjorie': 4, 'Mazin': 4, 'Yakov': 4, 'Racquel': 4, 'Kaylor': 4, 'Nashea': 4, 'Cherylann': 4, 'Vernonica': 4, 'Arley': 4, 'Simone': 4, 'Shaneice': 4, 'Branson': 4}\n",
      "Naim       {'Naim': 0, 'Kizzie': 1, 'Krystyn': 1, 'Jermika': 1, 'Lakeita': 1, 'Lasheika': 1, 'Elzabeth': 1, 'Adelia': 1, 'Tahara': 2, 'Alexi': 2, 'Mystique': 2, 'Leigh': 2, 'Tinesha': 2, 'Tahra': 2, 'Valarie': 2, 'Brittiney': 2, 'Natassja': 2, 'Cezar': 2, 'Chrystine': 2, 'Shaniqua': 2, 'Courtnay': 2, 'Viana': 2, 'Dejan': 2, 'Jermine': 2, 'Hunter': 2, 'Shawta': 2, 'Dung': 2, 'Karisha': 2, 'Mickaela': 2, 'Vikram': 2, 'Tamilia': 2, 'Marleny': 2, 'Lavonte': 2, 'Porschia': 2, 'Elnora': 2, 'Archie': 2, 'Shareen': 2, 'Hogan': 2, 'Marjorie': 2, 'Sabreena': 2, 'Mazin': 2, 'Brenner': 2, 'Patric': 2, 'Jeanell': 2, 'Susanne': 2, 'Valine': 2, 'Venetta': 2, 'Carine': 3, 'Nikolaus': 3, 'Shikita': 3, 'Mareena': 3, 'Benjamen': 3, 'Wafa': 3, 'Dani': 3, 'Rindy': 3, 'Raymund': 3, 'Laria': 3, 'Kezia': 3, 'Aser': 3, 'Kiah': 3, 'Johndaniel': 3, 'Rhiannon': 3, 'Jonika': 3, 'Arlie': 3, 'Jeston': 3, 'Kaylor': 3, 'Branson': 3, 'Mirranda': 3, 'Alfonzo': 3, 'Jazzmon': 3, 'Katharine': 3, 'Shaneice': 3, 'Lashonda': 3, 'Raina': 3, 'Pearlie': 3, 'Yakov': 3, 'Vernonica': 3, 'Ted': 3, 'Marnell': 3, 'Romney': 3, 'Ibeth': 3, 'Heathr': 3, 'Arley': 3, 'Simone': 3, 'Tynetta': 3, 'Ayonna': 3, 'Isidore': 3, 'Sabreen': 3, 'Garth': 4, 'Charita': 4, 'Amish': 4, 'Laysa': 4, 'Mccall': 4, 'Randalyn': 4, 'Racquel': 4, 'Nashea': 4, 'Cherylann': 4}\n",
      "Nashea     {'Nashea': 0, 'Ayonna': 1, 'Archie': 2, 'Laria': 2, 'Katharine': 2, 'Jeanell': 2, 'Cherylann': 2, 'Sabreen': 2, 'Susanne': 2, 'Raymund': 2, 'Porschia': 3, 'Jermine': 3, 'Alexi': 3, 'Lasheika': 3, 'Mareena': 3, 'Venetta': 3, 'Elnora': 3, 'Hogan': 3, 'Tahra': 3, 'Marnell': 3, 'Natassja': 3, 'Romney': 3, 'Wafa': 3, 'Shikita': 3, 'Dung': 3, 'Tamilia': 3, 'Jonika': 3, 'Adelia': 3, 'Mccall': 3, 'Brenner': 3, 'Simone': 3, 'Benjamen': 3, 'Leigh': 3, 'Alfonzo': 3, 'Jazzmon': 3, 'Tinesha': 3, 'Courtnay': 3, 'Shareen': 3, 'Lavonte': 3, 'Chrystine': 3, 'Randalyn': 3, 'Arley': 4, 'Lakeita': 4, 'Mirranda': 4, 'Jermika': 4, 'Shaneice': 4, 'Branson': 4, 'Kizzie': 4, 'Nikolaus': 4, 'Naim': 4, 'Pearlie': 4, 'Rindy': 4, 'Mystique': 4, 'Hunter': 4, 'Tynetta': 4, 'Patric': 4, 'Raina': 4, 'Sabreena': 4, 'Karisha': 4, 'Mickaela': 4, 'Kaylor': 4, 'Racquel': 4, 'Kezia': 4, 'Aser': 4, 'Dani': 4, 'Amish': 4, 'Yakov': 4, 'Vernonica': 4, 'Tahara': 4, 'Ibeth': 4, 'Arlie': 4, 'Heathr': 4, 'Cezar': 4, 'Marjorie': 4, 'Lashonda': 4, 'Isidore': 4, 'Valine': 4, 'Mazin': 4, 'Rhiannon': 4, 'Johndaniel': 4, 'Marleny': 4, 'Kiah': 4, 'Laysa': 4, 'Elzabeth': 4, 'Ted': 4, 'Shawta': 4, 'Krystyn': 4, 'Jeston': 4, 'Viana': 4, 'Vikram': 5, 'Charita': 5, 'Dejan': 5, 'Brittiney': 5, 'Valarie': 5, 'Carine': 5, 'Shaniqua': 5, 'Garth': 6}\n",
      "Natassja   {'Natassja': 0, 'Kezia': 1, 'Kizzie': 1, 'Dani': 1, 'Laria': 1, 'Aser': 1, 'Mareena': 1, 'Pearlie': 2, 'Yakov': 2, 'Racquel': 2, 'Patric': 2, 'Kaylor': 2, 'Valine': 2, 'Tahara': 2, 'Alexi': 2, 'Mystique': 2, 'Leigh': 2, 'Tinesha': 2, 'Tahra': 2, 'Valarie': 2, 'Naim': 2, 'Brittiney': 2, 'Cezar': 2, 'Vikram': 2, 'Mccall': 2, 'Marleny': 2, 'Hogan': 2, 'Marnell': 2, 'Ayonna': 2, 'Mirranda': 2, 'Alfonzo': 2, 'Mazin': 2, 'Dung': 2, 'Arlie': 2, 'Courtnay': 2, 'Archie': 2, 'Rindy': 2, 'Hunter': 2, 'Tynetta': 2, 'Raymund': 2, 'Rhiannon': 3, 'Shawta': 3, 'Kiah': 3, 'Johndaniel': 3, 'Arley': 3, 'Laysa': 3, 'Ibeth': 3, 'Jazzmon': 3, 'Tamilia': 3, 'Jeston': 3, 'Adelia': 3, 'Ted': 3, 'Marjorie': 3, 'Shaneice': 3, 'Dejan': 3, 'Brenner': 3, 'Carine': 3, 'Nikolaus': 3, 'Lavonte': 3, 'Shikita': 3, 'Sabreena': 3, 'Wafa': 3, 'Elzabeth': 3, 'Susanne': 3, 'Benjamen': 3, 'Elnora': 3, 'Karisha': 3, 'Jermika': 3, 'Krystyn': 3, 'Lakeita': 3, 'Lasheika': 3, 'Mickaela': 3, 'Shaniqua': 3, 'Jonika': 3, 'Cherylann': 3, 'Vernonica': 3, 'Raina': 3, 'Katharine': 3, 'Nashea': 3, 'Jeanell': 3, 'Sabreen': 3, 'Jermine': 3, 'Romney': 3, 'Viana': 3, 'Porschia': 3, 'Venetta': 3, 'Chrystine': 3, 'Randalyn': 3, 'Simone': 4, 'Lashonda': 4, 'Heathr': 4, 'Charita': 4, 'Isidore': 4, 'Shareen': 4, 'Branson': 4, 'Garth': 4, 'Amish': 4}\n",
      "Nikolaus   {'Nikolaus': 0, 'Vikram': 1, 'Alexi': 1, 'Karisha': 1, 'Cezar': 1, 'Jermika': 2, 'Dani': 2, 'Shaniqua': 2, 'Kizzie': 2, 'Archie': 2, 'Lavonte': 2, 'Tahra': 2, 'Leigh': 2, 'Shawta': 2, 'Johndaniel': 2, 'Mickaela': 2, 'Kiah': 2, 'Tamilia': 2, 'Valine': 2, 'Jermine': 3, 'Hunter': 3, 'Dung': 3, 'Naim': 3, 'Marleny': 3, 'Mccall': 3, 'Tinesha': 3, 'Natassja': 3, 'Pearlie': 3, 'Rhiannon': 3, 'Krystyn': 3, 'Brittiney': 3, 'Tahara': 3, 'Valarie': 3, 'Mystique': 3, 'Porschia': 3, 'Ayonna': 3, 'Lasheika': 3, 'Mareena': 3, 'Venetta': 3, 'Elnora': 3, 'Mirranda': 3, 'Susanne': 3, 'Rindy': 3, 'Brenner': 3, 'Raymund': 3, 'Laria': 3, 'Elzabeth': 3, 'Benjamen': 3, 'Sabreena': 3, 'Wafa': 3, 'Alfonzo': 3, 'Lashonda': 3, 'Raina': 3, 'Yakov': 3, 'Ted': 3, 'Marnell': 3, 'Ibeth': 3, 'Romney': 3, 'Arlie': 3, 'Patric': 3, 'Heathr': 3, 'Jeanell': 3, 'Adelia': 3, 'Kezia': 3, 'Jazzmon': 3, 'Shaneice': 4, 'Katharine': 4, 'Branson': 4, 'Jonika': 4, 'Viana': 4, 'Aser': 4, 'Vernonica': 4, 'Lakeita': 4, 'Cherylann': 4, 'Chrystine': 4, 'Simone': 4, 'Dejan': 4, 'Courtnay': 4, 'Carine': 4, 'Shikita': 4, 'Arley': 4, 'Nashea': 4, 'Sabreen': 4, 'Shareen': 4, 'Tynetta': 4, 'Hogan': 4, 'Isidore': 4, 'Randalyn': 4, 'Laysa': 4, 'Amish': 4, 'Marjorie': 4, 'Kaylor': 4, 'Racquel': 4, 'Jeston': 4, 'Mazin': 4, 'Charita': 5, 'Garth': 5}\n",
      "Noha       {'Noha': 0}\n",
      "Patric     {'Patric': 0, 'Kezia': 1, 'Jazzmon': 1, 'Jeston': 1, 'Tamilia': 1, 'Mareena': 1, 'Adelia': 1, 'Pearlie': 2, 'Yakov': 2, 'Racquel': 2, 'Natassja': 2, 'Kaylor': 2, 'Valine': 2, 'Jermine': 2, 'Laysa': 2, 'Rindy': 2, 'Randalyn': 2, 'Ted': 2, 'Brenner': 2, 'Wafa': 2, 'Susanne': 2, 'Charita': 2, 'Isidore': 2, 'Shareen': 2, 'Viana': 2, 'Tahara': 2, 'Ibeth': 2, 'Jermika': 2, 'Romney': 2, 'Arlie': 2, 'Heathr': 2, 'Jeanell': 2, 'Cezar': 2, 'Archie': 2, 'Mystique': 2, 'Hunter': 2, 'Tynetta': 2, 'Raymund': 2, 'Hogan': 2, 'Porschia': 2, 'Marjorie': 2, 'Sabreena': 2, 'Mazin': 2, 'Naim': 2, 'Venetta': 2, 'Rhiannon': 3, 'Dani': 3, 'Shawta': 3, 'Kiah': 3, 'Dung': 3, 'Johndaniel': 3, 'Arley': 3, 'Marnell': 3, 'Kizzie': 3, 'Aser': 3, 'Laria': 3, 'Dejan': 3, 'Shaneice': 3, 'Mirranda': 3, 'Alfonzo': 3, 'Katharine': 3, 'Branson': 3, 'Benjamen': 3, 'Tahra': 3, 'Mickaela': 3, 'Lashonda': 3, 'Marleny': 3, 'Sabreen': 3, 'Leigh': 3, 'Tinesha': 3, 'Ayonna': 3, 'Courtnay': 3, 'Lavonte': 3, 'Carine': 3, 'Simone': 3, 'Jonika': 3, 'Lasheika': 3, 'Chrystine': 3, 'Krystyn': 3, 'Vikram': 3, 'Karisha': 3, 'Shikita': 3, 'Nikolaus': 3, 'Elnora': 3, 'Alexi': 3, 'Raina': 3, 'Lakeita': 3, 'Elzabeth': 3, 'Mccall': 4, 'Shaniqua': 4, 'Vernonica': 4, 'Brittiney': 4, 'Valarie': 4, 'Nashea': 4, 'Cherylann': 4, 'Garth': 4, 'Amish': 4}\n",
      "Pearlie    {'Pearlie': 0, 'Kezia': 1, 'Rhiannon': 1, 'Dani': 1, 'Rindy': 1, 'Shawta': 1, 'Mareena': 1, 'Yakov': 2, 'Racquel': 2, 'Natassja': 2, 'Patric': 2, 'Kaylor': 2, 'Valine': 2, 'Mccall': 2, 'Chrystine': 2, 'Shaniqua': 2, 'Simone': 2, 'Vikram': 2, 'Tinesha': 2, 'Marleny': 2, 'Jazzmon': 2, 'Tahra': 2, 'Arlie': 2, 'Raina': 2, 'Jermika': 2, 'Alfonzo': 2, 'Lashonda': 2, 'Cezar': 2, 'Archie': 2, 'Mystique': 2, 'Hunter': 2, 'Tynetta': 2, 'Raymund': 2, 'Kiah': 3, 'Dung': 3, 'Johndaniel': 3, 'Arley': 3, 'Laysa': 3, 'Ibeth': 3, 'Marnell': 3, 'Kizzie': 3, 'Aser': 3, 'Laria': 3, 'Tamilia': 3, 'Jeston': 3, 'Adelia': 3, 'Ted': 3, 'Marjorie': 3, 'Shaneice': 3, 'Dejan': 3, 'Brenner': 3, 'Jonika': 3, 'Cherylann': 3, 'Vernonica': 3, 'Krystyn': 3, 'Viana': 3, 'Porschia': 3, 'Isidore': 3, 'Sabreen': 3, 'Branson': 3, 'Nikolaus': 3, 'Susanne': 3, 'Elnora': 3, 'Sabreena': 3, 'Wafa': 3, 'Jermine': 3, 'Randalyn': 3, 'Lavonte': 3, 'Karisha': 3, 'Hogan': 3, 'Shikita': 3, 'Amish': 3, 'Mickaela': 3, 'Naim': 3, 'Romney': 3, 'Leigh': 3, 'Ayonna': 3, 'Lasheika': 3, 'Venetta': 3, 'Alexi': 3, 'Benjamen': 4, 'Jeanell': 4, 'Mirranda': 4, 'Katharine': 4, 'Brittiney': 4, 'Tahara': 4, 'Valarie': 4, 'Mazin': 4, 'Courtnay': 4, 'Heathr': 4, 'Charita': 4, 'Shareen': 4, 'Lakeita': 4, 'Elzabeth': 4, 'Nashea': 4, 'Carine': 5, 'Garth': 6}\n",
      "Porschia   {'Porschia': 0, 'Archie': 1, 'Arley': 1, 'Lakeita': 1, 'Simone': 1, 'Adelia': 1, 'Jermine': 2, 'Ayonna': 2, 'Alexi': 2, 'Lasheika': 2, 'Mareena': 2, 'Venetta': 2, 'Elnora': 2, 'Mirranda': 2, 'Racquel': 2, 'Naim': 2, 'Rhiannon': 2, 'Isidore': 2, 'Sabreen': 2, 'Branson': 2, 'Hogan': 2, 'Marjorie': 2, 'Sabreena': 2, 'Mazin': 2, 'Brenner': 2, 'Tamilia': 2, 'Patric': 2, 'Jeanell': 2, 'Susanne': 2, 'Valine': 2, 'Jermika': 3, 'Jazzmon': 3, 'Alfonzo': 3, 'Katharine': 3, 'Shaneice': 3, 'Nashea': 3, 'Raymund': 3, 'Laria': 3, 'Cherylann': 3, 'Kizzie': 3, 'Nikolaus': 3, 'Lavonte': 3, 'Shareen': 3, 'Pearlie': 3, 'Rindy': 3, 'Mystique': 3, 'Hunter': 3, 'Tynetta': 3, 'Natassja': 3, 'Jonika': 3, 'Romney': 3, 'Shikita': 3, 'Tinesha': 3, 'Aser': 3, 'Kezia': 3, 'Laysa': 3, 'Ibeth': 3, 'Marnell': 3, 'Elzabeth': 3, 'Krystyn': 3, 'Mccall': 3, 'Chrystine': 3, 'Shaniqua': 3, 'Jeston': 3, 'Benjamen': 3, 'Dejan': 3, 'Raina': 3, 'Wafa': 3, 'Ted': 3, 'Kaylor': 3, 'Leigh': 3, 'Lashonda': 3, 'Tahra': 3, 'Marleny': 3, 'Arlie': 3, 'Tahara': 3, 'Heathr': 3, 'Cezar': 3, 'Dung': 3, 'Courtnay': 3, 'Mickaela': 4, 'Shawta': 4, 'Vikram': 4, 'Karisha': 4, 'Randalyn': 4, 'Charita': 4, 'Brittiney': 4, 'Valarie': 4, 'Dani': 4, 'Kiah': 4, 'Viana': 4, 'Amish': 4, 'Yakov': 4, 'Johndaniel': 4, 'Vernonica': 4, 'Carine': 4, 'Garth': 5}\n",
      "Racquel    {'Racquel': 0, 'Kezia': 1, 'Laysa': 1, 'Marnell': 1, 'Ibeth': 1, 'Arley': 1, 'Pearlie': 2, 'Yakov': 2, 'Natassja': 2, 'Patric': 2, 'Kaylor': 2, 'Valine': 2, 'Jazzmon': 2, 'Benjamen': 2, 'Raina': 2, 'Katharine': 2, 'Laria': 2, 'Mickaela': 2, 'Susanne': 2, 'Tamilia': 2, 'Shaneice': 2, 'Jonika': 2, 'Mirranda': 2, 'Porschia': 2, 'Rhiannon': 3, 'Dani': 3, 'Rindy': 3, 'Shawta': 3, 'Mareena': 3, 'Kiah': 3, 'Dung': 3, 'Johndaniel': 3, 'Kizzie': 3, 'Aser': 3, 'Jeston': 3, 'Adelia': 3, 'Ted': 3, 'Marjorie': 3, 'Dejan': 3, 'Brenner': 3, 'Cezar': 3, 'Jermine': 3, 'Randalyn': 3, 'Wafa': 3, 'Leigh': 3, 'Sabreen': 3, 'Hogan': 3, 'Shikita': 3, 'Amish': 3, 'Tynetta': 3, 'Ayonna': 3, 'Romney': 3, 'Tahra': 3, 'Jermika': 3, 'Alfonzo': 3, 'Tinesha': 3, 'Courtnay': 3, 'Shareen': 3, 'Lavonte': 3, 'Arlie': 3, 'Tahara': 3, 'Heathr': 3, 'Jeanell': 3, 'Charita': 3, 'Chrystine': 3, 'Lashonda': 3, 'Hunter': 3, 'Isidore': 3, 'Mccall': 3, 'Venetta': 3, 'Simone': 3, 'Archie': 3, 'Lakeita': 3, 'Shaniqua': 4, 'Vikram': 4, 'Marleny': 4, 'Raymund': 4, 'Mystique': 4, 'Vernonica': 4, 'Brittiney': 4, 'Naim': 4, 'Valarie': 4, 'Alexi': 4, 'Mazin': 4, 'Viana': 4, 'Sabreena': 4, 'Krystyn': 4, 'Branson': 4, 'Nikolaus': 4, 'Elzabeth': 4, 'Elnora': 4, 'Nashea': 4, 'Cherylann': 4, 'Karisha': 4, 'Lasheika': 4, 'Carine': 4, 'Garth': 5}\n",
      "Raina      {'Raina': 0, 'Hogan': 1, 'Marnell': 1, 'Shikita': 1, 'Shawta': 1, 'Tynetta': 1, 'Amish': 1, 'Sabreena': 2, 'Laria': 2, 'Wafa': 2, 'Susanne': 2, 'Adelia': 2, 'Mickaela': 2, 'Kaylor': 2, 'Racquel': 2, 'Katharine': 2, 'Elnora': 2, 'Jeanell': 2, 'Mystique': 2, 'Pearlie': 2, 'Jermika': 2, 'Alfonzo': 2, 'Lashonda': 2, 'Cezar': 2, 'Ted': 2, 'Mareena': 2, 'Leigh': 3, 'Tinesha': 3, 'Romney': 3, 'Natassja': 3, 'Tahra': 3, 'Ayonna': 3, 'Jazzmon': 3, 'Courtnay': 3, 'Lavonte': 3, 'Shareen': 3, 'Marjorie': 3, 'Porschia': 3, 'Mazin': 3, 'Naim': 3, 'Brenner': 3, 'Tamilia': 3, 'Patric': 3, 'Valine': 3, 'Venetta': 3, 'Kezia': 3, 'Shaneice': 3, 'Dejan': 3, 'Arley': 3, 'Laysa': 3, 'Ibeth': 3, 'Jermine': 3, 'Archie': 3, 'Lakeita': 3, 'Jonika': 3, 'Dung': 3, 'Kizzie': 3, 'Rindy': 3, 'Rhiannon': 3, 'Dani': 3, 'Vikram': 3, 'Hunter': 3, 'Karisha': 3, 'Marleny': 3, 'Aser': 3, 'Nikolaus': 3, 'Kiah': 3, 'Johndaniel': 3, 'Raymund': 3, 'Elzabeth': 4, 'Benjamen': 4, 'Nashea': 4, 'Cherylann': 4, 'Sabreen': 4, 'Randalyn': 4, 'Krystyn': 4, 'Mirranda': 4, 'Alexi': 4, 'Jeston': 4, 'Lasheika': 4, 'Chrystine': 4, 'Simone': 4, 'Isidore': 4, 'Arlie': 4, 'Tahara': 4, 'Heathr': 4, 'Yakov': 4, 'Charita': 4, 'Viana': 4, 'Branson': 4, 'Mccall': 4, 'Vernonica': 4, 'Brittiney': 4, 'Valarie': 4, 'Shaniqua': 4, 'Carine': 5, 'Garth': 6}\n",
      "Randalyn   {'Randalyn': 0, 'Jazzmon': 1, 'Raymund': 1, 'Jermine': 2, 'Laysa': 2, 'Rindy': 2, 'Ted': 2, 'Brenner': 2, 'Patric': 2, 'Wafa': 2, 'Susanne': 2, 'Valine': 2, 'Tahra': 2, 'Chrystine': 2, 'Ayonna': 2, 'Mareena': 2, 'Mirranda': 3, 'Archie': 3, 'Branson': 3, 'Jermika': 3, 'Alfonzo': 3, 'Katharine': 3, 'Shaneice': 3, 'Racquel': 3, 'Benjamen': 3, 'Rhiannon': 3, 'Arlie': 3, 'Pearlie': 3, 'Mickaela': 3, 'Marjorie': 3, 'Kaylor': 3, 'Tynetta': 3, 'Lashonda': 3, 'Isidore': 3, 'Marleny': 3, 'Sabreen': 3, 'Adelia': 3, 'Kezia': 3, 'Tamilia': 3, 'Jeston': 3, 'Hogan': 3, 'Tinesha': 3, 'Leigh': 3, 'Marnell': 3, 'Courtnay': 3, 'Lavonte': 3, 'Shareen': 3, 'Cezar': 3, 'Kizzie': 3, 'Laria': 3, 'Karisha': 3, 'Jonika': 3, 'Krystyn': 3, 'Viana': 3, 'Nashea': 3, 'Cherylann': 3, 'Jeanell': 3, 'Hunter': 3, 'Natassja': 3, 'Mystique': 3, 'Aser': 4, 'Arley': 4, 'Porschia': 4, 'Alexi': 4, 'Lasheika': 4, 'Venetta': 4, 'Elnora': 4, 'Dejan': 4, 'Simone': 4, 'Vikram': 4, 'Shawta': 4, 'Dung': 4, 'Naim': 4, 'Romney': 4, 'Charita': 4, 'Ibeth': 4, 'Kiah': 4, 'Mccall': 4, 'Shaniqua': 4, 'Dani': 4, 'Raina': 4, 'Mazin': 4, 'Sabreena': 4, 'Yakov': 4, 'Tahara': 4, 'Heathr': 4, 'Elzabeth': 4, 'Nikolaus': 4, 'Johndaniel': 4, 'Brittiney': 4, 'Valarie': 4, 'Shikita': 4, 'Lakeita': 5, 'Vernonica': 5, 'Carine': 5, 'Amish': 5, 'Garth': 6}\n",
      "Raymund    {'Raymund': 0, 'Chrystine': 1, 'Ayonna': 1, 'Tahra': 1, 'Randalyn': 1, 'Mareena': 1, 'Marjorie': 2, 'Rhiannon': 2, 'Krystyn': 2, 'Jonika': 2, 'Viana': 2, 'Archie': 2, 'Laria': 2, 'Katharine': 2, 'Nashea': 2, 'Cherylann': 2, 'Jeanell': 2, 'Sabreen': 2, 'Susanne': 2, 'Kizzie': 2, 'Rindy': 2, 'Karisha': 2, 'Brenner': 2, 'Lavonte': 2, 'Jazzmon': 2, 'Pearlie': 2, 'Mystique': 2, 'Hunter': 2, 'Tynetta': 2, 'Patric': 2, 'Natassja': 2, 'Ted': 3, 'Kaylor': 3, 'Adelia': 3, 'Mccall': 3, 'Simone': 3, 'Shaniqua': 3, 'Dejan': 3, 'Courtnay': 3, 'Naim': 3, 'Lashonda': 3, 'Isidore': 3, 'Ibeth': 3, 'Venetta': 3, 'Arlie': 3, 'Jeston': 3, 'Porschia': 3, 'Jermine': 3, 'Alexi': 3, 'Lasheika': 3, 'Elnora': 3, 'Hogan': 3, 'Marnell': 3, 'Romney': 3, 'Wafa': 3, 'Shikita': 3, 'Tamilia': 3, 'Dung': 3, 'Benjamen': 3, 'Leigh': 3, 'Alfonzo': 3, 'Shareen': 3, 'Tinesha': 3, 'Brittiney': 3, 'Tahara': 3, 'Valarie': 3, 'Cezar': 3, 'Jermika': 3, 'Nikolaus': 3, 'Valine': 3, 'Marleny': 3, 'Mirranda': 3, 'Laysa': 3, 'Kezia': 3, 'Dani': 3, 'Shawta': 3, 'Kiah': 3, 'Raina': 3, 'Aser': 3, 'Mickaela': 4, 'Shaneice': 4, 'Mazin': 4, 'Sabreena': 4, 'Johndaniel': 4, 'Vernonica': 4, 'Branson': 4, 'Vikram': 4, 'Elzabeth': 4, 'Lakeita': 4, 'Racquel': 4, 'Charita': 4, 'Arley': 4, 'Amish': 4, 'Heathr': 4, 'Yakov': 4, 'Carine': 4, 'Garth': 5}\n",
      "Rhiannon   {'Rhiannon': 0, 'Chrystine': 1, 'Pearlie': 1, 'Rindy': 1, 'Shaniqua': 1, 'Mccall': 1, 'Simone': 1, 'Marjorie': 2, 'Krystyn': 2, 'Jonika': 2, 'Viana': 2, 'Raymund': 2, 'Kezia': 2, 'Dani': 2, 'Shawta': 2, 'Mareena': 2, 'Jazzmon': 2, 'Tahra': 2, 'Arlie': 2, 'Vikram': 2, 'Vernonica': 2, 'Johndaniel': 2, 'Cherylann': 2, 'Porschia': 2, 'Isidore': 2, 'Sabreen': 2, 'Branson': 2, 'Ted': 3, 'Kaylor': 3, 'Adelia': 3, 'Dejan': 3, 'Courtnay': 3, 'Naim': 3, 'Ibeth': 3, 'Lashonda': 3, 'Hunter': 3, 'Jeanell': 3, 'Venetta': 3, 'Jeston': 3, 'Ayonna': 3, 'Randalyn': 3, 'Yakov': 3, 'Valine': 3, 'Racquel': 3, 'Patric': 3, 'Natassja': 3, 'Tinesha': 3, 'Marleny': 3, 'Jermika': 3, 'Alfonzo': 3, 'Raina': 3, 'Cezar': 3, 'Archie': 3, 'Tynetta': 3, 'Mystique': 3, 'Jermine': 3, 'Laysa': 3, 'Brenner': 3, 'Wafa': 3, 'Susanne': 3, 'Kizzie': 3, 'Laria': 3, 'Lavonte': 3, 'Karisha': 3, 'Aser': 3, 'Tamilia': 3, 'Nikolaus': 3, 'Dung': 3, 'Arley': 3, 'Lakeita': 3, 'Benjamen': 3, 'Mickaela': 4, 'Marnell': 4, 'Shaneice': 4, 'Hogan': 4, 'Mazin': 4, 'Sabreena': 4, 'Elzabeth': 4, 'Lasheika': 4, 'Kiah': 4, 'Shikita': 4, 'Romney': 4, 'Charita': 4, 'Shareen': 4, 'Nashea': 4, 'Katharine': 4, 'Elnora': 4, 'Amish': 4, 'Leigh': 4, 'Alexi': 4, 'Mirranda': 4, 'Brittiney': 4, 'Tahara': 4, 'Valarie': 4, 'Heathr': 4, 'Carine': 5, 'Garth': 6}\n",
      "Rindy      {'Rindy': 0, 'Rhiannon': 1, 'Pearlie': 1, 'Jazzmon': 1, 'Tahra': 1, 'Arlie': 1, 'Mareena': 1, 'Mccall': 2, 'Chrystine': 2, 'Shaniqua': 2, 'Simone': 2, 'Kezia': 2, 'Dani': 2, 'Shawta': 2, 'Jermine': 2, 'Laysa': 2, 'Randalyn': 2, 'Ted': 2, 'Brenner': 2, 'Patric': 2, 'Wafa': 2, 'Susanne': 2, 'Valine': 2, 'Kizzie': 2, 'Laria': 2, 'Karisha': 2, 'Raymund': 2, 'Lavonte': 2, 'Dejan': 2, 'Aser': 2, 'Tamilia': 2, 'Viana': 2, 'Archie': 2, 'Mystique': 2, 'Hunter': 2, 'Tynetta': 2, 'Natassja': 2, 'Vernonica': 3, 'Jonika': 3, 'Johndaniel': 3, 'Cherylann': 3, 'Marjorie': 3, 'Krystyn': 3, 'Vikram': 3, 'Porschia': 3, 'Isidore': 3, 'Sabreen': 3, 'Branson': 3, 'Yakov': 3, 'Racquel': 3, 'Kaylor': 3, 'Tinesha': 3, 'Marleny': 3, 'Raina': 3, 'Jermika': 3, 'Alfonzo': 3, 'Lashonda': 3, 'Cezar': 3, 'Mirranda': 3, 'Shaneice': 3, 'Katharine': 3, 'Benjamen': 3, 'Mickaela': 3, 'Adelia': 3, 'Jeston': 3, 'Hogan': 3, 'Leigh': 3, 'Marnell': 3, 'Ayonna': 3, 'Courtnay': 3, 'Shareen': 3, 'Tahara': 3, 'Alexi': 3, 'Valarie': 3, 'Naim': 3, 'Brittiney': 3, 'Nikolaus': 3, 'Venetta': 3, 'Mazin': 3, 'Dung': 3, 'Romney': 3, 'Ibeth': 3, 'Heathr': 3, 'Jeanell': 3, 'Elnora': 3, 'Lasheika': 3, 'Shikita': 3, 'Kiah': 3, 'Arley': 4, 'Lakeita': 4, 'Sabreena': 4, 'Amish': 4, 'Charita': 4, 'Elzabeth': 4, 'Nashea': 4, 'Carine': 4, 'Garth': 5}\n",
      "Romney     {'Romney': 0, 'Sabreena': 1, 'Alfonzo': 1, 'Katharine': 1, 'Tamilia': 1, 'Venetta': 1, 'Hogan': 2, 'Tinesha': 2, 'Adelia': 2, 'Leigh': 2, 'Jermine': 2, 'Shawta': 2, 'Ted': 2, 'Shaneice': 2, 'Aser': 2, 'Susanne': 2, 'Marnell': 2, 'Ayonna': 2, 'Wafa': 2, 'Tahara': 2, 'Ibeth': 2, 'Jermika': 2, 'Arlie': 2, 'Patric': 2, 'Heathr': 2, 'Jeanell': 2, 'Cezar': 2, 'Hunter': 2, 'Archie': 2, 'Lavonte': 2, 'Jonika': 2, 'Laria': 3, 'Raina': 3, 'Kizzie': 3, 'Dani': 3, 'Elnora': 3, 'Marjorie': 3, 'Porschia': 3, 'Mazin': 3, 'Naim': 3, 'Brenner': 3, 'Valine': 3, 'Elzabeth': 3, 'Benjamen': 3, 'Mirranda': 3, 'Jazzmon': 3, 'Branson': 3, 'Lashonda': 3, 'Pearlie': 3, 'Mickaela': 3, 'Kaylor': 3, 'Tynetta': 3, 'Charita': 3, 'Natassja': 3, 'Courtnay': 3, 'Dung': 3, 'Shareen': 3, 'Racquel': 3, 'Nashea': 3, 'Raymund': 3, 'Cherylann': 3, 'Sabreen': 3, 'Carine': 3, 'Vikram': 3, 'Karisha': 3, 'Marleny': 3, 'Rindy': 3, 'Dejan': 3, 'Viana': 3, 'Kezia': 3, 'Mareena': 3, 'Jeston': 3, 'Shikita': 3, 'Nikolaus': 3, 'Kiah': 3, 'Johndaniel': 3, 'Lasheika': 3, 'Alexi': 3, 'Tahra': 3, 'Mccall': 3, 'Chrystine': 3, 'Isidore': 3, 'Amish': 4, 'Brittiney': 4, 'Valarie': 4, 'Mystique': 4, 'Lakeita': 4, 'Arley': 4, 'Simone': 4, 'Krystyn': 4, 'Laysa': 4, 'Randalyn': 4, 'Rhiannon': 4, 'Yakov': 4, 'Vernonica': 4, 'Garth': 4, 'Shaniqua': 4}\n",
      "Sabreen    {'Sabreen': 0, 'Brenner': 1, 'Simone': 1, 'Ayonna': 1, 'Benjamen': 1, 'Jazzmon': 2, 'Tahra': 2, 'Isidore': 2, 'Lashonda': 2, 'Marleny': 2, 'Valine': 2, 'Adelia': 2, 'Porschia': 2, 'Rhiannon': 2, 'Branson': 2, 'Archie': 2, 'Laria': 2, 'Katharine': 2, 'Nashea': 2, 'Cherylann': 2, 'Jeanell': 2, 'Susanne': 2, 'Raymund': 2, 'Leigh': 2, 'Kiah': 2, 'Laysa': 2, 'Ibeth': 2, 'Jermine': 3, 'Rindy': 3, 'Randalyn': 3, 'Ted': 3, 'Patric': 3, 'Wafa': 3, 'Kizzie': 3, 'Lavonte': 3, 'Karisha': 3, 'Jonika': 3, 'Jeston': 3, 'Shawta': 3, 'Jermika': 3, 'Hunter': 3, 'Dani': 3, 'Kezia': 3, 'Cezar': 3, 'Hogan': 3, 'Marjorie': 3, 'Sabreena': 3, 'Mazin': 3, 'Naim': 3, 'Tamilia': 3, 'Venetta': 3, 'Arley': 3, 'Lakeita': 3, 'Mccall': 3, 'Chrystine': 3, 'Shaniqua': 3, 'Pearlie': 3, 'Dejan': 3, 'Mareena': 3, 'Elnora': 3, 'Lasheika': 3, 'Alexi': 3, 'Marnell': 3, 'Natassja': 3, 'Romney': 3, 'Shikita': 3, 'Dung': 3, 'Alfonzo': 3, 'Courtnay': 3, 'Shareen': 3, 'Tinesha': 3, 'Elzabeth': 3, 'Yakov': 3, 'Racquel': 3, 'Shaneice': 3, 'Mirranda': 4, 'Arlie': 4, 'Mickaela': 4, 'Kaylor': 4, 'Tynetta': 4, 'Brittiney': 4, 'Tahara': 4, 'Valarie': 4, 'Mystique': 4, 'Nikolaus': 4, 'Charita': 4, 'Viana': 4, 'Raina': 4, 'Vikram': 4, 'Johndaniel': 4, 'Aser': 4, 'Krystyn': 4, 'Heathr': 4, 'Vernonica': 4, 'Amish': 4, 'Carine': 5, 'Garth': 6}\n",
      "Sabreena   {'Sabreena': 0, 'Hogan': 1, 'Leigh': 1, 'Tinesha': 1, 'Romney': 1, 'Adelia': 1, 'Susanne': 2, 'Laria': 2, 'Raina': 2, 'Wafa': 2, 'Kizzie': 2, 'Cezar': 2, 'Elzabeth': 2, 'Benjamen': 2, 'Dani': 2, 'Elnora': 2, 'Alfonzo': 2, 'Tamilia': 2, 'Katharine': 2, 'Venetta': 2, 'Marjorie': 2, 'Porschia': 2, 'Mazin': 2, 'Naim': 2, 'Brenner': 2, 'Patric': 2, 'Jeanell': 2, 'Valine': 2, 'Marnell': 3, 'Ayonna': 3, 'Jazzmon': 3, 'Courtnay': 3, 'Shareen': 3, 'Lavonte': 3, 'Tahra': 3, 'Natassja': 3, 'Amish': 3, 'Shikita': 3, 'Shawta': 3, 'Tynetta': 3, 'Tahara': 3, 'Alexi': 3, 'Mystique': 3, 'Valarie': 3, 'Brittiney': 3, 'Mickaela': 3, 'Nikolaus': 3, 'Kiah': 3, 'Johndaniel': 3, 'Laysa': 3, 'Ibeth': 3, 'Sabreen': 3, 'Vikram': 3, 'Mccall': 3, 'Marleny': 3, 'Pearlie': 3, 'Archie': 3, 'Lakeita': 3, 'Ted': 3, 'Aser': 3, 'Jermine': 3, 'Shaneice': 3, 'Jermika': 3, 'Arlie': 3, 'Heathr': 3, 'Hunter': 3, 'Jonika': 3, 'Kaylor': 3, 'Chrystine': 3, 'Arley': 3, 'Simone': 3, 'Krystyn': 3, 'Lasheika': 3, 'Lashonda': 3, 'Isidore': 3, 'Kezia': 3, 'Mareena': 3, 'Jeston': 3, 'Dung': 3, 'Racquel': 4, 'Nashea': 4, 'Raymund': 4, 'Cherylann': 4, 'Rindy': 4, 'Randalyn': 4, 'Mirranda': 4, 'Karisha': 4, 'Carine': 4, 'Yakov': 4, 'Shaniqua': 4, 'Rhiannon': 4, 'Vernonica': 4, 'Branson': 4, 'Charita': 4, 'Dejan': 4, 'Viana': 4, 'Garth': 5}\n",
      "Shaneice   {'Shaneice': 0, 'Jermine': 1, 'Ibeth': 1, 'Charita': 1, 'Alfonzo': 1, 'Kaylor': 1, 'Mirranda': 2, 'Archie': 2, 'Branson': 2, 'Jermika': 2, 'Jazzmon': 2, 'Katharine': 2, 'Tamilia': 2, 'Racquel': 2, 'Jonika': 2, 'Benjamen': 2, 'Carine': 2, 'Jeston': 2, 'Shawta': 2, 'Romney': 2, 'Ted': 2, 'Aser': 2, 'Susanne': 2, 'Kezia': 2, 'Marjorie': 2, 'Marnell': 2, 'Dejan': 2, 'Arley': 3, 'Lavonte': 3, 'Porschia': 3, 'Ayonna': 3, 'Alexi': 3, 'Lasheika': 3, 'Mareena': 3, 'Venetta': 3, 'Elnora': 3, 'Simone': 3, 'Hunter': 3, 'Dung': 3, 'Karisha': 3, 'Naim': 3, 'Mickaela': 3, 'Vikram': 3, 'Marleny': 3, 'Laysa': 3, 'Rindy': 3, 'Randalyn': 3, 'Brenner': 3, 'Patric': 3, 'Wafa': 3, 'Valine': 3, 'Tahara': 3, 'Arlie': 3, 'Heathr': 3, 'Jeanell': 3, 'Adelia': 3, 'Cezar': 3, 'Mccall': 3, 'Lashonda': 3, 'Chrystine': 3, 'Isidore': 3, 'Leigh': 3, 'Kiah': 3, 'Sabreen': 3, 'Garth': 3, 'Shareen': 3, 'Viana': 3, 'Raina': 3, 'Pearlie': 3, 'Sabreena': 3, 'Tynetta': 3, 'Natassja': 3, 'Mazin': 3, 'Courtnay': 3, 'Hogan': 3, 'Tinesha': 3, 'Yakov': 3, 'Laria': 3, 'Krystyn': 3, 'Tahra': 4, 'Lakeita': 4, 'Nashea': 4, 'Raymund': 4, 'Cherylann': 4, 'Kizzie': 4, 'Nikolaus': 4, 'Mystique': 4, 'Shikita': 4, 'Rhiannon': 4, 'Vernonica': 4, 'Elzabeth': 4, 'Dani': 4, 'Shaniqua': 4, 'Johndaniel': 4, 'Amish': 4, 'Brittiney': 5, 'Valarie': 5}\n",
      "Shaniqua   {'Shaniqua': 0, 'Vikram': 1, 'Rhiannon': 1, 'Krystyn': 1, 'Jermika': 2, 'Nikolaus': 2, 'Dani': 2, 'Chrystine': 2, 'Pearlie': 2, 'Rindy': 2, 'Mccall': 2, 'Simone': 2, 'Viana': 2, 'Courtnay': 2, 'Dejan': 2, 'Naim': 2, 'Jermine': 3, 'Hunter': 3, 'Shawta': 3, 'Dung': 3, 'Karisha': 3, 'Mickaela': 3, 'Tamilia': 3, 'Marleny': 3, 'Lavonte': 3, 'Alexi': 3, 'Cezar': 3, 'Tinesha': 3, 'Natassja': 3, 'Marjorie': 3, 'Raymund': 3, 'Jonika': 3, 'Kezia': 3, 'Mareena': 3, 'Jazzmon': 3, 'Tahra': 3, 'Arlie': 3, 'Vernonica': 3, 'Johndaniel': 3, 'Cherylann': 3, 'Porschia': 3, 'Isidore': 3, 'Sabreen': 3, 'Branson': 3, 'Jeston': 3, 'Aser': 3, 'Susanne': 3, 'Elzabeth': 3, 'Kaylor': 3, 'Kizzie': 3, 'Adelia': 3, 'Lakeita': 3, 'Lasheika': 3, 'Mirranda': 4, 'Archie': 4, 'Alfonzo': 4, 'Katharine': 4, 'Shaneice': 4, 'Kiah': 4, 'Venetta': 4, 'Lashonda': 4, 'Raina': 4, 'Yakov': 4, 'Jeanell': 4, 'Ted': 4, 'Marnell': 4, 'Tahara': 4, 'Ibeth': 4, 'Romney': 4, 'Patric': 4, 'Heathr': 4, 'Brenner': 4, 'Leigh': 4, 'Valine': 4, 'Elnora': 4, 'Sabreena': 4, 'Wafa': 4, 'Laria': 4, 'Ayonna': 4, 'Randalyn': 4, 'Racquel': 4, 'Tynetta': 4, 'Mystique': 4, 'Laysa': 4, 'Arley': 4, 'Benjamen': 4, 'Charita': 4, 'Shareen': 4, 'Mazin': 4, 'Hogan': 4, 'Brittiney': 4, 'Valarie': 4, 'Shikita': 5, 'Amish': 5, 'Carine': 5, 'Nashea': 5, 'Garth': 6}\n",
      "Shareen    {'Shareen': 0, 'Susanne': 1, 'Jeston': 1, 'Lasheika': 1, 'Hogan': 2, 'Marnell': 2, 'Ayonna': 2, 'Leigh': 2, 'Alfonzo': 2, 'Jazzmon': 2, 'Tinesha': 2, 'Courtnay': 2, 'Lavonte': 2, 'Adelia': 2, 'Charita': 2, 'Isidore': 2, 'Patric': 2, 'Viana': 2, 'Archie': 2, 'Naim': 2, 'Laria': 3, 'Raina': 3, 'Sabreena': 3, 'Wafa': 3, 'Mickaela': 3, 'Kaylor': 3, 'Racquel': 3, 'Katharine': 3, 'Nashea': 3, 'Sabreen': 3, 'Cherylann': 3, 'Jeanell': 3, 'Raymund': 3, 'Kizzie': 3, 'Cezar': 3, 'Elzabeth': 3, 'Benjamen': 3, 'Jermine': 3, 'Shawta': 3, 'Romney': 3, 'Ted': 3, 'Shaneice': 3, 'Aser': 3, 'Laysa': 3, 'Rindy': 3, 'Brenner': 3, 'Randalyn': 3, 'Valine': 3, 'Dani': 3, 'Elnora': 3, 'Krystyn': 3, 'Mirranda': 3, 'Alexi': 3, 'Jermika': 3, 'Tahra': 3, 'Venetta': 3, 'Marjorie': 3, 'Tamilia': 3, 'Mazin': 3, 'Porschia': 3, 'Carine': 3, 'Simone': 3, 'Jonika': 3, 'Kezia': 3, 'Mareena': 3, 'Dejan': 3, 'Hunter': 3, 'Chrystine': 3, 'Arlie': 3, 'Lakeita': 3, 'Natassja': 4, 'Shikita': 4, 'Amish': 4, 'Tynetta': 4, 'Arley': 4, 'Ibeth': 4, 'Mccall': 4, 'Dung': 4, 'Brittiney': 4, 'Tahara': 4, 'Valarie': 4, 'Mystique': 4, 'Nikolaus': 4, 'Kiah': 4, 'Johndaniel': 4, 'Branson': 4, 'Lashonda': 4, 'Pearlie': 4, 'Rhiannon': 4, 'Marleny': 4, 'Vikram': 4, 'Shaniqua': 4, 'Karisha': 4, 'Heathr': 4, 'Garth': 4, 'Yakov': 4, 'Vernonica': 5}\n",
      "Shawta     {'Shawta': 0, 'Raina': 1, 'Pearlie': 1, 'Jermika': 1, 'Alfonzo': 1, 'Lashonda': 1, 'Cezar': 1, 'Hogan': 2, 'Marnell': 2, 'Shikita': 2, 'Tynetta': 2, 'Amish': 2, 'Kezia': 2, 'Rhiannon': 2, 'Dani': 2, 'Rindy': 2, 'Mareena': 2, 'Jermine': 2, 'Hunter': 2, 'Dung': 2, 'Karisha': 2, 'Naim': 2, 'Mickaela': 2, 'Vikram': 2, 'Tamilia': 2, 'Marleny': 2, 'Lavonte': 2, 'Romney': 2, 'Ted': 2, 'Shaneice': 2, 'Aser': 2, 'Susanne': 2, 'Brenner': 2, 'Jonika': 2, 'Kizzie': 2, 'Nikolaus': 2, 'Leigh': 2, 'Johndaniel': 2, 'Kiah': 2, 'Valine': 2, 'Adelia': 3, 'Laria': 3, 'Sabreena': 3, 'Wafa': 3, 'Kaylor': 3, 'Racquel': 3, 'Katharine': 3, 'Elnora': 3, 'Jeanell': 3, 'Mystique': 3, 'Yakov': 3, 'Natassja': 3, 'Patric': 3, 'Mccall': 3, 'Chrystine': 3, 'Shaniqua': 3, 'Simone': 3, 'Tinesha': 3, 'Jazzmon': 3, 'Tahra': 3, 'Arlie': 3, 'Raymund': 3, 'Archie': 3, 'Mirranda': 3, 'Branson': 3, 'Venetta': 3, 'Viana': 3, 'Vernonica': 3, 'Elzabeth': 3, 'Krystyn': 3, 'Lakeita': 3, 'Lasheika': 3, 'Tahara': 3, 'Ibeth': 3, 'Heathr': 3, 'Alexi': 3, 'Marjorie': 3, 'Charita': 3, 'Mazin': 3, 'Courtnay': 3, 'Ayonna': 3, 'Shareen': 3, 'Isidore': 3, 'Sabreen': 3, 'Brittiney': 3, 'Valarie': 3, 'Benjamen': 3, 'Porschia': 4, 'Dejan': 4, 'Arley': 4, 'Laysa': 4, 'Jeston': 4, 'Cherylann': 4, 'Randalyn': 4, 'Carine': 4, 'Nashea': 4, 'Garth': 5}\n",
      "Shikita    {'Shikita': 0, 'Raina': 1, 'Mystique': 1, 'Jeanell': 1, 'Amish': 1, 'Elnora': 1, 'Hogan': 2, 'Marnell': 2, 'Shawta': 2, 'Tynetta': 2, 'Kizzie': 2, 'Mareena': 2, 'Ayonna': 2, 'Dung': 2, 'Tamilia': 2, 'Jonika': 2, 'Adelia': 2, 'Tinesha': 2, 'Archie': 2, 'Lakeita': 2, 'Susanne': 3, 'Laria': 3, 'Sabreena': 3, 'Wafa': 3, 'Mickaela': 3, 'Kaylor': 3, 'Racquel': 3, 'Katharine': 3, 'Pearlie': 3, 'Jermika': 3, 'Alfonzo': 3, 'Lashonda': 3, 'Cezar': 3, 'Ted': 3, 'Tahara': 3, 'Alexi': 3, 'Leigh': 3, 'Tahra': 3, 'Valarie': 3, 'Naim': 3, 'Brittiney': 3, 'Natassja': 3, 'Rindy': 3, 'Raymund': 3, 'Hunter': 3, 'Patric': 3, 'Nashea': 3, 'Cherylann': 3, 'Sabreen': 3, 'Yakov': 3, 'Aser': 3, 'Vernonica': 3, 'Romney': 3, 'Arlie': 3, 'Ibeth': 3, 'Heathr': 3, 'Marjorie': 3, 'Chrystine': 3, 'Isidore': 3, 'Mccall': 3, 'Venetta': 3, 'Porschia': 3, 'Brenner': 3, 'Mazin': 3, 'Valine': 3, 'Dani': 3, 'Jermine': 3, 'Lasheika': 3, 'Jazzmon': 4, 'Courtnay': 4, 'Lavonte': 4, 'Shareen': 4, 'Kezia': 4, 'Shaneice': 4, 'Dejan': 4, 'Arley': 4, 'Laysa': 4, 'Rhiannon': 4, 'Vikram': 4, 'Karisha': 4, 'Marleny': 4, 'Nikolaus': 4, 'Kiah': 4, 'Johndaniel': 4, 'Carine': 4, 'Elzabeth': 4, 'Benjamen': 4, 'Krystyn': 4, 'Randalyn': 4, 'Viana': 4, 'Jeston': 4, 'Simone': 4, 'Mirranda': 4, 'Branson': 4, 'Charita': 5, 'Shaniqua': 5, 'Garth': 5}\n",
      "Simone     {'Simone': 0, 'Porschia': 1, 'Rhiannon': 1, 'Branson': 1, 'Isidore': 1, 'Sabreen': 1, 'Adelia': 2, 'Arley': 2, 'Archie': 2, 'Lakeita': 2, 'Chrystine': 2, 'Pearlie': 2, 'Rindy': 2, 'Shaniqua': 2, 'Mccall': 2, 'Dejan': 2, 'Jermine': 2, 'Brenner': 2, 'Jonika': 2, 'Jeston': 2, 'Ayonna': 2, 'Benjamen': 2, 'Hogan': 3, 'Marjorie': 3, 'Sabreena': 3, 'Mazin': 3, 'Naim': 3, 'Tamilia': 3, 'Patric': 3, 'Jeanell': 3, 'Susanne': 3, 'Valine': 3, 'Venetta': 3, 'Mirranda': 3, 'Racquel': 3, 'Mareena': 3, 'Elnora': 3, 'Lasheika': 3, 'Alexi': 3, 'Raymund': 3, 'Krystyn': 3, 'Viana': 3, 'Kezia': 3, 'Dani': 3, 'Shawta': 3, 'Jazzmon': 3, 'Tahra': 3, 'Arlie': 3, 'Vikram': 3, 'Vernonica': 3, 'Johndaniel': 3, 'Cherylann': 3, 'Kaylor': 3, 'Shaneice': 3, 'Jermika': 3, 'Alfonzo': 3, 'Katharine': 3, 'Lashonda': 3, 'Marleny': 3, 'Hunter': 3, 'Ibeth': 3, 'Charita': 3, 'Shareen': 3, 'Nashea': 3, 'Laria': 3, 'Leigh': 3, 'Kiah': 3, 'Laysa': 3, 'Raina': 4, 'Wafa': 4, 'Ted': 4, 'Tinesha': 4, 'Romney': 4, 'Aser': 4, 'Kizzie': 4, 'Elzabeth': 4, 'Tahara': 4, 'Heathr': 4, 'Cezar': 4, 'Shikita': 4, 'Dung': 4, 'Marnell': 4, 'Courtnay': 4, 'Lavonte': 4, 'Natassja': 4, 'Tynetta': 4, 'Mystique': 4, 'Nikolaus': 4, 'Randalyn': 4, 'Yakov': 4, 'Karisha': 4, 'Mickaela': 4, 'Carine': 4, 'Amish': 5, 'Brittiney': 5, 'Valarie': 5, 'Garth': 5}\n",
      "Susanne    {'Susanne': 0, 'Hogan': 1, 'Marnell': 1, 'Ayonna': 1, 'Leigh': 1, 'Alfonzo': 1, 'Jazzmon': 1, 'Tinesha': 1, 'Courtnay': 1, 'Shareen': 1, 'Lavonte': 1, 'Adelia': 1, 'Laria': 2, 'Raina': 2, 'Sabreena': 2, 'Wafa': 2, 'Mickaela': 2, 'Kaylor': 2, 'Racquel': 2, 'Katharine': 2, 'Archie': 2, 'Nashea': 2, 'Sabreen': 2, 'Cherylann': 2, 'Jeanell': 2, 'Raymund': 2, 'Kizzie': 2, 'Cezar': 2, 'Elzabeth': 2, 'Benjamen': 2, 'Jermine': 2, 'Shawta': 2, 'Romney': 2, 'Ted': 2, 'Shaneice': 2, 'Aser': 2, 'Laysa': 2, 'Rindy': 2, 'Brenner': 2, 'Patric': 2, 'Randalyn': 2, 'Valine': 2, 'Dani': 2, 'Elnora': 2, 'Krystyn': 2, 'Jeston': 2, 'Lasheika': 2, 'Mirranda': 2, 'Alexi': 2, 'Jermika': 2, 'Tahra': 2, 'Venetta': 2, 'Marjorie': 2, 'Porschia': 2, 'Mazin': 2, 'Naim': 2, 'Tamilia': 2, 'Natassja': 3, 'Shikita': 3, 'Amish': 3, 'Tynetta': 3, 'Kezia': 3, 'Dejan': 3, 'Arley': 3, 'Ibeth': 3, 'Mareena': 3, 'Simone': 3, 'Mccall': 3, 'Jonika': 3, 'Dung': 3, 'Chrystine': 3, 'Brittiney': 3, 'Tahara': 3, 'Valarie': 3, 'Mystique': 3, 'Nikolaus': 3, 'Kiah': 3, 'Johndaniel': 3, 'Branson': 3, 'Lashonda': 3, 'Pearlie': 3, 'Charita': 3, 'Arlie': 3, 'Rhiannon': 3, 'Isidore': 3, 'Marleny': 3, 'Vikram': 3, 'Lakeita': 3, 'Shaniqua': 3, 'Viana': 3, 'Hunter': 3, 'Karisha': 3, 'Heathr': 3, 'Yakov': 4, 'Vernonica': 4, 'Carine': 4, 'Garth': 5}\n",
      "Tahara     {'Tahara': 0, 'Carine': 1, 'Kizzie': 1, 'Tamilia': 1, 'Garth': 2, 'Charita': 2, 'Alexi': 2, 'Mystique': 2, 'Leigh': 2, 'Tinesha': 2, 'Tahra': 2, 'Valarie': 2, 'Naim': 2, 'Brittiney': 2, 'Natassja': 2, 'Cezar': 2, 'Ibeth': 2, 'Jermika': 2, 'Romney': 2, 'Arlie': 2, 'Patric': 2, 'Heathr': 2, 'Jeanell': 2, 'Adelia': 2, 'Shaneice': 3, 'Jeston': 3, 'Nikolaus': 3, 'Archie': 3, 'Lavonte': 3, 'Shikita': 3, 'Mareena': 3, 'Sabreena': 3, 'Wafa': 3, 'Elzabeth': 3, 'Susanne': 3, 'Benjamen': 3, 'Dani': 3, 'Elnora': 3, 'Rindy': 3, 'Laria': 3, 'Karisha': 3, 'Brenner': 3, 'Raymund': 3, 'Krystyn': 3, 'Lakeita': 3, 'Lasheika': 3, 'Kezia': 3, 'Aser': 3, 'Shawta': 3, 'Johndaniel': 3, 'Mickaela': 3, 'Kiah': 3, 'Valine': 3, 'Racquel': 3, 'Jonika': 3, 'Jermine': 3, 'Hunter': 3, 'Dung': 3, 'Vikram': 3, 'Marleny': 3, 'Alfonzo': 3, 'Katharine': 3, 'Venetta': 3, 'Dejan': 3, 'Viana': 3, 'Jazzmon': 3, 'Ayonna': 3, 'Hogan': 3, 'Mazin': 3, 'Porschia': 3, 'Marjorie': 3, 'Kaylor': 4, 'Isidore': 4, 'Shareen': 4, 'Mirranda': 4, 'Amish': 4, 'Raina': 4, 'Tynetta': 4, 'Pearlie': 4, 'Courtnay': 4, 'Marnell': 4, 'Laysa': 4, 'Sabreen': 4, 'Mccall': 4, 'Rhiannon': 4, 'Lashonda': 4, 'Chrystine': 4, 'Randalyn': 4, 'Shaniqua': 4, 'Yakov': 4, 'Ted': 4, 'Arley': 4, 'Branson': 4, 'Vernonica': 4, 'Nashea': 4, 'Cherylann': 4, 'Simone': 4}\n",
      "Tahra      {'Tahra': 0, 'Kizzie': 1, 'Rindy': 1, 'Laria': 1, 'Karisha': 1, 'Brenner': 1, 'Raymund': 1, 'Lavonte': 1, 'Tahara': 2, 'Alexi': 2, 'Mystique': 2, 'Leigh': 2, 'Tinesha': 2, 'Valarie': 2, 'Naim': 2, 'Brittiney': 2, 'Natassja': 2, 'Cezar': 2, 'Rhiannon': 2, 'Pearlie': 2, 'Jazzmon': 2, 'Arlie': 2, 'Mareena': 2, 'Hogan': 2, 'Marnell': 2, 'Ayonna': 2, 'Jermika': 2, 'Nikolaus': 2, 'Lashonda': 2, 'Isidore': 2, 'Marleny': 2, 'Sabreen': 2, 'Valine': 2, 'Adelia': 2, 'Chrystine': 2, 'Randalyn': 2, 'Mirranda': 2, 'Susanne': 2, 'Venetta': 2, 'Carine': 3, 'Tamilia': 3, 'Archie': 3, 'Shikita': 3, 'Elzabeth': 3, 'Benjamen': 3, 'Sabreena': 3, 'Wafa': 3, 'Dani': 3, 'Elnora': 3, 'Krystyn': 3, 'Lakeita': 3, 'Lasheika': 3, 'Kezia': 3, 'Aser': 3, 'Mickaela': 3, 'Kiah': 3, 'Shawta': 3, 'Johndaniel': 3, 'Mccall': 3, 'Simone': 3, 'Shaniqua': 3, 'Ted': 3, 'Jermine': 3, 'Laysa': 3, 'Patric': 3, 'Dejan': 3, 'Viana': 3, 'Hunter': 3, 'Tynetta': 3, 'Raina': 3, 'Kaylor': 3, 'Racquel': 3, 'Katharine': 3, 'Nashea': 3, 'Cherylann': 3, 'Jeanell': 3, 'Vikram': 3, 'Dung': 3, 'Jonika': 3, 'Jeston': 3, 'Marjorie': 3, 'Mazin': 3, 'Porschia': 3, 'Arley': 3, 'Alfonzo': 3, 'Courtnay': 3, 'Shareen': 3, 'Romney': 3, 'Garth': 4, 'Charita': 4, 'Ibeth': 4, 'Heathr': 4, 'Amish': 4, 'Yakov': 4, 'Vernonica': 4, 'Branson': 4, 'Shaneice': 4}\n",
      "Tamilia    {'Tamilia': 0, 'Tahara': 1, 'Ibeth': 1, 'Jermika': 1, 'Romney': 1, 'Arlie': 1, 'Patric': 1, 'Heathr': 1, 'Jeanell': 1, 'Adelia': 1, 'Cezar': 1, 'Kizzie': 2, 'Carine': 2, 'Racquel': 2, 'Shaneice': 2, 'Jonika': 2, 'Benjamen': 2, 'Jermine': 2, 'Hunter': 2, 'Shawta': 2, 'Dung': 2, 'Karisha': 2, 'Naim': 2, 'Mickaela': 2, 'Vikram': 2, 'Marleny': 2, 'Lavonte': 2, 'Venetta': 2, 'Alfonzo': 2, 'Katharine': 2, 'Sabreena': 2, 'Rindy': 2, 'Aser': 2, 'Dejan': 2, 'Viana': 2, 'Kezia': 2, 'Jazzmon': 2, 'Mareena': 2, 'Jeston': 2, 'Shikita': 2, 'Ayonna': 2, 'Hogan': 2, 'Porschia': 2, 'Marjorie': 2, 'Mazin': 2, 'Brenner': 2, 'Susanne': 2, 'Valine': 2, 'Leigh': 2, 'Nikolaus': 2, 'Kiah': 2, 'Johndaniel': 2, 'Alexi': 3, 'Mystique': 3, 'Tinesha': 3, 'Tahra': 3, 'Valarie': 3, 'Brittiney': 3, 'Natassja': 3, 'Garth': 3, 'Charita': 3, 'Arley': 3, 'Laysa': 3, 'Marnell': 3, 'Kaylor': 3, 'Mccall': 3, 'Lashonda': 3, 'Chrystine': 3, 'Isidore': 3, 'Sabreen': 3, 'Mirranda': 3, 'Archie': 3, 'Branson': 3, 'Raina': 3, 'Pearlie': 3, 'Yakov': 3, 'Vernonica': 3, 'Elzabeth': 3, 'Krystyn': 3, 'Lakeita': 3, 'Lasheika': 3, 'Ted': 3, 'Dani': 3, 'Shaniqua': 3, 'Wafa': 3, 'Rhiannon': 3, 'Courtnay': 3, 'Randalyn': 3, 'Raymund': 3, 'Tynetta': 3, 'Shareen': 3, 'Amish': 3, 'Elnora': 3, 'Nashea': 3, 'Laria': 3, 'Cherylann': 3, 'Simone': 3}\n",
      "Ted        {'Ted': 0, 'Marjorie': 1, 'Alfonzo': 1, 'Jazzmon': 1, 'Tynetta': 1, 'Mickaela': 1, 'Kaylor': 1, 'Chrystine': 2, 'Jonika': 2, 'Adelia': 2, 'Jermine': 2, 'Shawta': 2, 'Romney': 2, 'Shaneice': 2, 'Aser': 2, 'Susanne': 2, 'Laysa': 2, 'Rindy': 2, 'Randalyn': 2, 'Brenner': 2, 'Patric': 2, 'Wafa': 2, 'Valine': 2, 'Mareena': 2, 'Raina': 2, 'Elnora': 2, 'Jermika': 2, 'Marnell': 2, 'Cezar': 2, 'Kezia': 2, 'Dejan': 2, 'Rhiannon': 3, 'Raymund': 3, 'Krystyn': 3, 'Viana': 3, 'Ibeth': 3, 'Lashonda': 3, 'Hunter': 3, 'Isidore': 3, 'Jeanell': 3, 'Mccall': 3, 'Venetta': 3, 'Hogan': 3, 'Porschia': 3, 'Sabreena': 3, 'Mazin': 3, 'Naim': 3, 'Tamilia': 3, 'Mirranda': 3, 'Archie': 3, 'Katharine': 3, 'Branson': 3, 'Pearlie': 3, 'Charita': 3, 'Natassja': 3, 'Arlie': 3, 'Courtnay': 3, 'Dung': 3, 'Ayonna': 3, 'Leigh': 3, 'Tinesha': 3, 'Shareen': 3, 'Lavonte': 3, 'Racquel': 3, 'Benjamen': 3, 'Tahra': 3, 'Marleny': 3, 'Sabreen': 3, 'Jeston': 3, 'Mystique': 3, 'Shikita': 3, 'Amish': 3, 'Lakeita': 3, 'Vikram': 3, 'Karisha': 3, 'Laria': 3, 'Kizzie': 3, 'Nikolaus': 3, 'Kiah': 3, 'Johndaniel': 3, 'Yakov': 3, 'Simone': 4, 'Shaniqua': 4, 'Dani': 4, 'Cherylann': 4, 'Vernonica': 4, 'Arley': 4, 'Elzabeth': 4, 'Lasheika': 4, 'Tahara': 4, 'Heathr': 4, 'Alexi': 4, 'Carine': 4, 'Nashea': 4, 'Brittiney': 4, 'Valarie': 4, 'Garth': 5}\n",
      "Tinesha    {'Tinesha': 0, 'Kizzie': 1, 'Dani': 1, 'Sabreena': 1, 'Wafa': 1, 'Susanne': 1, 'Elnora': 1, 'Tahara': 2, 'Alexi': 2, 'Mystique': 2, 'Leigh': 2, 'Tahra': 2, 'Valarie': 2, 'Naim': 2, 'Brittiney': 2, 'Natassja': 2, 'Cezar': 2, 'Vikram': 2, 'Mccall': 2, 'Marleny': 2, 'Pearlie': 2, 'Hogan': 2, 'Romney': 2, 'Adelia': 2, 'Jazzmon': 2, 'Katharine': 2, 'Marnell': 2, 'Ayonna': 2, 'Alfonzo': 2, 'Courtnay': 2, 'Shareen': 2, 'Lavonte': 2, 'Lakeita': 2, 'Shikita': 2, 'Archie': 2, 'Tynetta': 2, 'Carine': 3, 'Tamilia': 3, 'Nikolaus': 3, 'Mareena': 3, 'Elzabeth': 3, 'Benjamen': 3, 'Rindy': 3, 'Laria': 3, 'Karisha': 3, 'Brenner': 3, 'Raymund': 3, 'Jermika': 3, 'Krystyn': 3, 'Lasheika': 3, 'Kezia': 3, 'Aser': 3, 'Shawta': 3, 'Johndaniel': 3, 'Mickaela': 3, 'Kiah': 3, 'Valine': 3, 'Shaniqua': 3, 'Rhiannon': 3, 'Jonika': 3, 'Cherylann': 3, 'Vernonica': 3, 'Hunter': 3, 'Raina': 3, 'Venetta': 3, 'Marjorie': 3, 'Porschia': 3, 'Mazin': 3, 'Patric': 3, 'Jeanell': 3, 'Ted': 3, 'Jermine': 3, 'Laysa': 3, 'Randalyn': 3, 'Kaylor': 3, 'Racquel': 3, 'Nashea': 3, 'Sabreen': 3, 'Shaneice': 3, 'Jeston': 3, 'Mirranda': 3, 'Amish': 3, 'Garth': 4, 'Charita': 4, 'Arlie': 4, 'Ibeth': 4, 'Heathr': 4, 'Lashonda': 4, 'Isidore': 4, 'Chrystine': 4, 'Dung': 4, 'Dejan': 4, 'Viana': 4, 'Yakov': 4, 'Simone': 4, 'Arley': 4, 'Branson': 4}\n",
      "Tynetta    {'Tynetta': 0, 'Ted': 1, 'Mareena': 1, 'Raina': 1, 'Elnora': 1, 'Marjorie': 2, 'Alfonzo': 2, 'Jazzmon': 2, 'Mickaela': 2, 'Kaylor': 2, 'Archie': 2, 'Pearlie': 2, 'Rindy': 2, 'Mystique': 2, 'Hunter': 2, 'Patric': 2, 'Raymund': 2, 'Natassja': 2, 'Hogan': 2, 'Marnell': 2, 'Shikita': 2, 'Shawta': 2, 'Amish': 2, 'Tinesha': 2, 'Lakeita': 2, 'Chrystine': 3, 'Jonika': 3, 'Adelia': 3, 'Jermine': 3, 'Romney': 3, 'Shaneice': 3, 'Susanne': 3, 'Aser': 3, 'Laysa': 3, 'Wafa': 3, 'Brenner': 3, 'Randalyn': 3, 'Valine': 3, 'Jermika': 3, 'Cezar': 3, 'Kezia': 3, 'Dejan': 3, 'Porschia': 3, 'Ayonna': 3, 'Alexi': 3, 'Lasheika': 3, 'Venetta': 3, 'Rhiannon': 3, 'Dani': 3, 'Tahra': 3, 'Arlie': 3, 'Kizzie': 3, 'Kiah': 3, 'Marleny': 3, 'Viana': 3, 'Tamilia': 3, 'Jeston': 3, 'Laria': 3, 'Sabreena': 3, 'Racquel': 3, 'Katharine': 3, 'Jeanell': 3, 'Lashonda': 3, 'Naim': 3, 'Krystyn': 4, 'Mccall': 4, 'Isidore': 4, 'Ibeth': 4, 'Mazin': 4, 'Mirranda': 4, 'Branson': 4, 'Charita': 4, 'Leigh': 4, 'Courtnay': 4, 'Lavonte': 4, 'Shareen': 4, 'Dung': 4, 'Benjamen': 4, 'Sabreen': 4, 'Vikram': 4, 'Karisha': 4, 'Nikolaus': 4, 'Johndaniel': 4, 'Yakov': 4, 'Arley': 4, 'Simone': 4, 'Nashea': 4, 'Cherylann': 4, 'Shaniqua': 4, 'Brittiney': 4, 'Tahara': 4, 'Valarie': 4, 'Heathr': 4, 'Elzabeth': 4, 'Vernonica': 5, 'Carine': 5, 'Garth': 6}\n",
      "Valarie    {'Valarie': 0, 'Kizzie': 1, 'Tahara': 2, 'Alexi': 2, 'Mystique': 2, 'Leigh': 2, 'Tinesha': 2, 'Tahra': 2, 'Naim': 2, 'Brittiney': 2, 'Natassja': 2, 'Cezar': 2, 'Carine': 3, 'Tamilia': 3, 'Nikolaus': 3, 'Archie': 3, 'Lavonte': 3, 'Shikita': 3, 'Mareena': 3, 'Sabreena': 3, 'Wafa': 3, 'Elzabeth': 3, 'Susanne': 3, 'Benjamen': 3, 'Dani': 3, 'Elnora': 3, 'Rindy': 3, 'Laria': 3, 'Karisha': 3, 'Brenner': 3, 'Raymund': 3, 'Krystyn': 3, 'Jermika': 3, 'Lakeita': 3, 'Lasheika': 3, 'Adelia': 3, 'Kezia': 3, 'Aser': 3, 'Shawta': 3, 'Johndaniel': 3, 'Mickaela': 3, 'Kiah': 3, 'Valine': 3, 'Garth': 4, 'Charita': 4, 'Ibeth': 4, 'Romney': 4, 'Arlie': 4, 'Patric': 4, 'Heathr': 4, 'Jeanell': 4, 'Vikram': 4, 'Porschia': 4, 'Jermine': 4, 'Ayonna': 4, 'Venetta': 4, 'Mirranda': 4, 'Amish': 4, 'Raina': 4, 'Hunter': 4, 'Tynetta': 4, 'Pearlie': 4, 'Hogan': 4, 'Jazzmon': 4, 'Katharine': 4, 'Courtnay': 4, 'Alfonzo': 4, 'Marnell': 4, 'Shareen': 4, 'Laysa': 4, 'Sabreen': 4, 'Mccall': 4, 'Marleny': 4, 'Rhiannon': 4, 'Lashonda': 4, 'Isidore': 4, 'Chrystine': 4, 'Randalyn': 4, 'Dejan': 4, 'Shaniqua': 4, 'Viana': 4, 'Dung': 4, 'Marjorie': 4, 'Mazin': 4, 'Yakov': 4, 'Racquel': 4, 'Kaylor': 4, 'Ted': 4, 'Shaneice': 5, 'Jeston': 5, 'Jonika': 5, 'Arley': 5, 'Simone': 5, 'Branson': 5, 'Nashea': 5, 'Cherylann': 5, 'Vernonica': 5}\n",
      "Valine     {'Valine': 0, 'Kezia': 1, 'Jazzmon': 1, 'Brenner': 1, 'Adelia': 1, 'Cezar': 1, 'Pearlie': 2, 'Yakov': 2, 'Racquel': 2, 'Patric': 2, 'Kaylor': 2, 'Natassja': 2, 'Jermine': 2, 'Laysa': 2, 'Rindy': 2, 'Randalyn': 2, 'Ted': 2, 'Wafa': 2, 'Susanne': 2, 'Lashonda': 2, 'Tahra': 2, 'Isidore': 2, 'Marleny': 2, 'Sabreen': 2, 'Hogan': 2, 'Porschia': 2, 'Marjorie': 2, 'Sabreena': 2, 'Mazin': 2, 'Naim': 2, 'Tamilia': 2, 'Jeanell': 2, 'Venetta': 2, 'Kizzie': 2, 'Nikolaus': 2, 'Leigh': 2, 'Shawta': 2, 'Johndaniel': 2, 'Mickaela': 2, 'Kiah': 2, 'Rhiannon': 3, 'Dani': 3, 'Mareena': 3, 'Dung': 3, 'Arley': 3, 'Marnell': 3, 'Ibeth': 3, 'Jeston': 3, 'Dejan': 3, 'Shaneice': 3, 'Aser': 3, 'Laria': 3, 'Mirranda': 3, 'Archie': 3, 'Branson': 3, 'Jermika': 3, 'Alfonzo': 3, 'Katharine': 3, 'Benjamen': 3, 'Arlie': 3, 'Raymund': 3, 'Tynetta': 3, 'Tinesha': 3, 'Lavonte': 3, 'Ayonna': 3, 'Courtnay': 3, 'Shareen': 3, 'Jonika': 3, 'Karisha': 3, 'Simone': 3, 'Hunter': 3, 'Raina': 3, 'Lakeita': 3, 'Chrystine': 3, 'Romney': 3, 'Elzabeth': 3, 'Krystyn': 3, 'Lasheika': 3, 'Tahara': 3, 'Heathr': 3, 'Shikita': 3, 'Alexi': 3, 'Brittiney': 3, 'Valarie': 3, 'Mystique': 3, 'Vikram': 3, 'Mccall': 3, 'Shaniqua': 4, 'Vernonica': 4, 'Charita': 4, 'Viana': 4, 'Elnora': 4, 'Nashea': 4, 'Cherylann': 4, 'Amish': 4, 'Carine': 4, 'Garth': 5}\n",
      "Venetta    {'Venetta': 0, 'Archie': 1, 'Hunter': 1, 'Romney': 1, 'Jonika': 1, 'Lavonte': 1, 'Adelia': 1, 'Porschia': 2, 'Jermine': 2, 'Ayonna': 2, 'Alexi': 2, 'Lasheika': 2, 'Mareena': 2, 'Elnora': 2, 'Jermika': 2, 'Kiah': 2, 'Marleny': 2, 'Viana': 2, 'Alfonzo': 2, 'Tamilia': 2, 'Katharine': 2, 'Sabreena': 2, 'Marjorie': 2, 'Chrystine': 2, 'Ibeth': 2, 'Lashonda': 2, 'Isidore': 2, 'Jeanell': 2, 'Mccall': 2, 'Mirranda': 2, 'Susanne': 2, 'Tahra': 2, 'Hogan': 2, 'Mazin': 2, 'Naim': 2, 'Brenner': 2, 'Patric': 2, 'Valine': 2, 'Arley': 3, 'Simone': 3, 'Lakeita': 3, 'Jazzmon': 3, 'Shaneice': 3, 'Branson': 3, 'Laria': 3, 'Nashea': 3, 'Cherylann': 3, 'Sabreen': 3, 'Raymund': 3, 'Kizzie': 3, 'Nikolaus': 3, 'Shareen': 3, 'Pearlie': 3, 'Rindy': 3, 'Mystique': 3, 'Tynetta': 3, 'Natassja': 3, 'Shikita': 3, 'Tinesha': 3, 'Shawta': 3, 'Dung': 3, 'Karisha': 3, 'Mickaela': 3, 'Vikram': 3, 'Yakov': 3, 'Benjamen': 3, 'Cezar': 3, 'Dani': 3, 'Dejan': 3, 'Jeston': 3, 'Krystyn': 3, 'Arlie': 3, 'Ted': 3, 'Aser': 3, 'Tahara': 3, 'Heathr': 3, 'Marnell': 3, 'Wafa': 3, 'Leigh': 3, 'Kaylor': 3, 'Rhiannon': 3, 'Racquel': 3, 'Johndaniel': 3, 'Vernonica': 3, 'Courtnay': 3, 'Raina': 3, 'Elzabeth': 3, 'Kezia': 3, 'Laysa': 4, 'Randalyn': 4, 'Charita': 4, 'Brittiney': 4, 'Valarie': 4, 'Amish': 4, 'Shaniqua': 4, 'Carine': 4, 'Garth': 5}\n",
      "Vernonica  {'Vernonica': 0, 'Mccall': 1, 'Dung': 1, 'Rhiannon': 2, 'Dani': 2, 'Johndaniel': 2, 'Jonika': 2, 'Cherylann': 2, 'Yakov': 2, 'Jermika': 2, 'Aser': 2, 'Jeanell': 2, 'Chrystine': 3, 'Pearlie': 3, 'Rindy': 3, 'Shaniqua': 3, 'Simone': 3, 'Vikram': 3, 'Tinesha': 3, 'Natassja': 3, 'Marleny': 3, 'Cezar': 3, 'Marjorie': 3, 'Ibeth': 3, 'Lashonda': 3, 'Hunter': 3, 'Isidore': 3, 'Venetta': 3, 'Ayonna': 3, 'Kezia': 3, 'Kiah': 3, 'Jermine': 3, 'Shawta': 3, 'Karisha': 3, 'Naim': 3, 'Mickaela': 3, 'Tamilia': 3, 'Lavonte': 3, 'Mirranda': 3, 'Alfonzo': 3, 'Mazin': 3, 'Arlie': 3, 'Courtnay': 3, 'Shikita': 3, 'Adelia': 3, 'Raymund': 4, 'Krystyn': 4, 'Viana': 4, 'Mareena': 4, 'Jazzmon': 4, 'Tahra': 4, 'Porschia': 4, 'Sabreen': 4, 'Branson': 4, 'Nikolaus': 4, 'Kizzie': 4, 'Sabreena': 4, 'Wafa': 4, 'Susanne': 4, 'Elnora': 4, 'Laria': 4, 'Brenner': 4, 'Leigh': 4, 'Valine': 4, 'Ted': 4, 'Kaylor': 4, 'Racquel': 4, 'Shaneice': 4, 'Benjamen': 4, 'Jeston': 4, 'Archie': 4, 'Romney': 4, 'Nashea': 4, 'Katharine': 4, 'Patric': 4, 'Raina': 4, 'Elzabeth': 4, 'Lakeita': 4, 'Lasheika': 4, 'Marnell': 4, 'Tahara': 4, 'Heathr': 4, 'Alexi': 4, 'Arley': 4, 'Dejan': 4, 'Amish': 4, 'Mystique': 4, 'Hogan': 4, 'Randalyn': 5, 'Tynetta': 5, 'Laysa': 5, 'Brittiney': 5, 'Valarie': 5, 'Shareen': 5, 'Charita': 5, 'Carine': 5, 'Garth': 6}\n",
      "Viana      {'Viana': 0, 'Chrystine': 1, 'Krystyn': 1, 'Hunter': 1, 'Jeston': 1, 'Arlie': 1, 'Dejan': 1, 'Marjorie': 2, 'Rhiannon': 2, 'Raymund': 2, 'Jonika': 2, 'Shaniqua': 2, 'Courtnay': 2, 'Naim': 2, 'Jermika': 2, 'Kiah': 2, 'Marleny': 2, 'Mareena': 2, 'Venetta': 2, 'Charita': 2, 'Isidore': 2, 'Patric': 2, 'Shareen': 2, 'Rindy': 2, 'Aser': 2, 'Tamilia': 2, 'Kaylor': 2, 'Branson': 2, 'Ted': 3, 'Adelia': 3, 'Mccall': 3, 'Simone': 3, 'Pearlie': 3, 'Tahra': 3, 'Ayonna': 3, 'Randalyn': 3, 'Lashonda': 3, 'Ibeth': 3, 'Jeanell': 3, 'Vikram': 3, 'Susanne': 3, 'Elzabeth': 3, 'Kizzie': 3, 'Lakeita': 3, 'Lasheika': 3, 'Jermine': 3, 'Shawta': 3, 'Dung': 3, 'Karisha': 3, 'Mickaela': 3, 'Lavonte': 3, 'Yakov': 3, 'Benjamen': 3, 'Cezar': 3, 'Brenner': 3, 'Dani': 3, 'Natassja': 3, 'Archie': 3, 'Tynetta': 3, 'Mystique': 3, 'Romney': 3, 'Carine': 3, 'Shaneice': 3, 'Kezia': 3, 'Jazzmon': 3, 'Mirranda': 3, 'Alfonzo': 3, 'Mazin': 3, 'Tahara': 3, 'Heathr': 3, 'Marnell': 3, 'Hogan': 4, 'Sabreena': 4, 'Valine': 4, 'Porschia': 4, 'Vernonica': 4, 'Johndaniel': 4, 'Cherylann': 4, 'Sabreen': 4, 'Laria': 4, 'Nashea': 4, 'Katharine': 4, 'Racquel': 4, 'Shikita': 4, 'Nikolaus': 4, 'Leigh': 4, 'Tinesha': 4, 'Brittiney': 4, 'Valarie': 4, 'Alexi': 4, 'Elnora': 4, 'Raina': 4, 'Laysa': 4, 'Garth': 4, 'Wafa': 4, 'Arley': 4, 'Amish': 5}\n",
      "Vikram     {'Vikram': 0, 'Jermika': 1, 'Nikolaus': 1, 'Dani': 1, 'Shaniqua': 1, 'Jermine': 2, 'Hunter': 2, 'Shawta': 2, 'Dung': 2, 'Karisha': 2, 'Naim': 2, 'Mickaela': 2, 'Tamilia': 2, 'Marleny': 2, 'Lavonte': 2, 'Alexi': 2, 'Cezar': 2, 'Mccall': 2, 'Tinesha': 2, 'Natassja': 2, 'Pearlie': 2, 'Rhiannon': 2, 'Krystyn': 2, 'Mirranda': 3, 'Archie': 3, 'Branson': 3, 'Alfonzo': 3, 'Jazzmon': 3, 'Katharine': 3, 'Shaneice': 3, 'Kiah': 3, 'Jonika': 3, 'Viana': 3, 'Mareena': 3, 'Venetta': 3, 'Lashonda': 3, 'Raina': 3, 'Yakov': 3, 'Aser': 3, 'Jeanell': 3, 'Vernonica': 3, 'Tahra': 3, 'Kizzie': 3, 'Lakeita': 3, 'Lasheika': 3, 'Elzabeth': 3, 'Adelia': 3, 'Ted': 3, 'Marnell': 3, 'Tahara': 3, 'Ibeth': 3, 'Romney': 3, 'Arlie': 3, 'Patric': 3, 'Heathr': 3, 'Brenner': 3, 'Susanne': 3, 'Leigh': 3, 'Valine': 3, 'Johndaniel': 3, 'Cherylann': 3, 'Elnora': 3, 'Sabreena': 3, 'Wafa': 3, 'Kezia': 3, 'Laria': 3, 'Rindy': 3, 'Chrystine': 3, 'Simone': 3, 'Dejan': 3, 'Courtnay': 3, 'Arley': 4, 'Porschia': 4, 'Ayonna': 4, 'Laysa': 4, 'Randalyn': 4, 'Kaylor': 4, 'Charita': 4, 'Benjamen': 4, 'Marjorie': 4, 'Isidore': 4, 'Jeston': 4, 'Raymund': 4, 'Tynetta': 4, 'Mystique': 4, 'Hogan': 4, 'Shikita': 4, 'Amish': 4, 'Mazin': 4, 'Brittiney': 4, 'Valarie': 4, 'Shareen': 4, 'Racquel': 4, 'Carine': 4, 'Sabreen': 4, 'Nashea': 5, 'Garth': 5}\n",
      "Wafa       {'Wafa': 0, 'Hogan': 1, 'Leigh': 1, 'Tinesha': 1, 'Jazzmon': 1, 'Katharine': 1, 'Raina': 2, 'Sabreena': 2, 'Laria': 2, 'Susanne': 2, 'Adelia': 2, 'Kizzie': 2, 'Cezar': 2, 'Elzabeth': 2, 'Benjamen': 2, 'Dani': 2, 'Elnora': 2, 'Jermine': 2, 'Laysa': 2, 'Rindy': 2, 'Ted': 2, 'Brenner': 2, 'Patric': 2, 'Randalyn': 2, 'Valine': 2, 'Marnell': 2, 'Ayonna': 2, 'Romney': 2, 'Amish': 3, 'Shikita': 3, 'Shawta': 3, 'Tynetta': 3, 'Tahra': 3, 'Natassja': 3, 'Alfonzo': 3, 'Courtnay': 3, 'Lavonte': 3, 'Shareen': 3, 'Marjorie': 3, 'Porschia': 3, 'Mazin': 3, 'Naim': 3, 'Tamilia': 3, 'Jeanell': 3, 'Venetta': 3, 'Tahara': 3, 'Alexi': 3, 'Mystique': 3, 'Valarie': 3, 'Brittiney': 3, 'Mickaela': 3, 'Nikolaus': 3, 'Kiah': 3, 'Johndaniel': 3, 'Ibeth': 3, 'Sabreen': 3, 'Vikram': 3, 'Mccall': 3, 'Marleny': 3, 'Pearlie': 3, 'Archie': 3, 'Lakeita': 3, 'Mirranda': 3, 'Jermika': 3, 'Shaneice': 3, 'Branson': 3, 'Racquel': 3, 'Rhiannon': 3, 'Arlie': 3, 'Mareena': 3, 'Kaylor': 3, 'Lashonda': 3, 'Isidore': 3, 'Kezia': 3, 'Jeston': 3, 'Raymund': 3, 'Nashea': 3, 'Cherylann': 3, 'Karisha': 4, 'Aser': 4, 'Krystyn': 4, 'Lasheika': 4, 'Chrystine': 4, 'Jonika': 4, 'Arley': 4, 'Simone': 4, 'Heathr': 4, 'Dung': 4, 'Hunter': 4, 'Carine': 4, 'Yakov': 4, 'Shaniqua': 4, 'Vernonica': 4, 'Charita': 4, 'Dejan': 4, 'Viana': 4, 'Garth': 5}\n",
      "Yakov      {'Yakov': 0, 'Kezia': 1, 'Kiah': 1, 'Dung': 1, 'Johndaniel': 1, 'Pearlie': 2, 'Racquel': 2, 'Natassja': 2, 'Patric': 2, 'Kaylor': 2, 'Valine': 2, 'Hunter': 2, 'Benjamen': 2, 'Cezar': 2, 'Aser': 2, 'Jermika': 2, 'Jeanell': 2, 'Vernonica': 2, 'Mccall': 2, 'Rhiannon': 3, 'Dani': 3, 'Rindy': 3, 'Shawta': 3, 'Mareena': 3, 'Arley': 3, 'Laysa': 3, 'Ibeth': 3, 'Marnell': 3, 'Kizzie': 3, 'Laria': 3, 'Jazzmon': 3, 'Tamilia': 3, 'Jeston': 3, 'Adelia': 3, 'Ted': 3, 'Marjorie': 3, 'Shaneice': 3, 'Dejan': 3, 'Brenner': 3, 'Venetta': 3, 'Jonika': 3, 'Marleny': 3, 'Viana': 3, 'Leigh': 3, 'Sabreen': 3, 'Mickaela': 3, 'Nikolaus': 3, 'Mirranda': 3, 'Alfonzo': 3, 'Mazin': 3, 'Arlie': 3, 'Courtnay': 3, 'Jermine': 3, 'Karisha': 3, 'Naim': 3, 'Vikram': 3, 'Lavonte': 3, 'Shikita': 3, 'Ayonna': 3, 'Cherylann': 3, 'Chrystine': 4, 'Shaniqua': 4, 'Simone': 4, 'Tinesha': 4, 'Tahra': 4, 'Lashonda': 4, 'Raina': 4, 'Raymund': 4, 'Archie': 4, 'Tynetta': 4, 'Mystique': 4, 'Porschia': 4, 'Susanne': 4, 'Katharine': 4, 'Brittiney': 4, 'Tahara': 4, 'Valarie': 4, 'Alexi': 4, 'Hogan': 4, 'Randalyn': 4, 'Wafa': 4, 'Romney': 4, 'Heathr': 4, 'Charita': 4, 'Isidore': 4, 'Shareen': 4, 'Sabreena': 4, 'Krystyn': 4, 'Branson': 4, 'Elzabeth': 4, 'Lakeita': 4, 'Lasheika': 4, 'Amish': 4, 'Elnora': 4, 'Nashea': 4, 'Carine': 5, 'Garth': 6}\n",
      "Yaw        {'Yaw': 0}\n"
     ]
    }
   ],
   "source": [
    "for k,v in can_reach.items():\n",
    "    print(f'{k:10}', v)"
   ]
  },
  {
   "cell_type": "markdown",
   "metadata": {},
   "source": [
    "## Small world\n",
    "\n",
    "Milgram did a neat experiment, which has captivated folks' imagination: we are more collected than we think.\n",
    "\n",
    "Let's get our expectations squared away: here we have N people, each with an average of $N p$ friends.  $p$ is fairly small, like 0.05.  So we have 100 people, each with about 5 friends, on average.  If we pick a random pair of people, how long is the path between them?\n",
    "\n",
    "The small world network phenomenon is that for many different types of networks, the average shortest path is proportional to log(n) where n is the number of nodes.\n",
    "\n",
    "Let's calculate our average shortest path."
   ]
  },
  {
   "cell_type": "code",
   "execution_count": 218,
   "metadata": {},
   "outputs": [
    {
     "data": {
      "text/plain": [
       "2.9254725085910653"
      ]
     },
     "execution_count": 218,
     "metadata": {},
     "output_type": "execute_result"
    }
   ],
   "source": [
    "n_connected = 0\n",
    "sum_min_path = 0\n",
    "\n",
    "for i in range(n-1):\n",
    "    for j in range(i+1, n):\n",
    "        if names[j] in can_reach[names[i]]: # path exists from i to j\n",
    "            sum_min_path += can_reach[names[i]][names[j]] # min path from i to j\n",
    "            n_connected += 1 \n",
    "\n",
    "# this is average min path among *connected* people.  disconnected pairs do not contribute.\n",
    "sum_min_path / n_connected"
   ]
  },
  {
   "cell_type": "markdown",
   "metadata": {},
   "source": [
    "Such small world phenomena arise in many types of networks.  In fact, to avoid such a property, we must consider networks that are very regular, like a lattice, or a ring.  Such networks do arise, when we consider connections that are more stratified, such as the network defined by the relation \"went to high school with\", or \"shook hands with\" (when considering people in the past, and in the future).  "
   ]
  },
  {
   "cell_type": "markdown",
   "metadata": {},
   "source": [
    "## Clustering / cliquishness\n",
    "\n",
    "The degree of clustering or cliquishness of a social network amounts to asking whether friends of friends are likely to be friends.  We will calculate this as the proportion of triads that are close.\n"
   ]
  },
  {
   "cell_type": "code",
   "execution_count": 222,
   "metadata": {},
   "outputs": [
    {
     "name": "stdout",
     "output_type": "stream",
     "text": [
      "p=0.050656872045869016 mean=0.044500487435270054\n"
     ]
    }
   ],
   "source": [
    "person_clustering = []\n",
    "for person,friends in edges.items():\n",
    "    k = len(friends)\n",
    "    if k < 2:\n",
    "        person_clustering += [None]\n",
    "    else:\n",
    "        n_triads = 0\n",
    "        n_possible = 0\n",
    "        for i in range(k-1):\n",
    "            for j in range(i+1,k):\n",
    "                n_possible += 1\n",
    "                if friends[j] in edges[friends[i]]:\n",
    "                    n_triads += 1\n",
    "        person_clustering += [n_triads / n_possible]\n",
    "\n",
    "print(f'{p=} mean={mean([c for c in person_clustering if c is not None])}')\n"
   ]
  },
  {
   "cell_type": "markdown",
   "metadata": {},
   "source": [
    "So with the random graph, we have no clustering -- pairs of people who share a friend are no more likely to be friends than average.  "
   ]
  },
  {
   "cell_type": "markdown",
   "metadata": {},
   "source": [
    "## Different types of network\n",
    "\n",
    "### lattice networks\n",
    "\n",
    "The premise of lattice networks is that all people have an underlying location, and people are connected only to those people they are close to.  There are many subtle variations of this: What is the location on?  Most simply, it would be a ring, but it could be a 2d space, or something more complicated.  How does the presence of edges decrease with distance?  Perhaps each node is connected to the closest k nodes?  Perhaps the probability of connection decreases with distance?  etc.  While these are important distinctions, lets not worry about it."
   ]
  },
  {
   "cell_type": "code",
   "execution_count": 243,
   "metadata": {},
   "outputs": [],
   "source": [
    "max_dist = 2  # degree = max_dist*2\n",
    "\n",
    "edges = dict(zip(names, [[] for i in range(n)]))\n",
    "\n",
    "for i in range(n-1):\n",
    "    for j in range(i+1,n):\n",
    "        distance = min((i-j)%n, (j-i)%n)  # distance along ring defined by index from 0 to n-1 (alphabetical order)\n",
    "        if distance <= max_dist:\n",
    "            edges[names[i]].append(names[j])\n",
    "            edges[names[j]] += [names[i]]"
   ]
  },
  {
   "cell_type": "code",
   "execution_count": 246,
   "metadata": {},
   "outputs": [
    {
     "name": "stdout",
     "output_type": "stream",
     "text": [
      "Adelia     ['Alexi', 'Alfonzo', 'Yakov', 'Yaw']\n",
      "Alexi      ['Adelia', 'Alfonzo', 'Amish', 'Yaw']\n",
      "Alfonzo    ['Adelia', 'Alexi', 'Amish', 'Archie']\n",
      "Amish      ['Alexi', 'Alfonzo', 'Archie', 'Arley']\n",
      "Archie     ['Alfonzo', 'Amish', 'Arley', 'Arlie']\n",
      "Arley      ['Amish', 'Archie', 'Arlie', 'Aser']\n",
      "Arlie      ['Archie', 'Arley', 'Aser', 'Ayonna']\n",
      "Aser       ['Arley', 'Arlie', 'Ayonna', 'Benjamen']\n",
      "Ayonna     ['Arlie', 'Aser', 'Benjamen', 'Branson']\n",
      "Benjamen   ['Aser', 'Ayonna', 'Branson', 'Brenner']\n",
      "Branson    ['Ayonna', 'Benjamen', 'Brenner', 'Yaw']\n",
      "Brenner    ['Benjamen', 'Branson', 'Brittiney', 'Carine']\n",
      "Brittiney  ['Brenner', 'Carine', 'Cezar', 'Romney']\n",
      "Carine     ['Brenner', 'Brittiney', 'Cezar', 'Charita']\n",
      "Cezar      ['Brittiney', 'Carine', 'Charita', 'Cherylann']\n",
      "Charita    ['Carine', 'Cezar', 'Cherylann', 'Chrystine']\n",
      "Cherylann  ['Cezar', 'Charita', 'Chrystine', 'Courtnay']\n",
      "Chrystine  ['Charita', 'Cherylann', 'Courtnay', 'Dani']\n",
      "Courtnay   ['Cherylann', 'Chrystine', 'Dani', 'Dejan', 'Marleny']\n",
      "Dani       ['Chrystine', 'Courtnay', 'Dejan', 'Dung']\n",
      "Dejan      ['Courtnay', 'Dani', 'Dung', 'Elnora']\n",
      "Dung       ['Dani', 'Dejan', 'Elnora', 'Elzabeth']\n",
      "Elnora     ['Dejan', 'Dung', 'Elzabeth', 'Garth']\n",
      "Elzabeth   ['Dung', 'Elnora', 'Garth', 'Heathr']\n",
      "Garth      ['Elnora', 'Elzabeth', 'Heathr', 'Hogan']\n",
      "Heathr     ['Elzabeth', 'Garth', 'Hogan', 'Hunter']\n",
      "Hogan      ['Garth', 'Heathr', 'Hunter', 'Ibeth']\n",
      "Hunter     ['Heathr', 'Hogan', 'Ibeth', 'Isidore']\n",
      "Ibeth      ['Hogan', 'Hunter', 'Isidore', 'Jazzmon']\n",
      "Isidore    ['Hunter', 'Ibeth', 'Jazzmon', 'Jeanell']\n",
      "Jazzmon    ['Ibeth', 'Isidore', 'Jeanell', 'Jermika']\n",
      "Jeanell    ['Isidore', 'Jazzmon', 'Jermika', 'Jermine']\n",
      "Jermika    ['Jazzmon', 'Jeanell', 'Jermine', 'Jeston']\n",
      "Jermine    ['Jeanell', 'Jermika', 'Jeston', 'Johndaniel']\n",
      "Jeston     ['Jermika', 'Jermine', 'Johndaniel', 'Jonika']\n",
      "Johndaniel ['Jermine', 'Jeston', 'Jonika', 'Karisha']\n",
      "Jonika     ['Jeston', 'Johndaniel', 'Karisha', 'Katharine']\n",
      "Karisha    ['Johndaniel', 'Jonika', 'Katharine', 'Kaylor']\n",
      "Katharine  ['Jonika', 'Karisha', 'Kaylor', 'Kezia']\n",
      "Kaylor     ['Karisha', 'Katharine', 'Kezia', 'Kiah']\n",
      "Kezia      ['Katharine', 'Kaylor', 'Kiah', 'Kizzie']\n",
      "Kiah       ['Kaylor', 'Kezia', 'Kizzie', 'Krystyn']\n",
      "Kizzie     ['Kezia', 'Kiah', 'Krystyn', 'Lakeita']\n",
      "Krystyn    ['Kiah', 'Kizzie', 'Lakeita', 'Laria']\n",
      "Lakeita    ['Kizzie', 'Krystyn', 'Laria', 'Lasheika']\n",
      "Laria      ['Krystyn', 'Lakeita', 'Lasheika', 'Lashonda']\n",
      "Lasheika   ['Lakeita', 'Laria', 'Lashonda', 'Lavonte']\n",
      "Lashonda   ['Laria', 'Lasheika', 'Lavonte', 'Laysa']\n",
      "Lavonte    ['Lasheika', 'Lashonda', 'Laysa', 'Leigh']\n",
      "Laysa      ['Lashonda', 'Lavonte', 'Leigh', 'Mareena']\n",
      "Leigh      ['Lavonte', 'Laysa', 'Mareena', 'Marjorie']\n",
      "Mareena    ['Laysa', 'Leigh', 'Marjorie', 'Marleny']\n",
      "Marjorie   ['Leigh', 'Mareena', 'Marnell']\n",
      "Marleny    ['Mareena', 'Marrissa', 'Courtnay']\n",
      "Marnell    ['Marjorie', 'Marrissa', 'Mazin', 'Vernonica']\n",
      "Marrissa   ['Marleny', 'Marnell', 'Mazin', 'Mccall']\n",
      "Mazin      ['Marnell', 'Marrissa', 'Mccall', 'Mickaela']\n",
      "Mccall     ['Marrissa', 'Mazin', 'Mickaela', 'Mirranda']\n",
      "Mickaela   ['Mazin', 'Mccall', 'Mirranda', 'Mystique']\n",
      "Mirranda   ['Mccall', 'Mickaela', 'Mystique', 'Naim']\n",
      "Mystique   ['Mickaela', 'Mirranda', 'Naim', 'Nashea']\n",
      "Naim       ['Mirranda', 'Mystique', 'Nashea', 'Natassja']\n",
      "Nashea     ['Mystique', 'Naim', 'Natassja', 'Nikolaus']\n",
      "Natassja   ['Naim', 'Nashea', 'Nikolaus', 'Noha']\n",
      "Nikolaus   ['Nashea', 'Natassja', 'Noha', 'Patric']\n",
      "Noha       ['Natassja', 'Nikolaus', 'Patric', 'Pearlie']\n",
      "Patric     ['Nikolaus', 'Noha', 'Pearlie', 'Porschia']\n",
      "Pearlie    ['Noha', 'Patric', 'Porschia', 'Racquel']\n",
      "Porschia   ['Patric', 'Pearlie', 'Racquel', 'Raina']\n",
      "Racquel    ['Pearlie', 'Porschia', 'Raina', 'Randalyn']\n",
      "Raina      ['Porschia', 'Racquel', 'Randalyn', 'Raymund']\n",
      "Randalyn   ['Racquel', 'Raina', 'Raymund', 'Rhiannon']\n",
      "Raymund    ['Raina', 'Randalyn', 'Rhiannon', 'Rindy']\n",
      "Rhiannon   ['Randalyn', 'Raymund', 'Rindy']\n",
      "Rindy      ['Raymund', 'Rhiannon', 'Romney', 'Sabreen']\n",
      "Romney     ['Rindy', 'Sabreen', 'Sabreena', 'Brittiney']\n",
      "Sabreen    ['Rindy', 'Romney', 'Sabreena', 'Shaneice']\n",
      "Sabreena   ['Romney', 'Sabreen', 'Shaneice', 'Shaniqua']\n",
      "Shaneice   ['Sabreen', 'Sabreena', 'Shaniqua', 'Shareen']\n",
      "Shaniqua   ['Sabreena', 'Shaneice', 'Shareen', 'Shawta']\n",
      "Shareen    ['Shaneice', 'Shaniqua', 'Shawta', 'Shikita']\n",
      "Shawta     ['Shaniqua', 'Shareen', 'Shikita', 'Simone']\n",
      "Shikita    ['Shareen', 'Shawta', 'Simone', 'Susanne']\n",
      "Simone     ['Shawta', 'Shikita', 'Susanne', 'Tahara']\n",
      "Susanne    ['Shikita', 'Simone', 'Tahara', 'Tahra']\n",
      "Tahara     ['Simone', 'Susanne', 'Tahra', 'Tamilia']\n",
      "Tahra      ['Susanne', 'Tahara', 'Tamilia', 'Ted']\n",
      "Tamilia    ['Tahara', 'Tahra', 'Ted', 'Tinesha']\n",
      "Ted        ['Tahra', 'Tamilia', 'Tinesha', 'Tynetta']\n",
      "Tinesha    ['Tamilia', 'Ted', 'Tynetta', 'Valarie']\n",
      "Tynetta    ['Ted', 'Tinesha', 'Valarie', 'Valine']\n",
      "Valarie    ['Tinesha', 'Tynetta', 'Valine', 'Venetta']\n",
      "Valine     ['Tynetta', 'Valarie', 'Venetta', 'Vernonica']\n",
      "Venetta    ['Valarie', 'Valine', 'Vernonica', 'Viana']\n",
      "Vernonica  ['Valine', 'Venetta', 'Viana', 'Vikram', 'Marnell']\n",
      "Viana      ['Venetta', 'Vernonica', 'Vikram', 'Wafa']\n",
      "Vikram     ['Vernonica', 'Viana', 'Wafa', 'Yakov']\n",
      "Wafa       ['Viana', 'Vikram', 'Yakov', 'Yaw']\n",
      "Yakov      ['Adelia', 'Vikram', 'Wafa', 'Yaw']\n",
      "Yaw        ['Adelia', 'Alexi', 'Wafa', 'Yakov', 'Branson']\n"
     ]
    }
   ],
   "source": [
    "for k,v in edges.items():\n",
    "    print(f'{k:10}', v)"
   ]
  },
  {
   "cell_type": "markdown",
   "metadata": {},
   "source": [
    "### Watts-Strogatz perturbed ring networks\n",
    "\n",
    "Watts & Strogatz showed that lattice networks (of the sort we defined above) can gain small world properties with a very small number of randomly rewired edges, which create long-distance ties:"
   ]
  },
  {
   "cell_type": "code",
   "execution_count": 247,
   "metadata": {},
   "outputs": [],
   "source": [
    "n_perturbations = 4\n",
    "\n",
    "for name in random.sample(names, n_perturbations):\n",
    "    old_name = random.choice(edges[name])\n",
    "    new_name = random.choice(names)\n",
    "    # remove previous edges\n",
    "    edges[name].remove(old_name)\n",
    "    edges[old_name].remove(name)\n",
    "    # add new edges\n",
    "    edges[name].append(new_name)\n",
    "    edges[new_name].append(name)"
   ]
  },
  {
   "cell_type": "markdown",
   "metadata": {},
   "source": [
    "### Barabasi-Albert scale-free networks\n",
    "\n",
    "Scale free networks are defined by their power-law degree distribution: most nodes have very few edges and a few nodes have very many edges.  This describes lots of social networks, such as twitter followers: most people have very few followers, and a small number of accounts have millions of followers.\n",
    "\n",
    "Barabasi & Albert described an algorithm for generating such scale-free networks.\n",
    "\n",
    "This is a preferential attachment model"
   ]
  },
  {
   "cell_type": "code",
   "execution_count": 270,
   "metadata": {},
   "outputs": [
    {
     "name": "stdout",
     "output_type": "stream",
     "text": [
      "   Alfonzo 21\n",
      "    Adelia 19\n",
      "     Amish 17\n",
      "    Archie 14\n",
      "     Arley 12\n",
      "      Dani 12\n",
      "    Carine 10\n",
      "      Dung 10\n",
      "   Branson 9\n",
      "  Benjamen 8\n",
      "     Ibeth 8\n",
      "     Alexi 7\n",
      "   Brenner 7\n",
      "   Jeanell 7\n",
      "     Dejan 6\n",
      "     Arlie 5\n",
      "   Charita 5\n",
      " Cherylann 5\n",
      "    Elnora 5\n",
      "     Hogan 5\n",
      "   Jermine 5\n",
      "   Krystyn 5\n",
      "    Ayonna 4\n",
      "  Courtnay 4\n",
      "    Heathr 4\n",
      "  Lashonda 4\n",
      "   Lavonte 4\n",
      "  Marjorie 4\n",
      "  Marrissa 4\n",
      "    Romney 4\n",
      "      Aser 3\n",
      "     Cezar 3\n",
      "   Isidore 3\n",
      "   Jazzmon 3\n",
      "    Jeston 3\n",
      "Johndaniel 3\n",
      " Katharine 3\n",
      "   Lakeita 3\n",
      "  Lasheika 3\n",
      "      Noha 3\n",
      "   Pearlie 3\n",
      "   Racquel 3\n",
      "   Raymund 3\n",
      "  Rhiannon 3\n",
      "   Sabreen 3\n",
      "    Simone 3\n",
      " Brittiney 2\n",
      " Chrystine 2\n",
      "  Elzabeth 2\n",
      "     Garth 2\n",
      "    Hunter 2\n",
      "   Jermika 2\n",
      "    Jonika 2\n",
      "   Karisha 2\n",
      "    Kaylor 2\n",
      "     Kezia 2\n",
      "      Kiah 2\n",
      "    Kizzie 2\n",
      "     Laria 2\n",
      "     Laysa 2\n",
      "     Leigh 2\n",
      "   Mareena 2\n",
      "   Marleny 2\n",
      "   Marnell 2\n",
      "     Mazin 2\n",
      "    Mccall 2\n",
      "  Mickaela 2\n",
      "  Mirranda 2\n",
      "  Mystique 2\n",
      "      Naim 2\n",
      "    Nashea 2\n",
      "  Natassja 2\n",
      "  Nikolaus 2\n",
      "    Patric 2\n",
      "  Porschia 2\n",
      "     Raina 2\n",
      "  Randalyn 2\n",
      "     Rindy 2\n",
      "  Sabreena 2\n",
      "  Shaneice 2\n",
      "  Shaniqua 2\n",
      "   Shareen 2\n",
      "    Shawta 2\n",
      "   Shikita 2\n",
      "   Susanne 2\n",
      "    Tahara 2\n",
      "     Tahra 2\n",
      "   Tamilia 2\n",
      "       Ted 2\n",
      "   Tinesha 2\n",
      "   Tynetta 2\n",
      "   Valarie 2\n",
      "    Valine 2\n",
      "   Venetta 2\n",
      " Vernonica 2\n",
      "     Viana 2\n",
      "    Vikram 2\n",
      "      Wafa 2\n",
      "     Yakov 2\n",
      "       Yaw 2\n"
     ]
    }
   ],
   "source": [
    "edges = dict(zip(names, [[] for i in range(n)]))\n",
    "\n",
    "m0 = 5 # number of initial nodes\n",
    "m = 2 # new edges per node\n",
    "\n",
    "# initialize with connected graph of m0 nodes (here... ring lattice)\n",
    "for i in range(m0):\n",
    "    j = (i-1) % m0\n",
    "    edges[names[i]].append(names[j])\n",
    "    edges[names[j]].append(names[i])\n",
    "\n",
    "# add new nodes, each with m preferential attachment.\n",
    "for i in range(m0, n):\n",
    "    degree = {k:len(v) for k,v in edges.items() if len(v)>0}\n",
    "    j = 0\n",
    "    while j < m:\n",
    "        target = random.choices([x for x in degree], weights=[v for k,v in degree.items()], k = 1)[0]\n",
    "        edges[names[i]].append(target)\n",
    "        edges[target].append(names[i])\n",
    "        degree.pop(target)\n",
    "        j += 1\n",
    "\n",
    "        \n",
    "for k,v in sorted(edges.items(), key=lambda item: -len(item[1])):\n",
    "    print(f'{k:>10} {len(v)}')\n",
    "\n"
   ]
  },
  {
   "cell_type": "code",
   "execution_count": 256,
   "metadata": {},
   "outputs": [
    {
     "data": {
      "text/plain": [
       "[dict_keys(['Adelia', 'Alexi', 'Alfonzo', 'Amish', 'Archie'])]"
      ]
     },
     "execution_count": 256,
     "metadata": {},
     "output_type": "execute_result"
    }
   ],
   "source": [
    "degree.keys()\n"
   ]
  },
  {
   "cell_type": "code",
   "execution_count": null,
   "metadata": {},
   "outputs": [],
   "source": []
  }
 ],
 "metadata": {
  "kernelspec": {
   "display_name": "Python 3",
   "language": "python",
   "name": "python3"
  },
  "language_info": {
   "codemirror_mode": {
    "name": "ipython",
    "version": 3
   },
   "file_extension": ".py",
   "mimetype": "text/x-python",
   "name": "python",
   "nbconvert_exporter": "python",
   "pygments_lexer": "ipython3",
   "version": "3.8.5"
  }
 },
 "nbformat": 4,
 "nbformat_minor": 4
}