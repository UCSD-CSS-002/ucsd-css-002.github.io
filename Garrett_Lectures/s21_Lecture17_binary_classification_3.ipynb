{
  "nbformat": 4,
  "nbformat_minor": 0,
  "metadata": {
    "colab": {
      "name": "SumII_Lecture_15_binary_classification_3.ipynb",
      "provenance": [],
      "collapsed_sections": []
    },
    "kernelspec": {
      "name": "python3",
      "display_name": "Python 3"
    }
  },
  "cells": [
    {
      "cell_type": "markdown",
      "metadata": {
        "id": "OLujtaxb_xwd",
        "colab_type": "text"
      },
      "source": [
        "Binary Classification 3\n",
        "\n",
        "1. Binary classification with multiple predictors\n",
        "2. Support vector machines\n",
        "\n",
        "As always let's import our libraries"
      ]
    },
    {
      "cell_type": "code",
      "metadata": {
        "id": "bOkUTcUq_n7v",
        "colab_type": "code",
        "colab": {
          "base_uri": "https://localhost:8080/",
          "height": 71
        },
        "outputId": "d338e447-85b4-4fcc-e9f1-86d8bd0c0b05"
      },
      "source": [
        "import seaborn as sns\n",
        "import matplotlib.pyplot as plt\n",
        "import numpy as np\n",
        "import pandas as pd\n",
        "from sklearn.model_selection import train_test_split\n",
        "from sklearn import metrics\n",
        "from sklearn.linear_model import LogisticRegression\n",
        "from sklearn import tree"
      ],
      "execution_count": null,
      "outputs": [
        {
          "output_type": "stream",
          "text": [
            "/usr/local/lib/python3.6/dist-packages/statsmodels/tools/_testing.py:19: FutureWarning: pandas.util.testing is deprecated. Use the functions in the public API at pandas.testing instead.\n",
            "  import pandas.util.testing as tm\n"
          ],
          "name": "stderr"
        }
      ]
    },
    {
      "cell_type": "markdown",
      "metadata": {
        "id": "g7T9vcg6e1nU",
        "colab_type": "text"
      },
      "source": [
        "And just like last class, let's focus on the  MPG dataset and see if we can predict whether a car has an origin from the USA or Not USA using mpg as the predictor"
      ]
    },
    {
      "cell_type": "code",
      "metadata": {
        "id": "M-OSYX9Lmyan",
        "colab_type": "code",
        "colab": {}
      },
      "source": [
        "mpg = sns.load_dataset('mpg')"
      ],
      "execution_count": null,
      "outputs": []
    },
    {
      "cell_type": "code",
      "metadata": {
        "id": "7wK-keChm0r6",
        "colab_type": "code",
        "colab": {}
      },
      "source": [
        "dummy_origin =  pd.get_dummies(mpg['origin'])\n",
        "mpg.insert(len(mpg.columns),'usa',dummy_origin['usa'])"
      ],
      "execution_count": null,
      "outputs": []
    },
    {
      "cell_type": "code",
      "metadata": {
        "id": "3KdvRipHm3NO",
        "colab_type": "code",
        "colab": {
          "base_uri": "https://localhost:8080/",
          "height": 343
        },
        "outputId": "61b8f57e-4c80-4b7e-fe8b-21095374e9c3"
      },
      "source": [
        "mpg.head()"
      ],
      "execution_count": null,
      "outputs": [
        {
          "output_type": "execute_result",
          "data": {
            "text/html": [
              "<div>\n",
              "<style scoped>\n",
              "    .dataframe tbody tr th:only-of-type {\n",
              "        vertical-align: middle;\n",
              "    }\n",
              "\n",
              "    .dataframe tbody tr th {\n",
              "        vertical-align: top;\n",
              "    }\n",
              "\n",
              "    .dataframe thead th {\n",
              "        text-align: right;\n",
              "    }\n",
              "</style>\n",
              "<table border=\"1\" class=\"dataframe\">\n",
              "  <thead>\n",
              "    <tr style=\"text-align: right;\">\n",
              "      <th></th>\n",
              "      <th>mpg</th>\n",
              "      <th>cylinders</th>\n",
              "      <th>displacement</th>\n",
              "      <th>horsepower</th>\n",
              "      <th>weight</th>\n",
              "      <th>acceleration</th>\n",
              "      <th>model_year</th>\n",
              "      <th>origin</th>\n",
              "      <th>name</th>\n",
              "      <th>usa</th>\n",
              "    </tr>\n",
              "  </thead>\n",
              "  <tbody>\n",
              "    <tr>\n",
              "      <th>0</th>\n",
              "      <td>18.0</td>\n",
              "      <td>8</td>\n",
              "      <td>307.0</td>\n",
              "      <td>130.0</td>\n",
              "      <td>3504</td>\n",
              "      <td>12.0</td>\n",
              "      <td>70</td>\n",
              "      <td>usa</td>\n",
              "      <td>chevrolet chevelle malibu</td>\n",
              "      <td>1</td>\n",
              "    </tr>\n",
              "    <tr>\n",
              "      <th>1</th>\n",
              "      <td>15.0</td>\n",
              "      <td>8</td>\n",
              "      <td>350.0</td>\n",
              "      <td>165.0</td>\n",
              "      <td>3693</td>\n",
              "      <td>11.5</td>\n",
              "      <td>70</td>\n",
              "      <td>usa</td>\n",
              "      <td>buick skylark 320</td>\n",
              "      <td>1</td>\n",
              "    </tr>\n",
              "    <tr>\n",
              "      <th>2</th>\n",
              "      <td>18.0</td>\n",
              "      <td>8</td>\n",
              "      <td>318.0</td>\n",
              "      <td>150.0</td>\n",
              "      <td>3436</td>\n",
              "      <td>11.0</td>\n",
              "      <td>70</td>\n",
              "      <td>usa</td>\n",
              "      <td>plymouth satellite</td>\n",
              "      <td>1</td>\n",
              "    </tr>\n",
              "    <tr>\n",
              "      <th>3</th>\n",
              "      <td>16.0</td>\n",
              "      <td>8</td>\n",
              "      <td>304.0</td>\n",
              "      <td>150.0</td>\n",
              "      <td>3433</td>\n",
              "      <td>12.0</td>\n",
              "      <td>70</td>\n",
              "      <td>usa</td>\n",
              "      <td>amc rebel sst</td>\n",
              "      <td>1</td>\n",
              "    </tr>\n",
              "    <tr>\n",
              "      <th>4</th>\n",
              "      <td>17.0</td>\n",
              "      <td>8</td>\n",
              "      <td>302.0</td>\n",
              "      <td>140.0</td>\n",
              "      <td>3449</td>\n",
              "      <td>10.5</td>\n",
              "      <td>70</td>\n",
              "      <td>usa</td>\n",
              "      <td>ford torino</td>\n",
              "      <td>1</td>\n",
              "    </tr>\n",
              "  </tbody>\n",
              "</table>\n",
              "</div>"
            ],
            "text/plain": [
              "    mpg  cylinders  displacement  ...  origin                       name  usa\n",
              "0  18.0          8         307.0  ...     usa  chevrolet chevelle malibu    1\n",
              "1  15.0          8         350.0  ...     usa          buick skylark 320    1\n",
              "2  18.0          8         318.0  ...     usa         plymouth satellite    1\n",
              "3  16.0          8         304.0  ...     usa              amc rebel sst    1\n",
              "4  17.0          8         302.0  ...     usa                ford torino    1\n",
              "\n",
              "[5 rows x 10 columns]"
            ]
          },
          "metadata": {
            "tags": []
          },
          "execution_count": 5
        }
      ]
    },
    {
      "cell_type": "markdown",
      "metadata": {
        "id": "o2pMsJNRe_CY",
        "colab_type": "text"
      },
      "source": [
        "As we saw yesterday, mpg by itself seems like a better good predictor for whether the car is USA or not usa"
      ]
    },
    {
      "cell_type": "code",
      "metadata": {
        "id": "YnPeTlw2nBHz",
        "colab_type": "code",
        "colab": {
          "base_uri": "https://localhost:8080/",
          "height": 296
        },
        "outputId": "fcb69c41-ec7c-42ad-8fd5-b0ba0b804fe7"
      },
      "source": [
        "sns.boxplot(mpg['usa'],mpg['mpg'])"
      ],
      "execution_count": null,
      "outputs": [
        {
          "output_type": "execute_result",
          "data": {
            "text/plain": [
              "<matplotlib.axes._subplots.AxesSubplot at 0x7f06c7d96d68>"
            ]
          },
          "metadata": {
            "tags": []
          },
          "execution_count": 6
        },
        {
          "output_type": "display_data",
          "data": {
            "image/png": "[encoded data removed]",
            "text/plain": [
              "<Figure size 432x288 with 1 Axes>"
            ]
          },
          "metadata": {
            "tags": [],
            "needs_background": "light"
          }
        }
      ]
    },
    {
      "cell_type": "code",
      "metadata": {
        "id": "hn_sFORNnG4o",
        "colab_type": "code",
        "colab": {}
      },
      "source": [
        "Xtrain,Xtest,ytrain,ytest = train_test_split(mpg[['mpg']],mpg['usa'],random_state=1)"
      ],
      "execution_count": null,
      "outputs": []
    },
    {
      "cell_type": "code",
      "metadata": {
        "id": "5v-2upL5ndxh",
        "colab_type": "code",
        "colab": {
          "base_uri": "https://localhost:8080/",
          "height": 51
        },
        "outputId": "0f9113f0-cbd7-43ac-9a7d-3a39e9c1a226"
      },
      "source": [
        "logit_model = LogisticRegression(random_state =1)\n",
        "logit_model = logit_model.fit(Xtrain, ytrain)\n",
        "print(logit_model.score(Xtrain,ytrain))\n",
        "print(logit_model.score(Xtest,ytest))"
      ],
      "execution_count": null,
      "outputs": [
        {
          "output_type": "stream",
          "text": [
            "0.7315436241610739\n",
            "0.8\n"
          ],
          "name": "stdout"
        }
      ]
    },
    {
      "cell_type": "code",
      "metadata": {
        "id": "fPrphAsfnhbs",
        "colab_type": "code",
        "colab": {
          "base_uri": "https://localhost:8080/",
          "height": 51
        },
        "outputId": "51452457-9b2f-45b7-c9c3-8df2f761bd87"
      },
      "source": [
        "tree_model = tree.DecisionTreeClassifier(max_depth=1)\n",
        "tree_model = tree_model.fit(Xtrain, ytrain)\n",
        "print(tree_model.score(Xtrain,ytrain))\n",
        "print(tree_model.score(Xtest,ytest))"
      ],
      "execution_count": null,
      "outputs": [
        {
          "output_type": "stream",
          "text": [
            "0.7651006711409396\n",
            "0.77\n"
          ],
          "name": "stdout"
        }
      ]
    },
    {
      "cell_type": "markdown",
      "metadata": {
        "id": "UE64xe28nwOZ",
        "colab_type": "text"
      },
      "source": [
        "With a single predictor, we do a pretty decent job. >75% is pretty good!"
      ]
    },
    {
      "cell_type": "markdown",
      "metadata": {
        "id": "8AiOhiOtEMU4",
        "colab_type": "text"
      },
      "source": [
        "But we aren't always dealing with one predictor and we can probably do even better with multiple predictors!"
      ]
    },
    {
      "cell_type": "code",
      "metadata": {
        "id": "C2CmE7B9FoPq",
        "colab_type": "code",
        "colab": {
          "base_uri": "https://localhost:8080/",
          "height": 343
        },
        "outputId": "c60ce8d4-f941-466f-b21e-3db9f34e4edc"
      },
      "source": [
        "mpg.head()"
      ],
      "execution_count": null,
      "outputs": [
        {
          "output_type": "execute_result",
          "data": {
            "text/html": [
              "<div>\n",
              "<style scoped>\n",
              "    .dataframe tbody tr th:only-of-type {\n",
              "        vertical-align: middle;\n",
              "    }\n",
              "\n",
              "    .dataframe tbody tr th {\n",
              "        vertical-align: top;\n",
              "    }\n",
              "\n",
              "    .dataframe thead th {\n",
              "        text-align: right;\n",
              "    }\n",
              "</style>\n",
              "<table border=\"1\" class=\"dataframe\">\n",
              "  <thead>\n",
              "    <tr style=\"text-align: right;\">\n",
              "      <th></th>\n",
              "      <th>mpg</th>\n",
              "      <th>cylinders</th>\n",
              "      <th>displacement</th>\n",
              "      <th>horsepower</th>\n",
              "      <th>weight</th>\n",
              "      <th>acceleration</th>\n",
              "      <th>model_year</th>\n",
              "      <th>origin</th>\n",
              "      <th>name</th>\n",
              "      <th>usa</th>\n",
              "    </tr>\n",
              "  </thead>\n",
              "  <tbody>\n",
              "    <tr>\n",
              "      <th>0</th>\n",
              "      <td>18.0</td>\n",
              "      <td>8</td>\n",
              "      <td>307.0</td>\n",
              "      <td>130.0</td>\n",
              "      <td>3504</td>\n",
              "      <td>12.0</td>\n",
              "      <td>70</td>\n",
              "      <td>usa</td>\n",
              "      <td>chevrolet chevelle malibu</td>\n",
              "      <td>1</td>\n",
              "    </tr>\n",
              "    <tr>\n",
              "      <th>1</th>\n",
              "      <td>15.0</td>\n",
              "      <td>8</td>\n",
              "      <td>350.0</td>\n",
              "      <td>165.0</td>\n",
              "      <td>3693</td>\n",
              "      <td>11.5</td>\n",
              "      <td>70</td>\n",
              "      <td>usa</td>\n",
              "      <td>buick skylark 320</td>\n",
              "      <td>1</td>\n",
              "    </tr>\n",
              "    <tr>\n",
              "      <th>2</th>\n",
              "      <td>18.0</td>\n",
              "      <td>8</td>\n",
              "      <td>318.0</td>\n",
              "      <td>150.0</td>\n",
              "      <td>3436</td>\n",
              "      <td>11.0</td>\n",
              "      <td>70</td>\n",
              "      <td>usa</td>\n",
              "      <td>plymouth satellite</td>\n",
              "      <td>1</td>\n",
              "    </tr>\n",
              "    <tr>\n",
              "      <th>3</th>\n",
              "      <td>16.0</td>\n",
              "      <td>8</td>\n",
              "      <td>304.0</td>\n",
              "      <td>150.0</td>\n",
              "      <td>3433</td>\n",
              "      <td>12.0</td>\n",
              "      <td>70</td>\n",
              "      <td>usa</td>\n",
              "      <td>amc rebel sst</td>\n",
              "      <td>1</td>\n",
              "    </tr>\n",
              "    <tr>\n",
              "      <th>4</th>\n",
              "      <td>17.0</td>\n",
              "      <td>8</td>\n",
              "      <td>302.0</td>\n",
              "      <td>140.0</td>\n",
              "      <td>3449</td>\n",
              "      <td>10.5</td>\n",
              "      <td>70</td>\n",
              "      <td>usa</td>\n",
              "      <td>ford torino</td>\n",
              "      <td>1</td>\n",
              "    </tr>\n",
              "  </tbody>\n",
              "</table>\n",
              "</div>"
            ],
            "text/plain": [
              "    mpg  cylinders  displacement  ...  origin                       name  usa\n",
              "0  18.0          8         307.0  ...     usa  chevrolet chevelle malibu    1\n",
              "1  15.0          8         350.0  ...     usa          buick skylark 320    1\n",
              "2  18.0          8         318.0  ...     usa         plymouth satellite    1\n",
              "3  16.0          8         304.0  ...     usa              amc rebel sst    1\n",
              "4  17.0          8         302.0  ...     usa                ford torino    1\n",
              "\n",
              "[5 rows x 10 columns]"
            ]
          },
          "metadata": {
            "tags": []
          },
          "execution_count": 11
        }
      ]
    },
    {
      "cell_type": "markdown",
      "metadata": {
        "id": "OHbCqaKsN3qm",
        "colab_type": "text"
      },
      "source": [
        "Let's look at the scatterplot of total_phenols and proline"
      ]
    },
    {
      "cell_type": "code",
      "metadata": {
        "id": "BZVT7yALELv1",
        "colab_type": "code",
        "colab": {
          "base_uri": "https://localhost:8080/",
          "height": 296
        },
        "outputId": "20241cf3-f5c0-4f0e-e5a6-35a2d1cbabcd"
      },
      "source": [
        "sns.scatterplot(mpg['displacement'],mpg['mpg'],hue=mpg['usa'])"
      ],
      "execution_count": null,
      "outputs": [
        {
          "output_type": "execute_result",
          "data": {
            "text/plain": [
              "<matplotlib.axes._subplots.AxesSubplot at 0x7f06c7dd74e0>"
            ]
          },
          "metadata": {
            "tags": []
          },
          "execution_count": 20
        },
        {
          "output_type": "display_data",
          "data": {
            "image/png": "[encoded data removed]",
            "text/plain": [
              "<Figure size 432x288 with 1 Axes>"
            ]
          },
          "metadata": {
            "tags": [],
            "needs_background": "light"
          }
        }
      ]
    },
    {
      "cell_type": "markdown",
      "metadata": {
        "id": "FClUgTv5N7Qm",
        "colab_type": "text"
      },
      "source": [
        "Using both predictors, we can probably do an even better job of separating groups 0 and 1!"
      ]
    },
    {
      "cell_type": "code",
      "metadata": {
        "id": "rwTWD3C9JD4f",
        "colab_type": "code",
        "colab": {}
      },
      "source": [
        "X = mpg[['displacement','mpg']]"
      ],
      "execution_count": null,
      "outputs": []
    },
    {
      "cell_type": "code",
      "metadata": {
        "id": "PB8xIwAZJHd5",
        "colab_type": "code",
        "colab": {}
      },
      "source": [
        "Xtrain,Xtest,ytrain,ytest = train_test_split(X,mpg['usa'],random_state=1)"
      ],
      "execution_count": null,
      "outputs": []
    },
    {
      "cell_type": "markdown",
      "metadata": {
        "id": "Q1JPuj5COOso",
        "colab_type": "text"
      },
      "source": [
        "And now let's this new data with a logistic regression"
      ]
    },
    {
      "cell_type": "code",
      "metadata": {
        "id": "TygGFbh9JRPz",
        "colab_type": "code",
        "colab": {}
      },
      "source": [
        "logit_model2 = LogisticRegression()\n",
        "logit_model2 = logit_model.fit(Xtrain, ytrain)"
      ],
      "execution_count": null,
      "outputs": []
    },
    {
      "cell_type": "markdown",
      "metadata": {
        "id": "_JL3byv0Pb4I",
        "colab_type": "text"
      },
      "source": [
        "And let's see the score of the train and test"
      ]
    },
    {
      "cell_type": "code",
      "metadata": {
        "id": "sxP2reruHBi7",
        "colab_type": "code",
        "colab": {
          "base_uri": "https://localhost:8080/",
          "height": 51
        },
        "outputId": "8a9ba4da-c830-4d29-d3c9-bf9c68c36ffa"
      },
      "source": [
        "print(logit_model.score(Xtrain,ytrain))\n",
        "print(logit_model.score(Xtest,ytest))"
      ],
      "execution_count": null,
      "outputs": [
        {
          "output_type": "stream",
          "text": [
            "0.8557046979865772\n",
            "0.88\n"
          ],
          "name": "stdout"
        }
      ]
    },
    {
      "cell_type": "markdown",
      "metadata": {
        "id": "05_Kgk3wPebe",
        "colab_type": "text"
      },
      "source": [
        "\n",
        "Just like with linear regression, its hard to see what this fit looks like in logistic regression when there are multiple predictors\n",
        "\n",
        "Let's take a peek with a tree diagram"
      ]
    },
    {
      "cell_type": "code",
      "metadata": {
        "id": "0BtoG-37oxUi",
        "colab_type": "code",
        "colab": {
          "base_uri": "https://localhost:8080/",
          "height": 51
        },
        "outputId": "028d8517-ceb5-45ad-914a-bb5a9f49d608"
      },
      "source": [
        "tree_model2 = tree.DecisionTreeClassifier(max_depth=1)\n",
        "tree_model2.fit(Xtrain, ytrain)\n",
        "print(tree_model2.score(Xtrain,ytrain))\n",
        "print(tree_model2.score(Xtest,ytest))"
      ],
      "execution_count": null,
      "outputs": [
        {
          "output_type": "stream",
          "text": [
            "0.8590604026845637\n",
            "0.9\n"
          ],
          "name": "stdout"
        }
      ]
    },
    {
      "cell_type": "markdown",
      "metadata": {
        "id": "G6WtvS-oISpd",
        "colab_type": "text"
      },
      "source": [
        "Try playing around with the max_depth and you will see at what level the decision tree uses both dfeatures."
      ]
    },
    {
      "cell_type": "code",
      "metadata": {
        "id": "phaha3RxHSH3",
        "colab_type": "code",
        "colab": {
          "base_uri": "https://localhost:8080/",
          "height": 51
        },
        "outputId": "c5f5e02a-a620-41b9-d673-9daf18cc73fd"
      },
      "source": [
        "tree_model3 = tree.DecisionTreeClassifier(max_depth=3) \n",
        "tree_model3.fit(Xtrain, ytrain)\n",
        "print(tree_model3.score(Xtrain,ytrain))\n",
        "print(tree_model3.score(Xtest,ytest))"
      ],
      "execution_count": null,
      "outputs": [
        {
          "output_type": "stream",
          "text": [
            "0.9093959731543624\n",
            "0.84\n"
          ],
          "name": "stdout"
        }
      ]
    },
    {
      "cell_type": "code",
      "metadata": {
        "id": "xs4fPKQuHbmE",
        "colab_type": "code",
        "colab": {
          "base_uri": "https://localhost:8080/",
          "height": 924
        },
        "outputId": "88274fb3-d5d0-4e20-e1f5-a0471a9b46f1"
      },
      "source": [
        "plt.figure(figsize=[12,12])\n",
        "tree.plot_tree(tree_model3)"
      ],
      "execution_count": null,
      "outputs": [
        {
          "output_type": "execute_result",
          "data": {
            "text/plain": [
              "[Text(386.3076923076923, 570.7800000000001, 'X[0] <= 134.5\\ngini = 0.469\\nsamples = 298\\nvalue = [112, 186]'),\n",
              " Text(206.03076923076924, 407.70000000000005, 'X[0] <= 97.5\\ngini = 0.355\\nsamples = 130\\nvalue = [100, 30]'),\n",
              " Text(103.01538461538462, 244.62, 'X[1] <= 29.25\\ngini = 0.1\\nsamples = 57\\nvalue = [54, 3]'),\n",
              " Text(51.50769230769231, 81.53999999999996, 'gini = 0.198\\nsamples = 18\\nvalue = [16, 2]'),\n",
              " Text(154.52307692307693, 81.53999999999996, 'gini = 0.05\\nsamples = 39\\nvalue = [38, 1]'),\n",
              " Text(309.04615384615386, 244.62, 'X[0] <= 106.0\\ngini = 0.466\\nsamples = 73\\nvalue = [46, 27]'),\n",
              " Text(257.53846153846155, 81.53999999999996, 'gini = 0.397\\nsamples = 22\\nvalue = [6, 16]'),\n",
              " Text(360.55384615384617, 81.53999999999996, 'gini = 0.338\\nsamples = 51\\nvalue = [40, 11]'),\n",
              " Text(566.5846153846154, 407.70000000000005, 'X[0] <= 190.5\\ngini = 0.133\\nsamples = 168\\nvalue = [12, 156]'),\n",
              " Text(515.0769230769231, 244.62, 'X[0] <= 159.5\\ngini = 0.426\\nsamples = 39\\nvalue = [12, 27]'),\n",
              " Text(463.5692307692308, 81.53999999999996, 'gini = 0.327\\nsamples = 34\\nvalue = [7, 27]'),\n",
              " Text(566.5846153846154, 81.53999999999996, 'gini = 0.0\\nsamples = 5\\nvalue = [5, 0]'),\n",
              " Text(618.0923076923077, 244.62, 'gini = 0.0\\nsamples = 129\\nvalue = [0, 129]')]"
            ]
          },
          "metadata": {
            "tags": []
          },
          "execution_count": 57
        },
        {
          "output_type": "display_data",
          "data": {
            "image/png": "[encoded data removed]",
            "text/plain": [
              "<Figure size 864x864 with 1 Axes>"
            ]
          },
          "metadata": {
            "tags": [],
            "needs_background": "light"
          }
        }
      ]
    },
    {
      "cell_type": "markdown",
      "metadata": {
        "id": "LgtgR9odPxUR",
        "colab_type": "text"
      },
      "source": [
        "With max_depth 1 or 2, it only considered X[1] (i.e., the second column of data) and basically splits with just that column. Accuracy doesn't change much either\n",
        "\n",
        "With a max_depth of 3, you can see it using X[0] in some of the branches. And our accuracy is better! Nice!"
      ]
    },
    {
      "cell_type": "markdown",
      "metadata": {
        "id": "8PRvkWAVMk3w",
        "colab_type": "text"
      },
      "source": [
        "But there is another really useful method for binary classification\n",
        "\n",
        "Support vector classification \n",
        "\n",
        "https://en.wikipedia.org/wiki/Support_vector_machine#Linear_SVM\n",
        "\n",
        "And let's import the library"
      ]
    },
    {
      "cell_type": "code",
      "metadata": {
        "id": "HeG7lutmMvFE",
        "colab_type": "code",
        "colab": {}
      },
      "source": [
        "from sklearn.svm import SVC"
      ],
      "execution_count": null,
      "outputs": []
    },
    {
      "cell_type": "markdown",
      "metadata": {
        "id": "ZzoBxLlzQ7fn",
        "colab_type": "text"
      },
      "source": [
        "Here, we will create an instance of the model with a linear kernal, meaning it will separate the data using just a line"
      ]
    },
    {
      "cell_type": "code",
      "metadata": {
        "id": "DBCQ5u_9M1zm",
        "colab_type": "code",
        "colab": {
          "base_uri": "https://localhost:8080/",
          "height": 85
        },
        "outputId": "69853883-4ba1-4ca0-9ff0-f61386842f38"
      },
      "source": [
        "svc_model = SVC(kernel='linear')\n",
        "svc_model.fit(Xtrain, ytrain)"
      ],
      "execution_count": null,
      "outputs": [
        {
          "output_type": "execute_result",
          "data": {
            "text/plain": [
              "SVC(C=1.0, break_ties=False, cache_size=200, class_weight=None, coef0=0.0,\n",
              "    decision_function_shape='ovr', degree=3, gamma='scale', kernel='linear',\n",
              "    max_iter=-1, probability=False, random_state=None, shrinking=True,\n",
              "    tol=0.001, verbose=False)"
            ]
          },
          "metadata": {
            "tags": []
          },
          "execution_count": 59
        }
      ]
    },
    {
      "cell_type": "markdown",
      "metadata": {
        "id": "LV2qf24jRJLL",
        "colab_type": "text"
      },
      "source": [
        "Let's check the accuracy of this SVC model."
      ]
    },
    {
      "cell_type": "code",
      "metadata": {
        "id": "F_fu3UJUOT_z",
        "colab_type": "code",
        "colab": {
          "base_uri": "https://localhost:8080/",
          "height": 51
        },
        "outputId": "05de807d-3b0a-42b1-fd08-52de07a03827"
      },
      "source": [
        "print(svc_model.score(Xtrain,ytrain))\n",
        "print(svc_model.score(Xtest,ytest))"
      ],
      "execution_count": null,
      "outputs": [
        {
          "output_type": "stream",
          "text": [
            "0.8523489932885906\n",
            "0.88\n"
          ],
          "name": "stdout"
        }
      ]
    },
    {
      "cell_type": "markdown",
      "metadata": {
        "id": "ble2aVEoRMCz",
        "colab_type": "text"
      },
      "source": [
        "Pretty good!\n",
        "\n",
        "We can check the predictions. Again, it returns a 1 or 0 on whether it thinks the data will belong to group 1 or 0"
      ]
    },
    {
      "cell_type": "code",
      "metadata": {
        "id": "biA7MtmHLKvf",
        "colab_type": "code",
        "colab": {
          "base_uri": "https://localhost:8080/",
          "height": 255
        },
        "outputId": "b801872c-e67b-46c0-901b-6bfed13b1e1d"
      },
      "source": [
        "svc_model.predict(Xtrain)"
      ],
      "execution_count": null,
      "outputs": [
        {
          "output_type": "execute_result",
          "data": {
            "text/plain": [
              "array([1, 1, 1, 0, 1, 1, 0, 0, 1, 1, 1, 0, 0, 1, 0, 0, 1, 1, 1, 0, 0, 0,\n",
              "       0, 1, 0, 0, 1, 0, 0, 1, 0, 0, 1, 0, 1, 1, 0, 1, 0, 0, 1, 1, 1, 0,\n",
              "       0, 0, 1, 1, 1, 1, 1, 1, 1, 0, 1, 1, 1, 0, 0, 1, 1, 0, 0, 0, 1, 1,\n",
              "       1, 1, 0, 1, 1, 0, 1, 1, 0, 0, 1, 1, 0, 0, 0, 1, 1, 1, 0, 0, 1, 1,\n",
              "       1, 0, 0, 0, 0, 0, 1, 0, 0, 0, 1, 1, 1, 0, 1, 0, 1, 0, 0, 1, 0, 0,\n",
              "       1, 0, 1, 0, 1, 0, 1, 0, 1, 1, 1, 1, 1, 1, 0, 1, 1, 0, 1, 0, 1, 1,\n",
              "       1, 0, 1, 1, 0, 0, 0, 1, 0, 1, 1, 1, 0, 1, 1, 1, 1, 0, 1, 1, 0, 1,\n",
              "       0, 1, 1, 1, 1, 1, 1, 0, 0, 1, 0, 1, 0, 1, 0, 0, 1, 1, 0, 0, 1, 1,\n",
              "       0, 0, 0, 1, 0, 0, 1, 1, 1, 1, 1, 0, 1, 1, 0, 1, 0, 1, 1, 0, 0, 1,\n",
              "       1, 0, 0, 1, 1, 1, 0, 1, 1, 0, 0, 1, 0, 1, 1, 1, 0, 0, 1, 0, 1, 1,\n",
              "       0, 0, 1, 0, 0, 1, 0, 1, 1, 1, 0, 0, 1, 0, 1, 0, 1, 0, 1, 1, 1, 1,\n",
              "       1, 0, 1, 1, 1, 1, 1, 1, 1, 0, 1, 1, 1, 0, 0, 1, 1, 1, 1, 1, 0, 1,\n",
              "       0, 1, 1, 1, 0, 0, 0, 1, 0, 1, 0, 1, 1, 1, 0, 1, 1, 0, 1, 0, 0, 1,\n",
              "       0, 0, 0, 0, 0, 1, 0, 1, 1, 1, 0, 1], dtype=uint8)"
            ]
          },
          "metadata": {
            "tags": []
          },
          "execution_count": 61
        }
      ]
    },
    {
      "cell_type": "markdown",
      "metadata": {
        "id": "2vHh-VPTwgmr",
        "colab_type": "text"
      },
      "source": [
        "We can view our support vectors, which are the datapoints on the margin"
      ]
    },
    {
      "cell_type": "code",
      "metadata": {
        "id": "FoJKuMBjwNcP",
        "colab_type": "code",
        "colab": {}
      },
      "source": [
        "svc_model.support_vectors_"
      ],
      "execution_count": null,
      "outputs": []
    },
    {
      "cell_type": "markdown",
      "metadata": {
        "id": "xzzevDYq0vsq",
        "colab_type": "text"
      },
      "source": [
        "And plot them onto our data. This gives us a quick look into how ou data was separate"
      ]
    },
    {
      "cell_type": "code",
      "metadata": {
        "id": "ahTht5LUp2LI",
        "colab_type": "code",
        "colab": {}
      },
      "source": [
        "Xtrain"
      ],
      "execution_count": null,
      "outputs": []
    },
    {
      "cell_type": "code",
      "metadata": {
        "id": "c5c4shgRwT6w",
        "colab_type": "code",
        "colab": {
          "base_uri": "https://localhost:8080/",
          "height": 296
        },
        "outputId": "1dfa2016-5a5c-46ef-ebec-2118a0d30ae4"
      },
      "source": [
        "sns.scatterplot(Xtrain['displacement'], Xtrain['mpg'], hue=ytrain)\n",
        "sns.scatterplot(svc_model.support_vectors_[:,0],svc_model.support_vectors_[:,1],color='k')"
      ],
      "execution_count": null,
      "outputs": [
        {
          "output_type": "execute_result",
          "data": {
            "text/plain": [
              "<matplotlib.axes._subplots.AxesSubplot at 0x7f06c43bc1d0>"
            ]
          },
          "metadata": {
            "tags": []
          },
          "execution_count": 65
        },
        {
          "output_type": "display_data",
          "data": {
            "image/png": "[encoded data removed]",
            "text/plain": [
              "<Figure size 432x288 with 1 Axes>"
            ]
          },
          "metadata": {
            "tags": [],
            "needs_background": "light"
          }
        }
      ]
    },
    {
      "cell_type": "markdown",
      "metadata": {
        "id": "YhrCZX0o0084",
        "colab_type": "text"
      },
      "source": [
        "Alterantively, we can plot our margin using the coef_ and intercept_ of the model.\n",
        "\n",
        "Note: this is specific to linear SVC"
      ]
    },
    {
      "cell_type": "code",
      "metadata": {
        "id": "FEyrseu_LZ3v",
        "colab_type": "code",
        "colab": {
          "base_uri": "https://localhost:8080/",
          "height": 34
        },
        "outputId": "f32cc9e0-a941-403b-8e21-b3577df898ed"
      },
      "source": [
        "svc_model.coef_"
      ],
      "execution_count": null,
      "outputs": [
        {
          "output_type": "execute_result",
          "data": {
            "text/plain": [
              "array([[0.03930158, 0.03649028]])"
            ]
          },
          "metadata": {
            "tags": []
          },
          "execution_count": 66
        }
      ]
    },
    {
      "cell_type": "code",
      "metadata": {
        "id": "psGFUyKZLsTw",
        "colab_type": "code",
        "colab": {
          "base_uri": "https://localhost:8080/",
          "height": 34
        },
        "outputId": "14fd4177-86ff-44b9-b582-22fdc56ca12e"
      },
      "source": [
        "svc_model.intercept_"
      ],
      "execution_count": null,
      "outputs": [
        {
          "output_type": "execute_result",
          "data": {
            "text/plain": [
              "array([-6.07851401])"
            ]
          },
          "metadata": {
            "tags": []
          },
          "execution_count": 67
        }
      ]
    },
    {
      "cell_type": "markdown",
      "metadata": {
        "id": "PgvplfgLS2Xr",
        "colab_type": "text"
      },
      "source": [
        "To use the coef_ and intercept, we need to do a few things. First, let's pull out the coefficents, which are basically weights"
      ]
    },
    {
      "cell_type": "code",
      "metadata": {
        "id": "H_aRmmrfxzKM",
        "colab_type": "code",
        "colab": {
          "base_uri": "https://localhost:8080/",
          "height": 34
        },
        "outputId": "af92c526-39ce-4e8f-b206-ad8a71bec798"
      },
      "source": [
        "w = svc_model.coef_[0]\n",
        "print(w)"
      ],
      "execution_count": null,
      "outputs": [
        {
          "output_type": "stream",
          "text": [
            "[0.03930158 0.03649028]\n"
          ],
          "name": "stdout"
        }
      ]
    },
    {
      "cell_type": "markdown",
      "metadata": {
        "id": "aL6DzWVo1EGr",
        "colab_type": "text"
      },
      "source": [
        "Dividing them basically gets us a slope"
      ]
    },
    {
      "cell_type": "code",
      "metadata": {
        "id": "afqwwmu7x0sF",
        "colab_type": "code",
        "colab": {
          "base_uri": "https://localhost:8080/",
          "height": 34
        },
        "outputId": "84cf5c88-9da7-45ee-c40b-7b73470dac55"
      },
      "source": [
        "slope = -w[0] / w[1] \n",
        "print(slope)"
      ],
      "execution_count": null,
      "outputs": [
        {
          "output_type": "stream",
          "text": [
            "-1.077042303084694\n"
          ],
          "name": "stdout"
        }
      ]
    },
    {
      "cell_type": "markdown",
      "metadata": {
        "id": "6GWcaFdX1GrJ",
        "colab_type": "text"
      },
      "source": [
        "Our intercept needs to be adjusted by the weight of the y-axis"
      ]
    },
    {
      "cell_type": "code",
      "metadata": {
        "id": "p3YmJ6PqyUPL",
        "colab_type": "code",
        "colab": {
          "base_uri": "https://localhost:8080/",
          "height": 34
        },
        "outputId": "02081ee8-8a09-43d5-934b-c8b929b91e42"
      },
      "source": [
        "intercept = -svc_model.intercept_[0]/w[1]\n",
        "print(intercept)"
      ],
      "execution_count": null,
      "outputs": [
        {
          "output_type": "stream",
          "text": [
            "166.57897509328433\n"
          ],
          "name": "stdout"
        }
      ]
    },
    {
      "cell_type": "markdown",
      "metadata": {
        "id": "Ik3-7c2X1LwO",
        "colab_type": "text"
      },
      "source": [
        "Then, using Xtrain as the X in our y = m*x + b equation, we can derive our line"
      ]
    },
    {
      "cell_type": "code",
      "metadata": {
        "id": "rTSJuZOqzEd-",
        "colab_type": "code",
        "colab": {}
      },
      "source": [
        "yy = slope * Xtrain['displacement'] + intercept"
      ],
      "execution_count": null,
      "outputs": []
    },
    {
      "cell_type": "markdown",
      "metadata": {
        "id": "D67-AFYf1QnY",
        "colab_type": "text"
      },
      "source": [
        "Let's put this all on the plot"
      ]
    },
    {
      "cell_type": "code",
      "metadata": {
        "id": "4Evr0-j7NcTP",
        "colab_type": "code",
        "colab": {
          "base_uri": "https://localhost:8080/",
          "height": 300
        },
        "outputId": "0911eee4-05eb-4dbd-f6bd-fd8e588ac2e5"
      },
      "source": [
        "sns.scatterplot(Xtrain['displacement'], Xtrain['mpg'], hue=ytrain)\n",
        "plt.plot(Xtrain['displacement'], yy)\n",
        "sns.scatterplot(svc_model.support_vectors_[:,0],svc_model.support_vectors_[:,1],color='k')\n",
        "plt.ylim([0,50])"
      ],
      "execution_count": null,
      "outputs": [
        {
          "output_type": "execute_result",
          "data": {
            "text/plain": [
              "(0.0, 50.0)"
            ]
          },
          "metadata": {
            "tags": []
          },
          "execution_count": 75
        },
        {
          "output_type": "display_data",
          "data": {
            "image/png": "[encoded data removed]",
            "text/plain": [
              "<Figure size 432x288 with 1 Axes>"
            ]
          },
          "metadata": {
            "tags": [],
            "needs_background": "light"
          }
        }
      ]
    },
    {
      "cell_type": "markdown",
      "metadata": {
        "id": "R3379k_o1SMj",
        "colab_type": "text"
      },
      "source": [
        "Looks good!\n",
        "\n",
        "We can do this with the testing data too to get a feel for how well it separated it"
      ]
    },
    {
      "cell_type": "code",
      "metadata": {
        "id": "5QeW_fGLz0Rf",
        "colab_type": "code",
        "colab": {
          "base_uri": "https://localhost:8080/",
          "height": 300
        },
        "outputId": "25ac3acd-1964-49fb-9106-44b700035ca9"
      },
      "source": [
        "yy = slope * Xtest['displacement'] + intercept\n",
        "\n",
        "sns.scatterplot(Xtest['displacement'], Xtest['mpg'], hue=ytest)\n",
        "plt.plot(Xtest['displacement'], yy)\n",
        "plt.ylim([0,50])"
      ],
      "execution_count": null,
      "outputs": [
        {
          "output_type": "execute_result",
          "data": {
            "text/plain": [
              "(0.0, 50.0)"
            ]
          },
          "metadata": {
            "tags": []
          },
          "execution_count": 77
        },
        {
          "output_type": "display_data",
          "data": {
            "image/png": "[encoded data removed]",
            "text/plain": [
              "<Figure size 432x288 with 1 Axes>"
            ]
          },
          "metadata": {
            "tags": [],
            "needs_background": "light"
          }
        }
      ]
    },
    {
      "cell_type": "markdown",
      "metadata": {
        "id": "QlDH8j8b2Uhn",
        "colab_type": "text"
      },
      "source": [
        "Here is another method to generate the margin. Its a bit more complex"
      ]
    },
    {
      "cell_type": "code",
      "metadata": {
        "id": "dTwWMIKmz-9u",
        "colab_type": "code",
        "colab": {
          "base_uri": "https://localhost:8080/",
          "height": 300
        },
        "outputId": "b47e6750-1fed-49a1-f3ce-ef44a872f6c8"
      },
      "source": [
        "sns.scatterplot(Xtrain['displacement'], Xtrain['mpg'],hue=ytrain)\n",
        "\n",
        "# create grid to evaluate model\n",
        "xx = np.linspace(0, 500, 30)  # works best if you know the xlim[0] and xlim[1]\n",
        "yy = np.linspace(0,60, 30)  # works best if you know the ylim[0] and ylim[1]\n",
        "YY, XX = np.meshgrid(yy, xx)\n",
        "xy = np.vstack([XX.ravel(), YY.ravel()]).T\n",
        "Z = svc_model.decision_function(xy).reshape(XX.shape)\n",
        "\n",
        "# plot decision boundary and margins\n",
        "plt.contour(XX, YY, Z, colors='k', levels=[-1, 0, 1], alpha=0.5,\n",
        "           linestyles=['--', '-', '--'])"
      ],
      "execution_count": null,
      "outputs": [
        {
          "output_type": "execute_result",
          "data": {
            "text/plain": [
              "<matplotlib.contour.QuadContourSet at 0x7f06c72cb2e8>"
            ]
          },
          "metadata": {
            "tags": []
          },
          "execution_count": 79
        },
        {
          "output_type": "display_data",
          "data": {
            "image/png": "[encoded data removed]",
            "text/plain": [
              "<Figure size 432x288 with 1 Axes>"
            ]
          },
          "metadata": {
            "tags": [],
            "needs_background": "light"
          }
        }
      ]
    },
    {
      "cell_type": "markdown",
      "metadata": {
        "id": "huIdPWQv2dEw",
        "colab_type": "text"
      },
      "source": [
        "That's pretty much most of what I wanted to cover of binary classification\n",
        "\n",
        "There are other types of classification techniques (Random forest, perceptron, k-nearest neighbors) and we could certainly spend a lot more time talking about the naunces of Decision Trees and Support Vector machines.\n",
        "\n",
        "For now, I think this should give you a basic idea of how to conduct classification, what is happening, and how to evaluate the classification\n",
        "\n",
        "Next, we will cover what cross-validation is because it concerns how we conduct our machine learning"
      ]
    }
  ]
}